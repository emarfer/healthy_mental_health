{
 "cells": [
  {
   "cell_type": "code",
   "execution_count": 11,
   "id": "e95e44dc",
   "metadata": {},
   "outputs": [],
   "source": [
    "import pandas as pd\n",
    "import os\n",
    "import geopandas as gpd\n",
    "from keplergl import KeplerGl\n",
    "import json\n"
   ]
  },
  {
   "cell_type": "code",
   "execution_count": 3,
   "id": "99a2dd59",
   "metadata": {},
   "outputs": [],
   "source": [
    "morbi = pd.read_csv('../data/morbilidad_Fgen.csv')"
   ]
  },
  {
   "cell_type": "code",
   "execution_count": 4,
   "id": "1fa29847",
   "metadata": {},
   "outputs": [
    {
     "data": {
      "text/html": [
       "<div>\n",
       "<style scoped>\n",
       "    .dataframe tbody tr th:only-of-type {\n",
       "        vertical-align: middle;\n",
       "    }\n",
       "\n",
       "    .dataframe tbody tr th {\n",
       "        vertical-align: top;\n",
       "    }\n",
       "\n",
       "    .dataframe thead th {\n",
       "        text-align: right;\n",
       "    }\n",
       "</style>\n",
       "<table border=\"1\" class=\"dataframe\">\n",
       "  <thead>\n",
       "    <tr style=\"text-align: right;\">\n",
       "      <th></th>\n",
       "      <th>ProvHosp</th>\n",
       "      <th>Sexo</th>\n",
       "      <th>ProvResi</th>\n",
       "      <th>DiagEntr</th>\n",
       "      <th>DiagPrin</th>\n",
       "      <th>MotivoAlta</th>\n",
       "      <th>Edad</th>\n",
       "      <th>Dias</th>\n",
       "      <th>Factor</th>\n",
       "      <th>code</th>\n",
       "      <th>...</th>\n",
       "      <th>fecha_al</th>\n",
       "      <th>fecha_ing</th>\n",
       "      <th>year</th>\n",
       "      <th>month</th>\n",
       "      <th>day</th>\n",
       "      <th>Entrada</th>\n",
       "      <th>Alta</th>\n",
       "      <th>SexNom</th>\n",
       "      <th>ProvHosp_nom</th>\n",
       "      <th>ProvResi_nom</th>\n",
       "    </tr>\n",
       "  </thead>\n",
       "  <tbody>\n",
       "    <tr>\n",
       "      <th>21172</th>\n",
       "      <td>4</td>\n",
       "      <td>1</td>\n",
       "      <td>4</td>\n",
       "      <td>2</td>\n",
       "      <td>F1229</td>\n",
       "      <td>1</td>\n",
       "      <td>34</td>\n",
       "      <td>13</td>\n",
       "      <td>1.00000</td>\n",
       "      <td>F12</td>\n",
       "      <td>...</td>\n",
       "      <td>2016-04-13</td>\n",
       "      <td>2016-03-31</td>\n",
       "      <td>2016</td>\n",
       "      <td>3</td>\n",
       "      <td>31</td>\n",
       "      <td>Urgente</td>\n",
       "      <td>Curación</td>\n",
       "      <td>Hombre</td>\n",
       "      <td>Almería</td>\n",
       "      <td>Almería</td>\n",
       "    </tr>\n",
       "    <tr>\n",
       "      <th>5953</th>\n",
       "      <td>8</td>\n",
       "      <td>2</td>\n",
       "      <td>8</td>\n",
       "      <td>2</td>\n",
       "      <td>F05</td>\n",
       "      <td>2</td>\n",
       "      <td>83</td>\n",
       "      <td>43</td>\n",
       "      <td>1.00504</td>\n",
       "      <td>F05</td>\n",
       "      <td>...</td>\n",
       "      <td>2016-04-19</td>\n",
       "      <td>2016-03-07</td>\n",
       "      <td>2016</td>\n",
       "      <td>3</td>\n",
       "      <td>7</td>\n",
       "      <td>Urgente</td>\n",
       "      <td>Traslado</td>\n",
       "      <td>Mujer</td>\n",
       "      <td>Barcelona</td>\n",
       "      <td>Barcelona</td>\n",
       "    </tr>\n",
       "    <tr>\n",
       "      <th>323462</th>\n",
       "      <td>43</td>\n",
       "      <td>2</td>\n",
       "      <td>43</td>\n",
       "      <td>2</td>\n",
       "      <td>F609</td>\n",
       "      <td>1</td>\n",
       "      <td>39</td>\n",
       "      <td>3</td>\n",
       "      <td>1.02709</td>\n",
       "      <td>F60</td>\n",
       "      <td>...</td>\n",
       "      <td>2018-02-12</td>\n",
       "      <td>2018-02-09</td>\n",
       "      <td>2018</td>\n",
       "      <td>2</td>\n",
       "      <td>9</td>\n",
       "      <td>Urgente</td>\n",
       "      <td>Curación</td>\n",
       "      <td>Mujer</td>\n",
       "      <td>Tarragona</td>\n",
       "      <td>Tarragona</td>\n",
       "    </tr>\n",
       "  </tbody>\n",
       "</table>\n",
       "<p>3 rows × 21 columns</p>\n",
       "</div>"
      ],
      "text/plain": [
       "        ProvHosp  Sexo  ProvResi  DiagEntr DiagPrin  MotivoAlta  Edad  Dias  \\\n",
       "21172          4     1         4         2    F1229           1    34    13   \n",
       "5953           8     2         8         2      F05           2    83    43   \n",
       "323462        43     2        43         2     F609           1    39     3   \n",
       "\n",
       "         Factor code  ...    fecha_al   fecha_ing  year  month  day  Entrada  \\\n",
       "21172   1.00000  F12  ...  2016-04-13  2016-03-31  2016      3   31  Urgente   \n",
       "5953    1.00504  F05  ...  2016-04-19  2016-03-07  2016      3    7  Urgente   \n",
       "323462  1.02709  F60  ...  2018-02-12  2018-02-09  2018      2    9  Urgente   \n",
       "\n",
       "            Alta  SexNom ProvHosp_nom ProvResi_nom  \n",
       "21172   Curación  Hombre      Almería      Almería  \n",
       "5953    Traslado   Mujer    Barcelona    Barcelona  \n",
       "323462  Curación   Mujer    Tarragona    Tarragona  \n",
       "\n",
       "[3 rows x 21 columns]"
      ]
     },
     "execution_count": 4,
     "metadata": {},
     "output_type": "execute_result"
    }
   ],
   "source": [
    "morbi.sample(3)"
   ]
  },
  {
   "cell_type": "code",
   "execution_count": 5,
   "id": "7e98b610-9b10-4b17-9e10-55ba113344e2",
   "metadata": {},
   "outputs": [],
   "source": [
    "morbi.fecha_ing =  pd.to_datetime(morbi.fecha_ing)\n",
    "morbi.fecha_al =  pd.to_datetime(morbi.fecha_al)"
   ]
  },
  {
   "cell_type": "code",
   "execution_count": 6,
   "id": "b851576a-af4a-4db1-9ddb-ddcf8ad86d0f",
   "metadata": {},
   "outputs": [
    {
     "name": "stdout",
     "output_type": "stream",
     "text": [
      "<class 'pandas.core.frame.DataFrame'>\n",
      "RangeIndex: 438929 entries, 0 to 438928\n",
      "Data columns (total 21 columns):\n",
      " #   Column        Non-Null Count   Dtype         \n",
      "---  ------        --------------   -----         \n",
      " 0   ProvHosp      438929 non-null  int64         \n",
      " 1   Sexo          438929 non-null  int64         \n",
      " 2   ProvResi      438929 non-null  int64         \n",
      " 3   DiagEntr      438929 non-null  int64         \n",
      " 4   DiagPrin      438929 non-null  object        \n",
      " 5   MotivoAlta    438929 non-null  int64         \n",
      " 6   Edad          438929 non-null  int64         \n",
      " 7   Dias          438929 non-null  int64         \n",
      " 8   Factor        438929 non-null  float64       \n",
      " 9   code          438929 non-null  object        \n",
      " 10  cap           438929 non-null  object        \n",
      " 11  fecha_al      438929 non-null  datetime64[ns]\n",
      " 12  fecha_ing     438929 non-null  datetime64[ns]\n",
      " 13  year          438929 non-null  int64         \n",
      " 14  month         438929 non-null  int64         \n",
      " 15  day           438929 non-null  int64         \n",
      " 16  Entrada       438929 non-null  object        \n",
      " 17  Alta          438929 non-null  object        \n",
      " 18  SexNom        438929 non-null  object        \n",
      " 19  ProvHosp_nom  438929 non-null  object        \n",
      " 20  ProvResi_nom  438929 non-null  object        \n",
      "dtypes: datetime64[ns](2), float64(1), int64(10), object(8)\n",
      "memory usage: 70.3+ MB\n"
     ]
    }
   ],
   "source": [
    "morbi.info()"
   ]
  },
  {
   "cell_type": "code",
   "execution_count": 7,
   "id": "1c265a30-c1d4-4363-a0ee-f2982304d3b4",
   "metadata": {},
   "outputs": [],
   "source": [
    "geo_json = r\"../data/socioecon/spain_provinces.geojson\"\n",
    "with open (geo_json) as geo_file:\n",
    "    provincias = json.load(geo_file)"
   ]
  },
  {
   "cell_type": "code",
   "execution_count": 45,
   "id": "c27de529-760d-402d-b64f-a2a914674d93",
   "metadata": {},
   "outputs": [],
   "source": [
    "# #Create a basemap \n",
    "# map_0= KeplerGl(height=700, weight = 500, data={'morbilidad': morbi})\n",
    "# #show the map\n",
    "# map_0\n",
    "\n",
    "# map_0.add_data(data=provincias, name='geojson')"
   ]
  },
  {
   "cell_type": "code",
   "execution_count": null,
   "id": "24d63d4f-e445-45e8-9b44-c4460bec9c17",
   "metadata": {},
   "outputs": [],
   "source": []
  },
  {
   "cell_type": "code",
   "execution_count": 48,
   "id": "3fd2b62b",
   "metadata": {},
   "outputs": [],
   "source": [
    "total_pro = morbi.groupby('ProvHosp_nom').agg({'SexNom':'count'}).reset_index().rename({'SexNom':'ingresos'},axis=1)"
   ]
  },
  {
   "cell_type": "code",
   "execution_count": 49,
   "id": "ad2ee5b3",
   "metadata": {},
   "outputs": [],
   "source": [
    "geo_json = r\"../data/socioecon/spain_provinces.geojson\"\n",
    "with open (geo_json) as geo_file:\n",
    "    provincias = json.load(geo_file)"
   ]
  },
  {
   "cell_type": "code",
   "execution_count": 8,
   "id": "cb9d794d",
   "metadata": {},
   "outputs": [],
   "source": [
    "poly = {p['properties']['name']:p['geometry'] for p in provincias['features'] }"
   ]
  },
  {
   "cell_type": "code",
   "execution_count": 9,
   "id": "8f56e52b",
   "metadata": {},
   "outputs": [
    {
     "ename": "NameError",
     "evalue": "name 'total_pro' is not defined",
     "output_type": "error",
     "traceback": [
      "\u001b[0;31m---------------------------------------------------------------------------\u001b[0m",
      "\u001b[0;31mNameError\u001b[0m                                 Traceback (most recent call last)",
      "\u001b[0;32m/tmp/ipykernel_111/2406277566.py\u001b[0m in \u001b[0;36m<module>\u001b[0;34m\u001b[0m\n\u001b[0;32m----> 1\u001b[0;31m \u001b[0mtotal_pro\u001b[0m\u001b[0;34m[\u001b[0m\u001b[0;34m'pol'\u001b[0m\u001b[0;34m]\u001b[0m \u001b[0;34m=\u001b[0m \u001b[0mtotal_pro\u001b[0m\u001b[0;34m[\u001b[0m\u001b[0;34m'ProvHosp_nom'\u001b[0m\u001b[0;34m]\u001b[0m\u001b[0;34m.\u001b[0m\u001b[0mmap\u001b[0m\u001b[0;34m(\u001b[0m\u001b[0mpoly\u001b[0m\u001b[0;34m)\u001b[0m\u001b[0;34m\u001b[0m\u001b[0;34m\u001b[0m\u001b[0m\n\u001b[0m",
      "\u001b[0;31mNameError\u001b[0m: name 'total_pro' is not defined"
     ]
    }
   ],
   "source": [
    "total_pro['pol'] = total_pro['ProvHosp_nom'].map(poly)"
   ]
  },
  {
   "cell_type": "code",
   "execution_count": 52,
   "id": "e4e6d91a-c50d-4870-acb8-9ce6660583d0",
   "metadata": {},
   "outputs": [
    {
     "data": {
      "text/html": [
       "<div>\n",
       "<style scoped>\n",
       "    .dataframe tbody tr th:only-of-type {\n",
       "        vertical-align: middle;\n",
       "    }\n",
       "\n",
       "    .dataframe tbody tr th {\n",
       "        vertical-align: top;\n",
       "    }\n",
       "\n",
       "    .dataframe thead th {\n",
       "        text-align: right;\n",
       "    }\n",
       "</style>\n",
       "<table border=\"1\" class=\"dataframe\">\n",
       "  <thead>\n",
       "    <tr style=\"text-align: right;\">\n",
       "      <th></th>\n",
       "      <th>ProvHosp_nom</th>\n",
       "      <th>ingresos</th>\n",
       "      <th>pol</th>\n",
       "    </tr>\n",
       "  </thead>\n",
       "  <tbody>\n",
       "    <tr>\n",
       "      <th>35</th>\n",
       "      <td>Palencia</td>\n",
       "      <td>2313</td>\n",
       "      <td>{'type': 'MultiPolygon', 'coordinates': [[[[-4...</td>\n",
       "    </tr>\n",
       "  </tbody>\n",
       "</table>\n",
       "</div>"
      ],
      "text/plain": [
       "   ProvHosp_nom  ingresos                                                pol\n",
       "35     Palencia      2313  {'type': 'MultiPolygon', 'coordinates': [[[[-4..."
      ]
     },
     "execution_count": 52,
     "metadata": {},
     "output_type": "execute_result"
    }
   ],
   "source": [
    "total_pro.sample()"
   ]
  },
  {
   "cell_type": "code",
   "execution_count": 53,
   "id": "a64244f9-ef04-49be-b09d-8935f83eba4c",
   "metadata": {},
   "outputs": [],
   "source": [
    "total_pob = pd.read_csv('../data/poblacion_prov.csv')"
   ]
  },
  {
   "cell_type": "code",
   "execution_count": 54,
   "id": "8b0bf28d-5987-48b0-ba39-404a1c4b831f",
   "metadata": {},
   "outputs": [],
   "source": [
    "total_pob = total_pob[total_pob['Sexo'] == 'Total']"
   ]
  },
  {
   "cell_type": "code",
   "execution_count": 55,
   "id": "ca89accb-1195-4cd8-bede-aa4b94e7967f",
   "metadata": {},
   "outputs": [
    {
     "data": {
      "text/html": [
       "<div>\n",
       "<style scoped>\n",
       "    .dataframe tbody tr th:only-of-type {\n",
       "        vertical-align: middle;\n",
       "    }\n",
       "\n",
       "    .dataframe tbody tr th {\n",
       "        vertical-align: top;\n",
       "    }\n",
       "\n",
       "    .dataframe thead th {\n",
       "        text-align: right;\n",
       "    }\n",
       "</style>\n",
       "<table border=\"1\" class=\"dataframe\">\n",
       "  <thead>\n",
       "    <tr style=\"text-align: right;\">\n",
       "      <th></th>\n",
       "      <th>Provincias</th>\n",
       "      <th>cod_pr</th>\n",
       "      <th>Sexo</th>\n",
       "      <th>Total</th>\n",
       "    </tr>\n",
       "  </thead>\n",
       "  <tbody>\n",
       "    <tr>\n",
       "      <th>17</th>\n",
       "      <td>Badajoz</td>\n",
       "      <td>6</td>\n",
       "      <td>Total</td>\n",
       "      <td>676522.92</td>\n",
       "    </tr>\n",
       "    <tr>\n",
       "      <th>134</th>\n",
       "      <td>Toledo</td>\n",
       "      <td>45</td>\n",
       "      <td>Total</td>\n",
       "      <td>633374.67</td>\n",
       "    </tr>\n",
       "    <tr>\n",
       "      <th>65</th>\n",
       "      <td>Huesca</td>\n",
       "      <td>22</td>\n",
       "      <td>Total</td>\n",
       "      <td>217977.79</td>\n",
       "    </tr>\n",
       "  </tbody>\n",
       "</table>\n",
       "</div>"
      ],
      "text/plain": [
       "    Provincias  cod_pr   Sexo      Total\n",
       "17     Badajoz       6  Total  676522.92\n",
       "134     Toledo      45  Total  633374.67\n",
       "65      Huesca      22  Total  217977.79"
      ]
     },
     "execution_count": 55,
     "metadata": {},
     "output_type": "execute_result"
    }
   ],
   "source": [
    "total_pob.sample(3)"
   ]
  },
  {
   "cell_type": "code",
   "execution_count": 56,
   "id": "525f2463-41c6-428e-a61c-de85304ac792",
   "metadata": {},
   "outputs": [],
   "source": [
    "dic_pob = {}\n",
    "for i,r in total_pob.iterrows():\n",
    "    dic_pob[r.Provincias] = r.Total"
   ]
  },
  {
   "cell_type": "code",
   "execution_count": 57,
   "id": "46537349-22de-4790-a996-e336d1005aa7",
   "metadata": {},
   "outputs": [],
   "source": [
    "total_pro['poblacion'] = total_pro.ProvHosp_nom.map(dic_pob)"
   ]
  },
  {
   "cell_type": "code",
   "execution_count": 58,
   "id": "f84cc3e0-a23d-47c8-875a-7aff751077fb",
   "metadata": {},
   "outputs": [
    {
     "data": {
      "text/html": [
       "<div>\n",
       "<style scoped>\n",
       "    .dataframe tbody tr th:only-of-type {\n",
       "        vertical-align: middle;\n",
       "    }\n",
       "\n",
       "    .dataframe tbody tr th {\n",
       "        vertical-align: top;\n",
       "    }\n",
       "\n",
       "    .dataframe thead th {\n",
       "        text-align: right;\n",
       "    }\n",
       "</style>\n",
       "<table border=\"1\" class=\"dataframe\">\n",
       "  <thead>\n",
       "    <tr style=\"text-align: right;\">\n",
       "      <th></th>\n",
       "      <th>ProvHosp_nom</th>\n",
       "      <th>ingresos</th>\n",
       "      <th>pol</th>\n",
       "      <th>poblacion</th>\n",
       "    </tr>\n",
       "  </thead>\n",
       "  <tbody>\n",
       "    <tr>\n",
       "      <th>42</th>\n",
       "      <td>Tarragona</td>\n",
       "      <td>9281</td>\n",
       "      <td>{'type': 'MultiPolygon', 'coordinates': [[[[1....</td>\n",
       "      <td>730851.79</td>\n",
       "    </tr>\n",
       "    <tr>\n",
       "      <th>22</th>\n",
       "      <td>Huesca</td>\n",
       "      <td>2685</td>\n",
       "      <td>{'type': 'MultiPolygon', 'coordinates': [[[[-0...</td>\n",
       "      <td>217977.79</td>\n",
       "    </tr>\n",
       "    <tr>\n",
       "      <th>13</th>\n",
       "      <td>Cuenca</td>\n",
       "      <td>1327</td>\n",
       "      <td>{'type': 'MultiPolygon', 'coordinates': [[[[-2...</td>\n",
       "      <td>205901.75</td>\n",
       "    </tr>\n",
       "  </tbody>\n",
       "</table>\n",
       "</div>"
      ],
      "text/plain": [
       "   ProvHosp_nom  ingresos                                                pol  \\\n",
       "42    Tarragona      9281  {'type': 'MultiPolygon', 'coordinates': [[[[1....   \n",
       "22       Huesca      2685  {'type': 'MultiPolygon', 'coordinates': [[[[-0...   \n",
       "13       Cuenca      1327  {'type': 'MultiPolygon', 'coordinates': [[[[-2...   \n",
       "\n",
       "    poblacion  \n",
       "42  730851.79  \n",
       "22  217977.79  \n",
       "13  205901.75  "
      ]
     },
     "execution_count": 58,
     "metadata": {},
     "output_type": "execute_result"
    }
   ],
   "source": [
    "total_pro.sample(3)"
   ]
  },
  {
   "cell_type": "code",
   "execution_count": 59,
   "id": "91c65523-e247-4ab6-9041-f3f5c75eefe8",
   "metadata": {},
   "outputs": [],
   "source": [
    "total_pro['ponde'] = ((total_pro.ingresos/total_pro.poblacion)*100000).round(2)"
   ]
  },
  {
   "cell_type": "code",
   "execution_count": 60,
   "id": "5f54dc96-a88e-4e19-a30e-92c12523e178",
   "metadata": {},
   "outputs": [
    {
     "data": {
      "text/html": [
       "<div>\n",
       "<style scoped>\n",
       "    .dataframe tbody tr th:only-of-type {\n",
       "        vertical-align: middle;\n",
       "    }\n",
       "\n",
       "    .dataframe tbody tr th {\n",
       "        vertical-align: top;\n",
       "    }\n",
       "\n",
       "    .dataframe thead th {\n",
       "        text-align: right;\n",
       "    }\n",
       "</style>\n",
       "<table border=\"1\" class=\"dataframe\">\n",
       "  <thead>\n",
       "    <tr style=\"text-align: right;\">\n",
       "      <th></th>\n",
       "      <th>ProvHosp_nom</th>\n",
       "      <th>ingresos</th>\n",
       "      <th>pol</th>\n",
       "      <th>poblacion</th>\n",
       "      <th>ponde</th>\n",
       "    </tr>\n",
       "  </thead>\n",
       "  <tbody>\n",
       "    <tr>\n",
       "      <th>40</th>\n",
       "      <td>Sevilla</td>\n",
       "      <td>12849</td>\n",
       "      <td>{'type': 'MultiPolygon', 'coordinates': [[[[-5...</td>\n",
       "      <td>1856573.58</td>\n",
       "      <td>692.08</td>\n",
       "    </tr>\n",
       "    <tr>\n",
       "      <th>50</th>\n",
       "      <td>Álava</td>\n",
       "      <td>3874</td>\n",
       "      <td>{'type': 'MultiPolygon', 'coordinates': [[[[-3...</td>\n",
       "      <td>308815.21</td>\n",
       "      <td>1254.47</td>\n",
       "    </tr>\n",
       "    <tr>\n",
       "      <th>33</th>\n",
       "      <td>Navarra</td>\n",
       "      <td>6973</td>\n",
       "      <td>{'type': 'MultiPolygon', 'coordinates': [[[[-1...</td>\n",
       "      <td>607095.88</td>\n",
       "      <td>1148.58</td>\n",
       "    </tr>\n",
       "  </tbody>\n",
       "</table>\n",
       "</div>"
      ],
      "text/plain": [
       "   ProvHosp_nom  ingresos                                                pol  \\\n",
       "40      Sevilla     12849  {'type': 'MultiPolygon', 'coordinates': [[[[-5...   \n",
       "50        Álava      3874  {'type': 'MultiPolygon', 'coordinates': [[[[-3...   \n",
       "33      Navarra      6973  {'type': 'MultiPolygon', 'coordinates': [[[[-1...   \n",
       "\n",
       "     poblacion    ponde  \n",
       "40  1856573.58   692.08  \n",
       "50   308815.21  1254.47  \n",
       "33   607095.88  1148.58  "
      ]
     },
     "execution_count": 60,
     "metadata": {},
     "output_type": "execute_result"
    }
   ],
   "source": [
    "total_pro.sample(3)"
   ]
  },
  {
   "cell_type": "code",
   "execution_count": 61,
   "id": "7fbcbf89",
   "metadata": {},
   "outputs": [
    {
     "name": "stdout",
     "output_type": "stream",
     "text": [
      "User Guide: https://docs.kepler.gl/docs/keplergl-jupyter\n"
     ]
    },
    {
     "data": {
      "application/vnd.jupyter.widget-view+json": {
       "model_id": "9c3ca5a995e84628a6f5cc92da65614f",
       "version_major": 2,
       "version_minor": 0
      },
      "text/plain": [
       "KeplerGl(data={'total_pro':               ProvHosp_nom  ingresos  \\\n",
       "0                 A Coruña      7899   \n",
       "1 …"
      ]
     },
     "metadata": {},
     "output_type": "display_data"
    }
   ],
   "source": [
    "#Create a basemap \n",
    "map_1= KeplerGl(height=700, weight = 500, data={'total_pro': total_pro})\n",
    "#show the map\n",
    "map_1"
   ]
  },
  {
   "cell_type": "code",
   "execution_count": 62,
   "id": "d55b48b8",
   "metadata": {},
   "outputs": [
    {
     "data": {
      "text/html": [
       "<div>\n",
       "<style scoped>\n",
       "    .dataframe tbody tr th:only-of-type {\n",
       "        vertical-align: middle;\n",
       "    }\n",
       "\n",
       "    .dataframe tbody tr th {\n",
       "        vertical-align: top;\n",
       "    }\n",
       "\n",
       "    .dataframe thead th {\n",
       "        text-align: right;\n",
       "    }\n",
       "</style>\n",
       "<table border=\"1\" class=\"dataframe\">\n",
       "  <thead>\n",
       "    <tr style=\"text-align: right;\">\n",
       "      <th></th>\n",
       "      <th>ProvHosp</th>\n",
       "      <th>Sexo</th>\n",
       "      <th>ProvResi</th>\n",
       "      <th>DiagEntr</th>\n",
       "      <th>DiagPrin</th>\n",
       "      <th>MotivoAlta</th>\n",
       "      <th>Edad</th>\n",
       "      <th>Dias</th>\n",
       "      <th>Factor</th>\n",
       "      <th>code</th>\n",
       "      <th>...</th>\n",
       "      <th>fecha_al</th>\n",
       "      <th>fecha_ing</th>\n",
       "      <th>year</th>\n",
       "      <th>month</th>\n",
       "      <th>day</th>\n",
       "      <th>Entrada</th>\n",
       "      <th>Alta</th>\n",
       "      <th>SexNom</th>\n",
       "      <th>ProvHosp_nom</th>\n",
       "      <th>ProvResi_nom</th>\n",
       "    </tr>\n",
       "  </thead>\n",
       "  <tbody>\n",
       "    <tr>\n",
       "      <th>78113</th>\n",
       "      <td>28</td>\n",
       "      <td>1</td>\n",
       "      <td>28</td>\n",
       "      <td>2</td>\n",
       "      <td>F333</td>\n",
       "      <td>1</td>\n",
       "      <td>69</td>\n",
       "      <td>13</td>\n",
       "      <td>1.08548</td>\n",
       "      <td>F33</td>\n",
       "      <td>...</td>\n",
       "      <td>2016-05-10</td>\n",
       "      <td>2016-04-27</td>\n",
       "      <td>2016</td>\n",
       "      <td>4</td>\n",
       "      <td>27</td>\n",
       "      <td>Urgente</td>\n",
       "      <td>Curación</td>\n",
       "      <td>Hombre</td>\n",
       "      <td>Madrid</td>\n",
       "      <td>Madrid</td>\n",
       "    </tr>\n",
       "  </tbody>\n",
       "</table>\n",
       "<p>1 rows × 21 columns</p>\n",
       "</div>"
      ],
      "text/plain": [
       "       ProvHosp  Sexo  ProvResi  DiagEntr DiagPrin  MotivoAlta  Edad  Dias  \\\n",
       "78113        28     1        28         2     F333           1    69    13   \n",
       "\n",
       "        Factor code  ...   fecha_al  fecha_ing  year  month  day  Entrada  \\\n",
       "78113  1.08548  F33  ... 2016-05-10 2016-04-27  2016      4   27  Urgente   \n",
       "\n",
       "           Alta  SexNom ProvHosp_nom ProvResi_nom  \n",
       "78113  Curación  Hombre       Madrid       Madrid  \n",
       "\n",
       "[1 rows x 21 columns]"
      ]
     },
     "execution_count": 62,
     "metadata": {},
     "output_type": "execute_result"
    }
   ],
   "source": [
    "morbi.sample()"
   ]
  },
  {
   "cell_type": "code",
   "execution_count": 63,
   "id": "16b50aad-148c-49b7-86d6-a5121f868967",
   "metadata": {},
   "outputs": [],
   "source": [
    "pro_day = morbi.groupby(['ProvHosp_nom','year','month']).agg({'day':'count','fecha_ing':'min'}).reset_index().rename({'day':'total'},axis=1)"
   ]
  },
  {
   "cell_type": "code",
   "execution_count": null,
   "id": "ed52082f-6d17-47d9-9cb8-a0e3fc0b69fe",
   "metadata": {},
   "outputs": [],
   "source": []
  },
  {
   "cell_type": "code",
   "execution_count": 64,
   "id": "d554c981-9cb4-43ab-8373-39691e7fa9e2",
   "metadata": {},
   "outputs": [
    {
     "data": {
      "text/html": [
       "<div>\n",
       "<style scoped>\n",
       "    .dataframe tbody tr th:only-of-type {\n",
       "        vertical-align: middle;\n",
       "    }\n",
       "\n",
       "    .dataframe tbody tr th {\n",
       "        vertical-align: top;\n",
       "    }\n",
       "\n",
       "    .dataframe thead th {\n",
       "        text-align: right;\n",
       "    }\n",
       "</style>\n",
       "<table border=\"1\" class=\"dataframe\">\n",
       "  <thead>\n",
       "    <tr style=\"text-align: right;\">\n",
       "      <th></th>\n",
       "      <th>ProvHosp_nom</th>\n",
       "      <th>year</th>\n",
       "      <th>month</th>\n",
       "      <th>total</th>\n",
       "      <th>fecha_ing</th>\n",
       "    </tr>\n",
       "  </thead>\n",
       "  <tbody>\n",
       "    <tr>\n",
       "      <th>477</th>\n",
       "      <td>Baleares</td>\n",
       "      <td>2014</td>\n",
       "      <td>12</td>\n",
       "      <td>5</td>\n",
       "      <td>2014-12-03</td>\n",
       "    </tr>\n",
       "  </tbody>\n",
       "</table>\n",
       "</div>"
      ],
      "text/plain": [
       "    ProvHosp_nom  year  month  total  fecha_ing\n",
       "477     Baleares  2014     12      5 2014-12-03"
      ]
     },
     "execution_count": 64,
     "metadata": {},
     "output_type": "execute_result"
    }
   ],
   "source": [
    "pro_day.sample()"
   ]
  },
  {
   "cell_type": "code",
   "execution_count": 65,
   "id": "3b87ff23-b4ec-4da2-9b18-b16217a2ab20",
   "metadata": {},
   "outputs": [
    {
     "data": {
      "text/plain": [
       "(3997, 5)"
      ]
     },
     "execution_count": 65,
     "metadata": {},
     "output_type": "execute_result"
    }
   ],
   "source": [
    "pro_day.shape"
   ]
  },
  {
   "cell_type": "code",
   "execution_count": 66,
   "id": "ec5f54ba-684a-40e3-aa1c-3c436959df48",
   "metadata": {},
   "outputs": [],
   "source": [
    "pro_day['geometry']= pro_day.ProvHosp_nom.map(poly)"
   ]
  },
  {
   "cell_type": "code",
   "execution_count": null,
   "id": "0e0444d4-abfe-4264-9218-a9c66a324498",
   "metadata": {},
   "outputs": [
    {
     "name": "stdout",
     "output_type": "stream",
     "text": [
      "User Guide: https://docs.kepler.gl/docs/keplergl-jupyter\n"
     ]
    }
   ],
   "source": [
    "map_2= KeplerGl(height=700, weight = 700, data={'Ingresos_dia': pro_day})\n",
    "map_2"
   ]
  },
  {
   "cell_type": "code",
   "execution_count": null,
   "id": "db366b7b-3e75-4b2d-8cbc-cbfa8dd8a7f9",
   "metadata": {},
   "outputs": [],
   "source": []
  }
 ],
 "metadata": {
  "kernelspec": {
   "display_name": "healthy",
   "language": "python",
   "name": "healthy"
  },
  "language_info": {
   "codemirror_mode": {
    "name": "ipython",
    "version": 3
   },
   "file_extension": ".py",
   "mimetype": "text/x-python",
   "name": "python",
   "nbconvert_exporter": "python",
   "pygments_lexer": "ipython3",
   "version": "3.8.10"
  }
 },
 "nbformat": 4,
 "nbformat_minor": 5
}
