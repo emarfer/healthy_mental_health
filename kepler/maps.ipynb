{
 "cells": [
  {
   "cell_type": "code",
   "execution_count": 22,
   "id": "e95e44dc",
   "metadata": {},
   "outputs": [],
   "source": [
    "import pandas as pd\n",
    "import os\n",
    "import geopandas as gpd\n",
    "from keplergl import KeplerGl\n",
    "import json"
   ]
  },
  {
   "cell_type": "code",
   "execution_count": 23,
   "id": "99a2dd59",
   "metadata": {},
   "outputs": [],
   "source": [
    "morbi = pd.read_csv('../data/morbilidad_Fgen.csv')"
   ]
  },
  {
   "cell_type": "code",
   "execution_count": 24,
   "id": "1fa29847",
   "metadata": {},
   "outputs": [
    {
     "data": {
      "text/html": [
       "<div>\n",
       "<style scoped>\n",
       "    .dataframe tbody tr th:only-of-type {\n",
       "        vertical-align: middle;\n",
       "    }\n",
       "\n",
       "    .dataframe tbody tr th {\n",
       "        vertical-align: top;\n",
       "    }\n",
       "\n",
       "    .dataframe thead th {\n",
       "        text-align: right;\n",
       "    }\n",
       "</style>\n",
       "<table border=\"1\" class=\"dataframe\">\n",
       "  <thead>\n",
       "    <tr style=\"text-align: right;\">\n",
       "      <th></th>\n",
       "      <th>ProvHosp</th>\n",
       "      <th>Sexo</th>\n",
       "      <th>ProvResi</th>\n",
       "      <th>DiagEntr</th>\n",
       "      <th>DiagPrin</th>\n",
       "      <th>MotivoAlta</th>\n",
       "      <th>Edad</th>\n",
       "      <th>Dias</th>\n",
       "      <th>Factor</th>\n",
       "      <th>code</th>\n",
       "      <th>...</th>\n",
       "      <th>fecha_al</th>\n",
       "      <th>fecha_ing</th>\n",
       "      <th>year</th>\n",
       "      <th>month</th>\n",
       "      <th>day</th>\n",
       "      <th>Entrada</th>\n",
       "      <th>Alta</th>\n",
       "      <th>SexNom</th>\n",
       "      <th>ProvHosp_nom</th>\n",
       "      <th>ProvResi_nom</th>\n",
       "    </tr>\n",
       "  </thead>\n",
       "  <tbody>\n",
       "    <tr>\n",
       "      <th>89455</th>\n",
       "      <td>23</td>\n",
       "      <td>1</td>\n",
       "      <td>23</td>\n",
       "      <td>2</td>\n",
       "      <td>F4323</td>\n",
       "      <td>1</td>\n",
       "      <td>50</td>\n",
       "      <td>55</td>\n",
       "      <td>1.00000</td>\n",
       "      <td>F43</td>\n",
       "      <td>...</td>\n",
       "      <td>2016-06-21</td>\n",
       "      <td>2016-04-27</td>\n",
       "      <td>2016</td>\n",
       "      <td>4</td>\n",
       "      <td>27</td>\n",
       "      <td>Urgente</td>\n",
       "      <td>Curación</td>\n",
       "      <td>Hombre</td>\n",
       "      <td>Jaén</td>\n",
       "      <td>Jaén</td>\n",
       "    </tr>\n",
       "    <tr>\n",
       "      <th>246564</th>\n",
       "      <td>8</td>\n",
       "      <td>1</td>\n",
       "      <td>8</td>\n",
       "      <td>2</td>\n",
       "      <td>F1920</td>\n",
       "      <td>1</td>\n",
       "      <td>44</td>\n",
       "      <td>1</td>\n",
       "      <td>1.09860</td>\n",
       "      <td>F19</td>\n",
       "      <td>...</td>\n",
       "      <td>2018-07-11</td>\n",
       "      <td>2018-07-10</td>\n",
       "      <td>2018</td>\n",
       "      <td>7</td>\n",
       "      <td>10</td>\n",
       "      <td>Urgente</td>\n",
       "      <td>Curación</td>\n",
       "      <td>Hombre</td>\n",
       "      <td>Barcelona</td>\n",
       "      <td>Barcelona</td>\n",
       "    </tr>\n",
       "    <tr>\n",
       "      <th>274351</th>\n",
       "      <td>33</td>\n",
       "      <td>1</td>\n",
       "      <td>33</td>\n",
       "      <td>2</td>\n",
       "      <td>F259</td>\n",
       "      <td>2</td>\n",
       "      <td>49</td>\n",
       "      <td>6</td>\n",
       "      <td>1.10912</td>\n",
       "      <td>F25</td>\n",
       "      <td>...</td>\n",
       "      <td>2018-05-30</td>\n",
       "      <td>2018-05-24</td>\n",
       "      <td>2018</td>\n",
       "      <td>5</td>\n",
       "      <td>24</td>\n",
       "      <td>Urgente</td>\n",
       "      <td>Traslado</td>\n",
       "      <td>Hombre</td>\n",
       "      <td>Asturias</td>\n",
       "      <td>Asturias</td>\n",
       "    </tr>\n",
       "  </tbody>\n",
       "</table>\n",
       "<p>3 rows × 21 columns</p>\n",
       "</div>"
      ],
      "text/plain": [
       "        ProvHosp  Sexo  ProvResi  DiagEntr DiagPrin  MotivoAlta  Edad  Dias  \\\n",
       "89455         23     1        23         2    F4323           1    50    55   \n",
       "246564         8     1         8         2    F1920           1    44     1   \n",
       "274351        33     1        33         2     F259           2    49     6   \n",
       "\n",
       "         Factor code  ...    fecha_al   fecha_ing  year  month  day  Entrada  \\\n",
       "89455   1.00000  F43  ...  2016-06-21  2016-04-27  2016      4   27  Urgente   \n",
       "246564  1.09860  F19  ...  2018-07-11  2018-07-10  2018      7   10  Urgente   \n",
       "274351  1.10912  F25  ...  2018-05-30  2018-05-24  2018      5   24  Urgente   \n",
       "\n",
       "            Alta  SexNom ProvHosp_nom ProvResi_nom  \n",
       "89455   Curación  Hombre         Jaén         Jaén  \n",
       "246564  Curación  Hombre    Barcelona    Barcelona  \n",
       "274351  Traslado  Hombre     Asturias     Asturias  \n",
       "\n",
       "[3 rows x 21 columns]"
      ]
     },
     "execution_count": 24,
     "metadata": {},
     "output_type": "execute_result"
    }
   ],
   "source": [
    "morbi.sample(3)"
   ]
  },
  {
   "cell_type": "code",
   "execution_count": 81,
   "id": "7e98b610-9b10-4b17-9e10-55ba113344e2",
   "metadata": {},
   "outputs": [],
   "source": [
    "morbi.fecha_ing =  pd.to_datetime(morbi.fecha_ing)"
   ]
  },
  {
   "cell_type": "code",
   "execution_count": 40,
   "id": "3fd2b62b",
   "metadata": {},
   "outputs": [],
   "source": [
    "total_pro = morbi.groupby('ProvHosp_nom').agg({'ProvHosp':'count'}).reset_index().rename({'ProvHosp':'ingresos'},axis=1)"
   ]
  },
  {
   "cell_type": "code",
   "execution_count": 41,
   "id": "ad2ee5b3",
   "metadata": {},
   "outputs": [],
   "source": [
    "geo_json = r\"../data/socioecon/spain_provinces.geojson\"\n",
    "with open (geo_json) as geo_file:\n",
    "    provincias = json.load(geo_file)"
   ]
  },
  {
   "cell_type": "code",
   "execution_count": 42,
   "id": "cb9d794d",
   "metadata": {},
   "outputs": [],
   "source": [
    "poly = {p['properties']['name']:p['geometry'] for p in provincias['features'] }"
   ]
  },
  {
   "cell_type": "code",
   "execution_count": 43,
   "id": "8f56e52b",
   "metadata": {},
   "outputs": [],
   "source": [
    "total_pro['pol'] = total_pro['ProvHosp_nom'].map(poly)"
   ]
  },
  {
   "cell_type": "code",
   "execution_count": 44,
   "id": "e4e6d91a-c50d-4870-acb8-9ce6660583d0",
   "metadata": {},
   "outputs": [
    {
     "data": {
      "text/html": [
       "<div>\n",
       "<style scoped>\n",
       "    .dataframe tbody tr th:only-of-type {\n",
       "        vertical-align: middle;\n",
       "    }\n",
       "\n",
       "    .dataframe tbody tr th {\n",
       "        vertical-align: top;\n",
       "    }\n",
       "\n",
       "    .dataframe thead th {\n",
       "        text-align: right;\n",
       "    }\n",
       "</style>\n",
       "<table border=\"1\" class=\"dataframe\">\n",
       "  <thead>\n",
       "    <tr style=\"text-align: right;\">\n",
       "      <th></th>\n",
       "      <th>ProvHosp_nom</th>\n",
       "      <th>ingresos</th>\n",
       "      <th>pol</th>\n",
       "    </tr>\n",
       "  </thead>\n",
       "  <tbody>\n",
       "    <tr>\n",
       "      <th>44</th>\n",
       "      <td>Toledo</td>\n",
       "      <td>2696</td>\n",
       "      <td>{'type': 'MultiPolygon', 'coordinates': [[[[-4...</td>\n",
       "    </tr>\n",
       "  </tbody>\n",
       "</table>\n",
       "</div>"
      ],
      "text/plain": [
       "   ProvHosp_nom  ingresos                                                pol\n",
       "44       Toledo      2696  {'type': 'MultiPolygon', 'coordinates': [[[[-4..."
      ]
     },
     "execution_count": 44,
     "metadata": {},
     "output_type": "execute_result"
    }
   ],
   "source": [
    "total_pro.sample()"
   ]
  },
  {
   "cell_type": "code",
   "execution_count": 45,
   "id": "a64244f9-ef04-49be-b09d-8935f83eba4c",
   "metadata": {},
   "outputs": [],
   "source": [
    "total_pob = pd.read_csv('../data/poblacion_prov.csv')"
   ]
  },
  {
   "cell_type": "code",
   "execution_count": 46,
   "id": "8b0bf28d-5987-48b0-ba39-404a1c4b831f",
   "metadata": {},
   "outputs": [],
   "source": [
    "total_pob = total_pob[total_pob['Sexo'] == 'Total']"
   ]
  },
  {
   "cell_type": "code",
   "execution_count": 47,
   "id": "ca89accb-1195-4cd8-bede-aa4b94e7967f",
   "metadata": {},
   "outputs": [
    {
     "data": {
      "text/html": [
       "<div>\n",
       "<style scoped>\n",
       "    .dataframe tbody tr th:only-of-type {\n",
       "        vertical-align: middle;\n",
       "    }\n",
       "\n",
       "    .dataframe tbody tr th {\n",
       "        vertical-align: top;\n",
       "    }\n",
       "\n",
       "    .dataframe thead th {\n",
       "        text-align: right;\n",
       "    }\n",
       "</style>\n",
       "<table border=\"1\" class=\"dataframe\">\n",
       "  <thead>\n",
       "    <tr style=\"text-align: right;\">\n",
       "      <th></th>\n",
       "      <th>Provincias</th>\n",
       "      <th>cod_pr</th>\n",
       "      <th>Sexo</th>\n",
       "      <th>Total</th>\n",
       "    </tr>\n",
       "  </thead>\n",
       "  <tbody>\n",
       "    <tr>\n",
       "      <th>92</th>\n",
       "      <td>Navarra</td>\n",
       "      <td>31</td>\n",
       "      <td>Total</td>\n",
       "      <td>607095.88</td>\n",
       "    </tr>\n",
       "    <tr>\n",
       "      <th>143</th>\n",
       "      <td>Vizcaya</td>\n",
       "      <td>48</td>\n",
       "      <td>Total</td>\n",
       "      <td>1144973.25</td>\n",
       "    </tr>\n",
       "    <tr>\n",
       "      <th>77</th>\n",
       "      <td>La Rioja</td>\n",
       "      <td>26</td>\n",
       "      <td>Total</td>\n",
       "      <td>302381.38</td>\n",
       "    </tr>\n",
       "  </tbody>\n",
       "</table>\n",
       "</div>"
      ],
      "text/plain": [
       "    Provincias  cod_pr   Sexo       Total\n",
       "92     Navarra      31  Total   607095.88\n",
       "143    Vizcaya      48  Total  1144973.25\n",
       "77    La Rioja      26  Total   302381.38"
      ]
     },
     "execution_count": 47,
     "metadata": {},
     "output_type": "execute_result"
    }
   ],
   "source": [
    "total_pob.sample(3)"
   ]
  },
  {
   "cell_type": "code",
   "execution_count": 48,
   "id": "525f2463-41c6-428e-a61c-de85304ac792",
   "metadata": {},
   "outputs": [],
   "source": [
    "dic_pob = {}\n",
    "for i,r in total_pob.iterrows():\n",
    "    dic_pob[r.Provincias] = r.Total"
   ]
  },
  {
   "cell_type": "code",
   "execution_count": 49,
   "id": "46537349-22de-4790-a996-e336d1005aa7",
   "metadata": {},
   "outputs": [],
   "source": [
    "total_pro['poblacion'] = total_pro.ProvHosp_nom.map(dic_pob)"
   ]
  },
  {
   "cell_type": "code",
   "execution_count": 50,
   "id": "f84cc3e0-a23d-47c8-875a-7aff751077fb",
   "metadata": {},
   "outputs": [
    {
     "data": {
      "text/html": [
       "<div>\n",
       "<style scoped>\n",
       "    .dataframe tbody tr th:only-of-type {\n",
       "        vertical-align: middle;\n",
       "    }\n",
       "\n",
       "    .dataframe tbody tr th {\n",
       "        vertical-align: top;\n",
       "    }\n",
       "\n",
       "    .dataframe thead th {\n",
       "        text-align: right;\n",
       "    }\n",
       "</style>\n",
       "<table border=\"1\" class=\"dataframe\">\n",
       "  <thead>\n",
       "    <tr style=\"text-align: right;\">\n",
       "      <th></th>\n",
       "      <th>ProvHosp_nom</th>\n",
       "      <th>ingresos</th>\n",
       "      <th>pol</th>\n",
       "      <th>poblacion</th>\n",
       "    </tr>\n",
       "  </thead>\n",
       "  <tbody>\n",
       "    <tr>\n",
       "      <th>44</th>\n",
       "      <td>Toledo</td>\n",
       "      <td>2696</td>\n",
       "      <td>{'type': 'MultiPolygon', 'coordinates': [[[[-4...</td>\n",
       "      <td>633374.67</td>\n",
       "    </tr>\n",
       "    <tr>\n",
       "      <th>4</th>\n",
       "      <td>Asturias</td>\n",
       "      <td>11076</td>\n",
       "      <td>{'type': 'MultiPolygon', 'coordinates': [[[[-5...</td>\n",
       "      <td>1066441.50</td>\n",
       "    </tr>\n",
       "    <tr>\n",
       "      <th>3</th>\n",
       "      <td>Almería</td>\n",
       "      <td>3283</td>\n",
       "      <td>{'type': 'MultiPolygon', 'coordinates': [[[[-2...</td>\n",
       "      <td>636670.54</td>\n",
       "    </tr>\n",
       "  </tbody>\n",
       "</table>\n",
       "</div>"
      ],
      "text/plain": [
       "   ProvHosp_nom  ingresos                                                pol  \\\n",
       "44       Toledo      2696  {'type': 'MultiPolygon', 'coordinates': [[[[-4...   \n",
       "4      Asturias     11076  {'type': 'MultiPolygon', 'coordinates': [[[[-5...   \n",
       "3       Almería      3283  {'type': 'MultiPolygon', 'coordinates': [[[[-2...   \n",
       "\n",
       "     poblacion  \n",
       "44   633374.67  \n",
       "4   1066441.50  \n",
       "3    636670.54  "
      ]
     },
     "execution_count": 50,
     "metadata": {},
     "output_type": "execute_result"
    }
   ],
   "source": [
    "total_pro.sample(3)"
   ]
  },
  {
   "cell_type": "code",
   "execution_count": 60,
   "id": "91c65523-e247-4ab6-9041-f3f5c75eefe8",
   "metadata": {},
   "outputs": [],
   "source": [
    "total_pro['ponde'] = ((total_pro.ingresos/total_pro.poblacion)*100000).round(2)"
   ]
  },
  {
   "cell_type": "code",
   "execution_count": 61,
   "id": "5f54dc96-a88e-4e19-a30e-92c12523e178",
   "metadata": {},
   "outputs": [
    {
     "data": {
      "text/html": [
       "<div>\n",
       "<style scoped>\n",
       "    .dataframe tbody tr th:only-of-type {\n",
       "        vertical-align: middle;\n",
       "    }\n",
       "\n",
       "    .dataframe tbody tr th {\n",
       "        vertical-align: top;\n",
       "    }\n",
       "\n",
       "    .dataframe thead th {\n",
       "        text-align: right;\n",
       "    }\n",
       "</style>\n",
       "<table border=\"1\" class=\"dataframe\">\n",
       "  <thead>\n",
       "    <tr style=\"text-align: right;\">\n",
       "      <th></th>\n",
       "      <th>ProvHosp_nom</th>\n",
       "      <th>ingresos</th>\n",
       "      <th>pol</th>\n",
       "      <th>poblacion</th>\n",
       "      <th>ponde</th>\n",
       "    </tr>\n",
       "  </thead>\n",
       "  <tbody>\n",
       "    <tr>\n",
       "      <th>42</th>\n",
       "      <td>Tarragona</td>\n",
       "      <td>9281</td>\n",
       "      <td>{'type': 'MultiPolygon', 'coordinates': [[[[1....</td>\n",
       "      <td>730851.79</td>\n",
       "      <td>1269.89</td>\n",
       "    </tr>\n",
       "    <tr>\n",
       "      <th>37</th>\n",
       "      <td>Salamanca</td>\n",
       "      <td>2467</td>\n",
       "      <td>{'type': 'MultiPolygon', 'coordinates': [[[[-6...</td>\n",
       "      <td>346244.71</td>\n",
       "      <td>712.50</td>\n",
       "    </tr>\n",
       "    <tr>\n",
       "      <th>17</th>\n",
       "      <td>Girona</td>\n",
       "      <td>5983</td>\n",
       "      <td>{'type': 'MultiPolygon', 'coordinates': [[[[1....</td>\n",
       "      <td>688770.21</td>\n",
       "      <td>868.65</td>\n",
       "    </tr>\n",
       "  </tbody>\n",
       "</table>\n",
       "</div>"
      ],
      "text/plain": [
       "   ProvHosp_nom  ingresos                                                pol  \\\n",
       "42    Tarragona      9281  {'type': 'MultiPolygon', 'coordinates': [[[[1....   \n",
       "37    Salamanca      2467  {'type': 'MultiPolygon', 'coordinates': [[[[-6...   \n",
       "17       Girona      5983  {'type': 'MultiPolygon', 'coordinates': [[[[1....   \n",
       "\n",
       "    poblacion    ponde  \n",
       "42  730851.79  1269.89  \n",
       "37  346244.71   712.50  \n",
       "17  688770.21   868.65  "
      ]
     },
     "execution_count": 61,
     "metadata": {},
     "output_type": "execute_result"
    }
   ],
   "source": [
    "total_pro.sample(3)"
   ]
  },
  {
   "cell_type": "code",
   "execution_count": null,
   "id": "7fbcbf89",
   "metadata": {},
   "outputs": [],
   "source": [
    "#Create a basemap \n",
    "map_1= KeplerGl(height=700, weight = 500, data={'total_pro': total_pro})\n",
    "#show the map\n",
    "map_1"
   ]
  },
  {
   "cell_type": "code",
   "execution_count": 65,
   "id": "d55b48b8",
   "metadata": {},
   "outputs": [
    {
     "data": {
      "text/html": [
       "<div>\n",
       "<style scoped>\n",
       "    .dataframe tbody tr th:only-of-type {\n",
       "        vertical-align: middle;\n",
       "    }\n",
       "\n",
       "    .dataframe tbody tr th {\n",
       "        vertical-align: top;\n",
       "    }\n",
       "\n",
       "    .dataframe thead th {\n",
       "        text-align: right;\n",
       "    }\n",
       "</style>\n",
       "<table border=\"1\" class=\"dataframe\">\n",
       "  <thead>\n",
       "    <tr style=\"text-align: right;\">\n",
       "      <th></th>\n",
       "      <th>ProvHosp</th>\n",
       "      <th>Sexo</th>\n",
       "      <th>ProvResi</th>\n",
       "      <th>DiagEntr</th>\n",
       "      <th>DiagPrin</th>\n",
       "      <th>MotivoAlta</th>\n",
       "      <th>Edad</th>\n",
       "      <th>Dias</th>\n",
       "      <th>Factor</th>\n",
       "      <th>code</th>\n",
       "      <th>...</th>\n",
       "      <th>fecha_al</th>\n",
       "      <th>fecha_ing</th>\n",
       "      <th>year</th>\n",
       "      <th>month</th>\n",
       "      <th>day</th>\n",
       "      <th>Entrada</th>\n",
       "      <th>Alta</th>\n",
       "      <th>SexNom</th>\n",
       "      <th>ProvHosp_nom</th>\n",
       "      <th>ProvResi_nom</th>\n",
       "    </tr>\n",
       "  </thead>\n",
       "  <tbody>\n",
       "    <tr>\n",
       "      <th>137233</th>\n",
       "      <td>7</td>\n",
       "      <td>2</td>\n",
       "      <td>7</td>\n",
       "      <td>2</td>\n",
       "      <td>F200</td>\n",
       "      <td>2</td>\n",
       "      <td>58</td>\n",
       "      <td>37</td>\n",
       "      <td>1.0</td>\n",
       "      <td>F20</td>\n",
       "      <td>...</td>\n",
       "      <td>2017-11-02</td>\n",
       "      <td>2017-09-26</td>\n",
       "      <td>2017</td>\n",
       "      <td>9</td>\n",
       "      <td>26</td>\n",
       "      <td>Urgente</td>\n",
       "      <td>Traslado</td>\n",
       "      <td>Mujer</td>\n",
       "      <td>Baleares</td>\n",
       "      <td>Baleares</td>\n",
       "    </tr>\n",
       "  </tbody>\n",
       "</table>\n",
       "<p>1 rows × 21 columns</p>\n",
       "</div>"
      ],
      "text/plain": [
       "        ProvHosp  Sexo  ProvResi  DiagEntr DiagPrin  MotivoAlta  Edad  Dias  \\\n",
       "137233         7     2         7         2     F200           2    58    37   \n",
       "\n",
       "        Factor code  ...    fecha_al   fecha_ing  year  month  day  Entrada  \\\n",
       "137233     1.0  F20  ...  2017-11-02  2017-09-26  2017      9   26  Urgente   \n",
       "\n",
       "            Alta SexNom ProvHosp_nom ProvResi_nom  \n",
       "137233  Traslado  Mujer     Baleares     Baleares  \n",
       "\n",
       "[1 rows x 21 columns]"
      ]
     },
     "execution_count": 65,
     "metadata": {},
     "output_type": "execute_result"
    }
   ],
   "source": [
    "morbi.sample()"
   ]
  },
  {
   "cell_type": "code",
   "execution_count": 89,
   "id": "16b50aad-148c-49b7-86d6-a5121f868967",
   "metadata": {},
   "outputs": [],
   "source": [
    "pro_day = morbi.groupby(['ProvHosp_nom','year','month']).agg({'day':'count','fecha_ing':'min'}).reset_index().rename({'day':'total'},axis=1)"
   ]
  },
  {
   "cell_type": "code",
   "execution_count": null,
   "id": "ed52082f-6d17-47d9-9cb8-a0e3fc0b69fe",
   "metadata": {},
   "outputs": [],
   "source": []
  },
  {
   "cell_type": "code",
   "execution_count": 90,
   "id": "d554c981-9cb4-43ab-8373-39691e7fa9e2",
   "metadata": {},
   "outputs": [
    {
     "data": {
      "text/html": [
       "<div>\n",
       "<style scoped>\n",
       "    .dataframe tbody tr th:only-of-type {\n",
       "        vertical-align: middle;\n",
       "    }\n",
       "\n",
       "    .dataframe tbody tr th {\n",
       "        vertical-align: top;\n",
       "    }\n",
       "\n",
       "    .dataframe thead th {\n",
       "        text-align: right;\n",
       "    }\n",
       "</style>\n",
       "<table border=\"1\" class=\"dataframe\">\n",
       "  <thead>\n",
       "    <tr style=\"text-align: right;\">\n",
       "      <th></th>\n",
       "      <th>ProvHosp_nom</th>\n",
       "      <th>year</th>\n",
       "      <th>month</th>\n",
       "      <th>total</th>\n",
       "      <th>fecha_ing</th>\n",
       "    </tr>\n",
       "  </thead>\n",
       "  <tbody>\n",
       "    <tr>\n",
       "      <th>1501</th>\n",
       "      <td>Guipúzcoa</td>\n",
       "      <td>2019</td>\n",
       "      <td>8</td>\n",
       "      <td>135</td>\n",
       "      <td>2019-08-01</td>\n",
       "    </tr>\n",
       "  </tbody>\n",
       "</table>\n",
       "</div>"
      ],
      "text/plain": [
       "     ProvHosp_nom  year  month  total  fecha_ing\n",
       "1501    Guipúzcoa  2019      8    135 2019-08-01"
      ]
     },
     "execution_count": 90,
     "metadata": {},
     "output_type": "execute_result"
    }
   ],
   "source": [
    "pro_day.sample()"
   ]
  },
  {
   "cell_type": "code",
   "execution_count": 91,
   "id": "3b87ff23-b4ec-4da2-9b18-b16217a2ab20",
   "metadata": {},
   "outputs": [
    {
     "data": {
      "text/plain": [
       "(3997, 5)"
      ]
     },
     "execution_count": 91,
     "metadata": {},
     "output_type": "execute_result"
    }
   ],
   "source": [
    "pro_day.shape"
   ]
  },
  {
   "cell_type": "code",
   "execution_count": 92,
   "id": "ec5f54ba-684a-40e3-aa1c-3c436959df48",
   "metadata": {},
   "outputs": [],
   "source": [
    "pro_day['geometry']= pro_day.ProvHosp_nom.map(poly)"
   ]
  },
  {
   "cell_type": "code",
   "execution_count": null,
   "id": "0e0444d4-abfe-4264-9218-a9c66a324498",
   "metadata": {},
   "outputs": [
    {
     "name": "stdout",
     "output_type": "stream",
     "text": [
      "User Guide: https://docs.kepler.gl/docs/keplergl-jupyter\n"
     ]
    }
   ],
   "source": [
    "map_2= KeplerGl(height=700, weight = 700, data={'Ingresos_dia': pro_day})\n",
    "map_2"
   ]
  },
  {
   "cell_type": "code",
   "execution_count": null,
   "id": "db366b7b-3e75-4b2d-8cbc-cbfa8dd8a7f9",
   "metadata": {},
   "outputs": [],
   "source": []
  }
 ],
 "metadata": {
  "kernelspec": {
   "display_name": "healthy",
   "language": "python",
   "name": "healthy"
  },
  "language_info": {
   "codemirror_mode": {
    "name": "ipython",
    "version": 3
   },
   "file_extension": ".py",
   "mimetype": "text/x-python",
   "name": "python",
   "nbconvert_exporter": "python",
   "pygments_lexer": "ipython3",
   "version": "3.8.10"
  }
 },
 "nbformat": 4,
 "nbformat_minor": 5
}
