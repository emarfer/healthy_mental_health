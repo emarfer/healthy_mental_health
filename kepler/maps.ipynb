{
 "cells": [
  {
   "cell_type": "code",
   "execution_count": 1,
   "id": "e95e44dc",
   "metadata": {},
   "outputs": [],
   "source": [
    "import pandas as pd\n",
    "import os\n",
    "import geopandas as gpd\n",
    "from keplergl import KeplerGl\n",
    "import json\n"
   ]
  },
  {
   "cell_type": "code",
   "execution_count": 2,
   "id": "99a2dd59",
   "metadata": {},
   "outputs": [],
   "source": [
    "morbi = pd.read_csv('../data/morbilidad_Fgen.csv')"
   ]
  },
  {
   "cell_type": "code",
   "execution_count": 3,
   "id": "1fa29847",
   "metadata": {},
   "outputs": [
    {
     "data": {
      "text/html": [
       "<div>\n",
       "<style scoped>\n",
       "    .dataframe tbody tr th:only-of-type {\n",
       "        vertical-align: middle;\n",
       "    }\n",
       "\n",
       "    .dataframe tbody tr th {\n",
       "        vertical-align: top;\n",
       "    }\n",
       "\n",
       "    .dataframe thead th {\n",
       "        text-align: right;\n",
       "    }\n",
       "</style>\n",
       "<table border=\"1\" class=\"dataframe\">\n",
       "  <thead>\n",
       "    <tr style=\"text-align: right;\">\n",
       "      <th></th>\n",
       "      <th>ProvHosp</th>\n",
       "      <th>Sexo</th>\n",
       "      <th>ProvResi</th>\n",
       "      <th>DiagEntr</th>\n",
       "      <th>DiagPrin</th>\n",
       "      <th>MotivoAlta</th>\n",
       "      <th>Edad</th>\n",
       "      <th>Dias</th>\n",
       "      <th>Factor</th>\n",
       "      <th>code</th>\n",
       "      <th>...</th>\n",
       "      <th>fecha_al</th>\n",
       "      <th>fecha_ing</th>\n",
       "      <th>year</th>\n",
       "      <th>month</th>\n",
       "      <th>day</th>\n",
       "      <th>Entrada</th>\n",
       "      <th>Alta</th>\n",
       "      <th>SexNom</th>\n",
       "      <th>ProvHosp_nom</th>\n",
       "      <th>ProvResi_nom</th>\n",
       "    </tr>\n",
       "  </thead>\n",
       "  <tbody>\n",
       "    <tr>\n",
       "      <th>296388</th>\n",
       "      <td>28</td>\n",
       "      <td>2</td>\n",
       "      <td>28</td>\n",
       "      <td>2</td>\n",
       "      <td>F329</td>\n",
       "      <td>1</td>\n",
       "      <td>60</td>\n",
       "      <td>11</td>\n",
       "      <td>1.01195</td>\n",
       "      <td>F32</td>\n",
       "      <td>...</td>\n",
       "      <td>2018-07-04</td>\n",
       "      <td>2018-06-23</td>\n",
       "      <td>2018</td>\n",
       "      <td>6</td>\n",
       "      <td>23</td>\n",
       "      <td>Urgente</td>\n",
       "      <td>Curación</td>\n",
       "      <td>Mujer</td>\n",
       "      <td>Madrid</td>\n",
       "      <td>Madrid</td>\n",
       "    </tr>\n",
       "    <tr>\n",
       "      <th>142747</th>\n",
       "      <td>28</td>\n",
       "      <td>1</td>\n",
       "      <td>28</td>\n",
       "      <td>1</td>\n",
       "      <td>F200</td>\n",
       "      <td>1</td>\n",
       "      <td>49</td>\n",
       "      <td>30</td>\n",
       "      <td>1.00000</td>\n",
       "      <td>F20</td>\n",
       "      <td>...</td>\n",
       "      <td>2017-11-08</td>\n",
       "      <td>2017-10-09</td>\n",
       "      <td>2017</td>\n",
       "      <td>10</td>\n",
       "      <td>9</td>\n",
       "      <td>Ordinario</td>\n",
       "      <td>Curación</td>\n",
       "      <td>Hombre</td>\n",
       "      <td>Madrid</td>\n",
       "      <td>Madrid</td>\n",
       "    </tr>\n",
       "    <tr>\n",
       "      <th>288341</th>\n",
       "      <td>30</td>\n",
       "      <td>2</td>\n",
       "      <td>30</td>\n",
       "      <td>2</td>\n",
       "      <td>F3160</td>\n",
       "      <td>1</td>\n",
       "      <td>42</td>\n",
       "      <td>20</td>\n",
       "      <td>1.00000</td>\n",
       "      <td>F31</td>\n",
       "      <td>...</td>\n",
       "      <td>2018-01-11</td>\n",
       "      <td>2017-12-22</td>\n",
       "      <td>2017</td>\n",
       "      <td>12</td>\n",
       "      <td>22</td>\n",
       "      <td>Urgente</td>\n",
       "      <td>Curación</td>\n",
       "      <td>Mujer</td>\n",
       "      <td>Murcia</td>\n",
       "      <td>Murcia</td>\n",
       "    </tr>\n",
       "  </tbody>\n",
       "</table>\n",
       "<p>3 rows × 21 columns</p>\n",
       "</div>"
      ],
      "text/plain": [
       "        ProvHosp  Sexo  ProvResi  DiagEntr DiagPrin  MotivoAlta  Edad  Dias  \\\n",
       "296388        28     2        28         2     F329           1    60    11   \n",
       "142747        28     1        28         1     F200           1    49    30   \n",
       "288341        30     2        30         2    F3160           1    42    20   \n",
       "\n",
       "         Factor code  ...    fecha_al   fecha_ing  year  month  day  \\\n",
       "296388  1.01195  F32  ...  2018-07-04  2018-06-23  2018      6   23   \n",
       "142747  1.00000  F20  ...  2017-11-08  2017-10-09  2017     10    9   \n",
       "288341  1.00000  F31  ...  2018-01-11  2017-12-22  2017     12   22   \n",
       "\n",
       "          Entrada      Alta  SexNom ProvHosp_nom ProvResi_nom  \n",
       "296388    Urgente  Curación   Mujer       Madrid       Madrid  \n",
       "142747  Ordinario  Curación  Hombre       Madrid       Madrid  \n",
       "288341    Urgente  Curación   Mujer       Murcia       Murcia  \n",
       "\n",
       "[3 rows x 21 columns]"
      ]
     },
     "execution_count": 3,
     "metadata": {},
     "output_type": "execute_result"
    }
   ],
   "source": [
    "morbi.sample(3)"
   ]
  },
  {
   "cell_type": "code",
   "execution_count": 4,
   "id": "7e98b610-9b10-4b17-9e10-55ba113344e2",
   "metadata": {},
   "outputs": [],
   "source": [
    "morbi.fecha_ing =  pd.to_datetime(morbi.fecha_ing)\n",
    "morbi.fecha_al =  pd.to_datetime(morbi.fecha_al)"
   ]
  },
  {
   "cell_type": "code",
   "execution_count": 7,
   "id": "1c265a30-c1d4-4363-a0ee-f2982304d3b4",
   "metadata": {},
   "outputs": [],
   "source": [
    "geo_json = r\"../data/socioecon/spain_provinces.geojson\"\n",
    "with open (geo_json) as geo_file:\n",
    "    provincias = json.load(geo_file)"
   ]
  },
  {
   "cell_type": "code",
   "execution_count": 45,
   "id": "c27de529-760d-402d-b64f-a2a914674d93",
   "metadata": {},
   "outputs": [],
   "source": [
    "# #Create a basemap \n",
    "# map_0= KeplerGl(height=700, weight = 500, data={'morbilidad': morbi})\n",
    "# #show the map\n",
    "# map_0\n",
    "\n",
    "# map_0.add_data(data=provincias, name='geojson')"
   ]
  },
  {
   "cell_type": "code",
   "execution_count": null,
   "id": "24d63d4f-e445-45e8-9b44-c4460bec9c17",
   "metadata": {},
   "outputs": [],
   "source": []
  },
  {
   "cell_type": "code",
   "execution_count": 6,
   "id": "3fd2b62b",
   "metadata": {},
   "outputs": [],
   "source": [
    "total_pro = morbi.groupby('ProvHosp_nom').agg({'SexNom':'count'}).reset_index().rename({'SexNom':'ingresos'},axis=1)"
   ]
  },
  {
   "cell_type": "code",
   "execution_count": 7,
   "id": "ad2ee5b3",
   "metadata": {},
   "outputs": [],
   "source": [
    "geo_json = r\"../data/socioecon/spain_provinces.geojson\"\n",
    "with open (geo_json) as geo_file:\n",
    "    provincias = json.load(geo_file)"
   ]
  },
  {
   "cell_type": "code",
   "execution_count": 8,
   "id": "cb9d794d",
   "metadata": {},
   "outputs": [],
   "source": [
    "poly = {p['properties']['name']:p['geometry'] for p in provincias['features'] }"
   ]
  },
  {
   "cell_type": "code",
   "execution_count": 9,
   "id": "8f56e52b",
   "metadata": {},
   "outputs": [],
   "source": [
    "total_pro['pol'] = total_pro['ProvHosp_nom'].map(poly)"
   ]
  },
  {
   "cell_type": "code",
   "execution_count": 10,
   "id": "e4e6d91a-c50d-4870-acb8-9ce6660583d0",
   "metadata": {},
   "outputs": [
    {
     "data": {
      "text/html": [
       "<div>\n",
       "<style scoped>\n",
       "    .dataframe tbody tr th:only-of-type {\n",
       "        vertical-align: middle;\n",
       "    }\n",
       "\n",
       "    .dataframe tbody tr th {\n",
       "        vertical-align: top;\n",
       "    }\n",
       "\n",
       "    .dataframe thead th {\n",
       "        text-align: right;\n",
       "    }\n",
       "</style>\n",
       "<table border=\"1\" class=\"dataframe\">\n",
       "  <thead>\n",
       "    <tr style=\"text-align: right;\">\n",
       "      <th></th>\n",
       "      <th>ProvHosp_nom</th>\n",
       "      <th>ingresos</th>\n",
       "      <th>pol</th>\n",
       "    </tr>\n",
       "  </thead>\n",
       "  <tbody>\n",
       "    <tr>\n",
       "      <th>10</th>\n",
       "      <td>Castellón</td>\n",
       "      <td>2858</td>\n",
       "      <td>{'type': 'MultiPolygon', 'coordinates': [[[[-0...</td>\n",
       "    </tr>\n",
       "  </tbody>\n",
       "</table>\n",
       "</div>"
      ],
      "text/plain": [
       "   ProvHosp_nom  ingresos                                                pol\n",
       "10    Castellón      2858  {'type': 'MultiPolygon', 'coordinates': [[[[-0..."
      ]
     },
     "execution_count": 10,
     "metadata": {},
     "output_type": "execute_result"
    }
   ],
   "source": [
    "total_pro.sample()"
   ]
  },
  {
   "cell_type": "code",
   "execution_count": 11,
   "id": "a64244f9-ef04-49be-b09d-8935f83eba4c",
   "metadata": {},
   "outputs": [],
   "source": [
    "total_pob = pd.read_csv('../data/poblacion_prov.csv')"
   ]
  },
  {
   "cell_type": "code",
   "execution_count": 12,
   "id": "8b0bf28d-5987-48b0-ba39-404a1c4b831f",
   "metadata": {},
   "outputs": [],
   "source": [
    "total_pob = total_pob[total_pob['Sexo'] == 'Total']"
   ]
  },
  {
   "cell_type": "code",
   "execution_count": 13,
   "id": "ca89accb-1195-4cd8-bede-aa4b94e7967f",
   "metadata": {},
   "outputs": [
    {
     "data": {
      "text/html": [
       "<div>\n",
       "<style scoped>\n",
       "    .dataframe tbody tr th:only-of-type {\n",
       "        vertical-align: middle;\n",
       "    }\n",
       "\n",
       "    .dataframe tbody tr th {\n",
       "        vertical-align: top;\n",
       "    }\n",
       "\n",
       "    .dataframe thead th {\n",
       "        text-align: right;\n",
       "    }\n",
       "</style>\n",
       "<table border=\"1\" class=\"dataframe\">\n",
       "  <thead>\n",
       "    <tr style=\"text-align: right;\">\n",
       "      <th></th>\n",
       "      <th>Provincias</th>\n",
       "      <th>cod_pr</th>\n",
       "      <th>Sexo</th>\n",
       "      <th>Total</th>\n",
       "    </tr>\n",
       "  </thead>\n",
       "  <tbody>\n",
       "    <tr>\n",
       "      <th>134</th>\n",
       "      <td>Toledo</td>\n",
       "      <td>45</td>\n",
       "      <td>Total</td>\n",
       "      <td>633374.67</td>\n",
       "    </tr>\n",
       "    <tr>\n",
       "      <th>83</th>\n",
       "      <td>Madrid</td>\n",
       "      <td>28</td>\n",
       "      <td>Total</td>\n",
       "      <td>6059572.96</td>\n",
       "    </tr>\n",
       "    <tr>\n",
       "      <th>44</th>\n",
       "      <td>A Coruña</td>\n",
       "      <td>15</td>\n",
       "      <td>Total</td>\n",
       "      <td>1125365.04</td>\n",
       "    </tr>\n",
       "  </tbody>\n",
       "</table>\n",
       "</div>"
      ],
      "text/plain": [
       "    Provincias  cod_pr   Sexo       Total\n",
       "134     Toledo      45  Total   633374.67\n",
       "83      Madrid      28  Total  6059572.96\n",
       "44    A Coruña      15  Total  1125365.04"
      ]
     },
     "execution_count": 13,
     "metadata": {},
     "output_type": "execute_result"
    }
   ],
   "source": [
    "total_pob.sample(3)"
   ]
  },
  {
   "cell_type": "code",
   "execution_count": 14,
   "id": "525f2463-41c6-428e-a61c-de85304ac792",
   "metadata": {},
   "outputs": [],
   "source": [
    "dic_pob = {}\n",
    "for i,r in total_pob.iterrows():\n",
    "    dic_pob[r.Provincias] = r.Total"
   ]
  },
  {
   "cell_type": "code",
   "execution_count": 15,
   "id": "46537349-22de-4790-a996-e336d1005aa7",
   "metadata": {},
   "outputs": [],
   "source": [
    "total_pro['poblacion'] = total_pro.ProvHosp_nom.map(dic_pob)"
   ]
  },
  {
   "cell_type": "code",
   "execution_count": 16,
   "id": "f84cc3e0-a23d-47c8-875a-7aff751077fb",
   "metadata": {},
   "outputs": [
    {
     "data": {
      "text/html": [
       "<div>\n",
       "<style scoped>\n",
       "    .dataframe tbody tr th:only-of-type {\n",
       "        vertical-align: middle;\n",
       "    }\n",
       "\n",
       "    .dataframe tbody tr th {\n",
       "        vertical-align: top;\n",
       "    }\n",
       "\n",
       "    .dataframe thead th {\n",
       "        text-align: right;\n",
       "    }\n",
       "</style>\n",
       "<table border=\"1\" class=\"dataframe\">\n",
       "  <thead>\n",
       "    <tr style=\"text-align: right;\">\n",
       "      <th></th>\n",
       "      <th>ProvHosp_nom</th>\n",
       "      <th>ingresos</th>\n",
       "      <th>pol</th>\n",
       "      <th>poblacion</th>\n",
       "    </tr>\n",
       "  </thead>\n",
       "  <tbody>\n",
       "    <tr>\n",
       "      <th>14</th>\n",
       "      <td>Cáceres</td>\n",
       "      <td>5788</td>\n",
       "      <td>{'type': 'MultiPolygon', 'coordinates': [[[[-6...</td>\n",
       "      <td>408155.50</td>\n",
       "    </tr>\n",
       "    <tr>\n",
       "      <th>47</th>\n",
       "      <td>Vizcaya</td>\n",
       "      <td>17638</td>\n",
       "      <td>{'type': 'MultiPolygon', 'coordinates': [[[[-2...</td>\n",
       "      <td>1144973.25</td>\n",
       "    </tr>\n",
       "    <tr>\n",
       "      <th>13</th>\n",
       "      <td>Cuenca</td>\n",
       "      <td>1327</td>\n",
       "      <td>{'type': 'MultiPolygon', 'coordinates': [[[[-2...</td>\n",
       "      <td>205901.75</td>\n",
       "    </tr>\n",
       "  </tbody>\n",
       "</table>\n",
       "</div>"
      ],
      "text/plain": [
       "   ProvHosp_nom  ingresos                                                pol  \\\n",
       "14      Cáceres      5788  {'type': 'MultiPolygon', 'coordinates': [[[[-6...   \n",
       "47      Vizcaya     17638  {'type': 'MultiPolygon', 'coordinates': [[[[-2...   \n",
       "13       Cuenca      1327  {'type': 'MultiPolygon', 'coordinates': [[[[-2...   \n",
       "\n",
       "     poblacion  \n",
       "14   408155.50  \n",
       "47  1144973.25  \n",
       "13   205901.75  "
      ]
     },
     "execution_count": 16,
     "metadata": {},
     "output_type": "execute_result"
    }
   ],
   "source": [
    "total_pro.sample(3)"
   ]
  },
  {
   "cell_type": "code",
   "execution_count": 17,
   "id": "91c65523-e247-4ab6-9041-f3f5c75eefe8",
   "metadata": {},
   "outputs": [],
   "source": [
    "total_pro['ponde'] = ((total_pro.ingresos/total_pro.poblacion)*100000).round(2)"
   ]
  },
  {
   "cell_type": "code",
   "execution_count": 18,
   "id": "5f54dc96-a88e-4e19-a30e-92c12523e178",
   "metadata": {},
   "outputs": [
    {
     "data": {
      "text/html": [
       "<div>\n",
       "<style scoped>\n",
       "    .dataframe tbody tr th:only-of-type {\n",
       "        vertical-align: middle;\n",
       "    }\n",
       "\n",
       "    .dataframe tbody tr th {\n",
       "        vertical-align: top;\n",
       "    }\n",
       "\n",
       "    .dataframe thead th {\n",
       "        text-align: right;\n",
       "    }\n",
       "</style>\n",
       "<table border=\"1\" class=\"dataframe\">\n",
       "  <thead>\n",
       "    <tr style=\"text-align: right;\">\n",
       "      <th></th>\n",
       "      <th>ProvHosp_nom</th>\n",
       "      <th>ingresos</th>\n",
       "      <th>pol</th>\n",
       "      <th>poblacion</th>\n",
       "      <th>ponde</th>\n",
       "    </tr>\n",
       "  </thead>\n",
       "  <tbody>\n",
       "    <tr>\n",
       "      <th>51</th>\n",
       "      <td>Ávila</td>\n",
       "      <td>1215</td>\n",
       "      <td>{'type': 'MultiPolygon', 'coordinates': [[[[-5...</td>\n",
       "      <td>166206.83</td>\n",
       "      <td>731.02</td>\n",
       "    </tr>\n",
       "    <tr>\n",
       "      <th>26</th>\n",
       "      <td>León</td>\n",
       "      <td>3568</td>\n",
       "      <td>{'type': 'MultiPolygon', 'coordinates': [[[[-4...</td>\n",
       "      <td>490686.42</td>\n",
       "      <td>727.14</td>\n",
       "    </tr>\n",
       "    <tr>\n",
       "      <th>19</th>\n",
       "      <td>Guadalajara</td>\n",
       "      <td>1535</td>\n",
       "      <td>{'type': 'MultiPolygon', 'coordinates': [[[[-2...</td>\n",
       "      <td>221341.29</td>\n",
       "      <td>693.50</td>\n",
       "    </tr>\n",
       "  </tbody>\n",
       "</table>\n",
       "</div>"
      ],
      "text/plain": [
       "   ProvHosp_nom  ingresos                                                pol  \\\n",
       "51        Ávila      1215  {'type': 'MultiPolygon', 'coordinates': [[[[-5...   \n",
       "26         León      3568  {'type': 'MultiPolygon', 'coordinates': [[[[-4...   \n",
       "19  Guadalajara      1535  {'type': 'MultiPolygon', 'coordinates': [[[[-2...   \n",
       "\n",
       "    poblacion   ponde  \n",
       "51  166206.83  731.02  \n",
       "26  490686.42  727.14  \n",
       "19  221341.29  693.50  "
      ]
     },
     "execution_count": 18,
     "metadata": {},
     "output_type": "execute_result"
    }
   ],
   "source": [
    "total_pro.sample(3)"
   ]
  },
  {
   "cell_type": "code",
   "execution_count": 21,
   "id": "569c59c2-38d8-4a8d-b33c-3bc4b8ce30d2",
   "metadata": {},
   "outputs": [],
   "source": [
    "total_pro.to_csv('../output/kp_pro_tot.csv',index=False)"
   ]
  },
  {
   "cell_type": "code",
   "execution_count": 20,
   "id": "77626ed3-7e0d-45f7-8ab7-ba9f5446e1c5",
   "metadata": {},
   "outputs": [
    {
     "name": "stdout",
     "output_type": "stream",
     "text": [
      "User Guide: https://docs.kepler.gl/docs/keplergl-jupyter\n"
     ]
    },
    {
     "data": {
      "application/vnd.jupyter.widget-view+json": {
       "model_id": "ff37a1ebaf414e3488301d37e1710f4d",
       "version_major": 2,
       "version_minor": 0
      },
      "text/plain": [
       "KeplerGl(data={'total_pro':               ProvHosp_nom  ingresos  \\\n",
       "0                 A Coruña      7899   \n",
       "1 …"
      ]
     },
     "metadata": {},
     "output_type": "display_data"
    }
   ],
   "source": [
    "###### Create a basemap \n",
    "map_1= KeplerGl(height=700, weight = 500, data={'total_pro': total_pro})\n",
    "#show the map\n",
    "map_1"
   ]
  },
  {
   "cell_type": "code",
   "execution_count": 62,
   "id": "d55b48b8",
   "metadata": {},
   "outputs": [
    {
     "data": {
      "text/html": [
       "<div>\n",
       "<style scoped>\n",
       "    .dataframe tbody tr th:only-of-type {\n",
       "        vertical-align: middle;\n",
       "    }\n",
       "\n",
       "    .dataframe tbody tr th {\n",
       "        vertical-align: top;\n",
       "    }\n",
       "\n",
       "    .dataframe thead th {\n",
       "        text-align: right;\n",
       "    }\n",
       "</style>\n",
       "<table border=\"1\" class=\"dataframe\">\n",
       "  <thead>\n",
       "    <tr style=\"text-align: right;\">\n",
       "      <th></th>\n",
       "      <th>ProvHosp</th>\n",
       "      <th>Sexo</th>\n",
       "      <th>ProvResi</th>\n",
       "      <th>DiagEntr</th>\n",
       "      <th>DiagPrin</th>\n",
       "      <th>MotivoAlta</th>\n",
       "      <th>Edad</th>\n",
       "      <th>Dias</th>\n",
       "      <th>Factor</th>\n",
       "      <th>code</th>\n",
       "      <th>...</th>\n",
       "      <th>fecha_al</th>\n",
       "      <th>fecha_ing</th>\n",
       "      <th>year</th>\n",
       "      <th>month</th>\n",
       "      <th>day</th>\n",
       "      <th>Entrada</th>\n",
       "      <th>Alta</th>\n",
       "      <th>SexNom</th>\n",
       "      <th>ProvHosp_nom</th>\n",
       "      <th>ProvResi_nom</th>\n",
       "    </tr>\n",
       "  </thead>\n",
       "  <tbody>\n",
       "    <tr>\n",
       "      <th>78113</th>\n",
       "      <td>28</td>\n",
       "      <td>1</td>\n",
       "      <td>28</td>\n",
       "      <td>2</td>\n",
       "      <td>F333</td>\n",
       "      <td>1</td>\n",
       "      <td>69</td>\n",
       "      <td>13</td>\n",
       "      <td>1.08548</td>\n",
       "      <td>F33</td>\n",
       "      <td>...</td>\n",
       "      <td>2016-05-10</td>\n",
       "      <td>2016-04-27</td>\n",
       "      <td>2016</td>\n",
       "      <td>4</td>\n",
       "      <td>27</td>\n",
       "      <td>Urgente</td>\n",
       "      <td>Curación</td>\n",
       "      <td>Hombre</td>\n",
       "      <td>Madrid</td>\n",
       "      <td>Madrid</td>\n",
       "    </tr>\n",
       "  </tbody>\n",
       "</table>\n",
       "<p>1 rows × 21 columns</p>\n",
       "</div>"
      ],
      "text/plain": [
       "       ProvHosp  Sexo  ProvResi  DiagEntr DiagPrin  MotivoAlta  Edad  Dias  \\\n",
       "78113        28     1        28         2     F333           1    69    13   \n",
       "\n",
       "        Factor code  ...   fecha_al  fecha_ing  year  month  day  Entrada  \\\n",
       "78113  1.08548  F33  ... 2016-05-10 2016-04-27  2016      4   27  Urgente   \n",
       "\n",
       "           Alta  SexNom ProvHosp_nom ProvResi_nom  \n",
       "78113  Curación  Hombre       Madrid       Madrid  \n",
       "\n",
       "[1 rows x 21 columns]"
      ]
     },
     "execution_count": 62,
     "metadata": {},
     "output_type": "execute_result"
    }
   ],
   "source": [
    "morbi.sample()"
   ]
  },
  {
   "cell_type": "code",
   "execution_count": 63,
   "id": "16b50aad-148c-49b7-86d6-a5121f868967",
   "metadata": {},
   "outputs": [],
   "source": [
    "pro_day = morbi.groupby(['ProvHosp_nom','year','month']).agg({'day':'count','fecha_ing':'min'}).reset_index().rename({'day':'total'},axis=1)"
   ]
  },
  {
   "cell_type": "code",
   "execution_count": null,
   "id": "ed52082f-6d17-47d9-9cb8-a0e3fc0b69fe",
   "metadata": {},
   "outputs": [],
   "source": []
  },
  {
   "cell_type": "code",
   "execution_count": 64,
   "id": "d554c981-9cb4-43ab-8373-39691e7fa9e2",
   "metadata": {},
   "outputs": [
    {
     "data": {
      "text/html": [
       "<div>\n",
       "<style scoped>\n",
       "    .dataframe tbody tr th:only-of-type {\n",
       "        vertical-align: middle;\n",
       "    }\n",
       "\n",
       "    .dataframe tbody tr th {\n",
       "        vertical-align: top;\n",
       "    }\n",
       "\n",
       "    .dataframe thead th {\n",
       "        text-align: right;\n",
       "    }\n",
       "</style>\n",
       "<table border=\"1\" class=\"dataframe\">\n",
       "  <thead>\n",
       "    <tr style=\"text-align: right;\">\n",
       "      <th></th>\n",
       "      <th>ProvHosp_nom</th>\n",
       "      <th>year</th>\n",
       "      <th>month</th>\n",
       "      <th>total</th>\n",
       "      <th>fecha_ing</th>\n",
       "    </tr>\n",
       "  </thead>\n",
       "  <tbody>\n",
       "    <tr>\n",
       "      <th>477</th>\n",
       "      <td>Baleares</td>\n",
       "      <td>2014</td>\n",
       "      <td>12</td>\n",
       "      <td>5</td>\n",
       "      <td>2014-12-03</td>\n",
       "    </tr>\n",
       "  </tbody>\n",
       "</table>\n",
       "</div>"
      ],
      "text/plain": [
       "    ProvHosp_nom  year  month  total  fecha_ing\n",
       "477     Baleares  2014     12      5 2014-12-03"
      ]
     },
     "execution_count": 64,
     "metadata": {},
     "output_type": "execute_result"
    }
   ],
   "source": [
    "pro_day.sample()"
   ]
  },
  {
   "cell_type": "code",
   "execution_count": 65,
   "id": "3b87ff23-b4ec-4da2-9b18-b16217a2ab20",
   "metadata": {},
   "outputs": [
    {
     "data": {
      "text/plain": [
       "(3997, 5)"
      ]
     },
     "execution_count": 65,
     "metadata": {},
     "output_type": "execute_result"
    }
   ],
   "source": [
    "pro_day.shape"
   ]
  },
  {
   "cell_type": "code",
   "execution_count": 66,
   "id": "ec5f54ba-684a-40e3-aa1c-3c436959df48",
   "metadata": {},
   "outputs": [],
   "source": [
    "pro_day['geometry']= pro_day.ProvHosp_nom.map(poly)"
   ]
  },
  {
   "cell_type": "code",
   "execution_count": null,
   "id": "0e0444d4-abfe-4264-9218-a9c66a324498",
   "metadata": {},
   "outputs": [
    {
     "name": "stdout",
     "output_type": "stream",
     "text": [
      "User Guide: https://docs.kepler.gl/docs/keplergl-jupyter\n"
     ]
    }
   ],
   "source": [
    "map_2= KeplerGl(height=700, weight = 700, data={'Ingresos_dia': pro_day})\n",
    "map_2"
   ]
  },
  {
   "cell_type": "code",
   "execution_count": null,
   "id": "db366b7b-3e75-4b2d-8cbc-cbfa8dd8a7f9",
   "metadata": {},
   "outputs": [],
   "source": []
  }
 ],
 "metadata": {
  "kernelspec": {
   "display_name": "healthy",
   "language": "python",
   "name": "healthy"
  },
  "language_info": {
   "codemirror_mode": {
    "name": "ipython",
    "version": 3
   },
   "file_extension": ".py",
   "mimetype": "text/x-python",
   "name": "python",
   "nbconvert_exporter": "python",
   "pygments_lexer": "ipython3",
   "version": "3.8.10"
  }
 },
 "nbformat": 4,
 "nbformat_minor": 5
}
