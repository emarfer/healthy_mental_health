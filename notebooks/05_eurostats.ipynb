{
 "cells": [
  {
   "cell_type": "code",
   "execution_count": 1,
   "id": "9bbc0fae",
   "metadata": {},
   "outputs": [],
   "source": [
    "import pandas as pd\n",
    "import os"
   ]
  },
  {
   "cell_type": "code",
   "execution_count": 2,
   "id": "981f0191",
   "metadata": {},
   "outputs": [
    {
     "data": {
      "text/plain": [
       "['causes_death.tsv']"
      ]
     },
     "execution_count": 2,
     "metadata": {},
     "output_type": "execute_result"
    }
   ],
   "source": [
    "os.listdir('../data/eurostats')"
   ]
  },
  {
   "cell_type": "code",
   "execution_count": 3,
   "id": "e5b0b815",
   "metadata": {},
   "outputs": [],
   "source": [
    "euro_01 = pd.read_csv('../data/eurostats/causes_death.tsv')"
   ]
  },
  {
   "cell_type": "code",
   "execution_count": 4,
   "id": "f368ce6d",
   "metadata": {},
   "outputs": [],
   "source": [
    "col_eutime = euro_01.columns[-1]"
   ]
  },
  {
   "cell_type": "code",
   "execution_count": 5,
   "id": "c99db801",
   "metadata": {},
   "outputs": [],
   "source": [
    "new_col = euro_01.columns[-1].split('\\t')"
   ]
  },
  {
   "cell_type": "code",
   "execution_count": 6,
   "id": "3631e3ea",
   "metadata": {},
   "outputs": [],
   "source": [
    "euro_01[new_col] = euro_01[col_eutime].str.split(\"\\t\",expand=True)"
   ]
  },
  {
   "cell_type": "code",
   "execution_count": 7,
   "id": "c8339e96",
   "metadata": {},
   "outputs": [
    {
     "data": {
      "text/html": [
       "<div>\n",
       "<style scoped>\n",
       "    .dataframe tbody tr th:only-of-type {\n",
       "        vertical-align: middle;\n",
       "    }\n",
       "\n",
       "    .dataframe tbody tr th {\n",
       "        vertical-align: top;\n",
       "    }\n",
       "\n",
       "    .dataframe thead th {\n",
       "        text-align: right;\n",
       "    }\n",
       "</style>\n",
       "<table border=\"1\" class=\"dataframe\">\n",
       "  <thead>\n",
       "    <tr style=\"text-align: right;\">\n",
       "      <th></th>\n",
       "      <th>unit</th>\n",
       "      <th>sex</th>\n",
       "      <th>age</th>\n",
       "      <th>icd10</th>\n",
       "      <th>resid</th>\n",
       "      <th>geo\\time\\t2019 \\t2018 \\t2017 \\t2016 \\t2015 \\t2014 \\t2013 \\t2012 \\t2011</th>\n",
       "      <th>geo\\time</th>\n",
       "      <th>2019</th>\n",
       "      <th>2018</th>\n",
       "      <th>2017</th>\n",
       "      <th>2016</th>\n",
       "      <th>2015</th>\n",
       "      <th>2014</th>\n",
       "      <th>2013</th>\n",
       "      <th>2012</th>\n",
       "      <th>2011</th>\n",
       "    </tr>\n",
       "  </thead>\n",
       "  <tbody>\n",
       "    <tr>\n",
       "      <th>280956</th>\n",
       "      <td>NR</td>\n",
       "      <td>M</td>\n",
       "      <td>Y65-69</td>\n",
       "      <td>C53</td>\n",
       "      <td>TOT_RESID</td>\n",
       "      <td>HR\\t: \\t0 p\\t0 \\t: \\t: \\t: \\t: \\t: \\t:</td>\n",
       "      <td>HR</td>\n",
       "      <td>:</td>\n",
       "      <td>0 p</td>\n",
       "      <td>0</td>\n",
       "      <td>:</td>\n",
       "      <td>:</td>\n",
       "      <td>:</td>\n",
       "      <td>:</td>\n",
       "      <td>:</td>\n",
       "      <td>:</td>\n",
       "    </tr>\n",
       "    <tr>\n",
       "      <th>456624</th>\n",
       "      <td>NR</td>\n",
       "      <td>T</td>\n",
       "      <td>Y60-64</td>\n",
       "      <td>C64</td>\n",
       "      <td>TOT_IN</td>\n",
       "      <td>EL\\t44 \\t45 \\t51 \\t49 \\t37 \\t71 \\t46 \\t47 \\t48</td>\n",
       "      <td>EL</td>\n",
       "      <td>44</td>\n",
       "      <td>45</td>\n",
       "      <td>51</td>\n",
       "      <td>49</td>\n",
       "      <td>37</td>\n",
       "      <td>71</td>\n",
       "      <td>46</td>\n",
       "      <td>47</td>\n",
       "      <td>48</td>\n",
       "    </tr>\n",
       "    <tr>\n",
       "      <th>140996</th>\n",
       "      <td>NR</td>\n",
       "      <td>F</td>\n",
       "      <td>Y_GE65</td>\n",
       "      <td>K70_K73_K74</td>\n",
       "      <td>TOT_IN</td>\n",
       "      <td>SI\\t79 \\t59 \\t64 \\t65 \\t64 \\t78 \\t79 \\t91 \\t94</td>\n",
       "      <td>SI</td>\n",
       "      <td>79</td>\n",
       "      <td>59</td>\n",
       "      <td>64</td>\n",
       "      <td>65</td>\n",
       "      <td>64</td>\n",
       "      <td>78</td>\n",
       "      <td>79</td>\n",
       "      <td>91</td>\n",
       "      <td>94</td>\n",
       "    </tr>\n",
       "    <tr>\n",
       "      <th>417782</th>\n",
       "      <td>NR</td>\n",
       "      <td>T</td>\n",
       "      <td>Y35-39</td>\n",
       "      <td>C70-C72</td>\n",
       "      <td>TOT_IN</td>\n",
       "      <td>CH\\t: \\t7 \\t7 \\t8 \\t7 \\t17 \\t16 \\t8 \\t20</td>\n",
       "      <td>CH</td>\n",
       "      <td>:</td>\n",
       "      <td>7</td>\n",
       "      <td>7</td>\n",
       "      <td>8</td>\n",
       "      <td>7</td>\n",
       "      <td>17</td>\n",
       "      <td>16</td>\n",
       "      <td>8</td>\n",
       "      <td>20</td>\n",
       "    </tr>\n",
       "    <tr>\n",
       "      <th>99744</th>\n",
       "      <td>NR</td>\n",
       "      <td>F</td>\n",
       "      <td>Y65-69</td>\n",
       "      <td>C91-C95</td>\n",
       "      <td>TOT_IN</td>\n",
       "      <td>NL\\t40 \\t49 \\t47 \\t52 \\t69 \\t51 \\t48 \\t55 \\t47</td>\n",
       "      <td>NL</td>\n",
       "      <td>40</td>\n",
       "      <td>49</td>\n",
       "      <td>47</td>\n",
       "      <td>52</td>\n",
       "      <td>69</td>\n",
       "      <td>51</td>\n",
       "      <td>48</td>\n",
       "      <td>55</td>\n",
       "      <td>47</td>\n",
       "    </tr>\n",
       "  </tbody>\n",
       "</table>\n",
       "</div>"
      ],
      "text/plain": [
       "       unit sex     age        icd10      resid  \\\n",
       "280956   NR   M  Y65-69          C53  TOT_RESID   \n",
       "456624   NR   T  Y60-64          C64     TOT_IN   \n",
       "140996   NR   F  Y_GE65  K70_K73_K74     TOT_IN   \n",
       "417782   NR   T  Y35-39      C70-C72     TOT_IN   \n",
       "99744    NR   F  Y65-69      C91-C95     TOT_IN   \n",
       "\n",
       "       geo\\time\\t2019 \\t2018 \\t2017 \\t2016 \\t2015 \\t2014 \\t2013 \\t2012 \\t2011   \\\n",
       "280956            HR\\t: \\t0 p\\t0 \\t: \\t: \\t: \\t: \\t: \\t:                         \n",
       "456624    EL\\t44 \\t45 \\t51 \\t49 \\t37 \\t71 \\t46 \\t47 \\t48                         \n",
       "140996    SI\\t79 \\t59 \\t64 \\t65 \\t64 \\t78 \\t79 \\t91 \\t94                         \n",
       "417782          CH\\t: \\t7 \\t7 \\t8 \\t7 \\t17 \\t16 \\t8 \\t20                         \n",
       "99744     NL\\t40 \\t49 \\t47 \\t52 \\t69 \\t51 \\t48 \\t55 \\t47                         \n",
       "\n",
       "       geo\\time 2019  2018  2017  2016  2015  2014  2013  2012  2011   \n",
       "280956       HR    :    0 p    0     :     :     :     :     :     :   \n",
       "456624       EL   44    45    51    49    37    71    46    47    48   \n",
       "140996       SI   79    59    64    65    64    78    79    91    94   \n",
       "417782       CH    :     7     7     8     7    17    16     8    20   \n",
       "99744        NL   40    49    47    52    69    51    48    55    47   "
      ]
     },
     "execution_count": 7,
     "metadata": {},
     "output_type": "execute_result"
    }
   ],
   "source": [
    "euro_01.sample(5)"
   ]
  },
  {
   "cell_type": "code",
   "execution_count": 8,
   "id": "05bf5dd6",
   "metadata": {},
   "outputs": [
    {
     "data": {
      "text/plain": [
       "(545748, 16)"
      ]
     },
     "execution_count": 8,
     "metadata": {},
     "output_type": "execute_result"
    }
   ],
   "source": [
    "euro_01.shape"
   ]
  },
  {
   "cell_type": "code",
   "execution_count": 9,
   "id": "f009483e",
   "metadata": {},
   "outputs": [],
   "source": [
    "euro_01.drop(col_eutime,axis=1,inplace = True)\n"
   ]
  },
  {
   "cell_type": "code",
   "execution_count": 10,
   "id": "45e402b9",
   "metadata": {},
   "outputs": [],
   "source": [
    "euro_01.columns=euro_01.columns.str.strip()"
   ]
  },
  {
   "cell_type": "code",
   "execution_count": 11,
   "id": "56cc6b6a",
   "metadata": {},
   "outputs": [],
   "source": [
    "euro_01.drop('unit',axis=1,inplace = True)"
   ]
  },
  {
   "cell_type": "code",
   "execution_count": 12,
   "id": "f0881861",
   "metadata": {},
   "outputs": [],
   "source": [
    "euro_01.rename({\"geo\\\\time\":\"c_code\"},axis=1,inplace =True)"
   ]
  },
  {
   "cell_type": "code",
   "execution_count": 13,
   "id": "fb0fd1b9",
   "metadata": {
    "scrolled": true
   },
   "outputs": [
    {
     "data": {
      "text/plain": [
       "array(['A-R_V-Y', 'A15-A19_B90', 'ACC', 'ACC_OTH', 'A_B', 'A_B_OTH',\n",
       "       'B15-B19_B942', 'B180-B182', 'B20-B24', 'C', 'C00-C14', 'C00-D48',\n",
       "       'C15', 'C16', 'C18-C21', 'C22', 'C25', 'C32', 'C33_C34', 'C43',\n",
       "       'C50', 'C53', 'C54_C55', 'C56', 'C61', 'C64', 'C67', 'C70-C72',\n",
       "       'C73', 'C81-C86', 'C88_C90_C96', 'C91-C95', 'C_OTH', 'D00-D48',\n",
       "       'D50-D89', 'E', 'E10-E14', 'E_OTH', 'F', 'F01_F03', 'F10', 'F_OTH',\n",
       "       'G20', 'G30', 'G_H', 'G_H_OTH', 'I', 'I20-I25', 'I20_I23-I25',\n",
       "       'I21_I22', 'I30-I51', 'I60-I69', 'I_OTH', 'J', 'J09-J11',\n",
       "       'J12-J18', 'J40-J44_J47', 'J40-J47', 'J45_J46', 'J_OTH', 'K',\n",
       "       'K25-K28', 'K70_K73_K74', 'K72-K75', 'K_OTH', 'L', 'M', 'M_OTH',\n",
       "       'N', 'N00-N29', 'N_OTH', 'O', 'P', 'Q', 'R', 'R95', 'R96-R99',\n",
       "       'RHEUM_ARTHRO', 'R_OTH', 'TOXICO', 'V01-Y89', 'V01-Y89_OTH',\n",
       "       'V_Y85', 'W00-W19', 'W65-W74', 'X40-X49', 'X60-X84_Y870',\n",
       "       'X85-Y09_Y871', 'Y10-Y34_Y872'], dtype=object)"
      ]
     },
     "execution_count": 13,
     "metadata": {},
     "output_type": "execute_result"
    }
   ],
   "source": [
    "euro_01.icd10.unique()"
   ]
  },
  {
   "cell_type": "code",
   "execution_count": 14,
   "id": "9c04682f",
   "metadata": {},
   "outputs": [
    {
     "name": "stderr",
     "output_type": "stream",
     "text": [
      "<ipython-input-14-c8388e9bdf26>:1: UserWarning: This pattern has match groups. To actually get the groups, use str.extract.\n",
      "  euro_01 = euro_01[euro_01[\"icd10\"].str.contains(r'(^F)')]\n"
     ]
    }
   ],
   "source": [
    "euro_01 = euro_01[euro_01[\"icd10\"].str.contains(r'(^F)')]"
   ]
  },
  {
   "cell_type": "code",
   "execution_count": 15,
   "id": "d2ab3d9f",
   "metadata": {},
   "outputs": [],
   "source": [
    "#[TOT_IN] All deaths reported in the country \n",
    "# [TOT_RESID] All deaths of residents in or outside their home country\n",
    "#only tot_in"
   ]
  },
  {
   "cell_type": "code",
   "execution_count": 16,
   "id": "a01a9b59",
   "metadata": {},
   "outputs": [],
   "source": [
    "euro_01 = euro_01[euro_01['resid'] == 'TOT_IN']"
   ]
  },
  {
   "cell_type": "code",
   "execution_count": 17,
   "id": "dc533505",
   "metadata": {},
   "outputs": [],
   "source": [
    "euro_01.drop('resid',axis=1,inplace=True)"
   ]
  },
  {
   "cell_type": "code",
   "execution_count": 18,
   "id": "1658c0b6",
   "metadata": {},
   "outputs": [
    {
     "data": {
      "text/plain": [
       "array(['F', 'M', 'T'], dtype=object)"
      ]
     },
     "execution_count": 18,
     "metadata": {},
     "output_type": "execute_result"
    }
   ],
   "source": [
    "euro_01.sex.unique() #drop T"
   ]
  },
  {
   "cell_type": "code",
   "execution_count": 19,
   "id": "7a3ed369",
   "metadata": {},
   "outputs": [
    {
     "data": {
      "text/plain": [
       "array(['TOTAL', 'Y1-4', 'Y10-14', 'Y15-19', 'Y15-24', 'Y20-24', 'Y25-29',\n",
       "       'Y30-34', 'Y35-39', 'Y40-44', 'Y45-49', 'Y5-9', 'Y50-54', 'Y55-59',\n",
       "       'Y60-64', 'Y65-69', 'Y70-74', 'Y75-79', 'Y80-84', 'Y85-89',\n",
       "       'Y90-94', 'Y_GE65', 'Y_GE85', 'Y_GE95', 'Y_LT1', 'Y_LT15',\n",
       "       'Y_LT25', 'Y_LT65'], dtype=object)"
      ]
     },
     "execution_count": 19,
     "metadata": {},
     "output_type": "execute_result"
    }
   ],
   "source": [
    "euro_01.age.unique() #drop TOTAL"
   ]
  },
  {
   "cell_type": "code",
   "execution_count": 20,
   "id": "0864d3c7",
   "metadata": {},
   "outputs": [
    {
     "data": {
      "text/html": [
       "<div>\n",
       "<style scoped>\n",
       "    .dataframe tbody tr th:only-of-type {\n",
       "        vertical-align: middle;\n",
       "    }\n",
       "\n",
       "    .dataframe tbody tr th {\n",
       "        vertical-align: top;\n",
       "    }\n",
       "\n",
       "    .dataframe thead th {\n",
       "        text-align: right;\n",
       "    }\n",
       "</style>\n",
       "<table border=\"1\" class=\"dataframe\">\n",
       "  <thead>\n",
       "    <tr style=\"text-align: right;\">\n",
       "      <th></th>\n",
       "      <th>sex</th>\n",
       "      <th>age</th>\n",
       "      <th>icd10</th>\n",
       "      <th>c_code</th>\n",
       "      <th>2019</th>\n",
       "      <th>2018</th>\n",
       "      <th>2017</th>\n",
       "      <th>2016</th>\n",
       "      <th>2015</th>\n",
       "      <th>2014</th>\n",
       "      <th>2013</th>\n",
       "      <th>2012</th>\n",
       "      <th>2011</th>\n",
       "    </tr>\n",
       "  </thead>\n",
       "  <tbody>\n",
       "    <tr>\n",
       "      <th>184924</th>\n",
       "      <td>M</td>\n",
       "      <td>TOTAL</td>\n",
       "      <td>F_OTH</td>\n",
       "      <td>FX</td>\n",
       "      <td>:</td>\n",
       "      <td>:</td>\n",
       "      <td>1587</td>\n",
       "      <td>1465</td>\n",
       "      <td>1507</td>\n",
       "      <td>1277</td>\n",
       "      <td>1316</td>\n",
       "      <td>1284</td>\n",
       "      <td>1142</td>\n",
       "    </tr>\n",
       "    <tr>\n",
       "      <th>464303</th>\n",
       "      <td>T</td>\n",
       "      <td>Y65-69</td>\n",
       "      <td>F_OTH</td>\n",
       "      <td>LU</td>\n",
       "      <td>3</td>\n",
       "      <td>1</td>\n",
       "      <td>2</td>\n",
       "      <td>3</td>\n",
       "      <td>0</td>\n",
       "      <td>1</td>\n",
       "      <td>0</td>\n",
       "      <td>1</td>\n",
       "      <td>0</td>\n",
       "    </tr>\n",
       "    <tr>\n",
       "      <th>464289</th>\n",
       "      <td>T</td>\n",
       "      <td>Y65-69</td>\n",
       "      <td>F_OTH</td>\n",
       "      <td>EL</td>\n",
       "      <td>13</td>\n",
       "      <td>22</td>\n",
       "      <td>12</td>\n",
       "      <td>9</td>\n",
       "      <td>10</td>\n",
       "      <td>4</td>\n",
       "      <td>0</td>\n",
       "      <td>0</td>\n",
       "      <td>0</td>\n",
       "    </tr>\n",
       "    <tr>\n",
       "      <th>269186</th>\n",
       "      <td>M</td>\n",
       "      <td>Y55-59</td>\n",
       "      <td>F</td>\n",
       "      <td>TR</td>\n",
       "      <td>:</td>\n",
       "      <td>10</td>\n",
       "      <td>10</td>\n",
       "      <td>22</td>\n",
       "      <td>13</td>\n",
       "      <td>10</td>\n",
       "      <td>13</td>\n",
       "      <td>36</td>\n",
       "      <td>23</td>\n",
       "    </tr>\n",
       "    <tr>\n",
       "      <th>178197</th>\n",
       "      <td>F</td>\n",
       "      <td>Y_LT65</td>\n",
       "      <td>F</td>\n",
       "      <td>CY</td>\n",
       "      <td>:</td>\n",
       "      <td>5</td>\n",
       "      <td>1</td>\n",
       "      <td>1</td>\n",
       "      <td>2</td>\n",
       "      <td>1</td>\n",
       "      <td>3</td>\n",
       "      <td>0</td>\n",
       "      <td>1</td>\n",
       "    </tr>\n",
       "    <tr>\n",
       "      <th>61251</th>\n",
       "      <td>F</td>\n",
       "      <td>Y40-44</td>\n",
       "      <td>F</td>\n",
       "      <td>CY</td>\n",
       "      <td>:</td>\n",
       "      <td>0</td>\n",
       "      <td>0</td>\n",
       "      <td>0</td>\n",
       "      <td>1</td>\n",
       "      <td>0</td>\n",
       "      <td>0</td>\n",
       "      <td>0</td>\n",
       "      <td>0</td>\n",
       "    </tr>\n",
       "    <tr>\n",
       "      <th>22374</th>\n",
       "      <td>F</td>\n",
       "      <td>Y15-19</td>\n",
       "      <td>F01_F03</td>\n",
       "      <td>UK</td>\n",
       "      <td>:</td>\n",
       "      <td>0</td>\n",
       "      <td>0</td>\n",
       "      <td>0</td>\n",
       "      <td>0</td>\n",
       "      <td>0</td>\n",
       "      <td>0</td>\n",
       "      <td>0</td>\n",
       "      <td>0</td>\n",
       "    </tr>\n",
       "    <tr>\n",
       "      <th>503272</th>\n",
       "      <td>T</td>\n",
       "      <td>Y_GE65</td>\n",
       "      <td>F_OTH</td>\n",
       "      <td>ES</td>\n",
       "      <td>421</td>\n",
       "      <td>360</td>\n",
       "      <td>371</td>\n",
       "      <td>441</td>\n",
       "      <td>461</td>\n",
       "      <td>429</td>\n",
       "      <td>270</td>\n",
       "      <td>310</td>\n",
       "      <td>263</td>\n",
       "    </tr>\n",
       "    <tr>\n",
       "      <th>275810</th>\n",
       "      <td>M</td>\n",
       "      <td>Y60-64</td>\n",
       "      <td>F10</td>\n",
       "      <td>HR</td>\n",
       "      <td>42</td>\n",
       "      <td>34</td>\n",
       "      <td>23</td>\n",
       "      <td>32</td>\n",
       "      <td>31</td>\n",
       "      <td>32</td>\n",
       "      <td>35</td>\n",
       "      <td>36</td>\n",
       "      <td>41</td>\n",
       "    </tr>\n",
       "    <tr>\n",
       "      <th>464082</th>\n",
       "      <td>T</td>\n",
       "      <td>Y65-69</td>\n",
       "      <td>F</td>\n",
       "      <td>LI</td>\n",
       "      <td>0</td>\n",
       "      <td>0</td>\n",
       "      <td>0</td>\n",
       "      <td>0</td>\n",
       "      <td>0</td>\n",
       "      <td>0</td>\n",
       "      <td>0</td>\n",
       "      <td>0</td>\n",
       "      <td>1</td>\n",
       "    </tr>\n",
       "  </tbody>\n",
       "</table>\n",
       "</div>"
      ],
      "text/plain": [
       "       sex     age    icd10 c_code  2019  2018   2017   2016   2015   2014  \\\n",
       "184924   M   TOTAL    F_OTH     FX    :     :   1587   1465   1507   1277    \n",
       "464303   T  Y65-69    F_OTH     LU    3     1      2      3      0      1    \n",
       "464289   T  Y65-69    F_OTH     EL   13    22     12      9     10      4    \n",
       "269186   M  Y55-59        F     TR    :    10     10     22     13     10    \n",
       "178197   F  Y_LT65        F     CY    :     5      1      1      2      1    \n",
       "61251    F  Y40-44        F     CY    :     0      0      0      1      0    \n",
       "22374    F  Y15-19  F01_F03     UK    :     0      0      0      0      0    \n",
       "503272   T  Y_GE65    F_OTH     ES  421   360    371    441    461    429    \n",
       "275810   M  Y60-64      F10     HR   42    34     23     32     31     32    \n",
       "464082   T  Y65-69        F     LI    0     0      0      0      0      0    \n",
       "\n",
       "         2013   2012   2011  \n",
       "184924  1316   1284   1142   \n",
       "464303     0      1      0   \n",
       "464289     0      0      0   \n",
       "269186    13     36     23   \n",
       "178197     3      0      1   \n",
       "61251      0      0      0   \n",
       "22374      0      0      0   \n",
       "503272   270    310    263   \n",
       "275810    35     36     41   \n",
       "464082     0      0      1   "
      ]
     },
     "execution_count": 20,
     "metadata": {},
     "output_type": "execute_result"
    }
   ],
   "source": [
    "euro_01.sample(10)"
   ]
  },
  {
   "cell_type": "code",
   "execution_count": 21,
   "id": "2d19f7ba",
   "metadata": {},
   "outputs": [],
   "source": [
    "euro_01 = euro_01[euro_01['age'] != 'TOTAL']"
   ]
  },
  {
   "cell_type": "code",
   "execution_count": 22,
   "id": "a0b1cd18",
   "metadata": {},
   "outputs": [],
   "source": [
    "euro_01 = euro_01[euro_01['sex'] != 'T']"
   ]
  },
  {
   "cell_type": "code",
   "execution_count": 23,
   "id": "78f26e96",
   "metadata": {},
   "outputs": [
    {
     "data": {
      "text/plain": [
       "array(['F', 'F01_F03', 'F10', 'F_OTH'], dtype=object)"
      ]
     },
     "execution_count": 23,
     "metadata": {},
     "output_type": "execute_result"
    }
   ],
   "source": [
    "euro_01.icd10.unique()"
   ]
  },
  {
   "cell_type": "code",
   "execution_count": 24,
   "id": "97cdc06a",
   "metadata": {},
   "outputs": [],
   "source": [
    "# [F] Mental and behavioural disorders (F00-F99)\n",
    "# [F_OTH] Other mental and behavioural disorders (remainder of F00-F99)\n",
    "#  [F01_F03] Dementia\n",
    "# [F10] Mental and behavioural disorders due to use of alcohol\n",
    "F_dic = {\"F\":\"Mental and behavioural disorders\",\"F10\":'Mental and behavioural disorders due to use of alcohol','F01_F03':'Dementia',\n",
    "            'F10':'Mental and behavioural disorders due to use of alcohol','F_OTH':'Other mental and behavioural disorders'}"
   ]
  },
  {
   "cell_type": "code",
   "execution_count": 25,
   "id": "cc220169",
   "metadata": {},
   "outputs": [],
   "source": [
    "euro_01[\"diag\"] = euro_01.icd10.replace(F_dic)"
   ]
  },
  {
   "cell_type": "code",
   "execution_count": 26,
   "id": "52689ada",
   "metadata": {},
   "outputs": [
    {
     "data": {
      "text/plain": [
       "9271      AT\n",
       "9272      BE\n",
       "9273      BG\n",
       "9274      CH\n",
       "9275      CY\n",
       "          ..\n",
       "360360    SE\n",
       "360361    SI\n",
       "360362    SK\n",
       "360363    TR\n",
       "360364    UK\n",
       "Name: c_code, Length: 7992, dtype: object"
      ]
     },
     "execution_count": 26,
     "metadata": {},
     "output_type": "execute_result"
    }
   ],
   "source": [
    "euro_01.c_code"
   ]
  },
  {
   "cell_type": "code",
   "execution_count": 27,
   "id": "8039357f",
   "metadata": {},
   "outputs": [
    {
     "data": {
      "text/plain": [
       "array(['AT', 'BE', 'BG', 'CH', 'CY', 'CZ', 'DE', 'DK', 'EE', 'EL', 'ES',\n",
       "       'EU27_2020', 'EU28', 'FI', 'FR', 'FX', 'HR', 'HU', 'IE', 'IS',\n",
       "       'IT', 'LI', 'LT', 'LU', 'LV', 'MT', 'NL', 'NO', 'PL', 'PT', 'RO',\n",
       "       'RS', 'SE', 'SI', 'SK', 'TR', 'UK'], dtype=object)"
      ]
     },
     "execution_count": 27,
     "metadata": {},
     "output_type": "execute_result"
    }
   ],
   "source": [
    "euro_01.c_code.unique()"
   ]
  },
  {
   "cell_type": "code",
   "execution_count": 28,
   "id": "329dcc87",
   "metadata": {},
   "outputs": [],
   "source": [
    "eurozon = ['EU27_2020', 'EU28']"
   ]
  },
  {
   "cell_type": "code",
   "execution_count": 29,
   "id": "1d272878",
   "metadata": {},
   "outputs": [],
   "source": [
    "euro_01 = euro_01[euro_01['c_code'].isin(eurozon) == False]"
   ]
  },
  {
   "cell_type": "code",
   "execution_count": 30,
   "id": "f8d610b3",
   "metadata": {},
   "outputs": [],
   "source": [
    "#FX = France, metropolitan\n",
    "countries_dic = {\"AT\":\"Austria\",\"BE\":\"Belgium\",\"BG\":\"Bulgaria\",\"HR\":\"Croatia\",\"CY\":\"Cyprus\",\"CZ\":\"Czech Republic\",\"DK\":\"Denmark\",\n",
    "\"EE\":\"Estonia\",\"FI\":\"Finland\",\"FR\":\"France\",\"FX\":\"France\",\"DE\":\"Germany\",\"EL\":\"Greece\",\"HU\":\"Hungary\",\"IS\":\"Iceland\",\"IE\":\"Ireland, Republic of (EIRE)\",\n",
    "\"IT\":\"Italy\",\"LV\":\"Latvia\",\"LT\":\"Lithuania\",\"LI\":\"Liechtenstein\",\"LU\":\"Luxembourg\",\"MT\":\"Malta\",\"NL\":\"Netherlands\",\"NO\":\"Norway\",\"PL\":\"Poland\",\n",
    "\"PT\":\"Portugal\",\"RO\":\"Romania\",\"SK\":\"Slovakia\",\"SI\":\"Slovenia\",\"ES\":\"Spain\",\"RS\":\"Serbia\",\"SE\":\"Sweden\",\"CH\":\"Switzerland\",\"TR\":\"Turkey\",\"UK\":\"United Kingdom\"}"
   ]
  },
  {
   "cell_type": "code",
   "execution_count": 31,
   "id": "628fd1e2",
   "metadata": {},
   "outputs": [],
   "source": [
    "euro_01[\"country\"] = euro_01['c_code'].replace(countries_dic)"
   ]
  },
  {
   "cell_type": "code",
   "execution_count": 32,
   "id": "88101ad1",
   "metadata": {},
   "outputs": [
    {
     "data": {
      "text/plain": [
       "array(['Austria', 'Belgium', 'Bulgaria', 'Switzerland', 'Cyprus',\n",
       "       'Czech Republic', 'Germany', 'Denmark', 'Estonia', 'Greece',\n",
       "       'Spain', 'Finland', 'France', 'Croatia', 'Hungary',\n",
       "       'Ireland, Republic of (EIRE)', 'Iceland', 'Italy', 'Liechtenstein',\n",
       "       'Lithuania', 'Luxembourg', 'Latvia', 'Malta', 'Netherlands',\n",
       "       'Norway', 'Poland', 'Portugal', 'Romania', 'Serbia', 'Sweden',\n",
       "       'Slovenia', 'Slovakia', 'Turkey', 'United Kingdom'], dtype=object)"
      ]
     },
     "execution_count": 32,
     "metadata": {},
     "output_type": "execute_result"
    }
   ],
   "source": [
    "euro_01.country.unique()"
   ]
  },
  {
   "cell_type": "code",
   "execution_count": 33,
   "id": "55e1a3c1",
   "metadata": {},
   "outputs": [
    {
     "data": {
      "text/html": [
       "<div>\n",
       "<style scoped>\n",
       "    .dataframe tbody tr th:only-of-type {\n",
       "        vertical-align: middle;\n",
       "    }\n",
       "\n",
       "    .dataframe tbody tr th {\n",
       "        vertical-align: top;\n",
       "    }\n",
       "\n",
       "    .dataframe thead th {\n",
       "        text-align: right;\n",
       "    }\n",
       "</style>\n",
       "<table border=\"1\" class=\"dataframe\">\n",
       "  <thead>\n",
       "    <tr style=\"text-align: right;\">\n",
       "      <th></th>\n",
       "      <th>sex</th>\n",
       "      <th>age</th>\n",
       "      <th>icd10</th>\n",
       "      <th>c_code</th>\n",
       "      <th>2019</th>\n",
       "      <th>2018</th>\n",
       "      <th>2017</th>\n",
       "      <th>2016</th>\n",
       "      <th>2015</th>\n",
       "      <th>2014</th>\n",
       "      <th>2013</th>\n",
       "      <th>2012</th>\n",
       "      <th>2011</th>\n",
       "      <th>diag</th>\n",
       "      <th>country</th>\n",
       "    </tr>\n",
       "  </thead>\n",
       "  <tbody>\n",
       "    <tr>\n",
       "      <th>295364</th>\n",
       "      <td>M</td>\n",
       "      <td>Y75-79</td>\n",
       "      <td>F_OTH</td>\n",
       "      <td>DE</td>\n",
       "      <td>102</td>\n",
       "      <td>130</td>\n",
       "      <td>155</td>\n",
       "      <td>130</td>\n",
       "      <td>104</td>\n",
       "      <td>79</td>\n",
       "      <td>66</td>\n",
       "      <td>62</td>\n",
       "      <td>55</td>\n",
       "      <td>Other mental and behavioural disorders</td>\n",
       "      <td>Germany</td>\n",
       "    </tr>\n",
       "    <tr>\n",
       "      <th>334209</th>\n",
       "      <td>M</td>\n",
       "      <td>Y_GE95</td>\n",
       "      <td>F01_F03</td>\n",
       "      <td>FX</td>\n",
       "      <td>:</td>\n",
       "      <td>:</td>\n",
       "      <td>634</td>\n",
       "      <td>555</td>\n",
       "      <td>448</td>\n",
       "      <td>318</td>\n",
       "      <td>345</td>\n",
       "      <td>348</td>\n",
       "      <td>368</td>\n",
       "      <td>Dementia</td>\n",
       "      <td>France</td>\n",
       "    </tr>\n",
       "    <tr>\n",
       "      <th>15850</th>\n",
       "      <td>F</td>\n",
       "      <td>Y10-14</td>\n",
       "      <td>F01_F03</td>\n",
       "      <td>EL</td>\n",
       "      <td>0</td>\n",
       "      <td>0</td>\n",
       "      <td>0</td>\n",
       "      <td>0</td>\n",
       "      <td>0</td>\n",
       "      <td>0</td>\n",
       "      <td>0</td>\n",
       "      <td>0</td>\n",
       "      <td>0</td>\n",
       "      <td>Dementia</td>\n",
       "      <td>Greece</td>\n",
       "    </tr>\n",
       "    <tr>\n",
       "      <th>197699</th>\n",
       "      <td>M</td>\n",
       "      <td>Y10-14</td>\n",
       "      <td>F</td>\n",
       "      <td>FX</td>\n",
       "      <td>:</td>\n",
       "      <td>:</td>\n",
       "      <td>1</td>\n",
       "      <td>0</td>\n",
       "      <td>0</td>\n",
       "      <td>1</td>\n",
       "      <td>0</td>\n",
       "      <td>0</td>\n",
       "      <td>0</td>\n",
       "      <td>Mental and behavioural disorders</td>\n",
       "      <td>France</td>\n",
       "    </tr>\n",
       "    <tr>\n",
       "      <th>67841</th>\n",
       "      <td>F</td>\n",
       "      <td>Y45-49</td>\n",
       "      <td>F01_F03</td>\n",
       "      <td>LV</td>\n",
       "      <td>:</td>\n",
       "      <td>0</td>\n",
       "      <td>0</td>\n",
       "      <td>0</td>\n",
       "      <td>0</td>\n",
       "      <td>0</td>\n",
       "      <td>0</td>\n",
       "      <td>0</td>\n",
       "      <td>0</td>\n",
       "      <td>Dementia</td>\n",
       "      <td>Latvia</td>\n",
       "    </tr>\n",
       "  </tbody>\n",
       "</table>\n",
       "</div>"
      ],
      "text/plain": [
       "       sex     age    icd10 c_code  2019  2018  2017  2016  2015  2014  2013  \\\n",
       "295364   M  Y75-79    F_OTH     DE  102   130   155   130   104    79    66    \n",
       "334209   M  Y_GE95  F01_F03     FX    :     :   634   555   448   318   345    \n",
       "15850    F  Y10-14  F01_F03     EL    0     0     0     0     0     0     0    \n",
       "197699   M  Y10-14        F     FX    :     :     1     0     0     1     0    \n",
       "67841    F  Y45-49  F01_F03     LV    :     0     0     0     0     0     0    \n",
       "\n",
       "        2012  2011                                    diag  country  \n",
       "295364   62    55   Other mental and behavioural disorders  Germany  \n",
       "334209  348   368                                 Dementia   France  \n",
       "15850     0     0                                 Dementia   Greece  \n",
       "197699    0     0         Mental and behavioural disorders   France  \n",
       "67841     0     0                                 Dementia   Latvia  "
      ]
     },
     "execution_count": 33,
     "metadata": {},
     "output_type": "execute_result"
    }
   ],
   "source": [
    "euro_01.sample(5)"
   ]
  },
  {
   "cell_type": "code",
   "execution_count": 34,
   "id": "49203cfa",
   "metadata": {},
   "outputs": [],
   "source": [
    "years = euro_01.columns[4:13]"
   ]
  },
  {
   "cell_type": "code",
   "execution_count": 35,
   "id": "ac8928fa",
   "metadata": {},
   "outputs": [
    {
     "data": {
      "text/plain": [
       "Index(['2019', '2018', '2017', '2016', '2015', '2014', '2013', '2012', '2011'], dtype='object')"
      ]
     },
     "execution_count": 35,
     "metadata": {},
     "output_type": "execute_result"
    }
   ],
   "source": [
    "years"
   ]
  },
  {
   "cell_type": "code",
   "execution_count": 36,
   "id": "7c5e837f",
   "metadata": {},
   "outputs": [],
   "source": [
    "for y in years:\n",
    "    euro_01[y]=euro_01[y].str.strip()"
   ]
  },
  {
   "cell_type": "code",
   "execution_count": 37,
   "id": "264871c0",
   "metadata": {},
   "outputs": [
    {
     "name": "stdout",
     "output_type": "stream",
     "text": [
      "<class 'pandas.core.frame.DataFrame'>\n",
      "Int64Index: 7560 entries, 9271 to 360364\n",
      "Data columns (total 15 columns):\n",
      " #   Column   Non-Null Count  Dtype \n",
      "---  ------   --------------  ----- \n",
      " 0   sex      7560 non-null   object\n",
      " 1   age      7560 non-null   object\n",
      " 2   icd10    7560 non-null   object\n",
      " 3   c_code   7560 non-null   object\n",
      " 4   2019     7560 non-null   object\n",
      " 5   2018     7560 non-null   object\n",
      " 6   2017     7560 non-null   object\n",
      " 7   2016     7560 non-null   object\n",
      " 8   2015     7560 non-null   object\n",
      " 9   2014     7560 non-null   object\n",
      " 10  2013     7560 non-null   object\n",
      " 11  2012     7560 non-null   object\n",
      " 12  2011     7560 non-null   object\n",
      " 13  diag     7560 non-null   object\n",
      " 14  country  7560 non-null   object\n",
      "dtypes: object(15)\n",
      "memory usage: 945.0+ KB\n"
     ]
    }
   ],
   "source": [
    "euro_01.info()"
   ]
  },
  {
   "cell_type": "code",
   "execution_count": 38,
   "id": "b88d69db",
   "metadata": {},
   "outputs": [],
   "source": [
    "dropeo_desconocido = euro_01[(euro_01[\"2017\"] == ': c') | (euro_01[\"2016\"] == ': c')].index"
   ]
  },
  {
   "cell_type": "code",
   "execution_count": 39,
   "id": "6dc14e8e",
   "metadata": {},
   "outputs": [
    {
     "data": {
      "text/plain": [
       "(7560, 15)"
      ]
     },
     "execution_count": 39,
     "metadata": {},
     "output_type": "execute_result"
    }
   ],
   "source": [
    "euro_01.shape"
   ]
  },
  {
   "cell_type": "code",
   "execution_count": 40,
   "id": "67778816",
   "metadata": {},
   "outputs": [],
   "source": [
    "euro_01.drop(dropeo_desconocido,inplace=True)"
   ]
  },
  {
   "cell_type": "code",
   "execution_count": 41,
   "id": "b22670d2",
   "metadata": {},
   "outputs": [
    {
     "data": {
      "text/html": [
       "<div>\n",
       "<style scoped>\n",
       "    .dataframe tbody tr th:only-of-type {\n",
       "        vertical-align: middle;\n",
       "    }\n",
       "\n",
       "    .dataframe tbody tr th {\n",
       "        vertical-align: top;\n",
       "    }\n",
       "\n",
       "    .dataframe thead th {\n",
       "        text-align: right;\n",
       "    }\n",
       "</style>\n",
       "<table border=\"1\" class=\"dataframe\">\n",
       "  <thead>\n",
       "    <tr style=\"text-align: right;\">\n",
       "      <th></th>\n",
       "      <th>sex</th>\n",
       "      <th>age</th>\n",
       "      <th>icd10</th>\n",
       "      <th>c_code</th>\n",
       "      <th>2019</th>\n",
       "      <th>2018</th>\n",
       "      <th>2017</th>\n",
       "      <th>2016</th>\n",
       "      <th>2015</th>\n",
       "      <th>2014</th>\n",
       "      <th>2013</th>\n",
       "      <th>2012</th>\n",
       "      <th>2011</th>\n",
       "      <th>diag</th>\n",
       "      <th>country</th>\n",
       "    </tr>\n",
       "  </thead>\n",
       "  <tbody>\n",
       "    <tr>\n",
       "      <th>9272</th>\n",
       "      <td>F</td>\n",
       "      <td>Y1-4</td>\n",
       "      <td>F</td>\n",
       "      <td>BE</td>\n",
       "      <td>:</td>\n",
       "      <td>0</td>\n",
       "      <td>0</td>\n",
       "      <td>0</td>\n",
       "      <td>1</td>\n",
       "      <td>0</td>\n",
       "      <td>0</td>\n",
       "      <td>0</td>\n",
       "      <td>0</td>\n",
       "      <td>Mental and behavioural disorders</td>\n",
       "      <td>Belgium</td>\n",
       "    </tr>\n",
       "    <tr>\n",
       "      <th>9274</th>\n",
       "      <td>F</td>\n",
       "      <td>Y1-4</td>\n",
       "      <td>F</td>\n",
       "      <td>CH</td>\n",
       "      <td>:</td>\n",
       "      <td>0</td>\n",
       "      <td>0</td>\n",
       "      <td>0</td>\n",
       "      <td>0</td>\n",
       "      <td>0</td>\n",
       "      <td>0</td>\n",
       "      <td>0</td>\n",
       "      <td>1</td>\n",
       "      <td>Mental and behavioural disorders</td>\n",
       "      <td>Switzerland</td>\n",
       "    </tr>\n",
       "    <tr>\n",
       "      <th>9278</th>\n",
       "      <td>F</td>\n",
       "      <td>Y1-4</td>\n",
       "      <td>F</td>\n",
       "      <td>DK</td>\n",
       "      <td>:</td>\n",
       "      <td>0</td>\n",
       "      <td>0</td>\n",
       "      <td>0</td>\n",
       "      <td>0</td>\n",
       "      <td>0</td>\n",
       "      <td>0</td>\n",
       "      <td>0</td>\n",
       "      <td>0</td>\n",
       "      <td>Mental and behavioural disorders</td>\n",
       "      <td>Denmark</td>\n",
       "    </tr>\n",
       "    <tr>\n",
       "      <th>9285</th>\n",
       "      <td>F</td>\n",
       "      <td>Y1-4</td>\n",
       "      <td>F</td>\n",
       "      <td>FR</td>\n",
       "      <td>:</td>\n",
       "      <td>:</td>\n",
       "      <td>0</td>\n",
       "      <td>0</td>\n",
       "      <td>0</td>\n",
       "      <td>0</td>\n",
       "      <td>0</td>\n",
       "      <td>1</td>\n",
       "      <td>0</td>\n",
       "      <td>Mental and behavioural disorders</td>\n",
       "      <td>France</td>\n",
       "    </tr>\n",
       "    <tr>\n",
       "      <th>9286</th>\n",
       "      <td>F</td>\n",
       "      <td>Y1-4</td>\n",
       "      <td>F</td>\n",
       "      <td>FX</td>\n",
       "      <td>:</td>\n",
       "      <td>:</td>\n",
       "      <td>0</td>\n",
       "      <td>0</td>\n",
       "      <td>0</td>\n",
       "      <td>0</td>\n",
       "      <td>0</td>\n",
       "      <td>1</td>\n",
       "      <td>0</td>\n",
       "      <td>Mental and behavioural disorders</td>\n",
       "      <td>France</td>\n",
       "    </tr>\n",
       "    <tr>\n",
       "      <th>...</th>\n",
       "      <td>...</td>\n",
       "      <td>...</td>\n",
       "      <td>...</td>\n",
       "      <td>...</td>\n",
       "      <td>...</td>\n",
       "      <td>...</td>\n",
       "      <td>...</td>\n",
       "      <td>...</td>\n",
       "      <td>...</td>\n",
       "      <td>...</td>\n",
       "      <td>...</td>\n",
       "      <td>...</td>\n",
       "      <td>...</td>\n",
       "      <td>...</td>\n",
       "      <td>...</td>\n",
       "    </tr>\n",
       "    <tr>\n",
       "      <th>360355</th>\n",
       "      <td>M</td>\n",
       "      <td>Y_LT65</td>\n",
       "      <td>F_OTH</td>\n",
       "      <td>NO</td>\n",
       "      <td>:</td>\n",
       "      <td>11</td>\n",
       "      <td>14</td>\n",
       "      <td>6</td>\n",
       "      <td>11</td>\n",
       "      <td>6</td>\n",
       "      <td>7</td>\n",
       "      <td>14</td>\n",
       "      <td>12</td>\n",
       "      <td>Other mental and behavioural disorders</td>\n",
       "      <td>Norway</td>\n",
       "    </tr>\n",
       "    <tr>\n",
       "      <th>360357</th>\n",
       "      <td>M</td>\n",
       "      <td>Y_LT65</td>\n",
       "      <td>F_OTH</td>\n",
       "      <td>PT</td>\n",
       "      <td>:</td>\n",
       "      <td>21</td>\n",
       "      <td>16</td>\n",
       "      <td>22</td>\n",
       "      <td>14</td>\n",
       "      <td>14</td>\n",
       "      <td>29</td>\n",
       "      <td>22</td>\n",
       "      <td>24</td>\n",
       "      <td>Other mental and behavioural disorders</td>\n",
       "      <td>Portugal</td>\n",
       "    </tr>\n",
       "    <tr>\n",
       "      <th>360360</th>\n",
       "      <td>M</td>\n",
       "      <td>Y_LT65</td>\n",
       "      <td>F_OTH</td>\n",
       "      <td>SE</td>\n",
       "      <td>:</td>\n",
       "      <td>9</td>\n",
       "      <td>12</td>\n",
       "      <td>14</td>\n",
       "      <td>12</td>\n",
       "      <td>7</td>\n",
       "      <td>13</td>\n",
       "      <td>14</td>\n",
       "      <td>10</td>\n",
       "      <td>Other mental and behavioural disorders</td>\n",
       "      <td>Sweden</td>\n",
       "    </tr>\n",
       "    <tr>\n",
       "      <th>360363</th>\n",
       "      <td>M</td>\n",
       "      <td>Y_LT65</td>\n",
       "      <td>F_OTH</td>\n",
       "      <td>TR</td>\n",
       "      <td>:</td>\n",
       "      <td>39</td>\n",
       "      <td>49</td>\n",
       "      <td>41</td>\n",
       "      <td>59</td>\n",
       "      <td>27</td>\n",
       "      <td>44</td>\n",
       "      <td>98</td>\n",
       "      <td>81</td>\n",
       "      <td>Other mental and behavioural disorders</td>\n",
       "      <td>Turkey</td>\n",
       "    </tr>\n",
       "    <tr>\n",
       "      <th>360364</th>\n",
       "      <td>M</td>\n",
       "      <td>Y_LT65</td>\n",
       "      <td>F_OTH</td>\n",
       "      <td>UK</td>\n",
       "      <td>:</td>\n",
       "      <td>22</td>\n",
       "      <td>25</td>\n",
       "      <td>24</td>\n",
       "      <td>21</td>\n",
       "      <td>15</td>\n",
       "      <td>22</td>\n",
       "      <td>21</td>\n",
       "      <td>20</td>\n",
       "      <td>Other mental and behavioural disorders</td>\n",
       "      <td>United Kingdom</td>\n",
       "    </tr>\n",
       "  </tbody>\n",
       "</table>\n",
       "<p>3260 rows × 15 columns</p>\n",
       "</div>"
      ],
      "text/plain": [
       "       sex     age  icd10 c_code 2019 2018 2017 2016 2015 2014 2013 2012 2011  \\\n",
       "9272     F    Y1-4      F     BE    :    0    0    0    1    0    0    0    0   \n",
       "9274     F    Y1-4      F     CH    :    0    0    0    0    0    0    0    1   \n",
       "9278     F    Y1-4      F     DK    :    0    0    0    0    0    0    0    0   \n",
       "9285     F    Y1-4      F     FR    :    :    0    0    0    0    0    1    0   \n",
       "9286     F    Y1-4      F     FX    :    :    0    0    0    0    0    1    0   \n",
       "...     ..     ...    ...    ...  ...  ...  ...  ...  ...  ...  ...  ...  ...   \n",
       "360355   M  Y_LT65  F_OTH     NO    :   11   14    6   11    6    7   14   12   \n",
       "360357   M  Y_LT65  F_OTH     PT    :   21   16   22   14   14   29   22   24   \n",
       "360360   M  Y_LT65  F_OTH     SE    :    9   12   14   12    7   13   14   10   \n",
       "360363   M  Y_LT65  F_OTH     TR    :   39   49   41   59   27   44   98   81   \n",
       "360364   M  Y_LT65  F_OTH     UK    :   22   25   24   21   15   22   21   20   \n",
       "\n",
       "                                          diag         country  \n",
       "9272          Mental and behavioural disorders         Belgium  \n",
       "9274          Mental and behavioural disorders     Switzerland  \n",
       "9278          Mental and behavioural disorders         Denmark  \n",
       "9285          Mental and behavioural disorders          France  \n",
       "9286          Mental and behavioural disorders          France  \n",
       "...                                        ...             ...  \n",
       "360355  Other mental and behavioural disorders          Norway  \n",
       "360357  Other mental and behavioural disorders        Portugal  \n",
       "360360  Other mental and behavioural disorders          Sweden  \n",
       "360363  Other mental and behavioural disorders          Turkey  \n",
       "360364  Other mental and behavioural disorders  United Kingdom  \n",
       "\n",
       "[3260 rows x 15 columns]"
      ]
     },
     "execution_count": 41,
     "metadata": {},
     "output_type": "execute_result"
    }
   ],
   "source": [
    "euro_01[euro_01[\"2019\"] == \":\"]"
   ]
  },
  {
   "cell_type": "code",
   "execution_count": 42,
   "id": "3a9c8032",
   "metadata": {},
   "outputs": [],
   "source": [
    "for y in years:\n",
    "    euro_01[y]=euro_01[y].replace(':','0')"
   ]
  },
  {
   "cell_type": "code",
   "execution_count": 43,
   "id": "97a5c418",
   "metadata": {},
   "outputs": [],
   "source": [
    "for y in years:\n",
    "    indexando = []\n",
    "    indexando.append(list(euro_01[euro_01[y] == ': c'].index))\n",
    "    euro_01.drop(indexando[0],inplace = True)"
   ]
  },
  {
   "cell_type": "code",
   "execution_count": 46,
   "id": "de920fe7",
   "metadata": {},
   "outputs": [
    {
     "data": {
      "text/plain": [
       "(6997, 15)"
      ]
     },
     "execution_count": 46,
     "metadata": {},
     "output_type": "execute_result"
    }
   ],
   "source": [
    "euro_01.shape"
   ]
  },
  {
   "cell_type": "code",
   "execution_count": null,
   "id": "cc2e088e",
   "metadata": {},
   "outputs": [],
   "source": []
  }
 ],
 "metadata": {
  "kernelspec": {
   "display_name": "ironhack",
   "language": "python",
   "name": "ironhack"
  },
  "language_info": {
   "codemirror_mode": {
    "name": "ipython",
    "version": 3
   },
   "file_extension": ".py",
   "mimetype": "text/x-python",
   "name": "python",
   "nbconvert_exporter": "python",
   "pygments_lexer": "ipython3",
   "version": "3.8.5"
  }
 },
 "nbformat": 4,
 "nbformat_minor": 5
}
