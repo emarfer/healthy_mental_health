{
 "cells": [
  {
   "cell_type": "code",
   "execution_count": 1,
   "metadata": {},
   "outputs": [],
   "source": [
    "import pandas as pd\n",
    "import requests\n",
    "from bs4 import BeautifulSoup\n"
   ]
  },
  {
   "cell_type": "markdown",
   "metadata": {},
   "source": [
    "[wiki](https://es.wikipedia.org/wiki/Anexo:CIE-10_Cap%C3%ADtulo_V:_Trastornos_mentales_y_del_comportamiento)"
   ]
  },
  {
   "cell_type": "code",
   "execution_count": 2,
   "metadata": {},
   "outputs": [],
   "source": [
    "url = \"https://es.wikipedia.org/wiki/Anexo:CIE-10_Cap%C3%ADtulo_V:_Trastornos_mentales_y_del_comportamiento\"\n",
    "html = requests.get(url)\n",
    "soup = BeautifulSoup(html.content,\"html.parser\")"
   ]
  },
  {
   "cell_type": "code",
   "execution_count": 4,
   "metadata": {},
   "outputs": [],
   "source": [
    "tags = soup.find_all(\"li\")"
   ]
  },
  {
   "cell_type": "code",
   "execution_count": 67,
   "metadata": {},
   "outputs": [],
   "source": [
    "# diag = []\n",
    "# for t in tags[12:-65]:\n",
    "#     diag.append(t.getText()[:100])\n"
   ]
  },
  {
   "cell_type": "code",
   "execution_count": 98,
   "metadata": {},
   "outputs": [],
   "source": [
    "head_line = soup.find_all('h2')"
   ]
  },
  {
   "cell_type": "code",
   "execution_count": 125,
   "metadata": {},
   "outputs": [],
   "source": [
    "cap = {}\n",
    "for h in head_line[1:-2]:\n",
    "    cap[h.getText()[:-8].split(' ',1)[0][1:-1]] = h.getText()[:-8].split(' ',1)[1]\n",
    "capitulo = pd.DataFrame([[key,cap[key]] for key in cap.keys()], columns = [\"code\",\"diag\"])"
   ]
  },
  {
   "cell_type": "code",
   "execution_count": 126,
   "metadata": {},
   "outputs": [
    {
     "data": {
      "text/html": [
       "<div>\n",
       "<style scoped>\n",
       "    .dataframe tbody tr th:only-of-type {\n",
       "        vertical-align: middle;\n",
       "    }\n",
       "\n",
       "    .dataframe tbody tr th {\n",
       "        vertical-align: top;\n",
       "    }\n",
       "\n",
       "    .dataframe thead th {\n",
       "        text-align: right;\n",
       "    }\n",
       "</style>\n",
       "<table border=\"1\" class=\"dataframe\">\n",
       "  <thead>\n",
       "    <tr style=\"text-align: right;\">\n",
       "      <th></th>\n",
       "      <th>code</th>\n",
       "      <th>diag</th>\n",
       "    </tr>\n",
       "  </thead>\n",
       "  <tbody>\n",
       "    <tr>\n",
       "      <th>0</th>\n",
       "      <td>F00-F09</td>\n",
       "      <td>Trastornos mentales orgánicos, incluidos los t...</td>\n",
       "    </tr>\n",
       "    <tr>\n",
       "      <th>1</th>\n",
       "      <td>F10-F19</td>\n",
       "      <td>Trastornos mentales y de comportamiento debido...</td>\n",
       "    </tr>\n",
       "    <tr>\n",
       "      <th>2</th>\n",
       "      <td>F20-29</td>\n",
       "      <td>Esquizofrenia, trastornos esquizotípicos y tra...</td>\n",
       "    </tr>\n",
       "    <tr>\n",
       "      <th>3</th>\n",
       "      <td>F30-39</td>\n",
       "      <td>Trastornos del estado de animo, trastornos afe...</td>\n",
       "    </tr>\n",
       "    <tr>\n",
       "      <th>4</th>\n",
       "      <td>F40-49</td>\n",
       "      <td>Trastornos neuróticos, trastornos relacionados...</td>\n",
       "    </tr>\n",
       "    <tr>\n",
       "      <th>5</th>\n",
       "      <td>F50-59</td>\n",
       "      <td>Síndromes del comportamiento asociados con alt...</td>\n",
       "    </tr>\n",
       "    <tr>\n",
       "      <th>6</th>\n",
       "      <td>F60-69</td>\n",
       "      <td>Trastornos de la personalidad y del comportami...</td>\n",
       "    </tr>\n",
       "    <tr>\n",
       "      <th>7</th>\n",
       "      <td>F70-79</td>\n",
       "      <td>Retraso mental</td>\n",
       "    </tr>\n",
       "    <tr>\n",
       "      <th>8</th>\n",
       "      <td>F80-89</td>\n",
       "      <td>Trastornos del desarrollo psicológico</td>\n",
       "    </tr>\n",
       "    <tr>\n",
       "      <th>9</th>\n",
       "      <td>F90-F98</td>\n",
       "      <td>Trastornos emocionales y del comportamiento qu...</td>\n",
       "    </tr>\n",
       "    <tr>\n",
       "      <th>10</th>\n",
       "      <td>F99</td>\n",
       "      <td>Trastornos mentales sin especificar</td>\n",
       "    </tr>\n",
       "  </tbody>\n",
       "</table>\n",
       "</div>"
      ],
      "text/plain": [
       "       code                                               diag\n",
       "0   F00-F09  Trastornos mentales orgánicos, incluidos los t...\n",
       "1   F10-F19  Trastornos mentales y de comportamiento debido...\n",
       "2    F20-29  Esquizofrenia, trastornos esquizotípicos y tra...\n",
       "3    F30-39  Trastornos del estado de animo, trastornos afe...\n",
       "4    F40-49  Trastornos neuróticos, trastornos relacionados...\n",
       "5    F50-59  Síndromes del comportamiento asociados con alt...\n",
       "6    F60-69  Trastornos de la personalidad y del comportami...\n",
       "7    F70-79                                     Retraso mental\n",
       "8    F80-89              Trastornos del desarrollo psicológico\n",
       "9   F90-F98  Trastornos emocionales y del comportamiento qu...\n",
       "10      F99                Trastornos mentales sin especificar"
      ]
     },
     "execution_count": 126,
     "metadata": {},
     "output_type": "execute_result"
    }
   ],
   "source": [
    "capitulo"
   ]
  },
  {
   "cell_type": "code",
   "execution_count": 202,
   "metadata": {},
   "outputs": [],
   "source": [
    "dia = {}\n",
    "for t in tags[12:-65]:\n",
    "    dia[t.getText()[:110].split(' ',1)[0]] = t.getText()[:110].split(' ',1)[1]\n",
    "diag = pd.DataFrame([[key,dia[key]] for key in dia.keys()], columns = [\"code\",\"diag\"])\n"
   ]
  },
  {
   "cell_type": "code",
   "execution_count": 203,
   "metadata": {},
   "outputs": [],
   "source": [
    "sin_p = {r\"[(]\":\"\",r\"[)]\":\"\"}\n",
    "\n",
    "diag.code = diag.code.replace(sin_p,regex=True)"
   ]
  },
  {
   "cell_type": "code",
   "execution_count": 204,
   "metadata": {},
   "outputs": [],
   "source": [
    "diagnos = diag[diag[\"code\"].str.match(r\"(^F..$)\")]"
   ]
  },
  {
   "cell_type": "code",
   "execution_count": 205,
   "metadata": {},
   "outputs": [],
   "source": [
    "diagnos = pd.concat([capitulo,diagnos])"
   ]
  },
  {
   "cell_type": "code",
   "execution_count": 212,
   "metadata": {},
   "outputs": [],
   "source": [
    "for i,r in diagnos.iterrows():\n",
    "    if \"\\n\" in r.diag:\n",
    "        r.diag = r.diag.split(\"\\n\")[0]"
   ]
  },
  {
   "cell_type": "code",
   "execution_count": 215,
   "metadata": {},
   "outputs": [
    {
     "data": {
      "text/html": [
       "<div>\n",
       "<style scoped>\n",
       "    .dataframe tbody tr th:only-of-type {\n",
       "        vertical-align: middle;\n",
       "    }\n",
       "\n",
       "    .dataframe tbody tr th {\n",
       "        vertical-align: top;\n",
       "    }\n",
       "\n",
       "    .dataframe thead th {\n",
       "        text-align: right;\n",
       "    }\n",
       "</style>\n",
       "<table border=\"1\" class=\"dataframe\">\n",
       "  <thead>\n",
       "    <tr style=\"text-align: right;\">\n",
       "      <th></th>\n",
       "      <th>code</th>\n",
       "      <th>diag</th>\n",
       "    </tr>\n",
       "  </thead>\n",
       "  <tbody>\n",
       "    <tr>\n",
       "      <th>150</th>\n",
       "      <td>F43</td>\n",
       "      <td>Reacción al stress grave y trastornos de adapt...</td>\n",
       "    </tr>\n",
       "    <tr>\n",
       "      <th>33</th>\n",
       "      <td>F10</td>\n",
       "      <td>Trastornos mentales y de comportamiento debido...</td>\n",
       "    </tr>\n",
       "    <tr>\n",
       "      <th>196</th>\n",
       "      <td>F62</td>\n",
       "      <td>Cambios de personalidad duraderos, no atribuib...</td>\n",
       "    </tr>\n",
       "    <tr>\n",
       "      <th>3</th>\n",
       "      <td>F02</td>\n",
       "      <td>Demencia en otras enfermedades clasificadas</td>\n",
       "    </tr>\n",
       "    <tr>\n",
       "      <th>41</th>\n",
       "      <td>F18</td>\n",
       "      <td>Trastornos mentales y de comportamiento debido...</td>\n",
       "    </tr>\n",
       "    <tr>\n",
       "      <th>83</th>\n",
       "      <td>F31</td>\n",
       "      <td>Trastorno bipolar</td>\n",
       "    </tr>\n",
       "    <tr>\n",
       "      <th>157</th>\n",
       "      <td>F45</td>\n",
       "      <td>Trastorno somatomorfo</td>\n",
       "    </tr>\n",
       "    <tr>\n",
       "      <th>70</th>\n",
       "      <td>F28</td>\n",
       "      <td>Otros trastornos psicóticos no orgánicos</td>\n",
       "    </tr>\n",
       "    <tr>\n",
       "      <th>161</th>\n",
       "      <td>F50</td>\n",
       "      <td>Trastornos de la ingestión de alimentos</td>\n",
       "    </tr>\n",
       "    <tr>\n",
       "      <th>215</th>\n",
       "      <td>F66</td>\n",
       "      <td>Trastornos psicológicos y de comportamiento as...</td>\n",
       "    </tr>\n",
       "  </tbody>\n",
       "</table>\n",
       "</div>"
      ],
      "text/plain": [
       "    code                                               diag\n",
       "150  F43  Reacción al stress grave y trastornos de adapt...\n",
       "33   F10  Trastornos mentales y de comportamiento debido...\n",
       "196  F62  Cambios de personalidad duraderos, no atribuib...\n",
       "3    F02        Demencia en otras enfermedades clasificadas\n",
       "41   F18  Trastornos mentales y de comportamiento debido...\n",
       "83   F31                                  Trastorno bipolar\n",
       "157  F45                              Trastorno somatomorfo\n",
       "70   F28           Otros trastornos psicóticos no orgánicos\n",
       "161  F50            Trastornos de la ingestión de alimentos\n",
       "215  F66  Trastornos psicológicos y de comportamiento as..."
      ]
     },
     "execution_count": 215,
     "metadata": {},
     "output_type": "execute_result"
    }
   ],
   "source": [
    "diagnos.sample(10)"
   ]
  },
  {
   "cell_type": "code",
   "execution_count": 216,
   "metadata": {},
   "outputs": [],
   "source": [
    "diagnos.to_csv(\"../data/diagnos.csv\", index=False)"
   ]
  }
 ],
 "metadata": {
  "kernelspec": {
   "display_name": "ironhack",
   "language": "python",
   "name": "ironhack"
  },
  "language_info": {
   "codemirror_mode": {
    "name": "ipython",
    "version": 3
   },
   "file_extension": ".py",
   "mimetype": "text/x-python",
   "name": "python",
   "nbconvert_exporter": "python",
   "pygments_lexer": "ipython3",
   "version": "3.8.5"
  }
 },
 "nbformat": 4,
 "nbformat_minor": 5
}
