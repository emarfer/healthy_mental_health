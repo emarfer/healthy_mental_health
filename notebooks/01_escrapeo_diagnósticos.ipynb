{
 "cells": [
  {
   "cell_type": "code",
   "execution_count": 14,
   "metadata": {},
   "outputs": [],
   "source": [
    "import pandas as pd\n",
    "import requests\n",
    "from bs4 import BeautifulSoup\n"
   ]
  },
  {
   "cell_type": "markdown",
   "metadata": {},
   "source": [
    "[wiki](https://es.wikipedia.org/wiki/Anexo:CIE-10_Cap%C3%ADtulo_V:_Trastornos_mentales_y_del_comportamiento)"
   ]
  },
  {
   "cell_type": "code",
   "execution_count": 15,
   "metadata": {},
   "outputs": [],
   "source": [
    "url = \"https://es.wikipedia.org/wiki/Anexo:CIE-10_Cap%C3%ADtulo_V:_Trastornos_mentales_y_del_comportamiento\"\n",
    "html = requests.get(url)\n",
    "soup = BeautifulSoup(html.content,\"html.parser\")"
   ]
  },
  {
   "cell_type": "code",
   "execution_count": 16,
   "metadata": {},
   "outputs": [],
   "source": [
    "tags = soup.find_all(\"li\")"
   ]
  },
  {
   "cell_type": "code",
   "execution_count": 17,
   "metadata": {},
   "outputs": [],
   "source": [
    "# diag = []\n",
    "# for t in tags[12:-65]:\n",
    "#     diag.append(t.getText()[:100])\n"
   ]
  },
  {
   "cell_type": "code",
   "execution_count": 18,
   "metadata": {},
   "outputs": [],
   "source": [
    "head_line = soup.find_all('h2')"
   ]
  },
  {
   "cell_type": "code",
   "execution_count": 19,
   "metadata": {},
   "outputs": [],
   "source": [
    "cap = {}\n",
    "for h in head_line[1:-2]:\n",
    "    cap[h.getText()[:-8].split(' ',1)[0][1:-1]] = h.getText()[:-8].split(' ',1)[1]\n",
    "capitulo = pd.DataFrame([[key,cap[key]] for key in cap.keys()], columns = [\"code\",\"diag\"])"
   ]
  },
  {
   "cell_type": "code",
   "execution_count": 20,
   "metadata": {},
   "outputs": [
    {
     "data": {
      "text/html": [
       "<div>\n",
       "<style scoped>\n",
       "    .dataframe tbody tr th:only-of-type {\n",
       "        vertical-align: middle;\n",
       "    }\n",
       "\n",
       "    .dataframe tbody tr th {\n",
       "        vertical-align: top;\n",
       "    }\n",
       "\n",
       "    .dataframe thead th {\n",
       "        text-align: right;\n",
       "    }\n",
       "</style>\n",
       "<table border=\"1\" class=\"dataframe\">\n",
       "  <thead>\n",
       "    <tr style=\"text-align: right;\">\n",
       "      <th></th>\n",
       "      <th>code</th>\n",
       "      <th>diag</th>\n",
       "    </tr>\n",
       "  </thead>\n",
       "  <tbody>\n",
       "    <tr>\n",
       "      <th>0</th>\n",
       "      <td>F00-F09</td>\n",
       "      <td>Trastornos mentales orgánicos, incluidos los t...</td>\n",
       "    </tr>\n",
       "    <tr>\n",
       "      <th>1</th>\n",
       "      <td>F10-F19</td>\n",
       "      <td>Trastornos mentales y de comportamiento debido...</td>\n",
       "    </tr>\n",
       "    <tr>\n",
       "      <th>2</th>\n",
       "      <td>F20-29</td>\n",
       "      <td>Esquizofrenia, trastornos esquizotípicos y tra...</td>\n",
       "    </tr>\n",
       "    <tr>\n",
       "      <th>3</th>\n",
       "      <td>F30-39</td>\n",
       "      <td>Trastornos del estado de animo, trastornos afe...</td>\n",
       "    </tr>\n",
       "    <tr>\n",
       "      <th>4</th>\n",
       "      <td>F40-49</td>\n",
       "      <td>Trastornos neuróticos, trastornos relacionados...</td>\n",
       "    </tr>\n",
       "    <tr>\n",
       "      <th>5</th>\n",
       "      <td>F50-59</td>\n",
       "      <td>Síndromes del comportamiento asociados con alt...</td>\n",
       "    </tr>\n",
       "    <tr>\n",
       "      <th>6</th>\n",
       "      <td>F60-69</td>\n",
       "      <td>Trastornos de la personalidad y del comportami...</td>\n",
       "    </tr>\n",
       "    <tr>\n",
       "      <th>7</th>\n",
       "      <td>F70-79</td>\n",
       "      <td>Retraso mental</td>\n",
       "    </tr>\n",
       "    <tr>\n",
       "      <th>8</th>\n",
       "      <td>F80-89</td>\n",
       "      <td>Trastornos del desarrollo psicológico</td>\n",
       "    </tr>\n",
       "    <tr>\n",
       "      <th>9</th>\n",
       "      <td>F90-F98</td>\n",
       "      <td>Trastornos emocionales y del comportamiento qu...</td>\n",
       "    </tr>\n",
       "    <tr>\n",
       "      <th>10</th>\n",
       "      <td>F99</td>\n",
       "      <td>Trastornos mentales sin especificar</td>\n",
       "    </tr>\n",
       "  </tbody>\n",
       "</table>\n",
       "</div>"
      ],
      "text/plain": [
       "       code                                               diag\n",
       "0   F00-F09  Trastornos mentales orgánicos, incluidos los t...\n",
       "1   F10-F19  Trastornos mentales y de comportamiento debido...\n",
       "2    F20-29  Esquizofrenia, trastornos esquizotípicos y tra...\n",
       "3    F30-39  Trastornos del estado de animo, trastornos afe...\n",
       "4    F40-49  Trastornos neuróticos, trastornos relacionados...\n",
       "5    F50-59  Síndromes del comportamiento asociados con alt...\n",
       "6    F60-69  Trastornos de la personalidad y del comportami...\n",
       "7    F70-79                                     Retraso mental\n",
       "8    F80-89              Trastornos del desarrollo psicológico\n",
       "9   F90-F98  Trastornos emocionales y del comportamiento qu...\n",
       "10      F99                Trastornos mentales sin especificar"
      ]
     },
     "execution_count": 20,
     "metadata": {},
     "output_type": "execute_result"
    }
   ],
   "source": [
    "capitulo"
   ]
  },
  {
   "cell_type": "code",
   "execution_count": 21,
   "metadata": {},
   "outputs": [],
   "source": [
    "dia = {}\n",
    "for t in tags[12:-65]:\n",
    "    dia[t.getText()[:110].split(' ',1)[0]] = t.getText()[:110].split(' ',1)[1]\n",
    "diag = pd.DataFrame([[key,dia[key]] for key in dia.keys()], columns = [\"code\",\"diag\"])\n"
   ]
  },
  {
   "cell_type": "code",
   "execution_count": 23,
   "metadata": {},
   "outputs": [],
   "source": [
    "sin_p = {r\"[(]\":\"\",r\"[)]\":\"\"}\n",
    "\n",
    "diag.code = diag.code.replace(sin_p,regex=True)"
   ]
  },
  {
   "cell_type": "code",
   "execution_count": 24,
   "metadata": {},
   "outputs": [],
   "source": [
    "diagnos = diag[diag[\"code\"].str.match(r\"(^F..$)\")]"
   ]
  },
  {
   "cell_type": "code",
   "execution_count": 25,
   "metadata": {},
   "outputs": [],
   "source": [
    "diagnos = pd.concat([capitulo,diagnos])"
   ]
  },
  {
   "cell_type": "code",
   "execution_count": 26,
   "metadata": {},
   "outputs": [],
   "source": [
    "for i,r in diagnos.iterrows():\n",
    "    if \"\\n\" in r.diag:\n",
    "        r.diag = r.diag.split(\"\\n\")[0]"
   ]
  },
  {
   "cell_type": "code",
   "execution_count": 28,
   "metadata": {},
   "outputs": [
    {
     "data": {
      "text/html": [
       "<div>\n",
       "<style scoped>\n",
       "    .dataframe tbody tr th:only-of-type {\n",
       "        vertical-align: middle;\n",
       "    }\n",
       "\n",
       "    .dataframe tbody tr th {\n",
       "        vertical-align: top;\n",
       "    }\n",
       "\n",
       "    .dataframe thead th {\n",
       "        text-align: right;\n",
       "    }\n",
       "</style>\n",
       "<table border=\"1\" class=\"dataframe\">\n",
       "  <thead>\n",
       "    <tr style=\"text-align: right;\">\n",
       "      <th></th>\n",
       "      <th>code</th>\n",
       "      <th>diag</th>\n",
       "    </tr>\n",
       "  </thead>\n",
       "  <tbody>\n",
       "    <tr>\n",
       "      <th>0</th>\n",
       "      <td>F00-F09</td>\n",
       "      <td>Trastornos mentales orgánicos, incluidos los t...</td>\n",
       "    </tr>\n",
       "    <tr>\n",
       "      <th>1</th>\n",
       "      <td>F10-F19</td>\n",
       "      <td>Trastornos mentales y de comportamiento debido...</td>\n",
       "    </tr>\n",
       "    <tr>\n",
       "      <th>2</th>\n",
       "      <td>F20-29</td>\n",
       "      <td>Esquizofrenia, trastornos esquizotípicos y tra...</td>\n",
       "    </tr>\n",
       "    <tr>\n",
       "      <th>3</th>\n",
       "      <td>F30-39</td>\n",
       "      <td>Trastornos del estado de animo, trastornos afe...</td>\n",
       "    </tr>\n",
       "    <tr>\n",
       "      <th>4</th>\n",
       "      <td>F40-49</td>\n",
       "      <td>Trastornos neuróticos, trastornos relacionados...</td>\n",
       "    </tr>\n",
       "    <tr>\n",
       "      <th>5</th>\n",
       "      <td>F50-59</td>\n",
       "      <td>Síndromes del comportamiento asociados con alt...</td>\n",
       "    </tr>\n",
       "    <tr>\n",
       "      <th>6</th>\n",
       "      <td>F60-69</td>\n",
       "      <td>Trastornos de la personalidad y del comportami...</td>\n",
       "    </tr>\n",
       "    <tr>\n",
       "      <th>7</th>\n",
       "      <td>F70-79</td>\n",
       "      <td>Retraso mental</td>\n",
       "    </tr>\n",
       "    <tr>\n",
       "      <th>8</th>\n",
       "      <td>F80-89</td>\n",
       "      <td>Trastornos del desarrollo psicológico</td>\n",
       "    </tr>\n",
       "    <tr>\n",
       "      <th>9</th>\n",
       "      <td>F90-F98</td>\n",
       "      <td>Trastornos emocionales y del comportamiento qu...</td>\n",
       "    </tr>\n",
       "  </tbody>\n",
       "</table>\n",
       "</div>"
      ],
      "text/plain": [
       "      code                                               diag\n",
       "0  F00-F09  Trastornos mentales orgánicos, incluidos los t...\n",
       "1  F10-F19  Trastornos mentales y de comportamiento debido...\n",
       "2   F20-29  Esquizofrenia, trastornos esquizotípicos y tra...\n",
       "3   F30-39  Trastornos del estado de animo, trastornos afe...\n",
       "4   F40-49  Trastornos neuróticos, trastornos relacionados...\n",
       "5   F50-59  Síndromes del comportamiento asociados con alt...\n",
       "6   F60-69  Trastornos de la personalidad y del comportami...\n",
       "7   F70-79                                     Retraso mental\n",
       "8   F80-89              Trastornos del desarrollo psicológico\n",
       "9  F90-F98  Trastornos emocionales y del comportamiento qu..."
      ]
     },
     "execution_count": 28,
     "metadata": {},
     "output_type": "execute_result"
    }
   ],
   "source": [
    "diagnos.head(10)"
   ]
  },
  {
   "cell_type": "code",
   "execution_count": 216,
   "metadata": {},
   "outputs": [],
   "source": [
    "diagnos.to_csv(\"../data/diagnos.csv\", index=False)"
   ]
  },
  {
   "cell_type": "code",
   "execution_count": null,
   "metadata": {},
   "outputs": [],
   "source": []
  }
 ],
 "metadata": {
  "kernelspec": {
   "display_name": "ironhack",
   "language": "python",
   "name": "ironhack"
  },
  "language_info": {
   "codemirror_mode": {
    "name": "ipython",
    "version": 3
   },
   "file_extension": ".py",
   "mimetype": "text/x-python",
   "name": "python",
   "nbconvert_exporter": "python",
   "pygments_lexer": "ipython3",
   "version": "3.8.5"
  }
 },
 "nbformat": 4,
 "nbformat_minor": 5
}
