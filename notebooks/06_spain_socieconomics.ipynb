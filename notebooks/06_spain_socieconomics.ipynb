{
 "cells": [
  {
   "cell_type": "code",
   "execution_count": 79,
   "id": "37453f94",
   "metadata": {},
   "outputs": [],
   "source": [
    "import pandas as pd\n",
    "import os\n",
    "import seaborn as sns\n",
    "import matplotlib.pyplot as plt\n",
    "import plotly.express as px\n",
    "import seaborn as sns\n",
    "import pandas as pd\n",
    "import plotly.graph_objects as go"
   ]
  },
  {
   "cell_type": "markdown",
   "id": "45131f06",
   "metadata": {},
   "source": [
    "# Tasas activdad,empleo y paro España"
   ]
  },
  {
   "cell_type": "code",
   "execution_count": 3,
   "id": "852297ec",
   "metadata": {},
   "outputs": [],
   "source": [
    "paro = pd.read_excel('../data/at_primaria/Tasas de actividad, paro y empleo por provincia y sexo_Tab.xlsx')"
   ]
  },
  {
   "cell_type": "code",
   "execution_count": 4,
   "id": "3e33032d",
   "metadata": {},
   "outputs": [],
   "source": [
    "paro['Year'] = paro.Periodo.str.extract(r'(\\d\\d\\d\\d)').astype('int64')"
   ]
  },
  {
   "cell_type": "code",
   "execution_count": 5,
   "id": "36e53335",
   "metadata": {},
   "outputs": [],
   "source": [
    "paro['Trimestre'] = paro.Periodo.str.extract(r'(\\d$)').astype('int64')"
   ]
  },
  {
   "cell_type": "code",
   "execution_count": 6,
   "id": "3609704d",
   "metadata": {},
   "outputs": [],
   "source": [
    "paro[['codPr','Provincias']] = paro.Provincias.str.split(\" \",1,expand = True)"
   ]
  },
  {
   "cell_type": "code",
   "execution_count": 7,
   "id": "d64e62c8",
   "metadata": {},
   "outputs": [],
   "source": [
    "paro.codPr = paro.codPr.astype('int64')"
   ]
  },
  {
   "cell_type": "code",
   "execution_count": 8,
   "id": "605a39bd",
   "metadata": {},
   "outputs": [
    {
     "data": {
      "text/html": [
       "<div>\n",
       "<style scoped>\n",
       "    .dataframe tbody tr th:only-of-type {\n",
       "        vertical-align: middle;\n",
       "    }\n",
       "\n",
       "    .dataframe tbody tr th {\n",
       "        vertical-align: top;\n",
       "    }\n",
       "\n",
       "    .dataframe thead th {\n",
       "        text-align: right;\n",
       "    }\n",
       "</style>\n",
       "<table border=\"1\" class=\"dataframe\">\n",
       "  <thead>\n",
       "    <tr style=\"text-align: right;\">\n",
       "      <th></th>\n",
       "      <th>Sexo</th>\n",
       "      <th>Provincias</th>\n",
       "      <th>Tasas</th>\n",
       "      <th>Periodo</th>\n",
       "      <th>Total</th>\n",
       "      <th>Year</th>\n",
       "      <th>Trimestre</th>\n",
       "      <th>codPr</th>\n",
       "    </tr>\n",
       "  </thead>\n",
       "  <tbody>\n",
       "    <tr>\n",
       "      <th>4423</th>\n",
       "      <td>Hombres</td>\n",
       "      <td>Murcia</td>\n",
       "      <td>Tasa de paro de la población</td>\n",
       "      <td>2020T2</td>\n",
       "      <td>12.94</td>\n",
       "      <td>2020</td>\n",
       "      <td>2</td>\n",
       "      <td>30</td>\n",
       "    </tr>\n",
       "  </tbody>\n",
       "</table>\n",
       "</div>"
      ],
      "text/plain": [
       "         Sexo Provincias                         Tasas Periodo  Total  Year  \\\n",
       "4423  Hombres     Murcia  Tasa de paro de la población  2020T2  12.94  2020   \n",
       "\n",
       "      Trimestre  codPr  \n",
       "4423          2     30  "
      ]
     },
     "execution_count": 8,
     "metadata": {},
     "output_type": "execute_result"
    }
   ],
   "source": [
    "paro.sample()"
   ]
  },
  {
   "cell_type": "code",
   "execution_count": 9,
   "id": "8047e65d",
   "metadata": {},
   "outputs": [
    {
     "data": {
      "text/plain": [
       "array(['Tasa de actividad', 'Tasa de paro de la población',\n",
       "       'Tasa de empleo de la población'], dtype=object)"
      ]
     },
     "execution_count": 9,
     "metadata": {},
     "output_type": "execute_result"
    }
   ],
   "source": [
    "paro.Tasas.unique()"
   ]
  },
  {
   "cell_type": "code",
   "execution_count": 10,
   "id": "71c04b07",
   "metadata": {},
   "outputs": [],
   "source": [
    "mes_tri = {1:3,2:6,3:9,4:12}"
   ]
  },
  {
   "cell_type": "code",
   "execution_count": 11,
   "id": "9c089b01",
   "metadata": {},
   "outputs": [],
   "source": [
    "paro[\"mes\"] = paro.Trimestre.map(mes_tri)"
   ]
  },
  {
   "cell_type": "code",
   "execution_count": 12,
   "id": "f3d562cd",
   "metadata": {},
   "outputs": [
    {
     "data": {
      "text/plain": [
       "Index(['Sexo', 'Provincias', 'Tasas', 'Periodo', 'Total', 'Year', 'Trimestre',\n",
       "       'codPr', 'mes'],\n",
       "      dtype='object')"
      ]
     },
     "execution_count": 12,
     "metadata": {},
     "output_type": "execute_result"
    }
   ],
   "source": [
    "paro.columns"
   ]
  },
  {
   "cell_type": "code",
   "execution_count": 13,
   "id": "1d8a8c79",
   "metadata": {},
   "outputs": [],
   "source": [
    "paro[\"date\"] = pd.to_datetime({'year': paro.Year,\n",
    "                           'month': paro.mes,\n",
    "                           'day': 25\n",
    "                           })"
   ]
  },
  {
   "cell_type": "code",
   "execution_count": 14,
   "id": "d13017de",
   "metadata": {},
   "outputs": [
    {
     "data": {
      "text/plain": [
       "Tasa de actividad                 4888\n",
       "Tasa de paro de la población      4888\n",
       "Tasa de empleo de la población    4888\n",
       "Name: Tasas, dtype: int64"
      ]
     },
     "execution_count": 14,
     "metadata": {},
     "output_type": "execute_result"
    }
   ],
   "source": [
    "paro.Tasas.value_counts()"
   ]
  },
  {
   "cell_type": "code",
   "execution_count": 15,
   "id": "665f420a",
   "metadata": {},
   "outputs": [
    {
     "data": {
      "text/html": [
       "<div>\n",
       "<style scoped>\n",
       "    .dataframe tbody tr th:only-of-type {\n",
       "        vertical-align: middle;\n",
       "    }\n",
       "\n",
       "    .dataframe tbody tr th {\n",
       "        vertical-align: top;\n",
       "    }\n",
       "\n",
       "    .dataframe thead th {\n",
       "        text-align: right;\n",
       "    }\n",
       "</style>\n",
       "<table border=\"1\" class=\"dataframe\">\n",
       "  <thead>\n",
       "    <tr style=\"text-align: right;\">\n",
       "      <th></th>\n",
       "      <th>Sexo</th>\n",
       "      <th>Provincias</th>\n",
       "      <th>Tasas</th>\n",
       "      <th>Periodo</th>\n",
       "      <th>Total</th>\n",
       "      <th>Year</th>\n",
       "      <th>Trimestre</th>\n",
       "      <th>codPr</th>\n",
       "      <th>mes</th>\n",
       "      <th>date</th>\n",
       "    </tr>\n",
       "  </thead>\n",
       "  <tbody>\n",
       "    <tr>\n",
       "      <th>0</th>\n",
       "      <td>Hombres</td>\n",
       "      <td>Albacete</td>\n",
       "      <td>Tasa de actividad</td>\n",
       "      <td>2021T3</td>\n",
       "      <td>65.69</td>\n",
       "      <td>2021</td>\n",
       "      <td>3</td>\n",
       "      <td>2</td>\n",
       "      <td>9</td>\n",
       "      <td>2021-09-25</td>\n",
       "    </tr>\n",
       "    <tr>\n",
       "      <th>1</th>\n",
       "      <td>Hombres</td>\n",
       "      <td>Albacete</td>\n",
       "      <td>Tasa de actividad</td>\n",
       "      <td>2021T2</td>\n",
       "      <td>63.94</td>\n",
       "      <td>2021</td>\n",
       "      <td>2</td>\n",
       "      <td>2</td>\n",
       "      <td>6</td>\n",
       "      <td>2021-06-25</td>\n",
       "    </tr>\n",
       "    <tr>\n",
       "      <th>2</th>\n",
       "      <td>Hombres</td>\n",
       "      <td>Albacete</td>\n",
       "      <td>Tasa de actividad</td>\n",
       "      <td>2021T1</td>\n",
       "      <td>62.85</td>\n",
       "      <td>2021</td>\n",
       "      <td>1</td>\n",
       "      <td>2</td>\n",
       "      <td>3</td>\n",
       "      <td>2021-03-25</td>\n",
       "    </tr>\n",
       "    <tr>\n",
       "      <th>3</th>\n",
       "      <td>Hombres</td>\n",
       "      <td>Albacete</td>\n",
       "      <td>Tasa de actividad</td>\n",
       "      <td>2020T4</td>\n",
       "      <td>63.95</td>\n",
       "      <td>2020</td>\n",
       "      <td>4</td>\n",
       "      <td>2</td>\n",
       "      <td>12</td>\n",
       "      <td>2020-12-25</td>\n",
       "    </tr>\n",
       "    <tr>\n",
       "      <th>4</th>\n",
       "      <td>Hombres</td>\n",
       "      <td>Albacete</td>\n",
       "      <td>Tasa de actividad</td>\n",
       "      <td>2020T3</td>\n",
       "      <td>62.40</td>\n",
       "      <td>2020</td>\n",
       "      <td>3</td>\n",
       "      <td>2</td>\n",
       "      <td>9</td>\n",
       "      <td>2020-09-25</td>\n",
       "    </tr>\n",
       "    <tr>\n",
       "      <th>...</th>\n",
       "      <td>...</td>\n",
       "      <td>...</td>\n",
       "      <td>...</td>\n",
       "      <td>...</td>\n",
       "      <td>...</td>\n",
       "      <td>...</td>\n",
       "      <td>...</td>\n",
       "      <td>...</td>\n",
       "      <td>...</td>\n",
       "      <td>...</td>\n",
       "    </tr>\n",
       "    <tr>\n",
       "      <th>14659</th>\n",
       "      <td>Mujeres</td>\n",
       "      <td>Melilla</td>\n",
       "      <td>Tasa de empleo de la población</td>\n",
       "      <td>2011T1</td>\n",
       "      <td>38.00</td>\n",
       "      <td>2011</td>\n",
       "      <td>1</td>\n",
       "      <td>52</td>\n",
       "      <td>3</td>\n",
       "      <td>2011-03-25</td>\n",
       "    </tr>\n",
       "    <tr>\n",
       "      <th>14660</th>\n",
       "      <td>Mujeres</td>\n",
       "      <td>Melilla</td>\n",
       "      <td>Tasa de empleo de la población</td>\n",
       "      <td>2010T4</td>\n",
       "      <td>30.78</td>\n",
       "      <td>2010</td>\n",
       "      <td>4</td>\n",
       "      <td>52</td>\n",
       "      <td>12</td>\n",
       "      <td>2010-12-25</td>\n",
       "    </tr>\n",
       "    <tr>\n",
       "      <th>14661</th>\n",
       "      <td>Mujeres</td>\n",
       "      <td>Melilla</td>\n",
       "      <td>Tasa de empleo de la población</td>\n",
       "      <td>2010T3</td>\n",
       "      <td>30.14</td>\n",
       "      <td>2010</td>\n",
       "      <td>3</td>\n",
       "      <td>52</td>\n",
       "      <td>9</td>\n",
       "      <td>2010-09-25</td>\n",
       "    </tr>\n",
       "    <tr>\n",
       "      <th>14662</th>\n",
       "      <td>Mujeres</td>\n",
       "      <td>Melilla</td>\n",
       "      <td>Tasa de empleo de la población</td>\n",
       "      <td>2010T2</td>\n",
       "      <td>28.89</td>\n",
       "      <td>2010</td>\n",
       "      <td>2</td>\n",
       "      <td>52</td>\n",
       "      <td>6</td>\n",
       "      <td>2010-06-25</td>\n",
       "    </tr>\n",
       "    <tr>\n",
       "      <th>14663</th>\n",
       "      <td>Mujeres</td>\n",
       "      <td>Melilla</td>\n",
       "      <td>Tasa de empleo de la población</td>\n",
       "      <td>2010T1</td>\n",
       "      <td>28.24</td>\n",
       "      <td>2010</td>\n",
       "      <td>1</td>\n",
       "      <td>52</td>\n",
       "      <td>3</td>\n",
       "      <td>2010-03-25</td>\n",
       "    </tr>\n",
       "  </tbody>\n",
       "</table>\n",
       "<p>14664 rows × 10 columns</p>\n",
       "</div>"
      ],
      "text/plain": [
       "          Sexo Provincias                           Tasas Periodo  Total  \\\n",
       "0      Hombres   Albacete               Tasa de actividad  2021T3  65.69   \n",
       "1      Hombres   Albacete               Tasa de actividad  2021T2  63.94   \n",
       "2      Hombres   Albacete               Tasa de actividad  2021T1  62.85   \n",
       "3      Hombres   Albacete               Tasa de actividad  2020T4  63.95   \n",
       "4      Hombres   Albacete               Tasa de actividad  2020T3  62.40   \n",
       "...        ...        ...                             ...     ...    ...   \n",
       "14659  Mujeres    Melilla  Tasa de empleo de la población  2011T1  38.00   \n",
       "14660  Mujeres    Melilla  Tasa de empleo de la población  2010T4  30.78   \n",
       "14661  Mujeres    Melilla  Tasa de empleo de la población  2010T3  30.14   \n",
       "14662  Mujeres    Melilla  Tasa de empleo de la población  2010T2  28.89   \n",
       "14663  Mujeres    Melilla  Tasa de empleo de la población  2010T1  28.24   \n",
       "\n",
       "       Year  Trimestre  codPr  mes       date  \n",
       "0      2021          3      2    9 2021-09-25  \n",
       "1      2021          2      2    6 2021-06-25  \n",
       "2      2021          1      2    3 2021-03-25  \n",
       "3      2020          4      2   12 2020-12-25  \n",
       "4      2020          3      2    9 2020-09-25  \n",
       "...     ...        ...    ...  ...        ...  \n",
       "14659  2011          1     52    3 2011-03-25  \n",
       "14660  2010          4     52   12 2010-12-25  \n",
       "14661  2010          3     52    9 2010-09-25  \n",
       "14662  2010          2     52    6 2010-06-25  \n",
       "14663  2010          1     52    3 2010-03-25  \n",
       "\n",
       "[14664 rows x 10 columns]"
      ]
     },
     "execution_count": 15,
     "metadata": {},
     "output_type": "execute_result"
    }
   ],
   "source": [
    "paro"
   ]
  },
  {
   "cell_type": "code",
   "execution_count": 32,
   "id": "aa21a1ff",
   "metadata": {},
   "outputs": [],
   "source": [
    "actividad = paro[paro['Tasas'] == 'Tasa de actividad'].reset_index()"
   ]
  },
  {
   "cell_type": "code",
   "execution_count": 33,
   "id": "196f26c2",
   "metadata": {},
   "outputs": [],
   "source": [
    "empleo = paro[paro['Tasas'] == 'Tasa de empleo de la población'].reset_index()"
   ]
  },
  {
   "cell_type": "code",
   "execution_count": 34,
   "id": "7bef7162",
   "metadata": {},
   "outputs": [],
   "source": [
    "parados = paro[paro['Tasas'] == 'Tasa de paro de la población'].reset_index()"
   ]
  },
  {
   "cell_type": "code",
   "execution_count": 38,
   "id": "7a977e89",
   "metadata": {},
   "outputs": [],
   "source": [
    "actividad.drop('index',axis=1,inplace = True)"
   ]
  },
  {
   "cell_type": "code",
   "execution_count": 51,
   "id": "4bd648fe",
   "metadata": {},
   "outputs": [],
   "source": [
    "total = pd.concat([actividad,empleo[['Total']],parados[['Total']]],axis=1)"
   ]
  },
  {
   "cell_type": "code",
   "execution_count": 52,
   "id": "3e5811a5",
   "metadata": {
    "scrolled": true
   },
   "outputs": [
    {
     "data": {
      "text/plain": [
       "Index(['Sexo', 'Provincias', 'Tasas', 'Periodo', 'Total', 'Year', 'Trimestre',\n",
       "       'codPr', 'mes', 'date', 'Total', 'Total'],\n",
       "      dtype='object')"
      ]
     },
     "execution_count": 52,
     "metadata": {},
     "output_type": "execute_result"
    }
   ],
   "source": [
    "total.columns"
   ]
  },
  {
   "cell_type": "code",
   "execution_count": 53,
   "id": "564fa0de",
   "metadata": {},
   "outputs": [
    {
     "data": {
      "text/plain": [
       "Index(['Sexo', 'Provincias', 'Tasas', 'Periodo', 'Total', 'Year', 'Trimestre',\n",
       "       'codPr', 'mes', 'date', 'Total', 'Total'],\n",
       "      dtype='object')"
      ]
     },
     "execution_count": 53,
     "metadata": {},
     "output_type": "execute_result"
    }
   ],
   "source": [
    "total.columns"
   ]
  },
  {
   "cell_type": "code",
   "execution_count": 54,
   "id": "46baf2b1",
   "metadata": {},
   "outputs": [],
   "source": [
    "total.columns = ['Sexo', 'Provincias', 'Tasas', 'Periodo', 'actividad', 'Year',\n",
    "       'Trimestre', 'codPr', 'mes', 'date', 'empleo', 'paro']"
   ]
  },
  {
   "cell_type": "code",
   "execution_count": 55,
   "id": "3addfb26",
   "metadata": {},
   "outputs": [],
   "source": [
    "total.drop('Tasas',axis = 1, inplace = True)"
   ]
  },
  {
   "cell_type": "code",
   "execution_count": 56,
   "id": "1dadcca9",
   "metadata": {},
   "outputs": [
    {
     "data": {
      "text/plain": [
       "Index(['Sexo', 'Provincias', 'Periodo', 'actividad', 'Year', 'Trimestre',\n",
       "       'codPr', 'mes', 'date', 'empleo', 'paro'],\n",
       "      dtype='object')"
      ]
     },
     "execution_count": 56,
     "metadata": {},
     "output_type": "execute_result"
    }
   ],
   "source": [
    "total.columns"
   ]
  },
  {
   "cell_type": "code",
   "execution_count": 57,
   "id": "12896317",
   "metadata": {},
   "outputs": [],
   "source": [
    "total = total.iloc[:,[0,6,1,2,4,5,7,8,3,9,10]]\n",
    "    #psico_prim= psico_prim.iloc[:, [0,1,6,2,3,4,7,8,9,10,5]]  "
   ]
  },
  {
   "cell_type": "code",
   "execution_count": 58,
   "id": "8390be4c",
   "metadata": {},
   "outputs": [
    {
     "data": {
      "text/html": [
       "<div>\n",
       "<style scoped>\n",
       "    .dataframe tbody tr th:only-of-type {\n",
       "        vertical-align: middle;\n",
       "    }\n",
       "\n",
       "    .dataframe tbody tr th {\n",
       "        vertical-align: top;\n",
       "    }\n",
       "\n",
       "    .dataframe thead th {\n",
       "        text-align: right;\n",
       "    }\n",
       "</style>\n",
       "<table border=\"1\" class=\"dataframe\">\n",
       "  <thead>\n",
       "    <tr style=\"text-align: right;\">\n",
       "      <th></th>\n",
       "      <th>Sexo</th>\n",
       "      <th>codPr</th>\n",
       "      <th>Provincias</th>\n",
       "      <th>Periodo</th>\n",
       "      <th>Year</th>\n",
       "      <th>Trimestre</th>\n",
       "      <th>mes</th>\n",
       "      <th>date</th>\n",
       "      <th>actividad</th>\n",
       "      <th>empleo</th>\n",
       "      <th>paro</th>\n",
       "    </tr>\n",
       "  </thead>\n",
       "  <tbody>\n",
       "    <tr>\n",
       "      <th>13</th>\n",
       "      <td>Hombres</td>\n",
       "      <td>2</td>\n",
       "      <td>Albacete</td>\n",
       "      <td>2018T2</td>\n",
       "      <td>2018</td>\n",
       "      <td>2</td>\n",
       "      <td>6</td>\n",
       "      <td>2018-06-25</td>\n",
       "      <td>67.41</td>\n",
       "      <td>56.23</td>\n",
       "      <td>16.59</td>\n",
       "    </tr>\n",
       "    <tr>\n",
       "      <th>3302</th>\n",
       "      <td>Mujeres</td>\n",
       "      <td>16</td>\n",
       "      <td>Cuenca</td>\n",
       "      <td>2018T3</td>\n",
       "      <td>2018</td>\n",
       "      <td>3</td>\n",
       "      <td>9</td>\n",
       "      <td>2018-09-25</td>\n",
       "      <td>47.76</td>\n",
       "      <td>38.93</td>\n",
       "      <td>18.49</td>\n",
       "    </tr>\n",
       "    <tr>\n",
       "      <th>2481</th>\n",
       "      <td>Mujeres</td>\n",
       "      <td>2</td>\n",
       "      <td>Albacete</td>\n",
       "      <td>2012T2</td>\n",
       "      <td>2012</td>\n",
       "      <td>2</td>\n",
       "      <td>6</td>\n",
       "      <td>2012-06-25</td>\n",
       "      <td>50.48</td>\n",
       "      <td>31.34</td>\n",
       "      <td>37.92</td>\n",
       "    </tr>\n",
       "    <tr>\n",
       "      <th>3674</th>\n",
       "      <td>Mujeres</td>\n",
       "      <td>24</td>\n",
       "      <td>León</td>\n",
       "      <td>2019T3</td>\n",
       "      <td>2019</td>\n",
       "      <td>3</td>\n",
       "      <td>9</td>\n",
       "      <td>2019-09-25</td>\n",
       "      <td>48.23</td>\n",
       "      <td>41.42</td>\n",
       "      <td>14.13</td>\n",
       "    </tr>\n",
       "    <tr>\n",
       "      <th>3553</th>\n",
       "      <td>Mujeres</td>\n",
       "      <td>21</td>\n",
       "      <td>Huelva</td>\n",
       "      <td>2014T3</td>\n",
       "      <td>2014</td>\n",
       "      <td>3</td>\n",
       "      <td>9</td>\n",
       "      <td>2014-09-25</td>\n",
       "      <td>50.22</td>\n",
       "      <td>28.93</td>\n",
       "      <td>42.39</td>\n",
       "    </tr>\n",
       "    <tr>\n",
       "      <th>4796</th>\n",
       "      <td>Mujeres</td>\n",
       "      <td>51</td>\n",
       "      <td>Ceuta</td>\n",
       "      <td>2021T1</td>\n",
       "      <td>2021</td>\n",
       "      <td>1</td>\n",
       "      <td>3</td>\n",
       "      <td>2021-03-25</td>\n",
       "      <td>50.73</td>\n",
       "      <td>34.79</td>\n",
       "      <td>31.42</td>\n",
       "    </tr>\n",
       "    <tr>\n",
       "      <th>520</th>\n",
       "      <td>Hombres</td>\n",
       "      <td>10</td>\n",
       "      <td>Cáceres</td>\n",
       "      <td>2020T4</td>\n",
       "      <td>2020</td>\n",
       "      <td>4</td>\n",
       "      <td>12</td>\n",
       "      <td>2020-12-25</td>\n",
       "      <td>58.21</td>\n",
       "      <td>49.62</td>\n",
       "      <td>14.75</td>\n",
       "    </tr>\n",
       "    <tr>\n",
       "      <th>1005</th>\n",
       "      <td>Hombres</td>\n",
       "      <td>18</td>\n",
       "      <td>Granada</td>\n",
       "      <td>2017T1</td>\n",
       "      <td>2017</td>\n",
       "      <td>1</td>\n",
       "      <td>3</td>\n",
       "      <td>2017-03-25</td>\n",
       "      <td>64.07</td>\n",
       "      <td>49.43</td>\n",
       "      <td>22.85</td>\n",
       "    </tr>\n",
       "    <tr>\n",
       "      <th>1139</th>\n",
       "      <td>Hombres</td>\n",
       "      <td>22</td>\n",
       "      <td>Huesca</td>\n",
       "      <td>2018T4</td>\n",
       "      <td>2018</td>\n",
       "      <td>4</td>\n",
       "      <td>12</td>\n",
       "      <td>2018-12-25</td>\n",
       "      <td>63.75</td>\n",
       "      <td>57.73</td>\n",
       "      <td>9.44</td>\n",
       "    </tr>\n",
       "    <tr>\n",
       "      <th>3730</th>\n",
       "      <td>Mujeres</td>\n",
       "      <td>25</td>\n",
       "      <td>Lleida</td>\n",
       "      <td>2017T2</td>\n",
       "      <td>2017</td>\n",
       "      <td>2</td>\n",
       "      <td>6</td>\n",
       "      <td>2017-06-25</td>\n",
       "      <td>51.87</td>\n",
       "      <td>44.18</td>\n",
       "      <td>14.82</td>\n",
       "    </tr>\n",
       "  </tbody>\n",
       "</table>\n",
       "</div>"
      ],
      "text/plain": [
       "         Sexo  codPr Provincias Periodo  Year  Trimestre  mes       date  \\\n",
       "13    Hombres      2   Albacete  2018T2  2018          2    6 2018-06-25   \n",
       "3302  Mujeres     16     Cuenca  2018T3  2018          3    9 2018-09-25   \n",
       "2481  Mujeres      2   Albacete  2012T2  2012          2    6 2012-06-25   \n",
       "3674  Mujeres     24       León  2019T3  2019          3    9 2019-09-25   \n",
       "3553  Mujeres     21     Huelva  2014T3  2014          3    9 2014-09-25   \n",
       "4796  Mujeres     51      Ceuta  2021T1  2021          1    3 2021-03-25   \n",
       "520   Hombres     10    Cáceres  2020T4  2020          4   12 2020-12-25   \n",
       "1005  Hombres     18    Granada  2017T1  2017          1    3 2017-03-25   \n",
       "1139  Hombres     22     Huesca  2018T4  2018          4   12 2018-12-25   \n",
       "3730  Mujeres     25     Lleida  2017T2  2017          2    6 2017-06-25   \n",
       "\n",
       "      actividad  empleo   paro  \n",
       "13        67.41   56.23  16.59  \n",
       "3302      47.76   38.93  18.49  \n",
       "2481      50.48   31.34  37.92  \n",
       "3674      48.23   41.42  14.13  \n",
       "3553      50.22   28.93  42.39  \n",
       "4796      50.73   34.79  31.42  \n",
       "520       58.21   49.62  14.75  \n",
       "1005      64.07   49.43  22.85  \n",
       "1139      63.75   57.73   9.44  \n",
       "3730      51.87   44.18  14.82  "
      ]
     },
     "execution_count": 58,
     "metadata": {},
     "output_type": "execute_result"
    }
   ],
   "source": [
    "total.sample(10)"
   ]
  },
  {
   "cell_type": "code",
   "execution_count": 59,
   "id": "62797ada",
   "metadata": {},
   "outputs": [],
   "source": [
    "total.to_csv('../data/tasas_empleo.csv',index=True)"
   ]
  },
  {
   "cell_type": "markdown",
   "id": "22305893",
   "metadata": {},
   "source": [
    "# Índice de pobreza"
   ]
  },
  {
   "cell_type": "code",
   "execution_count": 60,
   "id": "4143dd04",
   "metadata": {},
   "outputs": [],
   "source": [
    "pobreza = pd.read_excel('../data/at_primaria/Tasa de riesgo de pobreza por comunidades autónomas.xlsx')"
   ]
  },
  {
   "cell_type": "code",
   "execution_count": 62,
   "id": "0670ec97",
   "metadata": {},
   "outputs": [],
   "source": [
    "pobreza.columns = ['CCAA','TASA', 'Year','Total']"
   ]
  },
  {
   "cell_type": "code",
   "execution_count": 64,
   "id": "4b745d2b",
   "metadata": {},
   "outputs": [],
   "source": [
    "pobreza[['cod_CA','CCAA']] = pobreza.CCAA.str.split(' ',1,expand = True)"
   ]
  },
  {
   "cell_type": "code",
   "execution_count": 67,
   "id": "745d66b1",
   "metadata": {},
   "outputs": [
    {
     "data": {
      "text/plain": [
       "array(['Tasa de riesgo de pobreza (renta del año anterior a la entrevista)',\n",
       "       'Tasa de riesgo de pobreza (con alquiler imputado) (renta del año anterior a la entrevista)'],\n",
       "      dtype=object)"
      ]
     },
     "execution_count": 67,
     "metadata": {},
     "output_type": "execute_result"
    }
   ],
   "source": [
    "pobreza.TASA.unique()"
   ]
  },
  {
   "cell_type": "code",
   "execution_count": 68,
   "id": "e71a1173",
   "metadata": {},
   "outputs": [
    {
     "data": {
      "text/html": [
       "<div>\n",
       "<style scoped>\n",
       "    .dataframe tbody tr th:only-of-type {\n",
       "        vertical-align: middle;\n",
       "    }\n",
       "\n",
       "    .dataframe tbody tr th {\n",
       "        vertical-align: top;\n",
       "    }\n",
       "\n",
       "    .dataframe thead th {\n",
       "        text-align: right;\n",
       "    }\n",
       "</style>\n",
       "<table border=\"1\" class=\"dataframe\">\n",
       "  <thead>\n",
       "    <tr style=\"text-align: right;\">\n",
       "      <th></th>\n",
       "      <th>CCAA</th>\n",
       "      <th>TASA</th>\n",
       "      <th>Year</th>\n",
       "      <th>Total</th>\n",
       "      <th>cod_CA</th>\n",
       "    </tr>\n",
       "  </thead>\n",
       "  <tbody>\n",
       "    <tr>\n",
       "      <th>0</th>\n",
       "      <td>Andalucía</td>\n",
       "      <td>Tasa de riesgo de pobreza (renta del año anter...</td>\n",
       "      <td>2020</td>\n",
       "      <td>28.5</td>\n",
       "      <td>01</td>\n",
       "    </tr>\n",
       "    <tr>\n",
       "      <th>1</th>\n",
       "      <td>Andalucía</td>\n",
       "      <td>Tasa de riesgo de pobreza (renta del año anter...</td>\n",
       "      <td>2019</td>\n",
       "      <td>31.3</td>\n",
       "      <td>01</td>\n",
       "    </tr>\n",
       "    <tr>\n",
       "      <th>2</th>\n",
       "      <td>Andalucía</td>\n",
       "      <td>Tasa de riesgo de pobreza (renta del año anter...</td>\n",
       "      <td>2018</td>\n",
       "      <td>32.0</td>\n",
       "      <td>01</td>\n",
       "    </tr>\n",
       "    <tr>\n",
       "      <th>3</th>\n",
       "      <td>Andalucía</td>\n",
       "      <td>Tasa de riesgo de pobreza (renta del año anter...</td>\n",
       "      <td>2017</td>\n",
       "      <td>31.0</td>\n",
       "      <td>01</td>\n",
       "    </tr>\n",
       "    <tr>\n",
       "      <th>4</th>\n",
       "      <td>Andalucía</td>\n",
       "      <td>Tasa de riesgo de pobreza (renta del año anter...</td>\n",
       "      <td>2016</td>\n",
       "      <td>35.4</td>\n",
       "      <td>01</td>\n",
       "    </tr>\n",
       "    <tr>\n",
       "      <th>...</th>\n",
       "      <td>...</td>\n",
       "      <td>...</td>\n",
       "      <td>...</td>\n",
       "      <td>...</td>\n",
       "      <td>...</td>\n",
       "    </tr>\n",
       "    <tr>\n",
       "      <th>489</th>\n",
       "      <td>Melilla</td>\n",
       "      <td>Tasa de riesgo de pobreza (con alquiler imputa...</td>\n",
       "      <td>2012</td>\n",
       "      <td>11.0</td>\n",
       "      <td>19</td>\n",
       "    </tr>\n",
       "    <tr>\n",
       "      <th>490</th>\n",
       "      <td>Melilla</td>\n",
       "      <td>Tasa de riesgo de pobreza (con alquiler imputa...</td>\n",
       "      <td>2011</td>\n",
       "      <td>21.9</td>\n",
       "      <td>19</td>\n",
       "    </tr>\n",
       "    <tr>\n",
       "      <th>491</th>\n",
       "      <td>Melilla</td>\n",
       "      <td>Tasa de riesgo de pobreza (con alquiler imputa...</td>\n",
       "      <td>2010</td>\n",
       "      <td>22.3</td>\n",
       "      <td>19</td>\n",
       "    </tr>\n",
       "    <tr>\n",
       "      <th>492</th>\n",
       "      <td>Melilla</td>\n",
       "      <td>Tasa de riesgo de pobreza (con alquiler imputa...</td>\n",
       "      <td>2009</td>\n",
       "      <td>25.5</td>\n",
       "      <td>19</td>\n",
       "    </tr>\n",
       "    <tr>\n",
       "      <th>493</th>\n",
       "      <td>Melilla</td>\n",
       "      <td>Tasa de riesgo de pobreza (con alquiler imputa...</td>\n",
       "      <td>2008</td>\n",
       "      <td>18.3</td>\n",
       "      <td>19</td>\n",
       "    </tr>\n",
       "  </tbody>\n",
       "</table>\n",
       "<p>494 rows × 5 columns</p>\n",
       "</div>"
      ],
      "text/plain": [
       "          CCAA                                               TASA  Year  \\\n",
       "0    Andalucía  Tasa de riesgo de pobreza (renta del año anter...  2020   \n",
       "1    Andalucía  Tasa de riesgo de pobreza (renta del año anter...  2019   \n",
       "2    Andalucía  Tasa de riesgo de pobreza (renta del año anter...  2018   \n",
       "3    Andalucía  Tasa de riesgo de pobreza (renta del año anter...  2017   \n",
       "4    Andalucía  Tasa de riesgo de pobreza (renta del año anter...  2016   \n",
       "..         ...                                                ...   ...   \n",
       "489    Melilla  Tasa de riesgo de pobreza (con alquiler imputa...  2012   \n",
       "490    Melilla  Tasa de riesgo de pobreza (con alquiler imputa...  2011   \n",
       "491    Melilla  Tasa de riesgo de pobreza (con alquiler imputa...  2010   \n",
       "492    Melilla  Tasa de riesgo de pobreza (con alquiler imputa...  2009   \n",
       "493    Melilla  Tasa de riesgo de pobreza (con alquiler imputa...  2008   \n",
       "\n",
       "     Total cod_CA  \n",
       "0     28.5     01  \n",
       "1     31.3     01  \n",
       "2     32.0     01  \n",
       "3     31.0     01  \n",
       "4     35.4     01  \n",
       "..     ...    ...  \n",
       "489   11.0     19  \n",
       "490   21.9     19  \n",
       "491   22.3     19  \n",
       "492   25.5     19  \n",
       "493   18.3     19  \n",
       "\n",
       "[494 rows x 5 columns]"
      ]
     },
     "execution_count": 68,
     "metadata": {},
     "output_type": "execute_result"
    }
   ],
   "source": [
    "pobreza"
   ]
  },
  {
   "cell_type": "code",
   "execution_count": 70,
   "id": "7094d806",
   "metadata": {},
   "outputs": [
    {
     "name": "stdout",
     "output_type": "stream",
     "text": [
      "<class 'pandas.core.frame.DataFrame'>\n",
      "RangeIndex: 494 entries, 0 to 493\n",
      "Data columns (total 5 columns):\n",
      " #   Column  Non-Null Count  Dtype  \n",
      "---  ------  --------------  -----  \n",
      " 0   CCAA    494 non-null    object \n",
      " 1   TASA    494 non-null    object \n",
      " 2   Year    494 non-null    int64  \n",
      " 3   Total   494 non-null    float64\n",
      " 4   cod_CA  494 non-null    object \n",
      "dtypes: float64(1), int64(1), object(3)\n",
      "memory usage: 19.4+ KB\n"
     ]
    }
   ],
   "source": [
    "pobreza.info()"
   ]
  },
  {
   "cell_type": "code",
   "execution_count": null,
   "id": "05feb4aa",
   "metadata": {},
   "outputs": [],
   "source": []
  }
 ],
 "metadata": {
  "kernelspec": {
   "display_name": "ironhack",
   "language": "python",
   "name": "ironhack"
  },
  "language_info": {
   "codemirror_mode": {
    "name": "ipython",
    "version": 3
   },
   "file_extension": ".py",
   "mimetype": "text/x-python",
   "name": "python",
   "nbconvert_exporter": "python",
   "pygments_lexer": "ipython3",
   "version": "3.8.5"
  }
 },
 "nbformat": 4,
 "nbformat_minor": 5
}
