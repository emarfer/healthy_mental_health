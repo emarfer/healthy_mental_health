{
 "cells": [
  {
   "cell_type": "code",
   "execution_count": 16,
   "metadata": {},
   "outputs": [],
   "source": [
    "import pandas as pd\n",
    "import os"
   ]
  },
  {
   "cell_type": "markdown",
   "metadata": {},
   "source": [
    "# Causas meses"
   ]
  },
  {
   "cell_type": "code",
   "execution_count": 85,
   "metadata": {},
   "outputs": [],
   "source": [
    "causas_meses = pd.read_excel('../data/suicidio/diferenes_causas_.xlsx')"
   ]
  },
  {
   "cell_type": "code",
   "execution_count": 86,
   "metadata": {
    "scrolled": true
   },
   "outputs": [
    {
     "data": {
      "text/html": [
       "<div>\n",
       "<style scoped>\n",
       "    .dataframe tbody tr th:only-of-type {\n",
       "        vertical-align: middle;\n",
       "    }\n",
       "\n",
       "    .dataframe tbody tr th {\n",
       "        vertical-align: top;\n",
       "    }\n",
       "\n",
       "    .dataframe thead th {\n",
       "        text-align: right;\n",
       "    }\n",
       "</style>\n",
       "<table border=\"1\" class=\"dataframe\">\n",
       "  <thead>\n",
       "    <tr style=\"text-align: right;\">\n",
       "      <th></th>\n",
       "      <th>Sexo</th>\n",
       "      <th>Causa de muerte</th>\n",
       "      <th>Periodo</th>\n",
       "      <th>Total</th>\n",
       "    </tr>\n",
       "  </thead>\n",
       "  <tbody>\n",
       "    <tr>\n",
       "      <th>1109</th>\n",
       "      <td>Hombres</td>\n",
       "      <td>048  Trastornos mentales debidos al uso de dro...</td>\n",
       "      <td>2010M07</td>\n",
       "      <td>5</td>\n",
       "    </tr>\n",
       "    <tr>\n",
       "      <th>4891</th>\n",
       "      <td>Mujeres</td>\n",
       "      <td>098  Suicidio y lesiones autoinfligidas</td>\n",
       "      <td>1982M05</td>\n",
       "      <td>45</td>\n",
       "    </tr>\n",
       "    <tr>\n",
       "      <th>3680</th>\n",
       "      <td>Mujeres</td>\n",
       "      <td>048  Trastornos mentales debidos al uso de dro...</td>\n",
       "      <td>2001M04</td>\n",
       "      <td>0</td>\n",
       "    </tr>\n",
       "    <tr>\n",
       "      <th>1288</th>\n",
       "      <td>Hombres</td>\n",
       "      <td>048  Trastornos mentales debidos al uso de dro...</td>\n",
       "      <td>1995M08</td>\n",
       "      <td>3</td>\n",
       "    </tr>\n",
       "    <tr>\n",
       "      <th>1134</th>\n",
       "      <td>Hombres</td>\n",
       "      <td>048  Trastornos mentales debidos al uso de dro...</td>\n",
       "      <td>2008M06</td>\n",
       "      <td>6</td>\n",
       "    </tr>\n",
       "  </tbody>\n",
       "</table>\n",
       "</div>"
      ],
      "text/plain": [
       "         Sexo                                    Causa de muerte  Periodo  \\\n",
       "1109  Hombres  048  Trastornos mentales debidos al uso de dro...  2010M07   \n",
       "4891  Mujeres            098  Suicidio y lesiones autoinfligidas  1982M05   \n",
       "3680  Mujeres  048  Trastornos mentales debidos al uso de dro...  2001M04   \n",
       "1288  Hombres  048  Trastornos mentales debidos al uso de dro...  1995M08   \n",
       "1134  Hombres  048  Trastornos mentales debidos al uso de dro...  2008M06   \n",
       "\n",
       "      Total  \n",
       "1109      5  \n",
       "4891     45  \n",
       "3680      0  \n",
       "1288      3  \n",
       "1134      6  "
      ]
     },
     "execution_count": 86,
     "metadata": {},
     "output_type": "execute_result"
    }
   ],
   "source": [
    "causas_meses.sample(5)"
   ]
  },
  {
   "cell_type": "code",
   "execution_count": 87,
   "metadata": {},
   "outputs": [],
   "source": [
    "causas_meses[\"year\"] = causas_meses.Periodo.str[0:4].str.strip().astype('int64')\n",
    "causas_meses[\"month\"] = causas_meses.Periodo.str[-2:].str.strip().astype('int64')"
   ]
  },
  {
   "cell_type": "code",
   "execution_count": 88,
   "metadata": {},
   "outputs": [],
   "source": [
    "causas_meses.columns = causas_meses.columns.str.replace(\" \",'_').str.strip().str.lower()"
   ]
  },
  {
   "cell_type": "code",
   "execution_count": 89,
   "metadata": {
    "scrolled": true
   },
   "outputs": [
    {
     "data": {
      "text/html": [
       "<div>\n",
       "<style scoped>\n",
       "    .dataframe tbody tr th:only-of-type {\n",
       "        vertical-align: middle;\n",
       "    }\n",
       "\n",
       "    .dataframe tbody tr th {\n",
       "        vertical-align: top;\n",
       "    }\n",
       "\n",
       "    .dataframe thead th {\n",
       "        text-align: right;\n",
       "    }\n",
       "</style>\n",
       "<table border=\"1\" class=\"dataframe\">\n",
       "  <thead>\n",
       "    <tr style=\"text-align: right;\">\n",
       "      <th></th>\n",
       "      <th>sexo</th>\n",
       "      <th>causa_de_muerte</th>\n",
       "      <th>periodo</th>\n",
       "      <th>total</th>\n",
       "      <th>year</th>\n",
       "      <th>month</th>\n",
       "    </tr>\n",
       "  </thead>\n",
       "  <tbody>\n",
       "    <tr>\n",
       "      <th>1000</th>\n",
       "      <td>Hombres</td>\n",
       "      <td>048  Trastornos mentales debidos al uso de dro...</td>\n",
       "      <td>2019M08</td>\n",
       "      <td>2</td>\n",
       "      <td>2019</td>\n",
       "      <td>8</td>\n",
       "    </tr>\n",
       "    <tr>\n",
       "      <th>4341</th>\n",
       "      <td>Mujeres</td>\n",
       "      <td>049  Otros trastornos mentales y del comportam...</td>\n",
       "      <td>1987M03</td>\n",
       "      <td>9</td>\n",
       "      <td>1987</td>\n",
       "      <td>3</td>\n",
       "    </tr>\n",
       "    <tr>\n",
       "      <th>1798</th>\n",
       "      <td>Hombres</td>\n",
       "      <td>049  Otros trastornos mentales y del comportam...</td>\n",
       "      <td>1994M02</td>\n",
       "      <td>10</td>\n",
       "      <td>1994</td>\n",
       "      <td>2</td>\n",
       "    </tr>\n",
       "  </tbody>\n",
       "</table>\n",
       "</div>"
      ],
      "text/plain": [
       "         sexo                                    causa_de_muerte  periodo  \\\n",
       "1000  Hombres  048  Trastornos mentales debidos al uso de dro...  2019M08   \n",
       "4341  Mujeres  049  Otros trastornos mentales y del comportam...  1987M03   \n",
       "1798  Hombres  049  Otros trastornos mentales y del comportam...  1994M02   \n",
       "\n",
       "      total  year  month  \n",
       "1000      2  2019      8  \n",
       "4341      9  1987      3  \n",
       "1798     10  1994      2  "
      ]
     },
     "execution_count": 89,
     "metadata": {},
     "output_type": "execute_result"
    }
   ],
   "source": [
    "causas_meses.sample(3)"
   ]
  },
  {
   "cell_type": "markdown",
   "metadata": {},
   "source": [
    "# Provincias causa sexo"
   ]
  },
  {
   "cell_type": "code",
   "execution_count": 127,
   "metadata": {},
   "outputs": [],
   "source": [
    "provincia_causa = pd.read_excel('../data/suicidio/provincia_causa_anos.xlsx')"
   ]
  },
  {
   "cell_type": "code",
   "execution_count": 128,
   "metadata": {
    "scrolled": true
   },
   "outputs": [
    {
     "data": {
      "text/html": [
       "<div>\n",
       "<style scoped>\n",
       "    .dataframe tbody tr th:only-of-type {\n",
       "        vertical-align: middle;\n",
       "    }\n",
       "\n",
       "    .dataframe tbody tr th {\n",
       "        vertical-align: top;\n",
       "    }\n",
       "\n",
       "    .dataframe thead th {\n",
       "        text-align: right;\n",
       "    }\n",
       "</style>\n",
       "<table border=\"1\" class=\"dataframe\">\n",
       "  <thead>\n",
       "    <tr style=\"text-align: right;\">\n",
       "      <th></th>\n",
       "      <th>Provincias</th>\n",
       "      <th>Causa de muerte</th>\n",
       "      <th>Sexo</th>\n",
       "      <th>Periodo</th>\n",
       "      <th>Total</th>\n",
       "    </tr>\n",
       "  </thead>\n",
       "  <tbody>\n",
       "    <tr>\n",
       "      <th>2992</th>\n",
       "      <td>36 Pontevedra</td>\n",
       "      <td>046-049  V.Trastornos mentales y del comportam...</td>\n",
       "      <td>Hombres</td>\n",
       "      <td>1980</td>\n",
       "      <td>10</td>\n",
       "    </tr>\n",
       "    <tr>\n",
       "      <th>1248</th>\n",
       "      <td>13 Ciudad Real</td>\n",
       "      <td>046-049  V.Trastornos mentales y del comportam...</td>\n",
       "      <td>Hombres</td>\n",
       "      <td>2002</td>\n",
       "      <td>61</td>\n",
       "    </tr>\n",
       "    <tr>\n",
       "      <th>329</th>\n",
       "      <td>33 Asturias</td>\n",
       "      <td>046-049  V.Trastornos mentales y del comportam...</td>\n",
       "      <td>Hombres</td>\n",
       "      <td>2019</td>\n",
       "      <td>278</td>\n",
       "    </tr>\n",
       "  </tbody>\n",
       "</table>\n",
       "</div>"
      ],
      "text/plain": [
       "          Provincias                                    Causa de muerte  \\\n",
       "2992   36 Pontevedra  046-049  V.Trastornos mentales y del comportam...   \n",
       "1248  13 Ciudad Real  046-049  V.Trastornos mentales y del comportam...   \n",
       "329      33 Asturias  046-049  V.Trastornos mentales y del comportam...   \n",
       "\n",
       "         Sexo  Periodo  Total  \n",
       "2992  Hombres     1980     10  \n",
       "1248  Hombres     2002     61  \n",
       "329   Hombres     2019    278  "
      ]
     },
     "execution_count": 128,
     "metadata": {},
     "output_type": "execute_result"
    }
   ],
   "source": [
    "provincia_causa.sample(3) #046-049  V.Trastornos mentales y del comportamiento"
   ]
  },
  {
   "cell_type": "code",
   "execution_count": 129,
   "metadata": {},
   "outputs": [],
   "source": [
    "provincia_causa.columns = provincia_causa.columns.str.replace(\" \",'_').str.strip().str.lower()"
   ]
  },
  {
   "cell_type": "code",
   "execution_count": 130,
   "metadata": {},
   "outputs": [],
   "source": [
    "provincia_causa.drop('causa_de_muerte',axis=1,inplace = True)"
   ]
  },
  {
   "cell_type": "code",
   "execution_count": 131,
   "metadata": {},
   "outputs": [],
   "source": [
    "provincia_causa[['cod_pro', 'provincias']] = provincia_causa.provincias.str.split(' ',1,expand=True)"
   ]
  },
  {
   "cell_type": "code",
   "execution_count": 132,
   "metadata": {},
   "outputs": [],
   "source": [
    "provincia_causa.provincias.fillna('Extranjero',inplace = True)"
   ]
  },
  {
   "cell_type": "code",
   "execution_count": 135,
   "metadata": {},
   "outputs": [],
   "source": [
    "provincia_causa.cod_pro = provincia_causa.cod_pro.str.replace('Extranjero','53').astype('int64')"
   ]
  },
  {
   "cell_type": "code",
   "execution_count": 136,
   "metadata": {},
   "outputs": [
    {
     "name": "stdout",
     "output_type": "stream",
     "text": [
      "<class 'pandas.core.frame.DataFrame'>\n",
      "RangeIndex: 4346 entries, 0 to 4345\n",
      "Data columns (total 5 columns):\n",
      " #   Column      Non-Null Count  Dtype \n",
      "---  ------      --------------  ----- \n",
      " 0   provincias  4346 non-null   object\n",
      " 1   sexo        4346 non-null   object\n",
      " 2   periodo     4346 non-null   int64 \n",
      " 3   total       4346 non-null   int64 \n",
      " 4   cod_pro     4346 non-null   int64 \n",
      "dtypes: int64(3), object(2)\n",
      "memory usage: 169.9+ KB\n"
     ]
    }
   ],
   "source": [
    "provincia_causa.info()"
   ]
  },
  {
   "cell_type": "markdown",
   "metadata": {},
   "source": [
    "# suicidio provincia year"
   ]
  },
  {
   "cell_type": "code",
   "execution_count": 255,
   "metadata": {},
   "outputs": [],
   "source": [
    "suicidio_provincia_year = pd.read_excel('../data/suicidio/provincia_Sexo_20162020.xlsx')"
   ]
  },
  {
   "cell_type": "code",
   "execution_count": 256,
   "metadata": {
    "scrolled": true
   },
   "outputs": [
    {
     "data": {
      "text/html": [
       "<div>\n",
       "<style scoped>\n",
       "    .dataframe tbody tr th:only-of-type {\n",
       "        vertical-align: middle;\n",
       "    }\n",
       "\n",
       "    .dataframe tbody tr th {\n",
       "        vertical-align: top;\n",
       "    }\n",
       "\n",
       "    .dataframe thead th {\n",
       "        text-align: right;\n",
       "    }\n",
       "</style>\n",
       "<table border=\"1\" class=\"dataframe\">\n",
       "  <thead>\n",
       "    <tr style=\"text-align: right;\">\n",
       "      <th></th>\n",
       "      <th>Provincia de defunci�n</th>\n",
       "      <th>Causa de muerte (lista reducida)</th>\n",
       "      <th>Sexo</th>\n",
       "      <th>a�o</th>\n",
       "      <th>Total</th>\n",
       "    </tr>\n",
       "  </thead>\n",
       "  <tbody>\n",
       "    <tr>\n",
       "      <th>170</th>\n",
       "      <td>Coru�a, A</td>\n",
       "      <td>098 Suicidio y lesiones autoinfligidas</td>\n",
       "      <td>Hombres</td>\n",
       "      <td>2020</td>\n",
       "      <td>15</td>\n",
       "    </tr>\n",
       "    <tr>\n",
       "      <th>188</th>\n",
       "      <td>Cuenca</td>\n",
       "      <td>098 Suicidio y lesiones autoinfligidas</td>\n",
       "      <td>Mujeres</td>\n",
       "      <td>2017</td>\n",
       "      <td>4</td>\n",
       "    </tr>\n",
       "    <tr>\n",
       "      <th>291</th>\n",
       "      <td>Madrid</td>\n",
       "      <td>098 Suicidio y lesiones autoinfligidas</td>\n",
       "      <td>Hombres</td>\n",
       "      <td>2019</td>\n",
       "      <td>83</td>\n",
       "    </tr>\n",
       "  </tbody>\n",
       "</table>\n",
       "</div>"
      ],
      "text/plain": [
       "    Provincia de defunci�n        Causa de muerte (lista reducida)     Sexo  \\\n",
       "170              Coru�a, A  098 Suicidio y lesiones autoinfligidas  Hombres   \n",
       "188                 Cuenca  098 Suicidio y lesiones autoinfligidas  Mujeres   \n",
       "291                 Madrid  098 Suicidio y lesiones autoinfligidas  Hombres   \n",
       "\n",
       "      a�o Total  \n",
       "170  2020    15  \n",
       "188  2017     4  \n",
       "291  2019    83  "
      ]
     },
     "execution_count": 256,
     "metadata": {},
     "output_type": "execute_result"
    }
   ],
   "source": [
    "suicidio_provincia_year.sample(3)"
   ]
  },
  {
   "cell_type": "code",
   "execution_count": 257,
   "metadata": {},
   "outputs": [],
   "source": [
    "suicidio_provincia_year.columns = ['provincia','causa','sexo','year','total']"
   ]
  },
  {
   "cell_type": "code",
   "execution_count": 258,
   "metadata": {},
   "outputs": [
    {
     "data": {
      "text/plain": [
       "array(['098 Suicidio y lesiones autoinfligidas'], dtype=object)"
      ]
     },
     "execution_count": 258,
     "metadata": {},
     "output_type": "execute_result"
    }
   ],
   "source": [
    "suicidio_provincia_year.causa.unique() #'098 Suicidio y lesiones autoinfligidas'"
   ]
  },
  {
   "cell_type": "code",
   "execution_count": 259,
   "metadata": {},
   "outputs": [],
   "source": [
    "suicidio_provincia_year.drop('causa',axis = 1,inplace = True)"
   ]
  },
  {
   "cell_type": "code",
   "execution_count": 260,
   "metadata": {},
   "outputs": [
    {
     "data": {
      "text/plain": [
       "provincia    0\n",
       "sexo         0\n",
       "year         0\n",
       "total        0\n",
       "dtype: int64"
      ]
     },
     "execution_count": 260,
     "metadata": {},
     "output_type": "execute_result"
    }
   ],
   "source": [
    "suicidio_provincia_year.isna().sum()"
   ]
  },
  {
   "cell_type": "code",
   "execution_count": 261,
   "metadata": {},
   "outputs": [
    {
     "data": {
      "text/plain": [
       "array([6, 12, 8, 9, 3, 2, 1, 40, 48, 55, 53, 39, 16, 14, 13, 7, 19, 31,\n",
       "       20, 5, '..', 30, 32, 46, 47, 18, 17, 11, 10, 22, 28, 36, 15, 113,\n",
       "       109, 122, 98, 106, 49, 42, 23, 26, 34, 4, 29, 27, 25, 24, 33, 38,\n",
       "       43, 52, 21, 100, 83, 104, 96, 75, 41, 45, 51, 35, 44, 73, 60, 50],\n",
       "      dtype=object)"
      ]
     },
     "execution_count": 261,
     "metadata": {},
     "output_type": "execute_result"
    }
   ],
   "source": [
    "suicidio_provincia_year.total.unique()"
   ]
  },
  {
   "cell_type": "code",
   "execution_count": 262,
   "metadata": {},
   "outputs": [],
   "source": [
    "suicidio_provincia_year.total=suicidio_provincia_year.total.replace('..','0').astype('int64')"
   ]
  },
  {
   "cell_type": "code",
   "execution_count": 263,
   "metadata": {},
   "outputs": [
    {
     "data": {
      "text/html": [
       "<div>\n",
       "<style scoped>\n",
       "    .dataframe tbody tr th:only-of-type {\n",
       "        vertical-align: middle;\n",
       "    }\n",
       "\n",
       "    .dataframe tbody tr th {\n",
       "        vertical-align: top;\n",
       "    }\n",
       "\n",
       "    .dataframe thead th {\n",
       "        text-align: right;\n",
       "    }\n",
       "</style>\n",
       "<table border=\"1\" class=\"dataframe\">\n",
       "  <thead>\n",
       "    <tr style=\"text-align: right;\">\n",
       "      <th></th>\n",
       "      <th>provincia</th>\n",
       "      <th>sexo</th>\n",
       "      <th>year</th>\n",
       "      <th>total</th>\n",
       "    </tr>\n",
       "  </thead>\n",
       "  <tbody>\n",
       "    <tr>\n",
       "      <th>46</th>\n",
       "      <td>Asturias</td>\n",
       "      <td>Mujeres</td>\n",
       "      <td>2019</td>\n",
       "      <td>13</td>\n",
       "    </tr>\n",
       "    <tr>\n",
       "      <th>477</th>\n",
       "      <td>Valladolid</td>\n",
       "      <td>Mujeres</td>\n",
       "      <td>2018</td>\n",
       "      <td>6</td>\n",
       "    </tr>\n",
       "    <tr>\n",
       "      <th>340</th>\n",
       "      <td>Palencia</td>\n",
       "      <td>Hombres</td>\n",
       "      <td>2020</td>\n",
       "      <td>3</td>\n",
       "    </tr>\n",
       "  </tbody>\n",
       "</table>\n",
       "</div>"
      ],
      "text/plain": [
       "      provincia     sexo  year  total\n",
       "46     Asturias  Mujeres  2019     13\n",
       "477  Valladolid  Mujeres  2018      6\n",
       "340    Palencia  Hombres  2020      3"
      ]
     },
     "execution_count": 263,
     "metadata": {},
     "output_type": "execute_result"
    }
   ],
   "source": [
    "suicidio_provincia_year.sample(3)"
   ]
  },
  {
   "cell_type": "code",
   "execution_count": null,
   "metadata": {},
   "outputs": [],
   "source": []
  },
  {
   "cell_type": "markdown",
   "metadata": {},
   "source": [
    "# suicidio edad sexo_year"
   ]
  },
  {
   "cell_type": "code",
   "execution_count": 437,
   "metadata": {},
   "outputs": [],
   "source": [
    "suicidio_edad_sexo = pd.read_excel('../data/suicidio/suicidios_lesiones.xlsx')"
   ]
  },
  {
   "cell_type": "code",
   "execution_count": 438,
   "metadata": {},
   "outputs": [
    {
     "data": {
      "text/html": [
       "<div>\n",
       "<style scoped>\n",
       "    .dataframe tbody tr th:only-of-type {\n",
       "        vertical-align: middle;\n",
       "    }\n",
       "\n",
       "    .dataframe tbody tr th {\n",
       "        vertical-align: top;\n",
       "    }\n",
       "\n",
       "    .dataframe thead th {\n",
       "        text-align: right;\n",
       "    }\n",
       "</style>\n",
       "<table border=\"1\" class=\"dataframe\">\n",
       "  <thead>\n",
       "    <tr style=\"text-align: right;\">\n",
       "      <th></th>\n",
       "      <th>Causa de muerte</th>\n",
       "      <th>Sexo</th>\n",
       "      <th>Edad</th>\n",
       "      <th>Periodo</th>\n",
       "      <th>Total</th>\n",
       "    </tr>\n",
       "  </thead>\n",
       "  <tbody>\n",
       "    <tr>\n",
       "      <th>1362</th>\n",
       "      <td>098  Suicidio y lesiones autoinfligidas</td>\n",
       "      <td>Mujeres</td>\n",
       "      <td>De 55 a 59 a�os</td>\n",
       "      <td>2011</td>\n",
       "      <td>57</td>\n",
       "    </tr>\n",
       "    <tr>\n",
       "      <th>952</th>\n",
       "      <td>098  Suicidio y lesiones autoinfligidas</td>\n",
       "      <td>Mujeres</td>\n",
       "      <td>De 5 a 9 a�os</td>\n",
       "      <td>2011</td>\n",
       "      <td>0</td>\n",
       "    </tr>\n",
       "    <tr>\n",
       "      <th>234</th>\n",
       "      <td>098  Suicidio y lesiones autoinfligidas</td>\n",
       "      <td>Hombres</td>\n",
       "      <td>De 20 a 24 a�os</td>\n",
       "      <td>1991</td>\n",
       "      <td>158</td>\n",
       "    </tr>\n",
       "  </tbody>\n",
       "</table>\n",
       "</div>"
      ],
      "text/plain": [
       "                              Causa de muerte     Sexo             Edad  \\\n",
       "1362  098  Suicidio y lesiones autoinfligidas  Mujeres  De 55 a 59 a�os   \n",
       "952   098  Suicidio y lesiones autoinfligidas  Mujeres    De 5 a 9 a�os   \n",
       "234   098  Suicidio y lesiones autoinfligidas  Hombres  De 20 a 24 a�os   \n",
       "\n",
       "      Periodo  Total  \n",
       "1362     2011     57  \n",
       "952      2011      0  \n",
       "234      1991    158  "
      ]
     },
     "execution_count": 438,
     "metadata": {},
     "output_type": "execute_result"
    }
   ],
   "source": [
    "suicidio_edad_sexo.sample(3)"
   ]
  },
  {
   "cell_type": "code",
   "execution_count": 439,
   "metadata": {},
   "outputs": [],
   "source": [
    "suicidio_edad_sexo.columns = suicidio_edad_sexo.columns.str.replace(' ','_').str.lower()"
   ]
  },
  {
   "cell_type": "code",
   "execution_count": 440,
   "metadata": {},
   "outputs": [
    {
     "data": {
      "text/plain": [
       "array(['098  Suicidio y lesiones autoinfligidas'], dtype=object)"
      ]
     },
     "execution_count": 440,
     "metadata": {},
     "output_type": "execute_result"
    }
   ],
   "source": [
    "suicidio_edad_sexo.causa_de_muerte.unique() #'098  Suicidio y lesiones autoinfligidas'"
   ]
  },
  {
   "cell_type": "code",
   "execution_count": 441,
   "metadata": {},
   "outputs": [],
   "source": [
    "suicidio_edad_sexo.drop('causa_de_muerte',axis=1,inplace = True)"
   ]
  },
  {
   "cell_type": "code",
   "execution_count": 442,
   "metadata": {},
   "outputs": [],
   "source": [
    "#menmos de 5 no hay, quitamos\n",
    "menores = ['Menos de 1 a�o','De 1 a 4 a�os']\n",
    "menores_drop = suicidio_edad_sexo[suicidio_edad_sexo['edad'].isin(menores)].index"
   ]
  },
  {
   "cell_type": "code",
   "execution_count": 443,
   "metadata": {},
   "outputs": [],
   "source": [
    "suicidio_edad_sexo.drop(menores_drop,inplace = True)"
   ]
  },
  {
   "cell_type": "code",
   "execution_count": 444,
   "metadata": {},
   "outputs": [],
   "source": [
    "suicidio_edad_sexo.edad = suicidio_edad_sexo.edad.str.strip()"
   ]
  },
  {
   "cell_type": "code",
   "execution_count": 445,
   "metadata": {},
   "outputs": [],
   "source": [
    "suicidio_edad_sexo.edad = suicidio_edad_sexo.edad.str.extract(r'((\\d+)\\D*$)')[1].astype('int64')"
   ]
  },
  {
   "cell_type": "code",
   "execution_count": 448,
   "metadata": {},
   "outputs": [
    {
     "data": {
      "text/html": [
       "<div>\n",
       "<style scoped>\n",
       "    .dataframe tbody tr th:only-of-type {\n",
       "        vertical-align: middle;\n",
       "    }\n",
       "\n",
       "    .dataframe tbody tr th {\n",
       "        vertical-align: top;\n",
       "    }\n",
       "\n",
       "    .dataframe thead th {\n",
       "        text-align: right;\n",
       "    }\n",
       "</style>\n",
       "<table border=\"1\" class=\"dataframe\">\n",
       "  <thead>\n",
       "    <tr style=\"text-align: right;\">\n",
       "      <th></th>\n",
       "      <th>sexo</th>\n",
       "      <th>edad</th>\n",
       "      <th>periodo</th>\n",
       "      <th>total</th>\n",
       "    </tr>\n",
       "  </thead>\n",
       "  <tbody>\n",
       "    <tr>\n",
       "      <th>164</th>\n",
       "      <td>Hombres</td>\n",
       "      <td>19</td>\n",
       "      <td>2020</td>\n",
       "      <td>31</td>\n",
       "    </tr>\n",
       "    <tr>\n",
       "      <th>1336</th>\n",
       "      <td>Mujeres</td>\n",
       "      <td>54</td>\n",
       "      <td>1996</td>\n",
       "      <td>64</td>\n",
       "    </tr>\n",
       "    <tr>\n",
       "      <th>667</th>\n",
       "      <td>Hombres</td>\n",
       "      <td>79</td>\n",
       "      <td>2009</td>\n",
       "      <td>221</td>\n",
       "    </tr>\n",
       "    <tr>\n",
       "      <th>1609</th>\n",
       "      <td>Mujeres</td>\n",
       "      <td>89</td>\n",
       "      <td>2010</td>\n",
       "      <td>27</td>\n",
       "    </tr>\n",
       "    <tr>\n",
       "      <th>550</th>\n",
       "      <td>Hombres</td>\n",
       "      <td>64</td>\n",
       "      <td>2003</td>\n",
       "      <td>142</td>\n",
       "    </tr>\n",
       "  </tbody>\n",
       "</table>\n",
       "</div>"
      ],
      "text/plain": [
       "         sexo  edad  periodo  total\n",
       "164   Hombres    19     2020     31\n",
       "1336  Mujeres    54     1996     64\n",
       "667   Hombres    79     2009    221\n",
       "1609  Mujeres    89     2010     27\n",
       "550   Hombres    64     2003    142"
      ]
     },
     "execution_count": 448,
     "metadata": {},
     "output_type": "execute_result"
    }
   ],
   "source": [
    "suicidio_edad_sexo.sample(5)"
   ]
  },
  {
   "cell_type": "code",
   "execution_count": null,
   "metadata": {},
   "outputs": [],
   "source": []
  }
 ],
 "metadata": {
  "kernelspec": {
   "display_name": "ironhack",
   "language": "python",
   "name": "ironhack"
  },
  "language_info": {
   "codemirror_mode": {
    "name": "ipython",
    "version": 3
   },
   "file_extension": ".py",
   "mimetype": "text/x-python",
   "name": "python",
   "nbconvert_exporter": "python",
   "pygments_lexer": "ipython3",
   "version": "3.8.5"
  }
 },
 "nbformat": 4,
 "nbformat_minor": 4
}
