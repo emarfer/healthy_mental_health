{
 "cells": [
  {
   "cell_type": "code",
   "execution_count": 3,
   "id": "36eb4fff",
   "metadata": {},
   "outputs": [],
   "source": [
    "import pandas as pd\n",
    "import requests\n",
    "from bs4 import BeautifulSoup\n",
    "import sys\n",
    "sys.path.append('../src')\n",
    "import escrapeos as esc\n",
    "import json\n"
   ]
  },
  {
   "cell_type": "markdown",
   "id": "c66e03de",
   "metadata": {},
   "source": [
    "# Escrapeo Nombre trastronos CIE-10"
   ]
  },
  {
   "cell_type": "markdown",
   "id": "e9ecffeb",
   "metadata": {},
   "source": [
    "[wiki](https://es.wikipedia.org/wiki/Anexo:CIE-10_Cap%C3%ADtulo_V:_Trastornos_mentales_y_del_comportamiento)"
   ]
  },
  {
   "cell_type": "code",
   "execution_count": 2,
   "id": "a0a8bcd2",
   "metadata": {},
   "outputs": [],
   "source": [
    "url = \"https://es.wikipedia.org/wiki/Anexo:CIE-10_Cap%C3%ADtulo_V:_Trastornos_mentales_y_del_comportamiento\"\n",
    "elemento = 'h2'\n",
    "# html = requests.get(url)\n",
    "# soup = BeautifulSoup(html.content,\"html.parser\")"
   ]
  },
  {
   "cell_type": "code",
   "execution_count": 3,
   "id": "204a8cd0",
   "metadata": {},
   "outputs": [],
   "source": [
    "capitulo = esc.capitulos(url,elemento)"
   ]
  },
  {
   "cell_type": "code",
   "execution_count": 4,
   "id": "ede3de6f",
   "metadata": {},
   "outputs": [
    {
     "data": {
      "text/html": [
       "<div>\n",
       "<style scoped>\n",
       "    .dataframe tbody tr th:only-of-type {\n",
       "        vertical-align: middle;\n",
       "    }\n",
       "\n",
       "    .dataframe tbody tr th {\n",
       "        vertical-align: top;\n",
       "    }\n",
       "\n",
       "    .dataframe thead th {\n",
       "        text-align: right;\n",
       "    }\n",
       "</style>\n",
       "<table border=\"1\" class=\"dataframe\">\n",
       "  <thead>\n",
       "    <tr style=\"text-align: right;\">\n",
       "      <th></th>\n",
       "      <th>cap</th>\n",
       "      <th>title</th>\n",
       "    </tr>\n",
       "  </thead>\n",
       "  <tbody>\n",
       "    <tr>\n",
       "      <th>10</th>\n",
       "      <td>F99</td>\n",
       "      <td>Trastornos mentales sin especificar</td>\n",
       "    </tr>\n",
       "    <tr>\n",
       "      <th>6</th>\n",
       "      <td>F60-69</td>\n",
       "      <td>Trastornos de la personalidad y del comportami...</td>\n",
       "    </tr>\n",
       "    <tr>\n",
       "      <th>1</th>\n",
       "      <td>F10-F19</td>\n",
       "      <td>Trastornos mentales y de comportamiento debido...</td>\n",
       "    </tr>\n",
       "  </tbody>\n",
       "</table>\n",
       "</div>"
      ],
      "text/plain": [
       "        cap                                              title\n",
       "10      F99                Trastornos mentales sin especificar\n",
       "6    F60-69  Trastornos de la personalidad y del comportami...\n",
       "1   F10-F19  Trastornos mentales y de comportamiento debido..."
      ]
     },
     "execution_count": 4,
     "metadata": {},
     "output_type": "execute_result"
    }
   ],
   "source": [
    "capitulo.sample(3)"
   ]
  },
  {
   "cell_type": "code",
   "execution_count": 5,
   "id": "82e531e9",
   "metadata": {},
   "outputs": [],
   "source": [
    "elementodos = 'li'"
   ]
  },
  {
   "cell_type": "code",
   "execution_count": 6,
   "id": "3e828c3c",
   "metadata": {},
   "outputs": [],
   "source": [
    "diagnostic = esc.diagnostics(url,elementodos)"
   ]
  },
  {
   "cell_type": "code",
   "execution_count": 7,
   "id": "0f0bd191",
   "metadata": {},
   "outputs": [
    {
     "data": {
      "text/html": [
       "<div>\n",
       "<style scoped>\n",
       "    .dataframe tbody tr th:only-of-type {\n",
       "        vertical-align: middle;\n",
       "    }\n",
       "\n",
       "    .dataframe tbody tr th {\n",
       "        vertical-align: top;\n",
       "    }\n",
       "\n",
       "    .dataframe thead th {\n",
       "        text-align: right;\n",
       "    }\n",
       "</style>\n",
       "<table border=\"1\" class=\"dataframe\">\n",
       "  <thead>\n",
       "    <tr style=\"text-align: right;\">\n",
       "      <th></th>\n",
       "      <th>code</th>\n",
       "      <th>diag</th>\n",
       "    </tr>\n",
       "  </thead>\n",
       "  <tbody>\n",
       "    <tr>\n",
       "      <th>283</th>\n",
       "      <td>(F98.2)</td>\n",
       "      <td>Trastorno de la alimentación de la infancia y ...</td>\n",
       "    </tr>\n",
       "    <tr>\n",
       "      <th>78</th>\n",
       "      <td>F30.2</td>\n",
       "      <td>Episodio maníaco, grave, con síntomas psicóticos</td>\n",
       "    </tr>\n",
       "    <tr>\n",
       "      <th>175</th>\n",
       "      <td>(F51.5)</td>\n",
       "      <td>Pesadillas</td>\n",
       "    </tr>\n",
       "  </tbody>\n",
       "</table>\n",
       "</div>"
      ],
      "text/plain": [
       "        code                                               diag\n",
       "283  (F98.2)  Trastorno de la alimentación de la infancia y ...\n",
       "78     F30.2   Episodio maníaco, grave, con síntomas psicóticos\n",
       "175  (F51.5)                                         Pesadillas"
      ]
     },
     "execution_count": 7,
     "metadata": {},
     "output_type": "execute_result"
    }
   ],
   "source": [
    "diagnostic.sample(3)"
   ]
  },
  {
   "cell_type": "markdown",
   "id": "a6ec17c2",
   "metadata": {},
   "source": [
    "### limpieaza dataframe diag"
   ]
  },
  {
   "cell_type": "code",
   "execution_count": 8,
   "id": "e56b361f",
   "metadata": {},
   "outputs": [],
   "source": [
    "sin_p = {r\"[(]\":\"\",r\"[)]\":\"\"}#quitamos los paréntesis \n",
    "diagnostic.code = diagnostic.code.replace(sin_p,regex=True) \n"
   ]
  },
  {
   "cell_type": "code",
   "execution_count": 9,
   "id": "3e644a6b",
   "metadata": {},
   "outputs": [
    {
     "data": {
      "text/html": [
       "<div>\n",
       "<style scoped>\n",
       "    .dataframe tbody tr th:only-of-type {\n",
       "        vertical-align: middle;\n",
       "    }\n",
       "\n",
       "    .dataframe tbody tr th {\n",
       "        vertical-align: top;\n",
       "    }\n",
       "\n",
       "    .dataframe thead th {\n",
       "        text-align: right;\n",
       "    }\n",
       "</style>\n",
       "<table border=\"1\" class=\"dataframe\">\n",
       "  <thead>\n",
       "    <tr style=\"text-align: right;\">\n",
       "      <th></th>\n",
       "      <th>code</th>\n",
       "      <th>diag</th>\n",
       "    </tr>\n",
       "  </thead>\n",
       "  <tbody>\n",
       "    <tr>\n",
       "      <th>232</th>\n",
       "      <td>F80</td>\n",
       "      <td>Trastornos específicos del lenguaje y del habl...</td>\n",
       "    </tr>\n",
       "    <tr>\n",
       "      <th>95</th>\n",
       "      <td>F31.4</td>\n",
       "      <td>Trastorno bipolar, episodio actual depresivo, ...</td>\n",
       "    </tr>\n",
       "    <tr>\n",
       "      <th>48</th>\n",
       "      <td>F20.4</td>\n",
       "      <td>Depresión post-esquizofrénica</td>\n",
       "    </tr>\n",
       "  </tbody>\n",
       "</table>\n",
       "</div>"
      ],
      "text/plain": [
       "      code                                               diag\n",
       "232    F80  Trastornos específicos del lenguaje y del habl...\n",
       "95   F31.4  Trastorno bipolar, episodio actual depresivo, ...\n",
       "48   F20.4                      Depresión post-esquizofrénica"
      ]
     },
     "execution_count": 9,
     "metadata": {},
     "output_type": "execute_result"
    }
   ],
   "source": [
    "diagnostic.sample(3)"
   ]
  },
  {
   "cell_type": "code",
   "execution_count": 10,
   "id": "5c3c36d7",
   "metadata": {},
   "outputs": [],
   "source": [
    "falta = {'code':'F65','diag':'Trastornos de la preferencia sexual'}"
   ]
  },
  {
   "cell_type": "code",
   "execution_count": 11,
   "id": "83368806",
   "metadata": {},
   "outputs": [],
   "source": [
    "diagnostic = diagnostic.append(falta, ignore_index=True)"
   ]
  },
  {
   "cell_type": "code",
   "execution_count": 14,
   "id": "2d1eb56c",
   "metadata": {},
   "outputs": [
    {
     "data": {
      "text/html": [
       "<div>\n",
       "<style scoped>\n",
       "    .dataframe tbody tr th:only-of-type {\n",
       "        vertical-align: middle;\n",
       "    }\n",
       "\n",
       "    .dataframe tbody tr th {\n",
       "        vertical-align: top;\n",
       "    }\n",
       "\n",
       "    .dataframe thead th {\n",
       "        text-align: right;\n",
       "    }\n",
       "</style>\n",
       "<table border=\"1\" class=\"dataframe\">\n",
       "  <thead>\n",
       "    <tr style=\"text-align: right;\">\n",
       "      <th></th>\n",
       "      <th>code</th>\n",
       "      <th>diag</th>\n",
       "    </tr>\n",
       "  </thead>\n",
       "  <tbody>\n",
       "    <tr>\n",
       "      <th>287</th>\n",
       "      <td>F98.6</td>\n",
       "      <td>Desorden lingüístico</td>\n",
       "    </tr>\n",
       "    <tr>\n",
       "      <th>288</th>\n",
       "      <td>F99</td>\n",
       "      <td>Trastorno mental no especificado en otra parte</td>\n",
       "    </tr>\n",
       "    <tr>\n",
       "      <th>289</th>\n",
       "      <td>F65</td>\n",
       "      <td>Trastornos de la preferencia sexual</td>\n",
       "    </tr>\n",
       "  </tbody>\n",
       "</table>\n",
       "</div>"
      ],
      "text/plain": [
       "      code                                            diag\n",
       "287  F98.6                            Desorden lingüístico\n",
       "288    F99  Trastorno mental no especificado en otra parte\n",
       "289    F65             Trastornos de la preferencia sexual"
      ]
     },
     "execution_count": 14,
     "metadata": {},
     "output_type": "execute_result"
    }
   ],
   "source": [
    "diagnostic.tail(3)"
   ]
  },
  {
   "cell_type": "code",
   "execution_count": 15,
   "id": "1054e88b",
   "metadata": {},
   "outputs": [
    {
     "data": {
      "text/plain": [
       "77"
      ]
     },
     "execution_count": 15,
     "metadata": {},
     "output_type": "execute_result"
    }
   ],
   "source": [
    "#nos quedamos solo con los subcodigos que sean principales (F00-F99)\n",
    "diagnostic = diagnostic[diagnostic[\"code\"].str.match(r\"(^F..$)\")]\n",
    "len(diagnostic)"
   ]
  },
  {
   "cell_type": "code",
   "execution_count": 16,
   "id": "0f9d81ba",
   "metadata": {},
   "outputs": [],
   "source": [
    "for i,r in diagnostic.iterrows():\n",
    "    if \"\\n\" in r.diag:\n",
    "        r.diag = r.diag.split(\"\\n\")[0]"
   ]
  },
  {
   "cell_type": "code",
   "execution_count": 17,
   "id": "3e8c62e1",
   "metadata": {
    "scrolled": true
   },
   "outputs": [
    {
     "data": {
      "text/html": [
       "<div>\n",
       "<style scoped>\n",
       "    .dataframe tbody tr th:only-of-type {\n",
       "        vertical-align: middle;\n",
       "    }\n",
       "\n",
       "    .dataframe tbody tr th {\n",
       "        vertical-align: top;\n",
       "    }\n",
       "\n",
       "    .dataframe thead th {\n",
       "        text-align: right;\n",
       "    }\n",
       "</style>\n",
       "<table border=\"1\" class=\"dataframe\">\n",
       "  <thead>\n",
       "    <tr style=\"text-align: right;\">\n",
       "      <th></th>\n",
       "      <th>code</th>\n",
       "      <th>diag</th>\n",
       "    </tr>\n",
       "  </thead>\n",
       "  <tbody>\n",
       "    <tr>\n",
       "      <th>260</th>\n",
       "      <td>F91</td>\n",
       "      <td>Trastornos de conducta</td>\n",
       "    </tr>\n",
       "    <tr>\n",
       "      <th>228</th>\n",
       "      <td>F72</td>\n",
       "      <td>Retraso mental severo</td>\n",
       "    </tr>\n",
       "    <tr>\n",
       "      <th>196</th>\n",
       "      <td>F62</td>\n",
       "      <td>Cambios de personalidad duraderos, no atribuib...</td>\n",
       "    </tr>\n",
       "  </tbody>\n",
       "</table>\n",
       "</div>"
      ],
      "text/plain": [
       "    code                                               diag\n",
       "260  F91                             Trastornos de conducta\n",
       "228  F72                              Retraso mental severo\n",
       "196  F62  Cambios de personalidad duraderos, no atribuib..."
      ]
     },
     "execution_count": 17,
     "metadata": {},
     "output_type": "execute_result"
    }
   ],
   "source": [
    "diagnostic.sample(3)"
   ]
  },
  {
   "cell_type": "code",
   "execution_count": 18,
   "id": "67736477",
   "metadata": {},
   "outputs": [],
   "source": [
    "#añadimos el capítulo correpondiente a cada diagnóstico de diagnostic"
   ]
  },
  {
   "cell_type": "code",
   "execution_count": 19,
   "id": "30d803b6",
   "metadata": {},
   "outputs": [],
   "source": [
    "correspond = {'F00-F09': [\"F00\",\"F01\",\"F02\",\"F03\",\"F04\",\"F05\",\"F06\",\"F07\",\"F08\",\"F09\"],\n",
    "'F10-F19': [\"F10\",\"F11\",\"F12\",\"F13\",\"F14\",\"F15\",\"F16\",\"F17\",\"F18\",\"F19\"],\n",
    "'F20-29' : [\"F20\",\"F21\",\"F22\",\"F23\",\"F24\",\"F25\",\"F26\",\"F27\",\"F28\",\"F29\"],\n",
    "'F30-39' : [\"F30\",\"F31\",\"F32\",\"F33\",\"F34\",\"F35\",\"F36\",\"F37\",\"F38\",\"F39\"],\n",
    "'F40-49': [\"F40\",\"F41\",\"F42\",\"F43\",\"F44\",\"F45\",\"F46\",\"F47\",\"F48\",\"F49\"],\n",
    "'F50-59': [\"F50\",\"F51\",\"F52\",\"F53\",\"F54\",\"F55\",\"F56\",\"F57\",\"F58\",\"F59\"],\n",
    "'F60-69': [\"F60\",\"F61\",\"F62\",\"F63\",\"F64\",\"F65\",\"F66\",\"F67\",\"F68\",\"F69\"],\n",
    "'F70-79':[\"F70\",\"F71\",\"F72\",\"F73\",\"F74\",\"F75\",\"F76\",\"F77\",\"F78\",\"F79\"],\n",
    "'F80-89' : [\"F80\",\"F81\",\"F82\",\"F83\",\"F84\",\"F85\",\"F86\",\"F87\",\"F88\",\"F89\"],\n",
    "'F90-F98':[\"F90\",\"F91\",\"F92\",\"F93\",\"F94\",\"F95\",\"F96\",\"F97\",\"F98\"],\n",
    "'F99':[\"F99\"]}"
   ]
  },
  {
   "cell_type": "code",
   "execution_count": 20,
   "id": "6b0a945d",
   "metadata": {},
   "outputs": [],
   "source": [
    "dicc_corr = {}\n",
    "for key,value in correspond.items():\n",
    "    for i in range(len(value)):\n",
    "        dicc_corr[value[i]] = key"
   ]
  },
  {
   "cell_type": "code",
   "execution_count": 21,
   "id": "172e60a9",
   "metadata": {},
   "outputs": [
    {
     "name": "stderr",
     "output_type": "stream",
     "text": [
      "<ipython-input-21-f0f5854a54f5>:1: SettingWithCopyWarning: \n",
      "A value is trying to be set on a copy of a slice from a DataFrame.\n",
      "Try using .loc[row_indexer,col_indexer] = value instead\n",
      "\n",
      "See the caveats in the documentation: https://pandas.pydata.org/pandas-docs/stable/user_guide/indexing.html#returning-a-view-versus-a-copy\n",
      "  diagnostic['cap']=diagnostic.code.map(dicc_corr)\n"
     ]
    }
   ],
   "source": [
    "diagnostic['cap']=diagnostic.code.map(dicc_corr)"
   ]
  },
  {
   "cell_type": "code",
   "execution_count": 22,
   "id": "5929fc2f",
   "metadata": {},
   "outputs": [],
   "source": [
    "diagnostic = diagnostic.merge(capitulo, how='right')"
   ]
  },
  {
   "cell_type": "code",
   "execution_count": 23,
   "id": "385295ff",
   "metadata": {},
   "outputs": [
    {
     "data": {
      "text/html": [
       "<div>\n",
       "<style scoped>\n",
       "    .dataframe tbody tr th:only-of-type {\n",
       "        vertical-align: middle;\n",
       "    }\n",
       "\n",
       "    .dataframe tbody tr th {\n",
       "        vertical-align: top;\n",
       "    }\n",
       "\n",
       "    .dataframe thead th {\n",
       "        text-align: right;\n",
       "    }\n",
       "</style>\n",
       "<table border=\"1\" class=\"dataframe\">\n",
       "  <thead>\n",
       "    <tr style=\"text-align: right;\">\n",
       "      <th></th>\n",
       "      <th>code</th>\n",
       "      <th>diag</th>\n",
       "      <th>cap</th>\n",
       "      <th>title</th>\n",
       "    </tr>\n",
       "  </thead>\n",
       "  <tbody>\n",
       "    <tr>\n",
       "      <th>70</th>\n",
       "      <td>F91</td>\n",
       "      <td>Trastornos de conducta</td>\n",
       "      <td>F90-F98</td>\n",
       "      <td>Trastornos emocionales y del comportamiento qu...</td>\n",
       "    </tr>\n",
       "    <tr>\n",
       "      <th>15</th>\n",
       "      <td>F15</td>\n",
       "      <td>Trastornos mentales y de comportamiento debido...</td>\n",
       "      <td>F10-F19</td>\n",
       "      <td>Trastornos mentales y de comportamiento debido...</td>\n",
       "    </tr>\n",
       "    <tr>\n",
       "      <th>43</th>\n",
       "      <td>F52</td>\n",
       "      <td>Disfunción sexual no ocasionada por trastornos...</td>\n",
       "      <td>F50-59</td>\n",
       "      <td>Síndromes del comportamiento asociados con alt...</td>\n",
       "    </tr>\n",
       "    <tr>\n",
       "      <th>24</th>\n",
       "      <td>F24</td>\n",
       "      <td>Trastorno de ideas delirantes inducidas</td>\n",
       "      <td>F20-29</td>\n",
       "      <td>Esquizofrenia, trastornos esquizotípicos y tra...</td>\n",
       "    </tr>\n",
       "    <tr>\n",
       "      <th>14</th>\n",
       "      <td>F14</td>\n",
       "      <td>Trastornos mentales y de comportamiento debido...</td>\n",
       "      <td>F10-F19</td>\n",
       "      <td>Trastornos mentales y de comportamiento debido...</td>\n",
       "    </tr>\n",
       "    <tr>\n",
       "      <th>10</th>\n",
       "      <td>F10</td>\n",
       "      <td>Trastornos mentales y de comportamiento debido...</td>\n",
       "      <td>F10-F19</td>\n",
       "      <td>Trastornos mentales y de comportamiento debido...</td>\n",
       "    </tr>\n",
       "    <tr>\n",
       "      <th>74</th>\n",
       "      <td>F95</td>\n",
       "      <td>Tics</td>\n",
       "      <td>F90-F98</td>\n",
       "      <td>Trastornos emocionales y del comportamiento qu...</td>\n",
       "    </tr>\n",
       "    <tr>\n",
       "      <th>68</th>\n",
       "      <td>F89</td>\n",
       "      <td>Trastornos del desarrollo psicológico sin espe...</td>\n",
       "      <td>F80-89</td>\n",
       "      <td>Trastornos del desarrollo psicológico</td>\n",
       "    </tr>\n",
       "    <tr>\n",
       "      <th>51</th>\n",
       "      <td>F64</td>\n",
       "      <td>Trastornos de identidad de género</td>\n",
       "      <td>F60-69</td>\n",
       "      <td>Trastornos de la personalidad y del comportami...</td>\n",
       "    </tr>\n",
       "    <tr>\n",
       "      <th>55</th>\n",
       "      <td>F65</td>\n",
       "      <td>Trastornos de la preferencia sexual</td>\n",
       "      <td>F60-69</td>\n",
       "      <td>Trastornos de la personalidad y del comportami...</td>\n",
       "    </tr>\n",
       "  </tbody>\n",
       "</table>\n",
       "</div>"
      ],
      "text/plain": [
       "   code                                               diag      cap  \\\n",
       "70  F91                             Trastornos de conducta  F90-F98   \n",
       "15  F15  Trastornos mentales y de comportamiento debido...  F10-F19   \n",
       "43  F52  Disfunción sexual no ocasionada por trastornos...   F50-59   \n",
       "24  F24            Trastorno de ideas delirantes inducidas   F20-29   \n",
       "14  F14  Trastornos mentales y de comportamiento debido...  F10-F19   \n",
       "10  F10  Trastornos mentales y de comportamiento debido...  F10-F19   \n",
       "74  F95                                               Tics  F90-F98   \n",
       "68  F89  Trastornos del desarrollo psicológico sin espe...   F80-89   \n",
       "51  F64                  Trastornos de identidad de género   F60-69   \n",
       "55  F65                Trastornos de la preferencia sexual   F60-69   \n",
       "\n",
       "                                                title  \n",
       "70  Trastornos emocionales y del comportamiento qu...  \n",
       "15  Trastornos mentales y de comportamiento debido...  \n",
       "43  Síndromes del comportamiento asociados con alt...  \n",
       "24  Esquizofrenia, trastornos esquizotípicos y tra...  \n",
       "14  Trastornos mentales y de comportamiento debido...  \n",
       "10  Trastornos mentales y de comportamiento debido...  \n",
       "74  Trastornos emocionales y del comportamiento qu...  \n",
       "68              Trastornos del desarrollo psicológico  \n",
       "51  Trastornos de la personalidad y del comportami...  \n",
       "55  Trastornos de la personalidad y del comportami...  "
      ]
     },
     "execution_count": 23,
     "metadata": {},
     "output_type": "execute_result"
    }
   ],
   "source": [
    "diagnostic.sample(10)"
   ]
  },
  {
   "cell_type": "code",
   "execution_count": 24,
   "id": "e4f5285e",
   "metadata": {},
   "outputs": [],
   "source": [
    "diagnostic.to_csv(\"../data/diagnos.csv\", index=False)"
   ]
  },
  {
   "cell_type": "markdown",
   "id": "211228a3",
   "metadata": {},
   "source": [
    "#  Fases lunares"
   ]
  },
  {
   "cell_type": "code",
   "execution_count": 4,
   "id": "07fe1c55",
   "metadata": {},
   "outputs": [],
   "source": [
    "url_ = 'https://calendarios.ideal.es/calendario-lunar/fases-lunares/'"
   ]
  },
  {
   "cell_type": "code",
   "execution_count": 5,
   "id": "fe815f02",
   "metadata": {},
   "outputs": [
    {
     "name": "stderr",
     "output_type": "stream",
     "text": [
      "/home/sinatxe/anaconda3/envs/ironhack/lib/python3.8/site-packages/urllib3/connectionpool.py:1013: InsecureRequestWarning: Unverified HTTPS request is being made to host 'calendarios.ideal.es'. Adding certificate verification is strongly advised. See: https://urllib3.readthedocs.io/en/1.26.x/advanced-usage.html#ssl-warnings\n",
      "  warnings.warn(\n",
      "/home/sinatxe/anaconda3/envs/ironhack/lib/python3.8/site-packages/urllib3/connectionpool.py:1013: InsecureRequestWarning: Unverified HTTPS request is being made to host 'calendarios.ideal.es'. Adding certificate verification is strongly advised. See: https://urllib3.readthedocs.io/en/1.26.x/advanced-usage.html#ssl-warnings\n",
      "  warnings.warn(\n",
      "/home/sinatxe/anaconda3/envs/ironhack/lib/python3.8/site-packages/urllib3/connectionpool.py:1013: InsecureRequestWarning: Unverified HTTPS request is being made to host 'calendarios.ideal.es'. Adding certificate verification is strongly advised. See: https://urllib3.readthedocs.io/en/1.26.x/advanced-usage.html#ssl-warnings\n",
      "  warnings.warn(\n",
      "/home/sinatxe/anaconda3/envs/ironhack/lib/python3.8/site-packages/urllib3/connectionpool.py:1013: InsecureRequestWarning: Unverified HTTPS request is being made to host 'calendarios.ideal.es'. Adding certificate verification is strongly advised. See: https://urllib3.readthedocs.io/en/1.26.x/advanced-usage.html#ssl-warnings\n",
      "  warnings.warn(\n"
     ]
    }
   ],
   "source": [
    "lunas = esc.calendariolunar(url_,2016,2020)"
   ]
  },
  {
   "cell_type": "code",
   "execution_count": 6,
   "id": "90f9d0d8",
   "metadata": {
    "scrolled": true
   },
   "outputs": [
    {
     "data": {
      "text/html": [
       "<div>\n",
       "<style scoped>\n",
       "    .dataframe tbody tr th:only-of-type {\n",
       "        vertical-align: middle;\n",
       "    }\n",
       "\n",
       "    .dataframe tbody tr th {\n",
       "        vertical-align: top;\n",
       "    }\n",
       "\n",
       "    .dataframe thead th {\n",
       "        text-align: right;\n",
       "    }\n",
       "</style>\n",
       "<table border=\"1\" class=\"dataframe\">\n",
       "  <thead>\n",
       "    <tr style=\"text-align: right;\">\n",
       "      <th></th>\n",
       "      <th>fecha</th>\n",
       "      <th>moon</th>\n",
       "      <th>fecha_Date</th>\n",
       "    </tr>\n",
       "  </thead>\n",
       "  <tbody>\n",
       "    <tr>\n",
       "      <th>12</th>\n",
       "      <td>30/03/2016</td>\n",
       "      <td>Cuarto Menguante</td>\n",
       "      <td>2016-03-30</td>\n",
       "    </tr>\n",
       "    <tr>\n",
       "      <th>197</th>\n",
       "      <td>26/12/2019</td>\n",
       "      <td>Luna Nueva</td>\n",
       "      <td>2019-12-26</td>\n",
       "    </tr>\n",
       "    <tr>\n",
       "      <th>72</th>\n",
       "      <td>16/06/2017</td>\n",
       "      <td>Cuarto Menguante</td>\n",
       "      <td>2017-06-16</td>\n",
       "    </tr>\n",
       "  </tbody>\n",
       "</table>\n",
       "</div>"
      ],
      "text/plain": [
       "          fecha              moon fecha_Date\n",
       "12   30/03/2016  Cuarto Menguante 2016-03-30\n",
       "197  26/12/2019        Luna Nueva 2019-12-26\n",
       "72   16/06/2017  Cuarto Menguante 2017-06-16"
      ]
     },
     "execution_count": 6,
     "metadata": {},
     "output_type": "execute_result"
    }
   ],
   "source": [
    "lunas.sample(3)"
   ]
  },
  {
   "cell_type": "code",
   "execution_count": 8,
   "id": "54345bcf",
   "metadata": {},
   "outputs": [],
   "source": [
    "lunas.to_csv('../data/cal_lunar.csv',index=False)"
   ]
  },
  {
   "cell_type": "markdown",
   "id": "64ed6bfb",
   "metadata": {},
   "source": [
    "# Horas de luz"
   ]
  },
  {
   "cell_type": "markdown",
   "id": "d05fcd73",
   "metadata": {},
   "source": [
    "[web](https://www.epdata.es/horas-luz-provincias-2019/6841c77e-e946-420e-a0c4-cff4de1154f3#)"
   ]
  },
  {
   "cell_type": "code",
   "execution_count": 29,
   "id": "a9157908",
   "metadata": {},
   "outputs": [],
   "source": [
    "luz = pd.read_csv('../data/ambientales/horas_de_luz_por_provincias.csv',sep=';')\n",
    "luz = luz[0:624].drop('Año',axis=1).rename({'Periodo':'mes','Parámetro':'Provincia','Salida y puesta del sol':'horas'},axis=1)\n",
    "luz.horas = luz.horas.str.replace(',','.').astype('float')\n",
    "luz.Provincia = luz.Provincia.str.strip()\n",
    "luz.Provincia = luz.Provincia.str.replace('Islas Baleares','Baleares')"
   ]
  },
  {
   "cell_type": "code",
   "execution_count": 30,
   "id": "b0477f3c",
   "metadata": {},
   "outputs": [
    {
     "data": {
      "text/html": [
       "<div>\n",
       "<style scoped>\n",
       "    .dataframe tbody tr th:only-of-type {\n",
       "        vertical-align: middle;\n",
       "    }\n",
       "\n",
       "    .dataframe tbody tr th {\n",
       "        vertical-align: top;\n",
       "    }\n",
       "\n",
       "    .dataframe thead th {\n",
       "        text-align: right;\n",
       "    }\n",
       "</style>\n",
       "<table border=\"1\" class=\"dataframe\">\n",
       "  <thead>\n",
       "    <tr style=\"text-align: right;\">\n",
       "      <th></th>\n",
       "      <th>mes</th>\n",
       "      <th>Provincia</th>\n",
       "      <th>horas</th>\n",
       "    </tr>\n",
       "  </thead>\n",
       "  <tbody>\n",
       "    <tr>\n",
       "      <th>447</th>\n",
       "      <td>Septiembre</td>\n",
       "      <td>Ourense</td>\n",
       "      <td>12.49</td>\n",
       "    </tr>\n",
       "    <tr>\n",
       "      <th>444</th>\n",
       "      <td>Septiembre</td>\n",
       "      <td>Málaga</td>\n",
       "      <td>12.42</td>\n",
       "    </tr>\n",
       "    <tr>\n",
       "      <th>440</th>\n",
       "      <td>Septiembre</td>\n",
       "      <td>Lleida</td>\n",
       "      <td>12.48</td>\n",
       "    </tr>\n",
       "  </tbody>\n",
       "</table>\n",
       "</div>"
      ],
      "text/plain": [
       "            mes Provincia  horas\n",
       "447  Septiembre   Ourense  12.49\n",
       "444  Septiembre    Málaga  12.42\n",
       "440  Septiembre    Lleida  12.48"
      ]
     },
     "execution_count": 30,
     "metadata": {},
     "output_type": "execute_result"
    }
   ],
   "source": [
    "luz.sample(3)"
   ]
  },
  {
   "cell_type": "code",
   "execution_count": 31,
   "id": "c89671c8",
   "metadata": {},
   "outputs": [],
   "source": [
    "#coordenar nombre de provincias con geojson provincial\n",
    "geo_json = r\"../data/socioecon/spain_provinces.geojson\"\n",
    "with open (geo_json) as geo_file:\n",
    "    provincias = json.load(geo_file)\n",
    "\n",
    "prov_cod = {}\n",
    "for i in range(52):    \n",
    "    prov_cod[provincias['features'][i]['properties']['name']] = provincias['features'][i]['properties']['cod_prov']"
   ]
  },
  {
   "cell_type": "code",
   "execution_count": 32,
   "id": "ca6e3903",
   "metadata": {},
   "outputs": [
    {
     "data": {
      "text/plain": [
       "array(['Álava', 'Albacete', 'Alicante', 'Almería', 'Ávila', 'Badajoz',\n",
       "       'Baleares', 'Barcelona', 'Burgos', 'Cáceres', 'Cádiz', 'Castellón',\n",
       "       'Ciudad Real', 'Córdoba', 'A Coruña', 'Cuenca', 'Girona',\n",
       "       'Granada', 'Guadalajara', 'Guipúzcoa', 'Huelva', 'Huesca', 'Jaén',\n",
       "       'León', 'Lleida', 'La Rioja', 'Lugo', 'Madrid', 'Málaga', 'Murcia',\n",
       "       'Navarra', 'Ourense', 'Asturias', 'Palencia', 'Las Palmas',\n",
       "       'Pontevedra', 'Salamanca', 'Santa Cruz de Tenerife', 'Cantabria',\n",
       "       'Segovia', 'Sevilla', 'Soria', 'Tarragona', 'Teruel', 'Toledo',\n",
       "       'Valencia', 'Valladolid', 'Vizcaya', 'Zamora', 'Zaragoza', 'Ceuta',\n",
       "       'Melilla'], dtype=object)"
      ]
     },
     "execution_count": 32,
     "metadata": {},
     "output_type": "execute_result"
    }
   ],
   "source": [
    "luz.Provincia.unique()"
   ]
  },
  {
   "cell_type": "code",
   "execution_count": 33,
   "id": "bc844ddf",
   "metadata": {},
   "outputs": [],
   "source": [
    "luz['cod'] = luz.Provincia.map(prov_cod)"
   ]
  },
  {
   "cell_type": "code",
   "execution_count": 34,
   "id": "b78e7677",
   "metadata": {},
   "outputs": [
    {
     "data": {
      "text/html": [
       "<div>\n",
       "<style scoped>\n",
       "    .dataframe tbody tr th:only-of-type {\n",
       "        vertical-align: middle;\n",
       "    }\n",
       "\n",
       "    .dataframe tbody tr th {\n",
       "        vertical-align: top;\n",
       "    }\n",
       "\n",
       "    .dataframe thead th {\n",
       "        text-align: right;\n",
       "    }\n",
       "</style>\n",
       "<table border=\"1\" class=\"dataframe\">\n",
       "  <thead>\n",
       "    <tr style=\"text-align: right;\">\n",
       "      <th></th>\n",
       "      <th>mes</th>\n",
       "      <th>Provincia</th>\n",
       "      <th>horas</th>\n",
       "      <th>cod</th>\n",
       "    </tr>\n",
       "  </thead>\n",
       "  <tbody>\n",
       "    <tr>\n",
       "      <th>574</th>\n",
       "      <td>Diciembre</td>\n",
       "      <td>Alicante</td>\n",
       "      <td>9.55</td>\n",
       "      <td>03</td>\n",
       "    </tr>\n",
       "    <tr>\n",
       "      <th>217</th>\n",
       "      <td>Mayo</td>\n",
       "      <td>Cáceres</td>\n",
       "      <td>14.35</td>\n",
       "      <td>10</td>\n",
       "    </tr>\n",
       "    <tr>\n",
       "      <th>179</th>\n",
       "      <td>Abril</td>\n",
       "      <td>León</td>\n",
       "      <td>13.38</td>\n",
       "      <td>24</td>\n",
       "    </tr>\n",
       "  </tbody>\n",
       "</table>\n",
       "</div>"
      ],
      "text/plain": [
       "           mes Provincia  horas cod\n",
       "574  Diciembre  Alicante   9.55  03\n",
       "217       Mayo   Cáceres  14.35  10\n",
       "179      Abril      León  13.38  24"
      ]
     },
     "execution_count": 34,
     "metadata": {},
     "output_type": "execute_result"
    }
   ],
   "source": [
    "luz.sample(3)"
   ]
  },
  {
   "cell_type": "code",
   "execution_count": 35,
   "id": "6021333c",
   "metadata": {},
   "outputs": [],
   "source": [
    "luz.to_csv('../data/luzmesespr.csv',index=False)"
   ]
  },
  {
   "cell_type": "markdown",
   "id": "33bd6a06",
   "metadata": {},
   "source": [
    "# Provincias"
   ]
  },
  {
   "cell_type": "code",
   "execution_count": 36,
   "id": "d0f7150c",
   "metadata": {},
   "outputs": [],
   "source": [
    "geo_json = r\"../data/socioecon/spain_provinces.geojson\"\n",
    "with open (geo_json) as geo_file:\n",
    "    provincias = json.load(geo_file)"
   ]
  },
  {
   "cell_type": "code",
   "execution_count": 37,
   "id": "58325cec",
   "metadata": {},
   "outputs": [],
   "source": [
    "cod_prov = {}\n",
    "for i in range(52):    \n",
    "    cod_prov[provincias['features'][i]['properties']['cod_prov']] = provincias['features'][i]['properties']['name']"
   ]
  },
  {
   "cell_type": "code",
   "execution_count": 38,
   "id": "8a649338",
   "metadata": {},
   "outputs": [],
   "source": [
    "provincias_cod = pd.DataFrame([[key, cod_prov[key]] for key in cod_prov.keys()], columns=['Cod', 'Provincia'])"
   ]
  },
  {
   "cell_type": "code",
   "execution_count": 39,
   "id": "3461ce62",
   "metadata": {},
   "outputs": [],
   "source": [
    "provincias_cod.to_csv('../data/codigos_provincia.csv',index=False)"
   ]
  }
 ],
 "metadata": {
  "kernelspec": {
   "display_name": "ironhack",
   "language": "python",
   "name": "ironhack"
  },
  "language_info": {
   "codemirror_mode": {
    "name": "ipython",
    "version": 3
   },
   "file_extension": ".py",
   "mimetype": "text/x-python",
   "name": "python",
   "nbconvert_exporter": "python",
   "pygments_lexer": "ipython3",
   "version": "3.8.5"
  }
 },
 "nbformat": 4,
 "nbformat_minor": 5
}
