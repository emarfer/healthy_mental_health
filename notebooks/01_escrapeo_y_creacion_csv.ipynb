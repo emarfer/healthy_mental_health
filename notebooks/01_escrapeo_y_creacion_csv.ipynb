{
 "cells": [
  {
   "cell_type": "code",
   "execution_count": 3,
   "metadata": {},
   "outputs": [],
   "source": [
    "import pandas as pd\n",
    "import requests\n",
    "from bs4 import BeautifulSoup\n",
    "import sys\n",
    "sys.path.append('../src')\n",
    "import escrapeos as esc\n",
    "import json\n"
   ]
  },
  {
   "cell_type": "markdown",
   "metadata": {},
   "source": [
    "# Escrapeo Nombre trastronos CIE-10"
   ]
  },
  {
   "cell_type": "markdown",
   "metadata": {},
   "source": [
    "[wiki](https://es.wikipedia.org/wiki/Anexo:CIE-10_Cap%C3%ADtulo_V:_Trastornos_mentales_y_del_comportamiento)"
   ]
  },
  {
   "cell_type": "code",
   "execution_count": 2,
   "metadata": {},
   "outputs": [],
   "source": [
    "url = \"https://es.wikipedia.org/wiki/Anexo:CIE-10_Cap%C3%ADtulo_V:_Trastornos_mentales_y_del_comportamiento\"\n",
    "elemento = 'h2'\n",
    "# html = requests.get(url)\n",
    "# soup = BeautifulSoup(html.content,\"html.parser\")"
   ]
  },
  {
   "cell_type": "code",
   "execution_count": 3,
   "metadata": {},
   "outputs": [],
   "source": [
    "capitulo = esc.capitulos(url,elemento)"
   ]
  },
  {
   "cell_type": "code",
   "execution_count": 4,
   "metadata": {},
   "outputs": [
    {
     "data": {
      "text/html": [
       "<div>\n",
       "<style scoped>\n",
       "    .dataframe tbody tr th:only-of-type {\n",
       "        vertical-align: middle;\n",
       "    }\n",
       "\n",
       "    .dataframe tbody tr th {\n",
       "        vertical-align: top;\n",
       "    }\n",
       "\n",
       "    .dataframe thead th {\n",
       "        text-align: right;\n",
       "    }\n",
       "</style>\n",
       "<table border=\"1\" class=\"dataframe\">\n",
       "  <thead>\n",
       "    <tr style=\"text-align: right;\">\n",
       "      <th></th>\n",
       "      <th>cap</th>\n",
       "      <th>title</th>\n",
       "    </tr>\n",
       "  </thead>\n",
       "  <tbody>\n",
       "    <tr>\n",
       "      <th>6</th>\n",
       "      <td>F60-69</td>\n",
       "      <td>Trastornos de la personalidad y del comportami...</td>\n",
       "    </tr>\n",
       "    <tr>\n",
       "      <th>4</th>\n",
       "      <td>F40-49</td>\n",
       "      <td>Trastornos neuróticos, trastornos relacionados...</td>\n",
       "    </tr>\n",
       "    <tr>\n",
       "      <th>2</th>\n",
       "      <td>F20-29</td>\n",
       "      <td>Esquizofrenia, trastornos esquizotípicos y tra...</td>\n",
       "    </tr>\n",
       "  </tbody>\n",
       "</table>\n",
       "</div>"
      ],
      "text/plain": [
       "      cap                                              title\n",
       "6  F60-69  Trastornos de la personalidad y del comportami...\n",
       "4  F40-49  Trastornos neuróticos, trastornos relacionados...\n",
       "2  F20-29  Esquizofrenia, trastornos esquizotípicos y tra..."
      ]
     },
     "execution_count": 4,
     "metadata": {},
     "output_type": "execute_result"
    }
   ],
   "source": [
    "capitulo.sample(3)"
   ]
  },
  {
   "cell_type": "code",
   "execution_count": 5,
   "metadata": {},
   "outputs": [],
   "source": [
    "elementodos = 'li'"
   ]
  },
  {
   "cell_type": "code",
   "execution_count": 12,
   "metadata": {},
   "outputs": [],
   "source": [
    "diagnostic = esc.diagnostics(url,elementodos)"
   ]
  },
  {
   "cell_type": "code",
   "execution_count": 13,
   "metadata": {},
   "outputs": [
    {
     "data": {
      "text/html": [
       "<div>\n",
       "<style scoped>\n",
       "    .dataframe tbody tr th:only-of-type {\n",
       "        vertical-align: middle;\n",
       "    }\n",
       "\n",
       "    .dataframe tbody tr th {\n",
       "        vertical-align: top;\n",
       "    }\n",
       "\n",
       "    .dataframe thead th {\n",
       "        text-align: right;\n",
       "    }\n",
       "</style>\n",
       "<table border=\"1\" class=\"dataframe\">\n",
       "  <thead>\n",
       "    <tr style=\"text-align: right;\">\n",
       "      <th></th>\n",
       "      <th>code</th>\n",
       "      <th>diag</th>\n",
       "    </tr>\n",
       "  </thead>\n",
       "  <tbody>\n",
       "    <tr>\n",
       "      <th>118</th>\n",
       "      <td>F32.0</td>\n",
       "      <td>Trastorno depresivo mayor, episodio único, leve</td>\n",
       "    </tr>\n",
       "    <tr>\n",
       "      <th>187</th>\n",
       "      <td>(F60.1)</td>\n",
       "      <td>Trastorno esquizoide de la personalidad</td>\n",
       "    </tr>\n",
       "    <tr>\n",
       "      <th>36</th>\n",
       "      <td>(F13)</td>\n",
       "      <td>Trastornos mentales y de comportamiento debido...</td>\n",
       "    </tr>\n",
       "  </tbody>\n",
       "</table>\n",
       "</div>"
      ],
      "text/plain": [
       "        code                                               diag\n",
       "118    F32.0    Trastorno depresivo mayor, episodio único, leve\n",
       "187  (F60.1)            Trastorno esquizoide de la personalidad\n",
       "36     (F13)  Trastornos mentales y de comportamiento debido..."
      ]
     },
     "execution_count": 13,
     "metadata": {},
     "output_type": "execute_result"
    }
   ],
   "source": [
    "diagnostic.sample(3)"
   ]
  },
  {
   "cell_type": "markdown",
   "metadata": {},
   "source": [
    "### limpieaza dataframe diag"
   ]
  },
  {
   "cell_type": "code",
   "execution_count": 14,
   "metadata": {},
   "outputs": [],
   "source": [
    "sin_p = {r\"[(]\":\"\",r\"[)]\":\"\"}#quitamos los paréntesis \n",
    "diagnostic.code = diagnostic.code.replace(sin_p,regex=True) "
   ]
  },
  {
   "cell_type": "code",
   "execution_count": 15,
   "metadata": {},
   "outputs": [
    {
     "data": {
      "text/html": [
       "<div>\n",
       "<style scoped>\n",
       "    .dataframe tbody tr th:only-of-type {\n",
       "        vertical-align: middle;\n",
       "    }\n",
       "\n",
       "    .dataframe tbody tr th {\n",
       "        vertical-align: top;\n",
       "    }\n",
       "\n",
       "    .dataframe thead th {\n",
       "        text-align: right;\n",
       "    }\n",
       "</style>\n",
       "<table border=\"1\" class=\"dataframe\">\n",
       "  <thead>\n",
       "    <tr style=\"text-align: right;\">\n",
       "      <th></th>\n",
       "      <th>code</th>\n",
       "      <th>diag</th>\n",
       "    </tr>\n",
       "  </thead>\n",
       "  <tbody>\n",
       "    <tr>\n",
       "      <th>116</th>\n",
       "      <td>F31.9</td>\n",
       "      <td>Trastorno bipolar, no especificado</td>\n",
       "    </tr>\n",
       "    <tr>\n",
       "      <th>1</th>\n",
       "      <td>F01</td>\n",
       "      <td>Demencia vascular\\n(F01.1) Demencia multi-infa...</td>\n",
       "    </tr>\n",
       "    <tr>\n",
       "      <th>82</th>\n",
       "      <td>F30.9</td>\n",
       "      <td>Episodio maníaco, no especificado</td>\n",
       "    </tr>\n",
       "  </tbody>\n",
       "</table>\n",
       "</div>"
      ],
      "text/plain": [
       "      code                                               diag\n",
       "116  F31.9                 Trastorno bipolar, no especificado\n",
       "1      F01  Demencia vascular\\n(F01.1) Demencia multi-infa...\n",
       "82   F30.9                  Episodio maníaco, no especificado"
      ]
     },
     "execution_count": 15,
     "metadata": {},
     "output_type": "execute_result"
    }
   ],
   "source": [
    "diagnostic.sample(3)"
   ]
  },
  {
   "cell_type": "code",
   "execution_count": 16,
   "metadata": {},
   "outputs": [
    {
     "data": {
      "text/plain": [
       "76"
      ]
     },
     "execution_count": 16,
     "metadata": {},
     "output_type": "execute_result"
    }
   ],
   "source": [
    "#nos quedamos solo con los subcodigos que sean principales (F00-F99)\n",
    "diagnostic = diagnostic[diagnostic[\"code\"].str.match(r\"(^F..$)\")]\n",
    "len(diag)"
   ]
  },
  {
   "cell_type": "code",
   "execution_count": 17,
   "metadata": {},
   "outputs": [],
   "source": [
    "for i,r in diagnostic.iterrows():\n",
    "    if \"\\n\" in r.diag:\n",
    "        r.diag = r.diag.split(\"\\n\")[0]"
   ]
  },
  {
   "cell_type": "code",
   "execution_count": 21,
   "metadata": {
    "scrolled": true
   },
   "outputs": [
    {
     "data": {
      "text/html": [
       "<div>\n",
       "<style scoped>\n",
       "    .dataframe tbody tr th:only-of-type {\n",
       "        vertical-align: middle;\n",
       "    }\n",
       "\n",
       "    .dataframe tbody tr th {\n",
       "        vertical-align: top;\n",
       "    }\n",
       "\n",
       "    .dataframe thead th {\n",
       "        text-align: right;\n",
       "    }\n",
       "</style>\n",
       "<table border=\"1\" class=\"dataframe\">\n",
       "  <thead>\n",
       "    <tr style=\"text-align: right;\">\n",
       "      <th></th>\n",
       "      <th>code</th>\n",
       "      <th>diag</th>\n",
       "    </tr>\n",
       "  </thead>\n",
       "  <tbody>\n",
       "    <tr>\n",
       "      <th>154</th>\n",
       "      <td>F44</td>\n",
       "      <td>Trastorno de conversión disociativo</td>\n",
       "    </tr>\n",
       "    <tr>\n",
       "      <th>3</th>\n",
       "      <td>F02</td>\n",
       "      <td>Demencia en otras enfermedades clasificadas</td>\n",
       "    </tr>\n",
       "    <tr>\n",
       "      <th>183</th>\n",
       "      <td>F55</td>\n",
       "      <td>Abuso de sustancias que no producen dependencia</td>\n",
       "    </tr>\n",
       "  </tbody>\n",
       "</table>\n",
       "</div>"
      ],
      "text/plain": [
       "    code                                             diag\n",
       "154  F44              Trastorno de conversión disociativo\n",
       "3    F02      Demencia en otras enfermedades clasificadas\n",
       "183  F55  Abuso de sustancias que no producen dependencia"
      ]
     },
     "execution_count": 21,
     "metadata": {},
     "output_type": "execute_result"
    }
   ],
   "source": [
    "diagnostic.sample(3)"
   ]
  },
  {
   "cell_type": "code",
   "execution_count": null,
   "metadata": {},
   "outputs": [],
   "source": [
    "#añadimos el capítulo correpondiente a cada diagnóstico de diagnostic"
   ]
  },
  {
   "cell_type": "code",
   "execution_count": 59,
   "metadata": {},
   "outputs": [],
   "source": [
    "correspond = {'F00-F09': [\"F00\",\"F01\",\"F02\",\"F03\",\"F04\",\"F05\",\"F06\",\"F07\",\"F08\",\"F09\"],\n",
    "'F10-F19': [\"F10\",\"F11\",\"F12\",\"F13\",\"F14\",\"F15\",\"F16\",\"F17\",\"F18\",\"F19\"],\n",
    "'F20-29' : [\"F20\",\"F21\",\"F22\",\"F23\",\"F24\",\"F25\",\"F26\",\"F27\",\"F28\",\"F29\"],\n",
    "'F30-39' : [\"F30\",\"F31\",\"F32\",\"F33\",\"F34\",\"F35\",\"F36\",\"F37\",\"F38\",\"F39\"],\n",
    "'F40-49': [\"F40\",\"F41\",\"F42\",\"F43\",\"F44\",\"F45\",\"F46\",\"F47\",\"F48\",\"F49\"],\n",
    "'F50-59': [\"F50\",\"F51\",\"F52\",\"F53\",\"F54\",\"F55\",\"F56\",\"F57\",\"F58\",\"F59\"],\n",
    "'F60-69': [\"F60\",\"F61\",\"F62\",\"F63\",\"F64\",\"F65\",\"F66\",\"F67\",\"F68\",\"F69\"],\n",
    "'F70-79':[\"F70\",\"F71\",\"F72\",\"F73\",\"F74\",\"F75\",\"F76\",\"F77\",\"F78\",\"F79\"],\n",
    "'F80-89' : [\"F80\",\"F81\",\"F82\",\"F83\",\"F84\",\"F85\",\"F86\",\"F87\",\"F88\",\"F89\"],\n",
    "'F90-F98':[\"F90\",\"F91\",\"F92\",\"F93\",\"F94\",\"F95\",\"F96\",\"F97\",\"F98\"],\n",
    "'F99':[\"F99\"]}"
   ]
  },
  {
   "cell_type": "code",
   "execution_count": 62,
   "metadata": {},
   "outputs": [],
   "source": [
    "dicc_corr = {}\n",
    "for key,value in correspond.items():\n",
    "    for i in range(len(value)):\n",
    "        dicc_corr[value[i]] = key"
   ]
  },
  {
   "cell_type": "code",
   "execution_count": 65,
   "metadata": {},
   "outputs": [],
   "source": [
    "diagnostic['cap']=diagnostic.code.map(dicc_corr)"
   ]
  },
  {
   "cell_type": "code",
   "execution_count": 68,
   "metadata": {},
   "outputs": [],
   "source": [
    "diagnostic = diagnostic.merge(capitulo, how='right')"
   ]
  },
  {
   "cell_type": "code",
   "execution_count": 69,
   "metadata": {},
   "outputs": [
    {
     "data": {
      "text/html": [
       "<div>\n",
       "<style scoped>\n",
       "    .dataframe tbody tr th:only-of-type {\n",
       "        vertical-align: middle;\n",
       "    }\n",
       "\n",
       "    .dataframe tbody tr th {\n",
       "        vertical-align: top;\n",
       "    }\n",
       "\n",
       "    .dataframe thead th {\n",
       "        text-align: right;\n",
       "    }\n",
       "</style>\n",
       "<table border=\"1\" class=\"dataframe\">\n",
       "  <thead>\n",
       "    <tr style=\"text-align: right;\">\n",
       "      <th></th>\n",
       "      <th>code</th>\n",
       "      <th>diag</th>\n",
       "      <th>cap</th>\n",
       "      <th>title</th>\n",
       "    </tr>\n",
       "  </thead>\n",
       "  <tbody>\n",
       "    <tr>\n",
       "      <th>7</th>\n",
       "      <td>F07</td>\n",
       "      <td>Trastornos de personalidad y comportamiento de...</td>\n",
       "      <td>F00-F09</td>\n",
       "      <td>Trastornos mentales orgánicos, incluidos los t...</td>\n",
       "    </tr>\n",
       "    <tr>\n",
       "      <th>6</th>\n",
       "      <td>F06</td>\n",
       "      <td>Otros trastornos mentales debidos a daños neur...</td>\n",
       "      <td>F00-F09</td>\n",
       "      <td>Trastornos mentales orgánicos, incluidos los t...</td>\n",
       "    </tr>\n",
       "    <tr>\n",
       "      <th>44</th>\n",
       "      <td>F53</td>\n",
       "      <td>Trastornos mentales y de comportamiento asocia...</td>\n",
       "      <td>F50-59</td>\n",
       "      <td>Síndromes del comportamiento asociados con alt...</td>\n",
       "    </tr>\n",
       "    <tr>\n",
       "      <th>36</th>\n",
       "      <td>F42</td>\n",
       "      <td>Trastorno obsesivo-compulsivo</td>\n",
       "      <td>F40-49</td>\n",
       "      <td>Trastornos neuróticos, trastornos relacionados...</td>\n",
       "    </tr>\n",
       "    <tr>\n",
       "      <th>51</th>\n",
       "      <td>F64</td>\n",
       "      <td>Trastornos de identidad de género</td>\n",
       "      <td>F60-69</td>\n",
       "      <td>Trastornos de la personalidad y del comportami...</td>\n",
       "    </tr>\n",
       "    <tr>\n",
       "      <th>72</th>\n",
       "      <td>F94</td>\n",
       "      <td>Trastornos de funciones sociales específicos d...</td>\n",
       "      <td>F90-F98</td>\n",
       "      <td>Trastornos emocionales y del comportamiento qu...</td>\n",
       "    </tr>\n",
       "    <tr>\n",
       "      <th>27</th>\n",
       "      <td>F29</td>\n",
       "      <td>Psicosis no orgánica sin especificar</td>\n",
       "      <td>F20-29</td>\n",
       "      <td>Esquizofrenia, trastornos esquizotípicos y tra...</td>\n",
       "    </tr>\n",
       "    <tr>\n",
       "      <th>62</th>\n",
       "      <td>F81</td>\n",
       "      <td>Trastornos de desarrollo específicos de habili...</td>\n",
       "      <td>F80-89</td>\n",
       "      <td>Trastornos del desarrollo psicológico</td>\n",
       "    </tr>\n",
       "    <tr>\n",
       "      <th>12</th>\n",
       "      <td>F12</td>\n",
       "      <td>Trastornos mentales y de comportamiento debido...</td>\n",
       "      <td>F10-F19</td>\n",
       "      <td>Trastornos mentales y de comportamiento debido...</td>\n",
       "    </tr>\n",
       "    <tr>\n",
       "      <th>48</th>\n",
       "      <td>F60</td>\n",
       "      <td>Trastorno de personalidad específico</td>\n",
       "      <td>F60-69</td>\n",
       "      <td>Trastornos de la personalidad y del comportami...</td>\n",
       "    </tr>\n",
       "  </tbody>\n",
       "</table>\n",
       "</div>"
      ],
      "text/plain": [
       "   code                                               diag      cap  \\\n",
       "7   F07  Trastornos de personalidad y comportamiento de...  F00-F09   \n",
       "6   F06  Otros trastornos mentales debidos a daños neur...  F00-F09   \n",
       "44  F53  Trastornos mentales y de comportamiento asocia...   F50-59   \n",
       "36  F42                      Trastorno obsesivo-compulsivo   F40-49   \n",
       "51  F64                  Trastornos de identidad de género   F60-69   \n",
       "72  F94  Trastornos de funciones sociales específicos d...  F90-F98   \n",
       "27  F29               Psicosis no orgánica sin especificar   F20-29   \n",
       "62  F81  Trastornos de desarrollo específicos de habili...   F80-89   \n",
       "12  F12  Trastornos mentales y de comportamiento debido...  F10-F19   \n",
       "48  F60               Trastorno de personalidad específico   F60-69   \n",
       "\n",
       "                                                title  \n",
       "7   Trastornos mentales orgánicos, incluidos los t...  \n",
       "6   Trastornos mentales orgánicos, incluidos los t...  \n",
       "44  Síndromes del comportamiento asociados con alt...  \n",
       "36  Trastornos neuróticos, trastornos relacionados...  \n",
       "51  Trastornos de la personalidad y del comportami...  \n",
       "72  Trastornos emocionales y del comportamiento qu...  \n",
       "27  Esquizofrenia, trastornos esquizotípicos y tra...  \n",
       "62              Trastornos del desarrollo psicológico  \n",
       "12  Trastornos mentales y de comportamiento debido...  \n",
       "48  Trastornos de la personalidad y del comportami...  "
      ]
     },
     "execution_count": 69,
     "metadata": {},
     "output_type": "execute_result"
    }
   ],
   "source": [
    "diagnostic.sample(10)"
   ]
  },
  {
   "cell_type": "code",
   "execution_count": 70,
   "metadata": {},
   "outputs": [],
   "source": [
    "diagnostic.to_csv(\"../data/diagnos.csv\", index=False)"
   ]
  },
  {
   "cell_type": "markdown",
   "metadata": {},
   "source": [
    "#  Fases lunares"
   ]
  },
  {
   "cell_type": "code",
   "execution_count": 4,
   "metadata": {},
   "outputs": [],
   "source": [
    "url = 'https://calendarios.ideal.es/calendario-lunar/fases-lunares/'"
   ]
  },
  {
   "cell_type": "code",
   "execution_count": 5,
   "metadata": {},
   "outputs": [
    {
     "name": "stderr",
     "output_type": "stream",
     "text": [
      "/home/sinatxe/anaconda3/envs/ironhack/lib/python3.8/site-packages/urllib3/connectionpool.py:1013: InsecureRequestWarning: Unverified HTTPS request is being made to host 'calendarios.ideal.es'. Adding certificate verification is strongly advised. See: https://urllib3.readthedocs.io/en/1.26.x/advanced-usage.html#ssl-warnings\n",
      "  warnings.warn(\n",
      "/home/sinatxe/anaconda3/envs/ironhack/lib/python3.8/site-packages/urllib3/connectionpool.py:1013: InsecureRequestWarning: Unverified HTTPS request is being made to host 'calendarios.ideal.es'. Adding certificate verification is strongly advised. See: https://urllib3.readthedocs.io/en/1.26.x/advanced-usage.html#ssl-warnings\n",
      "  warnings.warn(\n",
      "/home/sinatxe/anaconda3/envs/ironhack/lib/python3.8/site-packages/urllib3/connectionpool.py:1013: InsecureRequestWarning: Unverified HTTPS request is being made to host 'calendarios.ideal.es'. Adding certificate verification is strongly advised. See: https://urllib3.readthedocs.io/en/1.26.x/advanced-usage.html#ssl-warnings\n",
      "  warnings.warn(\n",
      "/home/sinatxe/anaconda3/envs/ironhack/lib/python3.8/site-packages/urllib3/connectionpool.py:1013: InsecureRequestWarning: Unverified HTTPS request is being made to host 'calendarios.ideal.es'. Adding certificate verification is strongly advised. See: https://urllib3.readthedocs.io/en/1.26.x/advanced-usage.html#ssl-warnings\n",
      "  warnings.warn(\n",
      "/home/sinatxe/anaconda3/envs/ironhack/lib/python3.8/site-packages/urllib3/connectionpool.py:1013: InsecureRequestWarning: Unverified HTTPS request is being made to host 'calendarios.ideal.es'. Adding certificate verification is strongly advised. See: https://urllib3.readthedocs.io/en/1.26.x/advanced-usage.html#ssl-warnings\n",
      "  warnings.warn(\n",
      "/home/sinatxe/anaconda3/envs/ironhack/lib/python3.8/site-packages/urllib3/connectionpool.py:1013: InsecureRequestWarning: Unverified HTTPS request is being made to host 'calendarios.ideal.es'. Adding certificate verification is strongly advised. See: https://urllib3.readthedocs.io/en/1.26.x/advanced-usage.html#ssl-warnings\n",
      "  warnings.warn(\n",
      "/home/sinatxe/anaconda3/envs/ironhack/lib/python3.8/site-packages/urllib3/connectionpool.py:1013: InsecureRequestWarning: Unverified HTTPS request is being made to host 'calendarios.ideal.es'. Adding certificate verification is strongly advised. See: https://urllib3.readthedocs.io/en/1.26.x/advanced-usage.html#ssl-warnings\n",
      "  warnings.warn(\n",
      "/home/sinatxe/anaconda3/envs/ironhack/lib/python3.8/site-packages/urllib3/connectionpool.py:1013: InsecureRequestWarning: Unverified HTTPS request is being made to host 'calendarios.ideal.es'. Adding certificate verification is strongly advised. See: https://urllib3.readthedocs.io/en/1.26.x/advanced-usage.html#ssl-warnings\n",
      "  warnings.warn(\n",
      "/home/sinatxe/anaconda3/envs/ironhack/lib/python3.8/site-packages/urllib3/connectionpool.py:1013: InsecureRequestWarning: Unverified HTTPS request is being made to host 'calendarios.ideal.es'. Adding certificate verification is strongly advised. See: https://urllib3.readthedocs.io/en/1.26.x/advanced-usage.html#ssl-warnings\n",
      "  warnings.warn(\n",
      "/home/sinatxe/anaconda3/envs/ironhack/lib/python3.8/site-packages/urllib3/connectionpool.py:1013: InsecureRequestWarning: Unverified HTTPS request is being made to host 'calendarios.ideal.es'. Adding certificate verification is strongly advised. See: https://urllib3.readthedocs.io/en/1.26.x/advanced-usage.html#ssl-warnings\n",
      "  warnings.warn(\n",
      "/home/sinatxe/anaconda3/envs/ironhack/lib/python3.8/site-packages/urllib3/connectionpool.py:1013: InsecureRequestWarning: Unverified HTTPS request is being made to host 'calendarios.ideal.es'. Adding certificate verification is strongly advised. See: https://urllib3.readthedocs.io/en/1.26.x/advanced-usage.html#ssl-warnings\n",
      "  warnings.warn(\n",
      "/home/sinatxe/anaconda3/envs/ironhack/lib/python3.8/site-packages/urllib3/connectionpool.py:1013: InsecureRequestWarning: Unverified HTTPS request is being made to host 'calendarios.ideal.es'. Adding certificate verification is strongly advised. See: https://urllib3.readthedocs.io/en/1.26.x/advanced-usage.html#ssl-warnings\n",
      "  warnings.warn(\n",
      "/home/sinatxe/anaconda3/envs/ironhack/lib/python3.8/site-packages/urllib3/connectionpool.py:1013: InsecureRequestWarning: Unverified HTTPS request is being made to host 'calendarios.ideal.es'. Adding certificate verification is strongly advised. See: https://urllib3.readthedocs.io/en/1.26.x/advanced-usage.html#ssl-warnings\n",
      "  warnings.warn(\n",
      "/home/sinatxe/anaconda3/envs/ironhack/lib/python3.8/site-packages/urllib3/connectionpool.py:1013: InsecureRequestWarning: Unverified HTTPS request is being made to host 'calendarios.ideal.es'. Adding certificate verification is strongly advised. See: https://urllib3.readthedocs.io/en/1.26.x/advanced-usage.html#ssl-warnings\n",
      "  warnings.warn(\n",
      "/home/sinatxe/anaconda3/envs/ironhack/lib/python3.8/site-packages/urllib3/connectionpool.py:1013: InsecureRequestWarning: Unverified HTTPS request is being made to host 'calendarios.ideal.es'. Adding certificate verification is strongly advised. See: https://urllib3.readthedocs.io/en/1.26.x/advanced-usage.html#ssl-warnings\n",
      "  warnings.warn(\n",
      "/home/sinatxe/anaconda3/envs/ironhack/lib/python3.8/site-packages/urllib3/connectionpool.py:1013: InsecureRequestWarning: Unverified HTTPS request is being made to host 'calendarios.ideal.es'. Adding certificate verification is strongly advised. See: https://urllib3.readthedocs.io/en/1.26.x/advanced-usage.html#ssl-warnings\n",
      "  warnings.warn(\n",
      "/home/sinatxe/anaconda3/envs/ironhack/lib/python3.8/site-packages/urllib3/connectionpool.py:1013: InsecureRequestWarning: Unverified HTTPS request is being made to host 'calendarios.ideal.es'. Adding certificate verification is strongly advised. See: https://urllib3.readthedocs.io/en/1.26.x/advanced-usage.html#ssl-warnings\n",
      "  warnings.warn(\n",
      "/home/sinatxe/anaconda3/envs/ironhack/lib/python3.8/site-packages/urllib3/connectionpool.py:1013: InsecureRequestWarning: Unverified HTTPS request is being made to host 'calendarios.ideal.es'. Adding certificate verification is strongly advised. See: https://urllib3.readthedocs.io/en/1.26.x/advanced-usage.html#ssl-warnings\n",
      "  warnings.warn(\n",
      "/home/sinatxe/anaconda3/envs/ironhack/lib/python3.8/site-packages/urllib3/connectionpool.py:1013: InsecureRequestWarning: Unverified HTTPS request is being made to host 'calendarios.ideal.es'. Adding certificate verification is strongly advised. See: https://urllib3.readthedocs.io/en/1.26.x/advanced-usage.html#ssl-warnings\n",
      "  warnings.warn(\n",
      "/home/sinatxe/anaconda3/envs/ironhack/lib/python3.8/site-packages/urllib3/connectionpool.py:1013: InsecureRequestWarning: Unverified HTTPS request is being made to host 'calendarios.ideal.es'. Adding certificate verification is strongly advised. See: https://urllib3.readthedocs.io/en/1.26.x/advanced-usage.html#ssl-warnings\n",
      "  warnings.warn(\n",
      "/home/sinatxe/anaconda3/envs/ironhack/lib/python3.8/site-packages/urllib3/connectionpool.py:1013: InsecureRequestWarning: Unverified HTTPS request is being made to host 'calendarios.ideal.es'. Adding certificate verification is strongly advised. See: https://urllib3.readthedocs.io/en/1.26.x/advanced-usage.html#ssl-warnings\n",
      "  warnings.warn(\n"
     ]
    }
   ],
   "source": [
    "lunas = esc.calendariolunar(url,2000,2021)"
   ]
  },
  {
   "cell_type": "code",
   "execution_count": 6,
   "metadata": {},
   "outputs": [],
   "source": [
    "lunas.to_csv('../data/cal_lunar.csv')"
   ]
  },
  {
   "cell_type": "markdown",
   "metadata": {},
   "source": [
    "# Horas de luz"
   ]
  },
  {
   "cell_type": "markdown",
   "metadata": {},
   "source": [
    "[web](https://www.epdata.es/horas-luz-provincias-2019/6841c77e-e946-420e-a0c4-cff4de1154f3#)"
   ]
  },
  {
   "cell_type": "code",
   "execution_count": 7,
   "metadata": {},
   "outputs": [],
   "source": [
    "luz = pd.read_csv('../data/ambientales/horas_de_luz_por_provincias.csv',sep=';')\n",
    "luz = luz[0:624].drop('Año',axis=1).rename({'Periodo':'mes','Parámetro':'Provincia','Salida y puesta del sol':'horas'},axis=1)\n",
    "luz.horas = luz.horas.str.replace(',','.').astype('float')"
   ]
  },
  {
   "cell_type": "code",
   "execution_count": 8,
   "metadata": {},
   "outputs": [
    {
     "data": {
      "text/html": [
       "<div>\n",
       "<style scoped>\n",
       "    .dataframe tbody tr th:only-of-type {\n",
       "        vertical-align: middle;\n",
       "    }\n",
       "\n",
       "    .dataframe tbody tr th {\n",
       "        vertical-align: top;\n",
       "    }\n",
       "\n",
       "    .dataframe thead th {\n",
       "        text-align: right;\n",
       "    }\n",
       "</style>\n",
       "<table border=\"1\" class=\"dataframe\">\n",
       "  <thead>\n",
       "    <tr style=\"text-align: right;\">\n",
       "      <th></th>\n",
       "      <th>mes</th>\n",
       "      <th>Provincia</th>\n",
       "      <th>horas</th>\n",
       "    </tr>\n",
       "  </thead>\n",
       "  <tbody>\n",
       "    <tr>\n",
       "      <th>45</th>\n",
       "      <td>Enero</td>\n",
       "      <td>Valencia</td>\n",
       "      <td>9.75</td>\n",
       "    </tr>\n",
       "    <tr>\n",
       "      <th>497</th>\n",
       "      <td>Octubre</td>\n",
       "      <td>Murcia</td>\n",
       "      <td>11.21</td>\n",
       "    </tr>\n",
       "    <tr>\n",
       "      <th>15</th>\n",
       "      <td>Enero</td>\n",
       "      <td>Cuenca</td>\n",
       "      <td>9.69</td>\n",
       "    </tr>\n",
       "  </tbody>\n",
       "</table>\n",
       "</div>"
      ],
      "text/plain": [
       "         mes Provincia  horas\n",
       "45     Enero  Valencia   9.75\n",
       "497  Octubre    Murcia  11.21\n",
       "15     Enero    Cuenca   9.69"
      ]
     },
     "execution_count": 8,
     "metadata": {},
     "output_type": "execute_result"
    }
   ],
   "source": [
    "luz.sample(3)"
   ]
  },
  {
   "cell_type": "code",
   "execution_count": 9,
   "metadata": {},
   "outputs": [],
   "source": [
    "luz.to_csv('../data/luzmesespr.csv',index=False)"
   ]
  },
  {
   "cell_type": "markdown",
   "metadata": {},
   "source": [
    "# Provincias"
   ]
  },
  {
   "cell_type": "code",
   "execution_count": 4,
   "metadata": {},
   "outputs": [],
   "source": [
    "geo_json = r\"../data/socioecon/spain_provinces.geojson\"\n",
    "with open (geo_json) as geo_file:\n",
    "    provincias = json.load(geo_file)"
   ]
  },
  {
   "cell_type": "code",
   "execution_count": 5,
   "metadata": {},
   "outputs": [],
   "source": [
    "cod_prov = {}\n",
    "for i in range(52):    \n",
    "    cod_prov[provincias['features'][i]['properties']['cod_prov']] = provincias['features'][i]['properties']['name']"
   ]
  },
  {
   "cell_type": "code",
   "execution_count": 7,
   "metadata": {},
   "outputs": [],
   "source": [
    "provincias_cod = pd.DataFrame([[key, cod_prov[key]] for key in cod_prov.keys()], columns=['Cod', 'Provincia'])"
   ]
  },
  {
   "cell_type": "code",
   "execution_count": 9,
   "metadata": {},
   "outputs": [],
   "source": [
    "provincias_cod.to_csv('../data/codigos_provincia.csv',index=False)"
   ]
  },
  {
   "cell_type": "code",
   "execution_count": null,
   "metadata": {},
   "outputs": [],
   "source": []
  }
 ],
 "metadata": {
  "kernelspec": {
   "display_name": "ironhack",
   "language": "python",
   "name": "ironhack"
  },
  "language_info": {
   "codemirror_mode": {
    "name": "ipython",
    "version": 3
   },
   "file_extension": ".py",
   "mimetype": "text/x-python",
   "name": "python",
   "nbconvert_exporter": "python",
   "pygments_lexer": "ipython3",
   "version": "3.8.5"
  }
 },
 "nbformat": 4,
 "nbformat_minor": 5
}
