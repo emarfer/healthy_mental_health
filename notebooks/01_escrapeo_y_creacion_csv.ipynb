{
 "cells": [
  {
   "cell_type": "code",
   "execution_count": 1,
   "id": "2ed7852d",
   "metadata": {},
   "outputs": [],
   "source": [
    "import pandas as pd\n",
    "import requests\n",
    "from bs4 import BeautifulSoup\n",
    "import sys\n",
    "sys.path.append('../src')\n",
    "import escrapeos as esc\n",
    "import json\n"
   ]
  },
  {
   "cell_type": "markdown",
   "id": "0dd72194",
   "metadata": {},
   "source": [
    "# Escrapeo Nombre trastronos CIE-10"
   ]
  },
  {
   "cell_type": "markdown",
   "id": "7c0a32d1",
   "metadata": {},
   "source": [
    "[wiki](https://es.wikipedia.org/wiki/Anexo:CIE-10_Cap%C3%ADtulo_V:_Trastornos_mentales_y_del_comportamiento)"
   ]
  },
  {
   "cell_type": "code",
   "execution_count": 2,
   "id": "053a1fc7",
   "metadata": {},
   "outputs": [],
   "source": [
    "url = \"https://es.wikipedia.org/wiki/Anexo:CIE-10_Cap%C3%ADtulo_V:_Trastornos_mentales_y_del_comportamiento\"\n",
    "elemento = 'h2'\n",
    "# html = requests.get(url)\n",
    "# soup = BeautifulSoup(html.content,\"html.parser\")"
   ]
  },
  {
   "cell_type": "code",
   "execution_count": 3,
   "id": "742ad35a",
   "metadata": {},
   "outputs": [],
   "source": [
    "capitulo = esc.capitulos(url,elemento)"
   ]
  },
  {
   "cell_type": "code",
   "execution_count": 4,
   "id": "e5af8786",
   "metadata": {},
   "outputs": [
    {
     "data": {
      "text/html": [
       "<div>\n",
       "<style scoped>\n",
       "    .dataframe tbody tr th:only-of-type {\n",
       "        vertical-align: middle;\n",
       "    }\n",
       "\n",
       "    .dataframe tbody tr th {\n",
       "        vertical-align: top;\n",
       "    }\n",
       "\n",
       "    .dataframe thead th {\n",
       "        text-align: right;\n",
       "    }\n",
       "</style>\n",
       "<table border=\"1\" class=\"dataframe\">\n",
       "  <thead>\n",
       "    <tr style=\"text-align: right;\">\n",
       "      <th></th>\n",
       "      <th>cap</th>\n",
       "      <th>title</th>\n",
       "    </tr>\n",
       "  </thead>\n",
       "  <tbody>\n",
       "    <tr>\n",
       "      <th>0</th>\n",
       "      <td>F00-F09</td>\n",
       "      <td>Trastornos mentales orgánicos, incluidos los t...</td>\n",
       "    </tr>\n",
       "    <tr>\n",
       "      <th>5</th>\n",
       "      <td>F50-59</td>\n",
       "      <td>Síndromes del comportamiento asociados con alt...</td>\n",
       "    </tr>\n",
       "    <tr>\n",
       "      <th>3</th>\n",
       "      <td>F30-39</td>\n",
       "      <td>Trastornos del estado de animo, trastornos afe...</td>\n",
       "    </tr>\n",
       "  </tbody>\n",
       "</table>\n",
       "</div>"
      ],
      "text/plain": [
       "       cap                                              title\n",
       "0  F00-F09  Trastornos mentales orgánicos, incluidos los t...\n",
       "5   F50-59  Síndromes del comportamiento asociados con alt...\n",
       "3   F30-39  Trastornos del estado de animo, trastornos afe..."
      ]
     },
     "execution_count": 4,
     "metadata": {},
     "output_type": "execute_result"
    }
   ],
   "source": [
    "capitulo.sample(3)"
   ]
  },
  {
   "cell_type": "code",
   "execution_count": 5,
   "id": "3da3988e",
   "metadata": {},
   "outputs": [],
   "source": [
    "elementodos = 'li'"
   ]
  },
  {
   "cell_type": "code",
   "execution_count": 6,
   "id": "854b4efb",
   "metadata": {},
   "outputs": [],
   "source": [
    "diagnostic = esc.diagnostics(url,elementodos)"
   ]
  },
  {
   "cell_type": "code",
   "execution_count": 7,
   "id": "f9b20bd5",
   "metadata": {},
   "outputs": [
    {
     "data": {
      "text/html": [
       "<div>\n",
       "<style scoped>\n",
       "    .dataframe tbody tr th:only-of-type {\n",
       "        vertical-align: middle;\n",
       "    }\n",
       "\n",
       "    .dataframe tbody tr th {\n",
       "        vertical-align: top;\n",
       "    }\n",
       "\n",
       "    .dataframe thead th {\n",
       "        text-align: right;\n",
       "    }\n",
       "</style>\n",
       "<table border=\"1\" class=\"dataframe\">\n",
       "  <thead>\n",
       "    <tr style=\"text-align: right;\">\n",
       "      <th></th>\n",
       "      <th>code</th>\n",
       "      <th>diag</th>\n",
       "    </tr>\n",
       "  </thead>\n",
       "  <tbody>\n",
       "    <tr>\n",
       "      <th>133</th>\n",
       "      <td>F33.41</td>\n",
       "      <td>Trastorno depresivo mayor, recurrente, en remi...</td>\n",
       "    </tr>\n",
       "    <tr>\n",
       "      <th>234</th>\n",
       "      <td>(F80.1)</td>\n",
       "      <td>Trastorno expresivo del lenguaje</td>\n",
       "    </tr>\n",
       "    <tr>\n",
       "      <th>238</th>\n",
       "      <td>(F80.9)</td>\n",
       "      <td>Trastornos del desarrollo del lenguaje y el ha...</td>\n",
       "    </tr>\n",
       "  </tbody>\n",
       "</table>\n",
       "</div>"
      ],
      "text/plain": [
       "        code                                               diag\n",
       "133   F33.41  Trastorno depresivo mayor, recurrente, en remi...\n",
       "234  (F80.1)                   Trastorno expresivo del lenguaje\n",
       "238  (F80.9)  Trastornos del desarrollo del lenguaje y el ha..."
      ]
     },
     "execution_count": 7,
     "metadata": {},
     "output_type": "execute_result"
    }
   ],
   "source": [
    "diagnostic.sample(3)"
   ]
  },
  {
   "cell_type": "markdown",
   "id": "ebd30464",
   "metadata": {},
   "source": [
    "### limpieaza dataframe diag"
   ]
  },
  {
   "cell_type": "code",
   "execution_count": 8,
   "id": "71d90053",
   "metadata": {},
   "outputs": [],
   "source": [
    "sin_p = {r\"[(]\":\"\",r\"[)]\":\"\"}#quitamos los paréntesis \n",
    "diagnostic.code = diagnostic.code.replace(sin_p,regex=True) \n"
   ]
  },
  {
   "cell_type": "code",
   "execution_count": 9,
   "id": "27f07b22",
   "metadata": {},
   "outputs": [
    {
     "data": {
      "text/html": [
       "<div>\n",
       "<style scoped>\n",
       "    .dataframe tbody tr th:only-of-type {\n",
       "        vertical-align: middle;\n",
       "    }\n",
       "\n",
       "    .dataframe tbody tr th {\n",
       "        vertical-align: top;\n",
       "    }\n",
       "\n",
       "    .dataframe thead th {\n",
       "        text-align: right;\n",
       "    }\n",
       "</style>\n",
       "<table border=\"1\" class=\"dataframe\">\n",
       "  <thead>\n",
       "    <tr style=\"text-align: right;\">\n",
       "      <th></th>\n",
       "      <th>code</th>\n",
       "      <th>diag</th>\n",
       "    </tr>\n",
       "  </thead>\n",
       "  <tbody>\n",
       "    <tr>\n",
       "      <th>131</th>\n",
       "      <td>F33.4</td>\n",
       "      <td>Trastorno depresivo mayor, recurrente, en remi...</td>\n",
       "    </tr>\n",
       "    <tr>\n",
       "      <th>44</th>\n",
       "      <td>F20.0</td>\n",
       "      <td>Esquizofrenia paranoide</td>\n",
       "    </tr>\n",
       "    <tr>\n",
       "      <th>219</th>\n",
       "      <td>F66.8</td>\n",
       "      <td>Otros trastornos de la pulsión</td>\n",
       "    </tr>\n",
       "  </tbody>\n",
       "</table>\n",
       "</div>"
      ],
      "text/plain": [
       "      code                                               diag\n",
       "131  F33.4  Trastorno depresivo mayor, recurrente, en remi...\n",
       "44   F20.0                            Esquizofrenia paranoide\n",
       "219  F66.8                     Otros trastornos de la pulsión"
      ]
     },
     "execution_count": 9,
     "metadata": {},
     "output_type": "execute_result"
    }
   ],
   "source": [
    "diagnostic.sample(3)"
   ]
  },
  {
   "cell_type": "code",
   "execution_count": 10,
   "id": "17398e88",
   "metadata": {},
   "outputs": [],
   "source": [
    "falta = {'code':'F65','diag':'Trastornos de la preferencia sexual'}"
   ]
  },
  {
   "cell_type": "code",
   "execution_count": 11,
   "id": "c1f03008",
   "metadata": {},
   "outputs": [],
   "source": [
    "diagnostic = diagnostic.append(falta, ignore_index=True)"
   ]
  },
  {
   "cell_type": "code",
   "execution_count": 12,
   "id": "a081ccb8",
   "metadata": {},
   "outputs": [
    {
     "data": {
      "text/html": [
       "<div>\n",
       "<style scoped>\n",
       "    .dataframe tbody tr th:only-of-type {\n",
       "        vertical-align: middle;\n",
       "    }\n",
       "\n",
       "    .dataframe tbody tr th {\n",
       "        vertical-align: top;\n",
       "    }\n",
       "\n",
       "    .dataframe thead th {\n",
       "        text-align: right;\n",
       "    }\n",
       "</style>\n",
       "<table border=\"1\" class=\"dataframe\">\n",
       "  <thead>\n",
       "    <tr style=\"text-align: right;\">\n",
       "      <th></th>\n",
       "      <th>code</th>\n",
       "      <th>diag</th>\n",
       "    </tr>\n",
       "  </thead>\n",
       "  <tbody>\n",
       "    <tr>\n",
       "      <th>287</th>\n",
       "      <td>F98.6</td>\n",
       "      <td>Desorden lingüístico</td>\n",
       "    </tr>\n",
       "    <tr>\n",
       "      <th>288</th>\n",
       "      <td>F99</td>\n",
       "      <td>Trastorno mental no especificado en otra parte</td>\n",
       "    </tr>\n",
       "    <tr>\n",
       "      <th>289</th>\n",
       "      <td>F65</td>\n",
       "      <td>Trastornos de la preferencia sexual</td>\n",
       "    </tr>\n",
       "  </tbody>\n",
       "</table>\n",
       "</div>"
      ],
      "text/plain": [
       "      code                                            diag\n",
       "287  F98.6                            Desorden lingüístico\n",
       "288    F99  Trastorno mental no especificado en otra parte\n",
       "289    F65             Trastornos de la preferencia sexual"
      ]
     },
     "execution_count": 12,
     "metadata": {},
     "output_type": "execute_result"
    }
   ],
   "source": [
    "diagnostic.tail(3)"
   ]
  },
  {
   "cell_type": "code",
   "execution_count": 13,
   "id": "19d3cac7",
   "metadata": {},
   "outputs": [
    {
     "data": {
      "text/plain": [
       "77"
      ]
     },
     "execution_count": 13,
     "metadata": {},
     "output_type": "execute_result"
    }
   ],
   "source": [
    "#nos quedamos solo con los subcodigos que sean principales (F00-F99)\n",
    "diagnostic = diagnostic[diagnostic[\"code\"].str.match(r\"(^F..$)\")]\n",
    "len(diagnostic)"
   ]
  },
  {
   "cell_type": "code",
   "execution_count": 14,
   "id": "6bf4f8d7",
   "metadata": {},
   "outputs": [],
   "source": [
    "for i,r in diagnostic.iterrows():\n",
    "    if \"\\n\" in r.diag:\n",
    "        r.diag = r.diag.split(\"\\n\")[0]"
   ]
  },
  {
   "cell_type": "code",
   "execution_count": 15,
   "id": "5f2495f3",
   "metadata": {
    "scrolled": true
   },
   "outputs": [
    {
     "data": {
      "text/html": [
       "<div>\n",
       "<style scoped>\n",
       "    .dataframe tbody tr th:only-of-type {\n",
       "        vertical-align: middle;\n",
       "    }\n",
       "\n",
       "    .dataframe tbody tr th {\n",
       "        vertical-align: top;\n",
       "    }\n",
       "\n",
       "    .dataframe thead th {\n",
       "        text-align: right;\n",
       "    }\n",
       "</style>\n",
       "<table border=\"1\" class=\"dataframe\">\n",
       "  <thead>\n",
       "    <tr style=\"text-align: right;\">\n",
       "      <th></th>\n",
       "      <th>code</th>\n",
       "      <th>diag</th>\n",
       "    </tr>\n",
       "  </thead>\n",
       "  <tbody>\n",
       "    <tr>\n",
       "      <th>0</th>\n",
       "      <td>F00</td>\n",
       "      <td>Demencia en la enfermedad de Alzheimer</td>\n",
       "    </tr>\n",
       "    <tr>\n",
       "      <th>176</th>\n",
       "      <td>F52</td>\n",
       "      <td>Disfunción sexual no ocasionada por trastornos...</td>\n",
       "    </tr>\n",
       "    <tr>\n",
       "      <th>150</th>\n",
       "      <td>F43</td>\n",
       "      <td>Reacción al stress grave y trastornos de adapt...</td>\n",
       "    </tr>\n",
       "  </tbody>\n",
       "</table>\n",
       "</div>"
      ],
      "text/plain": [
       "    code                                               diag\n",
       "0    F00             Demencia en la enfermedad de Alzheimer\n",
       "176  F52  Disfunción sexual no ocasionada por trastornos...\n",
       "150  F43  Reacción al stress grave y trastornos de adapt..."
      ]
     },
     "execution_count": 15,
     "metadata": {},
     "output_type": "execute_result"
    }
   ],
   "source": [
    "diagnostic.sample(3)"
   ]
  },
  {
   "cell_type": "code",
   "execution_count": 16,
   "id": "271f9d5a",
   "metadata": {},
   "outputs": [],
   "source": [
    "#añadimos el capítulo correpondiente a cada diagnóstico de diagnostic"
   ]
  },
  {
   "cell_type": "code",
   "execution_count": 17,
   "id": "e3b237b2",
   "metadata": {},
   "outputs": [],
   "source": [
    "correspond = {'F00-F09': [\"F00\",\"F01\",\"F02\",\"F03\",\"F04\",\"F05\",\"F06\",\"F07\",\"F08\",\"F09\"],\n",
    "'F10-F19': [\"F10\",\"F11\",\"F12\",\"F13\",\"F14\",\"F15\",\"F16\",\"F17\",\"F18\",\"F19\"],\n",
    "'F20-29' : [\"F20\",\"F21\",\"F22\",\"F23\",\"F24\",\"F25\",\"F26\",\"F27\",\"F28\",\"F29\"],\n",
    "'F30-39' : [\"F30\",\"F31\",\"F32\",\"F33\",\"F34\",\"F35\",\"F36\",\"F37\",\"F38\",\"F39\"],\n",
    "'F40-49': [\"F40\",\"F41\",\"F42\",\"F43\",\"F44\",\"F45\",\"F46\",\"F47\",\"F48\",\"F49\"],\n",
    "'F50-59': [\"F50\",\"F51\",\"F52\",\"F53\",\"F54\",\"F55\",\"F56\",\"F57\",\"F58\",\"F59\"],\n",
    "'F60-69': [\"F60\",\"F61\",\"F62\",\"F63\",\"F64\",\"F65\",\"F66\",\"F67\",\"F68\",\"F69\"],\n",
    "'F70-79':[\"F70\",\"F71\",\"F72\",\"F73\",\"F74\",\"F75\",\"F76\",\"F77\",\"F78\",\"F79\"],\n",
    "'F80-89' : [\"F80\",\"F81\",\"F82\",\"F83\",\"F84\",\"F85\",\"F86\",\"F87\",\"F88\",\"F89\"],\n",
    "'F90-F98':[\"F90\",\"F91\",\"F92\",\"F93\",\"F94\",\"F95\",\"F96\",\"F97\",\"F98\"],\n",
    "'F99':[\"F99\"]}"
   ]
  },
  {
   "cell_type": "code",
   "execution_count": 18,
   "id": "d3ac2df4",
   "metadata": {},
   "outputs": [],
   "source": [
    "dicc_corr = {}\n",
    "for key,value in correspond.items():\n",
    "    for i in range(len(value)):\n",
    "        dicc_corr[value[i]] = key"
   ]
  },
  {
   "cell_type": "code",
   "execution_count": 19,
   "id": "23a31a3a",
   "metadata": {},
   "outputs": [],
   "source": [
    "diagnostic['cap']=diagnostic.code.map(dicc_corr)"
   ]
  },
  {
   "cell_type": "code",
   "execution_count": 20,
   "id": "e6741213",
   "metadata": {},
   "outputs": [],
   "source": [
    "diagnostic = diagnostic.merge(capitulo, how='right')"
   ]
  },
  {
   "cell_type": "code",
   "execution_count": 21,
   "id": "35b9dcba",
   "metadata": {
    "scrolled": true
   },
   "outputs": [
    {
     "data": {
      "text/html": [
       "<div>\n",
       "<style scoped>\n",
       "    .dataframe tbody tr th:only-of-type {\n",
       "        vertical-align: middle;\n",
       "    }\n",
       "\n",
       "    .dataframe tbody tr th {\n",
       "        vertical-align: top;\n",
       "    }\n",
       "\n",
       "    .dataframe thead th {\n",
       "        text-align: right;\n",
       "    }\n",
       "</style>\n",
       "<table border=\"1\" class=\"dataframe\">\n",
       "  <thead>\n",
       "    <tr style=\"text-align: right;\">\n",
       "      <th></th>\n",
       "      <th>code</th>\n",
       "      <th>diag</th>\n",
       "      <th>cap</th>\n",
       "      <th>title</th>\n",
       "    </tr>\n",
       "  </thead>\n",
       "  <tbody>\n",
       "    <tr>\n",
       "      <th>70</th>\n",
       "      <td>F91</td>\n",
       "      <td>Trastornos de conducta</td>\n",
       "      <td>F90-F98</td>\n",
       "      <td>Trastornos emocionales y del comportamiento qu...</td>\n",
       "    </tr>\n",
       "    <tr>\n",
       "      <th>37</th>\n",
       "      <td>F43</td>\n",
       "      <td>Reacción al stress grave y trastornos de adapt...</td>\n",
       "      <td>F40-49</td>\n",
       "      <td>Trastornos neuróticos, trastornos relacionados...</td>\n",
       "    </tr>\n",
       "    <tr>\n",
       "      <th>14</th>\n",
       "      <td>F14</td>\n",
       "      <td>Trastornos mentales y de comportamiento debido...</td>\n",
       "      <td>F10-F19</td>\n",
       "      <td>Trastornos mentales y de comportamiento debido...</td>\n",
       "    </tr>\n",
       "    <tr>\n",
       "      <th>73</th>\n",
       "      <td>F94</td>\n",
       "      <td>Trastornos de funciones sociales específicos d...</td>\n",
       "      <td>F90-F98</td>\n",
       "      <td>Trastornos emocionales y del comportamiento qu...</td>\n",
       "    </tr>\n",
       "    <tr>\n",
       "      <th>46</th>\n",
       "      <td>F55</td>\n",
       "      <td>Abuso de sustancias que no producen dependencia</td>\n",
       "      <td>F50-59</td>\n",
       "      <td>Síndromes del comportamiento asociados con alt...</td>\n",
       "    </tr>\n",
       "    <tr>\n",
       "      <th>19</th>\n",
       "      <td>F19</td>\n",
       "      <td>Trastornos mentales y de comportamiento debido...</td>\n",
       "      <td>F10-F19</td>\n",
       "      <td>Trastornos mentales y de comportamiento debido...</td>\n",
       "    </tr>\n",
       "    <tr>\n",
       "      <th>34</th>\n",
       "      <td>F40</td>\n",
       "      <td>Trastornos fóbicos de ansiedad</td>\n",
       "      <td>F40-49</td>\n",
       "      <td>Trastornos neuróticos, trastornos relacionados...</td>\n",
       "    </tr>\n",
       "    <tr>\n",
       "      <th>76</th>\n",
       "      <td>F99</td>\n",
       "      <td>Trastorno mental no especificado en otra parte</td>\n",
       "      <td>F99</td>\n",
       "      <td>Trastornos mentales sin especificar</td>\n",
       "    </tr>\n",
       "    <tr>\n",
       "      <th>56</th>\n",
       "      <td>F70</td>\n",
       "      <td>Retraso mental leve</td>\n",
       "      <td>F70-79</td>\n",
       "      <td>Retraso mental</td>\n",
       "    </tr>\n",
       "    <tr>\n",
       "      <th>28</th>\n",
       "      <td>F30</td>\n",
       "      <td>Episodio maníaco</td>\n",
       "      <td>F30-39</td>\n",
       "      <td>Trastornos del estado de animo, trastornos afe...</td>\n",
       "    </tr>\n",
       "  </tbody>\n",
       "</table>\n",
       "</div>"
      ],
      "text/plain": [
       "   code                                               diag      cap  \\\n",
       "70  F91                             Trastornos de conducta  F90-F98   \n",
       "37  F43  Reacción al stress grave y trastornos de adapt...   F40-49   \n",
       "14  F14  Trastornos mentales y de comportamiento debido...  F10-F19   \n",
       "73  F94  Trastornos de funciones sociales específicos d...  F90-F98   \n",
       "46  F55    Abuso de sustancias que no producen dependencia   F50-59   \n",
       "19  F19  Trastornos mentales y de comportamiento debido...  F10-F19   \n",
       "34  F40                     Trastornos fóbicos de ansiedad   F40-49   \n",
       "76  F99     Trastorno mental no especificado en otra parte      F99   \n",
       "56  F70                                Retraso mental leve   F70-79   \n",
       "28  F30                                   Episodio maníaco   F30-39   \n",
       "\n",
       "                                                title  \n",
       "70  Trastornos emocionales y del comportamiento qu...  \n",
       "37  Trastornos neuróticos, trastornos relacionados...  \n",
       "14  Trastornos mentales y de comportamiento debido...  \n",
       "73  Trastornos emocionales y del comportamiento qu...  \n",
       "46  Síndromes del comportamiento asociados con alt...  \n",
       "19  Trastornos mentales y de comportamiento debido...  \n",
       "34  Trastornos neuróticos, trastornos relacionados...  \n",
       "76                Trastornos mentales sin especificar  \n",
       "56                                     Retraso mental  \n",
       "28  Trastornos del estado de animo, trastornos afe...  "
      ]
     },
     "execution_count": 21,
     "metadata": {},
     "output_type": "execute_result"
    }
   ],
   "source": [
    "diagnostic.sample(10)"
   ]
  },
  {
   "cell_type": "code",
   "execution_count": 22,
   "id": "ca45c4d5",
   "metadata": {},
   "outputs": [],
   "source": [
    "resumen = {'Trastornos mentales orgánicos, incluidos los trastornos sintomáticos': 'orgánicos/sintomáticos' ,\n",
    "       'Trastornos mentales y de comportamiento debidos al consumo de psicotrópicos': 'consumo psicotrópicos',\n",
    "       'Esquizofrenia, trastornos esquizotípicos y trastornos delirantes': 'esquizotípicos/delirantes',\n",
    "       'Trastornos del estado de animo, trastornos afectivos':'animo/afectivos',\n",
    "       'Trastornos neuróticos, trastornos relacionados con el estrés y trastornos somatomorfos':'nuróticos/somatomorfos',\n",
    "       'Síndromes del comportamiento asociados con alteraciones fisiológicas y factores físicos':'factores físicos /fisiológicos',\n",
    "       'Trastornos de la personalidad y del comportamiento en adultos':'T. de la personalidad/comportamiento',\n",
    "       'Retraso mental':'deficiencia psíquica', 'Trastornos del desarrollo psicológico':'desarrollo psicológico',\n",
    "       'Trastornos emocionales y del comportamiento que aparecen habitualmente en la niñez o en la adolescencia':'aparecen en niñez',\n",
    "       'Trastornos mentales sin especificar':'sin espcificar'}"
   ]
  },
  {
   "cell_type": "code",
   "execution_count": 23,
   "id": "0151f7a7",
   "metadata": {},
   "outputs": [],
   "source": [
    "diagnostic['resumen_cap'] = diagnostic.title.map(resumen)"
   ]
  },
  {
   "cell_type": "code",
   "execution_count": 24,
   "id": "a5820cb4",
   "metadata": {},
   "outputs": [],
   "source": [
    "diagnostic.to_csv(\"../data/diagnos.csv\", index=False)"
   ]
  },
  {
   "cell_type": "markdown",
   "id": "6375dea4",
   "metadata": {},
   "source": [
    "#  Fases lunares"
   ]
  },
  {
   "cell_type": "code",
   "execution_count": 25,
   "id": "ed70356b",
   "metadata": {},
   "outputs": [],
   "source": [
    "url_ = 'https://calendarios.ideal.es/calendario-lunar/fases-lunares/'"
   ]
  },
  {
   "cell_type": "code",
   "execution_count": 26,
   "id": "646603e1",
   "metadata": {},
   "outputs": [
    {
     "name": "stderr",
     "output_type": "stream",
     "text": [
      "/home/sinatxe/anaconda3/envs/ironhack/lib/python3.8/site-packages/urllib3/connectionpool.py:1013: InsecureRequestWarning: Unverified HTTPS request is being made to host 'calendarios.ideal.es'. Adding certificate verification is strongly advised. See: https://urllib3.readthedocs.io/en/1.26.x/advanced-usage.html#ssl-warnings\n",
      "  warnings.warn(\n",
      "/home/sinatxe/anaconda3/envs/ironhack/lib/python3.8/site-packages/urllib3/connectionpool.py:1013: InsecureRequestWarning: Unverified HTTPS request is being made to host 'calendarios.ideal.es'. Adding certificate verification is strongly advised. See: https://urllib3.readthedocs.io/en/1.26.x/advanced-usage.html#ssl-warnings\n",
      "  warnings.warn(\n",
      "/home/sinatxe/anaconda3/envs/ironhack/lib/python3.8/site-packages/urllib3/connectionpool.py:1013: InsecureRequestWarning: Unverified HTTPS request is being made to host 'calendarios.ideal.es'. Adding certificate verification is strongly advised. See: https://urllib3.readthedocs.io/en/1.26.x/advanced-usage.html#ssl-warnings\n",
      "  warnings.warn(\n",
      "/home/sinatxe/anaconda3/envs/ironhack/lib/python3.8/site-packages/urllib3/connectionpool.py:1013: InsecureRequestWarning: Unverified HTTPS request is being made to host 'calendarios.ideal.es'. Adding certificate verification is strongly advised. See: https://urllib3.readthedocs.io/en/1.26.x/advanced-usage.html#ssl-warnings\n",
      "  warnings.warn(\n"
     ]
    }
   ],
   "source": [
    "lunas = esc.calendariolunar(url_,2016,2020)"
   ]
  },
  {
   "cell_type": "code",
   "execution_count": 27,
   "id": "e6b999d1",
   "metadata": {
    "scrolled": true
   },
   "outputs": [
    {
     "data": {
      "text/html": [
       "<div>\n",
       "<style scoped>\n",
       "    .dataframe tbody tr th:only-of-type {\n",
       "        vertical-align: middle;\n",
       "    }\n",
       "\n",
       "    .dataframe tbody tr th {\n",
       "        vertical-align: top;\n",
       "    }\n",
       "\n",
       "    .dataframe thead th {\n",
       "        text-align: right;\n",
       "    }\n",
       "</style>\n",
       "<table border=\"1\" class=\"dataframe\">\n",
       "  <thead>\n",
       "    <tr style=\"text-align: right;\">\n",
       "      <th></th>\n",
       "      <th>fecha</th>\n",
       "      <th>moon</th>\n",
       "      <th>fecha_Date</th>\n",
       "    </tr>\n",
       "  </thead>\n",
       "  <tbody>\n",
       "    <tr>\n",
       "      <th>191</th>\n",
       "      <td>12/11/2019</td>\n",
       "      <td>Luna Llena</td>\n",
       "      <td>2019-11-12</td>\n",
       "    </tr>\n",
       "    <tr>\n",
       "      <th>30</th>\n",
       "      <td>10/08/2016</td>\n",
       "      <td>Cuarto Creciente</td>\n",
       "      <td>2016-08-10</td>\n",
       "    </tr>\n",
       "    <tr>\n",
       "      <th>152</th>\n",
       "      <td>28/01/2019</td>\n",
       "      <td>Cuarto Menguante</td>\n",
       "      <td>2019-01-28</td>\n",
       "    </tr>\n",
       "  </tbody>\n",
       "</table>\n",
       "</div>"
      ],
      "text/plain": [
       "          fecha              moon fecha_Date\n",
       "191  12/11/2019        Luna Llena 2019-11-12\n",
       "30   10/08/2016  Cuarto Creciente 2016-08-10\n",
       "152  28/01/2019  Cuarto Menguante 2019-01-28"
      ]
     },
     "execution_count": 27,
     "metadata": {},
     "output_type": "execute_result"
    }
   ],
   "source": [
    "lunas.sample(3)"
   ]
  },
  {
   "cell_type": "code",
   "execution_count": 28,
   "id": "3cf8acfd",
   "metadata": {},
   "outputs": [],
   "source": [
    "lunas.to_csv('../data/cal_lunar.csv',index=False)"
   ]
  },
  {
   "cell_type": "markdown",
   "id": "638643df",
   "metadata": {},
   "source": [
    "# Horas de luz"
   ]
  },
  {
   "cell_type": "markdown",
   "id": "abb2d4a6",
   "metadata": {},
   "source": [
    "[web](https://www.epdata.es/horas-luz-provincias-2019/6841c77e-e946-420e-a0c4-cff4de1154f3#)"
   ]
  },
  {
   "cell_type": "code",
   "execution_count": 29,
   "id": "49e1f873",
   "metadata": {},
   "outputs": [],
   "source": [
    "luz = pd.read_csv('../data/ambientales/horas_de_luz_por_provincias.csv',sep=';')\n",
    "luz = luz[0:624].drop('Año',axis=1).rename({'Periodo':'mes','Parámetro':'Provincia','Salida y puesta del sol':'horas'},axis=1)\n",
    "luz.horas = luz.horas.str.replace(',','.').astype('float')\n",
    "luz.Provincia = luz.Provincia.str.strip()\n",
    "luz.Provincia = luz.Provincia.str.replace('Islas Baleares','Baleares')"
   ]
  },
  {
   "cell_type": "code",
   "execution_count": 30,
   "id": "2a8bb493",
   "metadata": {},
   "outputs": [
    {
     "data": {
      "text/html": [
       "<div>\n",
       "<style scoped>\n",
       "    .dataframe tbody tr th:only-of-type {\n",
       "        vertical-align: middle;\n",
       "    }\n",
       "\n",
       "    .dataframe tbody tr th {\n",
       "        vertical-align: top;\n",
       "    }\n",
       "\n",
       "    .dataframe thead th {\n",
       "        text-align: right;\n",
       "    }\n",
       "</style>\n",
       "<table border=\"1\" class=\"dataframe\">\n",
       "  <thead>\n",
       "    <tr style=\"text-align: right;\">\n",
       "      <th></th>\n",
       "      <th>mes</th>\n",
       "      <th>Provincia</th>\n",
       "      <th>horas</th>\n",
       "    </tr>\n",
       "  </thead>\n",
       "  <tbody>\n",
       "    <tr>\n",
       "      <th>58</th>\n",
       "      <td>Febrero</td>\n",
       "      <td>Baleares</td>\n",
       "      <td>10.71</td>\n",
       "    </tr>\n",
       "    <tr>\n",
       "      <th>123</th>\n",
       "      <td>Marzo</td>\n",
       "      <td>Guipúzcoa</td>\n",
       "      <td>11.93</td>\n",
       "    </tr>\n",
       "    <tr>\n",
       "      <th>315</th>\n",
       "      <td>Julio</td>\n",
       "      <td>Almería</td>\n",
       "      <td>14.40</td>\n",
       "    </tr>\n",
       "  </tbody>\n",
       "</table>\n",
       "</div>"
      ],
      "text/plain": [
       "         mes  Provincia  horas\n",
       "58   Febrero   Baleares  10.71\n",
       "123    Marzo  Guipúzcoa  11.93\n",
       "315    Julio    Almería  14.40"
      ]
     },
     "execution_count": 30,
     "metadata": {},
     "output_type": "execute_result"
    }
   ],
   "source": [
    "luz.sample(3)"
   ]
  },
  {
   "cell_type": "code",
   "execution_count": 31,
   "id": "11a42ab5",
   "metadata": {},
   "outputs": [],
   "source": [
    "#coordenar nombre de provincias con geojson provincial\n",
    "geo_json = r\"../data/socioecon/spain_provinces.geojson\"\n",
    "with open (geo_json) as geo_file:\n",
    "    provincias = json.load(geo_file)\n",
    "\n",
    "prov_cod = {}\n",
    "for i in range(52):    \n",
    "    prov_cod[provincias['features'][i]['properties']['name']] = provincias['features'][i]['properties']['cod_prov']"
   ]
  },
  {
   "cell_type": "code",
   "execution_count": 32,
   "id": "77fabce0",
   "metadata": {},
   "outputs": [
    {
     "data": {
      "text/plain": [
       "array(['Álava', 'Albacete', 'Alicante', 'Almería', 'Ávila', 'Badajoz',\n",
       "       'Baleares', 'Barcelona', 'Burgos', 'Cáceres', 'Cádiz', 'Castellón',\n",
       "       'Ciudad Real', 'Córdoba', 'A Coruña', 'Cuenca', 'Girona',\n",
       "       'Granada', 'Guadalajara', 'Guipúzcoa', 'Huelva', 'Huesca', 'Jaén',\n",
       "       'León', 'Lleida', 'La Rioja', 'Lugo', 'Madrid', 'Málaga', 'Murcia',\n",
       "       'Navarra', 'Ourense', 'Asturias', 'Palencia', 'Las Palmas',\n",
       "       'Pontevedra', 'Salamanca', 'Santa Cruz de Tenerife', 'Cantabria',\n",
       "       'Segovia', 'Sevilla', 'Soria', 'Tarragona', 'Teruel', 'Toledo',\n",
       "       'Valencia', 'Valladolid', 'Vizcaya', 'Zamora', 'Zaragoza', 'Ceuta',\n",
       "       'Melilla'], dtype=object)"
      ]
     },
     "execution_count": 32,
     "metadata": {},
     "output_type": "execute_result"
    }
   ],
   "source": [
    "luz.Provincia.unique()"
   ]
  },
  {
   "cell_type": "code",
   "execution_count": 33,
   "id": "a7881dbf",
   "metadata": {},
   "outputs": [],
   "source": [
    "luz['cod'] = luz.Provincia.map(prov_cod)"
   ]
  },
  {
   "cell_type": "code",
   "execution_count": 34,
   "id": "b44ce30c",
   "metadata": {},
   "outputs": [],
   "source": [
    "mes_num = {'Enero':1, 'Febrero':2, 'Marzo':3, 'Abril':4, 'Mayo':5, 'Junio':6, 'Julio':7,\n",
    "       'Agosto':8, 'Septiembre':9, 'Octubre':10, 'Noviembre':11, 'Diciembre':12}"
   ]
  },
  {
   "cell_type": "code",
   "execution_count": 35,
   "id": "a5d32d91",
   "metadata": {},
   "outputs": [],
   "source": [
    "luz['mes_n'] = luz.mes.map(mes_num)"
   ]
  },
  {
   "cell_type": "code",
   "execution_count": 36,
   "id": "c8e9f82c",
   "metadata": {},
   "outputs": [
    {
     "data": {
      "text/html": [
       "<div>\n",
       "<style scoped>\n",
       "    .dataframe tbody tr th:only-of-type {\n",
       "        vertical-align: middle;\n",
       "    }\n",
       "\n",
       "    .dataframe tbody tr th {\n",
       "        vertical-align: top;\n",
       "    }\n",
       "\n",
       "    .dataframe thead th {\n",
       "        text-align: right;\n",
       "    }\n",
       "</style>\n",
       "<table border=\"1\" class=\"dataframe\">\n",
       "  <thead>\n",
       "    <tr style=\"text-align: right;\">\n",
       "      <th></th>\n",
       "      <th>mes</th>\n",
       "      <th>Provincia</th>\n",
       "      <th>horas</th>\n",
       "      <th>cod</th>\n",
       "      <th>mes_n</th>\n",
       "    </tr>\n",
       "  </thead>\n",
       "  <tbody>\n",
       "    <tr>\n",
       "      <th>432</th>\n",
       "      <td>Septiembre</td>\n",
       "      <td>Girona</td>\n",
       "      <td>12.49</td>\n",
       "      <td>17</td>\n",
       "      <td>9</td>\n",
       "    </tr>\n",
       "    <tr>\n",
       "      <th>267</th>\n",
       "      <td>Junio</td>\n",
       "      <td>Barcelona</td>\n",
       "      <td>15.12</td>\n",
       "      <td>08</td>\n",
       "      <td>6</td>\n",
       "    </tr>\n",
       "    <tr>\n",
       "      <th>350</th>\n",
       "      <td>Julio</td>\n",
       "      <td>Cantabria</td>\n",
       "      <td>15.05</td>\n",
       "      <td>39</td>\n",
       "      <td>7</td>\n",
       "    </tr>\n",
       "  </tbody>\n",
       "</table>\n",
       "</div>"
      ],
      "text/plain": [
       "            mes  Provincia  horas cod  mes_n\n",
       "432  Septiembre     Girona  12.49  17      9\n",
       "267       Junio  Barcelona  15.12  08      6\n",
       "350       Julio  Cantabria  15.05  39      7"
      ]
     },
     "execution_count": 36,
     "metadata": {},
     "output_type": "execute_result"
    }
   ],
   "source": [
    "luz.sample(3)"
   ]
  },
  {
   "cell_type": "code",
   "execution_count": 37,
   "id": "4994f77e",
   "metadata": {},
   "outputs": [],
   "source": [
    "luz.to_csv('../data/luzmesespr.csv',index=False)"
   ]
  },
  {
   "cell_type": "markdown",
   "id": "e696c8b6",
   "metadata": {},
   "source": [
    "# Provincias"
   ]
  },
  {
   "cell_type": "code",
   "execution_count": 38,
   "id": "c97f567a",
   "metadata": {},
   "outputs": [],
   "source": [
    "geo_json = r\"../data/socioecon/spain_provinces.geojson\"\n",
    "with open (geo_json) as geo_file:\n",
    "    provincias = json.load(geo_file)"
   ]
  },
  {
   "cell_type": "code",
   "execution_count": 39,
   "id": "6fd93649",
   "metadata": {},
   "outputs": [],
   "source": [
    "cod_prov = {}\n",
    "for i in range(52):    \n",
    "    cod_prov[provincias['features'][i]['properties']['cod_prov']] = provincias['features'][i]['properties']['name']"
   ]
  },
  {
   "cell_type": "code",
   "execution_count": 40,
   "id": "878cc8e4",
   "metadata": {},
   "outputs": [],
   "source": [
    "provincias_cod = pd.DataFrame([[key, cod_prov[key]] for key in cod_prov.keys()], columns=['Cod', 'Provincia'])"
   ]
  },
  {
   "cell_type": "code",
   "execution_count": 41,
   "id": "96f0cba5",
   "metadata": {},
   "outputs": [],
   "source": [
    "provincias_cod.to_csv('../data/codigos_provincia.csv',index=False)"
   ]
  }
 ],
 "metadata": {
  "kernelspec": {
   "display_name": "ironhack",
   "language": "python",
   "name": "ironhack"
  },
  "language_info": {
   "codemirror_mode": {
    "name": "ipython",
    "version": 3
   },
   "file_extension": ".py",
   "mimetype": "text/x-python",
   "name": "python",
   "nbconvert_exporter": "python",
   "pygments_lexer": "ipython3",
   "version": "3.8.5"
  }
 },
 "nbformat": 4,
 "nbformat_minor": 5
}
