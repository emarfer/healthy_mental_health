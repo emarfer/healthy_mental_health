{
 "cells": [
  {
   "cell_type": "code",
   "execution_count": 1,
   "id": "9bbc0fae",
   "metadata": {},
   "outputs": [],
   "source": [
    "import pandas as pd\n",
    "import os"
   ]
  },
  {
   "cell_type": "code",
   "execution_count": 2,
   "id": "981f0191",
   "metadata": {},
   "outputs": [
    {
     "data": {
      "text/plain": [
       "['causes_death.tsv']"
      ]
     },
     "execution_count": 2,
     "metadata": {},
     "output_type": "execute_result"
    }
   ],
   "source": [
    "os.listdir('../data/eurostats')"
   ]
  },
  {
   "cell_type": "code",
   "execution_count": 3,
   "id": "e5b0b815",
   "metadata": {},
   "outputs": [],
   "source": [
    "euro_01 = pd.read_csv('../data/eurostats/causes_death.tsv')"
   ]
  },
  {
   "cell_type": "code",
   "execution_count": 4,
   "id": "f368ce6d",
   "metadata": {},
   "outputs": [],
   "source": [
    "col_eutime = euro_01.columns[-1]"
   ]
  },
  {
   "cell_type": "code",
   "execution_count": 5,
   "id": "c99db801",
   "metadata": {},
   "outputs": [],
   "source": [
    "new_col = euro_01.columns[-1].split('\\t')"
   ]
  },
  {
   "cell_type": "code",
   "execution_count": 6,
   "id": "3631e3ea",
   "metadata": {},
   "outputs": [],
   "source": [
    "euro_01[new_col] = euro_01[col_eutime].str.split(\"\\t\",expand=True)"
   ]
  },
  {
   "cell_type": "code",
   "execution_count": 7,
   "id": "c8339e96",
   "metadata": {},
   "outputs": [
    {
     "data": {
      "text/html": [
       "<div>\n",
       "<style scoped>\n",
       "    .dataframe tbody tr th:only-of-type {\n",
       "        vertical-align: middle;\n",
       "    }\n",
       "\n",
       "    .dataframe tbody tr th {\n",
       "        vertical-align: top;\n",
       "    }\n",
       "\n",
       "    .dataframe thead th {\n",
       "        text-align: right;\n",
       "    }\n",
       "</style>\n",
       "<table border=\"1\" class=\"dataframe\">\n",
       "  <thead>\n",
       "    <tr style=\"text-align: right;\">\n",
       "      <th></th>\n",
       "      <th>unit</th>\n",
       "      <th>sex</th>\n",
       "      <th>age</th>\n",
       "      <th>icd10</th>\n",
       "      <th>resid</th>\n",
       "      <th>geo\\time\\t2019 \\t2018 \\t2017 \\t2016 \\t2015 \\t2014 \\t2013 \\t2012 \\t2011</th>\n",
       "      <th>geo\\time</th>\n",
       "      <th>2019</th>\n",
       "      <th>2018</th>\n",
       "      <th>2017</th>\n",
       "      <th>2016</th>\n",
       "      <th>2015</th>\n",
       "      <th>2014</th>\n",
       "      <th>2013</th>\n",
       "      <th>2012</th>\n",
       "      <th>2011</th>\n",
       "    </tr>\n",
       "  </thead>\n",
       "  <tbody>\n",
       "    <tr>\n",
       "      <th>425719</th>\n",
       "      <td>NR</td>\n",
       "      <td>T</td>\n",
       "      <td>Y40-44</td>\n",
       "      <td>I</td>\n",
       "      <td>TOT_RESID</td>\n",
       "      <td>IT\\t: \\t643 p\\t693 \\t700 \\t764 \\t754 \\t745 \\t7...</td>\n",
       "      <td>IT</td>\n",
       "      <td>:</td>\n",
       "      <td>643 p</td>\n",
       "      <td>693</td>\n",
       "      <td>700</td>\n",
       "      <td>764</td>\n",
       "      <td>754</td>\n",
       "      <td>745</td>\n",
       "      <td>779</td>\n",
       "      <td>789</td>\n",
       "    </tr>\n",
       "    <tr>\n",
       "      <th>256777</th>\n",
       "      <td>NR</td>\n",
       "      <td>M</td>\n",
       "      <td>Y5-9</td>\n",
       "      <td>I</td>\n",
       "      <td>TOT_IN</td>\n",
       "      <td>UK\\t: \\t4 \\t5 \\t12 \\t6 \\t5 \\t4 \\t5 \\t3</td>\n",
       "      <td>UK</td>\n",
       "      <td>:</td>\n",
       "      <td>4</td>\n",
       "      <td>5</td>\n",
       "      <td>12</td>\n",
       "      <td>6</td>\n",
       "      <td>5</td>\n",
       "      <td>4</td>\n",
       "      <td>5</td>\n",
       "      <td>3</td>\n",
       "    </tr>\n",
       "    <tr>\n",
       "      <th>394261</th>\n",
       "      <td>NR</td>\n",
       "      <td>T</td>\n",
       "      <td>Y15-24</td>\n",
       "      <td>K</td>\n",
       "      <td>TOT_RESID</td>\n",
       "      <td>MT\\t: \\t0 p\\t0 \\t0 \\t0 \\t0 \\t0 \\t0 \\t0</td>\n",
       "      <td>MT</td>\n",
       "      <td>:</td>\n",
       "      <td>0 p</td>\n",
       "      <td>0</td>\n",
       "      <td>0</td>\n",
       "      <td>0</td>\n",
       "      <td>0</td>\n",
       "      <td>0</td>\n",
       "      <td>0</td>\n",
       "      <td>0</td>\n",
       "    </tr>\n",
       "    <tr>\n",
       "      <th>140372</th>\n",
       "      <td>NR</td>\n",
       "      <td>F</td>\n",
       "      <td>Y_GE65</td>\n",
       "      <td>J</td>\n",
       "      <td>TOT_RESID</td>\n",
       "      <td>RO\\t: \\t5266 p\\t4866 \\t4472 \\t4691 \\t3996 \\t37...</td>\n",
       "      <td>RO</td>\n",
       "      <td>:</td>\n",
       "      <td>5266 p</td>\n",
       "      <td>4866</td>\n",
       "      <td>4472</td>\n",
       "      <td>4691</td>\n",
       "      <td>3996</td>\n",
       "      <td>3736</td>\n",
       "      <td>3884</td>\n",
       "      <td>3417</td>\n",
       "    </tr>\n",
       "    <tr>\n",
       "      <th>474965</th>\n",
       "      <td>NR</td>\n",
       "      <td>T</td>\n",
       "      <td>Y75-79</td>\n",
       "      <td>C</td>\n",
       "      <td>TOT_IN</td>\n",
       "      <td>NO\\t: \\t1716 \\t1558 \\t1512 \\t1558 \\t1567 \\t147...</td>\n",
       "      <td>NO</td>\n",
       "      <td>:</td>\n",
       "      <td>1716</td>\n",
       "      <td>1558</td>\n",
       "      <td>1512</td>\n",
       "      <td>1558</td>\n",
       "      <td>1567</td>\n",
       "      <td>1476</td>\n",
       "      <td>1457</td>\n",
       "      <td>1553</td>\n",
       "    </tr>\n",
       "  </tbody>\n",
       "</table>\n",
       "</div>"
      ],
      "text/plain": [
       "       unit sex     age icd10      resid  \\\n",
       "425719   NR   T  Y40-44     I  TOT_RESID   \n",
       "256777   NR   M    Y5-9     I     TOT_IN   \n",
       "394261   NR   T  Y15-24     K  TOT_RESID   \n",
       "140372   NR   F  Y_GE65     J  TOT_RESID   \n",
       "474965   NR   T  Y75-79     C     TOT_IN   \n",
       "\n",
       "       geo\\time\\t2019 \\t2018 \\t2017 \\t2016 \\t2015 \\t2014 \\t2013 \\t2012 \\t2011   \\\n",
       "425719  IT\\t: \\t643 p\\t693 \\t700 \\t764 \\t754 \\t745 \\t7...                        \n",
       "256777            UK\\t: \\t4 \\t5 \\t12 \\t6 \\t5 \\t4 \\t5 \\t3                         \n",
       "394261            MT\\t: \\t0 p\\t0 \\t0 \\t0 \\t0 \\t0 \\t0 \\t0                         \n",
       "140372  RO\\t: \\t5266 p\\t4866 \\t4472 \\t4691 \\t3996 \\t37...                        \n",
       "474965  NO\\t: \\t1716 \\t1558 \\t1512 \\t1558 \\t1567 \\t147...                        \n",
       "\n",
       "       geo\\time 2019    2018   2017   2016   2015   2014   2013   2012   2011   \n",
       "425719       IT    :    643 p   693    700    764    754    745    779    789   \n",
       "256777       UK    :       4      5     12      6      5      4      5      3   \n",
       "394261       MT    :      0 p     0      0      0      0      0      0      0   \n",
       "140372       RO    :   5266 p  4866   4472   4691   3996   3736   3884   3417   \n",
       "474965       NO    :    1716   1558   1512   1558   1567   1476   1457   1553   "
      ]
     },
     "execution_count": 7,
     "metadata": {},
     "output_type": "execute_result"
    }
   ],
   "source": [
    "euro_01.sample(5)"
   ]
  },
  {
   "cell_type": "code",
   "execution_count": 8,
   "id": "05bf5dd6",
   "metadata": {},
   "outputs": [
    {
     "data": {
      "text/plain": [
       "(545748, 16)"
      ]
     },
     "execution_count": 8,
     "metadata": {},
     "output_type": "execute_result"
    }
   ],
   "source": [
    "euro_01.shape"
   ]
  },
  {
   "cell_type": "code",
   "execution_count": 9,
   "id": "f009483e",
   "metadata": {},
   "outputs": [],
   "source": [
    "euro_01.drop(col_eutime,axis=1,inplace = True)\n"
   ]
  },
  {
   "cell_type": "code",
   "execution_count": 10,
   "id": "45e402b9",
   "metadata": {},
   "outputs": [],
   "source": [
    "euro_01.columns=euro_01.columns.str.strip()"
   ]
  },
  {
   "cell_type": "code",
   "execution_count": 11,
   "id": "56cc6b6a",
   "metadata": {},
   "outputs": [],
   "source": [
    "euro_01.drop('unit',axis=1,inplace = True)"
   ]
  },
  {
   "cell_type": "code",
   "execution_count": 12,
   "id": "f0881861",
   "metadata": {},
   "outputs": [],
   "source": [
    "euro_01.rename({\"geo\\\\time\":\"c_code\"},axis=1,inplace =True)"
   ]
  },
  {
   "cell_type": "code",
   "execution_count": 13,
   "id": "fb0fd1b9",
   "metadata": {
    "scrolled": true
   },
   "outputs": [
    {
     "data": {
      "text/plain": [
       "array(['A-R_V-Y', 'A15-A19_B90', 'ACC', 'ACC_OTH', 'A_B', 'A_B_OTH',\n",
       "       'B15-B19_B942', 'B180-B182', 'B20-B24', 'C', 'C00-C14', 'C00-D48',\n",
       "       'C15', 'C16', 'C18-C21', 'C22', 'C25', 'C32', 'C33_C34', 'C43',\n",
       "       'C50', 'C53', 'C54_C55', 'C56', 'C61', 'C64', 'C67', 'C70-C72',\n",
       "       'C73', 'C81-C86', 'C88_C90_C96', 'C91-C95', 'C_OTH', 'D00-D48',\n",
       "       'D50-D89', 'E', 'E10-E14', 'E_OTH', 'F', 'F01_F03', 'F10', 'F_OTH',\n",
       "       'G20', 'G30', 'G_H', 'G_H_OTH', 'I', 'I20-I25', 'I20_I23-I25',\n",
       "       'I21_I22', 'I30-I51', 'I60-I69', 'I_OTH', 'J', 'J09-J11',\n",
       "       'J12-J18', 'J40-J44_J47', 'J40-J47', 'J45_J46', 'J_OTH', 'K',\n",
       "       'K25-K28', 'K70_K73_K74', 'K72-K75', 'K_OTH', 'L', 'M', 'M_OTH',\n",
       "       'N', 'N00-N29', 'N_OTH', 'O', 'P', 'Q', 'R', 'R95', 'R96-R99',\n",
       "       'RHEUM_ARTHRO', 'R_OTH', 'TOXICO', 'V01-Y89', 'V01-Y89_OTH',\n",
       "       'V_Y85', 'W00-W19', 'W65-W74', 'X40-X49', 'X60-X84_Y870',\n",
       "       'X85-Y09_Y871', 'Y10-Y34_Y872'], dtype=object)"
      ]
     },
     "execution_count": 13,
     "metadata": {},
     "output_type": "execute_result"
    }
   ],
   "source": [
    "euro_01.icd10.unique()"
   ]
  },
  {
   "cell_type": "code",
   "execution_count": 14,
   "id": "9c04682f",
   "metadata": {},
   "outputs": [
    {
     "name": "stderr",
     "output_type": "stream",
     "text": [
      "<ipython-input-14-c8388e9bdf26>:1: UserWarning: This pattern has match groups. To actually get the groups, use str.extract.\n",
      "  euro_01 = euro_01[euro_01[\"icd10\"].str.contains(r'(^F)')]\n"
     ]
    }
   ],
   "source": [
    "euro_01 = euro_01[euro_01[\"icd10\"].str.contains(r'(^F)')]"
   ]
  },
  {
   "cell_type": "code",
   "execution_count": 15,
   "id": "d2ab3d9f",
   "metadata": {},
   "outputs": [],
   "source": [
    "#[TOT_IN] All deaths reported in the country \n",
    "# [TOT_RESID] All deaths of residents in or outside their home country\n",
    "#only tot_in"
   ]
  },
  {
   "cell_type": "code",
   "execution_count": 16,
   "id": "a01a9b59",
   "metadata": {},
   "outputs": [],
   "source": [
    "euro_01 = euro_01[euro_01['resid'] == 'TOT_IN']"
   ]
  },
  {
   "cell_type": "code",
   "execution_count": 17,
   "id": "dc533505",
   "metadata": {},
   "outputs": [],
   "source": [
    "euro_01.drop('resid',axis=1,inplace=True)"
   ]
  },
  {
   "cell_type": "code",
   "execution_count": 18,
   "id": "1658c0b6",
   "metadata": {},
   "outputs": [
    {
     "data": {
      "text/plain": [
       "array(['F', 'M', 'T'], dtype=object)"
      ]
     },
     "execution_count": 18,
     "metadata": {},
     "output_type": "execute_result"
    }
   ],
   "source": [
    "euro_01.sex.unique() #drop T"
   ]
  },
  {
   "cell_type": "code",
   "execution_count": 19,
   "id": "7a3ed369",
   "metadata": {},
   "outputs": [
    {
     "data": {
      "text/plain": [
       "array(['TOTAL', 'Y1-4', 'Y10-14', 'Y15-19', 'Y15-24', 'Y20-24', 'Y25-29',\n",
       "       'Y30-34', 'Y35-39', 'Y40-44', 'Y45-49', 'Y5-9', 'Y50-54', 'Y55-59',\n",
       "       'Y60-64', 'Y65-69', 'Y70-74', 'Y75-79', 'Y80-84', 'Y85-89',\n",
       "       'Y90-94', 'Y_GE65', 'Y_GE85', 'Y_GE95', 'Y_LT1', 'Y_LT15',\n",
       "       'Y_LT25', 'Y_LT65'], dtype=object)"
      ]
     },
     "execution_count": 19,
     "metadata": {},
     "output_type": "execute_result"
    }
   ],
   "source": [
    "euro_01.age.unique() #drop TOTAL"
   ]
  },
  {
   "cell_type": "code",
   "execution_count": 20,
   "id": "0864d3c7",
   "metadata": {},
   "outputs": [
    {
     "data": {
      "text/html": [
       "<div>\n",
       "<style scoped>\n",
       "    .dataframe tbody tr th:only-of-type {\n",
       "        vertical-align: middle;\n",
       "    }\n",
       "\n",
       "    .dataframe tbody tr th {\n",
       "        vertical-align: top;\n",
       "    }\n",
       "\n",
       "    .dataframe thead th {\n",
       "        text-align: right;\n",
       "    }\n",
       "</style>\n",
       "<table border=\"1\" class=\"dataframe\">\n",
       "  <thead>\n",
       "    <tr style=\"text-align: right;\">\n",
       "      <th></th>\n",
       "      <th>sex</th>\n",
       "      <th>age</th>\n",
       "      <th>icd10</th>\n",
       "      <th>c_code</th>\n",
       "      <th>2019</th>\n",
       "      <th>2018</th>\n",
       "      <th>2017</th>\n",
       "      <th>2016</th>\n",
       "      <th>2015</th>\n",
       "      <th>2014</th>\n",
       "      <th>2013</th>\n",
       "      <th>2012</th>\n",
       "      <th>2011</th>\n",
       "    </tr>\n",
       "  </thead>\n",
       "  <tbody>\n",
       "    <tr>\n",
       "      <th>243344</th>\n",
       "      <td>M</td>\n",
       "      <td>Y40-44</td>\n",
       "      <td>F10</td>\n",
       "      <td>TR</td>\n",
       "      <td>:</td>\n",
       "      <td>0</td>\n",
       "      <td>2</td>\n",
       "      <td>0</td>\n",
       "      <td>3</td>\n",
       "      <td>4</td>\n",
       "      <td>2</td>\n",
       "      <td>4</td>\n",
       "      <td>5</td>\n",
       "    </tr>\n",
       "    <tr>\n",
       "      <th>106753</th>\n",
       "      <td>F</td>\n",
       "      <td>Y70-74</td>\n",
       "      <td>F</td>\n",
       "      <td>NO</td>\n",
       "      <td>:</td>\n",
       "      <td>53</td>\n",
       "      <td>54</td>\n",
       "      <td>36</td>\n",
       "      <td>36</td>\n",
       "      <td>33</td>\n",
       "      <td>34</td>\n",
       "      <td>41</td>\n",
       "      <td>34</td>\n",
       "    </tr>\n",
       "    <tr>\n",
       "      <th>210778</th>\n",
       "      <td>M</td>\n",
       "      <td>Y15-24</td>\n",
       "      <td>F01_F03</td>\n",
       "      <td>NO</td>\n",
       "      <td>:</td>\n",
       "      <td>0</td>\n",
       "      <td>0</td>\n",
       "      <td>0</td>\n",
       "      <td>0</td>\n",
       "      <td>0</td>\n",
       "      <td>0</td>\n",
       "      <td>0</td>\n",
       "      <td>0</td>\n",
       "    </tr>\n",
       "    <tr>\n",
       "      <th>80962</th>\n",
       "      <td>F</td>\n",
       "      <td>Y50-54</td>\n",
       "      <td>F_OTH</td>\n",
       "      <td>CZ</td>\n",
       "      <td>2</td>\n",
       "      <td>0</td>\n",
       "      <td>3</td>\n",
       "      <td>1</td>\n",
       "      <td>1</td>\n",
       "      <td>0</td>\n",
       "      <td>0</td>\n",
       "      <td>0</td>\n",
       "      <td>1</td>\n",
       "    </tr>\n",
       "    <tr>\n",
       "      <th>236825</th>\n",
       "      <td>M</td>\n",
       "      <td>Y35-39</td>\n",
       "      <td>F10</td>\n",
       "      <td>FI</td>\n",
       "      <td>4</td>\n",
       "      <td>2</td>\n",
       "      <td>4</td>\n",
       "      <td>1</td>\n",
       "      <td>3</td>\n",
       "      <td>2</td>\n",
       "      <td>3</td>\n",
       "      <td>1</td>\n",
       "      <td>2</td>\n",
       "    </tr>\n",
       "    <tr>\n",
       "      <th>152286</th>\n",
       "      <td>F</td>\n",
       "      <td>Y_GE95</td>\n",
       "      <td>F01_F03</td>\n",
       "      <td>EE</td>\n",
       "      <td>6</td>\n",
       "      <td>6</td>\n",
       "      <td>4</td>\n",
       "      <td>1</td>\n",
       "      <td>1</td>\n",
       "      <td>3</td>\n",
       "      <td>1</td>\n",
       "      <td>1</td>\n",
       "      <td>2</td>\n",
       "    </tr>\n",
       "    <tr>\n",
       "      <th>431668</th>\n",
       "      <td>T</td>\n",
       "      <td>Y45-49</td>\n",
       "      <td>F01_F03</td>\n",
       "      <td>IS</td>\n",
       "      <td>:</td>\n",
       "      <td>0</td>\n",
       "      <td>0</td>\n",
       "      <td>0</td>\n",
       "      <td>0</td>\n",
       "      <td>0</td>\n",
       "      <td>0</td>\n",
       "      <td>0</td>\n",
       "      <td>0</td>\n",
       "    </tr>\n",
       "    <tr>\n",
       "      <th>223846</th>\n",
       "      <td>M</td>\n",
       "      <td>Y25-29</td>\n",
       "      <td>F10</td>\n",
       "      <td>PL</td>\n",
       "      <td>25</td>\n",
       "      <td>33</td>\n",
       "      <td>25</td>\n",
       "      <td>21</td>\n",
       "      <td>17</td>\n",
       "      <td>12</td>\n",
       "      <td>3</td>\n",
       "      <td>9</td>\n",
       "      <td>22</td>\n",
       "    </tr>\n",
       "    <tr>\n",
       "      <th>28847</th>\n",
       "      <td>F</td>\n",
       "      <td>Y15-24</td>\n",
       "      <td>F01_F03</td>\n",
       "      <td>EU28</td>\n",
       "      <td>:</td>\n",
       "      <td>:</td>\n",
       "      <td>1</td>\n",
       "      <td>0</td>\n",
       "      <td>1</td>\n",
       "      <td>0</td>\n",
       "      <td>1</td>\n",
       "      <td>2</td>\n",
       "      <td>0</td>\n",
       "    </tr>\n",
       "    <tr>\n",
       "      <th>288739</th>\n",
       "      <td>M</td>\n",
       "      <td>Y70-74</td>\n",
       "      <td>F01_F03</td>\n",
       "      <td>LV</td>\n",
       "      <td>:</td>\n",
       "      <td>15</td>\n",
       "      <td>10</td>\n",
       "      <td>16</td>\n",
       "      <td>3</td>\n",
       "      <td>8</td>\n",
       "      <td>4</td>\n",
       "      <td>5</td>\n",
       "      <td>8</td>\n",
       "    </tr>\n",
       "  </tbody>\n",
       "</table>\n",
       "</div>"
      ],
      "text/plain": [
       "       sex     age    icd10 c_code 2019 2018 2017 2016 2015 2014 2013 2012  \\\n",
       "243344   M  Y40-44      F10     TR   :    0    2    0    3    4    2    4    \n",
       "106753   F  Y70-74        F     NO   :   53   54   36   36   33   34   41    \n",
       "210778   M  Y15-24  F01_F03     NO   :    0    0    0    0    0    0    0    \n",
       "80962    F  Y50-54    F_OTH     CZ   2    0    3    1    1    0    0    0    \n",
       "236825   M  Y35-39      F10     FI   4    2    4    1    3    2    3    1    \n",
       "152286   F  Y_GE95  F01_F03     EE   6    6    4    1    1    3    1    1    \n",
       "431668   T  Y45-49  F01_F03     IS   :    0    0    0    0    0    0    0    \n",
       "223846   M  Y25-29      F10     PL  25   33   25   21   17   12    3    9    \n",
       "28847    F  Y15-24  F01_F03   EU28   :    :    1    0    1    0    1    2    \n",
       "288739   M  Y70-74  F01_F03     LV   :   15   10   16    3    8    4    5    \n",
       "\n",
       "       2011  \n",
       "243344   5   \n",
       "106753  34   \n",
       "210778   0   \n",
       "80962    1   \n",
       "236825   2   \n",
       "152286   2   \n",
       "431668   0   \n",
       "223846  22   \n",
       "28847    0   \n",
       "288739   8   "
      ]
     },
     "execution_count": 20,
     "metadata": {},
     "output_type": "execute_result"
    }
   ],
   "source": [
    "euro_01.sample(10)"
   ]
  },
  {
   "cell_type": "code",
   "execution_count": 21,
   "id": "2d19f7ba",
   "metadata": {},
   "outputs": [],
   "source": [
    "euro_01 = euro_01[euro_01['age'] != 'TOTAL']"
   ]
  },
  {
   "cell_type": "code",
   "execution_count": 22,
   "id": "a0b1cd18",
   "metadata": {},
   "outputs": [],
   "source": [
    "euro_01 = euro_01[euro_01['sex'] != 'T']"
   ]
  },
  {
   "cell_type": "code",
   "execution_count": 23,
   "id": "78f26e96",
   "metadata": {},
   "outputs": [
    {
     "data": {
      "text/plain": [
       "array(['F', 'F01_F03', 'F10', 'F_OTH'], dtype=object)"
      ]
     },
     "execution_count": 23,
     "metadata": {},
     "output_type": "execute_result"
    }
   ],
   "source": [
    "euro_01.icd10.unique()"
   ]
  },
  {
   "cell_type": "code",
   "execution_count": 24,
   "id": "97cdc06a",
   "metadata": {},
   "outputs": [],
   "source": [
    "# [F] Mental and behavioural disorders (F00-F99)\n",
    "# [F_OTH] Other mental and behavioural disorders (remainder of F00-F99)\n",
    "#  [F01_F03] Dementia\n",
    "# [F10] Mental and behavioural disorders due to use of alcohol\n",
    "F_dic = {\"F\":\"Mental and behavioural disorders\",\"F10\":'Mental and behavioural disorders due to use of alcohol','F01_F03':'Dementia',\n",
    "            'F10':'Mental and behavioural disorders due to use of alcohol','F_OTH':'Other mental and behavioural disorders'}"
   ]
  },
  {
   "cell_type": "code",
   "execution_count": 25,
   "id": "cc220169",
   "metadata": {},
   "outputs": [],
   "source": [
    "euro_01[\"diag\"] = euro_01.icd10.replace(F_dic)"
   ]
  },
  {
   "cell_type": "code",
   "execution_count": 26,
   "id": "52689ada",
   "metadata": {},
   "outputs": [
    {
     "data": {
      "text/plain": [
       "9271      AT\n",
       "9272      BE\n",
       "9273      BG\n",
       "9274      CH\n",
       "9275      CY\n",
       "          ..\n",
       "360360    SE\n",
       "360361    SI\n",
       "360362    SK\n",
       "360363    TR\n",
       "360364    UK\n",
       "Name: c_code, Length: 7992, dtype: object"
      ]
     },
     "execution_count": 26,
     "metadata": {},
     "output_type": "execute_result"
    }
   ],
   "source": [
    "euro_01.c_code"
   ]
  },
  {
   "cell_type": "code",
   "execution_count": 27,
   "id": "8039357f",
   "metadata": {},
   "outputs": [
    {
     "data": {
      "text/plain": [
       "array(['AT', 'BE', 'BG', 'CH', 'CY', 'CZ', 'DE', 'DK', 'EE', 'EL', 'ES',\n",
       "       'EU27_2020', 'EU28', 'FI', 'FR', 'FX', 'HR', 'HU', 'IE', 'IS',\n",
       "       'IT', 'LI', 'LT', 'LU', 'LV', 'MT', 'NL', 'NO', 'PL', 'PT', 'RO',\n",
       "       'RS', 'SE', 'SI', 'SK', 'TR', 'UK'], dtype=object)"
      ]
     },
     "execution_count": 27,
     "metadata": {},
     "output_type": "execute_result"
    }
   ],
   "source": [
    "euro_01.c_code.unique()"
   ]
  },
  {
   "cell_type": "code",
   "execution_count": 28,
   "id": "329dcc87",
   "metadata": {},
   "outputs": [],
   "source": [
    "eurozon = ['EU27_2020', 'EU28']"
   ]
  },
  {
   "cell_type": "code",
   "execution_count": 29,
   "id": "1d272878",
   "metadata": {},
   "outputs": [],
   "source": [
    "euro_01 = euro_01[euro_01['c_code'].isin(eurozon) == False]"
   ]
  },
  {
   "cell_type": "code",
   "execution_count": 30,
   "id": "f8d610b3",
   "metadata": {},
   "outputs": [],
   "source": [
    "#FX = France, metropolitan\n",
    "countries_dic = {\"AT\":\"Austria\",\"BE\":\"Belgium\",\"BG\":\"Bulgaria\",\"HR\":\"Croatia\",\"CY\":\"Cyprus\",\"CZ\":\"Czech Republic\",\"DK\":\"Denmark\",\n",
    "\"EE\":\"Estonia\",\"FI\":\"Finland\",\"FR\":\"France\",\"FX\":\"France\",\"DE\":\"Germany\",\"EL\":\"Greece\",\"HU\":\"Hungary\",\"IS\":\"Iceland\",\"IE\":\"Ireland, Republic of (EIRE)\",\n",
    "\"IT\":\"Italy\",\"LV\":\"Latvia\",\"LT\":\"Lithuania\",\"LI\":\"Liechtenstein\",\"LU\":\"Luxembourg\",\"MT\":\"Malta\",\"NL\":\"Netherlands\",\"NO\":\"Norway\",\"PL\":\"Poland\",\n",
    "\"PT\":\"Portugal\",\"RO\":\"Romania\",\"SK\":\"Slovakia\",\"SI\":\"Slovenia\",\"ES\":\"Spain\",\"RS\":\"Serbia\",\"SE\":\"Sweden\",\"CH\":\"Switzerland\",\"TR\":\"Turkey\",\"UK\":\"United Kingdom\"}"
   ]
  },
  {
   "cell_type": "code",
   "execution_count": 31,
   "id": "628fd1e2",
   "metadata": {},
   "outputs": [],
   "source": [
    "euro_01[\"country\"] = euro_01['c_code'].replace(countries_dic)"
   ]
  },
  {
   "cell_type": "code",
   "execution_count": 32,
   "id": "88101ad1",
   "metadata": {},
   "outputs": [
    {
     "data": {
      "text/plain": [
       "array(['Austria', 'Belgium', 'Bulgaria', 'Switzerland', 'Cyprus',\n",
       "       'Czech Republic', 'Germany', 'Denmark', 'Estonia', 'Greece',\n",
       "       'Spain', 'Finland', 'France', 'Croatia', 'Hungary',\n",
       "       'Ireland, Republic of (EIRE)', 'Iceland', 'Italy', 'Liechtenstein',\n",
       "       'Lithuania', 'Luxembourg', 'Latvia', 'Malta', 'Netherlands',\n",
       "       'Norway', 'Poland', 'Portugal', 'Romania', 'Serbia', 'Sweden',\n",
       "       'Slovenia', 'Slovakia', 'Turkey', 'United Kingdom'], dtype=object)"
      ]
     },
     "execution_count": 32,
     "metadata": {},
     "output_type": "execute_result"
    }
   ],
   "source": [
    "euro_01.country.unique()"
   ]
  },
  {
   "cell_type": "code",
   "execution_count": 33,
   "id": "55e1a3c1",
   "metadata": {},
   "outputs": [
    {
     "data": {
      "text/html": [
       "<div>\n",
       "<style scoped>\n",
       "    .dataframe tbody tr th:only-of-type {\n",
       "        vertical-align: middle;\n",
       "    }\n",
       "\n",
       "    .dataframe tbody tr th {\n",
       "        vertical-align: top;\n",
       "    }\n",
       "\n",
       "    .dataframe thead th {\n",
       "        text-align: right;\n",
       "    }\n",
       "</style>\n",
       "<table border=\"1\" class=\"dataframe\">\n",
       "  <thead>\n",
       "    <tr style=\"text-align: right;\">\n",
       "      <th></th>\n",
       "      <th>sex</th>\n",
       "      <th>age</th>\n",
       "      <th>icd10</th>\n",
       "      <th>c_code</th>\n",
       "      <th>2019</th>\n",
       "      <th>2018</th>\n",
       "      <th>2017</th>\n",
       "      <th>2016</th>\n",
       "      <th>2015</th>\n",
       "      <th>2014</th>\n",
       "      <th>2013</th>\n",
       "      <th>2012</th>\n",
       "      <th>2011</th>\n",
       "      <th>diag</th>\n",
       "      <th>country</th>\n",
       "    </tr>\n",
       "  </thead>\n",
       "  <tbody>\n",
       "    <tr>\n",
       "      <th>152285</th>\n",
       "      <td>F</td>\n",
       "      <td>Y_GE95</td>\n",
       "      <td>F01_F03</td>\n",
       "      <td>DK</td>\n",
       "      <td>:</td>\n",
       "      <td>350</td>\n",
       "      <td>283</td>\n",
       "      <td>280</td>\n",
       "      <td>249</td>\n",
       "      <td>251</td>\n",
       "      <td>241</td>\n",
       "      <td>225</td>\n",
       "      <td>201</td>\n",
       "      <td>Dementia</td>\n",
       "      <td>Denmark</td>\n",
       "    </tr>\n",
       "    <tr>\n",
       "      <th>54996</th>\n",
       "      <td>F</td>\n",
       "      <td>Y35-39</td>\n",
       "      <td>F_OTH</td>\n",
       "      <td>NO</td>\n",
       "      <td>:</td>\n",
       "      <td>0</td>\n",
       "      <td>0</td>\n",
       "      <td>1</td>\n",
       "      <td>1</td>\n",
       "      <td>1</td>\n",
       "      <td>2</td>\n",
       "      <td>0</td>\n",
       "      <td>0</td>\n",
       "      <td>Other mental and behavioural disorders</td>\n",
       "      <td>Norway</td>\n",
       "    </tr>\n",
       "    <tr>\n",
       "      <th>191264</th>\n",
       "      <td>M</td>\n",
       "      <td>Y1-4</td>\n",
       "      <td>F01_F03</td>\n",
       "      <td>CY</td>\n",
       "      <td>:</td>\n",
       "      <td>: c</td>\n",
       "      <td>: c</td>\n",
       "      <td>: c</td>\n",
       "      <td>: c</td>\n",
       "      <td>: c</td>\n",
       "      <td>: c</td>\n",
       "      <td>: c</td>\n",
       "      <td>: c</td>\n",
       "      <td>Dementia</td>\n",
       "      <td>Cyprus</td>\n",
       "    </tr>\n",
       "    <tr>\n",
       "      <th>126436</th>\n",
       "      <td>F</td>\n",
       "      <td>Y85-89</td>\n",
       "      <td>F_OTH</td>\n",
       "      <td>AT</td>\n",
       "      <td>3</td>\n",
       "      <td>0</td>\n",
       "      <td>0</td>\n",
       "      <td>2</td>\n",
       "      <td>0</td>\n",
       "      <td>1</td>\n",
       "      <td>1</td>\n",
       "      <td>1</td>\n",
       "      <td>0</td>\n",
       "      <td>Other mental and behavioural disorders</td>\n",
       "      <td>Austria</td>\n",
       "    </tr>\n",
       "    <tr>\n",
       "      <th>295315</th>\n",
       "      <td>M</td>\n",
       "      <td>Y75-79</td>\n",
       "      <td>F10</td>\n",
       "      <td>RO</td>\n",
       "      <td>10</td>\n",
       "      <td>13</td>\n",
       "      <td>15</td>\n",
       "      <td>12</td>\n",
       "      <td>12</td>\n",
       "      <td>18</td>\n",
       "      <td>5</td>\n",
       "      <td>2</td>\n",
       "      <td>3</td>\n",
       "      <td>Mental and behavioural disorders due to use of...</td>\n",
       "      <td>Romania</td>\n",
       "    </tr>\n",
       "  </tbody>\n",
       "</table>\n",
       "</div>"
      ],
      "text/plain": [
       "       sex     age    icd10 c_code 2019  2018  2017  2016  2015  2014  2013  \\\n",
       "152285   F  Y_GE95  F01_F03     DK   :   350   283   280   249   251   241    \n",
       "54996    F  Y35-39    F_OTH     NO   :     0     0     1     1     1     2    \n",
       "191264   M    Y1-4  F01_F03     CY   :    : c   : c   : c   : c   : c   : c   \n",
       "126436   F  Y85-89    F_OTH     AT   3     0     0     2     0     1     1    \n",
       "295315   M  Y75-79      F10     RO  10    13    15    12    12    18     5    \n",
       "\n",
       "        2012  2011                                               diag  country  \n",
       "152285  225   201                                            Dementia  Denmark  \n",
       "54996     0     0              Other mental and behavioural disorders   Norway  \n",
       "191264   : c   : c                                           Dementia   Cyprus  \n",
       "126436    1     0              Other mental and behavioural disorders  Austria  \n",
       "295315    2     3   Mental and behavioural disorders due to use of...  Romania  "
      ]
     },
     "execution_count": 33,
     "metadata": {},
     "output_type": "execute_result"
    }
   ],
   "source": [
    "euro_01.sample(5)"
   ]
  },
  {
   "cell_type": "code",
   "execution_count": 34,
   "id": "49203cfa",
   "metadata": {},
   "outputs": [],
   "source": [
    "years = euro_01.columns[4:13]"
   ]
  },
  {
   "cell_type": "code",
   "execution_count": 35,
   "id": "ac8928fa",
   "metadata": {},
   "outputs": [
    {
     "data": {
      "text/plain": [
       "Index(['2019', '2018', '2017', '2016', '2015', '2014', '2013', '2012', '2011'], dtype='object')"
      ]
     },
     "execution_count": 35,
     "metadata": {},
     "output_type": "execute_result"
    }
   ],
   "source": [
    "years"
   ]
  },
  {
   "cell_type": "code",
   "execution_count": 36,
   "id": "7c5e837f",
   "metadata": {},
   "outputs": [],
   "source": [
    "for y in years:\n",
    "    euro_01[y]=euro_01[y].str.strip()"
   ]
  },
  {
   "cell_type": "code",
   "execution_count": 37,
   "id": "264871c0",
   "metadata": {},
   "outputs": [
    {
     "name": "stdout",
     "output_type": "stream",
     "text": [
      "<class 'pandas.core.frame.DataFrame'>\n",
      "Int64Index: 7560 entries, 9271 to 360364\n",
      "Data columns (total 15 columns):\n",
      " #   Column   Non-Null Count  Dtype \n",
      "---  ------   --------------  ----- \n",
      " 0   sex      7560 non-null   object\n",
      " 1   age      7560 non-null   object\n",
      " 2   icd10    7560 non-null   object\n",
      " 3   c_code   7560 non-null   object\n",
      " 4   2019     7560 non-null   object\n",
      " 5   2018     7560 non-null   object\n",
      " 6   2017     7560 non-null   object\n",
      " 7   2016     7560 non-null   object\n",
      " 8   2015     7560 non-null   object\n",
      " 9   2014     7560 non-null   object\n",
      " 10  2013     7560 non-null   object\n",
      " 11  2012     7560 non-null   object\n",
      " 12  2011     7560 non-null   object\n",
      " 13  diag     7560 non-null   object\n",
      " 14  country  7560 non-null   object\n",
      "dtypes: object(15)\n",
      "memory usage: 945.0+ KB\n"
     ]
    }
   ],
   "source": [
    "euro_01.info()"
   ]
  },
  {
   "cell_type": "code",
   "execution_count": 38,
   "id": "b88d69db",
   "metadata": {},
   "outputs": [],
   "source": [
    "dropeo_desconocido = euro_01[(euro_01[\"2017\"] == ': c') | (euro_01[\"2016\"] == ': c')].index"
   ]
  },
  {
   "cell_type": "code",
   "execution_count": 39,
   "id": "6dc14e8e",
   "metadata": {},
   "outputs": [
    {
     "data": {
      "text/plain": [
       "(7560, 15)"
      ]
     },
     "execution_count": 39,
     "metadata": {},
     "output_type": "execute_result"
    }
   ],
   "source": [
    "euro_01.shape"
   ]
  },
  {
   "cell_type": "code",
   "execution_count": 40,
   "id": "67778816",
   "metadata": {},
   "outputs": [],
   "source": [
    "euro_01.drop(dropeo_desconocido,inplace=True)"
   ]
  },
  {
   "cell_type": "code",
   "execution_count": 41,
   "id": "b22670d2",
   "metadata": {},
   "outputs": [
    {
     "data": {
      "text/html": [
       "<div>\n",
       "<style scoped>\n",
       "    .dataframe tbody tr th:only-of-type {\n",
       "        vertical-align: middle;\n",
       "    }\n",
       "\n",
       "    .dataframe tbody tr th {\n",
       "        vertical-align: top;\n",
       "    }\n",
       "\n",
       "    .dataframe thead th {\n",
       "        text-align: right;\n",
       "    }\n",
       "</style>\n",
       "<table border=\"1\" class=\"dataframe\">\n",
       "  <thead>\n",
       "    <tr style=\"text-align: right;\">\n",
       "      <th></th>\n",
       "      <th>sex</th>\n",
       "      <th>age</th>\n",
       "      <th>icd10</th>\n",
       "      <th>c_code</th>\n",
       "      <th>2019</th>\n",
       "      <th>2018</th>\n",
       "      <th>2017</th>\n",
       "      <th>2016</th>\n",
       "      <th>2015</th>\n",
       "      <th>2014</th>\n",
       "      <th>2013</th>\n",
       "      <th>2012</th>\n",
       "      <th>2011</th>\n",
       "      <th>diag</th>\n",
       "      <th>country</th>\n",
       "    </tr>\n",
       "  </thead>\n",
       "  <tbody>\n",
       "    <tr>\n",
       "      <th>9272</th>\n",
       "      <td>F</td>\n",
       "      <td>Y1-4</td>\n",
       "      <td>F</td>\n",
       "      <td>BE</td>\n",
       "      <td>:</td>\n",
       "      <td>0</td>\n",
       "      <td>0</td>\n",
       "      <td>0</td>\n",
       "      <td>1</td>\n",
       "      <td>0</td>\n",
       "      <td>0</td>\n",
       "      <td>0</td>\n",
       "      <td>0</td>\n",
       "      <td>Mental and behavioural disorders</td>\n",
       "      <td>Belgium</td>\n",
       "    </tr>\n",
       "    <tr>\n",
       "      <th>9274</th>\n",
       "      <td>F</td>\n",
       "      <td>Y1-4</td>\n",
       "      <td>F</td>\n",
       "      <td>CH</td>\n",
       "      <td>:</td>\n",
       "      <td>0</td>\n",
       "      <td>0</td>\n",
       "      <td>0</td>\n",
       "      <td>0</td>\n",
       "      <td>0</td>\n",
       "      <td>0</td>\n",
       "      <td>0</td>\n",
       "      <td>1</td>\n",
       "      <td>Mental and behavioural disorders</td>\n",
       "      <td>Switzerland</td>\n",
       "    </tr>\n",
       "    <tr>\n",
       "      <th>9278</th>\n",
       "      <td>F</td>\n",
       "      <td>Y1-4</td>\n",
       "      <td>F</td>\n",
       "      <td>DK</td>\n",
       "      <td>:</td>\n",
       "      <td>0</td>\n",
       "      <td>0</td>\n",
       "      <td>0</td>\n",
       "      <td>0</td>\n",
       "      <td>0</td>\n",
       "      <td>0</td>\n",
       "      <td>0</td>\n",
       "      <td>0</td>\n",
       "      <td>Mental and behavioural disorders</td>\n",
       "      <td>Denmark</td>\n",
       "    </tr>\n",
       "    <tr>\n",
       "      <th>9285</th>\n",
       "      <td>F</td>\n",
       "      <td>Y1-4</td>\n",
       "      <td>F</td>\n",
       "      <td>FR</td>\n",
       "      <td>:</td>\n",
       "      <td>:</td>\n",
       "      <td>0</td>\n",
       "      <td>0</td>\n",
       "      <td>0</td>\n",
       "      <td>0</td>\n",
       "      <td>0</td>\n",
       "      <td>1</td>\n",
       "      <td>0</td>\n",
       "      <td>Mental and behavioural disorders</td>\n",
       "      <td>France</td>\n",
       "    </tr>\n",
       "    <tr>\n",
       "      <th>9286</th>\n",
       "      <td>F</td>\n",
       "      <td>Y1-4</td>\n",
       "      <td>F</td>\n",
       "      <td>FX</td>\n",
       "      <td>:</td>\n",
       "      <td>:</td>\n",
       "      <td>0</td>\n",
       "      <td>0</td>\n",
       "      <td>0</td>\n",
       "      <td>0</td>\n",
       "      <td>0</td>\n",
       "      <td>1</td>\n",
       "      <td>0</td>\n",
       "      <td>Mental and behavioural disorders</td>\n",
       "      <td>France</td>\n",
       "    </tr>\n",
       "    <tr>\n",
       "      <th>...</th>\n",
       "      <td>...</td>\n",
       "      <td>...</td>\n",
       "      <td>...</td>\n",
       "      <td>...</td>\n",
       "      <td>...</td>\n",
       "      <td>...</td>\n",
       "      <td>...</td>\n",
       "      <td>...</td>\n",
       "      <td>...</td>\n",
       "      <td>...</td>\n",
       "      <td>...</td>\n",
       "      <td>...</td>\n",
       "      <td>...</td>\n",
       "      <td>...</td>\n",
       "      <td>...</td>\n",
       "    </tr>\n",
       "    <tr>\n",
       "      <th>360355</th>\n",
       "      <td>M</td>\n",
       "      <td>Y_LT65</td>\n",
       "      <td>F_OTH</td>\n",
       "      <td>NO</td>\n",
       "      <td>:</td>\n",
       "      <td>11</td>\n",
       "      <td>14</td>\n",
       "      <td>6</td>\n",
       "      <td>11</td>\n",
       "      <td>6</td>\n",
       "      <td>7</td>\n",
       "      <td>14</td>\n",
       "      <td>12</td>\n",
       "      <td>Other mental and behavioural disorders</td>\n",
       "      <td>Norway</td>\n",
       "    </tr>\n",
       "    <tr>\n",
       "      <th>360357</th>\n",
       "      <td>M</td>\n",
       "      <td>Y_LT65</td>\n",
       "      <td>F_OTH</td>\n",
       "      <td>PT</td>\n",
       "      <td>:</td>\n",
       "      <td>21</td>\n",
       "      <td>16</td>\n",
       "      <td>22</td>\n",
       "      <td>14</td>\n",
       "      <td>14</td>\n",
       "      <td>29</td>\n",
       "      <td>22</td>\n",
       "      <td>24</td>\n",
       "      <td>Other mental and behavioural disorders</td>\n",
       "      <td>Portugal</td>\n",
       "    </tr>\n",
       "    <tr>\n",
       "      <th>360360</th>\n",
       "      <td>M</td>\n",
       "      <td>Y_LT65</td>\n",
       "      <td>F_OTH</td>\n",
       "      <td>SE</td>\n",
       "      <td>:</td>\n",
       "      <td>9</td>\n",
       "      <td>12</td>\n",
       "      <td>14</td>\n",
       "      <td>12</td>\n",
       "      <td>7</td>\n",
       "      <td>13</td>\n",
       "      <td>14</td>\n",
       "      <td>10</td>\n",
       "      <td>Other mental and behavioural disorders</td>\n",
       "      <td>Sweden</td>\n",
       "    </tr>\n",
       "    <tr>\n",
       "      <th>360363</th>\n",
       "      <td>M</td>\n",
       "      <td>Y_LT65</td>\n",
       "      <td>F_OTH</td>\n",
       "      <td>TR</td>\n",
       "      <td>:</td>\n",
       "      <td>39</td>\n",
       "      <td>49</td>\n",
       "      <td>41</td>\n",
       "      <td>59</td>\n",
       "      <td>27</td>\n",
       "      <td>44</td>\n",
       "      <td>98</td>\n",
       "      <td>81</td>\n",
       "      <td>Other mental and behavioural disorders</td>\n",
       "      <td>Turkey</td>\n",
       "    </tr>\n",
       "    <tr>\n",
       "      <th>360364</th>\n",
       "      <td>M</td>\n",
       "      <td>Y_LT65</td>\n",
       "      <td>F_OTH</td>\n",
       "      <td>UK</td>\n",
       "      <td>:</td>\n",
       "      <td>22</td>\n",
       "      <td>25</td>\n",
       "      <td>24</td>\n",
       "      <td>21</td>\n",
       "      <td>15</td>\n",
       "      <td>22</td>\n",
       "      <td>21</td>\n",
       "      <td>20</td>\n",
       "      <td>Other mental and behavioural disorders</td>\n",
       "      <td>United Kingdom</td>\n",
       "    </tr>\n",
       "  </tbody>\n",
       "</table>\n",
       "<p>3260 rows × 15 columns</p>\n",
       "</div>"
      ],
      "text/plain": [
       "       sex     age  icd10 c_code 2019 2018 2017 2016 2015 2014 2013 2012 2011  \\\n",
       "9272     F    Y1-4      F     BE    :    0    0    0    1    0    0    0    0   \n",
       "9274     F    Y1-4      F     CH    :    0    0    0    0    0    0    0    1   \n",
       "9278     F    Y1-4      F     DK    :    0    0    0    0    0    0    0    0   \n",
       "9285     F    Y1-4      F     FR    :    :    0    0    0    0    0    1    0   \n",
       "9286     F    Y1-4      F     FX    :    :    0    0    0    0    0    1    0   \n",
       "...     ..     ...    ...    ...  ...  ...  ...  ...  ...  ...  ...  ...  ...   \n",
       "360355   M  Y_LT65  F_OTH     NO    :   11   14    6   11    6    7   14   12   \n",
       "360357   M  Y_LT65  F_OTH     PT    :   21   16   22   14   14   29   22   24   \n",
       "360360   M  Y_LT65  F_OTH     SE    :    9   12   14   12    7   13   14   10   \n",
       "360363   M  Y_LT65  F_OTH     TR    :   39   49   41   59   27   44   98   81   \n",
       "360364   M  Y_LT65  F_OTH     UK    :   22   25   24   21   15   22   21   20   \n",
       "\n",
       "                                          diag         country  \n",
       "9272          Mental and behavioural disorders         Belgium  \n",
       "9274          Mental and behavioural disorders     Switzerland  \n",
       "9278          Mental and behavioural disorders         Denmark  \n",
       "9285          Mental and behavioural disorders          France  \n",
       "9286          Mental and behavioural disorders          France  \n",
       "...                                        ...             ...  \n",
       "360355  Other mental and behavioural disorders          Norway  \n",
       "360357  Other mental and behavioural disorders        Portugal  \n",
       "360360  Other mental and behavioural disorders          Sweden  \n",
       "360363  Other mental and behavioural disorders          Turkey  \n",
       "360364  Other mental and behavioural disorders  United Kingdom  \n",
       "\n",
       "[3260 rows x 15 columns]"
      ]
     },
     "execution_count": 41,
     "metadata": {},
     "output_type": "execute_result"
    }
   ],
   "source": [
    "euro_01[euro_01[\"2019\"] == \":\"]"
   ]
  },
  {
   "cell_type": "code",
   "execution_count": 42,
   "id": "3a9c8032",
   "metadata": {},
   "outputs": [],
   "source": [
    "for y in years:\n",
    "    euro_01[y]=euro_01[y].replace(':','0')"
   ]
  },
  {
   "cell_type": "code",
   "execution_count": 43,
   "id": "97a5c418",
   "metadata": {},
   "outputs": [],
   "source": [
    "for y in years:\n",
    "    indexando = []\n",
    "    indexando.append(list(euro_01[euro_01[y] == ': c'].index))\n",
    "    euro_01.drop(indexando[0],inplace = True)"
   ]
  },
  {
   "cell_type": "code",
   "execution_count": 44,
   "id": "de920fe7",
   "metadata": {},
   "outputs": [
    {
     "data": {
      "text/plain": [
       "(6997, 15)"
      ]
     },
     "execution_count": 44,
     "metadata": {},
     "output_type": "execute_result"
    }
   ],
   "source": [
    "euro_01.shape"
   ]
  },
  {
   "cell_type": "code",
   "execution_count": null,
   "id": "cc2e088e",
   "metadata": {},
   "outputs": [],
   "source": []
  }
 ],
 "metadata": {
  "kernelspec": {
   "display_name": "ironhack",
   "language": "python",
   "name": "ironhack"
  },
  "language_info": {
   "codemirror_mode": {
    "name": "ipython",
    "version": 3
   },
   "file_extension": ".py",
   "mimetype": "text/x-python",
   "name": "python",
   "nbconvert_exporter": "python",
   "pygments_lexer": "ipython3",
   "version": "3.8.5"
  }
 },
 "nbformat": 4,
 "nbformat_minor": 5
}
