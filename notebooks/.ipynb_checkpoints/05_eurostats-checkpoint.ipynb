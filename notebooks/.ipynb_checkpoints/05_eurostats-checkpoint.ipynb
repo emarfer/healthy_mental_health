{
 "cells": [
  {
   "cell_type": "code",
   "execution_count": 1,
   "id": "4f77de9b",
   "metadata": {},
   "outputs": [],
   "source": [
    "import pandas as pd\n",
    "import os"
   ]
  },
  {
   "cell_type": "code",
   "execution_count": 2,
   "id": "e0c47623",
   "metadata": {},
   "outputs": [
    {
     "data": {
      "text/plain": [
       "['causes_death.tsv']"
      ]
     },
     "execution_count": 2,
     "metadata": {},
     "output_type": "execute_result"
    }
   ],
   "source": [
    "os.listdir('../data/eurostats')"
   ]
  },
  {
   "cell_type": "code",
   "execution_count": 3,
   "id": "d129dd45",
   "metadata": {},
   "outputs": [],
   "source": [
    "euro_01 = pd.read_csv('../data/eurostats/causes_death.tsv')"
   ]
  },
  {
   "cell_type": "code",
   "execution_count": 4,
   "id": "bc323280",
   "metadata": {},
   "outputs": [],
   "source": [
    "col_eutime = euro_01.columns[-1]"
   ]
  },
  {
   "cell_type": "code",
   "execution_count": 5,
   "id": "a09a9818",
   "metadata": {},
   "outputs": [],
   "source": [
    "new_col = euro_01.columns[-1].split('\\t')"
   ]
  },
  {
   "cell_type": "code",
   "execution_count": 6,
   "id": "afb329bf",
   "metadata": {},
   "outputs": [],
   "source": [
    "euro_01[new_col] = euro_01[col_eutime].str.split(\"\\t\",expand=True)"
   ]
  },
  {
   "cell_type": "code",
   "execution_count": 7,
   "id": "b5bcabe8",
   "metadata": {},
   "outputs": [
    {
     "data": {
      "text/html": [
       "<div>\n",
       "<style scoped>\n",
       "    .dataframe tbody tr th:only-of-type {\n",
       "        vertical-align: middle;\n",
       "    }\n",
       "\n",
       "    .dataframe tbody tr th {\n",
       "        vertical-align: top;\n",
       "    }\n",
       "\n",
       "    .dataframe thead th {\n",
       "        text-align: right;\n",
       "    }\n",
       "</style>\n",
       "<table border=\"1\" class=\"dataframe\">\n",
       "  <thead>\n",
       "    <tr style=\"text-align: right;\">\n",
       "      <th></th>\n",
       "      <th>unit</th>\n",
       "      <th>sex</th>\n",
       "      <th>age</th>\n",
       "      <th>icd10</th>\n",
       "      <th>resid</th>\n",
       "      <th>geo\\time\\t2019 \\t2018 \\t2017 \\t2016 \\t2015 \\t2014 \\t2013 \\t2012 \\t2011</th>\n",
       "      <th>geo\\time</th>\n",
       "      <th>2019</th>\n",
       "      <th>2018</th>\n",
       "      <th>2017</th>\n",
       "      <th>2016</th>\n",
       "      <th>2015</th>\n",
       "      <th>2014</th>\n",
       "      <th>2013</th>\n",
       "      <th>2012</th>\n",
       "      <th>2011</th>\n",
       "    </tr>\n",
       "  </thead>\n",
       "  <tbody>\n",
       "    <tr>\n",
       "      <th>62734</th>\n",
       "      <td>NR</td>\n",
       "      <td>F</td>\n",
       "      <td>Y40-44</td>\n",
       "      <td>J45_J46</td>\n",
       "      <td>TOT_IN</td>\n",
       "      <td>NO\\t: \\t0 \\t0 \\t0 \\t0 \\t0 \\t0 \\t0 \\t0</td>\n",
       "      <td>NO</td>\n",
       "      <td>:</td>\n",
       "      <td>0</td>\n",
       "      <td>0</td>\n",
       "      <td>0</td>\n",
       "      <td>0</td>\n",
       "      <td>0</td>\n",
       "      <td>0</td>\n",
       "      <td>0</td>\n",
       "      <td>0</td>\n",
       "    </tr>\n",
       "    <tr>\n",
       "      <th>85872</th>\n",
       "      <td>NR</td>\n",
       "      <td>F</td>\n",
       "      <td>Y55-59</td>\n",
       "      <td>C43</td>\n",
       "      <td>TOT_IN</td>\n",
       "      <td>LV\\t: \\t1 \\t2 \\t2 \\t5 \\t2 \\t4 \\t1 \\t5</td>\n",
       "      <td>LV</td>\n",
       "      <td>:</td>\n",
       "      <td>1</td>\n",
       "      <td>2</td>\n",
       "      <td>2</td>\n",
       "      <td>5</td>\n",
       "      <td>2</td>\n",
       "      <td>4</td>\n",
       "      <td>1</td>\n",
       "      <td>5</td>\n",
       "    </tr>\n",
       "    <tr>\n",
       "      <th>278250</th>\n",
       "      <td>NR</td>\n",
       "      <td>M</td>\n",
       "      <td>Y60-64</td>\n",
       "      <td>Q</td>\n",
       "      <td>TOT_RESID</td>\n",
       "      <td>ES\\t: \\t32 p\\t21 \\t28 \\t28 \\t38 \\t29 \\t23 \\t26</td>\n",
       "      <td>ES</td>\n",
       "      <td>:</td>\n",
       "      <td>32 p</td>\n",
       "      <td>21</td>\n",
       "      <td>28</td>\n",
       "      <td>28</td>\n",
       "      <td>38</td>\n",
       "      <td>29</td>\n",
       "      <td>23</td>\n",
       "      <td>26</td>\n",
       "    </tr>\n",
       "    <tr>\n",
       "      <th>177304</th>\n",
       "      <td>NR</td>\n",
       "      <td>F</td>\n",
       "      <td>Y_LT65</td>\n",
       "      <td>C64</td>\n",
       "      <td>TOT_RESID</td>\n",
       "      <td>LV\\t: \\t11 p\\t11 \\t8 \\t14 \\t13 \\t19 \\t12 \\t22</td>\n",
       "      <td>LV</td>\n",
       "      <td>:</td>\n",
       "      <td>11 p</td>\n",
       "      <td>11</td>\n",
       "      <td>8</td>\n",
       "      <td>14</td>\n",
       "      <td>13</td>\n",
       "      <td>19</td>\n",
       "      <td>12</td>\n",
       "      <td>22</td>\n",
       "    </tr>\n",
       "    <tr>\n",
       "      <th>541672</th>\n",
       "      <td>NR</td>\n",
       "      <td>T</td>\n",
       "      <td>Y_LT65</td>\n",
       "      <td>D00-D48</td>\n",
       "      <td>TOT_IN</td>\n",
       "      <td>EU28\\t: \\t: \\t5962 \\t5821 \\t5642 \\t5731 \\t5865...</td>\n",
       "      <td>EU28</td>\n",
       "      <td>:</td>\n",
       "      <td>:</td>\n",
       "      <td>5962</td>\n",
       "      <td>5821</td>\n",
       "      <td>5642</td>\n",
       "      <td>5731</td>\n",
       "      <td>5865</td>\n",
       "      <td>5528</td>\n",
       "      <td>5881</td>\n",
       "    </tr>\n",
       "  </tbody>\n",
       "</table>\n",
       "</div>"
      ],
      "text/plain": [
       "       unit sex     age    icd10      resid  \\\n",
       "62734    NR   F  Y40-44  J45_J46     TOT_IN   \n",
       "85872    NR   F  Y55-59      C43     TOT_IN   \n",
       "278250   NR   M  Y60-64        Q  TOT_RESID   \n",
       "177304   NR   F  Y_LT65      C64  TOT_RESID   \n",
       "541672   NR   T  Y_LT65  D00-D48     TOT_IN   \n",
       "\n",
       "       geo\\time\\t2019 \\t2018 \\t2017 \\t2016 \\t2015 \\t2014 \\t2013 \\t2012 \\t2011   \\\n",
       "62734              NO\\t: \\t0 \\t0 \\t0 \\t0 \\t0 \\t0 \\t0 \\t0                         \n",
       "85872              LV\\t: \\t1 \\t2 \\t2 \\t5 \\t2 \\t4 \\t1 \\t5                         \n",
       "278250    ES\\t: \\t32 p\\t21 \\t28 \\t28 \\t38 \\t29 \\t23 \\t26                         \n",
       "177304     LV\\t: \\t11 p\\t11 \\t8 \\t14 \\t13 \\t19 \\t12 \\t22                         \n",
       "541672  EU28\\t: \\t: \\t5962 \\t5821 \\t5642 \\t5731 \\t5865...                        \n",
       "\n",
       "       geo\\time 2019  2018   2017   2016   2015   2014   2013   2012   2011   \n",
       "62734        NO    :     0      0      0      0      0      0      0      0   \n",
       "85872        LV    :     1      2      2      5      2      4      1      5   \n",
       "278250       ES    :   32 p    21     28     28     38     29     23     26   \n",
       "177304       LV    :   11 p    11      8     14     13     19     12     22   \n",
       "541672     EU28    :     :   5962   5821   5642   5731   5865   5528   5881   "
      ]
     },
     "execution_count": 7,
     "metadata": {},
     "output_type": "execute_result"
    }
   ],
   "source": [
    "euro_01.sample(5)"
   ]
  },
  {
   "cell_type": "code",
   "execution_count": 8,
   "id": "9ed91ca4",
   "metadata": {},
   "outputs": [
    {
     "data": {
      "text/plain": [
       "(545748, 16)"
      ]
     },
     "execution_count": 8,
     "metadata": {},
     "output_type": "execute_result"
    }
   ],
   "source": [
    "euro_01.shape"
   ]
  },
  {
   "cell_type": "code",
   "execution_count": 9,
   "id": "0f323f79",
   "metadata": {},
   "outputs": [],
   "source": [
    "euro_01.drop(col_eutime,axis=1,inplace = True)\n"
   ]
  },
  {
   "cell_type": "code",
   "execution_count": 10,
   "id": "4814a352",
   "metadata": {},
   "outputs": [],
   "source": [
    "euro_01.drop('unit',axis=1,inplace = True)"
   ]
  },
  {
   "cell_type": "code",
   "execution_count": 11,
   "id": "9b08f21a",
   "metadata": {},
   "outputs": [],
   "source": [
    "euro_01.rename({\"geo\\\\time\":\"c_code\"},axis=1,inplace =True)"
   ]
  },
  {
   "cell_type": "code",
   "execution_count": 12,
   "id": "130ecb56",
   "metadata": {
    "scrolled": true
   },
   "outputs": [
    {
     "data": {
      "text/plain": [
       "array(['A-R_V-Y', 'A15-A19_B90', 'ACC', 'ACC_OTH', 'A_B', 'A_B_OTH',\n",
       "       'B15-B19_B942', 'B180-B182', 'B20-B24', 'C', 'C00-C14', 'C00-D48',\n",
       "       'C15', 'C16', 'C18-C21', 'C22', 'C25', 'C32', 'C33_C34', 'C43',\n",
       "       'C50', 'C53', 'C54_C55', 'C56', 'C61', 'C64', 'C67', 'C70-C72',\n",
       "       'C73', 'C81-C86', 'C88_C90_C96', 'C91-C95', 'C_OTH', 'D00-D48',\n",
       "       'D50-D89', 'E', 'E10-E14', 'E_OTH', 'F', 'F01_F03', 'F10', 'F_OTH',\n",
       "       'G20', 'G30', 'G_H', 'G_H_OTH', 'I', 'I20-I25', 'I20_I23-I25',\n",
       "       'I21_I22', 'I30-I51', 'I60-I69', 'I_OTH', 'J', 'J09-J11',\n",
       "       'J12-J18', 'J40-J44_J47', 'J40-J47', 'J45_J46', 'J_OTH', 'K',\n",
       "       'K25-K28', 'K70_K73_K74', 'K72-K75', 'K_OTH', 'L', 'M', 'M_OTH',\n",
       "       'N', 'N00-N29', 'N_OTH', 'O', 'P', 'Q', 'R', 'R95', 'R96-R99',\n",
       "       'RHEUM_ARTHRO', 'R_OTH', 'TOXICO', 'V01-Y89', 'V01-Y89_OTH',\n",
       "       'V_Y85', 'W00-W19', 'W65-W74', 'X40-X49', 'X60-X84_Y870',\n",
       "       'X85-Y09_Y871', 'Y10-Y34_Y872'], dtype=object)"
      ]
     },
     "execution_count": 12,
     "metadata": {},
     "output_type": "execute_result"
    }
   ],
   "source": [
    "euro_01.icd10.unique()"
   ]
  },
  {
   "cell_type": "code",
   "execution_count": 13,
   "id": "5cf3f40f",
   "metadata": {},
   "outputs": [
    {
     "name": "stderr",
     "output_type": "stream",
     "text": [
      "<ipython-input-13-c8388e9bdf26>:1: UserWarning: This pattern has match groups. To actually get the groups, use str.extract.\n",
      "  euro_01 = euro_01[euro_01[\"icd10\"].str.contains(r'(^F)')]\n"
     ]
    }
   ],
   "source": [
    "euro_01 = euro_01[euro_01[\"icd10\"].str.contains(r'(^F)')]"
   ]
  },
  {
   "cell_type": "code",
   "execution_count": 14,
   "id": "28bc7dad",
   "metadata": {},
   "outputs": [],
   "source": [
    "#[TOT_IN] All deaths reported in the country \n",
    "# [TOT_RESID] All deaths of residents in or outside their home country\n",
    "#only tot_in"
   ]
  },
  {
   "cell_type": "code",
   "execution_count": 15,
   "id": "9718a911",
   "metadata": {},
   "outputs": [],
   "source": [
    "euro_01 = euro_01[euro_01['resid'] == 'TOT_IN']"
   ]
  },
  {
   "cell_type": "code",
   "execution_count": 16,
   "id": "83101e62",
   "metadata": {},
   "outputs": [
    {
     "data": {
      "text/plain": [
       "array(['F', 'M', 'T'], dtype=object)"
      ]
     },
     "execution_count": 16,
     "metadata": {},
     "output_type": "execute_result"
    }
   ],
   "source": [
    "euro_01.sex.unique() #drop T"
   ]
  },
  {
   "cell_type": "code",
   "execution_count": 17,
   "id": "c4341e6b",
   "metadata": {},
   "outputs": [
    {
     "data": {
      "text/plain": [
       "array(['TOTAL', 'Y1-4', 'Y10-14', 'Y15-19', 'Y15-24', 'Y20-24', 'Y25-29',\n",
       "       'Y30-34', 'Y35-39', 'Y40-44', 'Y45-49', 'Y5-9', 'Y50-54', 'Y55-59',\n",
       "       'Y60-64', 'Y65-69', 'Y70-74', 'Y75-79', 'Y80-84', 'Y85-89',\n",
       "       'Y90-94', 'Y_GE65', 'Y_GE85', 'Y_GE95', 'Y_LT1', 'Y_LT15',\n",
       "       'Y_LT25', 'Y_LT65'], dtype=object)"
      ]
     },
     "execution_count": 17,
     "metadata": {},
     "output_type": "execute_result"
    }
   ],
   "source": [
    "euro_01.age.unique() #drop TOTAL"
   ]
  },
  {
   "cell_type": "code",
   "execution_count": 18,
   "id": "96213d71",
   "metadata": {},
   "outputs": [
    {
     "data": {
      "text/html": [
       "<div>\n",
       "<style scoped>\n",
       "    .dataframe tbody tr th:only-of-type {\n",
       "        vertical-align: middle;\n",
       "    }\n",
       "\n",
       "    .dataframe tbody tr th {\n",
       "        vertical-align: top;\n",
       "    }\n",
       "\n",
       "    .dataframe thead th {\n",
       "        text-align: right;\n",
       "    }\n",
       "</style>\n",
       "<table border=\"1\" class=\"dataframe\">\n",
       "  <thead>\n",
       "    <tr style=\"text-align: right;\">\n",
       "      <th></th>\n",
       "      <th>sex</th>\n",
       "      <th>age</th>\n",
       "      <th>icd10</th>\n",
       "      <th>resid</th>\n",
       "      <th>c_code</th>\n",
       "      <th>2019</th>\n",
       "      <th>2018</th>\n",
       "      <th>2017</th>\n",
       "      <th>2016</th>\n",
       "      <th>2015</th>\n",
       "      <th>2014</th>\n",
       "      <th>2013</th>\n",
       "      <th>2012</th>\n",
       "      <th>2011</th>\n",
       "    </tr>\n",
       "  </thead>\n",
       "  <tbody>\n",
       "    <tr>\n",
       "      <th>269251</th>\n",
       "      <td>M</td>\n",
       "      <td>Y55-59</td>\n",
       "      <td>F01_F03</td>\n",
       "      <td>TOT_IN</td>\n",
       "      <td>NO</td>\n",
       "      <td>:</td>\n",
       "      <td>1</td>\n",
       "      <td>0</td>\n",
       "      <td>2</td>\n",
       "      <td>1</td>\n",
       "      <td>1</td>\n",
       "      <td>0</td>\n",
       "      <td>3</td>\n",
       "      <td>0</td>\n",
       "    </tr>\n",
       "    <tr>\n",
       "      <th>9361</th>\n",
       "      <td>F</td>\n",
       "      <td>Y1-4</td>\n",
       "      <td>F01_F03</td>\n",
       "      <td>TOT_IN</td>\n",
       "      <td>HU</td>\n",
       "      <td>0</td>\n",
       "      <td>0</td>\n",
       "      <td>0</td>\n",
       "      <td>0</td>\n",
       "      <td>0</td>\n",
       "      <td>0</td>\n",
       "      <td>0</td>\n",
       "      <td>0</td>\n",
       "      <td>0</td>\n",
       "    </tr>\n",
       "    <tr>\n",
       "      <th>262810</th>\n",
       "      <td>M</td>\n",
       "      <td>Y50-54</td>\n",
       "      <td>F10</td>\n",
       "      <td>TOT_IN</td>\n",
       "      <td>ES</td>\n",
       "      <td>23</td>\n",
       "      <td>20</td>\n",
       "      <td>16</td>\n",
       "      <td>21</td>\n",
       "      <td>36</td>\n",
       "      <td>18</td>\n",
       "      <td>27</td>\n",
       "      <td>27</td>\n",
       "      <td>28</td>\n",
       "    </tr>\n",
       "    <tr>\n",
       "      <th>522629</th>\n",
       "      <td>T</td>\n",
       "      <td>Y_LT1</td>\n",
       "      <td>F01_F03</td>\n",
       "      <td>TOT_IN</td>\n",
       "      <td>LT</td>\n",
       "      <td>0</td>\n",
       "      <td>0</td>\n",
       "      <td>0</td>\n",
       "      <td>0</td>\n",
       "      <td>0</td>\n",
       "      <td>0</td>\n",
       "      <td>0</td>\n",
       "      <td>0</td>\n",
       "      <td>0</td>\n",
       "    </tr>\n",
       "    <tr>\n",
       "      <th>132812</th>\n",
       "      <td>F</td>\n",
       "      <td>Y90-94</td>\n",
       "      <td>F01_F03</td>\n",
       "      <td>TOT_IN</td>\n",
       "      <td>MT</td>\n",
       "      <td>:</td>\n",
       "      <td>45</td>\n",
       "      <td>41</td>\n",
       "      <td>35</td>\n",
       "      <td>20</td>\n",
       "      <td>15</td>\n",
       "      <td>23</td>\n",
       "      <td>10</td>\n",
       "      <td>16</td>\n",
       "    </tr>\n",
       "    <tr>\n",
       "      <th>490075</th>\n",
       "      <td>T</td>\n",
       "      <td>Y85-89</td>\n",
       "      <td>F</td>\n",
       "      <td>TOT_IN</td>\n",
       "      <td>NL</td>\n",
       "      <td>3509</td>\n",
       "      <td>3608</td>\n",
       "      <td>3556</td>\n",
       "      <td>3410</td>\n",
       "      <td>3208</td>\n",
       "      <td>2835</td>\n",
       "      <td>2933</td>\n",
       "      <td>2406</td>\n",
       "      <td>2246</td>\n",
       "    </tr>\n",
       "    <tr>\n",
       "      <th>412249</th>\n",
       "      <td>T</td>\n",
       "      <td>Y30-34</td>\n",
       "      <td>F10</td>\n",
       "      <td>TOT_IN</td>\n",
       "      <td>IE</td>\n",
       "      <td>:</td>\n",
       "      <td>0</td>\n",
       "      <td>0</td>\n",
       "      <td>0</td>\n",
       "      <td>0</td>\n",
       "      <td>0</td>\n",
       "      <td>0</td>\n",
       "      <td>0</td>\n",
       "      <td>0</td>\n",
       "    </tr>\n",
       "    <tr>\n",
       "      <th>223833</th>\n",
       "      <td>M</td>\n",
       "      <td>Y25-29</td>\n",
       "      <td>F10</td>\n",
       "      <td>TOT_IN</td>\n",
       "      <td>FX</td>\n",
       "      <td>:</td>\n",
       "      <td>:</td>\n",
       "      <td>8</td>\n",
       "      <td>6</td>\n",
       "      <td>6</td>\n",
       "      <td>6</td>\n",
       "      <td>16</td>\n",
       "      <td>18</td>\n",
       "      <td>6</td>\n",
       "    </tr>\n",
       "    <tr>\n",
       "      <th>542269</th>\n",
       "      <td>T</td>\n",
       "      <td>Y_LT65</td>\n",
       "      <td>F_OTH</td>\n",
       "      <td>TOT_IN</td>\n",
       "      <td>MT</td>\n",
       "      <td>:</td>\n",
       "      <td>2</td>\n",
       "      <td>0</td>\n",
       "      <td>1</td>\n",
       "      <td>0</td>\n",
       "      <td>0</td>\n",
       "      <td>:</td>\n",
       "      <td>1</td>\n",
       "      <td>3</td>\n",
       "    </tr>\n",
       "    <tr>\n",
       "      <th>509632</th>\n",
       "      <td>T</td>\n",
       "      <td>Y_GE85</td>\n",
       "      <td>F01_F03</td>\n",
       "      <td>TOT_IN</td>\n",
       "      <td>IS</td>\n",
       "      <td>:</td>\n",
       "      <td>59</td>\n",
       "      <td>49</td>\n",
       "      <td>44</td>\n",
       "      <td>45</td>\n",
       "      <td>51</td>\n",
       "      <td>40</td>\n",
       "      <td>32</td>\n",
       "      <td>37</td>\n",
       "    </tr>\n",
       "  </tbody>\n",
       "</table>\n",
       "</div>"
      ],
      "text/plain": [
       "       sex     age    icd10   resid c_code  2019   2018   2017   2016   2015   \\\n",
       "269251   M  Y55-59  F01_F03  TOT_IN     NO     :      1      0      2      1    \n",
       "9361     F    Y1-4  F01_F03  TOT_IN     HU     0      0      0      0      0    \n",
       "262810   M  Y50-54      F10  TOT_IN     ES    23     20     16     21     36    \n",
       "522629   T   Y_LT1  F01_F03  TOT_IN     LT     0      0      0      0      0    \n",
       "132812   F  Y90-94  F01_F03  TOT_IN     MT     :     45     41     35     20    \n",
       "490075   T  Y85-89        F  TOT_IN     NL  3509   3608   3556   3410   3208    \n",
       "412249   T  Y30-34      F10  TOT_IN     IE     :      0      0      0      0    \n",
       "223833   M  Y25-29      F10  TOT_IN     FX     :      :      8      6      6    \n",
       "542269   T  Y_LT65    F_OTH  TOT_IN     MT     :      2      0      1      0    \n",
       "509632   T  Y_GE85  F01_F03  TOT_IN     IS     :     59     49     44     45    \n",
       "\n",
       "        2014   2013   2012   2011   \n",
       "269251     1      0      3      0   \n",
       "9361       0      0      0      0   \n",
       "262810    18     27     27     28   \n",
       "522629     0      0      0      0   \n",
       "132812    15     23     10     16   \n",
       "490075  2835   2933   2406   2246   \n",
       "412249     0      0      0      0   \n",
       "223833     6     16     18      6   \n",
       "542269     0      :      1      3   \n",
       "509632    51     40     32     37   "
      ]
     },
     "execution_count": 18,
     "metadata": {},
     "output_type": "execute_result"
    }
   ],
   "source": [
    "euro_01.sample(10)"
   ]
  },
  {
   "cell_type": "code",
   "execution_count": 19,
   "id": "12ff8ab3",
   "metadata": {},
   "outputs": [],
   "source": [
    "euro_01 = euro_01[euro_01['age'] != 'TOTAL']"
   ]
  },
  {
   "cell_type": "code",
   "execution_count": 20,
   "id": "aadbb6f7",
   "metadata": {},
   "outputs": [],
   "source": [
    "euro_01 = euro_01[euro_01['sex'] != 'T']"
   ]
  },
  {
   "cell_type": "code",
   "execution_count": 21,
   "id": "ce0e429a",
   "metadata": {},
   "outputs": [
    {
     "data": {
      "text/plain": [
       "array(['F', 'F01_F03', 'F10', 'F_OTH'], dtype=object)"
      ]
     },
     "execution_count": 21,
     "metadata": {},
     "output_type": "execute_result"
    }
   ],
   "source": [
    "euro_01.icd10.unique()"
   ]
  },
  {
   "cell_type": "code",
   "execution_count": 22,
   "id": "fcd4aee4",
   "metadata": {},
   "outputs": [],
   "source": [
    "# [F] Mental and behavioural disorders (F00-F99)\n",
    "# [F_OTH] Other mental and behavioural disorders (remainder of F00-F99)\n",
    "#  [F01_F03] Dementia\n",
    "# [F10] Mental and behavioural disorders due to use of alcohol\n",
    "F_dic = {\"F\":\"Mental and behavioural disorders\",\"F10\":'Mental and behavioural disorders due to use of alcohol','F01_F03':'Dementia',\n",
    "            'F10':'Mental and behavioural disorders due to use of alcohol','F_OTH':'Other mental and behavioural disorders'}"
   ]
  },
  {
   "cell_type": "code",
   "execution_count": 23,
   "id": "2a3b43ba",
   "metadata": {},
   "outputs": [],
   "source": [
    "euro_01[\"diag\"] = euro_01.icd10.replace(F_dic)"
   ]
  },
  {
   "cell_type": "code",
   "execution_count": 27,
   "id": "2157ee73",
   "metadata": {},
   "outputs": [
    {
     "data": {
      "text/plain": [
       "array(['AT', 'BE', 'BG', 'CH', 'CY', 'CZ', 'DE', 'DK', 'EE', 'EL', 'ES',\n",
       "       'FI', 'FR', 'FX', 'HR', 'HU', 'IE', 'IS', 'IT', 'LI', 'LT', 'LU',\n",
       "       'LV', 'MT', 'NL', 'NO', 'PL', 'PT', 'RO', 'RS', 'SE', 'SI', 'SK',\n",
       "       'TR', 'UK'], dtype=object)"
      ]
     },
     "execution_count": 27,
     "metadata": {},
     "output_type": "execute_result"
    }
   ],
   "source": [
    "euro_01.c_code.unique()"
   ]
  },
  {
   "cell_type": "code",
   "execution_count": 25,
   "id": "25604acf",
   "metadata": {},
   "outputs": [],
   "source": [
    "eurozon = ['EU27_2020', 'EU28']"
   ]
  },
  {
   "cell_type": "code",
   "execution_count": 26,
   "id": "1f3383fe",
   "metadata": {},
   "outputs": [],
   "source": [
    "euro_01 = euro_01[euro_01['c_code'].isin(eurozon) == False]"
   ]
  },
  {
   "cell_type": "code",
   "execution_count": 33,
   "id": "73467446",
   "metadata": {},
   "outputs": [],
   "source": [
    "#FX = France, metropolitan\n",
    "countries_dic = {\"AT\":\"Austria\",\"BE\":\"Belgium\",\"BG\":\"Bulgaria\",\"HR\":\"Croatia\",\"CY\":\"Cyprus\",\"CZ\":\"Czech Republic\",\"DK\":\"Denmark\",\n",
    "\"EE\":\"Estonia\",\"FI\":\"Finland\",\"FR\":\"France\",\"FX\":\"France\",\"DE\":\"Germany\",\"EL\":\"Greece\",\"HU\":\"Hungary\",\"IS\":\"Iceland\",\"IE\":\"Ireland, Republic of (EIRE)\",\n",
    "\"IT\":\"Italy\",\"LV\":\"Latvia\",\"LT\":\"Lithuania\",\"LI\":\"Liechtenstein\",\"LU\":\"Luxembourg\",\"MT\":\"Malta\",\"NL\":\"Netherlands\",\"NO\":\"Norway\",\"PL\":\"Poland\",\n",
    "\"PT\":\"Portugal\",\"RO\":\"Romania\",\"SK\":\"Slovakia\",\"SI\":\"Slovenia\",\"ES\":\"Spain\",\"RS\":\"Serbia\",\"SE\":\"Sweden\",\"CH\":\"Switzerland\",\"TR\":\"Turkey\",\"UK\":\"United Kingdom\"}"
   ]
  },
  {
   "cell_type": "code",
   "execution_count": 34,
   "id": "6c363a75",
   "metadata": {},
   "outputs": [],
   "source": [
    "euro_01[\"country\"] = euro_01['c_code'].replace(countries_dic)"
   ]
  },
  {
   "cell_type": "code",
   "execution_count": 35,
   "id": "fc5b4679",
   "metadata": {},
   "outputs": [
    {
     "data": {
      "text/plain": [
       "array(['Austria', 'Belgium', 'Bulgaria', 'Switzerland', 'Cyprus',\n",
       "       'Czech Republic', 'Germany', 'Denmark', 'Estonia', 'Greece',\n",
       "       'Spain', 'Finland', 'France', 'Croatia', 'Hungary',\n",
       "       'Ireland, Republic of (EIRE)', 'Iceland', 'Italy', 'Liechtenstein',\n",
       "       'Lithuania', 'Luxembourg', 'Latvia', 'Malta', 'Netherlands',\n",
       "       'Norway', 'Poland', 'Portugal', 'Romania', 'Serbia', 'Sweden',\n",
       "       'Slovenia', 'Slovakia', 'Turkey', 'United Kingdom'], dtype=object)"
      ]
     },
     "execution_count": 35,
     "metadata": {},
     "output_type": "execute_result"
    }
   ],
   "source": [
    "euro_01.country.unique()"
   ]
  },
  {
   "cell_type": "code",
   "execution_count": null,
   "id": "011346d4",
   "metadata": {},
   "outputs": [],
   "source": [
    "euro_01.sample(5)"
   ]
  },
  {
   "cell_type": "code",
   "execution_count": null,
   "id": "5aee0c1f",
   "metadata": {},
   "outputs": [],
   "source": [
    "euro_01.info()"
   ]
  },
  {
   "cell_type": "code",
   "execution_count": null,
   "id": "13f98710",
   "metadata": {},
   "outputs": [],
   "source": []
  }
 ],
 "metadata": {
  "kernelspec": {
   "display_name": "ironhack",
   "language": "python",
   "name": "ironhack"
  },
  "language_info": {
   "codemirror_mode": {
    "name": "ipython",
    "version": 3
   },
   "file_extension": ".py",
   "mimetype": "text/x-python",
   "name": "python",
   "nbconvert_exporter": "python",
   "pygments_lexer": "ipython3",
   "version": "3.8.5"
  }
 },
 "nbformat": 4,
 "nbformat_minor": 5
}
