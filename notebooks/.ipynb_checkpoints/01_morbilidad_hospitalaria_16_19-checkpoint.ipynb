{
 "cells": [
  {
   "cell_type": "markdown",
   "id": "523855cb",
   "metadata": {},
   "source": [
    "# Morbilidad Hospitalaria España 2016-2019\n",
    "[Datos INE](https://www.ine.es/dyngs/INEbase/es/operacion.htm?c=Estadistica_C&cid=1254736176778&menu=resultados&secc=1254736195291&idp=1254735573175#!tabs-1254736195291)"
   ]
  },
  {
   "cell_type": "code",
   "execution_count": 1,
   "id": "f2b0390d",
   "metadata": {},
   "outputs": [],
   "source": [
    "import pandas as pd\n",
    "import os\n",
    "import datetime"
   ]
  },
  {
   "cell_type": "code",
   "execution_count": 2,
   "id": "5966b42d",
   "metadata": {},
   "outputs": [
    {
     "data": {
      "text/plain": [
       "['anterior',\n",
       " 'codigos.xlsx',\n",
       " 'EMH_2016_G01.csv',\n",
       " 'EMH_2017_G01.csv',\n",
       " 'EMH_2018_G01.csv',\n",
       " 'EMH_2019_G01.csv']"
      ]
     },
     "execution_count": 2,
     "metadata": {},
     "output_type": "execute_result"
    }
   ],
   "source": [
    "os.listdir('../data/morbilidad')"
   ]
  },
  {
   "cell_type": "code",
   "execution_count": 3,
   "id": "8b029fa5",
   "metadata": {},
   "outputs": [],
   "source": [
    "morbi16 = pd.read_csv('../data/morbilidad/EMH_2016_G01.csv',sep='\\t')\n",
    "morbi17 = pd.read_csv('../data/morbilidad/EMH_2017_G01.csv',sep='\\t')\n",
    "morbi18 = pd.read_csv('../data/morbilidad/EMH_2018_G01.csv',sep='\\t')\n",
    "morbi19 = pd.read_csv('../data/morbilidad/EMH_2019_G01.csv',sep='\\t')"
   ]
  },
  {
   "cell_type": "code",
   "execution_count": 4,
   "id": "2329c772",
   "metadata": {},
   "outputs": [
    {
     "data": {
      "text/html": [
       "<div>\n",
       "<style scoped>\n",
       "    .dataframe tbody tr th:only-of-type {\n",
       "        vertical-align: middle;\n",
       "    }\n",
       "\n",
       "    .dataframe tbody tr th {\n",
       "        vertical-align: top;\n",
       "    }\n",
       "\n",
       "    .dataframe thead th {\n",
       "        text-align: right;\n",
       "    }\n",
       "</style>\n",
       "<table border=\"1\" class=\"dataframe\">\n",
       "  <thead>\n",
       "    <tr style=\"text-align: right;\">\n",
       "      <th></th>\n",
       "      <th>Norden</th>\n",
       "      <th>ProvHosp</th>\n",
       "      <th>Sexo</th>\n",
       "      <th>ProvResi</th>\n",
       "      <th>DiagEntr</th>\n",
       "      <th>FxAlta</th>\n",
       "      <th>DiagPrin</th>\n",
       "      <th>MotivoAlta</th>\n",
       "      <th>EdadAnios</th>\n",
       "      <th>EdadMes</th>\n",
       "      <th>EdadDias</th>\n",
       "      <th>DiasEstancia</th>\n",
       "      <th>Factor</th>\n",
       "    </tr>\n",
       "  </thead>\n",
       "  <tbody>\n",
       "    <tr>\n",
       "      <th>539739</th>\n",
       "      <td>2556730</td>\n",
       "      <td>3</td>\n",
       "      <td>2</td>\n",
       "      <td>3</td>\n",
       "      <td>2</td>\n",
       "      <td>30082016</td>\n",
       "      <td>D500</td>\n",
       "      <td>1</td>\n",
       "      <td>69</td>\n",
       "      <td>6</td>\n",
       "      <td>2</td>\n",
       "      <td>4</td>\n",
       "      <td>1.00000</td>\n",
       "    </tr>\n",
       "    <tr>\n",
       "      <th>197866</th>\n",
       "      <td>7475854</td>\n",
       "      <td>8</td>\n",
       "      <td>1</td>\n",
       "      <td>8</td>\n",
       "      <td>1</td>\n",
       "      <td>6052016</td>\n",
       "      <td>C320</td>\n",
       "      <td>1</td>\n",
       "      <td>67</td>\n",
       "      <td>1</td>\n",
       "      <td>7</td>\n",
       "      <td>1</td>\n",
       "      <td>1.49795</td>\n",
       "    </tr>\n",
       "    <tr>\n",
       "      <th>864925</th>\n",
       "      <td>13340850</td>\n",
       "      <td>11</td>\n",
       "      <td>1</td>\n",
       "      <td>11</td>\n",
       "      <td>2</td>\n",
       "      <td>12122016</td>\n",
       "      <td>G893</td>\n",
       "      <td>1</td>\n",
       "      <td>66</td>\n",
       "      <td>10</td>\n",
       "      <td>13</td>\n",
       "      <td>4</td>\n",
       "      <td>1.00000</td>\n",
       "    </tr>\n",
       "    <tr>\n",
       "      <th>683363</th>\n",
       "      <td>818539</td>\n",
       "      <td>3</td>\n",
       "      <td>1</td>\n",
       "      <td>3</td>\n",
       "      <td>2</td>\n",
       "      <td>16092016</td>\n",
       "      <td>F15188</td>\n",
       "      <td>1</td>\n",
       "      <td>46</td>\n",
       "      <td>0</td>\n",
       "      <td>23</td>\n",
       "      <td>3</td>\n",
       "      <td>1.00000</td>\n",
       "    </tr>\n",
       "    <tr>\n",
       "      <th>127737</th>\n",
       "      <td>9401215</td>\n",
       "      <td>8</td>\n",
       "      <td>1</td>\n",
       "      <td>8</td>\n",
       "      <td>1</td>\n",
       "      <td>11102016</td>\n",
       "      <td>C180</td>\n",
       "      <td>1</td>\n",
       "      <td>75</td>\n",
       "      <td>0</td>\n",
       "      <td>23</td>\n",
       "      <td>6</td>\n",
       "      <td>1.01123</td>\n",
       "    </tr>\n",
       "  </tbody>\n",
       "</table>\n",
       "</div>"
      ],
      "text/plain": [
       "          Norden  ProvHosp  Sexo  ProvResi  DiagEntr    FxAlta DiagPrin  \\\n",
       "539739   2556730         3     2         3         2  30082016  D500      \n",
       "197866   7475854         8     1         8         1   6052016  C320      \n",
       "864925  13340850        11     1        11         2  12122016  G893      \n",
       "683363    818539         3     1         3         2  16092016  F15188    \n",
       "127737   9401215         8     1         8         1  11102016  C180      \n",
       "\n",
       "        MotivoAlta  EdadAnios  EdadMes  EdadDias  DiasEstancia   Factor  \n",
       "539739           1         69        6         2             4  1.00000  \n",
       "197866           1         67        1         7             1  1.49795  \n",
       "864925           1         66       10        13             4  1.00000  \n",
       "683363           1         46        0        23             3  1.00000  \n",
       "127737           1         75        0        23             6  1.01123  "
      ]
     },
     "execution_count": 4,
     "metadata": {},
     "output_type": "execute_result"
    }
   ],
   "source": [
    "morbi16.sample(5)"
   ]
  },
  {
   "cell_type": "code",
   "execution_count": 5,
   "id": "41c3d55f",
   "metadata": {},
   "outputs": [],
   "source": [
    "morbilidad = pd.concat([morbi16,morbi17,morbi18,morbi19])"
   ]
  },
  {
   "cell_type": "code",
   "execution_count": 6,
   "id": "dcf2a97b",
   "metadata": {},
   "outputs": [
    {
     "data": {
      "text/html": [
       "<div>\n",
       "<style scoped>\n",
       "    .dataframe tbody tr th:only-of-type {\n",
       "        vertical-align: middle;\n",
       "    }\n",
       "\n",
       "    .dataframe tbody tr th {\n",
       "        vertical-align: top;\n",
       "    }\n",
       "\n",
       "    .dataframe thead th {\n",
       "        text-align: right;\n",
       "    }\n",
       "</style>\n",
       "<table border=\"1\" class=\"dataframe\">\n",
       "  <thead>\n",
       "    <tr style=\"text-align: right;\">\n",
       "      <th></th>\n",
       "      <th>Norden</th>\n",
       "      <th>ProvHosp</th>\n",
       "      <th>Sexo</th>\n",
       "      <th>ProvResi</th>\n",
       "      <th>DiagEntr</th>\n",
       "      <th>FxAlta</th>\n",
       "      <th>DiagPrin</th>\n",
       "      <th>MotivoAlta</th>\n",
       "      <th>EdadAnios</th>\n",
       "      <th>EdadMes</th>\n",
       "      <th>EdadDias</th>\n",
       "      <th>DiasEstancia</th>\n",
       "      <th>Factor</th>\n",
       "    </tr>\n",
       "  </thead>\n",
       "  <tbody>\n",
       "    <tr>\n",
       "      <th>738343</th>\n",
       "      <td>44651150</td>\n",
       "      <td>48</td>\n",
       "      <td>2</td>\n",
       "      <td>48</td>\n",
       "      <td>1</td>\n",
       "      <td>15062017</td>\n",
       "      <td>F259</td>\n",
       "      <td>1</td>\n",
       "      <td>55</td>\n",
       "      <td>3</td>\n",
       "      <td>26</td>\n",
       "      <td>28</td>\n",
       "      <td>1.00000</td>\n",
       "    </tr>\n",
       "    <tr>\n",
       "      <th>503941</th>\n",
       "      <td>24314355</td>\n",
       "      <td>28</td>\n",
       "      <td>2</td>\n",
       "      <td>28</td>\n",
       "      <td>1</td>\n",
       "      <td>2032018</td>\n",
       "      <td>D252</td>\n",
       "      <td>1</td>\n",
       "      <td>49</td>\n",
       "      <td>4</td>\n",
       "      <td>1</td>\n",
       "      <td>3</td>\n",
       "      <td>1.01195</td>\n",
       "    </tr>\n",
       "    <tr>\n",
       "      <th>588645</th>\n",
       "      <td>44747394</td>\n",
       "      <td>20</td>\n",
       "      <td>2</td>\n",
       "      <td>20</td>\n",
       "      <td>2</td>\n",
       "      <td>9022017</td>\n",
       "      <td>D701</td>\n",
       "      <td>1</td>\n",
       "      <td>5</td>\n",
       "      <td>2</td>\n",
       "      <td>20</td>\n",
       "      <td>7</td>\n",
       "      <td>1.00000</td>\n",
       "    </tr>\n",
       "    <tr>\n",
       "      <th>315327</th>\n",
       "      <td>19713528</td>\n",
       "      <td>24</td>\n",
       "      <td>1</td>\n",
       "      <td>24</td>\n",
       "      <td>1</td>\n",
       "      <td>26012017</td>\n",
       "      <td>C61</td>\n",
       "      <td>1</td>\n",
       "      <td>61</td>\n",
       "      <td>6</td>\n",
       "      <td>22</td>\n",
       "      <td>4</td>\n",
       "      <td>1.00000</td>\n",
       "    </tr>\n",
       "    <tr>\n",
       "      <th>374228</th>\n",
       "      <td>39333020</td>\n",
       "      <td>43</td>\n",
       "      <td>1</td>\n",
       "      <td>43</td>\n",
       "      <td>1</td>\n",
       "      <td>31082017</td>\n",
       "      <td>C679</td>\n",
       "      <td>1</td>\n",
       "      <td>79</td>\n",
       "      <td>7</td>\n",
       "      <td>19</td>\n",
       "      <td>2</td>\n",
       "      <td>1.00000</td>\n",
       "    </tr>\n",
       "  </tbody>\n",
       "</table>\n",
       "</div>"
      ],
      "text/plain": [
       "          Norden  ProvHosp  Sexo  ProvResi  DiagEntr    FxAlta DiagPrin  \\\n",
       "738343  44651150        48     2        48         1  15062017  F259      \n",
       "503941  24314355        28     2        28         1   2032018  D252      \n",
       "588645  44747394        20     2        20         2   9022017  D701      \n",
       "315327  19713528        24     1        24         1  26012017  C61       \n",
       "374228  39333020        43     1        43         1  31082017  C679      \n",
       "\n",
       "        MotivoAlta  EdadAnios  EdadMes  EdadDias  DiasEstancia   Factor  \n",
       "738343           1         55        3        26            28  1.00000  \n",
       "503941           1         49        4         1             3  1.01195  \n",
       "588645           1          5        2        20             7  1.00000  \n",
       "315327           1         61        6        22             4  1.00000  \n",
       "374228           1         79        7        19             2  1.00000  "
      ]
     },
     "execution_count": 6,
     "metadata": {},
     "output_type": "execute_result"
    }
   ],
   "source": [
    "morbilidad.sample(5)"
   ]
  },
  {
   "cell_type": "code",
   "execution_count": 7,
   "id": "325c3c75",
   "metadata": {},
   "outputs": [],
   "source": [
    "morbilidad = morbilidad[morbilidad[\"DiagPrin\"].str.contains('^F')]"
   ]
  },
  {
   "cell_type": "code",
   "execution_count": 8,
   "id": "f2cbf220",
   "metadata": {},
   "outputs": [],
   "source": [
    "morbilidad.DiagPrin = morbilidad.DiagPrin.str.strip()"
   ]
  },
  {
   "cell_type": "code",
   "execution_count": 9,
   "id": "faf9bbe6",
   "metadata": {},
   "outputs": [],
   "source": [
    "icd10 = pd.read_csv('../data/icd10.csv')"
   ]
  },
  {
   "cell_type": "code",
   "execution_count": 10,
   "id": "c97be6ce",
   "metadata": {},
   "outputs": [],
   "source": [
    "icd10_psic = icd10[icd10[\"code\"].str.contains('^F')]"
   ]
  },
  {
   "cell_type": "code",
   "execution_count": 11,
   "id": "6711f56b",
   "metadata": {
    "scrolled": true
   },
   "outputs": [
    {
     "data": {
      "text/html": [
       "<div>\n",
       "<style scoped>\n",
       "    .dataframe tbody tr th:only-of-type {\n",
       "        vertical-align: middle;\n",
       "    }\n",
       "\n",
       "    .dataframe tbody tr th {\n",
       "        vertical-align: top;\n",
       "    }\n",
       "\n",
       "    .dataframe thead th {\n",
       "        text-align: right;\n",
       "    }\n",
       "</style>\n",
       "<table border=\"1\" class=\"dataframe\">\n",
       "  <thead>\n",
       "    <tr style=\"text-align: right;\">\n",
       "      <th></th>\n",
       "      <th>code</th>\n",
       "      <th>diag</th>\n",
       "    </tr>\n",
       "  </thead>\n",
       "  <tbody>\n",
       "    <tr>\n",
       "      <th>4546</th>\n",
       "      <td>F4521</td>\n",
       "      <td>Hypochondriasis</td>\n",
       "    </tr>\n",
       "    <tr>\n",
       "      <th>4543</th>\n",
       "      <td>F450</td>\n",
       "      <td>Somatization disorder</td>\n",
       "    </tr>\n",
       "    <tr>\n",
       "      <th>4217</th>\n",
       "      <td>F1520</td>\n",
       "      <td>Other stimulant dependence, uncomplicated</td>\n",
       "    </tr>\n",
       "  </tbody>\n",
       "</table>\n",
       "</div>"
      ],
      "text/plain": [
       "       code                                       diag\n",
       "4546  F4521                            Hypochondriasis\n",
       "4543   F450                      Somatization disorder\n",
       "4217  F1520  Other stimulant dependence, uncomplicated"
      ]
     },
     "execution_count": 11,
     "metadata": {},
     "output_type": "execute_result"
    }
   ],
   "source": [
    "icd10_psic.sample(3)"
   ]
  },
  {
   "cell_type": "code",
   "execution_count": 12,
   "id": "18fb12d2",
   "metadata": {},
   "outputs": [],
   "source": [
    "morbilidad.drop(['Norden','EdadDias','EdadMes'],axis=1,inplace = True)"
   ]
  },
  {
   "cell_type": "code",
   "execution_count": 13,
   "id": "6944b140",
   "metadata": {},
   "outputs": [
    {
     "data": {
      "text/plain": [
       "array(['F0150', 'F0151', 'F0390', 'F0391', 'F04', 'F05', 'F060', 'F061',\n",
       "       'F062', 'F0630', 'F0631', 'F0632', 'F0633', 'F0634', 'F064',\n",
       "       'F068', 'F070', 'F0781', 'F0789', 'F079'], dtype=object)"
      ]
     },
     "execution_count": 13,
     "metadata": {},
     "output_type": "execute_result"
    }
   ],
   "source": [
    "morbilidad.DiagPrin.unique()[0:20] #extraer F + 2 primero dígitos"
   ]
  },
  {
   "cell_type": "code",
   "execution_count": 14,
   "id": "80637969",
   "metadata": {},
   "outputs": [],
   "source": [
    "morbilidad[\"DiagGen\"] = morbilidad.DiagPrin.str.extract(r'(^F..)')"
   ]
  },
  {
   "cell_type": "code",
   "execution_count": 15,
   "id": "301d688a",
   "metadata": {},
   "outputs": [
    {
     "data": {
      "text/plain": [
       "array(['F01', 'F03', 'F04', 'F05', 'F06', 'F07', 'F09', 'F10', 'F11',\n",
       "       'F12', 'F13', 'F14', 'F15', 'F16', 'F17', 'F18', 'F19', 'F20',\n",
       "       'F21', 'F22', 'F23', 'F24', 'F25', 'F28', 'F29', 'F30', 'F31',\n",
       "       'F32', 'F33', 'F34', 'F39', 'F40', 'F41', 'F42', 'F43', 'F44',\n",
       "       'F45', 'F48', 'F50', 'F51', 'F52', 'F53', 'F55', 'F59', 'F60',\n",
       "       'F63', 'F64', 'F65', 'F66', 'F68', 'F69', 'F70', 'F71', 'F72',\n",
       "       'F73', 'F78', 'F79', 'F80', 'F81', 'F82', 'F84', 'F88', 'F89',\n",
       "       'F90', 'F91', 'F93', 'F94', 'F95', 'F98', 'F99'], dtype=object)"
      ]
     },
     "execution_count": 15,
     "metadata": {},
     "output_type": "execute_result"
    }
   ],
   "source": [
    "morbilidad.DiagGen.unique()"
   ]
  },
  {
   "cell_type": "code",
   "execution_count": 16,
   "id": "ae5390f2",
   "metadata": {},
   "outputs": [],
   "source": [
    "diagnos = pd.read_csv(\"../data/diagnos.csv\")"
   ]
  },
  {
   "cell_type": "code",
   "execution_count": 17,
   "id": "866f2734",
   "metadata": {},
   "outputs": [
    {
     "data": {
      "text/html": [
       "<div>\n",
       "<style scoped>\n",
       "    .dataframe tbody tr th:only-of-type {\n",
       "        vertical-align: middle;\n",
       "    }\n",
       "\n",
       "    .dataframe tbody tr th {\n",
       "        vertical-align: top;\n",
       "    }\n",
       "\n",
       "    .dataframe thead th {\n",
       "        text-align: right;\n",
       "    }\n",
       "</style>\n",
       "<table border=\"1\" class=\"dataframe\">\n",
       "  <thead>\n",
       "    <tr style=\"text-align: right;\">\n",
       "      <th></th>\n",
       "      <th>code</th>\n",
       "      <th>diag</th>\n",
       "    </tr>\n",
       "  </thead>\n",
       "  <tbody>\n",
       "    <tr>\n",
       "      <th>8</th>\n",
       "      <td>F80-89</td>\n",
       "      <td>Trastornos del desarrollo psicológico</td>\n",
       "    </tr>\n",
       "    <tr>\n",
       "      <th>58</th>\n",
       "      <td>F59</td>\n",
       "      <td>Síndromes de comportamiento sin especificar as...</td>\n",
       "    </tr>\n",
       "    <tr>\n",
       "      <th>3</th>\n",
       "      <td>F30-39</td>\n",
       "      <td>Trastornos del estado de animo, trastornos afe...</td>\n",
       "    </tr>\n",
       "    <tr>\n",
       "      <th>85</th>\n",
       "      <td>F98</td>\n",
       "      <td>Otros trastornos emocionales y de comportamien...</td>\n",
       "    </tr>\n",
       "    <tr>\n",
       "      <th>62</th>\n",
       "      <td>F64</td>\n",
       "      <td>Trastornos de identidad de género</td>\n",
       "    </tr>\n",
       "  </tbody>\n",
       "</table>\n",
       "</div>"
      ],
      "text/plain": [
       "      code                                               diag\n",
       "8   F80-89              Trastornos del desarrollo psicológico\n",
       "58     F59  Síndromes de comportamiento sin especificar as...\n",
       "3   F30-39  Trastornos del estado de animo, trastornos afe...\n",
       "85     F98  Otros trastornos emocionales y de comportamien...\n",
       "62     F64                  Trastornos de identidad de género"
      ]
     },
     "execution_count": 17,
     "metadata": {},
     "output_type": "execute_result"
    }
   ],
   "source": [
    "diagnos.sample(5)"
   ]
  },
  {
   "cell_type": "code",
   "execution_count": 18,
   "id": "d393822d",
   "metadata": {},
   "outputs": [],
   "source": [
    "dicc_diag = {} #crear diccionario con diagnósticos y códigos\n",
    "for i,r in diagnos.iterrows():\n",
    "    dicc_diag[r.code] = r.diag"
   ]
  },
  {
   "cell_type": "code",
   "execution_count": 19,
   "id": "7118a3a5",
   "metadata": {},
   "outputs": [],
   "source": [
    "morbilidad[\"FFF\"] = morbilidad.DiagGen.replace(dicc_diag) #columna con subclasificación diagnoósticos."
   ]
  },
  {
   "cell_type": "code",
   "execution_count": 20,
   "id": "3d473cfa",
   "metadata": {},
   "outputs": [],
   "source": [
    "F0 = [\"F00\",\"F01\",\"F02\",\"F03\",\"F04\",\"F05\",\"F06\",\"F07\",\"F08\",\"F09\"]\n",
    "F1 = [\"F10\",\"F11\",\"F12\",\"F13\",\"F14\",\"F15\",\"F16\",\"F17\",\"F18\",\"F19\"]\n",
    "F2 = [\"F20\",\"F21\",\"F22\",\"F23\",\"F24\",\"F25\",\"F26\",\"F27\",\"F28\",\"F29\"]\n",
    "F3 = [\"F30\",\"F31\",\"F32\",\"F33\",\"F34\",\"F35\",\"F36\",\"F37\",\"F38\",\"F39\"]\n",
    "F4 = [\"F40\",\"F41\",\"F42\",\"F43\",\"F44\",\"F45\",\"F46\",\"F47\",\"F48\",\"F49\"]\n",
    "F5 = [\"F50\",\"F51\",\"F52\",\"F53\",\"F54\",\"F55\",\"F56\",\"F57\",\"F58\",\"F59\"]\n",
    "F6 = [\"F60\",\"F61\",\"F62\",\"F63\",\"F64\",\"F65\",\"F66\",\"F67\",\"F68\",\"F69\"]\n",
    "F7 = [\"F70\",\"F71\",\"F72\",\"F73\",\"F74\",\"F75\",\"F76\",\"F77\",\"F78\",\"F79\"]\n",
    "F8 = [\"F80\",\"F81\",\"F82\",\"F83\",\"F84\",\"F85\",\"F86\",\"F87\",\"F88\",\"F89\"]\n",
    "F9 = [\"F90\",\"F91\",\"F92\",\"F93\",\"F94\",\"F95\",\"F96\",\"F97\",\"F98\"]\n",
    "F99 = \"F99\""
   ]
  },
  {
   "cell_type": "code",
   "execution_count": 21,
   "id": "d80673bf",
   "metadata": {},
   "outputs": [],
   "source": [
    "dicc_f = {}"
   ]
  },
  {
   "cell_type": "code",
   "execution_count": 22,
   "id": "438fd927",
   "metadata": {},
   "outputs": [],
   "source": [
    "cabezera = {'F00-F09': 'Trastornos mentales orgánicos, incluidos los trastornos sintomáticos',\n",
    " 'F10-F19': 'Trastornos mentales y de comportamiento debidos al consumo de psicotrópicos',\n",
    " 'F20-29': 'Esquizofrenia, trastornos esquizotípicos y trastornos delirantes',\n",
    " 'F30-39': 'Trastornos del estado de animo, trastornos afectivos',\n",
    " 'F40-49': 'Trastornos neuróticos, trastornos relacionados con el estrés y trastornos somatomorfos',\n",
    " 'F50-59': 'Síndromes del comportamiento asociados con alteraciones fisiológicas y factores físicos',\n",
    " 'F60-69': 'Trastornos de la personalidad y del comportamiento en adultos',\n",
    " 'F70-79': 'Retraso mental',\n",
    " 'F80-89': 'Trastornos del desarrollo psicológico',\n",
    " 'F90-F98': 'Trastornos emocionales y del comportamiento que aparecen habitualmente en la niñez o en la adolescencia'}"
   ]
  },
  {
   "cell_type": "code",
   "execution_count": 23,
   "id": "6d78f498",
   "metadata": {},
   "outputs": [],
   "source": [
    "capi = diagnos.head(11)"
   ]
  },
  {
   "cell_type": "code",
   "execution_count": 24,
   "id": "8adc71b0",
   "metadata": {},
   "outputs": [
    {
     "data": {
      "text/html": [
       "<div>\n",
       "<style scoped>\n",
       "    .dataframe tbody tr th:only-of-type {\n",
       "        vertical-align: middle;\n",
       "    }\n",
       "\n",
       "    .dataframe tbody tr th {\n",
       "        vertical-align: top;\n",
       "    }\n",
       "\n",
       "    .dataframe thead th {\n",
       "        text-align: right;\n",
       "    }\n",
       "</style>\n",
       "<table border=\"1\" class=\"dataframe\">\n",
       "  <thead>\n",
       "    <tr style=\"text-align: right;\">\n",
       "      <th></th>\n",
       "      <th>code</th>\n",
       "      <th>diag</th>\n",
       "    </tr>\n",
       "  </thead>\n",
       "  <tbody>\n",
       "    <tr>\n",
       "      <th>0</th>\n",
       "      <td>F00-F09</td>\n",
       "      <td>Trastornos mentales orgánicos, incluidos los t...</td>\n",
       "    </tr>\n",
       "    <tr>\n",
       "      <th>1</th>\n",
       "      <td>F10-F19</td>\n",
       "      <td>Trastornos mentales y de comportamiento debido...</td>\n",
       "    </tr>\n",
       "    <tr>\n",
       "      <th>2</th>\n",
       "      <td>F20-29</td>\n",
       "      <td>Esquizofrenia, trastornos esquizotípicos y tra...</td>\n",
       "    </tr>\n",
       "    <tr>\n",
       "      <th>3</th>\n",
       "      <td>F30-39</td>\n",
       "      <td>Trastornos del estado de animo, trastornos afe...</td>\n",
       "    </tr>\n",
       "    <tr>\n",
       "      <th>4</th>\n",
       "      <td>F40-49</td>\n",
       "      <td>Trastornos neuróticos, trastornos relacionados...</td>\n",
       "    </tr>\n",
       "    <tr>\n",
       "      <th>5</th>\n",
       "      <td>F50-59</td>\n",
       "      <td>Síndromes del comportamiento asociados con alt...</td>\n",
       "    </tr>\n",
       "    <tr>\n",
       "      <th>6</th>\n",
       "      <td>F60-69</td>\n",
       "      <td>Trastornos de la personalidad y del comportami...</td>\n",
       "    </tr>\n",
       "    <tr>\n",
       "      <th>7</th>\n",
       "      <td>F70-79</td>\n",
       "      <td>Retraso mental</td>\n",
       "    </tr>\n",
       "    <tr>\n",
       "      <th>8</th>\n",
       "      <td>F80-89</td>\n",
       "      <td>Trastornos del desarrollo psicológico</td>\n",
       "    </tr>\n",
       "    <tr>\n",
       "      <th>9</th>\n",
       "      <td>F90-F98</td>\n",
       "      <td>Trastornos emocionales y del comportamiento qu...</td>\n",
       "    </tr>\n",
       "    <tr>\n",
       "      <th>10</th>\n",
       "      <td>F99</td>\n",
       "      <td>Trastornos mentales sin especificar</td>\n",
       "    </tr>\n",
       "  </tbody>\n",
       "</table>\n",
       "</div>"
      ],
      "text/plain": [
       "       code                                               diag\n",
       "0   F00-F09  Trastornos mentales orgánicos, incluidos los t...\n",
       "1   F10-F19  Trastornos mentales y de comportamiento debido...\n",
       "2    F20-29  Esquizofrenia, trastornos esquizotípicos y tra...\n",
       "3    F30-39  Trastornos del estado de animo, trastornos afe...\n",
       "4    F40-49  Trastornos neuróticos, trastornos relacionados...\n",
       "5    F50-59  Síndromes del comportamiento asociados con alt...\n",
       "6    F60-69  Trastornos de la personalidad y del comportami...\n",
       "7    F70-79                                     Retraso mental\n",
       "8    F80-89              Trastornos del desarrollo psicológico\n",
       "9   F90-F98  Trastornos emocionales y del comportamiento qu...\n",
       "10      F99                Trastornos mentales sin especificar"
      ]
     },
     "execution_count": 24,
     "metadata": {},
     "output_type": "execute_result"
    }
   ],
   "source": [
    "capi"
   ]
  },
  {
   "cell_type": "code",
   "execution_count": 25,
   "id": "b5435054",
   "metadata": {},
   "outputs": [
    {
     "data": {
      "text/plain": [
       "{'F00-F09': 'Trastornos mentales orgánicos, incluidos los trastornos sintomáticos',\n",
       " 'F10-F19': 'Trastornos mentales y de comportamiento debidos al consumo de psicotrópicos',\n",
       " 'F20-29': 'Esquizofrenia, trastornos esquizotípicos y trastornos delirantes',\n",
       " 'F30-39': 'Trastornos del estado de animo, trastornos afectivos',\n",
       " 'F40-49': 'Trastornos neuróticos, trastornos relacionados con el estrés y trastornos somatomorfos',\n",
       " 'F50-59': 'Síndromes del comportamiento asociados con alteraciones fisiológicas y factores físicos',\n",
       " 'F60-69': 'Trastornos de la personalidad y del comportamiento en adultos',\n",
       " 'F70-79': 'Retraso mental',\n",
       " 'F80-89': 'Trastornos del desarrollo psicológico',\n",
       " 'F90-F98': 'Trastornos emocionales y del comportamiento que aparecen habitualmente en la niñez o en la adolescencia',\n",
       " 'F99': 'Trastornos mentales sin especificar'}"
      ]
     },
     "execution_count": 25,
     "metadata": {},
     "output_type": "execute_result"
    }
   ],
   "source": [
    "cabezera = {}\n",
    "for i,r in capi.iterrows():\n",
    "    cabezera[r.code] = r.diag\n",
    "cabezera"
   ]
  },
  {
   "cell_type": "code",
   "execution_count": 26,
   "id": "8c6a18ff",
   "metadata": {},
   "outputs": [],
   "source": [
    "capitulando = {}\n",
    "for f in F0:\n",
    "    capitulando[f] = cabezera['F00-F09']\n",
    "for f in F1:\n",
    "    capitulando[f] = cabezera['F10-F19']\n",
    "for f in F2:\n",
    "    capitulando[f] = cabezera['F20-29']\n",
    "for f in F3:\n",
    "    capitulando[f] = cabezera['F30-39']\n",
    "for f in F4:\n",
    "    capitulando[f] = cabezera['F40-49']\n",
    "for f in F5:\n",
    "    capitulando[f] = cabezera['F50-59']\n",
    "for f in F6:\n",
    "    capitulando[f] = cabezera['F60-69']\n",
    "for f in F7:\n",
    "    capitulando[f] = cabezera['F70-79']\n",
    "for f in F8:\n",
    "    capitulando[f] = cabezera['F80-89']\n",
    "for f in F9:\n",
    "    capitulando[f] = cabezera['F90-F98']\n",
    "capitulando[F99] = cabezera['F99']\n",
    "#capitulando\n",
    "    "
   ]
  },
  {
   "cell_type": "code",
   "execution_count": 27,
   "id": "bb9ec393",
   "metadata": {},
   "outputs": [
    {
     "data": {
      "text/html": [
       "<div>\n",
       "<style scoped>\n",
       "    .dataframe tbody tr th:only-of-type {\n",
       "        vertical-align: middle;\n",
       "    }\n",
       "\n",
       "    .dataframe tbody tr th {\n",
       "        vertical-align: top;\n",
       "    }\n",
       "\n",
       "    .dataframe thead th {\n",
       "        text-align: right;\n",
       "    }\n",
       "</style>\n",
       "<table border=\"1\" class=\"dataframe\">\n",
       "  <thead>\n",
       "    <tr style=\"text-align: right;\">\n",
       "      <th></th>\n",
       "      <th>ProvHosp</th>\n",
       "      <th>Sexo</th>\n",
       "      <th>ProvResi</th>\n",
       "      <th>DiagEntr</th>\n",
       "      <th>FxAlta</th>\n",
       "      <th>DiagPrin</th>\n",
       "      <th>MotivoAlta</th>\n",
       "      <th>EdadAnios</th>\n",
       "      <th>DiasEstancia</th>\n",
       "      <th>Factor</th>\n",
       "      <th>DiagGen</th>\n",
       "      <th>FFF</th>\n",
       "    </tr>\n",
       "  </thead>\n",
       "  <tbody>\n",
       "    <tr>\n",
       "      <th>727924</th>\n",
       "      <td>29</td>\n",
       "      <td>2</td>\n",
       "      <td>29</td>\n",
       "      <td>2</td>\n",
       "      <td>13062017</td>\n",
       "      <td>F22</td>\n",
       "      <td>1</td>\n",
       "      <td>42</td>\n",
       "      <td>5</td>\n",
       "      <td>1.04211</td>\n",
       "      <td>F22</td>\n",
       "      <td>Trastornos delirantes persistentes</td>\n",
       "    </tr>\n",
       "    <tr>\n",
       "      <th>745726</th>\n",
       "      <td>46</td>\n",
       "      <td>1</td>\n",
       "      <td>46</td>\n",
       "      <td>2</td>\n",
       "      <td>15052018</td>\n",
       "      <td>F312</td>\n",
       "      <td>1</td>\n",
       "      <td>36</td>\n",
       "      <td>45</td>\n",
       "      <td>1.00000</td>\n",
       "      <td>F31</td>\n",
       "      <td>Trastorno bipolar</td>\n",
       "    </tr>\n",
       "    <tr>\n",
       "      <th>732236</th>\n",
       "      <td>3</td>\n",
       "      <td>2</td>\n",
       "      <td>3</td>\n",
       "      <td>2</td>\n",
       "      <td>1042016</td>\n",
       "      <td>F329</td>\n",
       "      <td>1</td>\n",
       "      <td>51</td>\n",
       "      <td>43</td>\n",
       "      <td>1.00000</td>\n",
       "      <td>F32</td>\n",
       "      <td>Trastorno depresivo mayor, episodio único</td>\n",
       "    </tr>\n",
       "    <tr>\n",
       "      <th>735611</th>\n",
       "      <td>28</td>\n",
       "      <td>2</td>\n",
       "      <td>28</td>\n",
       "      <td>2</td>\n",
       "      <td>31082016</td>\n",
       "      <td>F331</td>\n",
       "      <td>1</td>\n",
       "      <td>76</td>\n",
       "      <td>17</td>\n",
       "      <td>1.08548</td>\n",
       "      <td>F33</td>\n",
       "      <td>Trastorno depresivo mayor, recurrente</td>\n",
       "    </tr>\n",
       "    <tr>\n",
       "      <th>730960</th>\n",
       "      <td>48</td>\n",
       "      <td>2</td>\n",
       "      <td>48</td>\n",
       "      <td>2</td>\n",
       "      <td>19052016</td>\n",
       "      <td>F322</td>\n",
       "      <td>1</td>\n",
       "      <td>72</td>\n",
       "      <td>24</td>\n",
       "      <td>1.00441</td>\n",
       "      <td>F32</td>\n",
       "      <td>Trastorno depresivo mayor, episodio único</td>\n",
       "    </tr>\n",
       "  </tbody>\n",
       "</table>\n",
       "</div>"
      ],
      "text/plain": [
       "        ProvHosp  Sexo  ProvResi  DiagEntr    FxAlta DiagPrin  MotivoAlta  \\\n",
       "727924        29     2        29         2  13062017      F22           1   \n",
       "745726        46     1        46         2  15052018     F312           1   \n",
       "732236         3     2         3         2   1042016     F329           1   \n",
       "735611        28     2        28         2  31082016     F331           1   \n",
       "730960        48     2        48         2  19052016     F322           1   \n",
       "\n",
       "        EdadAnios  DiasEstancia   Factor DiagGen  \\\n",
       "727924         42             5  1.04211     F22   \n",
       "745726         36            45  1.00000     F31   \n",
       "732236         51            43  1.00000     F32   \n",
       "735611         76            17  1.08548     F33   \n",
       "730960         72            24  1.00441     F32   \n",
       "\n",
       "                                              FFF  \n",
       "727924         Trastornos delirantes persistentes  \n",
       "745726                          Trastorno bipolar  \n",
       "732236  Trastorno depresivo mayor, episodio único  \n",
       "735611      Trastorno depresivo mayor, recurrente  \n",
       "730960  Trastorno depresivo mayor, episodio único  "
      ]
     },
     "execution_count": 27,
     "metadata": {},
     "output_type": "execute_result"
    }
   ],
   "source": [
    "morbilidad.sample(5)"
   ]
  },
  {
   "cell_type": "code",
   "execution_count": 28,
   "id": "4bb98451",
   "metadata": {},
   "outputs": [],
   "source": [
    "morbilidad[\"Fgen\"] = morbilidad.DiagGen.replace(capitulando)"
   ]
  },
  {
   "cell_type": "code",
   "execution_count": 29,
   "id": "7d868030",
   "metadata": {},
   "outputs": [],
   "source": [
    "discapacidad = morbilidad[morbilidad[\"Fgen\"] == 'Retraso mental'].index"
   ]
  },
  {
   "cell_type": "code",
   "execution_count": 30,
   "id": "9d7647c3",
   "metadata": {},
   "outputs": [],
   "source": [
    "morbilidad.drop(discapacidad,inplace = True)"
   ]
  },
  {
   "cell_type": "code",
   "execution_count": 31,
   "id": "3cf4ff7f",
   "metadata": {},
   "outputs": [],
   "source": [
    "morbilidad.to_csv(\"../data/morbilidad_Fgen.csv\",index=False)"
   ]
  },
  {
   "cell_type": "code",
   "execution_count": 32,
   "id": "8f72b4b2",
   "metadata": {},
   "outputs": [
    {
     "data": {
      "text/plain": [
       "array(['Trastornos mentales orgánicos, incluidos los trastornos sintomáticos',\n",
       "       'Trastornos mentales y de comportamiento debidos al consumo de psicotrópicos',\n",
       "       'Esquizofrenia, trastornos esquizotípicos y trastornos delirantes',\n",
       "       'Trastornos del estado de animo, trastornos afectivos',\n",
       "       'Trastornos neuróticos, trastornos relacionados con el estrés y trastornos somatomorfos',\n",
       "       'Síndromes del comportamiento asociados con alteraciones fisiológicas y factores físicos',\n",
       "       'Trastornos de la personalidad y del comportamiento en adultos',\n",
       "       'Trastornos del desarrollo psicológico',\n",
       "       'Trastornos emocionales y del comportamiento que aparecen habitualmente en la niñez o en la adolescencia',\n",
       "       'Trastornos mentales sin especificar'], dtype=object)"
      ]
     },
     "execution_count": 32,
     "metadata": {},
     "output_type": "execute_result"
    }
   ],
   "source": [
    "morbilidad.Fgen.unique()"
   ]
  },
  {
   "cell_type": "code",
   "execution_count": 33,
   "id": "51e0dafe",
   "metadata": {},
   "outputs": [
    {
     "data": {
      "text/html": [
       "<div>\n",
       "<style scoped>\n",
       "    .dataframe tbody tr th:only-of-type {\n",
       "        vertical-align: middle;\n",
       "    }\n",
       "\n",
       "    .dataframe tbody tr th {\n",
       "        vertical-align: top;\n",
       "    }\n",
       "\n",
       "    .dataframe thead th {\n",
       "        text-align: right;\n",
       "    }\n",
       "</style>\n",
       "<table border=\"1\" class=\"dataframe\">\n",
       "  <thead>\n",
       "    <tr style=\"text-align: right;\">\n",
       "      <th></th>\n",
       "      <th>ProvHosp</th>\n",
       "      <th>Sexo</th>\n",
       "      <th>ProvResi</th>\n",
       "      <th>DiagEntr</th>\n",
       "      <th>FxAlta</th>\n",
       "      <th>DiagPrin</th>\n",
       "      <th>MotivoAlta</th>\n",
       "      <th>EdadAnios</th>\n",
       "      <th>DiasEstancia</th>\n",
       "      <th>Factor</th>\n",
       "      <th>DiagGen</th>\n",
       "      <th>FFF</th>\n",
       "      <th>Fgen</th>\n",
       "    </tr>\n",
       "  </thead>\n",
       "  <tbody>\n",
       "    <tr>\n",
       "      <th>767486</th>\n",
       "      <td>8</td>\n",
       "      <td>1</td>\n",
       "      <td>8</td>\n",
       "      <td>1</td>\n",
       "      <td>12082016</td>\n",
       "      <td>F919</td>\n",
       "      <td>2</td>\n",
       "      <td>17</td>\n",
       "      <td>45</td>\n",
       "      <td>1.02915</td>\n",
       "      <td>F91</td>\n",
       "      <td>Trastornos de conducta</td>\n",
       "      <td>Trastornos emocionales y del comportamiento qu...</td>\n",
       "    </tr>\n",
       "    <tr>\n",
       "      <th>684990</th>\n",
       "      <td>46</td>\n",
       "      <td>1</td>\n",
       "      <td>46</td>\n",
       "      <td>2</td>\n",
       "      <td>19092016</td>\n",
       "      <td>F19950</td>\n",
       "      <td>1</td>\n",
       "      <td>32</td>\n",
       "      <td>7</td>\n",
       "      <td>1.00000</td>\n",
       "      <td>F19</td>\n",
       "      <td>Trastornos mentales y de comportamiento debido...</td>\n",
       "      <td>Trastornos mentales y de comportamiento debido...</td>\n",
       "    </tr>\n",
       "    <tr>\n",
       "      <th>763499</th>\n",
       "      <td>28</td>\n",
       "      <td>1</td>\n",
       "      <td>28</td>\n",
       "      <td>2</td>\n",
       "      <td>3032017</td>\n",
       "      <td>F332</td>\n",
       "      <td>1</td>\n",
       "      <td>44</td>\n",
       "      <td>4</td>\n",
       "      <td>1.00000</td>\n",
       "      <td>F33</td>\n",
       "      <td>Trastorno depresivo mayor, recurrente</td>\n",
       "      <td>Trastornos del estado de animo, trastornos afe...</td>\n",
       "    </tr>\n",
       "    <tr>\n",
       "      <th>773714</th>\n",
       "      <td>28</td>\n",
       "      <td>2</td>\n",
       "      <td>28</td>\n",
       "      <td>2</td>\n",
       "      <td>29012019</td>\n",
       "      <td>F322</td>\n",
       "      <td>1</td>\n",
       "      <td>53</td>\n",
       "      <td>48</td>\n",
       "      <td>1.01201</td>\n",
       "      <td>F32</td>\n",
       "      <td>Trastorno depresivo mayor, episodio único</td>\n",
       "      <td>Trastornos del estado de animo, trastornos afe...</td>\n",
       "    </tr>\n",
       "    <tr>\n",
       "      <th>731819</th>\n",
       "      <td>2</td>\n",
       "      <td>1</td>\n",
       "      <td>2</td>\n",
       "      <td>1</td>\n",
       "      <td>1092017</td>\n",
       "      <td>F250</td>\n",
       "      <td>1</td>\n",
       "      <td>24</td>\n",
       "      <td>4</td>\n",
       "      <td>1.00000</td>\n",
       "      <td>F25</td>\n",
       "      <td>Trastornos esquizoafectivos</td>\n",
       "      <td>Esquizofrenia, trastornos esquizotípicos y tra...</td>\n",
       "    </tr>\n",
       "  </tbody>\n",
       "</table>\n",
       "</div>"
      ],
      "text/plain": [
       "        ProvHosp  Sexo  ProvResi  DiagEntr    FxAlta DiagPrin  MotivoAlta  \\\n",
       "767486         8     1         8         1  12082016     F919           2   \n",
       "684990        46     1        46         2  19092016   F19950           1   \n",
       "763499        28     1        28         2   3032017     F332           1   \n",
       "773714        28     2        28         2  29012019     F322           1   \n",
       "731819         2     1         2         1   1092017     F250           1   \n",
       "\n",
       "        EdadAnios  DiasEstancia   Factor DiagGen  \\\n",
       "767486         17            45  1.02915     F91   \n",
       "684990         32             7  1.00000     F19   \n",
       "763499         44             4  1.00000     F33   \n",
       "773714         53            48  1.01201     F32   \n",
       "731819         24             4  1.00000     F25   \n",
       "\n",
       "                                                      FFF  \\\n",
       "767486                             Trastornos de conducta   \n",
       "684990  Trastornos mentales y de comportamiento debido...   \n",
       "763499              Trastorno depresivo mayor, recurrente   \n",
       "773714          Trastorno depresivo mayor, episodio único   \n",
       "731819                        Trastornos esquizoafectivos   \n",
       "\n",
       "                                                     Fgen  \n",
       "767486  Trastornos emocionales y del comportamiento qu...  \n",
       "684990  Trastornos mentales y de comportamiento debido...  \n",
       "763499  Trastornos del estado de animo, trastornos afe...  \n",
       "773714  Trastornos del estado de animo, trastornos afe...  \n",
       "731819  Esquizofrenia, trastornos esquizotípicos y tra...  "
      ]
     },
     "execution_count": 33,
     "metadata": {},
     "output_type": "execute_result"
    }
   ],
   "source": [
    "morbilidad.sample(5)"
   ]
  },
  {
   "cell_type": "code",
   "execution_count": 34,
   "id": "7bec5963",
   "metadata": {},
   "outputs": [
    {
     "data": {
      "text/plain": [
       "{'Trastornos mentales orgánicos, incluidos los trastornos sintomáticos': 'F00-F09',\n",
       " 'Trastornos mentales y de comportamiento debidos al consumo de psicotrópicos': 'F10-F19',\n",
       " 'Esquizofrenia, trastornos esquizotípicos y trastornos delirantes': 'F20-29',\n",
       " 'Trastornos del estado de animo, trastornos afectivos': 'F30-39',\n",
       " 'Trastornos neuróticos, trastornos relacionados con el estrés y trastornos somatomorfos': 'F40-49',\n",
       " 'Síndromes del comportamiento asociados con alteraciones fisiológicas y factores físicos': 'F50-59',\n",
       " 'Trastornos de la personalidad y del comportamiento en adultos': 'F60-69',\n",
       " 'Retraso mental': 'F70-79',\n",
       " 'Trastornos del desarrollo psicológico': 'F80-89',\n",
       " 'Trastornos emocionales y del comportamiento que aparecen habitualmente en la niñez o en la adolescencia': 'F90-F98',\n",
       " 'Trastornos mentales sin especificar': 'F99'}"
      ]
     },
     "execution_count": 34,
     "metadata": {},
     "output_type": "execute_result"
    }
   ],
   "source": [
    "reverse_dic = {}\n",
    "for i,r in capi.iterrows():\n",
    "    reverse_dic[r.diag] = r.code\n",
    "reverse_dic"
   ]
  },
  {
   "cell_type": "code",
   "execution_count": 35,
   "id": "1a2d12ba",
   "metadata": {},
   "outputs": [],
   "source": [
    "morbilidad.FxAlta = morbilidad.FxAlta.astype('string')"
   ]
  },
  {
   "cell_type": "code",
   "execution_count": 36,
   "id": "007d4078",
   "metadata": {},
   "outputs": [],
   "source": [
    "morbilidad[\"CodGen\"] = morbilidad.Fgen.replace(reverse_dic)"
   ]
  },
  {
   "cell_type": "code",
   "execution_count": 37,
   "id": "c00cd95e",
   "metadata": {},
   "outputs": [],
   "source": [
    "morbilidad['fecha_al'] = pd.to_datetime({'year': morbilidad.FxAlta.str[-4:],\n",
    "                           'month': morbilidad.FxAlta.str[-6:-4],\n",
    "                           'day': morbilidad.FxAlta.str[:-6]\n",
    "                           })"
   ]
  },
  {
   "cell_type": "code",
   "execution_count": 38,
   "id": "137f056c",
   "metadata": {},
   "outputs": [
    {
     "data": {
      "text/html": [
       "<div>\n",
       "<style scoped>\n",
       "    .dataframe tbody tr th:only-of-type {\n",
       "        vertical-align: middle;\n",
       "    }\n",
       "\n",
       "    .dataframe tbody tr th {\n",
       "        vertical-align: top;\n",
       "    }\n",
       "\n",
       "    .dataframe thead th {\n",
       "        text-align: right;\n",
       "    }\n",
       "</style>\n",
       "<table border=\"1\" class=\"dataframe\">\n",
       "  <thead>\n",
       "    <tr style=\"text-align: right;\">\n",
       "      <th></th>\n",
       "      <th>ProvHosp</th>\n",
       "      <th>Sexo</th>\n",
       "      <th>ProvResi</th>\n",
       "      <th>DiagEntr</th>\n",
       "      <th>FxAlta</th>\n",
       "      <th>DiagPrin</th>\n",
       "      <th>MotivoAlta</th>\n",
       "      <th>EdadAnios</th>\n",
       "      <th>DiasEstancia</th>\n",
       "      <th>Factor</th>\n",
       "      <th>DiagGen</th>\n",
       "      <th>FFF</th>\n",
       "      <th>Fgen</th>\n",
       "      <th>CodGen</th>\n",
       "      <th>fecha_al</th>\n",
       "    </tr>\n",
       "  </thead>\n",
       "  <tbody>\n",
       "    <tr>\n",
       "      <th>768954</th>\n",
       "      <td>15</td>\n",
       "      <td>1</td>\n",
       "      <td>15</td>\n",
       "      <td>2</td>\n",
       "      <td>13072017</td>\n",
       "      <td>F411</td>\n",
       "      <td>1</td>\n",
       "      <td>75</td>\n",
       "      <td>1</td>\n",
       "      <td>1.00000</td>\n",
       "      <td>F41</td>\n",
       "      <td>Otros trastornos de ansiedad</td>\n",
       "      <td>Trastornos neuróticos, trastornos relacionados...</td>\n",
       "      <td>F40-49</td>\n",
       "      <td>2017-07-13</td>\n",
       "    </tr>\n",
       "    <tr>\n",
       "      <th>733161</th>\n",
       "      <td>25</td>\n",
       "      <td>1</td>\n",
       "      <td>25</td>\n",
       "      <td>1</td>\n",
       "      <td>4072018</td>\n",
       "      <td>F259</td>\n",
       "      <td>1</td>\n",
       "      <td>67</td>\n",
       "      <td>50</td>\n",
       "      <td>4.37919</td>\n",
       "      <td>F25</td>\n",
       "      <td>Trastornos esquizoafectivos</td>\n",
       "      <td>Esquizofrenia, trastornos esquizotípicos y tra...</td>\n",
       "      <td>F20-29</td>\n",
       "      <td>2018-07-04</td>\n",
       "    </tr>\n",
       "    <tr>\n",
       "      <th>721057</th>\n",
       "      <td>8</td>\n",
       "      <td>1</td>\n",
       "      <td>8</td>\n",
       "      <td>1</td>\n",
       "      <td>22062018</td>\n",
       "      <td>F209</td>\n",
       "      <td>1</td>\n",
       "      <td>22</td>\n",
       "      <td>35</td>\n",
       "      <td>1.26359</td>\n",
       "      <td>F20</td>\n",
       "      <td>Esquizofrenia</td>\n",
       "      <td>Esquizofrenia, trastornos esquizotípicos y tra...</td>\n",
       "      <td>F20-29</td>\n",
       "      <td>2018-06-22</td>\n",
       "    </tr>\n",
       "  </tbody>\n",
       "</table>\n",
       "</div>"
      ],
      "text/plain": [
       "        ProvHosp  Sexo  ProvResi  DiagEntr    FxAlta DiagPrin  MotivoAlta  \\\n",
       "768954        15     1        15         2  13072017     F411           1   \n",
       "733161        25     1        25         1   4072018     F259           1   \n",
       "721057         8     1         8         1  22062018     F209           1   \n",
       "\n",
       "        EdadAnios  DiasEstancia   Factor DiagGen  \\\n",
       "768954         75             1  1.00000     F41   \n",
       "733161         67            50  4.37919     F25   \n",
       "721057         22            35  1.26359     F20   \n",
       "\n",
       "                                 FFF  \\\n",
       "768954  Otros trastornos de ansiedad   \n",
       "733161   Trastornos esquizoafectivos   \n",
       "721057                 Esquizofrenia   \n",
       "\n",
       "                                                     Fgen  CodGen   fecha_al  \n",
       "768954  Trastornos neuróticos, trastornos relacionados...  F40-49 2017-07-13  \n",
       "733161  Esquizofrenia, trastornos esquizotípicos y tra...  F20-29 2018-07-04  \n",
       "721057  Esquizofrenia, trastornos esquizotípicos y tra...  F20-29 2018-06-22  "
      ]
     },
     "execution_count": 38,
     "metadata": {},
     "output_type": "execute_result"
    }
   ],
   "source": [
    "morbilidad.sample(3)"
   ]
  },
  {
   "cell_type": "code",
   "execution_count": 39,
   "id": "021b8d05",
   "metadata": {},
   "outputs": [],
   "source": [
    "morbilidad['fecha_ing'] = morbilidad.apply(lambda fila: fila['fecha_al'] - datetime.timedelta(days = fila['DiasEstancia']), axis= 1)"
   ]
  },
  {
   "cell_type": "code",
   "execution_count": 40,
   "id": "4fd7d3b9",
   "metadata": {},
   "outputs": [],
   "source": [
    "#diccionarios códigos\n",
    "dic_pro ={2:'Albacete',3:'Alicante',4:'Almería',1:'Álava',33:'Asturias',5:'Ávila',6:'Badajoz',7:'Balears, Illes',\n",
    "8:'Barcelona',48:'Bizkaia',9:'Burgos',10:'Cáceres',11:'Cádiz',39:'Cantabria',12:'Castellón',13:'Ciudad Real',\n",
    "14:'Córdoba',15:'Coruña, A',16:'Cuenca',20:'Gipuzkoa',17:'Girona',18:'Granada',19:'Guadalajara',21:'Huelva',22:'Huesca',\n",
    "23:'Jaén',24:'León',25:'Lleida',27:'Lugo',28:'Madrid',29:'Málaga',30:'Murcia',31:'Navarra',32:'Ourense',34:'Palencia',\n",
    "35:'Palmas, Las',36:'Pontevedra',26:'Rioja, La',37:'Salamanca',38:'Santa Cruz de Tenerife',40:'Segovia',41:'Sevilla',42:'Soria',\n",
    "43:'Tarragona',44:'Teruel',45:'Toledo',46:'Valencia',47:'Valladolid',49:'Zamora',50:'Zaragoza',51:'Ceuta',\n",
    "52:'Melilla',53:'Extranjeros'}\n",
    "dic_sexo = {1:'Hombre',2:'Mujer'}\n",
    "dic_entrada = {1:'Ordinario',2:'Urgente'}\n",
    "dic_alta = {1: \"Curación\",2:'Traslado',3:'Fallecimiento',4:'Otras'}"
   ]
  },
  {
   "cell_type": "code",
   "execution_count": 41,
   "id": "7a5a30b9",
   "metadata": {},
   "outputs": [],
   "source": [
    "morbilidad.ProvHosp = morbilidad.ProvHosp.map(dic_pro) #ProvResi\n",
    "morbilidad.ProvResi = morbilidad.ProvResi.map(dic_pro)\n",
    "morbilidad.DiagEntr = morbilidad.DiagEntr.map(dic_entrada)\n",
    "morbilidad.MotivoAlta = morbilidad.MotivoAlta.map(dic_alta)\n",
    "morbilidad.Sexo = morbilidad.Sexo.map(dic_sexo)"
   ]
  },
  {
   "cell_type": "code",
   "execution_count": 42,
   "id": "5a17cd43",
   "metadata": {},
   "outputs": [],
   "source": [
    "morbilidad.drop(['FxAlta','DiagPrin'],axis=1,inplace = True)"
   ]
  },
  {
   "cell_type": "code",
   "execution_count": 43,
   "id": "d856024b",
   "metadata": {},
   "outputs": [],
   "source": [
    "morbilidad.columns = ['ProvHosp', 'Sexo', 'ProvResi', 'Urgencia', 'MotivoAlta', 'Edad',\n",
    "       'Dias', 'Factor', 'CodeDiag', 'Diag', 'DiagGen', 'CodeGen',\n",
    "       'fecha_al', 'fecha_ing']"
   ]
  },
  {
   "cell_type": "code",
   "execution_count": 44,
   "id": "89e24a77",
   "metadata": {},
   "outputs": [],
   "source": [
    "morbilidad = morbilidad.iloc[:,[1,5,0,2,3,12,13,6,4,8,9,11,10,7]]"
   ]
  },
  {
   "cell_type": "code",
   "execution_count": 45,
   "id": "69fc3097",
   "metadata": {},
   "outputs": [
    {
     "data": {
      "text/plain": [
       "24517"
      ]
     },
     "execution_count": 45,
     "metadata": {},
     "output_type": "execute_result"
    }
   ],
   "source": [
    "morbilidad.Dias.max()"
   ]
  },
  {
   "cell_type": "code",
   "execution_count": 46,
   "id": "df3ba0cd",
   "metadata": {},
   "outputs": [
    {
     "data": {
      "text/html": [
       "<div>\n",
       "<style scoped>\n",
       "    .dataframe tbody tr th:only-of-type {\n",
       "        vertical-align: middle;\n",
       "    }\n",
       "\n",
       "    .dataframe tbody tr th {\n",
       "        vertical-align: top;\n",
       "    }\n",
       "\n",
       "    .dataframe thead th {\n",
       "        text-align: right;\n",
       "    }\n",
       "</style>\n",
       "<table border=\"1\" class=\"dataframe\">\n",
       "  <thead>\n",
       "    <tr style=\"text-align: right;\">\n",
       "      <th></th>\n",
       "      <th>Sexo</th>\n",
       "      <th>Edad</th>\n",
       "      <th>ProvHosp</th>\n",
       "      <th>ProvResi</th>\n",
       "      <th>Urgencia</th>\n",
       "      <th>fecha_al</th>\n",
       "      <th>fecha_ing</th>\n",
       "      <th>Dias</th>\n",
       "      <th>MotivoAlta</th>\n",
       "      <th>CodeDiag</th>\n",
       "      <th>Diag</th>\n",
       "      <th>CodeGen</th>\n",
       "      <th>DiagGen</th>\n",
       "      <th>Factor</th>\n",
       "    </tr>\n",
       "  </thead>\n",
       "  <tbody>\n",
       "    <tr>\n",
       "      <th>752223</th>\n",
       "      <td>Hombre</td>\n",
       "      <td>34</td>\n",
       "      <td>Alicante</td>\n",
       "      <td>Alicante</td>\n",
       "      <td>Urgente</td>\n",
       "      <td>2019-10-04</td>\n",
       "      <td>2019-09-29</td>\n",
       "      <td>5</td>\n",
       "      <td>Curación</td>\n",
       "      <td>F25</td>\n",
       "      <td>Trastornos esquizoafectivos</td>\n",
       "      <td>F20-29</td>\n",
       "      <td>Esquizofrenia, trastornos esquizotípicos y tra...</td>\n",
       "      <td>1.00000</td>\n",
       "    </tr>\n",
       "    <tr>\n",
       "      <th>703609</th>\n",
       "      <td>Hombre</td>\n",
       "      <td>78</td>\n",
       "      <td>Santa Cruz de Tenerife</td>\n",
       "      <td>Santa Cruz de Tenerife</td>\n",
       "      <td>Urgente</td>\n",
       "      <td>2016-03-22</td>\n",
       "      <td>2016-03-07</td>\n",
       "      <td>15</td>\n",
       "      <td>Curación</td>\n",
       "      <td>F22</td>\n",
       "      <td>Trastornos delirantes persistentes</td>\n",
       "      <td>F20-29</td>\n",
       "      <td>Esquizofrenia, trastornos esquizotípicos y tra...</td>\n",
       "      <td>1.00000</td>\n",
       "    </tr>\n",
       "    <tr>\n",
       "      <th>698485</th>\n",
       "      <td>Mujer</td>\n",
       "      <td>19</td>\n",
       "      <td>Barcelona</td>\n",
       "      <td>Barcelona</td>\n",
       "      <td>Urgente</td>\n",
       "      <td>2016-07-01</td>\n",
       "      <td>2016-06-17</td>\n",
       "      <td>14</td>\n",
       "      <td>Curación</td>\n",
       "      <td>F20</td>\n",
       "      <td>Esquizofrenia</td>\n",
       "      <td>F20-29</td>\n",
       "      <td>Esquizofrenia, trastornos esquizotípicos y tra...</td>\n",
       "      <td>1.01123</td>\n",
       "    </tr>\n",
       "  </tbody>\n",
       "</table>\n",
       "</div>"
      ],
      "text/plain": [
       "          Sexo  Edad                ProvHosp                ProvResi Urgencia  \\\n",
       "752223  Hombre    34                Alicante                Alicante  Urgente   \n",
       "703609  Hombre    78  Santa Cruz de Tenerife  Santa Cruz de Tenerife  Urgente   \n",
       "698485   Mujer    19               Barcelona               Barcelona  Urgente   \n",
       "\n",
       "         fecha_al  fecha_ing  Dias MotivoAlta CodeDiag  \\\n",
       "752223 2019-10-04 2019-09-29     5   Curación      F25   \n",
       "703609 2016-03-22 2016-03-07    15   Curación      F22   \n",
       "698485 2016-07-01 2016-06-17    14   Curación      F20   \n",
       "\n",
       "                                      Diag CodeGen  \\\n",
       "752223         Trastornos esquizoafectivos  F20-29   \n",
       "703609  Trastornos delirantes persistentes  F20-29   \n",
       "698485                       Esquizofrenia  F20-29   \n",
       "\n",
       "                                                  DiagGen   Factor  \n",
       "752223  Esquizofrenia, trastornos esquizotípicos y tra...  1.00000  \n",
       "703609  Esquizofrenia, trastornos esquizotípicos y tra...  1.00000  \n",
       "698485  Esquizofrenia, trastornos esquizotípicos y tra...  1.01123  "
      ]
     },
     "execution_count": 46,
     "metadata": {},
     "output_type": "execute_result"
    }
   ],
   "source": [
    "morbilidad.sample(3)"
   ]
  },
  {
   "cell_type": "code",
   "execution_count": 47,
   "id": "0ff109a3",
   "metadata": {},
   "outputs": [],
   "source": [
    "morbilidad.to_csv(\"../data/morbilidad_Fgen.csv\",index=False)"
   ]
  },
  {
   "cell_type": "code",
   "execution_count": null,
   "id": "146ce858",
   "metadata": {},
   "outputs": [],
   "source": []
  }
 ],
 "metadata": {
  "kernelspec": {
   "display_name": "ironhack",
   "language": "python",
   "name": "ironhack"
  },
  "language_info": {
   "codemirror_mode": {
    "name": "ipython",
    "version": 3
   },
   "file_extension": ".py",
   "mimetype": "text/x-python",
   "name": "python",
   "nbconvert_exporter": "python",
   "pygments_lexer": "ipython3",
   "version": "3.8.5"
  }
 },
 "nbformat": 4,
 "nbformat_minor": 5
}
