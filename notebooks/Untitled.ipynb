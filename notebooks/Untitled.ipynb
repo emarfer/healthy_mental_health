{
 "cells": [
  {
   "cell_type": "code",
   "execution_count": null,
   "id": "3270a4d7-b27f-4ca1-9fb1-ff95c6ad0209",
   "metadata": {},
   "outputs": [],
   "source": []
  }
 ],
 "metadata": {
  "kernelspec": {
   "display_name": "healthy",
   "language": "python",
   "name": "healthy"
  },
  "language_info": {
   "codemirror_mode": {
    "name": "ipython",
    "version": 3
   },
   "file_extension": ".py",
   "mimetype": "text/x-python",
   "name": "python",
   "nbconvert_exporter": "python",
   "pygments_lexer": "ipython3",
   "version": "3.8.10"
  }
 },
 "nbformat": 4,
 "nbformat_minor": 5
}
