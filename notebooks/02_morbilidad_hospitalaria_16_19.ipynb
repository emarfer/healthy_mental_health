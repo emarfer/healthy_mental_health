{
 "cells": [
  {
   "cell_type": "markdown",
   "id": "e77e8f33",
   "metadata": {},
   "source": [
    "# Morbilidad Hospitalaria España 2016-2019\n",
    "## Creación dataframe para visualización\n",
    "\n",
    "[Datos INE](https://www.ine.es/dyngs/INEbase/es/operacion.htm?c=Estadistica_C&cid=1254736176778&menu=resultados&secc=1254736195291&idp=1254735573175#!tabs-1254736195291)"
   ]
  },
  {
   "cell_type": "code",
   "execution_count": 1,
   "id": "20c08b42",
   "metadata": {},
   "outputs": [],
   "source": [
    "import pandas as pd\n",
    "import datetime\n",
    "import json\n",
    "from shapely.geometry import shape\n",
    "import geopandas as gpd\n",
    "import geojson"
   ]
  },
  {
   "cell_type": "code",
   "execution_count": 2,
   "id": "37d60af0",
   "metadata": {},
   "outputs": [],
   "source": [
    "#tenemos 4 dataframes por años desde 2016 a 2019\n",
    "morbi16 = pd.read_csv('../data/morbilidad/EMH_2016_G01.csv',sep='\\t')\n",
    "morbi17 = pd.read_csv('../data/morbilidad/EMH_2017_G01.csv',sep='\\t')\n",
    "morbi18 = pd.read_csv('../data/morbilidad/EMH_2018_G01.csv',sep='\\t')\n",
    "morbi19 = pd.read_csv('../data/morbilidad/EMH_2019_G01.csv',sep='\\t')"
   ]
  },
  {
   "cell_type": "code",
   "execution_count": 3,
   "id": "750d4c8b",
   "metadata": {},
   "outputs": [],
   "source": [
    "morbilidad = pd.concat([morbi16,morbi17,morbi18,morbi19])"
   ]
  },
  {
   "cell_type": "code",
   "execution_count": 4,
   "id": "2c5e6659",
   "metadata": {},
   "outputs": [
    {
     "data": {
      "text/html": [
       "<div>\n",
       "<style scoped>\n",
       "    .dataframe tbody tr th:only-of-type {\n",
       "        vertical-align: middle;\n",
       "    }\n",
       "\n",
       "    .dataframe tbody tr th {\n",
       "        vertical-align: top;\n",
       "    }\n",
       "\n",
       "    .dataframe thead th {\n",
       "        text-align: right;\n",
       "    }\n",
       "</style>\n",
       "<table border=\"1\" class=\"dataframe\">\n",
       "  <thead>\n",
       "    <tr style=\"text-align: right;\">\n",
       "      <th></th>\n",
       "      <th>Norden</th>\n",
       "      <th>ProvHosp</th>\n",
       "      <th>Sexo</th>\n",
       "      <th>ProvResi</th>\n",
       "      <th>DiagEntr</th>\n",
       "      <th>FxAlta</th>\n",
       "      <th>DiagPrin</th>\n",
       "      <th>MotivoAlta</th>\n",
       "      <th>EdadAnios</th>\n",
       "      <th>EdadMes</th>\n",
       "      <th>EdadDias</th>\n",
       "      <th>DiasEstancia</th>\n",
       "      <th>Factor</th>\n",
       "    </tr>\n",
       "  </thead>\n",
       "  <tbody>\n",
       "    <tr>\n",
       "      <th>468517</th>\n",
       "      <td>26215238</td>\n",
       "      <td>28</td>\n",
       "      <td>1</td>\n",
       "      <td>28</td>\n",
       "      <td>2</td>\n",
       "      <td>26042019</td>\n",
       "      <td>C9100</td>\n",
       "      <td>1</td>\n",
       "      <td>4</td>\n",
       "      <td>7</td>\n",
       "      <td>9</td>\n",
       "      <td>29</td>\n",
       "      <td>1.01201</td>\n",
       "    </tr>\n",
       "    <tr>\n",
       "      <th>788163</th>\n",
       "      <td>45357462</td>\n",
       "      <td>50</td>\n",
       "      <td>2</td>\n",
       "      <td>22</td>\n",
       "      <td>1</td>\n",
       "      <td>25012016</td>\n",
       "      <td>G379</td>\n",
       "      <td>1</td>\n",
       "      <td>43</td>\n",
       "      <td>10</td>\n",
       "      <td>1</td>\n",
       "      <td>1</td>\n",
       "      <td>1.00000</td>\n",
       "    </tr>\n",
       "    <tr>\n",
       "      <th>46885</th>\n",
       "      <td>1786567</td>\n",
       "      <td>3</td>\n",
       "      <td>1</td>\n",
       "      <td>3</td>\n",
       "      <td>2</td>\n",
       "      <td>2082016</td>\n",
       "      <td>A419</td>\n",
       "      <td>1</td>\n",
       "      <td>56</td>\n",
       "      <td>5</td>\n",
       "      <td>24</td>\n",
       "      <td>8</td>\n",
       "      <td>1.00000</td>\n",
       "    </tr>\n",
       "    <tr>\n",
       "      <th>655431</th>\n",
       "      <td>36937465</td>\n",
       "      <td>39</td>\n",
       "      <td>2</td>\n",
       "      <td>39</td>\n",
       "      <td>1</td>\n",
       "      <td>20052017</td>\n",
       "      <td>E6601</td>\n",
       "      <td>1</td>\n",
       "      <td>27</td>\n",
       "      <td>9</td>\n",
       "      <td>4</td>\n",
       "      <td>4</td>\n",
       "      <td>1.00000</td>\n",
       "    </tr>\n",
       "    <tr>\n",
       "      <th>723538</th>\n",
       "      <td>30618308</td>\n",
       "      <td>30</td>\n",
       "      <td>2</td>\n",
       "      <td>30</td>\n",
       "      <td>1</td>\n",
       "      <td>19052016</td>\n",
       "      <td>F312</td>\n",
       "      <td>1</td>\n",
       "      <td>44</td>\n",
       "      <td>11</td>\n",
       "      <td>27</td>\n",
       "      <td>4</td>\n",
       "      <td>1.05054</td>\n",
       "    </tr>\n",
       "  </tbody>\n",
       "</table>\n",
       "</div>"
      ],
      "text/plain": [
       "          Norden  ProvHosp  Sexo  ProvResi  DiagEntr    FxAlta DiagPrin  \\\n",
       "468517  26215238        28     1        28         2  26042019  C9100     \n",
       "788163  45357462        50     2        22         1  25012016  G379      \n",
       "46885    1786567         3     1         3         2   2082016  A419      \n",
       "655431  36937465        39     2        39         1  20052017  E6601     \n",
       "723538  30618308        30     2        30         1  19052016  F312      \n",
       "\n",
       "        MotivoAlta  EdadAnios  EdadMes  EdadDias  DiasEstancia   Factor  \n",
       "468517           1          4        7         9            29  1.01201  \n",
       "788163           1         43       10         1             1  1.00000  \n",
       "46885            1         56        5        24             8  1.00000  \n",
       "655431           1         27        9         4             4  1.00000  \n",
       "723538           1         44       11        27             4  1.05054  "
      ]
     },
     "execution_count": 4,
     "metadata": {},
     "output_type": "execute_result"
    }
   ],
   "source": [
    "morbilidad.sample(5)"
   ]
  },
  {
   "cell_type": "code",
   "execution_count": 5,
   "id": "d83eea8a",
   "metadata": {},
   "outputs": [],
   "source": [
    "#el código de las enferemades mentales empeizan por F (hacemos una selección)\n",
    "morbilidad = morbilidad[morbilidad[\"DiagPrin\"].str.contains('^F')]\n",
    "morbilidad.DiagPrin = morbilidad.DiagPrin.str.strip()"
   ]
  },
  {
   "cell_type": "code",
   "execution_count": 6,
   "id": "7564d4c2",
   "metadata": {},
   "outputs": [],
   "source": [
    "morbilidad.drop(['Norden','EdadDias','EdadMes'],axis=1,inplace = True)"
   ]
  },
  {
   "cell_type": "code",
   "execution_count": 7,
   "id": "1294f7f9",
   "metadata": {},
   "outputs": [
    {
     "data": {
      "text/plain": [
       "array(['F0150', 'F0151', 'F0390', 'F0391', 'F04', 'F05', 'F060', 'F061',\n",
       "       'F062', 'F0630', 'F0631', 'F0632', 'F0633', 'F0634', 'F064',\n",
       "       'F068', 'F070', 'F0781', 'F0789', 'F079'], dtype=object)"
      ]
     },
     "execution_count": 7,
     "metadata": {},
     "output_type": "execute_result"
    }
   ],
   "source": [
    "morbilidad.DiagPrin.unique()[0:20] #extraer F + 2 primero dígitos para tener los tipos de enfermedasdes mentales agrupadas"
   ]
  },
  {
   "cell_type": "code",
   "execution_count": 8,
   "id": "d4ba0931",
   "metadata": {},
   "outputs": [],
   "source": [
    "morbilidad[\"code\"] = morbilidad.DiagPrin.str.extract(r'(^F..)')"
   ]
  },
  {
   "cell_type": "code",
   "execution_count": 9,
   "id": "3442cb50",
   "metadata": {},
   "outputs": [
    {
     "data": {
      "text/plain": [
       "array(['F01', 'F03', 'F04', 'F05', 'F06', 'F07', 'F09', 'F10', 'F11',\n",
       "       'F12', 'F13', 'F14', 'F15', 'F16', 'F17', 'F18', 'F19', 'F20',\n",
       "       'F21', 'F22', 'F23', 'F24', 'F25', 'F28', 'F29', 'F30', 'F31',\n",
       "       'F32', 'F33', 'F34', 'F39', 'F40', 'F41', 'F42', 'F43', 'F44',\n",
       "       'F45', 'F48', 'F50', 'F51', 'F52', 'F53', 'F55', 'F59', 'F60',\n",
       "       'F63', 'F64', 'F65', 'F66', 'F68', 'F69', 'F70', 'F71', 'F72',\n",
       "       'F73', 'F78', 'F79', 'F80', 'F81', 'F82', 'F84', 'F88', 'F89',\n",
       "       'F90', 'F91', 'F93', 'F94', 'F95', 'F98', 'F99'], dtype=object)"
      ]
     },
     "execution_count": 9,
     "metadata": {},
     "output_type": "execute_result"
    }
   ],
   "source": [
    "morbilidad.code.unique()"
   ]
  },
  {
   "cell_type": "markdown",
   "id": "23ce867b",
   "metadata": {},
   "source": [
    "## Añadimos códigos CIE (Capítulos y diagnósticos)"
   ]
  },
  {
   "cell_type": "code",
   "execution_count": 10,
   "id": "03fd717a",
   "metadata": {},
   "outputs": [],
   "source": [
    "#importamos la tabla de correspondencia entre código de diagnóstico agrupadas y nombre\n",
    "diagnos = pd.read_csv(\"../data/diagnos.csv\")"
   ]
  },
  {
   "cell_type": "code",
   "execution_count": 11,
   "id": "2043a340",
   "metadata": {},
   "outputs": [
    {
     "data": {
      "text/html": [
       "<div>\n",
       "<style scoped>\n",
       "    .dataframe tbody tr th:only-of-type {\n",
       "        vertical-align: middle;\n",
       "    }\n",
       "\n",
       "    .dataframe tbody tr th {\n",
       "        vertical-align: top;\n",
       "    }\n",
       "\n",
       "    .dataframe thead th {\n",
       "        text-align: right;\n",
       "    }\n",
       "</style>\n",
       "<table border=\"1\" class=\"dataframe\">\n",
       "  <thead>\n",
       "    <tr style=\"text-align: right;\">\n",
       "      <th></th>\n",
       "      <th>code</th>\n",
       "      <th>diag</th>\n",
       "      <th>cap</th>\n",
       "      <th>title</th>\n",
       "      <th>resumen_cap</th>\n",
       "    </tr>\n",
       "  </thead>\n",
       "  <tbody>\n",
       "    <tr>\n",
       "      <th>11</th>\n",
       "      <td>F11</td>\n",
       "      <td>Trastornos mentales y de comportamiento debido...</td>\n",
       "      <td>F10-F19</td>\n",
       "      <td>Trastornos mentales y de comportamiento debido...</td>\n",
       "      <td>consumo psicotrópicos</td>\n",
       "    </tr>\n",
       "    <tr>\n",
       "      <th>64</th>\n",
       "      <td>F82</td>\n",
       "      <td>Trastornos de desarrollo específicos de funcio...</td>\n",
       "      <td>F80-89</td>\n",
       "      <td>Trastornos del desarrollo psicológico</td>\n",
       "      <td>desarrollo psicológico</td>\n",
       "    </tr>\n",
       "    <tr>\n",
       "      <th>51</th>\n",
       "      <td>F64</td>\n",
       "      <td>Trastornos de identidad de género</td>\n",
       "      <td>F60-69</td>\n",
       "      <td>Trastornos de la personalidad y del comportami...</td>\n",
       "      <td>T. de la personalidad/comportamiento</td>\n",
       "    </tr>\n",
       "  </tbody>\n",
       "</table>\n",
       "</div>"
      ],
      "text/plain": [
       "   code                                               diag      cap  \\\n",
       "11  F11  Trastornos mentales y de comportamiento debido...  F10-F19   \n",
       "64  F82  Trastornos de desarrollo específicos de funcio...   F80-89   \n",
       "51  F64                  Trastornos de identidad de género   F60-69   \n",
       "\n",
       "                                                title  \\\n",
       "11  Trastornos mentales y de comportamiento debido...   \n",
       "64              Trastornos del desarrollo psicológico   \n",
       "51  Trastornos de la personalidad y del comportami...   \n",
       "\n",
       "                             resumen_cap  \n",
       "11                 consumo psicotrópicos  \n",
       "64                desarrollo psicológico  \n",
       "51  T. de la personalidad/comportamiento  "
      ]
     },
     "execution_count": 11,
     "metadata": {},
     "output_type": "execute_result"
    }
   ],
   "source": [
    "diagnos.sample(3) "
   ]
  },
  {
   "cell_type": "code",
   "execution_count": 12,
   "id": "47e16cc6",
   "metadata": {},
   "outputs": [
    {
     "data": {
      "text/plain": [
       "array(['F00', 'F01', 'F02', 'F03', 'F04', 'F05', 'F06', 'F07', 'F08',\n",
       "       'F09', 'F10', 'F11', 'F12', 'F13', 'F14', 'F15', 'F16', 'F17',\n",
       "       'F18', 'F19', 'F20', 'F21', 'F22', 'F23', 'F24', 'F25', 'F28',\n",
       "       'F29', 'F30', 'F31', 'F32', 'F33', 'F34', 'F39', 'F40', 'F41',\n",
       "       'F42', 'F43', 'F44', 'F45', 'F48', 'F50', 'F51', 'F52', 'F53',\n",
       "       'F54', 'F55', 'F59', 'F60', 'F62', 'F63', 'F64', 'F66', 'F68',\n",
       "       'F69', 'F65', 'F70', 'F71', 'F72', 'F73', 'F78', 'F79', 'F80',\n",
       "       'F81', 'F82', 'F83', 'F84', 'F88', 'F89', 'F90', 'F91', 'F92',\n",
       "       'F93', 'F94', 'F95', 'F98', 'F99'], dtype=object)"
      ]
     },
     "execution_count": 12,
     "metadata": {},
     "output_type": "execute_result"
    }
   ],
   "source": [
    "diagnos.code.unique()"
   ]
  },
  {
   "cell_type": "code",
   "execution_count": 13,
   "id": "8d9b1fe0",
   "metadata": {},
   "outputs": [],
   "source": [
    "dicc_diag = {} #crear diccionario con diagnósticos y códigos\n",
    "for i,r in diagnos.iterrows():\n",
    "    dicc_diag[r.code] = r.diag"
   ]
  },
  {
   "cell_type": "code",
   "execution_count": 14,
   "id": "3bbc347e",
   "metadata": {},
   "outputs": [],
   "source": [
    "dicc_cap = {} #crear diccionario con diagnósticos y códigos\n",
    "for i,r in diagnos.iterrows():\n",
    "    dicc_cap[r.code] = r.cap"
   ]
  },
  {
   "cell_type": "code",
   "execution_count": 15,
   "id": "25da4f05",
   "metadata": {},
   "outputs": [],
   "source": [
    "morbilidad[\"cap\"] = morbilidad.code.map(dicc_cap) #creamos nueva columnas"
   ]
  },
  {
   "cell_type": "code",
   "execution_count": 16,
   "id": "28dc7fef",
   "metadata": {},
   "outputs": [
    {
     "data": {
      "text/html": [
       "<div>\n",
       "<style scoped>\n",
       "    .dataframe tbody tr th:only-of-type {\n",
       "        vertical-align: middle;\n",
       "    }\n",
       "\n",
       "    .dataframe tbody tr th {\n",
       "        vertical-align: top;\n",
       "    }\n",
       "\n",
       "    .dataframe thead th {\n",
       "        text-align: right;\n",
       "    }\n",
       "</style>\n",
       "<table border=\"1\" class=\"dataframe\">\n",
       "  <thead>\n",
       "    <tr style=\"text-align: right;\">\n",
       "      <th></th>\n",
       "      <th>ProvHosp</th>\n",
       "      <th>Sexo</th>\n",
       "      <th>ProvResi</th>\n",
       "      <th>DiagEntr</th>\n",
       "      <th>FxAlta</th>\n",
       "      <th>DiagPrin</th>\n",
       "      <th>MotivoAlta</th>\n",
       "      <th>EdadAnios</th>\n",
       "      <th>DiasEstancia</th>\n",
       "      <th>Factor</th>\n",
       "      <th>code</th>\n",
       "      <th>cap</th>\n",
       "    </tr>\n",
       "  </thead>\n",
       "  <tbody>\n",
       "    <tr>\n",
       "      <th>737240</th>\n",
       "      <td>28</td>\n",
       "      <td>1</td>\n",
       "      <td>28</td>\n",
       "      <td>2</td>\n",
       "      <td>31102017</td>\n",
       "      <td>F259</td>\n",
       "      <td>4</td>\n",
       "      <td>50</td>\n",
       "      <td>9</td>\n",
       "      <td>1.0</td>\n",
       "      <td>F25</td>\n",
       "      <td>F20-29</td>\n",
       "    </tr>\n",
       "    <tr>\n",
       "      <th>753286</th>\n",
       "      <td>28</td>\n",
       "      <td>1</td>\n",
       "      <td>28</td>\n",
       "      <td>2</td>\n",
       "      <td>28062017</td>\n",
       "      <td>F3173</td>\n",
       "      <td>1</td>\n",
       "      <td>57</td>\n",
       "      <td>16</td>\n",
       "      <td>1.0</td>\n",
       "      <td>F31</td>\n",
       "      <td>F30-39</td>\n",
       "    </tr>\n",
       "    <tr>\n",
       "      <th>730809</th>\n",
       "      <td>48</td>\n",
       "      <td>1</td>\n",
       "      <td>48</td>\n",
       "      <td>2</td>\n",
       "      <td>12012018</td>\n",
       "      <td>F250</td>\n",
       "      <td>1</td>\n",
       "      <td>20</td>\n",
       "      <td>32</td>\n",
       "      <td>1.0</td>\n",
       "      <td>F25</td>\n",
       "      <td>F20-29</td>\n",
       "    </tr>\n",
       "  </tbody>\n",
       "</table>\n",
       "</div>"
      ],
      "text/plain": [
       "        ProvHosp  Sexo  ProvResi  DiagEntr    FxAlta DiagPrin  MotivoAlta  \\\n",
       "737240        28     1        28         2  31102017     F259           4   \n",
       "753286        28     1        28         2  28062017    F3173           1   \n",
       "730809        48     1        48         2  12012018     F250           1   \n",
       "\n",
       "        EdadAnios  DiasEstancia  Factor code     cap  \n",
       "737240         50             9     1.0  F25  F20-29  \n",
       "753286         57            16     1.0  F31  F30-39  \n",
       "730809         20            32     1.0  F25  F20-29  "
      ]
     },
     "execution_count": 16,
     "metadata": {},
     "output_type": "execute_result"
    }
   ],
   "source": [
    "morbilidad.sample(3)"
   ]
  },
  {
   "cell_type": "code",
   "execution_count": 17,
   "id": "0bb86219",
   "metadata": {},
   "outputs": [],
   "source": [
    "discapacidad = morbilidad[morbilidad[\"cap\"] == 'F70-79'].index #dropeamos el tipo de retraso mental\n",
    "morbilidad.drop(discapacidad,inplace = True)"
   ]
  },
  {
   "cell_type": "code",
   "execution_count": 18,
   "id": "8e1e931f",
   "metadata": {},
   "outputs": [],
   "source": [
    "dicc_res = {} #crear diccionario con diagnósticos y códigos\n",
    "for i,r in diagnos.iterrows():\n",
    "    dicc_res[r.cap] = r.resumen_cap"
   ]
  },
  {
   "cell_type": "code",
   "execution_count": 19,
   "id": "274cdd54",
   "metadata": {},
   "outputs": [
    {
     "data": {
      "text/plain": [
       "{'F00-F09': 'orgánicos/sintomáticos',\n",
       " 'F10-F19': 'consumo psicotrópicos',\n",
       " 'F20-29': 'esquizotípicos/delirantes',\n",
       " 'F30-39': 'ánimo/afectivos',\n",
       " 'F40-49': 'neuróticos/somatomorfos',\n",
       " 'F50-59': 'factores físicos /fisiológicos',\n",
       " 'F60-69': 'T. de la personalidad/comportamiento',\n",
       " 'F70-79': 'deficiencia psíquica',\n",
       " 'F80-89': 'desarrollo psicológico',\n",
       " 'F90-F98': 'aparecen en niñez',\n",
       " 'F99': 'sin espcificar'}"
      ]
     },
     "execution_count": 19,
     "metadata": {},
     "output_type": "execute_result"
    }
   ],
   "source": [
    "dicc_res"
   ]
  },
  {
   "cell_type": "code",
   "execution_count": 20,
   "id": "435bb633",
   "metadata": {},
   "outputs": [],
   "source": [
    "morbilidad['resumen'] = morbilidad.cap.map(dicc_res)"
   ]
  },
  {
   "cell_type": "code",
   "execution_count": 21,
   "id": "fccb2d8a",
   "metadata": {},
   "outputs": [
    {
     "data": {
      "text/html": [
       "<div>\n",
       "<style scoped>\n",
       "    .dataframe tbody tr th:only-of-type {\n",
       "        vertical-align: middle;\n",
       "    }\n",
       "\n",
       "    .dataframe tbody tr th {\n",
       "        vertical-align: top;\n",
       "    }\n",
       "\n",
       "    .dataframe thead th {\n",
       "        text-align: right;\n",
       "    }\n",
       "</style>\n",
       "<table border=\"1\" class=\"dataframe\">\n",
       "  <thead>\n",
       "    <tr style=\"text-align: right;\">\n",
       "      <th></th>\n",
       "      <th>ProvHosp</th>\n",
       "      <th>Sexo</th>\n",
       "      <th>ProvResi</th>\n",
       "      <th>DiagEntr</th>\n",
       "      <th>FxAlta</th>\n",
       "      <th>DiagPrin</th>\n",
       "      <th>MotivoAlta</th>\n",
       "      <th>EdadAnios</th>\n",
       "      <th>DiasEstancia</th>\n",
       "      <th>Factor</th>\n",
       "      <th>code</th>\n",
       "      <th>cap</th>\n",
       "      <th>resumen</th>\n",
       "    </tr>\n",
       "  </thead>\n",
       "  <tbody>\n",
       "    <tr>\n",
       "      <th>742217</th>\n",
       "      <td>28</td>\n",
       "      <td>1</td>\n",
       "      <td>28</td>\n",
       "      <td>2</td>\n",
       "      <td>10102017</td>\n",
       "      <td>F29</td>\n",
       "      <td>1</td>\n",
       "      <td>27</td>\n",
       "      <td>7</td>\n",
       "      <td>1.00000</td>\n",
       "      <td>F29</td>\n",
       "      <td>F20-29</td>\n",
       "      <td>esquizotípicos/delirantes</td>\n",
       "    </tr>\n",
       "    <tr>\n",
       "      <th>725421</th>\n",
       "      <td>31</td>\n",
       "      <td>1</td>\n",
       "      <td>31</td>\n",
       "      <td>2</td>\n",
       "      <td>30112017</td>\n",
       "      <td>F209</td>\n",
       "      <td>2</td>\n",
       "      <td>45</td>\n",
       "      <td>24</td>\n",
       "      <td>1.00000</td>\n",
       "      <td>F20</td>\n",
       "      <td>F20-29</td>\n",
       "      <td>esquizotípicos/delirantes</td>\n",
       "    </tr>\n",
       "    <tr>\n",
       "      <th>753678</th>\n",
       "      <td>28</td>\n",
       "      <td>1</td>\n",
       "      <td>21</td>\n",
       "      <td>1</td>\n",
       "      <td>26072019</td>\n",
       "      <td>F259</td>\n",
       "      <td>1</td>\n",
       "      <td>32</td>\n",
       "      <td>16</td>\n",
       "      <td>1.02096</td>\n",
       "      <td>F25</td>\n",
       "      <td>F20-29</td>\n",
       "      <td>esquizotípicos/delirantes</td>\n",
       "    </tr>\n",
       "  </tbody>\n",
       "</table>\n",
       "</div>"
      ],
      "text/plain": [
       "        ProvHosp  Sexo  ProvResi  DiagEntr    FxAlta DiagPrin  MotivoAlta  \\\n",
       "742217        28     1        28         2  10102017      F29           1   \n",
       "725421        31     1        31         2  30112017     F209           2   \n",
       "753678        28     1        21         1  26072019     F259           1   \n",
       "\n",
       "        EdadAnios  DiasEstancia   Factor code     cap  \\\n",
       "742217         27             7  1.00000  F29  F20-29   \n",
       "725421         45            24  1.00000  F20  F20-29   \n",
       "753678         32            16  1.02096  F25  F20-29   \n",
       "\n",
       "                          resumen  \n",
       "742217  esquizotípicos/delirantes  \n",
       "725421  esquizotípicos/delirantes  \n",
       "753678  esquizotípicos/delirantes  "
      ]
     },
     "execution_count": 21,
     "metadata": {},
     "output_type": "execute_result"
    }
   ],
   "source": [
    "morbilidad.sample(3)"
   ]
  },
  {
   "cell_type": "markdown",
   "id": "8219dd0e",
   "metadata": {},
   "source": [
    "## Creamos fecha de ingreso"
   ]
  },
  {
   "cell_type": "code",
   "execution_count": 22,
   "id": "26afa608",
   "metadata": {},
   "outputs": [],
   "source": [
    "#creamos fecha a través de FxAlta\n",
    "morbilidad.FxAlta = morbilidad.FxAlta.astype('string')"
   ]
  },
  {
   "cell_type": "code",
   "execution_count": 23,
   "id": "c194a3e5",
   "metadata": {},
   "outputs": [],
   "source": [
    "morbilidad['fecha_al'] = pd.to_datetime({'year': morbilidad.FxAlta.str[-4:],\n",
    "                           'month': morbilidad.FxAlta.str[-6:-4],\n",
    "                           'day': morbilidad.FxAlta.str[:-6]\n",
    "                           })"
   ]
  },
  {
   "cell_type": "code",
   "execution_count": 24,
   "id": "fd718f6c",
   "metadata": {},
   "outputs": [],
   "source": [
    "#creamos fecha ingreso restando a fecha_al el número de día ingresado (DiasEstancia)\n",
    "morbilidad['fecha_ing'] = morbilidad.apply(lambda fila: fila['fecha_al'] - datetime.timedelta(days = fila['DiasEstancia']), axis= 1)"
   ]
  },
  {
   "cell_type": "code",
   "execution_count": 25,
   "id": "318b7387",
   "metadata": {},
   "outputs": [],
   "source": [
    "morbilidad['year']=morbilidad.fecha_ing.dt.year\n",
    "morbilidad['month']=morbilidad.fecha_ing.dt.month\n",
    "morbilidad['day']=morbilidad.fecha_ing.dt.day"
   ]
  },
  {
   "cell_type": "code",
   "execution_count": 26,
   "id": "8abe63d1",
   "metadata": {},
   "outputs": [],
   "source": [
    "morbilidad.drop(['FxAlta'],axis=1,inplace = True)"
   ]
  },
  {
   "cell_type": "code",
   "execution_count": 27,
   "id": "442ca743",
   "metadata": {},
   "outputs": [],
   "source": [
    "# Cambiamos algunos datos categóricos que vienen como números "
   ]
  },
  {
   "cell_type": "code",
   "execution_count": 28,
   "id": "72aec0e2",
   "metadata": {},
   "outputs": [
    {
     "data": {
      "text/html": [
       "<div>\n",
       "<style scoped>\n",
       "    .dataframe tbody tr th:only-of-type {\n",
       "        vertical-align: middle;\n",
       "    }\n",
       "\n",
       "    .dataframe tbody tr th {\n",
       "        vertical-align: top;\n",
       "    }\n",
       "\n",
       "    .dataframe thead th {\n",
       "        text-align: right;\n",
       "    }\n",
       "</style>\n",
       "<table border=\"1\" class=\"dataframe\">\n",
       "  <thead>\n",
       "    <tr style=\"text-align: right;\">\n",
       "      <th></th>\n",
       "      <th>ProvHosp</th>\n",
       "      <th>Sexo</th>\n",
       "      <th>ProvResi</th>\n",
       "      <th>DiagEntr</th>\n",
       "      <th>DiagPrin</th>\n",
       "      <th>MotivoAlta</th>\n",
       "      <th>EdadAnios</th>\n",
       "      <th>DiasEstancia</th>\n",
       "      <th>Factor</th>\n",
       "      <th>code</th>\n",
       "      <th>cap</th>\n",
       "      <th>resumen</th>\n",
       "      <th>fecha_al</th>\n",
       "      <th>fecha_ing</th>\n",
       "      <th>year</th>\n",
       "      <th>month</th>\n",
       "      <th>day</th>\n",
       "    </tr>\n",
       "  </thead>\n",
       "  <tbody>\n",
       "    <tr>\n",
       "      <th>726929</th>\n",
       "      <td>28</td>\n",
       "      <td>1</td>\n",
       "      <td>28</td>\n",
       "      <td>2</td>\n",
       "      <td>F23</td>\n",
       "      <td>1</td>\n",
       "      <td>29</td>\n",
       "      <td>20</td>\n",
       "      <td>1.01195</td>\n",
       "      <td>F23</td>\n",
       "      <td>F20-29</td>\n",
       "      <td>esquizotípicos/delirantes</td>\n",
       "      <td>2018-05-16</td>\n",
       "      <td>2018-04-26</td>\n",
       "      <td>2018</td>\n",
       "      <td>4</td>\n",
       "      <td>26</td>\n",
       "    </tr>\n",
       "    <tr>\n",
       "      <th>743446</th>\n",
       "      <td>48</td>\n",
       "      <td>1</td>\n",
       "      <td>48</td>\n",
       "      <td>2</td>\n",
       "      <td>F29</td>\n",
       "      <td>2</td>\n",
       "      <td>71</td>\n",
       "      <td>16</td>\n",
       "      <td>1.00000</td>\n",
       "      <td>F29</td>\n",
       "      <td>F20-29</td>\n",
       "      <td>esquizotípicos/delirantes</td>\n",
       "      <td>2017-02-08</td>\n",
       "      <td>2017-01-23</td>\n",
       "      <td>2017</td>\n",
       "      <td>1</td>\n",
       "      <td>23</td>\n",
       "    </tr>\n",
       "    <tr>\n",
       "      <th>723496</th>\n",
       "      <td>48</td>\n",
       "      <td>1</td>\n",
       "      <td>48</td>\n",
       "      <td>2</td>\n",
       "      <td>F1420</td>\n",
       "      <td>1</td>\n",
       "      <td>34</td>\n",
       "      <td>11</td>\n",
       "      <td>1.00000</td>\n",
       "      <td>F14</td>\n",
       "      <td>F10-F19</td>\n",
       "      <td>consumo psicotrópicos</td>\n",
       "      <td>2019-07-15</td>\n",
       "      <td>2019-07-04</td>\n",
       "      <td>2019</td>\n",
       "      <td>7</td>\n",
       "      <td>4</td>\n",
       "    </tr>\n",
       "  </tbody>\n",
       "</table>\n",
       "</div>"
      ],
      "text/plain": [
       "        ProvHosp  Sexo  ProvResi  DiagEntr DiagPrin  MotivoAlta  EdadAnios  \\\n",
       "726929        28     1        28         2      F23           1         29   \n",
       "743446        48     1        48         2      F29           2         71   \n",
       "723496        48     1        48         2    F1420           1         34   \n",
       "\n",
       "        DiasEstancia   Factor code      cap                    resumen  \\\n",
       "726929            20  1.01195  F23   F20-29  esquizotípicos/delirantes   \n",
       "743446            16  1.00000  F29   F20-29  esquizotípicos/delirantes   \n",
       "723496            11  1.00000  F14  F10-F19      consumo psicotrópicos   \n",
       "\n",
       "         fecha_al  fecha_ing  year  month  day  \n",
       "726929 2018-05-16 2018-04-26  2018      4   26  \n",
       "743446 2017-02-08 2017-01-23  2017      1   23  \n",
       "723496 2019-07-15 2019-07-04  2019      7    4  "
      ]
     },
     "execution_count": 28,
     "metadata": {},
     "output_type": "execute_result"
    }
   ],
   "source": [
    "morbilidad.sample(3)"
   ]
  },
  {
   "cell_type": "code",
   "execution_count": 29,
   "id": "48456836",
   "metadata": {},
   "outputs": [],
   "source": [
    "#diccionarios códigos\n",
    "dic_sexo = {1:'Hombre',2:'Mujer'}\n",
    "dic_entrada = {1:'Ordinario',2:'Urgente'}\n",
    "dic_alta = {1: \"Curación\",2:'Traslado',3:'Fallecimiento',4:'Otras'}\n",
    "num_str = {'1':'01',  '2':'02',  '3':'03',  '4':'04',  '5':'05',  '6':'06',  '7':'07',  '8':'08',  '9':'09'}"
   ]
  },
  {
   "cell_type": "code",
   "execution_count": 30,
   "id": "e6e66942",
   "metadata": {},
   "outputs": [],
   "source": [
    "morbilidad.ProvHosp = morbilidad.ProvHosp.astype('string').replace(num_str)\n",
    "morbilidad.ProvResi = morbilidad.ProvResi.astype('string').replace(num_str)"
   ]
  },
  {
   "cell_type": "code",
   "execution_count": 31,
   "id": "2f41f2ac",
   "metadata": {},
   "outputs": [],
   "source": [
    "morbilidad['Entrada'] = morbilidad.DiagEntr.map(dic_entrada)\n",
    "morbilidad['Alta'] = morbilidad.MotivoAlta.map(dic_alta)\n",
    "morbilidad['SexNom'] = morbilidad.Sexo.map(dic_sexo)"
   ]
  },
  {
   "cell_type": "code",
   "execution_count": 32,
   "id": "79edb16e",
   "metadata": {},
   "outputs": [],
   "source": [
    "#preparar provincias para geojsaon (nombre)"
   ]
  },
  {
   "cell_type": "code",
   "execution_count": 33,
   "id": "132c5445",
   "metadata": {},
   "outputs": [],
   "source": [
    "#diccionario\n",
    "geo_json = r\"../data/socioecon/spain_provinces.geojson\"\n",
    "with open (geo_json) as geo_file:\n",
    "    provincias = json.load(geo_file)\n",
    "\n",
    "cod_prov = {}\n",
    "for i in range(52):    \n",
    "    cod_prov[provincias['features'][i]['properties']['cod_prov']] = provincias['features'][i]['properties']['name']"
   ]
  },
  {
   "cell_type": "code",
   "execution_count": 34,
   "id": "b59e664e",
   "metadata": {},
   "outputs": [],
   "source": [
    "morbilidad['ProvHosp_nom'] = morbilidad.ProvHosp.map(cod_prov)\n",
    "morbilidad['ProvResi_nom'] = morbilidad.ProvResi.map(cod_prov)"
   ]
  },
  {
   "cell_type": "code",
   "execution_count": 35,
   "id": "eed0e2b1",
   "metadata": {},
   "outputs": [],
   "source": [
    "#prov resi 53 = extranjeros\n",
    "morbilidad.ProvResi_nom.fillna('Extranjeros',inplace = True)"
   ]
  },
  {
   "cell_type": "code",
   "execution_count": 36,
   "id": "b1d879f4",
   "metadata": {},
   "outputs": [
    {
     "data": {
      "text/plain": [
       "ProvHosp        0\n",
       "Sexo            0\n",
       "ProvResi        0\n",
       "DiagEntr        0\n",
       "DiagPrin        0\n",
       "MotivoAlta      0\n",
       "EdadAnios       0\n",
       "DiasEstancia    0\n",
       "Factor          0\n",
       "code            0\n",
       "cap             0\n",
       "resumen         0\n",
       "fecha_al        0\n",
       "fecha_ing       0\n",
       "year            0\n",
       "month           0\n",
       "day             0\n",
       "Entrada         0\n",
       "Alta            0\n",
       "SexNom          0\n",
       "ProvHosp_nom    0\n",
       "ProvResi_nom    0\n",
       "dtype: int64"
      ]
     },
     "execution_count": 36,
     "metadata": {},
     "output_type": "execute_result"
    }
   ],
   "source": [
    "morbilidad.isna().sum()"
   ]
  },
  {
   "cell_type": "code",
   "execution_count": 37,
   "id": "d84b9d67",
   "metadata": {},
   "outputs": [
    {
     "data": {
      "text/plain": [
       "Index(['ProvHosp', 'Sexo', 'ProvResi', 'DiagEntr', 'DiagPrin', 'MotivoAlta',\n",
       "       'EdadAnios', 'DiasEstancia', 'Factor', 'code', 'cap', 'resumen',\n",
       "       'fecha_al', 'fecha_ing', 'year', 'month', 'day', 'Entrada', 'Alta',\n",
       "       'SexNom', 'ProvHosp_nom', 'ProvResi_nom'],\n",
       "      dtype='object')"
      ]
     },
     "execution_count": 37,
     "metadata": {},
     "output_type": "execute_result"
    }
   ],
   "source": [
    "morbilidad.columns"
   ]
  },
  {
   "cell_type": "code",
   "execution_count": 38,
   "id": "2197824b",
   "metadata": {},
   "outputs": [],
   "source": [
    "morbilidad.rename({'EdadAnios':'Edad','DiasEstancia':'Dias'},axis=1,inplace = True)"
   ]
  },
  {
   "cell_type": "code",
   "execution_count": 39,
   "id": "d58af659",
   "metadata": {},
   "outputs": [
    {
     "data": {
      "text/html": [
       "<div>\n",
       "<style scoped>\n",
       "    .dataframe tbody tr th:only-of-type {\n",
       "        vertical-align: middle;\n",
       "    }\n",
       "\n",
       "    .dataframe tbody tr th {\n",
       "        vertical-align: top;\n",
       "    }\n",
       "\n",
       "    .dataframe thead th {\n",
       "        text-align: right;\n",
       "    }\n",
       "</style>\n",
       "<table border=\"1\" class=\"dataframe\">\n",
       "  <thead>\n",
       "    <tr style=\"text-align: right;\">\n",
       "      <th></th>\n",
       "      <th>ProvHosp</th>\n",
       "      <th>Sexo</th>\n",
       "      <th>ProvResi</th>\n",
       "      <th>DiagEntr</th>\n",
       "      <th>DiagPrin</th>\n",
       "      <th>MotivoAlta</th>\n",
       "      <th>Edad</th>\n",
       "      <th>Dias</th>\n",
       "      <th>Factor</th>\n",
       "      <th>code</th>\n",
       "      <th>...</th>\n",
       "      <th>fecha_al</th>\n",
       "      <th>fecha_ing</th>\n",
       "      <th>year</th>\n",
       "      <th>month</th>\n",
       "      <th>day</th>\n",
       "      <th>Entrada</th>\n",
       "      <th>Alta</th>\n",
       "      <th>SexNom</th>\n",
       "      <th>ProvHosp_nom</th>\n",
       "      <th>ProvResi_nom</th>\n",
       "    </tr>\n",
       "  </thead>\n",
       "  <tbody>\n",
       "    <tr>\n",
       "      <th>749526</th>\n",
       "      <td>08</td>\n",
       "      <td>1</td>\n",
       "      <td>08</td>\n",
       "      <td>1</td>\n",
       "      <td>F250</td>\n",
       "      <td>1</td>\n",
       "      <td>59</td>\n",
       "      <td>30</td>\n",
       "      <td>1.04887</td>\n",
       "      <td>F25</td>\n",
       "      <td>...</td>\n",
       "      <td>2019-09-02</td>\n",
       "      <td>2019-08-03</td>\n",
       "      <td>2019</td>\n",
       "      <td>8</td>\n",
       "      <td>3</td>\n",
       "      <td>Ordinario</td>\n",
       "      <td>Curación</td>\n",
       "      <td>Hombre</td>\n",
       "      <td>Barcelona</td>\n",
       "      <td>Barcelona</td>\n",
       "    </tr>\n",
       "    <tr>\n",
       "      <th>755931</th>\n",
       "      <td>36</td>\n",
       "      <td>2</td>\n",
       "      <td>36</td>\n",
       "      <td>2</td>\n",
       "      <td>F600</td>\n",
       "      <td>1</td>\n",
       "      <td>54</td>\n",
       "      <td>47</td>\n",
       "      <td>1.00000</td>\n",
       "      <td>F60</td>\n",
       "      <td>...</td>\n",
       "      <td>2016-10-28</td>\n",
       "      <td>2016-09-11</td>\n",
       "      <td>2016</td>\n",
       "      <td>9</td>\n",
       "      <td>11</td>\n",
       "      <td>Urgente</td>\n",
       "      <td>Curación</td>\n",
       "      <td>Mujer</td>\n",
       "      <td>Pontevedra</td>\n",
       "      <td>Pontevedra</td>\n",
       "    </tr>\n",
       "    <tr>\n",
       "      <th>759485</th>\n",
       "      <td>04</td>\n",
       "      <td>1</td>\n",
       "      <td>04</td>\n",
       "      <td>2</td>\n",
       "      <td>F3340</td>\n",
       "      <td>1</td>\n",
       "      <td>61</td>\n",
       "      <td>10</td>\n",
       "      <td>1.00000</td>\n",
       "      <td>F33</td>\n",
       "      <td>...</td>\n",
       "      <td>2018-08-22</td>\n",
       "      <td>2018-08-12</td>\n",
       "      <td>2018</td>\n",
       "      <td>8</td>\n",
       "      <td>12</td>\n",
       "      <td>Urgente</td>\n",
       "      <td>Curación</td>\n",
       "      <td>Hombre</td>\n",
       "      <td>Almería</td>\n",
       "      <td>Almería</td>\n",
       "    </tr>\n",
       "  </tbody>\n",
       "</table>\n",
       "<p>3 rows × 22 columns</p>\n",
       "</div>"
      ],
      "text/plain": [
       "       ProvHosp  Sexo ProvResi  DiagEntr DiagPrin  MotivoAlta  Edad  Dias  \\\n",
       "749526       08     1       08         1     F250           1    59    30   \n",
       "755931       36     2       36         2     F600           1    54    47   \n",
       "759485       04     1       04         2    F3340           1    61    10   \n",
       "\n",
       "         Factor code  ...   fecha_al  fecha_ing  year month  day    Entrada  \\\n",
       "749526  1.04887  F25  ... 2019-09-02 2019-08-03  2019     8    3  Ordinario   \n",
       "755931  1.00000  F60  ... 2016-10-28 2016-09-11  2016     9   11    Urgente   \n",
       "759485  1.00000  F33  ... 2018-08-22 2018-08-12  2018     8   12    Urgente   \n",
       "\n",
       "            Alta  SexNom ProvHosp_nom ProvResi_nom  \n",
       "749526  Curación  Hombre    Barcelona    Barcelona  \n",
       "755931  Curación   Mujer   Pontevedra   Pontevedra  \n",
       "759485  Curación  Hombre      Almería      Almería  \n",
       "\n",
       "[3 rows x 22 columns]"
      ]
     },
     "execution_count": 39,
     "metadata": {},
     "output_type": "execute_result"
    }
   ],
   "source": [
    "morbilidad.sample(3)"
   ]
  },
  {
   "cell_type": "code",
   "execution_count": 40,
   "id": "d95489db",
   "metadata": {},
   "outputs": [],
   "source": [
    "morbilidad.to_csv('../data/morbilidad_Fgen.csv',index=False)"
   ]
  },
  {
   "cell_type": "code",
   "execution_count": 41,
   "id": "06c4188a",
   "metadata": {},
   "outputs": [],
   "source": [
    "## extras"
   ]
  },
  {
   "cell_type": "code",
   "execution_count": 42,
   "id": "ae826167",
   "metadata": {},
   "outputs": [],
   "source": [
    "dicc_poly = {pf['properties']['name']:pf['geometry'] for pf in provincias['features']}"
   ]
  },
  {
   "cell_type": "code",
   "execution_count": 43,
   "id": "50c13adc",
   "metadata": {},
   "outputs": [],
   "source": [
    "morbilidad['geometry'] = morbilidad.ProvHosp_nom.map(dicc_poly)"
   ]
  },
  {
   "cell_type": "code",
   "execution_count": 44,
   "id": "6eec1089",
   "metadata": {},
   "outputs": [
    {
     "data": {
      "text/html": [
       "<div>\n",
       "<style scoped>\n",
       "    .dataframe tbody tr th:only-of-type {\n",
       "        vertical-align: middle;\n",
       "    }\n",
       "\n",
       "    .dataframe tbody tr th {\n",
       "        vertical-align: top;\n",
       "    }\n",
       "\n",
       "    .dataframe thead th {\n",
       "        text-align: right;\n",
       "    }\n",
       "</style>\n",
       "<table border=\"1\" class=\"dataframe\">\n",
       "  <thead>\n",
       "    <tr style=\"text-align: right;\">\n",
       "      <th></th>\n",
       "      <th>ProvHosp</th>\n",
       "      <th>Sexo</th>\n",
       "      <th>ProvResi</th>\n",
       "      <th>DiagEntr</th>\n",
       "      <th>DiagPrin</th>\n",
       "      <th>MotivoAlta</th>\n",
       "      <th>Edad</th>\n",
       "      <th>Dias</th>\n",
       "      <th>Factor</th>\n",
       "      <th>code</th>\n",
       "      <th>...</th>\n",
       "      <th>fecha_ing</th>\n",
       "      <th>year</th>\n",
       "      <th>month</th>\n",
       "      <th>day</th>\n",
       "      <th>Entrada</th>\n",
       "      <th>Alta</th>\n",
       "      <th>SexNom</th>\n",
       "      <th>ProvHosp_nom</th>\n",
       "      <th>ProvResi_nom</th>\n",
       "      <th>geometry</th>\n",
       "    </tr>\n",
       "  </thead>\n",
       "  <tbody>\n",
       "    <tr>\n",
       "      <th>705534</th>\n",
       "      <td>48</td>\n",
       "      <td>1</td>\n",
       "      <td>48</td>\n",
       "      <td>2</td>\n",
       "      <td>F15229</td>\n",
       "      <td>1</td>\n",
       "      <td>35</td>\n",
       "      <td>15</td>\n",
       "      <td>1.0</td>\n",
       "      <td>F15</td>\n",
       "      <td>...</td>\n",
       "      <td>2018-01-02</td>\n",
       "      <td>2018</td>\n",
       "      <td>1</td>\n",
       "      <td>2</td>\n",
       "      <td>Urgente</td>\n",
       "      <td>Curación</td>\n",
       "      <td>Hombre</td>\n",
       "      <td>Vizcaya</td>\n",
       "      <td>Vizcaya</td>\n",
       "      <td>{'type': 'MultiPolygon', 'coordinates': [[[[-2...</td>\n",
       "    </tr>\n",
       "    <tr>\n",
       "      <th>775573</th>\n",
       "      <td>46</td>\n",
       "      <td>2</td>\n",
       "      <td>46</td>\n",
       "      <td>1</td>\n",
       "      <td>F5001</td>\n",
       "      <td>1</td>\n",
       "      <td>52</td>\n",
       "      <td>21</td>\n",
       "      <td>1.0</td>\n",
       "      <td>F50</td>\n",
       "      <td>...</td>\n",
       "      <td>2018-05-28</td>\n",
       "      <td>2018</td>\n",
       "      <td>5</td>\n",
       "      <td>28</td>\n",
       "      <td>Ordinario</td>\n",
       "      <td>Curación</td>\n",
       "      <td>Mujer</td>\n",
       "      <td>Valencia</td>\n",
       "      <td>Valencia</td>\n",
       "      <td>{'type': 'MultiPolygon', 'coordinates': [[[[-0...</td>\n",
       "    </tr>\n",
       "    <tr>\n",
       "      <th>779365</th>\n",
       "      <td>28</td>\n",
       "      <td>2</td>\n",
       "      <td>28</td>\n",
       "      <td>1</td>\n",
       "      <td>F603</td>\n",
       "      <td>1</td>\n",
       "      <td>47</td>\n",
       "      <td>15</td>\n",
       "      <td>1.0</td>\n",
       "      <td>F60</td>\n",
       "      <td>...</td>\n",
       "      <td>2018-06-17</td>\n",
       "      <td>2018</td>\n",
       "      <td>6</td>\n",
       "      <td>17</td>\n",
       "      <td>Ordinario</td>\n",
       "      <td>Curación</td>\n",
       "      <td>Mujer</td>\n",
       "      <td>Madrid</td>\n",
       "      <td>Madrid</td>\n",
       "      <td>{'type': 'MultiPolygon', 'coordinates': [[[[-3...</td>\n",
       "    </tr>\n",
       "  </tbody>\n",
       "</table>\n",
       "<p>3 rows × 23 columns</p>\n",
       "</div>"
      ],
      "text/plain": [
       "       ProvHosp  Sexo ProvResi  DiagEntr DiagPrin  MotivoAlta  Edad  Dias  \\\n",
       "705534       48     1       48         2   F15229           1    35    15   \n",
       "775573       46     2       46         1    F5001           1    52    21   \n",
       "779365       28     2       28         1     F603           1    47    15   \n",
       "\n",
       "        Factor code  ...  fecha_ing  year month day    Entrada      Alta  \\\n",
       "705534     1.0  F15  ... 2018-01-02  2018     1   2    Urgente  Curación   \n",
       "775573     1.0  F50  ... 2018-05-28  2018     5  28  Ordinario  Curación   \n",
       "779365     1.0  F60  ... 2018-06-17  2018     6  17  Ordinario  Curación   \n",
       "\n",
       "        SexNom ProvHosp_nom ProvResi_nom  \\\n",
       "705534  Hombre      Vizcaya      Vizcaya   \n",
       "775573   Mujer     Valencia     Valencia   \n",
       "779365   Mujer       Madrid       Madrid   \n",
       "\n",
       "                                                 geometry  \n",
       "705534  {'type': 'MultiPolygon', 'coordinates': [[[[-2...  \n",
       "775573  {'type': 'MultiPolygon', 'coordinates': [[[[-0...  \n",
       "779365  {'type': 'MultiPolygon', 'coordinates': [[[[-3...  \n",
       "\n",
       "[3 rows x 23 columns]"
      ]
     },
     "execution_count": 44,
     "metadata": {},
     "output_type": "execute_result"
    }
   ],
   "source": [
    "morbilidad.sample(3)"
   ]
  },
  {
   "cell_type": "code",
   "execution_count": 45,
   "id": "b2817178",
   "metadata": {},
   "outputs": [],
   "source": [
    "def data2geojson(df):\n",
    "    features = []\n",
    "    insert_features = lambda X: features.append(\n",
    "            geojson.Feature(geometry=geojson.Point((X[\"long\"],\n",
    "                                                    X[\"lat\"],\n",
    "                                                    X[\"elev\"])),\n",
    "                            properties=dict(name=X[\"name\"],\n",
    "                                            description=X[\"description\"])))\n",
    "    df.apply(insert_features, axis=1)\n",
    "    with open('map1.geojson', 'w', encoding='utf8') as fp:\n",
    "        geojson.dump(geojson.FeatureCollection(features), fp, sort_keys=True, ensure_ascii=False)"
   ]
  }
 ],
 "metadata": {
  "kernelspec": {
   "display_name": "ironhack",
   "language": "python",
   "name": "ironhack"
  },
  "language_info": {
   "codemirror_mode": {
    "name": "ipython",
    "version": 3
   },
   "file_extension": ".py",
   "mimetype": "text/x-python",
   "name": "python",
   "nbconvert_exporter": "python",
   "pygments_lexer": "ipython3",
   "version": "3.8.5"
  }
 },
 "nbformat": 4,
 "nbformat_minor": 5
}
