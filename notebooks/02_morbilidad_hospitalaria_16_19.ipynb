{
 "cells": [
  {
   "cell_type": "markdown",
   "metadata": {},
   "source": [
    "# Morbilidad Hospitalaria España 2016-2019\n",
    "## Creación dataframe para visualización\n",
    "\n",
    "[Datos INE](https://www.ine.es/dyngs/INEbase/es/operacion.htm?c=Estadistica_C&cid=1254736176778&menu=resultados&secc=1254736195291&idp=1254735573175#!tabs-1254736195291)"
   ]
  },
  {
   "cell_type": "code",
   "execution_count": 1,
   "metadata": {},
   "outputs": [],
   "source": [
    "import pandas as pd\n",
    "import datetime\n",
    "import json"
   ]
  },
  {
   "cell_type": "code",
   "execution_count": 2,
   "metadata": {},
   "outputs": [],
   "source": [
    "#tenemos 4 dataframes por años desde 2016 a 2019\n",
    "morbi16 = pd.read_csv('../data/morbilidad/EMH_2016_G01.csv',sep='\\t')\n",
    "morbi17 = pd.read_csv('../data/morbilidad/EMH_2017_G01.csv',sep='\\t')\n",
    "morbi18 = pd.read_csv('../data/morbilidad/EMH_2018_G01.csv',sep='\\t')\n",
    "morbi19 = pd.read_csv('../data/morbilidad/EMH_2019_G01.csv',sep='\\t')"
   ]
  },
  {
   "cell_type": "code",
   "execution_count": 3,
   "metadata": {},
   "outputs": [],
   "source": [
    "morbilidad = pd.concat([morbi16,morbi17,morbi18,morbi19])"
   ]
  },
  {
   "cell_type": "code",
   "execution_count": 4,
   "metadata": {},
   "outputs": [
    {
     "data": {
      "text/html": [
       "<div>\n",
       "<style scoped>\n",
       "    .dataframe tbody tr th:only-of-type {\n",
       "        vertical-align: middle;\n",
       "    }\n",
       "\n",
       "    .dataframe tbody tr th {\n",
       "        vertical-align: top;\n",
       "    }\n",
       "\n",
       "    .dataframe thead th {\n",
       "        text-align: right;\n",
       "    }\n",
       "</style>\n",
       "<table border=\"1\" class=\"dataframe\">\n",
       "  <thead>\n",
       "    <tr style=\"text-align: right;\">\n",
       "      <th></th>\n",
       "      <th>Norden</th>\n",
       "      <th>ProvHosp</th>\n",
       "      <th>Sexo</th>\n",
       "      <th>ProvResi</th>\n",
       "      <th>DiagEntr</th>\n",
       "      <th>FxAlta</th>\n",
       "      <th>DiagPrin</th>\n",
       "      <th>MotivoAlta</th>\n",
       "      <th>EdadAnios</th>\n",
       "      <th>EdadMes</th>\n",
       "      <th>EdadDias</th>\n",
       "      <th>DiasEstancia</th>\n",
       "      <th>Factor</th>\n",
       "    </tr>\n",
       "  </thead>\n",
       "  <tbody>\n",
       "    <tr>\n",
       "      <th>844308</th>\n",
       "      <td>37428151</td>\n",
       "      <td>41</td>\n",
       "      <td>1</td>\n",
       "      <td>21</td>\n",
       "      <td>2</td>\n",
       "      <td>11022019</td>\n",
       "      <td>G40409</td>\n",
       "      <td>1</td>\n",
       "      <td>1</td>\n",
       "      <td>2</td>\n",
       "      <td>14</td>\n",
       "      <td>2</td>\n",
       "      <td>1.00000</td>\n",
       "    </tr>\n",
       "    <tr>\n",
       "      <th>584326</th>\n",
       "      <td>2612521</td>\n",
       "      <td>4</td>\n",
       "      <td>2</td>\n",
       "      <td>4</td>\n",
       "      <td>2</td>\n",
       "      <td>3012018</td>\n",
       "      <td>D701</td>\n",
       "      <td>1</td>\n",
       "      <td>37</td>\n",
       "      <td>9</td>\n",
       "      <td>10</td>\n",
       "      <td>3</td>\n",
       "      <td>1.00000</td>\n",
       "    </tr>\n",
       "    <tr>\n",
       "      <th>293938</th>\n",
       "      <td>23701335</td>\n",
       "      <td>28</td>\n",
       "      <td>2</td>\n",
       "      <td>28</td>\n",
       "      <td>1</td>\n",
       "      <td>18032016</td>\n",
       "      <td>C562</td>\n",
       "      <td>1</td>\n",
       "      <td>43</td>\n",
       "      <td>7</td>\n",
       "      <td>3</td>\n",
       "      <td>10</td>\n",
       "      <td>1.00000</td>\n",
       "    </tr>\n",
       "    <tr>\n",
       "      <th>840191</th>\n",
       "      <td>45361424</td>\n",
       "      <td>50</td>\n",
       "      <td>1</td>\n",
       "      <td>50</td>\n",
       "      <td>1</td>\n",
       "      <td>2092016</td>\n",
       "      <td>G478</td>\n",
       "      <td>1</td>\n",
       "      <td>79</td>\n",
       "      <td>4</td>\n",
       "      <td>27</td>\n",
       "      <td>1</td>\n",
       "      <td>1.00000</td>\n",
       "    </tr>\n",
       "    <tr>\n",
       "      <th>819965</th>\n",
       "      <td>21940658</td>\n",
       "      <td>28</td>\n",
       "      <td>1</td>\n",
       "      <td>28</td>\n",
       "      <td>2</td>\n",
       "      <td>15072019</td>\n",
       "      <td>G20</td>\n",
       "      <td>1</td>\n",
       "      <td>75</td>\n",
       "      <td>5</td>\n",
       "      <td>25</td>\n",
       "      <td>41</td>\n",
       "      <td>1.01201</td>\n",
       "    </tr>\n",
       "  </tbody>\n",
       "</table>\n",
       "</div>"
      ],
      "text/plain": [
       "          Norden  ProvHosp  Sexo  ProvResi  DiagEntr    FxAlta DiagPrin  \\\n",
       "844308  37428151        41     1        21         2  11022019  G40409    \n",
       "584326   2612521         4     2         4         2   3012018  D701      \n",
       "293938  23701335        28     2        28         1  18032016  C562      \n",
       "840191  45361424        50     1        50         1   2092016  G478      \n",
       "819965  21940658        28     1        28         2  15072019  G20       \n",
       "\n",
       "        MotivoAlta  EdadAnios  EdadMes  EdadDias  DiasEstancia   Factor  \n",
       "844308           1          1        2        14             2  1.00000  \n",
       "584326           1         37        9        10             3  1.00000  \n",
       "293938           1         43        7         3            10  1.00000  \n",
       "840191           1         79        4        27             1  1.00000  \n",
       "819965           1         75        5        25            41  1.01201  "
      ]
     },
     "execution_count": 4,
     "metadata": {},
     "output_type": "execute_result"
    }
   ],
   "source": [
    "morbilidad.sample(5)"
   ]
  },
  {
   "cell_type": "code",
   "execution_count": 5,
   "metadata": {},
   "outputs": [],
   "source": [
    "#el código de las enferemades mentales empeizan por F (hacemos una selección)\n",
    "morbilidad = morbilidad[morbilidad[\"DiagPrin\"].str.contains('^F')]\n",
    "morbilidad.DiagPrin = morbilidad.DiagPrin.str.strip()"
   ]
  },
  {
   "cell_type": "code",
   "execution_count": 6,
   "metadata": {},
   "outputs": [],
   "source": [
    "morbilidad.drop(['Norden','EdadDias','EdadMes'],axis=1,inplace = True)"
   ]
  },
  {
   "cell_type": "code",
   "execution_count": 7,
   "metadata": {},
   "outputs": [
    {
     "data": {
      "text/plain": [
       "array(['F0150', 'F0151', 'F0390', 'F0391', 'F04', 'F05', 'F060', 'F061',\n",
       "       'F062', 'F0630', 'F0631', 'F0632', 'F0633', 'F0634', 'F064',\n",
       "       'F068', 'F070', 'F0781', 'F0789', 'F079'], dtype=object)"
      ]
     },
     "execution_count": 7,
     "metadata": {},
     "output_type": "execute_result"
    }
   ],
   "source": [
    "morbilidad.DiagPrin.unique()[0:20] #extraer F + 2 primero dígitos para tener los tipos de enfermedasdes mentales agrupadas"
   ]
  },
  {
   "cell_type": "code",
   "execution_count": 8,
   "metadata": {},
   "outputs": [],
   "source": [
    "morbilidad[\"code\"] = morbilidad.DiagPrin.str.extract(r'(^F..)')"
   ]
  },
  {
   "cell_type": "code",
   "execution_count": 9,
   "metadata": {},
   "outputs": [
    {
     "data": {
      "text/plain": [
       "array(['F01', 'F03', 'F04', 'F05', 'F06', 'F07', 'F09', 'F10', 'F11',\n",
       "       'F12', 'F13', 'F14', 'F15', 'F16', 'F17', 'F18', 'F19', 'F20',\n",
       "       'F21', 'F22', 'F23', 'F24', 'F25', 'F28', 'F29', 'F30', 'F31',\n",
       "       'F32', 'F33', 'F34', 'F39', 'F40', 'F41', 'F42', 'F43', 'F44',\n",
       "       'F45', 'F48', 'F50', 'F51', 'F52', 'F53', 'F55', 'F59', 'F60',\n",
       "       'F63', 'F64', 'F65', 'F66', 'F68', 'F69', 'F70', 'F71', 'F72',\n",
       "       'F73', 'F78', 'F79', 'F80', 'F81', 'F82', 'F84', 'F88', 'F89',\n",
       "       'F90', 'F91', 'F93', 'F94', 'F95', 'F98', 'F99'], dtype=object)"
      ]
     },
     "execution_count": 9,
     "metadata": {},
     "output_type": "execute_result"
    }
   ],
   "source": [
    "morbilidad.code.unique()"
   ]
  },
  {
   "cell_type": "markdown",
   "metadata": {},
   "source": [
    "## Añadimos códigos CIE (Capítulos y diagnósticos)"
   ]
  },
  {
   "cell_type": "code",
   "execution_count": 10,
   "metadata": {},
   "outputs": [],
   "source": [
    "#importamos la tabla de correspondencia entre código de diagnóstico agrupadas y nombre\n",
    "diagnos = pd.read_csv(\"../data/diagnos.csv\")"
   ]
  },
  {
   "cell_type": "code",
   "execution_count": 11,
   "metadata": {},
   "outputs": [
    {
     "data": {
      "text/html": [
       "<div>\n",
       "<style scoped>\n",
       "    .dataframe tbody tr th:only-of-type {\n",
       "        vertical-align: middle;\n",
       "    }\n",
       "\n",
       "    .dataframe tbody tr th {\n",
       "        vertical-align: top;\n",
       "    }\n",
       "\n",
       "    .dataframe thead th {\n",
       "        text-align: right;\n",
       "    }\n",
       "</style>\n",
       "<table border=\"1\" class=\"dataframe\">\n",
       "  <thead>\n",
       "    <tr style=\"text-align: right;\">\n",
       "      <th></th>\n",
       "      <th>code</th>\n",
       "      <th>diag</th>\n",
       "      <th>cap</th>\n",
       "      <th>title</th>\n",
       "    </tr>\n",
       "  </thead>\n",
       "  <tbody>\n",
       "    <tr>\n",
       "      <th>9</th>\n",
       "      <td>F09</td>\n",
       "      <td>Trastornos mentales orgánicos o sintomáticos s...</td>\n",
       "      <td>F00-F09</td>\n",
       "      <td>Trastornos mentales orgánicos, incluidos los t...</td>\n",
       "    </tr>\n",
       "    <tr>\n",
       "      <th>55</th>\n",
       "      <td>F65</td>\n",
       "      <td>Trastornos de la preferencia sexual</td>\n",
       "      <td>F60-69</td>\n",
       "      <td>Trastornos de la personalidad y del comportami...</td>\n",
       "    </tr>\n",
       "    <tr>\n",
       "      <th>23</th>\n",
       "      <td>F23</td>\n",
       "      <td>Trastornos psicóticos agudos y transitorios</td>\n",
       "      <td>F20-29</td>\n",
       "      <td>Esquizofrenia, trastornos esquizotípicos y tra...</td>\n",
       "    </tr>\n",
       "  </tbody>\n",
       "</table>\n",
       "</div>"
      ],
      "text/plain": [
       "   code                                               diag      cap  \\\n",
       "9   F09  Trastornos mentales orgánicos o sintomáticos s...  F00-F09   \n",
       "55  F65                Trastornos de la preferencia sexual   F60-69   \n",
       "23  F23        Trastornos psicóticos agudos y transitorios   F20-29   \n",
       "\n",
       "                                                title  \n",
       "9   Trastornos mentales orgánicos, incluidos los t...  \n",
       "55  Trastornos de la personalidad y del comportami...  \n",
       "23  Esquizofrenia, trastornos esquizotípicos y tra...  "
      ]
     },
     "execution_count": 11,
     "metadata": {},
     "output_type": "execute_result"
    }
   ],
   "source": [
    "diagnos.sample(3) "
   ]
  },
  {
   "cell_type": "code",
   "execution_count": 12,
   "metadata": {},
   "outputs": [
    {
     "data": {
      "text/plain": [
       "array(['F00', 'F01', 'F02', 'F03', 'F04', 'F05', 'F06', 'F07', 'F08',\n",
       "       'F09', 'F10', 'F11', 'F12', 'F13', 'F14', 'F15', 'F16', 'F17',\n",
       "       'F18', 'F19', 'F20', 'F21', 'F22', 'F23', 'F24', 'F25', 'F28',\n",
       "       'F29', 'F30', 'F31', 'F32', 'F33', 'F34', 'F39', 'F40', 'F41',\n",
       "       'F42', 'F43', 'F44', 'F45', 'F48', 'F50', 'F51', 'F52', 'F53',\n",
       "       'F54', 'F55', 'F59', 'F60', 'F62', 'F63', 'F64', 'F66', 'F68',\n",
       "       'F69', 'F65', 'F70', 'F71', 'F72', 'F73', 'F78', 'F79', 'F80',\n",
       "       'F81', 'F82', 'F83', 'F84', 'F88', 'F89', 'F90', 'F91', 'F92',\n",
       "       'F93', 'F94', 'F95', 'F98', 'F99'], dtype=object)"
      ]
     },
     "execution_count": 12,
     "metadata": {},
     "output_type": "execute_result"
    }
   ],
   "source": [
    "diagnos.code.unique()"
   ]
  },
  {
   "cell_type": "code",
   "execution_count": 13,
   "metadata": {},
   "outputs": [],
   "source": [
    "dicc_diag = {} #crear diccionario con diagnósticos y códigos\n",
    "for i,r in diagnos.iterrows():\n",
    "    dicc_diag[r.code] = r.diag"
   ]
  },
  {
   "cell_type": "code",
   "execution_count": 14,
   "metadata": {},
   "outputs": [],
   "source": [
    "dicc_cap = {} #crear diccionario con diagnósticos y códigos\n",
    "for i,r in diagnos.iterrows():\n",
    "    dicc_cap[r.code] = r.cap"
   ]
  },
  {
   "cell_type": "code",
   "execution_count": 15,
   "metadata": {},
   "outputs": [],
   "source": [
    "morbilidad[\"cap\"] = morbilidad.code.map(dicc_cap) #creamos nueva columnas"
   ]
  },
  {
   "cell_type": "code",
   "execution_count": 16,
   "metadata": {},
   "outputs": [
    {
     "data": {
      "text/html": [
       "<div>\n",
       "<style scoped>\n",
       "    .dataframe tbody tr th:only-of-type {\n",
       "        vertical-align: middle;\n",
       "    }\n",
       "\n",
       "    .dataframe tbody tr th {\n",
       "        vertical-align: top;\n",
       "    }\n",
       "\n",
       "    .dataframe thead th {\n",
       "        text-align: right;\n",
       "    }\n",
       "</style>\n",
       "<table border=\"1\" class=\"dataframe\">\n",
       "  <thead>\n",
       "    <tr style=\"text-align: right;\">\n",
       "      <th></th>\n",
       "      <th>ProvHosp</th>\n",
       "      <th>Sexo</th>\n",
       "      <th>ProvResi</th>\n",
       "      <th>DiagEntr</th>\n",
       "      <th>FxAlta</th>\n",
       "      <th>DiagPrin</th>\n",
       "      <th>MotivoAlta</th>\n",
       "      <th>EdadAnios</th>\n",
       "      <th>DiasEstancia</th>\n",
       "      <th>Factor</th>\n",
       "      <th>code</th>\n",
       "      <th>cap</th>\n",
       "    </tr>\n",
       "  </thead>\n",
       "  <tbody>\n",
       "    <tr>\n",
       "      <th>742761</th>\n",
       "      <td>41</td>\n",
       "      <td>1</td>\n",
       "      <td>41</td>\n",
       "      <td>2</td>\n",
       "      <td>17012018</td>\n",
       "      <td>F3110</td>\n",
       "      <td>1</td>\n",
       "      <td>58</td>\n",
       "      <td>18</td>\n",
       "      <td>1.35376</td>\n",
       "      <td>F31</td>\n",
       "      <td>F30-39</td>\n",
       "    </tr>\n",
       "    <tr>\n",
       "      <th>744952</th>\n",
       "      <td>28</td>\n",
       "      <td>2</td>\n",
       "      <td>28</td>\n",
       "      <td>1</td>\n",
       "      <td>3082018</td>\n",
       "      <td>F312</td>\n",
       "      <td>1</td>\n",
       "      <td>50</td>\n",
       "      <td>9</td>\n",
       "      <td>1.00000</td>\n",
       "      <td>F31</td>\n",
       "      <td>F30-39</td>\n",
       "    </tr>\n",
       "    <tr>\n",
       "      <th>694791</th>\n",
       "      <td>43</td>\n",
       "      <td>1</td>\n",
       "      <td>43</td>\n",
       "      <td>2</td>\n",
       "      <td>16092016</td>\n",
       "      <td>F200</td>\n",
       "      <td>1</td>\n",
       "      <td>24</td>\n",
       "      <td>234</td>\n",
       "      <td>1.00000</td>\n",
       "      <td>F20</td>\n",
       "      <td>F20-29</td>\n",
       "    </tr>\n",
       "  </tbody>\n",
       "</table>\n",
       "</div>"
      ],
      "text/plain": [
       "        ProvHosp  Sexo  ProvResi  DiagEntr    FxAlta DiagPrin  MotivoAlta  \\\n",
       "742761        41     1        41         2  17012018    F3110           1   \n",
       "744952        28     2        28         1   3082018     F312           1   \n",
       "694791        43     1        43         2  16092016     F200           1   \n",
       "\n",
       "        EdadAnios  DiasEstancia   Factor code     cap  \n",
       "742761         58            18  1.35376  F31  F30-39  \n",
       "744952         50             9  1.00000  F31  F30-39  \n",
       "694791         24           234  1.00000  F20  F20-29  "
      ]
     },
     "execution_count": 16,
     "metadata": {},
     "output_type": "execute_result"
    }
   ],
   "source": [
    "morbilidad.sample(3)"
   ]
  },
  {
   "cell_type": "code",
   "execution_count": 17,
   "metadata": {},
   "outputs": [],
   "source": [
    "discapacidad = morbilidad[morbilidad[\"cap\"] == 'F70-79'].index #dropeamos el tipo de retraso mental\n",
    "morbilidad.drop(discapacidad,inplace = True)"
   ]
  },
  {
   "cell_type": "markdown",
   "metadata": {},
   "source": [
    "## Creamos fecha de ingreso"
   ]
  },
  {
   "cell_type": "code",
   "execution_count": 18,
   "metadata": {},
   "outputs": [],
   "source": [
    "#creamos fecha a través de FxAlta\n",
    "morbilidad.FxAlta = morbilidad.FxAlta.astype('string')"
   ]
  },
  {
   "cell_type": "code",
   "execution_count": 19,
   "metadata": {},
   "outputs": [],
   "source": [
    "morbilidad['fecha_al'] = pd.to_datetime({'year': morbilidad.FxAlta.str[-4:],\n",
    "                           'month': morbilidad.FxAlta.str[-6:-4],\n",
    "                           'day': morbilidad.FxAlta.str[:-6]\n",
    "                           })"
   ]
  },
  {
   "cell_type": "code",
   "execution_count": 20,
   "metadata": {},
   "outputs": [],
   "source": [
    "#creamos fecha ingreso restando a fecha_al el número de día ingresado (DiasEstancia)\n",
    "morbilidad['fecha_ing'] = morbilidad.apply(lambda fila: fila['fecha_al'] - datetime.timedelta(days = fila['DiasEstancia']), axis= 1)"
   ]
  },
  {
   "cell_type": "code",
   "execution_count": 21,
   "metadata": {},
   "outputs": [],
   "source": [
    "morbilidad['year']=morbilidad.fecha_ing.dt.year\n",
    "morbilidad['month']=morbilidad.fecha_ing.dt.month\n",
    "morbilidad['day']=morbilidad.fecha_ing.dt.day"
   ]
  },
  {
   "cell_type": "code",
   "execution_count": 22,
   "metadata": {},
   "outputs": [],
   "source": [
    "morbilidad.drop(['FxAlta'],axis=1,inplace = True)"
   ]
  },
  {
   "cell_type": "code",
   "execution_count": 23,
   "metadata": {},
   "outputs": [],
   "source": [
    "# Cambiamos algunos datos categóricos que vienen como números "
   ]
  },
  {
   "cell_type": "code",
   "execution_count": 24,
   "metadata": {},
   "outputs": [
    {
     "data": {
      "text/html": [
       "<div>\n",
       "<style scoped>\n",
       "    .dataframe tbody tr th:only-of-type {\n",
       "        vertical-align: middle;\n",
       "    }\n",
       "\n",
       "    .dataframe tbody tr th {\n",
       "        vertical-align: top;\n",
       "    }\n",
       "\n",
       "    .dataframe thead th {\n",
       "        text-align: right;\n",
       "    }\n",
       "</style>\n",
       "<table border=\"1\" class=\"dataframe\">\n",
       "  <thead>\n",
       "    <tr style=\"text-align: right;\">\n",
       "      <th></th>\n",
       "      <th>ProvHosp</th>\n",
       "      <th>Sexo</th>\n",
       "      <th>ProvResi</th>\n",
       "      <th>DiagEntr</th>\n",
       "      <th>DiagPrin</th>\n",
       "      <th>MotivoAlta</th>\n",
       "      <th>EdadAnios</th>\n",
       "      <th>DiasEstancia</th>\n",
       "      <th>Factor</th>\n",
       "      <th>code</th>\n",
       "      <th>cap</th>\n",
       "      <th>fecha_al</th>\n",
       "      <th>fecha_ing</th>\n",
       "      <th>year</th>\n",
       "      <th>month</th>\n",
       "      <th>day</th>\n",
       "    </tr>\n",
       "  </thead>\n",
       "  <tbody>\n",
       "    <tr>\n",
       "      <th>713087</th>\n",
       "      <td>13</td>\n",
       "      <td>1</td>\n",
       "      <td>13</td>\n",
       "      <td>2</td>\n",
       "      <td>F200</td>\n",
       "      <td>1</td>\n",
       "      <td>50</td>\n",
       "      <td>10</td>\n",
       "      <td>1.00000</td>\n",
       "      <td>F20</td>\n",
       "      <td>F20-29</td>\n",
       "      <td>2017-07-21</td>\n",
       "      <td>2017-07-11</td>\n",
       "      <td>2017</td>\n",
       "      <td>7</td>\n",
       "      <td>11</td>\n",
       "    </tr>\n",
       "    <tr>\n",
       "      <th>725516</th>\n",
       "      <td>38</td>\n",
       "      <td>2</td>\n",
       "      <td>38</td>\n",
       "      <td>2</td>\n",
       "      <td>F314</td>\n",
       "      <td>2</td>\n",
       "      <td>64</td>\n",
       "      <td>30</td>\n",
       "      <td>1.22835</td>\n",
       "      <td>F31</td>\n",
       "      <td>F30-39</td>\n",
       "      <td>2016-08-17</td>\n",
       "      <td>2016-07-18</td>\n",
       "      <td>2016</td>\n",
       "      <td>7</td>\n",
       "      <td>18</td>\n",
       "    </tr>\n",
       "    <tr>\n",
       "      <th>744935</th>\n",
       "      <td>28</td>\n",
       "      <td>2</td>\n",
       "      <td>28</td>\n",
       "      <td>1</td>\n",
       "      <td>F312</td>\n",
       "      <td>1</td>\n",
       "      <td>36</td>\n",
       "      <td>21</td>\n",
       "      <td>1.00000</td>\n",
       "      <td>F31</td>\n",
       "      <td>F30-39</td>\n",
       "      <td>2018-05-09</td>\n",
       "      <td>2018-04-18</td>\n",
       "      <td>2018</td>\n",
       "      <td>4</td>\n",
       "      <td>18</td>\n",
       "    </tr>\n",
       "  </tbody>\n",
       "</table>\n",
       "</div>"
      ],
      "text/plain": [
       "        ProvHosp  Sexo  ProvResi  DiagEntr DiagPrin  MotivoAlta  EdadAnios  \\\n",
       "713087        13     1        13         2     F200           1         50   \n",
       "725516        38     2        38         2     F314           2         64   \n",
       "744935        28     2        28         1     F312           1         36   \n",
       "\n",
       "        DiasEstancia   Factor code     cap   fecha_al  fecha_ing  year  month  \\\n",
       "713087            10  1.00000  F20  F20-29 2017-07-21 2017-07-11  2017      7   \n",
       "725516            30  1.22835  F31  F30-39 2016-08-17 2016-07-18  2016      7   \n",
       "744935            21  1.00000  F31  F30-39 2018-05-09 2018-04-18  2018      4   \n",
       "\n",
       "        day  \n",
       "713087   11  \n",
       "725516   18  \n",
       "744935   18  "
      ]
     },
     "execution_count": 24,
     "metadata": {},
     "output_type": "execute_result"
    }
   ],
   "source": [
    "morbilidad.sample(3)"
   ]
  },
  {
   "cell_type": "code",
   "execution_count": 25,
   "metadata": {},
   "outputs": [],
   "source": [
    "#diccionarios códigos\n",
    "dic_sexo = {1:'Hombre',2:'Mujer'}\n",
    "dic_entrada = {1:'Ordinario',2:'Urgente'}\n",
    "dic_alta = {1: \"Curación\",2:'Traslado',3:'Fallecimiento',4:'Otras'}\n",
    "num_str = {'1':'01',  '2':'02',  '3':'03',  '4':'04',  '5':'05',  '6':'06',  '7':'07',  '8':'08',  '9':'09'}"
   ]
  },
  {
   "cell_type": "code",
   "execution_count": 26,
   "metadata": {},
   "outputs": [],
   "source": [
    "morbilidad.ProvHosp = morbilidad.ProvHosp.astype('string').replace(num_str)\n",
    "morbilidad.ProvResi = morbilidad.ProvResi.astype('string').replace(num_str)"
   ]
  },
  {
   "cell_type": "code",
   "execution_count": 27,
   "metadata": {},
   "outputs": [],
   "source": [
    "morbilidad['Entrada'] = morbilidad.DiagEntr.map(dic_entrada)\n",
    "morbilidad['Alta'] = morbilidad.MotivoAlta.map(dic_alta)\n",
    "morbilidad['SexNom'] = morbilidad.Sexo.map(dic_sexo)"
   ]
  },
  {
   "cell_type": "code",
   "execution_count": 28,
   "metadata": {},
   "outputs": [],
   "source": [
    "#preparar provincias para geojsaon (nombre)"
   ]
  },
  {
   "cell_type": "code",
   "execution_count": 29,
   "metadata": {},
   "outputs": [],
   "source": [
    "#diccionario\n",
    "geo_json = r\"../data/socioecon/spain_provinces.geojson\"\n",
    "with open (geo_json) as geo_file:\n",
    "    provincias = json.load(geo_file)\n",
    "\n",
    "cod_prov = {}\n",
    "for i in range(52):    \n",
    "    cod_prov[provincias['features'][i]['properties']['cod_prov']] = provincias['features'][i]['properties']['name']"
   ]
  },
  {
   "cell_type": "code",
   "execution_count": 30,
   "metadata": {},
   "outputs": [],
   "source": [
    "morbilidad['ProvHosp_nom'] = morbilidad.ProvHosp.map(cod_prov)\n",
    "morbilidad['ProvResi_nom'] = morbilidad.ProvResi.map(cod_prov)"
   ]
  },
  {
   "cell_type": "code",
   "execution_count": 31,
   "metadata": {},
   "outputs": [],
   "source": [
    "#prov resi 53 = extranjeros\n",
    "morbilidad.ProvResi_nom.fillna('Extranjeros',inplace = True)"
   ]
  },
  {
   "cell_type": "code",
   "execution_count": 32,
   "metadata": {},
   "outputs": [
    {
     "data": {
      "text/plain": [
       "ProvHosp        0\n",
       "Sexo            0\n",
       "ProvResi        0\n",
       "DiagEntr        0\n",
       "DiagPrin        0\n",
       "MotivoAlta      0\n",
       "EdadAnios       0\n",
       "DiasEstancia    0\n",
       "Factor          0\n",
       "code            0\n",
       "cap             0\n",
       "fecha_al        0\n",
       "fecha_ing       0\n",
       "year            0\n",
       "month           0\n",
       "day             0\n",
       "Entrada         0\n",
       "Alta            0\n",
       "SexNom          0\n",
       "ProvHosp_nom    0\n",
       "ProvResi_nom    0\n",
       "dtype: int64"
      ]
     },
     "execution_count": 32,
     "metadata": {},
     "output_type": "execute_result"
    }
   ],
   "source": [
    "morbilidad.isna().sum()"
   ]
  },
  {
   "cell_type": "code",
   "execution_count": 33,
   "metadata": {},
   "outputs": [
    {
     "data": {
      "text/plain": [
       "Index(['ProvHosp', 'Sexo', 'ProvResi', 'DiagEntr', 'DiagPrin', 'MotivoAlta',\n",
       "       'EdadAnios', 'DiasEstancia', 'Factor', 'code', 'cap', 'fecha_al',\n",
       "       'fecha_ing', 'year', 'month', 'day', 'Entrada', 'Alta', 'SexNom',\n",
       "       'ProvHosp_nom', 'ProvResi_nom'],\n",
       "      dtype='object')"
      ]
     },
     "execution_count": 33,
     "metadata": {},
     "output_type": "execute_result"
    }
   ],
   "source": [
    "morbilidad.columns"
   ]
  },
  {
   "cell_type": "code",
   "execution_count": 34,
   "metadata": {},
   "outputs": [],
   "source": [
    "morbilidad.rename({'EdadAnios':'Edad','DiasEstancia':'Dias'},axis=1,inplace = True)"
   ]
  },
  {
   "cell_type": "code",
   "execution_count": 35,
   "metadata": {},
   "outputs": [
    {
     "data": {
      "text/html": [
       "<div>\n",
       "<style scoped>\n",
       "    .dataframe tbody tr th:only-of-type {\n",
       "        vertical-align: middle;\n",
       "    }\n",
       "\n",
       "    .dataframe tbody tr th {\n",
       "        vertical-align: top;\n",
       "    }\n",
       "\n",
       "    .dataframe thead th {\n",
       "        text-align: right;\n",
       "    }\n",
       "</style>\n",
       "<table border=\"1\" class=\"dataframe\">\n",
       "  <thead>\n",
       "    <tr style=\"text-align: right;\">\n",
       "      <th></th>\n",
       "      <th>ProvHosp</th>\n",
       "      <th>Sexo</th>\n",
       "      <th>ProvResi</th>\n",
       "      <th>DiagEntr</th>\n",
       "      <th>DiagPrin</th>\n",
       "      <th>MotivoAlta</th>\n",
       "      <th>Edad</th>\n",
       "      <th>Dias</th>\n",
       "      <th>Factor</th>\n",
       "      <th>code</th>\n",
       "      <th>...</th>\n",
       "      <th>fecha_al</th>\n",
       "      <th>fecha_ing</th>\n",
       "      <th>year</th>\n",
       "      <th>month</th>\n",
       "      <th>day</th>\n",
       "      <th>Entrada</th>\n",
       "      <th>Alta</th>\n",
       "      <th>SexNom</th>\n",
       "      <th>ProvHosp_nom</th>\n",
       "      <th>ProvResi_nom</th>\n",
       "    </tr>\n",
       "  </thead>\n",
       "  <tbody>\n",
       "    <tr>\n",
       "      <th>758424</th>\n",
       "      <td>28</td>\n",
       "      <td>1</td>\n",
       "      <td>28</td>\n",
       "      <td>2</td>\n",
       "      <td>F29</td>\n",
       "      <td>1</td>\n",
       "      <td>33</td>\n",
       "      <td>15</td>\n",
       "      <td>1.02096</td>\n",
       "      <td>F29</td>\n",
       "      <td>...</td>\n",
       "      <td>2019-10-31</td>\n",
       "      <td>2019-10-16</td>\n",
       "      <td>2019</td>\n",
       "      <td>10</td>\n",
       "      <td>16</td>\n",
       "      <td>Urgente</td>\n",
       "      <td>Curación</td>\n",
       "      <td>Hombre</td>\n",
       "      <td>Madrid</td>\n",
       "      <td>Madrid</td>\n",
       "    </tr>\n",
       "    <tr>\n",
       "      <th>773214</th>\n",
       "      <td>46</td>\n",
       "      <td>1</td>\n",
       "      <td>46</td>\n",
       "      <td>1</td>\n",
       "      <td>F430</td>\n",
       "      <td>1</td>\n",
       "      <td>46</td>\n",
       "      <td>4</td>\n",
       "      <td>1.00000</td>\n",
       "      <td>F43</td>\n",
       "      <td>...</td>\n",
       "      <td>2017-11-09</td>\n",
       "      <td>2017-11-05</td>\n",
       "      <td>2017</td>\n",
       "      <td>11</td>\n",
       "      <td>5</td>\n",
       "      <td>Ordinario</td>\n",
       "      <td>Curación</td>\n",
       "      <td>Hombre</td>\n",
       "      <td>Valencia</td>\n",
       "      <td>Valencia</td>\n",
       "    </tr>\n",
       "    <tr>\n",
       "      <th>692224</th>\n",
       "      <td>13</td>\n",
       "      <td>2</td>\n",
       "      <td>13</td>\n",
       "      <td>2</td>\n",
       "      <td>F09</td>\n",
       "      <td>1</td>\n",
       "      <td>79</td>\n",
       "      <td>39</td>\n",
       "      <td>1.00000</td>\n",
       "      <td>F09</td>\n",
       "      <td>...</td>\n",
       "      <td>2017-04-21</td>\n",
       "      <td>2017-03-13</td>\n",
       "      <td>2017</td>\n",
       "      <td>3</td>\n",
       "      <td>13</td>\n",
       "      <td>Urgente</td>\n",
       "      <td>Curación</td>\n",
       "      <td>Mujer</td>\n",
       "      <td>Ciudad Real</td>\n",
       "      <td>Ciudad Real</td>\n",
       "    </tr>\n",
       "  </tbody>\n",
       "</table>\n",
       "<p>3 rows × 21 columns</p>\n",
       "</div>"
      ],
      "text/plain": [
       "       ProvHosp  Sexo ProvResi  DiagEntr DiagPrin  MotivoAlta  Edad  Dias  \\\n",
       "758424       28     1       28         2      F29           1    33    15   \n",
       "773214       46     1       46         1     F430           1    46     4   \n",
       "692224       13     2       13         2      F09           1    79    39   \n",
       "\n",
       "         Factor code  ...   fecha_al  fecha_ing  year  month  day    Entrada  \\\n",
       "758424  1.02096  F29  ... 2019-10-31 2019-10-16  2019     10   16    Urgente   \n",
       "773214  1.00000  F43  ... 2017-11-09 2017-11-05  2017     11    5  Ordinario   \n",
       "692224  1.00000  F09  ... 2017-04-21 2017-03-13  2017      3   13    Urgente   \n",
       "\n",
       "            Alta  SexNom ProvHosp_nom ProvResi_nom  \n",
       "758424  Curación  Hombre       Madrid       Madrid  \n",
       "773214  Curación  Hombre     Valencia     Valencia  \n",
       "692224  Curación   Mujer  Ciudad Real  Ciudad Real  \n",
       "\n",
       "[3 rows x 21 columns]"
      ]
     },
     "execution_count": 35,
     "metadata": {},
     "output_type": "execute_result"
    }
   ],
   "source": [
    "morbilidad.sample(3)"
   ]
  },
  {
   "cell_type": "code",
   "execution_count": 39,
   "metadata": {},
   "outputs": [],
   "source": [
    "morbilidad.to_csv('../data/morbilidad_Fgen.csv',index=False)"
   ]
  },
  {
   "cell_type": "code",
   "execution_count": 40,
   "metadata": {},
   "outputs": [
    {
     "data": {
      "text/plain": [
       "2017    111907\n",
       "2016    108935\n",
       "2018    107384\n",
       "2019    102555\n",
       "2015      6654\n",
       "         ...  \n",
       "1952         1\n",
       "1975         1\n",
       "1956         1\n",
       "1954         1\n",
       "1961         1\n",
       "Name: year, Length: 63, dtype: int64"
      ]
     },
     "execution_count": 40,
     "metadata": {},
     "output_type": "execute_result"
    }
   ],
   "source": [
    "morbilidad.year.value_counts()"
   ]
  },
  {
   "cell_type": "code",
   "execution_count": 41,
   "metadata": {},
   "outputs": [],
   "source": [
    "morbilidad['year_al']=morbilidad.fecha_al.dt.year\n",
    "morbilidad['month_al']=morbilidad.fecha_al.dt.month\n",
    "morbilidad['day_al']=morbilidad.fecha_al.dt.day"
   ]
  },
  {
   "cell_type": "code",
   "execution_count": 55,
   "metadata": {},
   "outputs": [
    {
     "data": {
      "text/plain": [
       "Index(['F20', 'F31', 'F10', 'F60', 'F25'], dtype='object')"
      ]
     },
     "execution_count": 55,
     "metadata": {},
     "output_type": "execute_result"
    }
   ],
   "source": [
    "morbilidad.code.value_counts().head(5).keys()"
   ]
  },
  {
   "cell_type": "code",
   "execution_count": null,
   "metadata": {},
   "outputs": [],
   "source": []
  }
 ],
 "metadata": {
  "kernelspec": {
   "display_name": "ironhack",
   "language": "python",
   "name": "ironhack"
  },
  "language_info": {
   "codemirror_mode": {
    "name": "ipython",
    "version": 3
   },
   "file_extension": ".py",
   "mimetype": "text/x-python",
   "name": "python",
   "nbconvert_exporter": "python",
   "pygments_lexer": "ipython3",
   "version": "3.8.5"
  }
 },
 "nbformat": 4,
 "nbformat_minor": 5
}
