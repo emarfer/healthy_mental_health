{
 "cells": [
  {
   "cell_type": "markdown",
   "metadata": {},
   "source": [
    "# Morbilidad Hospitalaria España 2016-2019\n",
    "[Datos INE](https://www.ine.es/dyngs/INEbase/es/operacion.htm?c=Estadistica_C&cid=1254736176778&menu=resultados&secc=1254736195291&idp=1254735573175#!tabs-1254736195291)"
   ]
  },
  {
   "cell_type": "code",
   "execution_count": 1,
   "metadata": {},
   "outputs": [],
   "source": [
    "import pandas as pd\n",
    "import datetime"
   ]
  },
  {
   "cell_type": "code",
   "execution_count": 2,
   "metadata": {},
   "outputs": [],
   "source": [
    "morbi16 = pd.read_csv('../data/morbilidad/EMH_2016_G01.csv',sep='\\t')\n",
    "morbi17 = pd.read_csv('../data/morbilidad/EMH_2017_G01.csv',sep='\\t')\n",
    "morbi18 = pd.read_csv('../data/morbilidad/EMH_2018_G01.csv',sep='\\t')\n",
    "morbi19 = pd.read_csv('../data/morbilidad/EMH_2019_G01.csv',sep='\\t')"
   ]
  },
  {
   "cell_type": "code",
   "execution_count": 4,
   "metadata": {},
   "outputs": [],
   "source": [
    "morbilidad = pd.concat([morbi16,morbi17,morbi18,morbi19])"
   ]
  },
  {
   "cell_type": "code",
   "execution_count": 5,
   "metadata": {},
   "outputs": [
    {
     "data": {
      "text/html": [
       "<div>\n",
       "<style scoped>\n",
       "    .dataframe tbody tr th:only-of-type {\n",
       "        vertical-align: middle;\n",
       "    }\n",
       "\n",
       "    .dataframe tbody tr th {\n",
       "        vertical-align: top;\n",
       "    }\n",
       "\n",
       "    .dataframe thead th {\n",
       "        text-align: right;\n",
       "    }\n",
       "</style>\n",
       "<table border=\"1\" class=\"dataframe\">\n",
       "  <thead>\n",
       "    <tr style=\"text-align: right;\">\n",
       "      <th></th>\n",
       "      <th>Norden</th>\n",
       "      <th>ProvHosp</th>\n",
       "      <th>Sexo</th>\n",
       "      <th>ProvResi</th>\n",
       "      <th>DiagEntr</th>\n",
       "      <th>FxAlta</th>\n",
       "      <th>DiagPrin</th>\n",
       "      <th>MotivoAlta</th>\n",
       "      <th>EdadAnios</th>\n",
       "      <th>EdadMes</th>\n",
       "      <th>EdadDias</th>\n",
       "      <th>DiasEstancia</th>\n",
       "      <th>Factor</th>\n",
       "    </tr>\n",
       "  </thead>\n",
       "  <tbody>\n",
       "    <tr>\n",
       "      <th>811324</th>\n",
       "      <td>10603543</td>\n",
       "      <td>8</td>\n",
       "      <td>2</td>\n",
       "      <td>8</td>\n",
       "      <td>1</td>\n",
       "      <td>7112017</td>\n",
       "      <td>G3183</td>\n",
       "      <td>1</td>\n",
       "      <td>84</td>\n",
       "      <td>5</td>\n",
       "      <td>19</td>\n",
       "      <td>14</td>\n",
       "      <td>1.01095</td>\n",
       "    </tr>\n",
       "    <tr>\n",
       "      <th>653166</th>\n",
       "      <td>3189210</td>\n",
       "      <td>6</td>\n",
       "      <td>1</td>\n",
       "      <td>6</td>\n",
       "      <td>2</td>\n",
       "      <td>12092019</td>\n",
       "      <td>E118</td>\n",
       "      <td>1</td>\n",
       "      <td>42</td>\n",
       "      <td>6</td>\n",
       "      <td>26</td>\n",
       "      <td>16</td>\n",
       "      <td>1.00000</td>\n",
       "    </tr>\n",
       "    <tr>\n",
       "      <th>422043</th>\n",
       "      <td>39577874</td>\n",
       "      <td>44</td>\n",
       "      <td>2</td>\n",
       "      <td>44</td>\n",
       "      <td>1</td>\n",
       "      <td>8082018</td>\n",
       "      <td>C787</td>\n",
       "      <td>3</td>\n",
       "      <td>87</td>\n",
       "      <td>2</td>\n",
       "      <td>11</td>\n",
       "      <td>2</td>\n",
       "      <td>1.00000</td>\n",
       "    </tr>\n",
       "    <tr>\n",
       "      <th>716586</th>\n",
       "      <td>40924156</td>\n",
       "      <td>46</td>\n",
       "      <td>1</td>\n",
       "      <td>33</td>\n",
       "      <td>2</td>\n",
       "      <td>26072018</td>\n",
       "      <td>F200</td>\n",
       "      <td>2</td>\n",
       "      <td>44</td>\n",
       "      <td>6</td>\n",
       "      <td>0</td>\n",
       "      <td>8</td>\n",
       "      <td>2.05330</td>\n",
       "    </tr>\n",
       "    <tr>\n",
       "      <th>497224</th>\n",
       "      <td>38283428</td>\n",
       "      <td>41</td>\n",
       "      <td>2</td>\n",
       "      <td>41</td>\n",
       "      <td>1</td>\n",
       "      <td>9062016</td>\n",
       "      <td>D259</td>\n",
       "      <td>1</td>\n",
       "      <td>41</td>\n",
       "      <td>11</td>\n",
       "      <td>23</td>\n",
       "      <td>3</td>\n",
       "      <td>1.02081</td>\n",
       "    </tr>\n",
       "  </tbody>\n",
       "</table>\n",
       "</div>"
      ],
      "text/plain": [
       "          Norden  ProvHosp  Sexo  ProvResi  DiagEntr    FxAlta DiagPrin  \\\n",
       "811324  10603543         8     2         8         1   7112017  G3183     \n",
       "653166   3189210         6     1         6         2  12092019  E118      \n",
       "422043  39577874        44     2        44         1   8082018  C787      \n",
       "716586  40924156        46     1        33         2  26072018  F200      \n",
       "497224  38283428        41     2        41         1   9062016  D259      \n",
       "\n",
       "        MotivoAlta  EdadAnios  EdadMes  EdadDias  DiasEstancia   Factor  \n",
       "811324           1         84        5        19            14  1.01095  \n",
       "653166           1         42        6        26            16  1.00000  \n",
       "422043           3         87        2        11             2  1.00000  \n",
       "716586           2         44        6         0             8  2.05330  \n",
       "497224           1         41       11        23             3  1.02081  "
      ]
     },
     "execution_count": 5,
     "metadata": {},
     "output_type": "execute_result"
    }
   ],
   "source": [
    "morbilidad.sample(5)"
   ]
  },
  {
   "cell_type": "code",
   "execution_count": 6,
   "metadata": {},
   "outputs": [],
   "source": [
    "morbilidad = morbilidad[morbilidad[\"DiagPrin\"].str.contains('^F')]"
   ]
  },
  {
   "cell_type": "code",
   "execution_count": 7,
   "metadata": {},
   "outputs": [],
   "source": [
    "morbilidad.DiagPrin = morbilidad.DiagPrin.str.strip()"
   ]
  },
  {
   "cell_type": "code",
   "execution_count": 8,
   "metadata": {},
   "outputs": [],
   "source": [
    "icd10 = pd.read_csv('../data/icd10.csv')"
   ]
  },
  {
   "cell_type": "code",
   "execution_count": 9,
   "metadata": {},
   "outputs": [],
   "source": [
    "icd10_psic = icd10[icd10[\"code\"].str.contains('^F')]\n",
    "#el código de las enferemades mentales empeizan por F"
   ]
  },
  {
   "cell_type": "code",
   "execution_count": 10,
   "metadata": {
    "scrolled": true
   },
   "outputs": [
    {
     "data": {
      "text/html": [
       "<div>\n",
       "<style scoped>\n",
       "    .dataframe tbody tr th:only-of-type {\n",
       "        vertical-align: middle;\n",
       "    }\n",
       "\n",
       "    .dataframe tbody tr th {\n",
       "        vertical-align: top;\n",
       "    }\n",
       "\n",
       "    .dataframe thead th {\n",
       "        text-align: right;\n",
       "    }\n",
       "</style>\n",
       "<table border=\"1\" class=\"dataframe\">\n",
       "  <thead>\n",
       "    <tr style=\"text-align: right;\">\n",
       "      <th></th>\n",
       "      <th>code</th>\n",
       "      <th>diag</th>\n",
       "    </tr>\n",
       "  </thead>\n",
       "  <tbody>\n",
       "    <tr>\n",
       "      <th>4011</th>\n",
       "      <td>F1098</td>\n",
       "      <td>Alcohol use, unspecified with alcohol-induced ...</td>\n",
       "    </tr>\n",
       "    <tr>\n",
       "      <th>4472</th>\n",
       "      <td>F330</td>\n",
       "      <td>Major depressive disorder, recurrent, mild</td>\n",
       "    </tr>\n",
       "    <tr>\n",
       "      <th>4157</th>\n",
       "      <td>F1412</td>\n",
       "      <td>Cocaine abuse with intoxication with delirium</td>\n",
       "    </tr>\n",
       "  </tbody>\n",
       "</table>\n",
       "</div>"
      ],
      "text/plain": [
       "       code                                               diag\n",
       "4011  F1098  Alcohol use, unspecified with alcohol-induced ...\n",
       "4472   F330         Major depressive disorder, recurrent, mild\n",
       "4157  F1412      Cocaine abuse with intoxication with delirium"
      ]
     },
     "execution_count": 10,
     "metadata": {},
     "output_type": "execute_result"
    }
   ],
   "source": [
    "icd10_psic.sample(3) #importamos la tabla de correspondencia entre código de diagnóstico y nombre"
   ]
  },
  {
   "cell_type": "code",
   "execution_count": 11,
   "metadata": {},
   "outputs": [],
   "source": [
    "morbilidad.drop(['Norden','EdadDias','EdadMes'],axis=1,inplace = True)"
   ]
  },
  {
   "cell_type": "code",
   "execution_count": 12,
   "metadata": {},
   "outputs": [
    {
     "data": {
      "text/plain": [
       "array(['F0150', 'F0151', 'F0390', 'F0391', 'F04', 'F05', 'F060', 'F061',\n",
       "       'F062', 'F0630', 'F0631', 'F0632', 'F0633', 'F0634', 'F064',\n",
       "       'F068', 'F070', 'F0781', 'F0789', 'F079'], dtype=object)"
      ]
     },
     "execution_count": 12,
     "metadata": {},
     "output_type": "execute_result"
    }
   ],
   "source": [
    "morbilidad.DiagPrin.unique()[0:20] #extraer F + 2 primero dígitos para tener los tipos de enfermedasdes mentales agrupadas"
   ]
  },
  {
   "cell_type": "code",
   "execution_count": 13,
   "metadata": {},
   "outputs": [],
   "source": [
    "morbilidad[\"DiagGen\"] = morbilidad.DiagPrin.str.extract(r'(^F..)')"
   ]
  },
  {
   "cell_type": "code",
   "execution_count": 14,
   "metadata": {},
   "outputs": [
    {
     "data": {
      "text/plain": [
       "array(['F01', 'F03', 'F04', 'F05', 'F06', 'F07', 'F09', 'F10', 'F11',\n",
       "       'F12', 'F13', 'F14', 'F15', 'F16', 'F17', 'F18', 'F19', 'F20',\n",
       "       'F21', 'F22', 'F23', 'F24', 'F25', 'F28', 'F29', 'F30', 'F31',\n",
       "       'F32', 'F33', 'F34', 'F39', 'F40', 'F41', 'F42', 'F43', 'F44',\n",
       "       'F45', 'F48', 'F50', 'F51', 'F52', 'F53', 'F55', 'F59', 'F60',\n",
       "       'F63', 'F64', 'F65', 'F66', 'F68', 'F69', 'F70', 'F71', 'F72',\n",
       "       'F73', 'F78', 'F79', 'F80', 'F81', 'F82', 'F84', 'F88', 'F89',\n",
       "       'F90', 'F91', 'F93', 'F94', 'F95', 'F98', 'F99'], dtype=object)"
      ]
     },
     "execution_count": 14,
     "metadata": {},
     "output_type": "execute_result"
    }
   ],
   "source": [
    "morbilidad.DiagGen.unique()"
   ]
  },
  {
   "cell_type": "code",
   "execution_count": 15,
   "metadata": {},
   "outputs": [],
   "source": [
    "diagnos = pd.read_csv(\"../data/diagnos.csv\")"
   ]
  },
  {
   "cell_type": "code",
   "execution_count": 16,
   "metadata": {},
   "outputs": [
    {
     "data": {
      "text/html": [
       "<div>\n",
       "<style scoped>\n",
       "    .dataframe tbody tr th:only-of-type {\n",
       "        vertical-align: middle;\n",
       "    }\n",
       "\n",
       "    .dataframe tbody tr th {\n",
       "        vertical-align: top;\n",
       "    }\n",
       "\n",
       "    .dataframe thead th {\n",
       "        text-align: right;\n",
       "    }\n",
       "</style>\n",
       "<table border=\"1\" class=\"dataframe\">\n",
       "  <thead>\n",
       "    <tr style=\"text-align: right;\">\n",
       "      <th></th>\n",
       "      <th>code</th>\n",
       "      <th>diag</th>\n",
       "    </tr>\n",
       "  </thead>\n",
       "  <tbody>\n",
       "    <tr>\n",
       "      <th>7</th>\n",
       "      <td>F70-79</td>\n",
       "      <td>Retraso mental</td>\n",
       "    </tr>\n",
       "    <tr>\n",
       "      <th>52</th>\n",
       "      <td>F50</td>\n",
       "      <td>Trastornos de la ingestión de alimentos</td>\n",
       "    </tr>\n",
       "    <tr>\n",
       "      <th>57</th>\n",
       "      <td>F55</td>\n",
       "      <td>Abuso de sustancias que no producen dependencia</td>\n",
       "    </tr>\n",
       "    <tr>\n",
       "      <th>13</th>\n",
       "      <td>F02</td>\n",
       "      <td>Demencia en otras enfermedades clasificadas</td>\n",
       "    </tr>\n",
       "    <tr>\n",
       "      <th>53</th>\n",
       "      <td>F51</td>\n",
       "      <td>Trastornos del sueño no orgánicos</td>\n",
       "    </tr>\n",
       "  </tbody>\n",
       "</table>\n",
       "</div>"
      ],
      "text/plain": [
       "      code                                             diag\n",
       "7   F70-79                                   Retraso mental\n",
       "52     F50          Trastornos de la ingestión de alimentos\n",
       "57     F55  Abuso de sustancias que no producen dependencia\n",
       "13     F02      Demencia en otras enfermedades clasificadas\n",
       "53     F51                Trastornos del sueño no orgánicos"
      ]
     },
     "execution_count": 16,
     "metadata": {},
     "output_type": "execute_result"
    }
   ],
   "source": [
    "diagnos.sample(5)  #importamos la tabla de correspondencia entre código de diagnóstico agrupadas y nombre"
   ]
  },
  {
   "cell_type": "code",
   "execution_count": 17,
   "metadata": {},
   "outputs": [],
   "source": [
    "dicc_diag = {} #crear diccionario con diagnósticos y códigos\n",
    "for i,r in diagnos.iterrows():\n",
    "    dicc_diag[r.code] = r.diag"
   ]
  },
  {
   "cell_type": "code",
   "execution_count": 18,
   "metadata": {},
   "outputs": [],
   "source": [
    "morbilidad[\"FFF\"] = morbilidad.DiagGen.replace(dicc_diag) #columna con subclasificación diagnoósticos."
   ]
  },
  {
   "cell_type": "code",
   "execution_count": 19,
   "metadata": {},
   "outputs": [],
   "source": [
    "#listas de diágnosticos para agrupar por tipo.\n",
    "F0 = [\"F00\",\"F01\",\"F02\",\"F03\",\"F04\",\"F05\",\"F06\",\"F07\",\"F08\",\"F09\"]\n",
    "F1 = [\"F10\",\"F11\",\"F12\",\"F13\",\"F14\",\"F15\",\"F16\",\"F17\",\"F18\",\"F19\"]\n",
    "F2 = [\"F20\",\"F21\",\"F22\",\"F23\",\"F24\",\"F25\",\"F26\",\"F27\",\"F28\",\"F29\"]\n",
    "F3 = [\"F30\",\"F31\",\"F32\",\"F33\",\"F34\",\"F35\",\"F36\",\"F37\",\"F38\",\"F39\"]\n",
    "F4 = [\"F40\",\"F41\",\"F42\",\"F43\",\"F44\",\"F45\",\"F46\",\"F47\",\"F48\",\"F49\"]\n",
    "F5 = [\"F50\",\"F51\",\"F52\",\"F53\",\"F54\",\"F55\",\"F56\",\"F57\",\"F58\",\"F59\"]\n",
    "F6 = [\"F60\",\"F61\",\"F62\",\"F63\",\"F64\",\"F65\",\"F66\",\"F67\",\"F68\",\"F69\"]\n",
    "F7 = [\"F70\",\"F71\",\"F72\",\"F73\",\"F74\",\"F75\",\"F76\",\"F77\",\"F78\",\"F79\"]\n",
    "F8 = [\"F80\",\"F81\",\"F82\",\"F83\",\"F84\",\"F85\",\"F86\",\"F87\",\"F88\",\"F89\"]\n",
    "F9 = [\"F90\",\"F91\",\"F92\",\"F93\",\"F94\",\"F95\",\"F96\",\"F97\",\"F98\"]\n",
    "F99 = \"F99\""
   ]
  },
  {
   "cell_type": "code",
   "execution_count": 20,
   "metadata": {},
   "outputs": [],
   "source": [
    "cabezera = {'F00-F09': 'Trastornos mentales orgánicos, incluidos los trastornos sintomáticos',\n",
    " 'F10-F19': 'Trastornos mentales y de comportamiento debidos al consumo de psicotrópicos',\n",
    " 'F20-29': 'Esquizofrenia, trastornos esquizotípicos y trastornos delirantes',\n",
    " 'F30-39': 'Trastornos del estado de animo, trastornos afectivos',\n",
    " 'F40-49': 'Trastornos neuróticos, trastornos relacionados con el estrés y trastornos somatomorfos',\n",
    " 'F50-59': 'Síndromes del comportamiento asociados con alteraciones fisiológicas y factores físicos',\n",
    " 'F60-69': 'Trastornos de la personalidad y del comportamiento en adultos',\n",
    " 'F70-79': 'Retraso mental',\n",
    " 'F80-89': 'Trastornos del desarrollo psicológico',\n",
    " 'F90-F98': 'Trastornos emocionales y del comportamiento que aparecen habitualmente en la niñez o en la adolescencia'}"
   ]
  },
  {
   "cell_type": "code",
   "execution_count": 21,
   "metadata": {},
   "outputs": [],
   "source": [
    "capi = diagnos.head(11) #selección de los grupos de diagnóstico principales"
   ]
  },
  {
   "cell_type": "code",
   "execution_count": 22,
   "metadata": {},
   "outputs": [
    {
     "data": {
      "text/html": [
       "<div>\n",
       "<style scoped>\n",
       "    .dataframe tbody tr th:only-of-type {\n",
       "        vertical-align: middle;\n",
       "    }\n",
       "\n",
       "    .dataframe tbody tr th {\n",
       "        vertical-align: top;\n",
       "    }\n",
       "\n",
       "    .dataframe thead th {\n",
       "        text-align: right;\n",
       "    }\n",
       "</style>\n",
       "<table border=\"1\" class=\"dataframe\">\n",
       "  <thead>\n",
       "    <tr style=\"text-align: right;\">\n",
       "      <th></th>\n",
       "      <th>code</th>\n",
       "      <th>diag</th>\n",
       "    </tr>\n",
       "  </thead>\n",
       "  <tbody>\n",
       "    <tr>\n",
       "      <th>0</th>\n",
       "      <td>F00-F09</td>\n",
       "      <td>Trastornos mentales orgánicos, incluidos los t...</td>\n",
       "    </tr>\n",
       "    <tr>\n",
       "      <th>1</th>\n",
       "      <td>F10-F19</td>\n",
       "      <td>Trastornos mentales y de comportamiento debido...</td>\n",
       "    </tr>\n",
       "    <tr>\n",
       "      <th>2</th>\n",
       "      <td>F20-29</td>\n",
       "      <td>Esquizofrenia, trastornos esquizotípicos y tra...</td>\n",
       "    </tr>\n",
       "    <tr>\n",
       "      <th>3</th>\n",
       "      <td>F30-39</td>\n",
       "      <td>Trastornos del estado de animo, trastornos afe...</td>\n",
       "    </tr>\n",
       "    <tr>\n",
       "      <th>4</th>\n",
       "      <td>F40-49</td>\n",
       "      <td>Trastornos neuróticos, trastornos relacionados...</td>\n",
       "    </tr>\n",
       "    <tr>\n",
       "      <th>5</th>\n",
       "      <td>F50-59</td>\n",
       "      <td>Síndromes del comportamiento asociados con alt...</td>\n",
       "    </tr>\n",
       "    <tr>\n",
       "      <th>6</th>\n",
       "      <td>F60-69</td>\n",
       "      <td>Trastornos de la personalidad y del comportami...</td>\n",
       "    </tr>\n",
       "    <tr>\n",
       "      <th>7</th>\n",
       "      <td>F70-79</td>\n",
       "      <td>Retraso mental</td>\n",
       "    </tr>\n",
       "    <tr>\n",
       "      <th>8</th>\n",
       "      <td>F80-89</td>\n",
       "      <td>Trastornos del desarrollo psicológico</td>\n",
       "    </tr>\n",
       "    <tr>\n",
       "      <th>9</th>\n",
       "      <td>F90-F98</td>\n",
       "      <td>Trastornos emocionales y del comportamiento qu...</td>\n",
       "    </tr>\n",
       "    <tr>\n",
       "      <th>10</th>\n",
       "      <td>F99</td>\n",
       "      <td>Trastornos mentales sin especificar</td>\n",
       "    </tr>\n",
       "  </tbody>\n",
       "</table>\n",
       "</div>"
      ],
      "text/plain": [
       "       code                                               diag\n",
       "0   F00-F09  Trastornos mentales orgánicos, incluidos los t...\n",
       "1   F10-F19  Trastornos mentales y de comportamiento debido...\n",
       "2    F20-29  Esquizofrenia, trastornos esquizotípicos y tra...\n",
       "3    F30-39  Trastornos del estado de animo, trastornos afe...\n",
       "4    F40-49  Trastornos neuróticos, trastornos relacionados...\n",
       "5    F50-59  Síndromes del comportamiento asociados con alt...\n",
       "6    F60-69  Trastornos de la personalidad y del comportami...\n",
       "7    F70-79                                     Retraso mental\n",
       "8    F80-89              Trastornos del desarrollo psicológico\n",
       "9   F90-F98  Trastornos emocionales y del comportamiento qu...\n",
       "10      F99                Trastornos mentales sin especificar"
      ]
     },
     "execution_count": 22,
     "metadata": {},
     "output_type": "execute_result"
    }
   ],
   "source": [
    "capi"
   ]
  },
  {
   "cell_type": "code",
   "execution_count": 23,
   "metadata": {},
   "outputs": [
    {
     "data": {
      "text/plain": [
       "{'F00-F09': 'Trastornos mentales orgánicos, incluidos los trastornos sintomáticos',\n",
       " 'F10-F19': 'Trastornos mentales y de comportamiento debidos al consumo de psicotrópicos',\n",
       " 'F20-29': 'Esquizofrenia, trastornos esquizotípicos y trastornos delirantes',\n",
       " 'F30-39': 'Trastornos del estado de animo, trastornos afectivos',\n",
       " 'F40-49': 'Trastornos neuróticos, trastornos relacionados con el estrés y trastornos somatomorfos',\n",
       " 'F50-59': 'Síndromes del comportamiento asociados con alteraciones fisiológicas y factores físicos',\n",
       " 'F60-69': 'Trastornos de la personalidad y del comportamiento en adultos',\n",
       " 'F70-79': 'Retraso mental',\n",
       " 'F80-89': 'Trastornos del desarrollo psicológico',\n",
       " 'F90-F98': 'Trastornos emocionales y del comportamiento que aparecen habitualmente en la niñez o en la adolescencia',\n",
       " 'F99': 'Trastornos mentales sin especificar'}"
      ]
     },
     "execution_count": 23,
     "metadata": {},
     "output_type": "execute_result"
    }
   ],
   "source": [
    "#creamos un diccionario con los diagnósticos y sus nombres\n",
    "cabezera = {}\n",
    "for i,r in capi.iterrows():\n",
    "    cabezera[r.code] = r.diag\n",
    "cabezera"
   ]
  },
  {
   "cell_type": "code",
   "execution_count": 24,
   "metadata": {},
   "outputs": [],
   "source": [
    "#creamos un diccionario con las correspondencias de los subtipos y tipos principales de diagnósticos\n",
    "capitulando = {}\n",
    "for f in F0:\n",
    "    capitulando[f] = cabezera['F00-F09']\n",
    "for f in F1:\n",
    "    capitulando[f] = cabezera['F10-F19']\n",
    "for f in F2:\n",
    "    capitulando[f] = cabezera['F20-29']\n",
    "for f in F3:\n",
    "    capitulando[f] = cabezera['F30-39']\n",
    "for f in F4:\n",
    "    capitulando[f] = cabezera['F40-49']\n",
    "for f in F5:\n",
    "    capitulando[f] = cabezera['F50-59']\n",
    "for f in F6:\n",
    "    capitulando[f] = cabezera['F60-69']\n",
    "for f in F7:\n",
    "    capitulando[f] = cabezera['F70-79']\n",
    "for f in F8:\n",
    "    capitulando[f] = cabezera['F80-89']\n",
    "for f in F9:\n",
    "    capitulando[f] = cabezera['F90-F98']\n",
    "capitulando[F99] = cabezera['F99']"
   ]
  },
  {
   "cell_type": "code",
   "execution_count": 25,
   "metadata": {},
   "outputs": [
    {
     "data": {
      "text/html": [
       "<div>\n",
       "<style scoped>\n",
       "    .dataframe tbody tr th:only-of-type {\n",
       "        vertical-align: middle;\n",
       "    }\n",
       "\n",
       "    .dataframe tbody tr th {\n",
       "        vertical-align: top;\n",
       "    }\n",
       "\n",
       "    .dataframe thead th {\n",
       "        text-align: right;\n",
       "    }\n",
       "</style>\n",
       "<table border=\"1\" class=\"dataframe\">\n",
       "  <thead>\n",
       "    <tr style=\"text-align: right;\">\n",
       "      <th></th>\n",
       "      <th>ProvHosp</th>\n",
       "      <th>Sexo</th>\n",
       "      <th>ProvResi</th>\n",
       "      <th>DiagEntr</th>\n",
       "      <th>FxAlta</th>\n",
       "      <th>DiagPrin</th>\n",
       "      <th>MotivoAlta</th>\n",
       "      <th>EdadAnios</th>\n",
       "      <th>DiasEstancia</th>\n",
       "      <th>Factor</th>\n",
       "      <th>DiagGen</th>\n",
       "      <th>FFF</th>\n",
       "    </tr>\n",
       "  </thead>\n",
       "  <tbody>\n",
       "    <tr>\n",
       "      <th>763559</th>\n",
       "      <td>41</td>\n",
       "      <td>2</td>\n",
       "      <td>41</td>\n",
       "      <td>2</td>\n",
       "      <td>26032019</td>\n",
       "      <td>F3110</td>\n",
       "      <td>1</td>\n",
       "      <td>24</td>\n",
       "      <td>20</td>\n",
       "      <td>1.00000</td>\n",
       "      <td>F31</td>\n",
       "      <td>Trastorno bipolar</td>\n",
       "    </tr>\n",
       "    <tr>\n",
       "      <th>792081</th>\n",
       "      <td>35</td>\n",
       "      <td>1</td>\n",
       "      <td>35</td>\n",
       "      <td>2</td>\n",
       "      <td>25092019</td>\n",
       "      <td>F4323</td>\n",
       "      <td>1</td>\n",
       "      <td>53</td>\n",
       "      <td>8</td>\n",
       "      <td>1.00000</td>\n",
       "      <td>F43</td>\n",
       "      <td>Reacción al stress grave y trastornos de adapt...</td>\n",
       "    </tr>\n",
       "    <tr>\n",
       "      <th>690663</th>\n",
       "      <td>8</td>\n",
       "      <td>1</td>\n",
       "      <td>8</td>\n",
       "      <td>2</td>\n",
       "      <td>13022018</td>\n",
       "      <td>F1010</td>\n",
       "      <td>1</td>\n",
       "      <td>41</td>\n",
       "      <td>10</td>\n",
       "      <td>1.09860</td>\n",
       "      <td>F10</td>\n",
       "      <td>Trastornos mentales y de comportamiento debido...</td>\n",
       "    </tr>\n",
       "    <tr>\n",
       "      <th>728318</th>\n",
       "      <td>36</td>\n",
       "      <td>2</td>\n",
       "      <td>36</td>\n",
       "      <td>2</td>\n",
       "      <td>18122017</td>\n",
       "      <td>F22</td>\n",
       "      <td>1</td>\n",
       "      <td>65</td>\n",
       "      <td>16</td>\n",
       "      <td>1.00000</td>\n",
       "      <td>F22</td>\n",
       "      <td>Trastornos delirantes persistentes</td>\n",
       "    </tr>\n",
       "    <tr>\n",
       "      <th>751442</th>\n",
       "      <td>8</td>\n",
       "      <td>1</td>\n",
       "      <td>8</td>\n",
       "      <td>1</td>\n",
       "      <td>10062019</td>\n",
       "      <td>F251</td>\n",
       "      <td>1</td>\n",
       "      <td>56</td>\n",
       "      <td>42</td>\n",
       "      <td>1.08056</td>\n",
       "      <td>F25</td>\n",
       "      <td>Trastornos esquizoafectivos</td>\n",
       "    </tr>\n",
       "  </tbody>\n",
       "</table>\n",
       "</div>"
      ],
      "text/plain": [
       "        ProvHosp  Sexo  ProvResi  DiagEntr    FxAlta DiagPrin  MotivoAlta  \\\n",
       "763559        41     2        41         2  26032019    F3110           1   \n",
       "792081        35     1        35         2  25092019    F4323           1   \n",
       "690663         8     1         8         2  13022018    F1010           1   \n",
       "728318        36     2        36         2  18122017      F22           1   \n",
       "751442         8     1         8         1  10062019     F251           1   \n",
       "\n",
       "        EdadAnios  DiasEstancia   Factor DiagGen  \\\n",
       "763559         24            20  1.00000     F31   \n",
       "792081         53             8  1.00000     F43   \n",
       "690663         41            10  1.09860     F10   \n",
       "728318         65            16  1.00000     F22   \n",
       "751442         56            42  1.08056     F25   \n",
       "\n",
       "                                                      FFF  \n",
       "763559                                  Trastorno bipolar  \n",
       "792081  Reacción al stress grave y trastornos de adapt...  \n",
       "690663  Trastornos mentales y de comportamiento debido...  \n",
       "728318                 Trastornos delirantes persistentes  \n",
       "751442                        Trastornos esquizoafectivos  "
      ]
     },
     "execution_count": 25,
     "metadata": {},
     "output_type": "execute_result"
    }
   ],
   "source": [
    "morbilidad.sample(5)"
   ]
  },
  {
   "cell_type": "code",
   "execution_count": 26,
   "metadata": {},
   "outputs": [],
   "source": [
    "morbilidad[\"Fgen\"] = morbilidad.DiagGen.map(capitulando) #creamos nueva columnas"
   ]
  },
  {
   "cell_type": "code",
   "execution_count": 28,
   "metadata": {},
   "outputs": [],
   "source": [
    "discapacidad = morbilidad[morbilidad[\"Fgen\"] == 'Retraso mental'].index #dropeamos el tipo de retraso mental\n",
    "morbilidad.drop(discapacidad,inplace = True)"
   ]
  },
  {
   "cell_type": "code",
   "execution_count": 30,
   "metadata": {},
   "outputs": [
    {
     "data": {
      "text/plain": [
       "{'Trastornos mentales orgánicos, incluidos los trastornos sintomáticos': 'F00-F09',\n",
       " 'Trastornos mentales y de comportamiento debidos al consumo de psicotrópicos': 'F10-F19',\n",
       " 'Esquizofrenia, trastornos esquizotípicos y trastornos delirantes': 'F20-29',\n",
       " 'Trastornos del estado de animo, trastornos afectivos': 'F30-39',\n",
       " 'Trastornos neuróticos, trastornos relacionados con el estrés y trastornos somatomorfos': 'F40-49',\n",
       " 'Síndromes del comportamiento asociados con alteraciones fisiológicas y factores físicos': 'F50-59',\n",
       " 'Trastornos de la personalidad y del comportamiento en adultos': 'F60-69',\n",
       " 'Retraso mental': 'F70-79',\n",
       " 'Trastornos del desarrollo psicológico': 'F80-89',\n",
       " 'Trastornos emocionales y del comportamiento que aparecen habitualmente en la niñez o en la adolescencia': 'F90-F98',\n",
       " 'Trastornos mentales sin especificar': 'F99'}"
      ]
     },
     "execution_count": 30,
     "metadata": {},
     "output_type": "execute_result"
    }
   ],
   "source": [
    "reverse_dic = {} #diccioanrio con nombre_diag como key y con código como value\n",
    "for i,r in capi.iterrows():\n",
    "    reverse_dic[r.diag] = r.code\n",
    "reverse_dic"
   ]
  },
  {
   "cell_type": "code",
   "execution_count": 31,
   "metadata": {},
   "outputs": [],
   "source": [
    "morbilidad[\"CodGen\"] = morbilidad.Fgen.replace(reverse_dic)"
   ]
  },
  {
   "cell_type": "code",
   "execution_count": 34,
   "metadata": {},
   "outputs": [
    {
     "data": {
      "text/html": [
       "<div>\n",
       "<style scoped>\n",
       "    .dataframe tbody tr th:only-of-type {\n",
       "        vertical-align: middle;\n",
       "    }\n",
       "\n",
       "    .dataframe tbody tr th {\n",
       "        vertical-align: top;\n",
       "    }\n",
       "\n",
       "    .dataframe thead th {\n",
       "        text-align: right;\n",
       "    }\n",
       "</style>\n",
       "<table border=\"1\" class=\"dataframe\">\n",
       "  <thead>\n",
       "    <tr style=\"text-align: right;\">\n",
       "      <th></th>\n",
       "      <th>ProvHosp</th>\n",
       "      <th>Sexo</th>\n",
       "      <th>ProvResi</th>\n",
       "      <th>DiagEntr</th>\n",
       "      <th>FxAlta</th>\n",
       "      <th>DiagPrin</th>\n",
       "      <th>MotivoAlta</th>\n",
       "      <th>EdadAnios</th>\n",
       "      <th>DiasEstancia</th>\n",
       "      <th>Factor</th>\n",
       "      <th>DiagGen</th>\n",
       "      <th>FFF</th>\n",
       "      <th>Fgen</th>\n",
       "      <th>CodGen</th>\n",
       "    </tr>\n",
       "  </thead>\n",
       "  <tbody>\n",
       "    <tr>\n",
       "      <th>738244</th>\n",
       "      <td>29</td>\n",
       "      <td>1</td>\n",
       "      <td>29</td>\n",
       "      <td>2</td>\n",
       "      <td>28122018</td>\n",
       "      <td>F29</td>\n",
       "      <td>1</td>\n",
       "      <td>24</td>\n",
       "      <td>6</td>\n",
       "      <td>1.01658</td>\n",
       "      <td>F29</td>\n",
       "      <td>Psicosis no orgánica sin especificar</td>\n",
       "      <td>Esquizofrenia, trastornos esquizotípicos y tra...</td>\n",
       "      <td>F20-29</td>\n",
       "    </tr>\n",
       "    <tr>\n",
       "      <th>789472</th>\n",
       "      <td>14</td>\n",
       "      <td>2</td>\n",
       "      <td>14</td>\n",
       "      <td>2</td>\n",
       "      <td>23102017</td>\n",
       "      <td>F609</td>\n",
       "      <td>1</td>\n",
       "      <td>25</td>\n",
       "      <td>7</td>\n",
       "      <td>1.00000</td>\n",
       "      <td>F60</td>\n",
       "      <td>Trastorno de personalidad específico</td>\n",
       "      <td>Trastornos de la personalidad y del comportami...</td>\n",
       "      <td>F60-69</td>\n",
       "    </tr>\n",
       "    <tr>\n",
       "      <th>708585</th>\n",
       "      <td>28</td>\n",
       "      <td>1</td>\n",
       "      <td>28</td>\n",
       "      <td>1</td>\n",
       "      <td>15122019</td>\n",
       "      <td>F09</td>\n",
       "      <td>1</td>\n",
       "      <td>49</td>\n",
       "      <td>318</td>\n",
       "      <td>1.02096</td>\n",
       "      <td>F09</td>\n",
       "      <td>Trastornos mentales orgánicos o sintomáticos s...</td>\n",
       "      <td>Trastornos mentales orgánicos, incluidos los t...</td>\n",
       "      <td>F00-F09</td>\n",
       "    </tr>\n",
       "  </tbody>\n",
       "</table>\n",
       "</div>"
      ],
      "text/plain": [
       "        ProvHosp  Sexo  ProvResi  DiagEntr    FxAlta DiagPrin  MotivoAlta  \\\n",
       "738244        29     1        29         2  28122018      F29           1   \n",
       "789472        14     2        14         2  23102017     F609           1   \n",
       "708585        28     1        28         1  15122019      F09           1   \n",
       "\n",
       "        EdadAnios  DiasEstancia   Factor DiagGen  \\\n",
       "738244         24             6  1.01658     F29   \n",
       "789472         25             7  1.00000     F60   \n",
       "708585         49           318  1.02096     F09   \n",
       "\n",
       "                                                      FFF  \\\n",
       "738244               Psicosis no orgánica sin especificar   \n",
       "789472               Trastorno de personalidad específico   \n",
       "708585  Trastornos mentales orgánicos o sintomáticos s...   \n",
       "\n",
       "                                                     Fgen   CodGen  \n",
       "738244  Esquizofrenia, trastornos esquizotípicos y tra...   F20-29  \n",
       "789472  Trastornos de la personalidad y del comportami...   F60-69  \n",
       "708585  Trastornos mentales orgánicos, incluidos los t...  F00-F09  "
      ]
     },
     "execution_count": 34,
     "metadata": {},
     "output_type": "execute_result"
    }
   ],
   "source": [
    "morbilidad.sample(3)"
   ]
  },
  {
   "cell_type": "code",
   "execution_count": 35,
   "metadata": {},
   "outputs": [],
   "source": [
    "#creamos fecha a través de FxAlta\n",
    "morbilidad.FxAlta = morbilidad.FxAlta.astype('string')"
   ]
  },
  {
   "cell_type": "code",
   "execution_count": 36,
   "metadata": {},
   "outputs": [],
   "source": [
    "morbilidad['fecha_al'] = pd.to_datetime({'year': morbilidad.FxAlta.str[-4:],\n",
    "                           'month': morbilidad.FxAlta.str[-6:-4],\n",
    "                           'day': morbilidad.FxAlta.str[:-6]\n",
    "                           })"
   ]
  },
  {
   "cell_type": "code",
   "execution_count": 37,
   "metadata": {},
   "outputs": [],
   "source": [
    "#creamos fecha ingreso restando a fecha_al el número de día ingresado (DiasEstancia)\n",
    "morbilidad['fecha_ing'] = morbilidad.apply(lambda fila: fila['fecha_al'] - datetime.timedelta(days = fila['DiasEstancia']), axis= 1)"
   ]
  },
  {
   "cell_type": "code",
   "execution_count": 38,
   "metadata": {},
   "outputs": [],
   "source": [
    "#diccionarios códigos\n",
    "dic_pro ={2:'Albacete',3:'Alicante',4:'Almería',1:'Álava',33:'Asturias',5:'Ávila',6:'Badajoz',7:'Balears, Illes',\n",
    "8:'Barcelona',48:'Bizkaia',9:'Burgos',10:'Cáceres',11:'Cádiz',39:'Cantabria',12:'Castellón',13:'Ciudad Real',\n",
    "14:'Córdoba',15:'Coruña, A',16:'Cuenca',20:'Gipuzkoa',17:'Girona',18:'Granada',19:'Guadalajara',21:'Huelva',22:'Huesca',\n",
    "23:'Jaén',24:'León',25:'Lleida',27:'Lugo',28:'Madrid',29:'Málaga',30:'Murcia',31:'Navarra',32:'Ourense',34:'Palencia',\n",
    "35:'Palmas, Las',36:'Pontevedra',26:'Rioja, La',37:'Salamanca',38:'Santa Cruz de Tenerife',40:'Segovia',41:'Sevilla',42:'Soria',\n",
    "43:'Tarragona',44:'Teruel',45:'Toledo',46:'Valencia',47:'Valladolid',49:'Zamora',50:'Zaragoza',51:'Ceuta',\n",
    "52:'Melilla',53:'Extranjeros'}\n",
    "dic_sexo = {1:'Hombre',2:'Mujer'}\n",
    "dic_entrada = {1:'Ordinario',2:'Urgente'}\n",
    "dic_alta = {1: \"Curación\",2:'Traslado',3:'Fallecimiento',4:'Otras'}"
   ]
  },
  {
   "cell_type": "code",
   "execution_count": 39,
   "metadata": {},
   "outputs": [],
   "source": [
    "#creamos nuevas columnas /cambiamos datos de columnas en función de los códigos\n",
    "morbilidad['nomProvHosp'] = morbilidad.ProvHosp.map(dic_pro) #ProvResi\n",
    "morbilidad['nomProvResi'] = morbilidad.ProvResi.map(dic_pro)\n",
    "morbilidad['Entrada'] = morbilidad.DiagEntr.map(dic_entrada)\n",
    "morbilidad['Alta'] = morbilidad.MotivoAlta.map(dic_alta)\n",
    "morbilidad['SexNom'] = morbilidad.Sexo.map(dic_sexo)"
   ]
  },
  {
   "cell_type": "code",
   "execution_count": 41,
   "metadata": {},
   "outputs": [],
   "source": [
    "morbilidad.drop(['FxAlta','DiagPrin'],axis=1,inplace = True)"
   ]
  },
  {
   "cell_type": "code",
   "execution_count": 43,
   "metadata": {
    "scrolled": true
   },
   "outputs": [
    {
     "data": {
      "text/plain": [
       "Index(['ProvHosp', 'Sexo', 'ProvResi', 'DiagEntr', 'MotivoAlta', 'EdadAnios',\n",
       "       'DiasEstancia', 'Factor', 'DiagGen', 'FFF', 'Fgen', 'CodGen',\n",
       "       'fecha_al', 'fecha_ing', 'nomProvHosp', 'nomProvResi', 'Entrada',\n",
       "       'Alta', 'SexNom'],\n",
       "      dtype='object')"
      ]
     },
     "execution_count": 43,
     "metadata": {},
     "output_type": "execute_result"
    }
   ],
   "source": [
    "morbilidad.columns"
   ]
  },
  {
   "cell_type": "code",
   "execution_count": 44,
   "metadata": {},
   "outputs": [],
   "source": [
    "morbilidad.columns = ['ProvHosp', 'Sexo', 'ProvResi', 'DiagEntr', 'MotivoAlta', 'Edad',\n",
    "       'Dias', 'Factor', 'CodeDiag', 'Diag', 'DiagGen', 'CodeGen',\n",
    "       'fecha_al', 'fecha_ing', 'nomProvHosp', 'nomProvResi', 'Entrada',\n",
    "       'Alta', 'SexNom']"
   ]
  },
  {
   "cell_type": "code",
   "execution_count": 45,
   "metadata": {},
   "outputs": [],
   "source": [
    "morbilidad = morbilidad.iloc[:,[1,18,5,0,14,2,15,3,16,13,12,6,4,17,8,9,11,10,7]]"
   ]
  },
  {
   "cell_type": "code",
   "execution_count": 46,
   "metadata": {},
   "outputs": [
    {
     "data": {
      "text/html": [
       "<div>\n",
       "<style scoped>\n",
       "    .dataframe tbody tr th:only-of-type {\n",
       "        vertical-align: middle;\n",
       "    }\n",
       "\n",
       "    .dataframe tbody tr th {\n",
       "        vertical-align: top;\n",
       "    }\n",
       "\n",
       "    .dataframe thead th {\n",
       "        text-align: right;\n",
       "    }\n",
       "</style>\n",
       "<table border=\"1\" class=\"dataframe\">\n",
       "  <thead>\n",
       "    <tr style=\"text-align: right;\">\n",
       "      <th></th>\n",
       "      <th>Sexo</th>\n",
       "      <th>SexNom</th>\n",
       "      <th>Edad</th>\n",
       "      <th>ProvHosp</th>\n",
       "      <th>nomProvHosp</th>\n",
       "      <th>ProvResi</th>\n",
       "      <th>nomProvResi</th>\n",
       "      <th>DiagEntr</th>\n",
       "      <th>Entrada</th>\n",
       "      <th>fecha_ing</th>\n",
       "      <th>fecha_al</th>\n",
       "      <th>Dias</th>\n",
       "      <th>MotivoAlta</th>\n",
       "      <th>Alta</th>\n",
       "      <th>CodeDiag</th>\n",
       "      <th>Diag</th>\n",
       "      <th>CodeGen</th>\n",
       "      <th>DiagGen</th>\n",
       "      <th>Factor</th>\n",
       "    </tr>\n",
       "  </thead>\n",
       "  <tbody>\n",
       "    <tr>\n",
       "      <th>789369</th>\n",
       "      <td>1</td>\n",
       "      <td>Hombre</td>\n",
       "      <td>49</td>\n",
       "      <td>10</td>\n",
       "      <td>Cáceres</td>\n",
       "      <td>6</td>\n",
       "      <td>Badajoz</td>\n",
       "      <td>2</td>\n",
       "      <td>Urgente</td>\n",
       "      <td>2017-08-03</td>\n",
       "      <td>2017-08-14</td>\n",
       "      <td>11</td>\n",
       "      <td>1</td>\n",
       "      <td>Curación</td>\n",
       "      <td>F60</td>\n",
       "      <td>Trastorno de personalidad específico</td>\n",
       "      <td>F60-69</td>\n",
       "      <td>Trastornos de la personalidad y del comportami...</td>\n",
       "      <td>1.33304</td>\n",
       "    </tr>\n",
       "    <tr>\n",
       "      <th>705027</th>\n",
       "      <td>2</td>\n",
       "      <td>Mujer</td>\n",
       "      <td>32</td>\n",
       "      <td>24</td>\n",
       "      <td>León</td>\n",
       "      <td>24</td>\n",
       "      <td>León</td>\n",
       "      <td>2</td>\n",
       "      <td>Urgente</td>\n",
       "      <td>2016-03-25</td>\n",
       "      <td>2016-04-04</td>\n",
       "      <td>10</td>\n",
       "      <td>1</td>\n",
       "      <td>Curación</td>\n",
       "      <td>F23</td>\n",
       "      <td>Trastornos psicóticos agudos y transitorios</td>\n",
       "      <td>F20-29</td>\n",
       "      <td>Esquizofrenia, trastornos esquizotípicos y tra...</td>\n",
       "      <td>1.57046</td>\n",
       "    </tr>\n",
       "    <tr>\n",
       "      <th>762321</th>\n",
       "      <td>2</td>\n",
       "      <td>Mujer</td>\n",
       "      <td>39</td>\n",
       "      <td>33</td>\n",
       "      <td>Asturias</td>\n",
       "      <td>33</td>\n",
       "      <td>Asturias</td>\n",
       "      <td>1</td>\n",
       "      <td>Ordinario</td>\n",
       "      <td>2016-07-18</td>\n",
       "      <td>2016-08-05</td>\n",
       "      <td>18</td>\n",
       "      <td>1</td>\n",
       "      <td>Curación</td>\n",
       "      <td>F60</td>\n",
       "      <td>Trastorno de personalidad específico</td>\n",
       "      <td>F60-69</td>\n",
       "      <td>Trastornos de la personalidad y del comportami...</td>\n",
       "      <td>1.00000</td>\n",
       "    </tr>\n",
       "  </tbody>\n",
       "</table>\n",
       "</div>"
      ],
      "text/plain": [
       "        Sexo  SexNom  Edad  ProvHosp nomProvHosp  ProvResi nomProvResi  \\\n",
       "789369     1  Hombre    49        10     Cáceres         6     Badajoz   \n",
       "705027     2   Mujer    32        24        León        24        León   \n",
       "762321     2   Mujer    39        33    Asturias        33    Asturias   \n",
       "\n",
       "        DiagEntr    Entrada  fecha_ing   fecha_al  Dias  MotivoAlta      Alta  \\\n",
       "789369         2    Urgente 2017-08-03 2017-08-14    11           1  Curación   \n",
       "705027         2    Urgente 2016-03-25 2016-04-04    10           1  Curación   \n",
       "762321         1  Ordinario 2016-07-18 2016-08-05    18           1  Curación   \n",
       "\n",
       "       CodeDiag                                         Diag CodeGen  \\\n",
       "789369      F60         Trastorno de personalidad específico  F60-69   \n",
       "705027      F23  Trastornos psicóticos agudos y transitorios  F20-29   \n",
       "762321      F60         Trastorno de personalidad específico  F60-69   \n",
       "\n",
       "                                                  DiagGen   Factor  \n",
       "789369  Trastornos de la personalidad y del comportami...  1.33304  \n",
       "705027  Esquizofrenia, trastornos esquizotípicos y tra...  1.57046  \n",
       "762321  Trastornos de la personalidad y del comportami...  1.00000  "
      ]
     },
     "execution_count": 46,
     "metadata": {},
     "output_type": "execute_result"
    }
   ],
   "source": [
    "morbilidad.sample(3)"
   ]
  },
  {
   "cell_type": "code",
   "execution_count": 47,
   "metadata": {},
   "outputs": [],
   "source": [
    "morbilidad.to_csv(\"../data/morbilidad_Fgen.csv\",index=False)"
   ]
  },
  {
   "cell_type": "code",
   "execution_count": null,
   "metadata": {},
   "outputs": [],
   "source": []
  }
 ],
 "metadata": {
  "kernelspec": {
   "display_name": "ironhack",
   "language": "python",
   "name": "ironhack"
  },
  "language_info": {
   "codemirror_mode": {
    "name": "ipython",
    "version": 3
   },
   "file_extension": ".py",
   "mimetype": "text/x-python",
   "name": "python",
   "nbconvert_exporter": "python",
   "pygments_lexer": "ipython3",
   "version": "3.8.5"
  }
 },
 "nbformat": 4,
 "nbformat_minor": 5
}
