{
 "cells": [
  {
   "cell_type": "markdown",
   "id": "e77e8f33",
   "metadata": {},
   "source": [
    "# Morbilidad Hospitalaria España 2016-2019\n",
    "## Creación dataframe para visualización\n",
    "\n",
    "[Datos INE](https://www.ine.es/dyngs/INEbase/es/operacion.htm?c=Estadistica_C&cid=1254736176778&menu=resultados&secc=1254736195291&idp=1254735573175#!tabs-1254736195291)"
   ]
  },
  {
   "cell_type": "code",
   "execution_count": 67,
   "id": "20c08b42",
   "metadata": {},
   "outputs": [],
   "source": [
    "import pandas as pd\n",
    "import datetime\n",
    "import json\n",
    "from shapely.geometry import shape\n",
    "import geopandas as gpd\n",
    "import geojson"
   ]
  },
  {
   "cell_type": "code",
   "execution_count": 2,
   "id": "37d60af0",
   "metadata": {},
   "outputs": [],
   "source": [
    "#tenemos 4 dataframes por años desde 2016 a 2019\n",
    "morbi16 = pd.read_csv('../data/morbilidad/EMH_2016_G01.csv',sep='\\t')\n",
    "morbi17 = pd.read_csv('../data/morbilidad/EMH_2017_G01.csv',sep='\\t')\n",
    "morbi18 = pd.read_csv('../data/morbilidad/EMH_2018_G01.csv',sep='\\t')\n",
    "morbi19 = pd.read_csv('../data/morbilidad/EMH_2019_G01.csv',sep='\\t')"
   ]
  },
  {
   "cell_type": "code",
   "execution_count": 3,
   "id": "750d4c8b",
   "metadata": {},
   "outputs": [],
   "source": [
    "morbilidad = pd.concat([morbi16,morbi17,morbi18,morbi19])"
   ]
  },
  {
   "cell_type": "code",
   "execution_count": 4,
   "id": "2c5e6659",
   "metadata": {},
   "outputs": [
    {
     "data": {
      "text/html": [
       "<div>\n",
       "<style scoped>\n",
       "    .dataframe tbody tr th:only-of-type {\n",
       "        vertical-align: middle;\n",
       "    }\n",
       "\n",
       "    .dataframe tbody tr th {\n",
       "        vertical-align: top;\n",
       "    }\n",
       "\n",
       "    .dataframe thead th {\n",
       "        text-align: right;\n",
       "    }\n",
       "</style>\n",
       "<table border=\"1\" class=\"dataframe\">\n",
       "  <thead>\n",
       "    <tr style=\"text-align: right;\">\n",
       "      <th></th>\n",
       "      <th>Norden</th>\n",
       "      <th>ProvHosp</th>\n",
       "      <th>Sexo</th>\n",
       "      <th>ProvResi</th>\n",
       "      <th>DiagEntr</th>\n",
       "      <th>FxAlta</th>\n",
       "      <th>DiagPrin</th>\n",
       "      <th>MotivoAlta</th>\n",
       "      <th>EdadAnios</th>\n",
       "      <th>EdadMes</th>\n",
       "      <th>EdadDias</th>\n",
       "      <th>DiasEstancia</th>\n",
       "      <th>Factor</th>\n",
       "    </tr>\n",
       "  </thead>\n",
       "  <tbody>\n",
       "    <tr>\n",
       "      <th>286248</th>\n",
       "      <td>40689194</td>\n",
       "      <td>46</td>\n",
       "      <td>2</td>\n",
       "      <td>46</td>\n",
       "      <td>1</td>\n",
       "      <td>22122017</td>\n",
       "      <td>C50912</td>\n",
       "      <td>1</td>\n",
       "      <td>55</td>\n",
       "      <td>9</td>\n",
       "      <td>20</td>\n",
       "      <td>2</td>\n",
       "      <td>1.00000</td>\n",
       "    </tr>\n",
       "    <tr>\n",
       "      <th>889747</th>\n",
       "      <td>5487556</td>\n",
       "      <td>8</td>\n",
       "      <td>2</td>\n",
       "      <td>8</td>\n",
       "      <td>2</td>\n",
       "      <td>30042019</td>\n",
       "      <td>G500</td>\n",
       "      <td>1</td>\n",
       "      <td>82</td>\n",
       "      <td>5</td>\n",
       "      <td>10</td>\n",
       "      <td>1</td>\n",
       "      <td>1.08056</td>\n",
       "    </tr>\n",
       "    <tr>\n",
       "      <th>622155</th>\n",
       "      <td>19122929</td>\n",
       "      <td>21</td>\n",
       "      <td>2</td>\n",
       "      <td>21</td>\n",
       "      <td>1</td>\n",
       "      <td>10042016</td>\n",
       "      <td>E210</td>\n",
       "      <td>1</td>\n",
       "      <td>45</td>\n",
       "      <td>9</td>\n",
       "      <td>12</td>\n",
       "      <td>3</td>\n",
       "      <td>1.76245</td>\n",
       "    </tr>\n",
       "    <tr>\n",
       "      <th>721581</th>\n",
       "      <td>10050789</td>\n",
       "      <td>8</td>\n",
       "      <td>2</td>\n",
       "      <td>8</td>\n",
       "      <td>1</td>\n",
       "      <td>18032016</td>\n",
       "      <td>F3112</td>\n",
       "      <td>1</td>\n",
       "      <td>53</td>\n",
       "      <td>9</td>\n",
       "      <td>30</td>\n",
       "      <td>40</td>\n",
       "      <td>1.02915</td>\n",
       "    </tr>\n",
       "    <tr>\n",
       "      <th>448440</th>\n",
       "      <td>224531</td>\n",
       "      <td>2</td>\n",
       "      <td>1</td>\n",
       "      <td>16</td>\n",
       "      <td>2</td>\n",
       "      <td>22092018</td>\n",
       "      <td>C8522</td>\n",
       "      <td>1</td>\n",
       "      <td>30</td>\n",
       "      <td>3</td>\n",
       "      <td>28</td>\n",
       "      <td>15</td>\n",
       "      <td>1.00000</td>\n",
       "    </tr>\n",
       "  </tbody>\n",
       "</table>\n",
       "</div>"
      ],
      "text/plain": [
       "          Norden  ProvHosp  Sexo  ProvResi  DiagEntr    FxAlta DiagPrin  \\\n",
       "286248  40689194        46     2        46         1  22122017  C50912    \n",
       "889747   5487556         8     2         8         2  30042019  G500      \n",
       "622155  19122929        21     2        21         1  10042016  E210      \n",
       "721581  10050789         8     2         8         1  18032016  F3112     \n",
       "448440    224531         2     1        16         2  22092018  C8522     \n",
       "\n",
       "        MotivoAlta  EdadAnios  EdadMes  EdadDias  DiasEstancia   Factor  \n",
       "286248           1         55        9        20             2  1.00000  \n",
       "889747           1         82        5        10             1  1.08056  \n",
       "622155           1         45        9        12             3  1.76245  \n",
       "721581           1         53        9        30            40  1.02915  \n",
       "448440           1         30        3        28            15  1.00000  "
      ]
     },
     "execution_count": 4,
     "metadata": {},
     "output_type": "execute_result"
    }
   ],
   "source": [
    "morbilidad.sample(5)"
   ]
  },
  {
   "cell_type": "code",
   "execution_count": 5,
   "id": "d83eea8a",
   "metadata": {},
   "outputs": [],
   "source": [
    "#el código de las enferemades mentales empeizan por F (hacemos una selección)\n",
    "morbilidad = morbilidad[morbilidad[\"DiagPrin\"].str.contains('^F')]\n",
    "morbilidad.DiagPrin = morbilidad.DiagPrin.str.strip()"
   ]
  },
  {
   "cell_type": "code",
   "execution_count": 6,
   "id": "7564d4c2",
   "metadata": {},
   "outputs": [],
   "source": [
    "morbilidad.drop(['Norden','EdadDias','EdadMes'],axis=1,inplace = True)"
   ]
  },
  {
   "cell_type": "code",
   "execution_count": 7,
   "id": "1294f7f9",
   "metadata": {},
   "outputs": [
    {
     "data": {
      "text/plain": [
       "array(['F0150', 'F0151', 'F0390', 'F0391', 'F04', 'F05', 'F060', 'F061',\n",
       "       'F062', 'F0630', 'F0631', 'F0632', 'F0633', 'F0634', 'F064',\n",
       "       'F068', 'F070', 'F0781', 'F0789', 'F079'], dtype=object)"
      ]
     },
     "execution_count": 7,
     "metadata": {},
     "output_type": "execute_result"
    }
   ],
   "source": [
    "morbilidad.DiagPrin.unique()[0:20] #extraer F + 2 primero dígitos para tener los tipos de enfermedasdes mentales agrupadas"
   ]
  },
  {
   "cell_type": "code",
   "execution_count": 8,
   "id": "d4ba0931",
   "metadata": {},
   "outputs": [],
   "source": [
    "morbilidad[\"code\"] = morbilidad.DiagPrin.str.extract(r'(^F..)')"
   ]
  },
  {
   "cell_type": "code",
   "execution_count": 9,
   "id": "3442cb50",
   "metadata": {},
   "outputs": [
    {
     "data": {
      "text/plain": [
       "array(['F01', 'F03', 'F04', 'F05', 'F06', 'F07', 'F09', 'F10', 'F11',\n",
       "       'F12', 'F13', 'F14', 'F15', 'F16', 'F17', 'F18', 'F19', 'F20',\n",
       "       'F21', 'F22', 'F23', 'F24', 'F25', 'F28', 'F29', 'F30', 'F31',\n",
       "       'F32', 'F33', 'F34', 'F39', 'F40', 'F41', 'F42', 'F43', 'F44',\n",
       "       'F45', 'F48', 'F50', 'F51', 'F52', 'F53', 'F55', 'F59', 'F60',\n",
       "       'F63', 'F64', 'F65', 'F66', 'F68', 'F69', 'F70', 'F71', 'F72',\n",
       "       'F73', 'F78', 'F79', 'F80', 'F81', 'F82', 'F84', 'F88', 'F89',\n",
       "       'F90', 'F91', 'F93', 'F94', 'F95', 'F98', 'F99'], dtype=object)"
      ]
     },
     "execution_count": 9,
     "metadata": {},
     "output_type": "execute_result"
    }
   ],
   "source": [
    "morbilidad.code.unique()"
   ]
  },
  {
   "cell_type": "markdown",
   "id": "23ce867b",
   "metadata": {},
   "source": [
    "## Añadimos códigos CIE (Capítulos y diagnósticos)"
   ]
  },
  {
   "cell_type": "code",
   "execution_count": 10,
   "id": "03fd717a",
   "metadata": {},
   "outputs": [],
   "source": [
    "#importamos la tabla de correspondencia entre código de diagnóstico agrupadas y nombre\n",
    "diagnos = pd.read_csv(\"../data/diagnos.csv\")"
   ]
  },
  {
   "cell_type": "code",
   "execution_count": 11,
   "id": "2043a340",
   "metadata": {},
   "outputs": [
    {
     "data": {
      "text/html": [
       "<div>\n",
       "<style scoped>\n",
       "    .dataframe tbody tr th:only-of-type {\n",
       "        vertical-align: middle;\n",
       "    }\n",
       "\n",
       "    .dataframe tbody tr th {\n",
       "        vertical-align: top;\n",
       "    }\n",
       "\n",
       "    .dataframe thead th {\n",
       "        text-align: right;\n",
       "    }\n",
       "</style>\n",
       "<table border=\"1\" class=\"dataframe\">\n",
       "  <thead>\n",
       "    <tr style=\"text-align: right;\">\n",
       "      <th></th>\n",
       "      <th>code</th>\n",
       "      <th>diag</th>\n",
       "      <th>cap</th>\n",
       "      <th>title</th>\n",
       "    </tr>\n",
       "  </thead>\n",
       "  <tbody>\n",
       "    <tr>\n",
       "      <th>56</th>\n",
       "      <td>F70</td>\n",
       "      <td>Retraso mental leve</td>\n",
       "      <td>F70-79</td>\n",
       "      <td>Retraso mental</td>\n",
       "    </tr>\n",
       "    <tr>\n",
       "      <th>11</th>\n",
       "      <td>F11</td>\n",
       "      <td>Trastornos mentales y de comportamiento debido...</td>\n",
       "      <td>F10-F19</td>\n",
       "      <td>Trastornos mentales y de comportamiento debido...</td>\n",
       "    </tr>\n",
       "    <tr>\n",
       "      <th>3</th>\n",
       "      <td>F03</td>\n",
       "      <td>Demencia sin especificar</td>\n",
       "      <td>F00-F09</td>\n",
       "      <td>Trastornos mentales orgánicos, incluidos los t...</td>\n",
       "    </tr>\n",
       "  </tbody>\n",
       "</table>\n",
       "</div>"
      ],
      "text/plain": [
       "   code                                               diag      cap  \\\n",
       "56  F70                                Retraso mental leve   F70-79   \n",
       "11  F11  Trastornos mentales y de comportamiento debido...  F10-F19   \n",
       "3   F03                           Demencia sin especificar  F00-F09   \n",
       "\n",
       "                                                title  \n",
       "56                                     Retraso mental  \n",
       "11  Trastornos mentales y de comportamiento debido...  \n",
       "3   Trastornos mentales orgánicos, incluidos los t...  "
      ]
     },
     "execution_count": 11,
     "metadata": {},
     "output_type": "execute_result"
    }
   ],
   "source": [
    "diagnos.sample(3) "
   ]
  },
  {
   "cell_type": "code",
   "execution_count": 12,
   "id": "47e16cc6",
   "metadata": {},
   "outputs": [
    {
     "data": {
      "text/plain": [
       "array(['F00', 'F01', 'F02', 'F03', 'F04', 'F05', 'F06', 'F07', 'F08',\n",
       "       'F09', 'F10', 'F11', 'F12', 'F13', 'F14', 'F15', 'F16', 'F17',\n",
       "       'F18', 'F19', 'F20', 'F21', 'F22', 'F23', 'F24', 'F25', 'F28',\n",
       "       'F29', 'F30', 'F31', 'F32', 'F33', 'F34', 'F39', 'F40', 'F41',\n",
       "       'F42', 'F43', 'F44', 'F45', 'F48', 'F50', 'F51', 'F52', 'F53',\n",
       "       'F54', 'F55', 'F59', 'F60', 'F62', 'F63', 'F64', 'F66', 'F68',\n",
       "       'F69', 'F65', 'F70', 'F71', 'F72', 'F73', 'F78', 'F79', 'F80',\n",
       "       'F81', 'F82', 'F83', 'F84', 'F88', 'F89', 'F90', 'F91', 'F92',\n",
       "       'F93', 'F94', 'F95', 'F98', 'F99'], dtype=object)"
      ]
     },
     "execution_count": 12,
     "metadata": {},
     "output_type": "execute_result"
    }
   ],
   "source": [
    "diagnos.code.unique()"
   ]
  },
  {
   "cell_type": "code",
   "execution_count": 13,
   "id": "8d9b1fe0",
   "metadata": {},
   "outputs": [],
   "source": [
    "dicc_diag = {} #crear diccionario con diagnósticos y códigos\n",
    "for i,r in diagnos.iterrows():\n",
    "    dicc_diag[r.code] = r.diag"
   ]
  },
  {
   "cell_type": "code",
   "execution_count": 14,
   "id": "3bbc347e",
   "metadata": {},
   "outputs": [],
   "source": [
    "dicc_cap = {} #crear diccionario con diagnósticos y códigos\n",
    "for i,r in diagnos.iterrows():\n",
    "    dicc_cap[r.code] = r.cap"
   ]
  },
  {
   "cell_type": "code",
   "execution_count": 15,
   "id": "25da4f05",
   "metadata": {},
   "outputs": [],
   "source": [
    "morbilidad[\"cap\"] = morbilidad.code.map(dicc_cap) #creamos nueva columnas"
   ]
  },
  {
   "cell_type": "code",
   "execution_count": 16,
   "id": "28dc7fef",
   "metadata": {},
   "outputs": [
    {
     "data": {
      "text/html": [
       "<div>\n",
       "<style scoped>\n",
       "    .dataframe tbody tr th:only-of-type {\n",
       "        vertical-align: middle;\n",
       "    }\n",
       "\n",
       "    .dataframe tbody tr th {\n",
       "        vertical-align: top;\n",
       "    }\n",
       "\n",
       "    .dataframe thead th {\n",
       "        text-align: right;\n",
       "    }\n",
       "</style>\n",
       "<table border=\"1\" class=\"dataframe\">\n",
       "  <thead>\n",
       "    <tr style=\"text-align: right;\">\n",
       "      <th></th>\n",
       "      <th>ProvHosp</th>\n",
       "      <th>Sexo</th>\n",
       "      <th>ProvResi</th>\n",
       "      <th>DiagEntr</th>\n",
       "      <th>FxAlta</th>\n",
       "      <th>DiagPrin</th>\n",
       "      <th>MotivoAlta</th>\n",
       "      <th>EdadAnios</th>\n",
       "      <th>DiasEstancia</th>\n",
       "      <th>Factor</th>\n",
       "      <th>code</th>\n",
       "      <th>cap</th>\n",
       "    </tr>\n",
       "  </thead>\n",
       "  <tbody>\n",
       "    <tr>\n",
       "      <th>696743</th>\n",
       "      <td>38</td>\n",
       "      <td>2</td>\n",
       "      <td>38</td>\n",
       "      <td>2</td>\n",
       "      <td>2102018</td>\n",
       "      <td>F1024</td>\n",
       "      <td>1</td>\n",
       "      <td>42</td>\n",
       "      <td>4</td>\n",
       "      <td>1.05877</td>\n",
       "      <td>F10</td>\n",
       "      <td>F10-F19</td>\n",
       "    </tr>\n",
       "    <tr>\n",
       "      <th>740859</th>\n",
       "      <td>10</td>\n",
       "      <td>2</td>\n",
       "      <td>10</td>\n",
       "      <td>2</td>\n",
       "      <td>21082019</td>\n",
       "      <td>F209</td>\n",
       "      <td>1</td>\n",
       "      <td>27</td>\n",
       "      <td>39</td>\n",
       "      <td>1.00000</td>\n",
       "      <td>F20</td>\n",
       "      <td>F20-29</td>\n",
       "    </tr>\n",
       "    <tr>\n",
       "      <th>685146</th>\n",
       "      <td>50</td>\n",
       "      <td>1</td>\n",
       "      <td>50</td>\n",
       "      <td>2</td>\n",
       "      <td>28032017</td>\n",
       "      <td>F0390</td>\n",
       "      <td>3</td>\n",
       "      <td>88</td>\n",
       "      <td>5</td>\n",
       "      <td>1.00000</td>\n",
       "      <td>F03</td>\n",
       "      <td>F00-F09</td>\n",
       "    </tr>\n",
       "  </tbody>\n",
       "</table>\n",
       "</div>"
      ],
      "text/plain": [
       "        ProvHosp  Sexo  ProvResi  DiagEntr    FxAlta DiagPrin  MotivoAlta  \\\n",
       "696743        38     2        38         2   2102018    F1024           1   \n",
       "740859        10     2        10         2  21082019     F209           1   \n",
       "685146        50     1        50         2  28032017    F0390           3   \n",
       "\n",
       "        EdadAnios  DiasEstancia   Factor code      cap  \n",
       "696743         42             4  1.05877  F10  F10-F19  \n",
       "740859         27            39  1.00000  F20   F20-29  \n",
       "685146         88             5  1.00000  F03  F00-F09  "
      ]
     },
     "execution_count": 16,
     "metadata": {},
     "output_type": "execute_result"
    }
   ],
   "source": [
    "morbilidad.sample(3)"
   ]
  },
  {
   "cell_type": "code",
   "execution_count": 17,
   "id": "0bb86219",
   "metadata": {},
   "outputs": [],
   "source": [
    "discapacidad = morbilidad[morbilidad[\"cap\"] == 'F70-79'].index #dropeamos el tipo de retraso mental\n",
    "morbilidad.drop(discapacidad,inplace = True)"
   ]
  },
  {
   "cell_type": "markdown",
   "id": "8219dd0e",
   "metadata": {},
   "source": [
    "## Creamos fecha de ingreso"
   ]
  },
  {
   "cell_type": "code",
   "execution_count": 18,
   "id": "26afa608",
   "metadata": {},
   "outputs": [],
   "source": [
    "#creamos fecha a través de FxAlta\n",
    "morbilidad.FxAlta = morbilidad.FxAlta.astype('string')"
   ]
  },
  {
   "cell_type": "code",
   "execution_count": 19,
   "id": "c194a3e5",
   "metadata": {},
   "outputs": [],
   "source": [
    "morbilidad['fecha_al'] = pd.to_datetime({'year': morbilidad.FxAlta.str[-4:],\n",
    "                           'month': morbilidad.FxAlta.str[-6:-4],\n",
    "                           'day': morbilidad.FxAlta.str[:-6]\n",
    "                           })"
   ]
  },
  {
   "cell_type": "code",
   "execution_count": 20,
   "id": "fd718f6c",
   "metadata": {},
   "outputs": [],
   "source": [
    "#creamos fecha ingreso restando a fecha_al el número de día ingresado (DiasEstancia)\n",
    "morbilidad['fecha_ing'] = morbilidad.apply(lambda fila: fila['fecha_al'] - datetime.timedelta(days = fila['DiasEstancia']), axis= 1)"
   ]
  },
  {
   "cell_type": "code",
   "execution_count": 21,
   "id": "318b7387",
   "metadata": {},
   "outputs": [],
   "source": [
    "morbilidad['year']=morbilidad.fecha_ing.dt.year\n",
    "morbilidad['month']=morbilidad.fecha_ing.dt.month\n",
    "morbilidad['day']=morbilidad.fecha_ing.dt.day"
   ]
  },
  {
   "cell_type": "code",
   "execution_count": 22,
   "id": "8abe63d1",
   "metadata": {},
   "outputs": [],
   "source": [
    "morbilidad.drop(['FxAlta'],axis=1,inplace = True)"
   ]
  },
  {
   "cell_type": "code",
   "execution_count": 23,
   "id": "442ca743",
   "metadata": {},
   "outputs": [],
   "source": [
    "# Cambiamos algunos datos categóricos que vienen como números "
   ]
  },
  {
   "cell_type": "code",
   "execution_count": 24,
   "id": "72aec0e2",
   "metadata": {},
   "outputs": [
    {
     "data": {
      "text/html": [
       "<div>\n",
       "<style scoped>\n",
       "    .dataframe tbody tr th:only-of-type {\n",
       "        vertical-align: middle;\n",
       "    }\n",
       "\n",
       "    .dataframe tbody tr th {\n",
       "        vertical-align: top;\n",
       "    }\n",
       "\n",
       "    .dataframe thead th {\n",
       "        text-align: right;\n",
       "    }\n",
       "</style>\n",
       "<table border=\"1\" class=\"dataframe\">\n",
       "  <thead>\n",
       "    <tr style=\"text-align: right;\">\n",
       "      <th></th>\n",
       "      <th>ProvHosp</th>\n",
       "      <th>Sexo</th>\n",
       "      <th>ProvResi</th>\n",
       "      <th>DiagEntr</th>\n",
       "      <th>DiagPrin</th>\n",
       "      <th>MotivoAlta</th>\n",
       "      <th>EdadAnios</th>\n",
       "      <th>DiasEstancia</th>\n",
       "      <th>Factor</th>\n",
       "      <th>code</th>\n",
       "      <th>cap</th>\n",
       "      <th>fecha_al</th>\n",
       "      <th>fecha_ing</th>\n",
       "      <th>year</th>\n",
       "      <th>month</th>\n",
       "      <th>day</th>\n",
       "    </tr>\n",
       "  </thead>\n",
       "  <tbody>\n",
       "    <tr>\n",
       "      <th>701251</th>\n",
       "      <td>29</td>\n",
       "      <td>2</td>\n",
       "      <td>29</td>\n",
       "      <td>1</td>\n",
       "      <td>F0390</td>\n",
       "      <td>1</td>\n",
       "      <td>92</td>\n",
       "      <td>14</td>\n",
       "      <td>1.00000</td>\n",
       "      <td>F03</td>\n",
       "      <td>F00-F09</td>\n",
       "      <td>2019-07-12</td>\n",
       "      <td>2019-06-28</td>\n",
       "      <td>2019</td>\n",
       "      <td>6</td>\n",
       "      <td>28</td>\n",
       "    </tr>\n",
       "    <tr>\n",
       "      <th>694413</th>\n",
       "      <td>8</td>\n",
       "      <td>2</td>\n",
       "      <td>8</td>\n",
       "      <td>2</td>\n",
       "      <td>F1020</td>\n",
       "      <td>1</td>\n",
       "      <td>29</td>\n",
       "      <td>5</td>\n",
       "      <td>1.02752</td>\n",
       "      <td>F10</td>\n",
       "      <td>F10-F19</td>\n",
       "      <td>2017-09-02</td>\n",
       "      <td>2017-08-28</td>\n",
       "      <td>2017</td>\n",
       "      <td>8</td>\n",
       "      <td>28</td>\n",
       "    </tr>\n",
       "    <tr>\n",
       "      <th>695858</th>\n",
       "      <td>28</td>\n",
       "      <td>2</td>\n",
       "      <td>28</td>\n",
       "      <td>1</td>\n",
       "      <td>F1020</td>\n",
       "      <td>1</td>\n",
       "      <td>35</td>\n",
       "      <td>2</td>\n",
       "      <td>1.00000</td>\n",
       "      <td>F10</td>\n",
       "      <td>F10-F19</td>\n",
       "      <td>2017-10-26</td>\n",
       "      <td>2017-10-24</td>\n",
       "      <td>2017</td>\n",
       "      <td>10</td>\n",
       "      <td>24</td>\n",
       "    </tr>\n",
       "  </tbody>\n",
       "</table>\n",
       "</div>"
      ],
      "text/plain": [
       "        ProvHosp  Sexo  ProvResi  DiagEntr DiagPrin  MotivoAlta  EdadAnios  \\\n",
       "701251        29     2        29         1    F0390           1         92   \n",
       "694413         8     2         8         2    F1020           1         29   \n",
       "695858        28     2        28         1    F1020           1         35   \n",
       "\n",
       "        DiasEstancia   Factor code      cap   fecha_al  fecha_ing  year  \\\n",
       "701251            14  1.00000  F03  F00-F09 2019-07-12 2019-06-28  2019   \n",
       "694413             5  1.02752  F10  F10-F19 2017-09-02 2017-08-28  2017   \n",
       "695858             2  1.00000  F10  F10-F19 2017-10-26 2017-10-24  2017   \n",
       "\n",
       "        month  day  \n",
       "701251      6   28  \n",
       "694413      8   28  \n",
       "695858     10   24  "
      ]
     },
     "execution_count": 24,
     "metadata": {},
     "output_type": "execute_result"
    }
   ],
   "source": [
    "morbilidad.sample(3)"
   ]
  },
  {
   "cell_type": "code",
   "execution_count": 25,
   "id": "48456836",
   "metadata": {},
   "outputs": [],
   "source": [
    "#diccionarios códigos\n",
    "dic_sexo = {1:'Hombre',2:'Mujer'}\n",
    "dic_entrada = {1:'Ordinario',2:'Urgente'}\n",
    "dic_alta = {1: \"Curación\",2:'Traslado',3:'Fallecimiento',4:'Otras'}\n",
    "num_str = {'1':'01',  '2':'02',  '3':'03',  '4':'04',  '5':'05',  '6':'06',  '7':'07',  '8':'08',  '9':'09'}"
   ]
  },
  {
   "cell_type": "code",
   "execution_count": 26,
   "id": "e6e66942",
   "metadata": {},
   "outputs": [],
   "source": [
    "morbilidad.ProvHosp = morbilidad.ProvHosp.astype('string').replace(num_str)\n",
    "morbilidad.ProvResi = morbilidad.ProvResi.astype('string').replace(num_str)"
   ]
  },
  {
   "cell_type": "code",
   "execution_count": 27,
   "id": "2f41f2ac",
   "metadata": {},
   "outputs": [],
   "source": [
    "morbilidad['Entrada'] = morbilidad.DiagEntr.map(dic_entrada)\n",
    "morbilidad['Alta'] = morbilidad.MotivoAlta.map(dic_alta)\n",
    "morbilidad['SexNom'] = morbilidad.Sexo.map(dic_sexo)"
   ]
  },
  {
   "cell_type": "code",
   "execution_count": 28,
   "id": "79edb16e",
   "metadata": {},
   "outputs": [],
   "source": [
    "#preparar provincias para geojsaon (nombre)"
   ]
  },
  {
   "cell_type": "code",
   "execution_count": 29,
   "id": "132c5445",
   "metadata": {},
   "outputs": [],
   "source": [
    "#diccionario\n",
    "geo_json = r\"../data/socioecon/spain_provinces.geojson\"\n",
    "with open (geo_json) as geo_file:\n",
    "    provincias = json.load(geo_file)\n",
    "\n",
    "cod_prov = {}\n",
    "for i in range(52):    \n",
    "    cod_prov[provincias['features'][i]['properties']['cod_prov']] = provincias['features'][i]['properties']['name']"
   ]
  },
  {
   "cell_type": "code",
   "execution_count": 30,
   "id": "b59e664e",
   "metadata": {},
   "outputs": [],
   "source": [
    "morbilidad['ProvHosp_nom'] = morbilidad.ProvHosp.map(cod_prov)\n",
    "morbilidad['ProvResi_nom'] = morbilidad.ProvResi.map(cod_prov)"
   ]
  },
  {
   "cell_type": "code",
   "execution_count": 31,
   "id": "eed0e2b1",
   "metadata": {},
   "outputs": [],
   "source": [
    "#prov resi 53 = extranjeros\n",
    "morbilidad.ProvResi_nom.fillna('Extranjeros',inplace = True)"
   ]
  },
  {
   "cell_type": "code",
   "execution_count": 32,
   "id": "b1d879f4",
   "metadata": {},
   "outputs": [
    {
     "data": {
      "text/plain": [
       "ProvHosp        0\n",
       "Sexo            0\n",
       "ProvResi        0\n",
       "DiagEntr        0\n",
       "DiagPrin        0\n",
       "MotivoAlta      0\n",
       "EdadAnios       0\n",
       "DiasEstancia    0\n",
       "Factor          0\n",
       "code            0\n",
       "cap             0\n",
       "fecha_al        0\n",
       "fecha_ing       0\n",
       "year            0\n",
       "month           0\n",
       "day             0\n",
       "Entrada         0\n",
       "Alta            0\n",
       "SexNom          0\n",
       "ProvHosp_nom    0\n",
       "ProvResi_nom    0\n",
       "dtype: int64"
      ]
     },
     "execution_count": 32,
     "metadata": {},
     "output_type": "execute_result"
    }
   ],
   "source": [
    "morbilidad.isna().sum()"
   ]
  },
  {
   "cell_type": "code",
   "execution_count": 33,
   "id": "d84b9d67",
   "metadata": {},
   "outputs": [
    {
     "data": {
      "text/plain": [
       "Index(['ProvHosp', 'Sexo', 'ProvResi', 'DiagEntr', 'DiagPrin', 'MotivoAlta',\n",
       "       'EdadAnios', 'DiasEstancia', 'Factor', 'code', 'cap', 'fecha_al',\n",
       "       'fecha_ing', 'year', 'month', 'day', 'Entrada', 'Alta', 'SexNom',\n",
       "       'ProvHosp_nom', 'ProvResi_nom'],\n",
       "      dtype='object')"
      ]
     },
     "execution_count": 33,
     "metadata": {},
     "output_type": "execute_result"
    }
   ],
   "source": [
    "morbilidad.columns"
   ]
  },
  {
   "cell_type": "code",
   "execution_count": 34,
   "id": "2197824b",
   "metadata": {},
   "outputs": [],
   "source": [
    "morbilidad.rename({'EdadAnios':'Edad','DiasEstancia':'Dias'},axis=1,inplace = True)"
   ]
  },
  {
   "cell_type": "code",
   "execution_count": 35,
   "id": "d58af659",
   "metadata": {},
   "outputs": [
    {
     "data": {
      "text/html": [
       "<div>\n",
       "<style scoped>\n",
       "    .dataframe tbody tr th:only-of-type {\n",
       "        vertical-align: middle;\n",
       "    }\n",
       "\n",
       "    .dataframe tbody tr th {\n",
       "        vertical-align: top;\n",
       "    }\n",
       "\n",
       "    .dataframe thead th {\n",
       "        text-align: right;\n",
       "    }\n",
       "</style>\n",
       "<table border=\"1\" class=\"dataframe\">\n",
       "  <thead>\n",
       "    <tr style=\"text-align: right;\">\n",
       "      <th></th>\n",
       "      <th>ProvHosp</th>\n",
       "      <th>Sexo</th>\n",
       "      <th>ProvResi</th>\n",
       "      <th>DiagEntr</th>\n",
       "      <th>DiagPrin</th>\n",
       "      <th>MotivoAlta</th>\n",
       "      <th>Edad</th>\n",
       "      <th>Dias</th>\n",
       "      <th>Factor</th>\n",
       "      <th>code</th>\n",
       "      <th>...</th>\n",
       "      <th>fecha_al</th>\n",
       "      <th>fecha_ing</th>\n",
       "      <th>year</th>\n",
       "      <th>month</th>\n",
       "      <th>day</th>\n",
       "      <th>Entrada</th>\n",
       "      <th>Alta</th>\n",
       "      <th>SexNom</th>\n",
       "      <th>ProvHosp_nom</th>\n",
       "      <th>ProvResi_nom</th>\n",
       "    </tr>\n",
       "  </thead>\n",
       "  <tbody>\n",
       "    <tr>\n",
       "      <th>753175</th>\n",
       "      <td>08</td>\n",
       "      <td>2</td>\n",
       "      <td>08</td>\n",
       "      <td>1</td>\n",
       "      <td>F5000</td>\n",
       "      <td>1</td>\n",
       "      <td>17</td>\n",
       "      <td>327</td>\n",
       "      <td>1.02915</td>\n",
       "      <td>F50</td>\n",
       "      <td>...</td>\n",
       "      <td>2016-03-09</td>\n",
       "      <td>2015-04-17</td>\n",
       "      <td>2015</td>\n",
       "      <td>4</td>\n",
       "      <td>17</td>\n",
       "      <td>Ordinario</td>\n",
       "      <td>Curación</td>\n",
       "      <td>Mujer</td>\n",
       "      <td>Barcelona</td>\n",
       "      <td>Barcelona</td>\n",
       "    </tr>\n",
       "    <tr>\n",
       "      <th>753868</th>\n",
       "      <td>29</td>\n",
       "      <td>1</td>\n",
       "      <td>11</td>\n",
       "      <td>1</td>\n",
       "      <td>F259</td>\n",
       "      <td>1</td>\n",
       "      <td>32</td>\n",
       "      <td>67</td>\n",
       "      <td>1.00000</td>\n",
       "      <td>F25</td>\n",
       "      <td>...</td>\n",
       "      <td>2019-09-13</td>\n",
       "      <td>2019-07-08</td>\n",
       "      <td>2019</td>\n",
       "      <td>7</td>\n",
       "      <td>8</td>\n",
       "      <td>Ordinario</td>\n",
       "      <td>Curación</td>\n",
       "      <td>Hombre</td>\n",
       "      <td>Málaga</td>\n",
       "      <td>Cádiz</td>\n",
       "    </tr>\n",
       "    <tr>\n",
       "      <th>750031</th>\n",
       "      <td>08</td>\n",
       "      <td>2</td>\n",
       "      <td>08</td>\n",
       "      <td>1</td>\n",
       "      <td>F4325</td>\n",
       "      <td>2</td>\n",
       "      <td>16</td>\n",
       "      <td>50</td>\n",
       "      <td>1.02915</td>\n",
       "      <td>F43</td>\n",
       "      <td>...</td>\n",
       "      <td>2016-08-24</td>\n",
       "      <td>2016-07-05</td>\n",
       "      <td>2016</td>\n",
       "      <td>7</td>\n",
       "      <td>5</td>\n",
       "      <td>Ordinario</td>\n",
       "      <td>Traslado</td>\n",
       "      <td>Mujer</td>\n",
       "      <td>Barcelona</td>\n",
       "      <td>Barcelona</td>\n",
       "    </tr>\n",
       "  </tbody>\n",
       "</table>\n",
       "<p>3 rows × 21 columns</p>\n",
       "</div>"
      ],
      "text/plain": [
       "       ProvHosp  Sexo ProvResi  DiagEntr DiagPrin  MotivoAlta  Edad  Dias  \\\n",
       "753175       08     2       08         1    F5000           1    17   327   \n",
       "753868       29     1       11         1     F259           1    32    67   \n",
       "750031       08     2       08         1    F4325           2    16    50   \n",
       "\n",
       "         Factor code  ...   fecha_al  fecha_ing  year  month  day    Entrada  \\\n",
       "753175  1.02915  F50  ... 2016-03-09 2015-04-17  2015      4   17  Ordinario   \n",
       "753868  1.00000  F25  ... 2019-09-13 2019-07-08  2019      7    8  Ordinario   \n",
       "750031  1.02915  F43  ... 2016-08-24 2016-07-05  2016      7    5  Ordinario   \n",
       "\n",
       "            Alta  SexNom ProvHosp_nom ProvResi_nom  \n",
       "753175  Curación   Mujer    Barcelona    Barcelona  \n",
       "753868  Curación  Hombre       Málaga        Cádiz  \n",
       "750031  Traslado   Mujer    Barcelona    Barcelona  \n",
       "\n",
       "[3 rows x 21 columns]"
      ]
     },
     "execution_count": 35,
     "metadata": {},
     "output_type": "execute_result"
    }
   ],
   "source": [
    "morbilidad.sample(3)"
   ]
  },
  {
   "cell_type": "code",
   "execution_count": 36,
   "id": "d95489db",
   "metadata": {},
   "outputs": [],
   "source": [
    "morbilidad.to_csv('../data/morbilidad_Fgen.csv',index=False)"
   ]
  },
  {
   "cell_type": "code",
   "execution_count": 63,
   "id": "ae826167",
   "metadata": {},
   "outputs": [],
   "source": [
    "dicc_poly = {pf['properties']['name']:pf['geometry'] for pf in provincias['features']}"
   ]
  },
  {
   "cell_type": "code",
   "execution_count": 64,
   "id": "50c13adc",
   "metadata": {},
   "outputs": [],
   "source": [
    "morbilidad['geometry'] = morbilidad.ProvHosp_nom.map(dicc_poly)"
   ]
  },
  {
   "cell_type": "code",
   "execution_count": 65,
   "id": "6eec1089",
   "metadata": {},
   "outputs": [
    {
     "data": {
      "text/html": [
       "<div>\n",
       "<style scoped>\n",
       "    .dataframe tbody tr th:only-of-type {\n",
       "        vertical-align: middle;\n",
       "    }\n",
       "\n",
       "    .dataframe tbody tr th {\n",
       "        vertical-align: top;\n",
       "    }\n",
       "\n",
       "    .dataframe thead th {\n",
       "        text-align: right;\n",
       "    }\n",
       "</style>\n",
       "<table border=\"1\" class=\"dataframe\">\n",
       "  <thead>\n",
       "    <tr style=\"text-align: right;\">\n",
       "      <th></th>\n",
       "      <th>ProvHosp</th>\n",
       "      <th>Sexo</th>\n",
       "      <th>ProvResi</th>\n",
       "      <th>DiagEntr</th>\n",
       "      <th>DiagPrin</th>\n",
       "      <th>MotivoAlta</th>\n",
       "      <th>Edad</th>\n",
       "      <th>Dias</th>\n",
       "      <th>Factor</th>\n",
       "      <th>code</th>\n",
       "      <th>...</th>\n",
       "      <th>fecha_ing</th>\n",
       "      <th>year</th>\n",
       "      <th>month</th>\n",
       "      <th>day</th>\n",
       "      <th>Entrada</th>\n",
       "      <th>Alta</th>\n",
       "      <th>SexNom</th>\n",
       "      <th>ProvHosp_nom</th>\n",
       "      <th>ProvResi_nom</th>\n",
       "      <th>geometry</th>\n",
       "    </tr>\n",
       "  </thead>\n",
       "  <tbody>\n",
       "    <tr>\n",
       "      <th>742884</th>\n",
       "      <td>46</td>\n",
       "      <td>1</td>\n",
       "      <td>46</td>\n",
       "      <td>2</td>\n",
       "      <td>F3110</td>\n",
       "      <td>4</td>\n",
       "      <td>42</td>\n",
       "      <td>18</td>\n",
       "      <td>1.00000</td>\n",
       "      <td>F31</td>\n",
       "      <td>...</td>\n",
       "      <td>2018-10-27</td>\n",
       "      <td>2018</td>\n",
       "      <td>10</td>\n",
       "      <td>27</td>\n",
       "      <td>Urgente</td>\n",
       "      <td>Otras</td>\n",
       "      <td>Hombre</td>\n",
       "      <td>Valencia</td>\n",
       "      <td>Valencia</td>\n",
       "      <td>{'type': 'MultiPolygon', 'coordinates': [[[[-0...</td>\n",
       "    </tr>\n",
       "    <tr>\n",
       "      <th>722785</th>\n",
       "      <td>28</td>\n",
       "      <td>1</td>\n",
       "      <td>28</td>\n",
       "      <td>2</td>\n",
       "      <td>F1420</td>\n",
       "      <td>4</td>\n",
       "      <td>50</td>\n",
       "      <td>38</td>\n",
       "      <td>1.02096</td>\n",
       "      <td>F14</td>\n",
       "      <td>...</td>\n",
       "      <td>2019-10-15</td>\n",
       "      <td>2019</td>\n",
       "      <td>10</td>\n",
       "      <td>15</td>\n",
       "      <td>Urgente</td>\n",
       "      <td>Otras</td>\n",
       "      <td>Hombre</td>\n",
       "      <td>Madrid</td>\n",
       "      <td>Madrid</td>\n",
       "      <td>{'type': 'MultiPolygon', 'coordinates': [[[[-3...</td>\n",
       "    </tr>\n",
       "    <tr>\n",
       "      <th>767044</th>\n",
       "      <td>52</td>\n",
       "      <td>1</td>\n",
       "      <td>52</td>\n",
       "      <td>2</td>\n",
       "      <td>F918</td>\n",
       "      <td>1</td>\n",
       "      <td>25</td>\n",
       "      <td>7</td>\n",
       "      <td>1.13292</td>\n",
       "      <td>F91</td>\n",
       "      <td>...</td>\n",
       "      <td>2016-02-24</td>\n",
       "      <td>2016</td>\n",
       "      <td>2</td>\n",
       "      <td>24</td>\n",
       "      <td>Urgente</td>\n",
       "      <td>Curación</td>\n",
       "      <td>Hombre</td>\n",
       "      <td>Melilla</td>\n",
       "      <td>Melilla</td>\n",
       "      <td>{'type': 'MultiPolygon', 'coordinates': [[[[-2...</td>\n",
       "    </tr>\n",
       "  </tbody>\n",
       "</table>\n",
       "<p>3 rows × 22 columns</p>\n",
       "</div>"
      ],
      "text/plain": [
       "       ProvHosp  Sexo ProvResi  DiagEntr DiagPrin  MotivoAlta  Edad  Dias  \\\n",
       "742884       46     1       46         2    F3110           4    42    18   \n",
       "722785       28     1       28         2    F1420           4    50    38   \n",
       "767044       52     1       52         2     F918           1    25     7   \n",
       "\n",
       "         Factor code  ...  fecha_ing  year month  day  Entrada      Alta  \\\n",
       "742884  1.00000  F31  ... 2018-10-27  2018    10   27  Urgente     Otras   \n",
       "722785  1.02096  F14  ... 2019-10-15  2019    10   15  Urgente     Otras   \n",
       "767044  1.13292  F91  ... 2016-02-24  2016     2   24  Urgente  Curación   \n",
       "\n",
       "        SexNom ProvHosp_nom ProvResi_nom  \\\n",
       "742884  Hombre     Valencia     Valencia   \n",
       "722785  Hombre       Madrid       Madrid   \n",
       "767044  Hombre      Melilla      Melilla   \n",
       "\n",
       "                                                 geometry  \n",
       "742884  {'type': 'MultiPolygon', 'coordinates': [[[[-0...  \n",
       "722785  {'type': 'MultiPolygon', 'coordinates': [[[[-3...  \n",
       "767044  {'type': 'MultiPolygon', 'coordinates': [[[[-2...  \n",
       "\n",
       "[3 rows x 22 columns]"
      ]
     },
     "execution_count": 65,
     "metadata": {},
     "output_type": "execute_result"
    }
   ],
   "source": [
    "morbilidad.sample(3)"
   ]
  },
  {
   "cell_type": "code",
   "execution_count": null,
   "id": "b2817178",
   "metadata": {},
   "outputs": [],
   "source": [
    "def data2geojson(df):\n",
    "    features = []\n",
    "    insert_features = lambda X: features.append(\n",
    "            geojson.Feature(geometry=geojson.Point((X[\"long\"],\n",
    "                                                    X[\"lat\"],\n",
    "                                                    X[\"elev\"])),\n",
    "                            properties=dict(name=X[\"name\"],\n",
    "                                            description=X[\"description\"])))\n",
    "    df.apply(insert_features, axis=1)\n",
    "    with open('map1.geojson', 'w', encoding='utf8') as fp:\n",
    "        geojson.dump(geojson.FeatureCollection(features), fp, sort_keys=True, ensure_ascii=False)"
   ]
  }
 ],
 "metadata": {
  "kernelspec": {
   "display_name": "ironhack",
   "language": "python",
   "name": "ironhack"
  },
  "language_info": {
   "codemirror_mode": {
    "name": "ipython",
    "version": 3
   },
   "file_extension": ".py",
   "mimetype": "text/x-python",
   "name": "python",
   "nbconvert_exporter": "python",
   "pygments_lexer": "ipython3",
   "version": "3.8.5"
  }
 },
 "nbformat": 4,
 "nbformat_minor": 5
}
