{
 "cells": [
  {
   "cell_type": "markdown",
   "id": "e77e8f33",
   "metadata": {},
   "source": [
    "# Morbilidad Hospitalaria España 2016-2019\n",
    "## Creación dataframe para visualización\n",
    "\n",
    "[Datos INE](https://www.ine.es/dyngs/INEbase/es/operacion.htm?c=Estadistica_C&cid=1254736176778&menu=resultados&secc=1254736195291&idp=1254735573175#!tabs-1254736195291)"
   ]
  },
  {
   "cell_type": "code",
   "execution_count": 1,
   "id": "20c08b42",
   "metadata": {},
   "outputs": [],
   "source": [
    "import pandas as pd\n",
    "import datetime\n",
    "import json\n",
    "from shapely.geometry import shape\n",
    "import geopandas as gpd\n",
    "import geojson"
   ]
  },
  {
   "cell_type": "code",
   "execution_count": 2,
   "id": "37d60af0",
   "metadata": {},
   "outputs": [],
   "source": [
    "#tenemos 4 dataframes por años desde 2016 a 2019\n",
    "morbi16 = pd.read_csv('../data/morbilidad/EMH_2016_G01.csv',sep='\\t')\n",
    "morbi17 = pd.read_csv('../data/morbilidad/EMH_2017_G01.csv',sep='\\t')\n",
    "morbi18 = pd.read_csv('../data/morbilidad/EMH_2018_G01.csv',sep='\\t')\n",
    "morbi19 = pd.read_csv('../data/morbilidad/EMH_2019_G01.csv',sep='\\t')"
   ]
  },
  {
   "cell_type": "code",
   "execution_count": 3,
   "id": "750d4c8b",
   "metadata": {},
   "outputs": [],
   "source": [
    "morbilidad = pd.concat([morbi16,morbi17,morbi18,morbi19])"
   ]
  },
  {
   "cell_type": "code",
   "execution_count": 4,
   "id": "2c5e6659",
   "metadata": {},
   "outputs": [
    {
     "data": {
      "text/html": [
       "<div>\n",
       "<style scoped>\n",
       "    .dataframe tbody tr th:only-of-type {\n",
       "        vertical-align: middle;\n",
       "    }\n",
       "\n",
       "    .dataframe tbody tr th {\n",
       "        vertical-align: top;\n",
       "    }\n",
       "\n",
       "    .dataframe thead th {\n",
       "        text-align: right;\n",
       "    }\n",
       "</style>\n",
       "<table border=\"1\" class=\"dataframe\">\n",
       "  <thead>\n",
       "    <tr style=\"text-align: right;\">\n",
       "      <th></th>\n",
       "      <th>Norden</th>\n",
       "      <th>ProvHosp</th>\n",
       "      <th>Sexo</th>\n",
       "      <th>ProvResi</th>\n",
       "      <th>DiagEntr</th>\n",
       "      <th>FxAlta</th>\n",
       "      <th>DiagPrin</th>\n",
       "      <th>MotivoAlta</th>\n",
       "      <th>EdadAnios</th>\n",
       "      <th>EdadMes</th>\n",
       "      <th>EdadDias</th>\n",
       "      <th>DiasEstancia</th>\n",
       "      <th>Factor</th>\n",
       "    </tr>\n",
       "  </thead>\n",
       "  <tbody>\n",
       "    <tr>\n",
       "      <th>279578</th>\n",
       "      <td>39520568</td>\n",
       "      <td>44</td>\n",
       "      <td>2</td>\n",
       "      <td>50</td>\n",
       "      <td>1</td>\n",
       "      <td>1032018</td>\n",
       "      <td>C50911</td>\n",
       "      <td>1</td>\n",
       "      <td>49</td>\n",
       "      <td>8</td>\n",
       "      <td>4</td>\n",
       "      <td>10</td>\n",
       "      <td>1.0</td>\n",
       "    </tr>\n",
       "    <tr>\n",
       "      <th>451457</th>\n",
       "      <td>34958209</td>\n",
       "      <td>36</td>\n",
       "      <td>2</td>\n",
       "      <td>36</td>\n",
       "      <td>1</td>\n",
       "      <td>24072016</td>\n",
       "      <td>D0511</td>\n",
       "      <td>1</td>\n",
       "      <td>66</td>\n",
       "      <td>8</td>\n",
       "      <td>23</td>\n",
       "      <td>3</td>\n",
       "      <td>1.0</td>\n",
       "    </tr>\n",
       "    <tr>\n",
       "      <th>259037</th>\n",
       "      <td>14342823</td>\n",
       "      <td>13</td>\n",
       "      <td>2</td>\n",
       "      <td>13</td>\n",
       "      <td>1</td>\n",
       "      <td>19082016</td>\n",
       "      <td>C50412</td>\n",
       "      <td>1</td>\n",
       "      <td>79</td>\n",
       "      <td>4</td>\n",
       "      <td>27</td>\n",
       "      <td>3</td>\n",
       "      <td>1.0</td>\n",
       "    </tr>\n",
       "    <tr>\n",
       "      <th>459950</th>\n",
       "      <td>19288210</td>\n",
       "      <td>23</td>\n",
       "      <td>2</td>\n",
       "      <td>23</td>\n",
       "      <td>2</td>\n",
       "      <td>3022017</td>\n",
       "      <td>C9101</td>\n",
       "      <td>1</td>\n",
       "      <td>19</td>\n",
       "      <td>1</td>\n",
       "      <td>29</td>\n",
       "      <td>30</td>\n",
       "      <td>1.0</td>\n",
       "    </tr>\n",
       "    <tr>\n",
       "      <th>14177</th>\n",
       "      <td>39730498</td>\n",
       "      <td>45</td>\n",
       "      <td>1</td>\n",
       "      <td>45</td>\n",
       "      <td>2</td>\n",
       "      <td>24032017</td>\n",
       "      <td>A080</td>\n",
       "      <td>1</td>\n",
       "      <td>0</td>\n",
       "      <td>1</td>\n",
       "      <td>18</td>\n",
       "      <td>5</td>\n",
       "      <td>1.0</td>\n",
       "    </tr>\n",
       "  </tbody>\n",
       "</table>\n",
       "</div>"
      ],
      "text/plain": [
       "          Norden  ProvHosp  Sexo  ProvResi  DiagEntr    FxAlta DiagPrin  \\\n",
       "279578  39520568        44     2        50         1   1032018  C50911    \n",
       "451457  34958209        36     2        36         1  24072016  D0511     \n",
       "259037  14342823        13     2        13         1  19082016  C50412    \n",
       "459950  19288210        23     2        23         2   3022017  C9101     \n",
       "14177   39730498        45     1        45         2  24032017  A080      \n",
       "\n",
       "        MotivoAlta  EdadAnios  EdadMes  EdadDias  DiasEstancia  Factor  \n",
       "279578           1         49        8         4            10     1.0  \n",
       "451457           1         66        8        23             3     1.0  \n",
       "259037           1         79        4        27             3     1.0  \n",
       "459950           1         19        1        29            30     1.0  \n",
       "14177            1          0        1        18             5     1.0  "
      ]
     },
     "execution_count": 4,
     "metadata": {},
     "output_type": "execute_result"
    }
   ],
   "source": [
    "morbilidad.sample(5)"
   ]
  },
  {
   "cell_type": "code",
   "execution_count": 5,
   "id": "d83eea8a",
   "metadata": {},
   "outputs": [],
   "source": [
    "#el código de las enferemades mentales empeizan por F (hacemos una selección)\n",
    "morbilidad = morbilidad[morbilidad[\"DiagPrin\"].str.contains('^F')]\n",
    "morbilidad.DiagPrin = morbilidad.DiagPrin.str.strip()"
   ]
  },
  {
   "cell_type": "code",
   "execution_count": 6,
   "id": "7564d4c2",
   "metadata": {},
   "outputs": [],
   "source": [
    "morbilidad.drop(['Norden','EdadDias','EdadMes'],axis=1,inplace = True)"
   ]
  },
  {
   "cell_type": "code",
   "execution_count": 7,
   "id": "1294f7f9",
   "metadata": {},
   "outputs": [
    {
     "data": {
      "text/plain": [
       "array(['F0150', 'F0151', 'F0390', 'F0391', 'F04', 'F05', 'F060', 'F061',\n",
       "       'F062', 'F0630', 'F0631', 'F0632', 'F0633', 'F0634', 'F064',\n",
       "       'F068', 'F070', 'F0781', 'F0789', 'F079'], dtype=object)"
      ]
     },
     "execution_count": 7,
     "metadata": {},
     "output_type": "execute_result"
    }
   ],
   "source": [
    "morbilidad.DiagPrin.unique()[0:20] #extraer F + 2 primero dígitos para tener los tipos de enfermedasdes mentales agrupadas"
   ]
  },
  {
   "cell_type": "code",
   "execution_count": 8,
   "id": "d4ba0931",
   "metadata": {},
   "outputs": [],
   "source": [
    "morbilidad[\"code\"] = morbilidad.DiagPrin.str.extract(r'(^F..)')"
   ]
  },
  {
   "cell_type": "code",
   "execution_count": 9,
   "id": "3442cb50",
   "metadata": {},
   "outputs": [
    {
     "data": {
      "text/plain": [
       "array(['F01', 'F03', 'F04', 'F05', 'F06', 'F07', 'F09', 'F10', 'F11',\n",
       "       'F12', 'F13', 'F14', 'F15', 'F16', 'F17', 'F18', 'F19', 'F20',\n",
       "       'F21', 'F22', 'F23', 'F24', 'F25', 'F28', 'F29', 'F30', 'F31',\n",
       "       'F32', 'F33', 'F34', 'F39', 'F40', 'F41', 'F42', 'F43', 'F44',\n",
       "       'F45', 'F48', 'F50', 'F51', 'F52', 'F53', 'F55', 'F59', 'F60',\n",
       "       'F63', 'F64', 'F65', 'F66', 'F68', 'F69', 'F70', 'F71', 'F72',\n",
       "       'F73', 'F78', 'F79', 'F80', 'F81', 'F82', 'F84', 'F88', 'F89',\n",
       "       'F90', 'F91', 'F93', 'F94', 'F95', 'F98', 'F99'], dtype=object)"
      ]
     },
     "execution_count": 9,
     "metadata": {},
     "output_type": "execute_result"
    }
   ],
   "source": [
    "morbilidad.code.unique()"
   ]
  },
  {
   "cell_type": "markdown",
   "id": "23ce867b",
   "metadata": {},
   "source": [
    "## Añadimos códigos CIE (Capítulos y diagnósticos)"
   ]
  },
  {
   "cell_type": "code",
   "execution_count": 10,
   "id": "03fd717a",
   "metadata": {},
   "outputs": [],
   "source": [
    "#importamos la tabla de correspondencia entre código de diagnóstico agrupadas y nombre\n",
    "diagnos = pd.read_csv(\"../data/diagnos.csv\")"
   ]
  },
  {
   "cell_type": "code",
   "execution_count": 11,
   "id": "2043a340",
   "metadata": {},
   "outputs": [
    {
     "data": {
      "text/html": [
       "<div>\n",
       "<style scoped>\n",
       "    .dataframe tbody tr th:only-of-type {\n",
       "        vertical-align: middle;\n",
       "    }\n",
       "\n",
       "    .dataframe tbody tr th {\n",
       "        vertical-align: top;\n",
       "    }\n",
       "\n",
       "    .dataframe thead th {\n",
       "        text-align: right;\n",
       "    }\n",
       "</style>\n",
       "<table border=\"1\" class=\"dataframe\">\n",
       "  <thead>\n",
       "    <tr style=\"text-align: right;\">\n",
       "      <th></th>\n",
       "      <th>code</th>\n",
       "      <th>diag</th>\n",
       "      <th>cap</th>\n",
       "      <th>title</th>\n",
       "      <th>resumen_cap</th>\n",
       "    </tr>\n",
       "  </thead>\n",
       "  <tbody>\n",
       "    <tr>\n",
       "      <th>51</th>\n",
       "      <td>F64</td>\n",
       "      <td>Trastornos de identidad de género</td>\n",
       "      <td>F60-69</td>\n",
       "      <td>Trastornos de la personalidad y del comportami...</td>\n",
       "      <td>T. de la personalidad/comportamiento</td>\n",
       "    </tr>\n",
       "    <tr>\n",
       "      <th>10</th>\n",
       "      <td>F10</td>\n",
       "      <td>Trastornos mentales y de comportamiento debido...</td>\n",
       "      <td>F10-F19</td>\n",
       "      <td>Trastornos mentales y de comportamiento debido...</td>\n",
       "      <td>consumo psicotrópicos</td>\n",
       "    </tr>\n",
       "    <tr>\n",
       "      <th>75</th>\n",
       "      <td>F98</td>\n",
       "      <td>Otros trastornos emocionales y de comportamien...</td>\n",
       "      <td>F90-F98</td>\n",
       "      <td>Trastornos emocionales y del comportamiento qu...</td>\n",
       "      <td>aparecen en niñez</td>\n",
       "    </tr>\n",
       "  </tbody>\n",
       "</table>\n",
       "</div>"
      ],
      "text/plain": [
       "   code                                               diag      cap  \\\n",
       "51  F64                  Trastornos de identidad de género   F60-69   \n",
       "10  F10  Trastornos mentales y de comportamiento debido...  F10-F19   \n",
       "75  F98  Otros trastornos emocionales y de comportamien...  F90-F98   \n",
       "\n",
       "                                                title  \\\n",
       "51  Trastornos de la personalidad y del comportami...   \n",
       "10  Trastornos mentales y de comportamiento debido...   \n",
       "75  Trastornos emocionales y del comportamiento qu...   \n",
       "\n",
       "                             resumen_cap  \n",
       "51  T. de la personalidad/comportamiento  \n",
       "10                 consumo psicotrópicos  \n",
       "75                     aparecen en niñez  "
      ]
     },
     "execution_count": 11,
     "metadata": {},
     "output_type": "execute_result"
    }
   ],
   "source": [
    "diagnos.sample(3) "
   ]
  },
  {
   "cell_type": "code",
   "execution_count": 12,
   "id": "47e16cc6",
   "metadata": {},
   "outputs": [
    {
     "data": {
      "text/plain": [
       "array(['F00', 'F01', 'F02', 'F03', 'F04', 'F05', 'F06', 'F07', 'F08',\n",
       "       'F09', 'F10', 'F11', 'F12', 'F13', 'F14', 'F15', 'F16', 'F17',\n",
       "       'F18', 'F19', 'F20', 'F21', 'F22', 'F23', 'F24', 'F25', 'F28',\n",
       "       'F29', 'F30', 'F31', 'F32', 'F33', 'F34', 'F39', 'F40', 'F41',\n",
       "       'F42', 'F43', 'F44', 'F45', 'F48', 'F50', 'F51', 'F52', 'F53',\n",
       "       'F54', 'F55', 'F59', 'F60', 'F62', 'F63', 'F64', 'F66', 'F68',\n",
       "       'F69', 'F65', 'F70', 'F71', 'F72', 'F73', 'F78', 'F79', 'F80',\n",
       "       'F81', 'F82', 'F83', 'F84', 'F88', 'F89', 'F90', 'F91', 'F92',\n",
       "       'F93', 'F94', 'F95', 'F98', 'F99'], dtype=object)"
      ]
     },
     "execution_count": 12,
     "metadata": {},
     "output_type": "execute_result"
    }
   ],
   "source": [
    "diagnos.code.unique()"
   ]
  },
  {
   "cell_type": "code",
   "execution_count": 13,
   "id": "8d9b1fe0",
   "metadata": {},
   "outputs": [],
   "source": [
    "dicc_diag = {} #crear diccionario con diagnósticos y códigos\n",
    "for i,r in diagnos.iterrows():\n",
    "    dicc_diag[r.code] = r.diag"
   ]
  },
  {
   "cell_type": "code",
   "execution_count": 14,
   "id": "3bbc347e",
   "metadata": {},
   "outputs": [],
   "source": [
    "dicc_cap = {} #crear diccionario con diagnósticos y códigos\n",
    "for i,r in diagnos.iterrows():\n",
    "    dicc_cap[r.code] = r.cap"
   ]
  },
  {
   "cell_type": "code",
   "execution_count": 15,
   "id": "25da4f05",
   "metadata": {},
   "outputs": [],
   "source": [
    "morbilidad[\"cap\"] = morbilidad.code.map(dicc_cap) #creamos nueva columnas"
   ]
  },
  {
   "cell_type": "code",
   "execution_count": 16,
   "id": "28dc7fef",
   "metadata": {},
   "outputs": [
    {
     "data": {
      "text/html": [
       "<div>\n",
       "<style scoped>\n",
       "    .dataframe tbody tr th:only-of-type {\n",
       "        vertical-align: middle;\n",
       "    }\n",
       "\n",
       "    .dataframe tbody tr th {\n",
       "        vertical-align: top;\n",
       "    }\n",
       "\n",
       "    .dataframe thead th {\n",
       "        text-align: right;\n",
       "    }\n",
       "</style>\n",
       "<table border=\"1\" class=\"dataframe\">\n",
       "  <thead>\n",
       "    <tr style=\"text-align: right;\">\n",
       "      <th></th>\n",
       "      <th>ProvHosp</th>\n",
       "      <th>Sexo</th>\n",
       "      <th>ProvResi</th>\n",
       "      <th>DiagEntr</th>\n",
       "      <th>FxAlta</th>\n",
       "      <th>DiagPrin</th>\n",
       "      <th>MotivoAlta</th>\n",
       "      <th>EdadAnios</th>\n",
       "      <th>DiasEstancia</th>\n",
       "      <th>Factor</th>\n",
       "      <th>code</th>\n",
       "      <th>cap</th>\n",
       "    </tr>\n",
       "  </thead>\n",
       "  <tbody>\n",
       "    <tr>\n",
       "      <th>752236</th>\n",
       "      <td>48</td>\n",
       "      <td>1</td>\n",
       "      <td>48</td>\n",
       "      <td>2</td>\n",
       "      <td>25052018</td>\n",
       "      <td>F321</td>\n",
       "      <td>1</td>\n",
       "      <td>50</td>\n",
       "      <td>14</td>\n",
       "      <td>1.00000</td>\n",
       "      <td>F32</td>\n",
       "      <td>F30-39</td>\n",
       "    </tr>\n",
       "    <tr>\n",
       "      <th>769613</th>\n",
       "      <td>2</td>\n",
       "      <td>2</td>\n",
       "      <td>2</td>\n",
       "      <td>2</td>\n",
       "      <td>15092017</td>\n",
       "      <td>F418</td>\n",
       "      <td>1</td>\n",
       "      <td>35</td>\n",
       "      <td>3</td>\n",
       "      <td>1.00000</td>\n",
       "      <td>F41</td>\n",
       "      <td>F40-49</td>\n",
       "    </tr>\n",
       "    <tr>\n",
       "      <th>740683</th>\n",
       "      <td>8</td>\n",
       "      <td>1</td>\n",
       "      <td>8</td>\n",
       "      <td>2</td>\n",
       "      <td>29072017</td>\n",
       "      <td>F29</td>\n",
       "      <td>1</td>\n",
       "      <td>40</td>\n",
       "      <td>1</td>\n",
       "      <td>1.00974</td>\n",
       "      <td>F29</td>\n",
       "      <td>F20-29</td>\n",
       "    </tr>\n",
       "  </tbody>\n",
       "</table>\n",
       "</div>"
      ],
      "text/plain": [
       "        ProvHosp  Sexo  ProvResi  DiagEntr    FxAlta DiagPrin  MotivoAlta  \\\n",
       "752236        48     1        48         2  25052018     F321           1   \n",
       "769613         2     2         2         2  15092017     F418           1   \n",
       "740683         8     1         8         2  29072017      F29           1   \n",
       "\n",
       "        EdadAnios  DiasEstancia   Factor code     cap  \n",
       "752236         50            14  1.00000  F32  F30-39  \n",
       "769613         35             3  1.00000  F41  F40-49  \n",
       "740683         40             1  1.00974  F29  F20-29  "
      ]
     },
     "execution_count": 16,
     "metadata": {},
     "output_type": "execute_result"
    }
   ],
   "source": [
    "morbilidad.sample(3)"
   ]
  },
  {
   "cell_type": "code",
   "execution_count": 17,
   "id": "0bb86219",
   "metadata": {},
   "outputs": [],
   "source": [
    "discapacidad = morbilidad[morbilidad[\"cap\"] == 'F70-79'].index #dropeamos el tipo de retraso mental\n",
    "morbilidad.drop(discapacidad,inplace = True)"
   ]
  },
  {
   "cell_type": "code",
   "execution_count": 18,
   "id": "8e1e931f",
   "metadata": {},
   "outputs": [],
   "source": [
    "dicc_res = {} #crear diccionario con diagnósticos y códigos\n",
    "for i,r in diagnos.iterrows():\n",
    "    dicc_res[r.cap] = r.resumen_cap"
   ]
  },
  {
   "cell_type": "code",
   "execution_count": 19,
   "id": "274cdd54",
   "metadata": {},
   "outputs": [
    {
     "data": {
      "text/plain": [
       "{'F00-F09': 'orgánicos/sintomáticos',\n",
       " 'F10-F19': 'consumo psicotrópicos',\n",
       " 'F20-29': 'esquizotípicos/delirantes',\n",
       " 'F30-39': 'animo/afectivos',\n",
       " 'F40-49': 'nuróticos/somatomorfos',\n",
       " 'F50-59': 'factores físicos /fisiológicos',\n",
       " 'F60-69': 'T. de la personalidad/comportamiento',\n",
       " 'F70-79': 'deficiencia psíquica',\n",
       " 'F80-89': 'desarrollo psicológico',\n",
       " 'F90-F98': 'aparecen en niñez',\n",
       " 'F99': 'sin espcificar'}"
      ]
     },
     "execution_count": 19,
     "metadata": {},
     "output_type": "execute_result"
    }
   ],
   "source": [
    "dicc_res"
   ]
  },
  {
   "cell_type": "code",
   "execution_count": 20,
   "id": "435bb633",
   "metadata": {},
   "outputs": [],
   "source": [
    "morbilidad['resumen'] = morbilidad.cap.map(dicc_res)"
   ]
  },
  {
   "cell_type": "code",
   "execution_count": 21,
   "id": "fccb2d8a",
   "metadata": {},
   "outputs": [
    {
     "data": {
      "text/html": [
       "<div>\n",
       "<style scoped>\n",
       "    .dataframe tbody tr th:only-of-type {\n",
       "        vertical-align: middle;\n",
       "    }\n",
       "\n",
       "    .dataframe tbody tr th {\n",
       "        vertical-align: top;\n",
       "    }\n",
       "\n",
       "    .dataframe thead th {\n",
       "        text-align: right;\n",
       "    }\n",
       "</style>\n",
       "<table border=\"1\" class=\"dataframe\">\n",
       "  <thead>\n",
       "    <tr style=\"text-align: right;\">\n",
       "      <th></th>\n",
       "      <th>ProvHosp</th>\n",
       "      <th>Sexo</th>\n",
       "      <th>ProvResi</th>\n",
       "      <th>DiagEntr</th>\n",
       "      <th>FxAlta</th>\n",
       "      <th>DiagPrin</th>\n",
       "      <th>MotivoAlta</th>\n",
       "      <th>EdadAnios</th>\n",
       "      <th>DiasEstancia</th>\n",
       "      <th>Factor</th>\n",
       "      <th>code</th>\n",
       "      <th>cap</th>\n",
       "      <th>resumen</th>\n",
       "    </tr>\n",
       "  </thead>\n",
       "  <tbody>\n",
       "    <tr>\n",
       "      <th>753139</th>\n",
       "      <td>48</td>\n",
       "      <td>1</td>\n",
       "      <td>48</td>\n",
       "      <td>2</td>\n",
       "      <td>11012017</td>\n",
       "      <td>F3164</td>\n",
       "      <td>1</td>\n",
       "      <td>63</td>\n",
       "      <td>120</td>\n",
       "      <td>1.00000</td>\n",
       "      <td>F31</td>\n",
       "      <td>F30-39</td>\n",
       "      <td>animo/afectivos</td>\n",
       "    </tr>\n",
       "    <tr>\n",
       "      <th>760003</th>\n",
       "      <td>8</td>\n",
       "      <td>2</td>\n",
       "      <td>8</td>\n",
       "      <td>2</td>\n",
       "      <td>26102017</td>\n",
       "      <td>F329</td>\n",
       "      <td>1</td>\n",
       "      <td>40</td>\n",
       "      <td>1</td>\n",
       "      <td>1.00974</td>\n",
       "      <td>F32</td>\n",
       "      <td>F30-39</td>\n",
       "      <td>animo/afectivos</td>\n",
       "    </tr>\n",
       "    <tr>\n",
       "      <th>762748</th>\n",
       "      <td>48</td>\n",
       "      <td>1</td>\n",
       "      <td>48</td>\n",
       "      <td>1</td>\n",
       "      <td>15072016</td>\n",
       "      <td>F609</td>\n",
       "      <td>1</td>\n",
       "      <td>46</td>\n",
       "      <td>18</td>\n",
       "      <td>1.00000</td>\n",
       "      <td>F60</td>\n",
       "      <td>F60-69</td>\n",
       "      <td>T. de la personalidad/comportamiento</td>\n",
       "    </tr>\n",
       "  </tbody>\n",
       "</table>\n",
       "</div>"
      ],
      "text/plain": [
       "        ProvHosp  Sexo  ProvResi  DiagEntr    FxAlta DiagPrin  MotivoAlta  \\\n",
       "753139        48     1        48         2  11012017    F3164           1   \n",
       "760003         8     2         8         2  26102017     F329           1   \n",
       "762748        48     1        48         1  15072016     F609           1   \n",
       "\n",
       "        EdadAnios  DiasEstancia   Factor code     cap  \\\n",
       "753139         63           120  1.00000  F31  F30-39   \n",
       "760003         40             1  1.00974  F32  F30-39   \n",
       "762748         46            18  1.00000  F60  F60-69   \n",
       "\n",
       "                                     resumen  \n",
       "753139                       animo/afectivos  \n",
       "760003                       animo/afectivos  \n",
       "762748  T. de la personalidad/comportamiento  "
      ]
     },
     "execution_count": 21,
     "metadata": {},
     "output_type": "execute_result"
    }
   ],
   "source": [
    "morbilidad.sample(3)"
   ]
  },
  {
   "cell_type": "markdown",
   "id": "8219dd0e",
   "metadata": {},
   "source": [
    "## Creamos fecha de ingreso"
   ]
  },
  {
   "cell_type": "code",
   "execution_count": 22,
   "id": "26afa608",
   "metadata": {},
   "outputs": [],
   "source": [
    "#creamos fecha a través de FxAlta\n",
    "morbilidad.FxAlta = morbilidad.FxAlta.astype('string')"
   ]
  },
  {
   "cell_type": "code",
   "execution_count": 23,
   "id": "c194a3e5",
   "metadata": {},
   "outputs": [],
   "source": [
    "morbilidad['fecha_al'] = pd.to_datetime({'year': morbilidad.FxAlta.str[-4:],\n",
    "                           'month': morbilidad.FxAlta.str[-6:-4],\n",
    "                           'day': morbilidad.FxAlta.str[:-6]\n",
    "                           })"
   ]
  },
  {
   "cell_type": "code",
   "execution_count": 24,
   "id": "fd718f6c",
   "metadata": {},
   "outputs": [],
   "source": [
    "#creamos fecha ingreso restando a fecha_al el número de día ingresado (DiasEstancia)\n",
    "morbilidad['fecha_ing'] = morbilidad.apply(lambda fila: fila['fecha_al'] - datetime.timedelta(days = fila['DiasEstancia']), axis= 1)"
   ]
  },
  {
   "cell_type": "code",
   "execution_count": 25,
   "id": "318b7387",
   "metadata": {},
   "outputs": [],
   "source": [
    "morbilidad['year']=morbilidad.fecha_ing.dt.year\n",
    "morbilidad['month']=morbilidad.fecha_ing.dt.month\n",
    "morbilidad['day']=morbilidad.fecha_ing.dt.day"
   ]
  },
  {
   "cell_type": "code",
   "execution_count": 26,
   "id": "8abe63d1",
   "metadata": {},
   "outputs": [],
   "source": [
    "morbilidad.drop(['FxAlta'],axis=1,inplace = True)"
   ]
  },
  {
   "cell_type": "code",
   "execution_count": 27,
   "id": "442ca743",
   "metadata": {},
   "outputs": [],
   "source": [
    "# Cambiamos algunos datos categóricos que vienen como números "
   ]
  },
  {
   "cell_type": "code",
   "execution_count": 28,
   "id": "72aec0e2",
   "metadata": {},
   "outputs": [
    {
     "data": {
      "text/html": [
       "<div>\n",
       "<style scoped>\n",
       "    .dataframe tbody tr th:only-of-type {\n",
       "        vertical-align: middle;\n",
       "    }\n",
       "\n",
       "    .dataframe tbody tr th {\n",
       "        vertical-align: top;\n",
       "    }\n",
       "\n",
       "    .dataframe thead th {\n",
       "        text-align: right;\n",
       "    }\n",
       "</style>\n",
       "<table border=\"1\" class=\"dataframe\">\n",
       "  <thead>\n",
       "    <tr style=\"text-align: right;\">\n",
       "      <th></th>\n",
       "      <th>ProvHosp</th>\n",
       "      <th>Sexo</th>\n",
       "      <th>ProvResi</th>\n",
       "      <th>DiagEntr</th>\n",
       "      <th>DiagPrin</th>\n",
       "      <th>MotivoAlta</th>\n",
       "      <th>EdadAnios</th>\n",
       "      <th>DiasEstancia</th>\n",
       "      <th>Factor</th>\n",
       "      <th>code</th>\n",
       "      <th>cap</th>\n",
       "      <th>resumen</th>\n",
       "      <th>fecha_al</th>\n",
       "      <th>fecha_ing</th>\n",
       "      <th>year</th>\n",
       "      <th>month</th>\n",
       "      <th>day</th>\n",
       "    </tr>\n",
       "  </thead>\n",
       "  <tbody>\n",
       "    <tr>\n",
       "      <th>714751</th>\n",
       "      <td>33</td>\n",
       "      <td>1</td>\n",
       "      <td>33</td>\n",
       "      <td>2</td>\n",
       "      <td>F200</td>\n",
       "      <td>1</td>\n",
       "      <td>29</td>\n",
       "      <td>10</td>\n",
       "      <td>1.0</td>\n",
       "      <td>F20</td>\n",
       "      <td>F20-29</td>\n",
       "      <td>esquizotípicos/delirantes</td>\n",
       "      <td>2018-08-13</td>\n",
       "      <td>2018-08-03</td>\n",
       "      <td>2018</td>\n",
       "      <td>8</td>\n",
       "      <td>3</td>\n",
       "    </tr>\n",
       "    <tr>\n",
       "      <th>788283</th>\n",
       "      <td>20</td>\n",
       "      <td>2</td>\n",
       "      <td>20</td>\n",
       "      <td>2</td>\n",
       "      <td>F913</td>\n",
       "      <td>1</td>\n",
       "      <td>16</td>\n",
       "      <td>5</td>\n",
       "      <td>1.0</td>\n",
       "      <td>F91</td>\n",
       "      <td>F90-F98</td>\n",
       "      <td>aparecen en niñez</td>\n",
       "      <td>2018-01-05</td>\n",
       "      <td>2017-12-31</td>\n",
       "      <td>2017</td>\n",
       "      <td>12</td>\n",
       "      <td>31</td>\n",
       "    </tr>\n",
       "    <tr>\n",
       "      <th>745117</th>\n",
       "      <td>49</td>\n",
       "      <td>1</td>\n",
       "      <td>49</td>\n",
       "      <td>2</td>\n",
       "      <td>F22</td>\n",
       "      <td>1</td>\n",
       "      <td>51</td>\n",
       "      <td>14</td>\n",
       "      <td>1.0</td>\n",
       "      <td>F22</td>\n",
       "      <td>F20-29</td>\n",
       "      <td>esquizotípicos/delirantes</td>\n",
       "      <td>2019-12-05</td>\n",
       "      <td>2019-11-21</td>\n",
       "      <td>2019</td>\n",
       "      <td>11</td>\n",
       "      <td>21</td>\n",
       "    </tr>\n",
       "  </tbody>\n",
       "</table>\n",
       "</div>"
      ],
      "text/plain": [
       "        ProvHosp  Sexo  ProvResi  DiagEntr DiagPrin  MotivoAlta  EdadAnios  \\\n",
       "714751        33     1        33         2     F200           1         29   \n",
       "788283        20     2        20         2     F913           1         16   \n",
       "745117        49     1        49         2      F22           1         51   \n",
       "\n",
       "        DiasEstancia  Factor code      cap                    resumen  \\\n",
       "714751            10     1.0  F20   F20-29  esquizotípicos/delirantes   \n",
       "788283             5     1.0  F91  F90-F98          aparecen en niñez   \n",
       "745117            14     1.0  F22   F20-29  esquizotípicos/delirantes   \n",
       "\n",
       "         fecha_al  fecha_ing  year  month  day  \n",
       "714751 2018-08-13 2018-08-03  2018      8    3  \n",
       "788283 2018-01-05 2017-12-31  2017     12   31  \n",
       "745117 2019-12-05 2019-11-21  2019     11   21  "
      ]
     },
     "execution_count": 28,
     "metadata": {},
     "output_type": "execute_result"
    }
   ],
   "source": [
    "morbilidad.sample(3)"
   ]
  },
  {
   "cell_type": "code",
   "execution_count": 29,
   "id": "48456836",
   "metadata": {},
   "outputs": [],
   "source": [
    "#diccionarios códigos\n",
    "dic_sexo = {1:'Hombre',2:'Mujer'}\n",
    "dic_entrada = {1:'Ordinario',2:'Urgente'}\n",
    "dic_alta = {1: \"Curación\",2:'Traslado',3:'Fallecimiento',4:'Otras'}\n",
    "num_str = {'1':'01',  '2':'02',  '3':'03',  '4':'04',  '5':'05',  '6':'06',  '7':'07',  '8':'08',  '9':'09'}"
   ]
  },
  {
   "cell_type": "code",
   "execution_count": 30,
   "id": "e6e66942",
   "metadata": {},
   "outputs": [],
   "source": [
    "morbilidad.ProvHosp = morbilidad.ProvHosp.astype('string').replace(num_str)\n",
    "morbilidad.ProvResi = morbilidad.ProvResi.astype('string').replace(num_str)"
   ]
  },
  {
   "cell_type": "code",
   "execution_count": 31,
   "id": "2f41f2ac",
   "metadata": {},
   "outputs": [],
   "source": [
    "morbilidad['Entrada'] = morbilidad.DiagEntr.map(dic_entrada)\n",
    "morbilidad['Alta'] = morbilidad.MotivoAlta.map(dic_alta)\n",
    "morbilidad['SexNom'] = morbilidad.Sexo.map(dic_sexo)"
   ]
  },
  {
   "cell_type": "code",
   "execution_count": 32,
   "id": "79edb16e",
   "metadata": {},
   "outputs": [],
   "source": [
    "#preparar provincias para geojsaon (nombre)"
   ]
  },
  {
   "cell_type": "code",
   "execution_count": 33,
   "id": "132c5445",
   "metadata": {},
   "outputs": [],
   "source": [
    "#diccionario\n",
    "geo_json = r\"../data/socioecon/spain_provinces.geojson\"\n",
    "with open (geo_json) as geo_file:\n",
    "    provincias = json.load(geo_file)\n",
    "\n",
    "cod_prov = {}\n",
    "for i in range(52):    \n",
    "    cod_prov[provincias['features'][i]['properties']['cod_prov']] = provincias['features'][i]['properties']['name']"
   ]
  },
  {
   "cell_type": "code",
   "execution_count": 34,
   "id": "b59e664e",
   "metadata": {},
   "outputs": [],
   "source": [
    "morbilidad['ProvHosp_nom'] = morbilidad.ProvHosp.map(cod_prov)\n",
    "morbilidad['ProvResi_nom'] = morbilidad.ProvResi.map(cod_prov)"
   ]
  },
  {
   "cell_type": "code",
   "execution_count": 35,
   "id": "eed0e2b1",
   "metadata": {},
   "outputs": [],
   "source": [
    "#prov resi 53 = extranjeros\n",
    "morbilidad.ProvResi_nom.fillna('Extranjeros',inplace = True)"
   ]
  },
  {
   "cell_type": "code",
   "execution_count": 36,
   "id": "b1d879f4",
   "metadata": {},
   "outputs": [
    {
     "data": {
      "text/plain": [
       "ProvHosp        0\n",
       "Sexo            0\n",
       "ProvResi        0\n",
       "DiagEntr        0\n",
       "DiagPrin        0\n",
       "MotivoAlta      0\n",
       "EdadAnios       0\n",
       "DiasEstancia    0\n",
       "Factor          0\n",
       "code            0\n",
       "cap             0\n",
       "resumen         0\n",
       "fecha_al        0\n",
       "fecha_ing       0\n",
       "year            0\n",
       "month           0\n",
       "day             0\n",
       "Entrada         0\n",
       "Alta            0\n",
       "SexNom          0\n",
       "ProvHosp_nom    0\n",
       "ProvResi_nom    0\n",
       "dtype: int64"
      ]
     },
     "execution_count": 36,
     "metadata": {},
     "output_type": "execute_result"
    }
   ],
   "source": [
    "morbilidad.isna().sum()"
   ]
  },
  {
   "cell_type": "code",
   "execution_count": 37,
   "id": "d84b9d67",
   "metadata": {},
   "outputs": [
    {
     "data": {
      "text/plain": [
       "Index(['ProvHosp', 'Sexo', 'ProvResi', 'DiagEntr', 'DiagPrin', 'MotivoAlta',\n",
       "       'EdadAnios', 'DiasEstancia', 'Factor', 'code', 'cap', 'resumen',\n",
       "       'fecha_al', 'fecha_ing', 'year', 'month', 'day', 'Entrada', 'Alta',\n",
       "       'SexNom', 'ProvHosp_nom', 'ProvResi_nom'],\n",
       "      dtype='object')"
      ]
     },
     "execution_count": 37,
     "metadata": {},
     "output_type": "execute_result"
    }
   ],
   "source": [
    "morbilidad.columns"
   ]
  },
  {
   "cell_type": "code",
   "execution_count": 38,
   "id": "2197824b",
   "metadata": {},
   "outputs": [],
   "source": [
    "morbilidad.rename({'EdadAnios':'Edad','DiasEstancia':'Dias'},axis=1,inplace = True)"
   ]
  },
  {
   "cell_type": "code",
   "execution_count": 39,
   "id": "d58af659",
   "metadata": {},
   "outputs": [
    {
     "data": {
      "text/html": [
       "<div>\n",
       "<style scoped>\n",
       "    .dataframe tbody tr th:only-of-type {\n",
       "        vertical-align: middle;\n",
       "    }\n",
       "\n",
       "    .dataframe tbody tr th {\n",
       "        vertical-align: top;\n",
       "    }\n",
       "\n",
       "    .dataframe thead th {\n",
       "        text-align: right;\n",
       "    }\n",
       "</style>\n",
       "<table border=\"1\" class=\"dataframe\">\n",
       "  <thead>\n",
       "    <tr style=\"text-align: right;\">\n",
       "      <th></th>\n",
       "      <th>ProvHosp</th>\n",
       "      <th>Sexo</th>\n",
       "      <th>ProvResi</th>\n",
       "      <th>DiagEntr</th>\n",
       "      <th>DiagPrin</th>\n",
       "      <th>MotivoAlta</th>\n",
       "      <th>Edad</th>\n",
       "      <th>Dias</th>\n",
       "      <th>Factor</th>\n",
       "      <th>code</th>\n",
       "      <th>...</th>\n",
       "      <th>fecha_al</th>\n",
       "      <th>fecha_ing</th>\n",
       "      <th>year</th>\n",
       "      <th>month</th>\n",
       "      <th>day</th>\n",
       "      <th>Entrada</th>\n",
       "      <th>Alta</th>\n",
       "      <th>SexNom</th>\n",
       "      <th>ProvHosp_nom</th>\n",
       "      <th>ProvResi_nom</th>\n",
       "    </tr>\n",
       "  </thead>\n",
       "  <tbody>\n",
       "    <tr>\n",
       "      <th>734591</th>\n",
       "      <td>43</td>\n",
       "      <td>2</td>\n",
       "      <td>43</td>\n",
       "      <td>1</td>\n",
       "      <td>F329</td>\n",
       "      <td>1</td>\n",
       "      <td>17</td>\n",
       "      <td>24</td>\n",
       "      <td>1.00000</td>\n",
       "      <td>F32</td>\n",
       "      <td>...</td>\n",
       "      <td>2016-03-07</td>\n",
       "      <td>2016-02-12</td>\n",
       "      <td>2016</td>\n",
       "      <td>2</td>\n",
       "      <td>12</td>\n",
       "      <td>Ordinario</td>\n",
       "      <td>Curación</td>\n",
       "      <td>Mujer</td>\n",
       "      <td>Tarragona</td>\n",
       "      <td>Tarragona</td>\n",
       "    </tr>\n",
       "    <tr>\n",
       "      <th>768328</th>\n",
       "      <td>48</td>\n",
       "      <td>1</td>\n",
       "      <td>48</td>\n",
       "      <td>2</td>\n",
       "      <td>F919</td>\n",
       "      <td>1</td>\n",
       "      <td>42</td>\n",
       "      <td>8</td>\n",
       "      <td>1.00441</td>\n",
       "      <td>F91</td>\n",
       "      <td>...</td>\n",
       "      <td>2016-03-23</td>\n",
       "      <td>2016-03-15</td>\n",
       "      <td>2016</td>\n",
       "      <td>3</td>\n",
       "      <td>15</td>\n",
       "      <td>Urgente</td>\n",
       "      <td>Curación</td>\n",
       "      <td>Hombre</td>\n",
       "      <td>Vizcaya</td>\n",
       "      <td>Vizcaya</td>\n",
       "    </tr>\n",
       "    <tr>\n",
       "      <th>748085</th>\n",
       "      <td>07</td>\n",
       "      <td>2</td>\n",
       "      <td>07</td>\n",
       "      <td>2</td>\n",
       "      <td>F312</td>\n",
       "      <td>1</td>\n",
       "      <td>40</td>\n",
       "      <td>10</td>\n",
       "      <td>1.00000</td>\n",
       "      <td>F31</td>\n",
       "      <td>...</td>\n",
       "      <td>2017-01-13</td>\n",
       "      <td>2017-01-03</td>\n",
       "      <td>2017</td>\n",
       "      <td>1</td>\n",
       "      <td>3</td>\n",
       "      <td>Urgente</td>\n",
       "      <td>Curación</td>\n",
       "      <td>Mujer</td>\n",
       "      <td>Baleares</td>\n",
       "      <td>Baleares</td>\n",
       "    </tr>\n",
       "  </tbody>\n",
       "</table>\n",
       "<p>3 rows × 22 columns</p>\n",
       "</div>"
      ],
      "text/plain": [
       "       ProvHosp  Sexo ProvResi  DiagEntr DiagPrin  MotivoAlta  Edad  Dias  \\\n",
       "734591       43     2       43         1     F329           1    17    24   \n",
       "768328       48     1       48         2     F919           1    42     8   \n",
       "748085       07     2       07         2     F312           1    40    10   \n",
       "\n",
       "         Factor code  ...   fecha_al  fecha_ing  year month  day    Entrada  \\\n",
       "734591  1.00000  F32  ... 2016-03-07 2016-02-12  2016     2   12  Ordinario   \n",
       "768328  1.00441  F91  ... 2016-03-23 2016-03-15  2016     3   15    Urgente   \n",
       "748085  1.00000  F31  ... 2017-01-13 2017-01-03  2017     1    3    Urgente   \n",
       "\n",
       "            Alta  SexNom ProvHosp_nom ProvResi_nom  \n",
       "734591  Curación   Mujer    Tarragona    Tarragona  \n",
       "768328  Curación  Hombre      Vizcaya      Vizcaya  \n",
       "748085  Curación   Mujer     Baleares     Baleares  \n",
       "\n",
       "[3 rows x 22 columns]"
      ]
     },
     "execution_count": 39,
     "metadata": {},
     "output_type": "execute_result"
    }
   ],
   "source": [
    "morbilidad.sample(3)"
   ]
  },
  {
   "cell_type": "code",
   "execution_count": 40,
   "id": "d95489db",
   "metadata": {},
   "outputs": [],
   "source": [
    "morbilidad.to_csv('../data/morbilidad_Fgen.csv',index=False)"
   ]
  },
  {
   "cell_type": "code",
   "execution_count": 41,
   "id": "06c4188a",
   "metadata": {},
   "outputs": [],
   "source": [
    "## extras"
   ]
  },
  {
   "cell_type": "code",
   "execution_count": null,
   "id": "ae826167",
   "metadata": {},
   "outputs": [],
   "source": [
    "dicc_poly = {pf['properties']['name']:pf['geometry'] for pf in provincias['features']}"
   ]
  },
  {
   "cell_type": "code",
   "execution_count": null,
   "id": "50c13adc",
   "metadata": {},
   "outputs": [],
   "source": [
    "morbilidad['geometry'] = morbilidad.ProvHosp_nom.map(dicc_poly)"
   ]
  },
  {
   "cell_type": "code",
   "execution_count": null,
   "id": "6eec1089",
   "metadata": {},
   "outputs": [],
   "source": [
    "morbilidad.sample(3)"
   ]
  },
  {
   "cell_type": "code",
   "execution_count": null,
   "id": "b2817178",
   "metadata": {},
   "outputs": [],
   "source": [
    "def data2geojson(df):\n",
    "    features = []\n",
    "    insert_features = lambda X: features.append(\n",
    "            geojson.Feature(geometry=geojson.Point((X[\"long\"],\n",
    "                                                    X[\"lat\"],\n",
    "                                                    X[\"elev\"])),\n",
    "                            properties=dict(name=X[\"name\"],\n",
    "                                            description=X[\"description\"])))\n",
    "    df.apply(insert_features, axis=1)\n",
    "    with open('map1.geojson', 'w', encoding='utf8') as fp:\n",
    "        geojson.dump(geojson.FeatureCollection(features), fp, sort_keys=True, ensure_ascii=False)"
   ]
  }
 ],
 "metadata": {
  "kernelspec": {
   "display_name": "ironhack",
   "language": "python",
   "name": "ironhack"
  },
  "language_info": {
   "codemirror_mode": {
    "name": "ipython",
    "version": 3
   },
   "file_extension": ".py",
   "mimetype": "text/x-python",
   "name": "python",
   "nbconvert_exporter": "python",
   "pygments_lexer": "ipython3",
   "version": "3.8.5"
  }
 },
 "nbformat": 4,
 "nbformat_minor": 5
}
