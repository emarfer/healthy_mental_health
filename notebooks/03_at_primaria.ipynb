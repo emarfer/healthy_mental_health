{
 "cells": [
  {
   "cell_type": "markdown",
   "metadata": {},
   "source": [
    "# Atención primaria España"
   ]
  },
  {
   "cell_type": "code",
   "execution_count": 1,
   "metadata": {},
   "outputs": [],
   "source": [
    "import pandas as pd\n",
    "import os"
   ]
  },
  {
   "cell_type": "markdown",
   "metadata": {},
   "source": [
    "datos [porta estadístico](https://pestadistico.inteligenciadegestion.mscbs.es/publicoSNS/S/base-de-datos-de-clinicos-de-atencion-primaria-bdcap)"
   ]
  },
  {
   "cell_type": "markdown",
   "metadata": {},
   "source": [
    "# consulta de datasets"
   ]
  },
  {
   "cell_type": "code",
   "execution_count": 2,
   "metadata": {},
   "outputs": [],
   "source": [
    "psico_prim = pd.read_excel('../data/at_primaria/detalles_psico.xlsx')"
   ]
  },
  {
   "cell_type": "code",
   "execution_count": 3,
   "metadata": {},
   "outputs": [],
   "source": [
    "psico_prim.columns = psico_prim.columns.str.replace(\" \",'_')"
   ]
  },
  {
   "cell_type": "code",
   "execution_count": 4,
   "metadata": {},
   "outputs": [
    {
     "data": {
      "text/html": [
       "<div>\n",
       "<style scoped>\n",
       "    .dataframe tbody tr th:only-of-type {\n",
       "        vertical-align: middle;\n",
       "    }\n",
       "\n",
       "    .dataframe tbody tr th {\n",
       "        vertical-align: top;\n",
       "    }\n",
       "\n",
       "    .dataframe thead th {\n",
       "        text-align: right;\n",
       "    }\n",
       "</style>\n",
       "<table border=\"1\" class=\"dataframe\">\n",
       "  <thead>\n",
       "    <tr style=\"text-align: right;\">\n",
       "      <th></th>\n",
       "      <th>Año</th>\n",
       "      <th>CCAA</th>\n",
       "      <th>Sexo</th>\n",
       "      <th>Nivel_Renta</th>\n",
       "      <th>Grandes_Grupos</th>\n",
       "      <th>Problema_de_Salud</th>\n",
       "      <th>Casos</th>\n",
       "    </tr>\n",
       "  </thead>\n",
       "  <tbody>\n",
       "    <tr>\n",
       "      <th>102378</th>\n",
       "      <td>2016</td>\n",
       "      <td>04-Baleares</td>\n",
       "      <td>Hombre</td>\n",
       "      <td>?100.000 ? /año</td>\n",
       "      <td>15-34 años</td>\n",
       "      <td>P78 - Neurastenia/surmenage</td>\n",
       "      <td>NaN</td>\n",
       "    </tr>\n",
       "    <tr>\n",
       "      <th>123243</th>\n",
       "      <td>2016</td>\n",
       "      <td>16-País Vasco</td>\n",
       "      <td>Hombre</td>\n",
       "      <td>Muy baja</td>\n",
       "      <td>15-34 años</td>\n",
       "      <td>P99 - Otros problemas psicológicos/mentales</td>\n",
       "      <td>NaN</td>\n",
       "    </tr>\n",
       "    <tr>\n",
       "      <th>3703</th>\n",
       "      <td>2012</td>\n",
       "      <td>02-Aragón</td>\n",
       "      <td>Mujer</td>\n",
       "      <td>&lt;18.000 ? /año</td>\n",
       "      <td>00-14 años</td>\n",
       "      <td>P08 - Ausencia/pérdida de la satisfación sexual</td>\n",
       "      <td>NaN</td>\n",
       "    </tr>\n",
       "    <tr>\n",
       "      <th>8994</th>\n",
       "      <td>2012</td>\n",
       "      <td>07-Castilla y León</td>\n",
       "      <td>Mujer</td>\n",
       "      <td>&lt;18.000 ? /año</td>\n",
       "      <td>35-64 años</td>\n",
       "      <td>P19 - Abuso de drogas</td>\n",
       "      <td>343.0</td>\n",
       "    </tr>\n",
       "    <tr>\n",
       "      <th>34844</th>\n",
       "      <td>2013</td>\n",
       "      <td>10-Comunidad Valenciana</td>\n",
       "      <td>Mujer</td>\n",
       "      <td>Muy baja</td>\n",
       "      <td>35-64 años</td>\n",
       "      <td>P85 - Retraso mental</td>\n",
       "      <td>703.0</td>\n",
       "    </tr>\n",
       "  </tbody>\n",
       "</table>\n",
       "</div>"
      ],
      "text/plain": [
       "         Año                     CCAA    Sexo      Nivel_Renta Grandes_Grupos  \\\n",
       "102378  2016              04-Baleares  Hombre  ?100.000 ? /año     15-34 años   \n",
       "123243  2016            16-País Vasco  Hombre         Muy baja     15-34 años   \n",
       "3703    2012                02-Aragón   Mujer   <18.000 ? /año     00-14 años   \n",
       "8994    2012       07-Castilla y León   Mujer   <18.000 ? /año     35-64 años   \n",
       "34844   2013  10-Comunidad Valenciana   Mujer         Muy baja     35-64 años   \n",
       "\n",
       "                                      Problema_de_Salud  Casos  \n",
       "102378                      P78 - Neurastenia/surmenage    NaN  \n",
       "123243      P99 - Otros problemas psicológicos/mentales    NaN  \n",
       "3703    P08 - Ausencia/pérdida de la satisfación sexual    NaN  \n",
       "8994                              P19 - Abuso de drogas  343.0  \n",
       "34844                              P85 - Retraso mental  703.0  "
      ]
     },
     "execution_count": 4,
     "metadata": {},
     "output_type": "execute_result"
    }
   ],
   "source": [
    "psico_prim.sample(5)"
   ]
  },
  {
   "cell_type": "code",
   "execution_count": 5,
   "metadata": {},
   "outputs": [
    {
     "data": {
      "text/plain": [
       "Año                       0\n",
       "CCAA                      0\n",
       "Sexo                      0\n",
       "Nivel_Renta               0\n",
       "Grandes_Grupos            0\n",
       "Problema_de_Salud         0\n",
       "Casos                182993\n",
       "dtype: int64"
      ]
     },
     "execution_count": 5,
     "metadata": {},
     "output_type": "execute_result"
    }
   ],
   "source": [
    "psico_prim.isna().sum()"
   ]
  },
  {
   "cell_type": "code",
   "execution_count": 6,
   "metadata": {},
   "outputs": [
    {
     "name": "stdout",
     "output_type": "stream",
     "text": [
      "<class 'pandas.core.frame.DataFrame'>\n",
      "RangeIndex: 213840 entries, 0 to 213839\n",
      "Data columns (total 7 columns):\n",
      " #   Column             Non-Null Count   Dtype  \n",
      "---  ------             --------------   -----  \n",
      " 0   Año                213840 non-null  int64  \n",
      " 1   CCAA               213840 non-null  object \n",
      " 2   Sexo               213840 non-null  object \n",
      " 3   Nivel_Renta        213840 non-null  object \n",
      " 4   Grandes_Grupos     213840 non-null  object \n",
      " 5   Problema_de_Salud  213840 non-null  object \n",
      " 6   Casos              30847 non-null   float64\n",
      "dtypes: float64(1), int64(1), object(5)\n",
      "memory usage: 11.4+ MB\n"
     ]
    }
   ],
   "source": [
    "psico_prim.info()"
   ]
  },
  {
   "cell_type": "code",
   "execution_count": 7,
   "metadata": {},
   "outputs": [],
   "source": [
    "#creación de tabla de correspondencia de CCAA\n",
    "comunidades_cod = {}\n",
    "ccaalist = list(psico_prim.CCAA.unique())\n",
    "for cc in ccaalist:\n",
    "    comunidades_cod[cc.split(\"-\")[0]] = cc.split(\"-\")[1]\n",
    "com_cod = pd.DataFrame([[key, comunidades_cod[key]] for key in comunidades_cod.keys()], columns=['Cod', 'CCAA'])\n",
    "com_cod.to_csv('../data/codigos_com.csv',index=True)"
   ]
  },
  {
   "cell_type": "code",
   "execution_count": 8,
   "metadata": {},
   "outputs": [
    {
     "data": {
      "text/plain": [
       "2019"
      ]
     },
     "execution_count": 8,
     "metadata": {},
     "output_type": "execute_result"
    }
   ],
   "source": [
    "psico_prim.Año.max()"
   ]
  },
  {
   "cell_type": "markdown",
   "metadata": {},
   "source": [
    "## cambiamos algunos datos categóricos"
   ]
  },
  {
   "cell_type": "code",
   "execution_count": 9,
   "metadata": {},
   "outputs": [],
   "source": [
    "psico_prim[[\"CodCA\",\"CCAA\"]] = psico_prim.CCAA.str.split(\"-\",expand=True)"
   ]
  },
  {
   "cell_type": "code",
   "execution_count": 10,
   "metadata": {},
   "outputs": [
    {
     "data": {
      "text/plain": [
       "['Sin Clasificar',\n",
       " '?100.000 ? /año',\n",
       " '18.000-99.999 ? /año',\n",
       " '<18.000 ? /año',\n",
       " 'Muy baja']"
      ]
     },
     "execution_count": 10,
     "metadata": {},
     "output_type": "execute_result"
    }
   ],
   "source": [
    "list(psico_prim.Nivel_Renta.unique())"
   ]
  },
  {
   "cell_type": "code",
   "execution_count": 11,
   "metadata": {},
   "outputs": [],
   "source": [
    "renta ={'Sin Clasificar':'desconocida',\n",
    " '?100.000 ? /año': '+ 100000',\n",
    " '18.000-99.999 ? /año': '18000-99999',\n",
    " '<18.000 ? /año':'- 18000',\n",
    " 'Muy baja':'muy_baja'}"
   ]
  },
  {
   "cell_type": "code",
   "execution_count": 12,
   "metadata": {},
   "outputs": [],
   "source": [
    "psico_prim.Nivel_Renta = psico_prim.Nivel_Renta.replace(renta)"
   ]
  },
  {
   "cell_type": "code",
   "execution_count": 13,
   "metadata": {},
   "outputs": [],
   "source": [
    "psico_prim.Grandes_Grupos = psico_prim.Grandes_Grupos.str.extract(r'(\\d+-*\\d+)')\n",
    "psico_prim.rename({\"Grandes_Grupos\":\"Edad\"},axis = 1,inplace = True)\n",
    "psico_prim.Edad.replace('65','65 +', inplace = True)"
   ]
  },
  {
   "cell_type": "code",
   "execution_count": 14,
   "metadata": {},
   "outputs": [
    {
     "data": {
      "text/html": [
       "<div>\n",
       "<style scoped>\n",
       "    .dataframe tbody tr th:only-of-type {\n",
       "        vertical-align: middle;\n",
       "    }\n",
       "\n",
       "    .dataframe tbody tr th {\n",
       "        vertical-align: top;\n",
       "    }\n",
       "\n",
       "    .dataframe thead th {\n",
       "        text-align: right;\n",
       "    }\n",
       "</style>\n",
       "<table border=\"1\" class=\"dataframe\">\n",
       "  <thead>\n",
       "    <tr style=\"text-align: right;\">\n",
       "      <th></th>\n",
       "      <th>Año</th>\n",
       "      <th>CCAA</th>\n",
       "      <th>Sexo</th>\n",
       "      <th>Nivel_Renta</th>\n",
       "      <th>Edad</th>\n",
       "      <th>Problema_de_Salud</th>\n",
       "      <th>Casos</th>\n",
       "      <th>CodCA</th>\n",
       "    </tr>\n",
       "  </thead>\n",
       "  <tbody>\n",
       "    <tr>\n",
       "      <th>19164</th>\n",
       "      <td>2012</td>\n",
       "      <td>País Vasco</td>\n",
       "      <td>Mujer</td>\n",
       "      <td>18000-99999</td>\n",
       "      <td>15-34</td>\n",
       "      <td>P28 - Incapacidad/minusvalía mental</td>\n",
       "      <td>NaN</td>\n",
       "      <td>16</td>\n",
       "    </tr>\n",
       "    <tr>\n",
       "      <th>30221</th>\n",
       "      <td>2013</td>\n",
       "      <td>Castilla la Mancha</td>\n",
       "      <td>Hombre</td>\n",
       "      <td>18000-99999</td>\n",
       "      <td>00-14</td>\n",
       "      <td>P81 - Trastornos hipercinéticos</td>\n",
       "      <td>297.0</td>\n",
       "      <td>08</td>\n",
       "    </tr>\n",
       "    <tr>\n",
       "      <th>71134</th>\n",
       "      <td>2015</td>\n",
       "      <td>Andalucía</td>\n",
       "      <td>Hombre</td>\n",
       "      <td>- 18000</td>\n",
       "      <td>65 +</td>\n",
       "      <td>P74 - Trastornos de la ansiedad/estado de ansi...</td>\n",
       "      <td>15161.0</td>\n",
       "      <td>01</td>\n",
       "    </tr>\n",
       "    <tr>\n",
       "      <th>202022</th>\n",
       "      <td>2019</td>\n",
       "      <td>Extremadura</td>\n",
       "      <td>Hombre</td>\n",
       "      <td>18000-99999</td>\n",
       "      <td>35-64</td>\n",
       "      <td>P19 - Abuso de drogas</td>\n",
       "      <td>NaN</td>\n",
       "      <td>11</td>\n",
       "    </tr>\n",
       "    <tr>\n",
       "      <th>205502</th>\n",
       "      <td>2019</td>\n",
       "      <td>Madrid</td>\n",
       "      <td>Hombre</td>\n",
       "      <td>18000-99999</td>\n",
       "      <td>65 +</td>\n",
       "      <td>P25 - Problemas de las etapas de la vida en ad...</td>\n",
       "      <td>NaN</td>\n",
       "      <td>13</td>\n",
       "    </tr>\n",
       "  </tbody>\n",
       "</table>\n",
       "</div>"
      ],
      "text/plain": [
       "         Año                CCAA    Sexo  Nivel_Renta   Edad  \\\n",
       "19164   2012          País Vasco   Mujer  18000-99999  15-34   \n",
       "30221   2013  Castilla la Mancha  Hombre  18000-99999  00-14   \n",
       "71134   2015           Andalucía  Hombre      - 18000   65 +   \n",
       "202022  2019         Extremadura  Hombre  18000-99999  35-64   \n",
       "205502  2019              Madrid  Hombre  18000-99999   65 +   \n",
       "\n",
       "                                        Problema_de_Salud    Casos CodCA  \n",
       "19164                 P28 - Incapacidad/minusvalía mental      NaN    16  \n",
       "30221                     P81 - Trastornos hipercinéticos    297.0    08  \n",
       "71134   P74 - Trastornos de la ansiedad/estado de ansi...  15161.0    01  \n",
       "202022                              P19 - Abuso de drogas      NaN    11  \n",
       "205502  P25 - Problemas de las etapas de la vida en ad...      NaN    13  "
      ]
     },
     "execution_count": 14,
     "metadata": {},
     "output_type": "execute_result"
    }
   ],
   "source": [
    "psico_prim.sample(5)"
   ]
  },
  {
   "cell_type": "code",
   "execution_count": 15,
   "metadata": {},
   "outputs": [
    {
     "data": {
      "text/plain": [
       "Año                       0\n",
       "CCAA                      0\n",
       "Sexo                      0\n",
       "Nivel_Renta               0\n",
       "Edad                      0\n",
       "Problema_de_Salud         0\n",
       "Casos                182993\n",
       "CodCA                     0\n",
       "dtype: int64"
      ]
     },
     "execution_count": 15,
     "metadata": {},
     "output_type": "execute_result"
    }
   ],
   "source": [
    "psico_prim.isna().sum()"
   ]
  },
  {
   "cell_type": "code",
   "execution_count": 16,
   "metadata": {},
   "outputs": [],
   "source": [
    "psico_prim.Casos.fillna(0.,inplace = True)"
   ]
  },
  {
   "cell_type": "code",
   "execution_count": 17,
   "metadata": {},
   "outputs": [],
   "source": [
    "psico_prim[[\"cod_salud\",\"problema_salud\"]]= psico_prim.Problema_de_Salud.str.split(\" - \",expand=True)"
   ]
  },
  {
   "cell_type": "code",
   "execution_count": 18,
   "metadata": {},
   "outputs": [],
   "source": [
    "psico_prim.drop('Problema_de_Salud',axis=1,inplace = True)"
   ]
  },
  {
   "cell_type": "markdown",
   "metadata": {},
   "source": [
    "## equivalencias codigos diagnósticos con CEI10"
   ]
  },
  {
   "cell_type": "code",
   "execution_count": 19,
   "metadata": {},
   "outputs": [],
   "source": [
    "trans_cod = {'P01': 'F40-49','P02': 'F40-49','P03': 'F40-49','P04': 'F40-49','P05':'F00-F09','P06': 'F30-39','P07': 'F30-39',\n",
    "'P08': 'F30-39','P09': 'F30-39','P09-07': 'F30-39','P10': 'F90-F98','P11': 'F90-F98','P12': 'F90-F98','P13': 'F90-F98',\n",
    "'P15': 'F10-F19','P16': 'F10-F19','P17': 'F10-F19','P18': 'F10-F19','P19': 'F10-F19','P20':'F00-F09','P22+23': 'F90-F98',\n",
    "'P24': 'F80-89','P25': 'F60-69','P27': 'F99','P28': 'F70-79','P29': 'F99','P70':'F00-F09','P71': 'F20-29','P72': 'F20-29',\n",
    "'P73': 'F20-29','P74': 'F40-49','P75': 'F40-49','P76': 'F30-39','P77': 'F30-39','P78': 'F40-49','P79': 'F40-49','P80': 'F60-69',\n",
    "'P81': 'F90-F98','P82': 'F40-49','P82/02': 'F40-49','P85': 'F70-79','P86': 'F50-59','P98': 'F20-29','P99': 'F99',\n",
    "}"
   ]
  },
  {
   "cell_type": "code",
   "execution_count": 20,
   "metadata": {},
   "outputs": [],
   "source": [
    "psico_prim['cei10'] = psico_prim.cod_salud.map(trans_cod)"
   ]
  },
  {
   "cell_type": "code",
   "execution_count": 21,
   "metadata": {},
   "outputs": [
    {
     "data": {
      "text/html": [
       "<div>\n",
       "<style scoped>\n",
       "    .dataframe tbody tr th:only-of-type {\n",
       "        vertical-align: middle;\n",
       "    }\n",
       "\n",
       "    .dataframe tbody tr th {\n",
       "        vertical-align: top;\n",
       "    }\n",
       "\n",
       "    .dataframe thead th {\n",
       "        text-align: right;\n",
       "    }\n",
       "</style>\n",
       "<table border=\"1\" class=\"dataframe\">\n",
       "  <thead>\n",
       "    <tr style=\"text-align: right;\">\n",
       "      <th></th>\n",
       "      <th>Año</th>\n",
       "      <th>CCAA</th>\n",
       "      <th>Sexo</th>\n",
       "      <th>Nivel_Renta</th>\n",
       "      <th>Edad</th>\n",
       "      <th>Casos</th>\n",
       "      <th>CodCA</th>\n",
       "      <th>cod_salud</th>\n",
       "      <th>problema_salud</th>\n",
       "      <th>cei10</th>\n",
       "    </tr>\n",
       "  </thead>\n",
       "  <tbody>\n",
       "    <tr>\n",
       "      <th>39956</th>\n",
       "      <td>2013</td>\n",
       "      <td>Madrid</td>\n",
       "      <td>Mujer</td>\n",
       "      <td>desconocida</td>\n",
       "      <td>15-34</td>\n",
       "      <td>0.0</td>\n",
       "      <td>13</td>\n",
       "      <td>P05</td>\n",
       "      <td>Sentimientos/conducta senil</td>\n",
       "      <td>F00-F09</td>\n",
       "    </tr>\n",
       "  </tbody>\n",
       "</table>\n",
       "</div>"
      ],
      "text/plain": [
       "        Año    CCAA   Sexo  Nivel_Renta   Edad  Casos CodCA cod_salud  \\\n",
       "39956  2013  Madrid  Mujer  desconocida  15-34    0.0    13       P05   \n",
       "\n",
       "                    problema_salud    cei10  \n",
       "39956  Sentimientos/conducta senil  F00-F09  "
      ]
     },
     "execution_count": 21,
     "metadata": {},
     "output_type": "execute_result"
    }
   ],
   "source": [
    "psico_prim.sample()"
   ]
  },
  {
   "cell_type": "markdown",
   "metadata": {},
   "source": [
    "## tipo columna casos"
   ]
  },
  {
   "cell_type": "code",
   "execution_count": 22,
   "metadata": {},
   "outputs": [],
   "source": [
    "psico_prim.Casos =psico_prim.Casos.astype('int64')"
   ]
  },
  {
   "cell_type": "code",
   "execution_count": 23,
   "metadata": {},
   "outputs": [
    {
     "data": {
      "text/html": [
       "<div>\n",
       "<style scoped>\n",
       "    .dataframe tbody tr th:only-of-type {\n",
       "        vertical-align: middle;\n",
       "    }\n",
       "\n",
       "    .dataframe tbody tr th {\n",
       "        vertical-align: top;\n",
       "    }\n",
       "\n",
       "    .dataframe thead th {\n",
       "        text-align: right;\n",
       "    }\n",
       "</style>\n",
       "<table border=\"1\" class=\"dataframe\">\n",
       "  <thead>\n",
       "    <tr style=\"text-align: right;\">\n",
       "      <th></th>\n",
       "      <th>Año</th>\n",
       "      <th>CCAA</th>\n",
       "      <th>Sexo</th>\n",
       "      <th>Nivel_Renta</th>\n",
       "      <th>Edad</th>\n",
       "      <th>Casos</th>\n",
       "      <th>CodCA</th>\n",
       "      <th>cod_salud</th>\n",
       "      <th>problema_salud</th>\n",
       "      <th>cei10</th>\n",
       "    </tr>\n",
       "  </thead>\n",
       "  <tbody>\n",
       "    <tr>\n",
       "      <th>67037</th>\n",
       "      <td>2014</td>\n",
       "      <td>Murcia</td>\n",
       "      <td>Mujer</td>\n",
       "      <td>desconocida</td>\n",
       "      <td>35-64</td>\n",
       "      <td>0</td>\n",
       "      <td>14</td>\n",
       "      <td>P29</td>\n",
       "      <td>Otros signos/síntomas psicológicos/mentales</td>\n",
       "      <td>F99</td>\n",
       "    </tr>\n",
       "    <tr>\n",
       "      <th>111695</th>\n",
       "      <td>2016</td>\n",
       "      <td>Cataluña</td>\n",
       "      <td>Mujer</td>\n",
       "      <td>+ 100000</td>\n",
       "      <td>00-14</td>\n",
       "      <td>0</td>\n",
       "      <td>09</td>\n",
       "      <td>P27</td>\n",
       "      <td>Miedo a una enfermedad mental</td>\n",
       "      <td>F99</td>\n",
       "    </tr>\n",
       "    <tr>\n",
       "      <th>143905</th>\n",
       "      <td>2017</td>\n",
       "      <td>Extremadura</td>\n",
       "      <td>Hombre</td>\n",
       "      <td>muy_baja</td>\n",
       "      <td>15-34</td>\n",
       "      <td>0</td>\n",
       "      <td>11</td>\n",
       "      <td>P29</td>\n",
       "      <td>Otros signos/síntomas psicológicos/mentales</td>\n",
       "      <td>F99</td>\n",
       "    </tr>\n",
       "    <tr>\n",
       "      <th>81854</th>\n",
       "      <td>2015</td>\n",
       "      <td>Castilla y León</td>\n",
       "      <td>Mujer</td>\n",
       "      <td>- 18000</td>\n",
       "      <td>65 +</td>\n",
       "      <td>0</td>\n",
       "      <td>07</td>\n",
       "      <td>P15</td>\n",
       "      <td>Abuso crónico del alcohol</td>\n",
       "      <td>F10-F19</td>\n",
       "    </tr>\n",
       "    <tr>\n",
       "      <th>189790</th>\n",
       "      <td>2019</td>\n",
       "      <td>Baleares</td>\n",
       "      <td>Hombre</td>\n",
       "      <td>+ 100000</td>\n",
       "      <td>35-64</td>\n",
       "      <td>0</td>\n",
       "      <td>04</td>\n",
       "      <td>P19</td>\n",
       "      <td>Abuso de drogas</td>\n",
       "      <td>F10-F19</td>\n",
       "    </tr>\n",
       "  </tbody>\n",
       "</table>\n",
       "</div>"
      ],
      "text/plain": [
       "         Año             CCAA    Sexo  Nivel_Renta   Edad  Casos CodCA  \\\n",
       "67037   2014           Murcia   Mujer  desconocida  35-64      0    14   \n",
       "111695  2016         Cataluña   Mujer     + 100000  00-14      0    09   \n",
       "143905  2017      Extremadura  Hombre     muy_baja  15-34      0    11   \n",
       "81854   2015  Castilla y León   Mujer      - 18000   65 +      0    07   \n",
       "189790  2019         Baleares  Hombre     + 100000  35-64      0    04   \n",
       "\n",
       "       cod_salud                               problema_salud    cei10  \n",
       "67037        P29  Otros signos/síntomas psicológicos/mentales      F99  \n",
       "111695       P27                Miedo a una enfermedad mental      F99  \n",
       "143905       P29  Otros signos/síntomas psicológicos/mentales      F99  \n",
       "81854        P15                    Abuso crónico del alcohol  F10-F19  \n",
       "189790       P19                              Abuso de drogas  F10-F19  "
      ]
     },
     "execution_count": 23,
     "metadata": {},
     "output_type": "execute_result"
    }
   ],
   "source": [
    "psico_prim.sample(5)"
   ]
  },
  {
   "cell_type": "code",
   "execution_count": 24,
   "metadata": {},
   "outputs": [],
   "source": [
    "psico_prim.to_csv('../data/psico_atprimaria.csv',index=False)"
   ]
  }
 ],
 "metadata": {
  "kernelspec": {
   "display_name": "ironhack",
   "language": "python",
   "name": "ironhack"
  },
  "language_info": {
   "codemirror_mode": {
    "name": "ipython",
    "version": 3
   },
   "file_extension": ".py",
   "mimetype": "text/x-python",
   "name": "python",
   "nbconvert_exporter": "python",
   "pygments_lexer": "ipython3",
   "version": "3.8.5"
  }
 },
 "nbformat": 4,
 "nbformat_minor": 5
}
