{
 "cells": [
  {
   "cell_type": "markdown",
   "id": "5f4721ab",
   "metadata": {},
   "source": [
    "# Atención primaria España"
   ]
  },
  {
   "cell_type": "code",
   "execution_count": 1,
   "id": "992f2138",
   "metadata": {},
   "outputs": [],
   "source": [
    "import pandas as pd\n",
    "import os\n",
    "import json"
   ]
  },
  {
   "cell_type": "markdown",
   "id": "0acfdd83",
   "metadata": {},
   "source": [
    "datos [porta estadístico](https://pestadistico.inteligenciadegestion.mscbs.es/publicoSNS/S/base-de-datos-de-clinicos-de-atencion-primaria-bdcap)"
   ]
  },
  {
   "cell_type": "markdown",
   "id": "c07d1405",
   "metadata": {},
   "source": [
    "# consulta de datasets"
   ]
  },
  {
   "cell_type": "code",
   "execution_count": 2,
   "id": "727dd1ae",
   "metadata": {},
   "outputs": [],
   "source": [
    "psico_prim = pd.read_excel('../data/at_primaria/detalles_psico.xlsx')"
   ]
  },
  {
   "cell_type": "code",
   "execution_count": 3,
   "id": "5f228cdb",
   "metadata": {},
   "outputs": [],
   "source": [
    "psico_prim.columns = psico_prim.columns.str.replace(\" \",'_')"
   ]
  },
  {
   "cell_type": "code",
   "execution_count": 4,
   "id": "20aa6181",
   "metadata": {},
   "outputs": [
    {
     "data": {
      "text/html": [
       "<div>\n",
       "<style scoped>\n",
       "    .dataframe tbody tr th:only-of-type {\n",
       "        vertical-align: middle;\n",
       "    }\n",
       "\n",
       "    .dataframe tbody tr th {\n",
       "        vertical-align: top;\n",
       "    }\n",
       "\n",
       "    .dataframe thead th {\n",
       "        text-align: right;\n",
       "    }\n",
       "</style>\n",
       "<table border=\"1\" class=\"dataframe\">\n",
       "  <thead>\n",
       "    <tr style=\"text-align: right;\">\n",
       "      <th></th>\n",
       "      <th>Año</th>\n",
       "      <th>CCAA</th>\n",
       "      <th>Sexo</th>\n",
       "      <th>Nivel_Renta</th>\n",
       "      <th>Grandes_Grupos</th>\n",
       "      <th>Problema_de_Salud</th>\n",
       "      <th>Casos</th>\n",
       "    </tr>\n",
       "  </thead>\n",
       "  <tbody>\n",
       "    <tr>\n",
       "      <th>67842</th>\n",
       "      <td>2014</td>\n",
       "      <td>15-Navarra</td>\n",
       "      <td>Hombre</td>\n",
       "      <td>Sin Clasificar</td>\n",
       "      <td>00-14 años</td>\n",
       "      <td>P82 - Estrés postraumático</td>\n",
       "      <td>NaN</td>\n",
       "    </tr>\n",
       "    <tr>\n",
       "      <th>83978</th>\n",
       "      <td>2015</td>\n",
       "      <td>09-Cataluña</td>\n",
       "      <td>Hombre</td>\n",
       "      <td>?100.000 ? /año</td>\n",
       "      <td>65 y más años</td>\n",
       "      <td>P70 - Demencia</td>\n",
       "      <td>NaN</td>\n",
       "    </tr>\n",
       "    <tr>\n",
       "      <th>40329</th>\n",
       "      <td>2013</td>\n",
       "      <td>14-Murcia</td>\n",
       "      <td>Hombre</td>\n",
       "      <td>18.000-99.999 ? /año</td>\n",
       "      <td>15-34 años</td>\n",
       "      <td>P29 - Otros signos/síntomas psicológicos/mentales</td>\n",
       "      <td>NaN</td>\n",
       "    </tr>\n",
       "    <tr>\n",
       "      <th>24184</th>\n",
       "      <td>2013</td>\n",
       "      <td>04-Baleares</td>\n",
       "      <td>Mujer</td>\n",
       "      <td>?100.000 ? /año</td>\n",
       "      <td>15-34 años</td>\n",
       "      <td>P72 - Esquizofrenia</td>\n",
       "      <td>NaN</td>\n",
       "    </tr>\n",
       "    <tr>\n",
       "      <th>145873</th>\n",
       "      <td>2017</td>\n",
       "      <td>12-Galicia</td>\n",
       "      <td>Mujer</td>\n",
       "      <td>?100.000 ? /año</td>\n",
       "      <td>15-34 años</td>\n",
       "      <td>P13 - Encopresis</td>\n",
       "      <td>NaN</td>\n",
       "    </tr>\n",
       "  </tbody>\n",
       "</table>\n",
       "</div>"
      ],
      "text/plain": [
       "         Año         CCAA    Sexo           Nivel_Renta Grandes_Grupos  \\\n",
       "67842   2014   15-Navarra  Hombre        Sin Clasificar     00-14 años   \n",
       "83978   2015  09-Cataluña  Hombre       ?100.000 ? /año  65 y más años   \n",
       "40329   2013    14-Murcia  Hombre  18.000-99.999 ? /año     15-34 años   \n",
       "24184   2013  04-Baleares   Mujer       ?100.000 ? /año     15-34 años   \n",
       "145873  2017   12-Galicia   Mujer       ?100.000 ? /año     15-34 años   \n",
       "\n",
       "                                        Problema_de_Salud  Casos  \n",
       "67842                          P82 - Estrés postraumático    NaN  \n",
       "83978                                      P70 - Demencia    NaN  \n",
       "40329   P29 - Otros signos/síntomas psicológicos/mentales    NaN  \n",
       "24184                                 P72 - Esquizofrenia    NaN  \n",
       "145873                                   P13 - Encopresis    NaN  "
      ]
     },
     "execution_count": 4,
     "metadata": {},
     "output_type": "execute_result"
    }
   ],
   "source": [
    "psico_prim.sample(5)"
   ]
  },
  {
   "cell_type": "code",
   "execution_count": 5,
   "id": "ff0ea5a7",
   "metadata": {},
   "outputs": [
    {
     "data": {
      "text/plain": [
       "Año                       0\n",
       "CCAA                      0\n",
       "Sexo                      0\n",
       "Nivel_Renta               0\n",
       "Grandes_Grupos            0\n",
       "Problema_de_Salud         0\n",
       "Casos                182993\n",
       "dtype: int64"
      ]
     },
     "execution_count": 5,
     "metadata": {},
     "output_type": "execute_result"
    }
   ],
   "source": [
    "psico_prim.isna().sum()"
   ]
  },
  {
   "cell_type": "code",
   "execution_count": 6,
   "id": "04bdcdf8",
   "metadata": {
    "scrolled": true
   },
   "outputs": [
    {
     "name": "stdout",
     "output_type": "stream",
     "text": [
      "<class 'pandas.core.frame.DataFrame'>\n",
      "RangeIndex: 213840 entries, 0 to 213839\n",
      "Data columns (total 7 columns):\n",
      " #   Column             Non-Null Count   Dtype  \n",
      "---  ------             --------------   -----  \n",
      " 0   Año                213840 non-null  int64  \n",
      " 1   CCAA               213840 non-null  object \n",
      " 2   Sexo               213840 non-null  object \n",
      " 3   Nivel_Renta        213840 non-null  object \n",
      " 4   Grandes_Grupos     213840 non-null  object \n",
      " 5   Problema_de_Salud  213840 non-null  object \n",
      " 6   Casos              30847 non-null   float64\n",
      "dtypes: float64(1), int64(1), object(5)\n",
      "memory usage: 11.4+ MB\n"
     ]
    }
   ],
   "source": [
    "psico_prim.info()"
   ]
  },
  {
   "cell_type": "code",
   "execution_count": 7,
   "id": "b98d2fd0",
   "metadata": {},
   "outputs": [
    {
     "data": {
      "text/plain": [
       "Index(['Año', 'CCAA', 'Sexo', 'Nivel_Renta', 'Grandes_Grupos',\n",
       "       'Problema_de_Salud', 'Casos'],\n",
       "      dtype='object')"
      ]
     },
     "execution_count": 7,
     "metadata": {},
     "output_type": "execute_result"
    }
   ],
   "source": [
    "psico_prim.columns"
   ]
  },
  {
   "cell_type": "markdown",
   "id": "ce5299bc",
   "metadata": {},
   "source": [
    "## cambiamos algunos datos categóricos"
   ]
  },
  {
   "cell_type": "code",
   "execution_count": 8,
   "id": "fa67cac9",
   "metadata": {},
   "outputs": [],
   "source": [
    "psico_prim[[\"CodCA\",\"CCAA\"]] = psico_prim.CCAA.str.split(\"-\",expand=True)"
   ]
  },
  {
   "cell_type": "code",
   "execution_count": 9,
   "id": "841b063e",
   "metadata": {},
   "outputs": [],
   "source": [
    "# usamos geojson de comunidades para poner el nombre a las comunidades"
   ]
  },
  {
   "cell_type": "code",
   "execution_count": 10,
   "id": "758e6a2f",
   "metadata": {},
   "outputs": [],
   "source": [
    "#diccionario\n",
    "geo_json = r\"../data/socioecon/comunidades.geojson\"\n",
    "with open (geo_json) as geo_file:\n",
    "    comunidades = json.load(geo_file)"
   ]
  },
  {
   "cell_type": "code",
   "execution_count": 11,
   "id": "064358dc",
   "metadata": {},
   "outputs": [
    {
     "data": {
      "text/plain": [
       "{'cod_ccaa': '07',\n",
       " 'noml_ccaa': 'COMUNIDAD DE CASTILLA Y LEON',\n",
       " 'name': 'Castilla-Leon',\n",
       " 'cartodb_id': 7,\n",
       " 'created_at': '2014-09-30T00:00:00Z',\n",
       " 'updated_at': '2014-12-25T02:07:41Z'}"
      ]
     },
     "execution_count": 11,
     "metadata": {},
     "output_type": "execute_result"
    }
   ],
   "source": [
    "comunidades['features'][0]['properties']"
   ]
  },
  {
   "cell_type": "code",
   "execution_count": 12,
   "id": "90e951c6",
   "metadata": {},
   "outputs": [],
   "source": [
    "cod_com = {}\n",
    "for i in range(19):    \n",
    "    cod_com[comunidades['features'][i]['properties']['cod_ccaa']] = comunidades['features'][i]['properties']['name']"
   ]
  },
  {
   "cell_type": "code",
   "execution_count": 13,
   "id": "a35a0c1e",
   "metadata": {},
   "outputs": [],
   "source": [
    "psico_prim['CCAA'] = psico_prim.CodCA.map(cod_com)"
   ]
  },
  {
   "cell_type": "code",
   "execution_count": 14,
   "id": "5f8dc258",
   "metadata": {},
   "outputs": [
    {
     "data": {
      "text/plain": [
       "['Sin Clasificar',\n",
       " '?100.000 ? /año',\n",
       " '18.000-99.999 ? /año',\n",
       " '<18.000 ? /año',\n",
       " 'Muy baja']"
      ]
     },
     "execution_count": 14,
     "metadata": {},
     "output_type": "execute_result"
    }
   ],
   "source": [
    "list(psico_prim.Nivel_Renta.unique())"
   ]
  },
  {
   "cell_type": "code",
   "execution_count": 15,
   "id": "5c2619a1",
   "metadata": {},
   "outputs": [],
   "source": [
    "renta ={'Sin Clasificar':'desconocida',\n",
    " '?100.000 ? /año': '+ 100000',\n",
    " '18.000-99.999 ? /año': '18000-99999',\n",
    " '<18.000 ? /año':'- 18000',\n",
    " 'Muy baja':'muy_baja'}"
   ]
  },
  {
   "cell_type": "code",
   "execution_count": 16,
   "id": "c57a3d70",
   "metadata": {},
   "outputs": [],
   "source": [
    "psico_prim.Nivel_Renta = psico_prim.Nivel_Renta.replace(renta)"
   ]
  },
  {
   "cell_type": "code",
   "execution_count": 17,
   "id": "bf087a2d",
   "metadata": {},
   "outputs": [],
   "source": [
    "psico_prim.Grandes_Grupos = psico_prim.Grandes_Grupos.str.extract(r'(\\d+-*\\d+)')\n",
    "psico_prim.rename({\"Grandes_Grupos\":\"Edad\"},axis = 1,inplace = True)\n",
    "psico_prim.Edad.replace('65','65 +', inplace = True)"
   ]
  },
  {
   "cell_type": "code",
   "execution_count": 18,
   "id": "894ccd18",
   "metadata": {},
   "outputs": [
    {
     "data": {
      "text/html": [
       "<div>\n",
       "<style scoped>\n",
       "    .dataframe tbody tr th:only-of-type {\n",
       "        vertical-align: middle;\n",
       "    }\n",
       "\n",
       "    .dataframe tbody tr th {\n",
       "        vertical-align: top;\n",
       "    }\n",
       "\n",
       "    .dataframe thead th {\n",
       "        text-align: right;\n",
       "    }\n",
       "</style>\n",
       "<table border=\"1\" class=\"dataframe\">\n",
       "  <thead>\n",
       "    <tr style=\"text-align: right;\">\n",
       "      <th></th>\n",
       "      <th>Año</th>\n",
       "      <th>CCAA</th>\n",
       "      <th>Sexo</th>\n",
       "      <th>Nivel_Renta</th>\n",
       "      <th>Edad</th>\n",
       "      <th>Problema_de_Salud</th>\n",
       "      <th>Casos</th>\n",
       "      <th>CodCA</th>\n",
       "    </tr>\n",
       "  </thead>\n",
       "  <tbody>\n",
       "    <tr>\n",
       "      <th>60294</th>\n",
       "      <td>2014</td>\n",
       "      <td>Valencia</td>\n",
       "      <td>Mujer</td>\n",
       "      <td>desconocida</td>\n",
       "      <td>65 +</td>\n",
       "      <td>P15 - Abuso crónico del alcohol</td>\n",
       "      <td>NaN</td>\n",
       "      <td>10</td>\n",
       "    </tr>\n",
       "    <tr>\n",
       "      <th>167198</th>\n",
       "      <td>2018</td>\n",
       "      <td>Castilla-Leon</td>\n",
       "      <td>Mujer</td>\n",
       "      <td>muy_baja</td>\n",
       "      <td>15-34</td>\n",
       "      <td>P98 - Otras psicosis no especificadas</td>\n",
       "      <td>NaN</td>\n",
       "      <td>07</td>\n",
       "    </tr>\n",
       "    <tr>\n",
       "      <th>38763</th>\n",
       "      <td>2013</td>\n",
       "      <td>Madrid</td>\n",
       "      <td>Hombre</td>\n",
       "      <td>- 18000</td>\n",
       "      <td>15-34</td>\n",
       "      <td>P99 - Otros problemas psicológicos/mentales</td>\n",
       "      <td>993.0</td>\n",
       "      <td>13</td>\n",
       "    </tr>\n",
       "    <tr>\n",
       "      <th>91234</th>\n",
       "      <td>2015</td>\n",
       "      <td>Madrid</td>\n",
       "      <td>Hombre</td>\n",
       "      <td>desconocida</td>\n",
       "      <td>35-64</td>\n",
       "      <td>P25 - Problemas de las etapas de la vida en ad...</td>\n",
       "      <td>NaN</td>\n",
       "      <td>13</td>\n",
       "    </tr>\n",
       "    <tr>\n",
       "      <th>166675</th>\n",
       "      <td>2018</td>\n",
       "      <td>Castilla-Leon</td>\n",
       "      <td>Mujer</td>\n",
       "      <td>+ 100000</td>\n",
       "      <td>35-64</td>\n",
       "      <td>P04 - Sensación/sentimientos de irritabilidad/...</td>\n",
       "      <td>NaN</td>\n",
       "      <td>07</td>\n",
       "    </tr>\n",
       "  </tbody>\n",
       "</table>\n",
       "</div>"
      ],
      "text/plain": [
       "         Año           CCAA    Sexo  Nivel_Renta   Edad  \\\n",
       "60294   2014       Valencia   Mujer  desconocida   65 +   \n",
       "167198  2018  Castilla-Leon   Mujer     muy_baja  15-34   \n",
       "38763   2013         Madrid  Hombre      - 18000  15-34   \n",
       "91234   2015         Madrid  Hombre  desconocida  35-64   \n",
       "166675  2018  Castilla-Leon   Mujer     + 100000  35-64   \n",
       "\n",
       "                                        Problema_de_Salud  Casos CodCA  \n",
       "60294                     P15 - Abuso crónico del alcohol    NaN    10  \n",
       "167198              P98 - Otras psicosis no especificadas    NaN    07  \n",
       "38763         P99 - Otros problemas psicológicos/mentales  993.0    13  \n",
       "91234   P25 - Problemas de las etapas de la vida en ad...    NaN    13  \n",
       "166675  P04 - Sensación/sentimientos de irritabilidad/...    NaN    07  "
      ]
     },
     "execution_count": 18,
     "metadata": {},
     "output_type": "execute_result"
    }
   ],
   "source": [
    "psico_prim.sample(5)"
   ]
  },
  {
   "cell_type": "code",
   "execution_count": 19,
   "id": "7b0a9136",
   "metadata": {},
   "outputs": [
    {
     "data": {
      "text/plain": [
       "Año                       0\n",
       "CCAA                      0\n",
       "Sexo                      0\n",
       "Nivel_Renta               0\n",
       "Edad                      0\n",
       "Problema_de_Salud         0\n",
       "Casos                182993\n",
       "CodCA                     0\n",
       "dtype: int64"
      ]
     },
     "execution_count": 19,
     "metadata": {},
     "output_type": "execute_result"
    }
   ],
   "source": [
    "psico_prim.isna().sum()"
   ]
  },
  {
   "cell_type": "code",
   "execution_count": 20,
   "id": "efde2bdf",
   "metadata": {},
   "outputs": [],
   "source": [
    "psico_prim.Casos.fillna(0.,inplace = True)"
   ]
  },
  {
   "cell_type": "code",
   "execution_count": 21,
   "id": "637a5b0a",
   "metadata": {},
   "outputs": [],
   "source": [
    "psico_prim[[\"cod_salud\",\"problema_salud\"]]= psico_prim.Problema_de_Salud.str.split(\" - \",expand=True)"
   ]
  },
  {
   "cell_type": "code",
   "execution_count": 22,
   "id": "fd212db9",
   "metadata": {},
   "outputs": [],
   "source": [
    "psico_prim.drop('Problema_de_Salud',axis=1,inplace = True)"
   ]
  },
  {
   "cell_type": "markdown",
   "id": "e6a72b2d",
   "metadata": {},
   "source": [
    "## equivalencias codigos diagnósticos con CEI10"
   ]
  },
  {
   "cell_type": "code",
   "execution_count": 23,
   "id": "24570a0b",
   "metadata": {},
   "outputs": [],
   "source": [
    "trans_cod = {'P01': 'F40-49','P02': 'F40-49','P03': 'F40-49','P04': 'F40-49','P05':'F00-F09','P06': 'F30-39','P07': 'F30-39',\n",
    "'P08': 'F30-39','P09': 'F30-39','P09-07': 'F30-39','P10': 'F90-F98','P11': 'F90-F98','P12': 'F90-F98','P13': 'F90-F98',\n",
    "'P15': 'F10-F19','P16': 'F10-F19','P17': 'F10-F19','P18': 'F10-F19','P19': 'F10-F19','P20':'F00-F09','P22+23': 'F90-F98',\n",
    "'P24': 'F80-89','P25': 'F60-69','P27': 'F99','P28': 'F70-79','P29': 'F99','P70':'F00-F09','P71': 'F20-29','P72': 'F20-29',\n",
    "'P73': 'F20-29','P74': 'F40-49','P75': 'F40-49','P76': 'F30-39','P77': 'F30-39','P78': 'F40-49','P79': 'F40-49','P80': 'F60-69',\n",
    "'P81': 'F90-F98','P82': 'F40-49','P82/02': 'F40-49','P85': 'F70-79','P86': 'F50-59','P98': 'F20-29','P99': 'F99',\n",
    "}"
   ]
  },
  {
   "cell_type": "code",
   "execution_count": 24,
   "id": "07869206",
   "metadata": {},
   "outputs": [],
   "source": [
    "psico_prim['cei10'] = psico_prim.cod_salud.map(trans_cod)"
   ]
  },
  {
   "cell_type": "code",
   "execution_count": 25,
   "id": "84d489c5",
   "metadata": {},
   "outputs": [],
   "source": [
    "diagnos = pd.read_csv('../data/diagnos.csv')"
   ]
  },
  {
   "cell_type": "code",
   "execution_count": 27,
   "id": "5dac2eb8",
   "metadata": {},
   "outputs": [
    {
     "data": {
      "text/html": [
       "<div>\n",
       "<style scoped>\n",
       "    .dataframe tbody tr th:only-of-type {\n",
       "        vertical-align: middle;\n",
       "    }\n",
       "\n",
       "    .dataframe tbody tr th {\n",
       "        vertical-align: top;\n",
       "    }\n",
       "\n",
       "    .dataframe thead th {\n",
       "        text-align: right;\n",
       "    }\n",
       "</style>\n",
       "<table border=\"1\" class=\"dataframe\">\n",
       "  <thead>\n",
       "    <tr style=\"text-align: right;\">\n",
       "      <th></th>\n",
       "      <th>code</th>\n",
       "      <th>diag</th>\n",
       "      <th>cap</th>\n",
       "      <th>title</th>\n",
       "    </tr>\n",
       "  </thead>\n",
       "  <tbody>\n",
       "    <tr>\n",
       "      <th>20</th>\n",
       "      <td>F20</td>\n",
       "      <td>Esquizofrenia</td>\n",
       "      <td>F20-29</td>\n",
       "      <td>Esquizofrenia, trastornos esquizotípicos y tra...</td>\n",
       "    </tr>\n",
       "    <tr>\n",
       "      <th>42</th>\n",
       "      <td>F51</td>\n",
       "      <td>Trastornos del sueño no orgánicos</td>\n",
       "      <td>F50-59</td>\n",
       "      <td>Síndromes del comportamiento asociados con alt...</td>\n",
       "    </tr>\n",
       "  </tbody>\n",
       "</table>\n",
       "</div>"
      ],
      "text/plain": [
       "   code                               diag     cap  \\\n",
       "20  F20                      Esquizofrenia  F20-29   \n",
       "42  F51  Trastornos del sueño no orgánicos  F50-59   \n",
       "\n",
       "                                                title  \n",
       "20  Esquizofrenia, trastornos esquizotípicos y tra...  \n",
       "42  Síndromes del comportamiento asociados con alt...  "
      ]
     },
     "execution_count": 27,
     "metadata": {},
     "output_type": "execute_result"
    }
   ],
   "source": [
    "diagnos.sample(2)"
   ]
  },
  {
   "cell_type": "code",
   "execution_count": 28,
   "id": "b8bb5af9",
   "metadata": {},
   "outputs": [],
   "source": [
    "diag_dic = {}\n",
    "for i,r in diagnos.iterrows():\n",
    "    diag_dic[r.cap] = r.title"
   ]
  },
  {
   "cell_type": "code",
   "execution_count": 30,
   "id": "e4f308f8",
   "metadata": {},
   "outputs": [],
   "source": [
    "psico_prim['title'] = psico_prim.cei10.map(diag_dic)"
   ]
  },
  {
   "cell_type": "code",
   "execution_count": 31,
   "id": "b0a2c630",
   "metadata": {},
   "outputs": [
    {
     "data": {
      "text/html": [
       "<div>\n",
       "<style scoped>\n",
       "    .dataframe tbody tr th:only-of-type {\n",
       "        vertical-align: middle;\n",
       "    }\n",
       "\n",
       "    .dataframe tbody tr th {\n",
       "        vertical-align: top;\n",
       "    }\n",
       "\n",
       "    .dataframe thead th {\n",
       "        text-align: right;\n",
       "    }\n",
       "</style>\n",
       "<table border=\"1\" class=\"dataframe\">\n",
       "  <thead>\n",
       "    <tr style=\"text-align: right;\">\n",
       "      <th></th>\n",
       "      <th>Año</th>\n",
       "      <th>CCAA</th>\n",
       "      <th>Sexo</th>\n",
       "      <th>Nivel_Renta</th>\n",
       "      <th>Edad</th>\n",
       "      <th>Casos</th>\n",
       "      <th>CodCA</th>\n",
       "      <th>cod_salud</th>\n",
       "      <th>problema_salud</th>\n",
       "      <th>cei10</th>\n",
       "      <th>title</th>\n",
       "    </tr>\n",
       "  </thead>\n",
       "  <tbody>\n",
       "    <tr>\n",
       "      <th>48162</th>\n",
       "      <td>2014</td>\n",
       "      <td>Asturias</td>\n",
       "      <td>Mujer</td>\n",
       "      <td>18000-99999</td>\n",
       "      <td>65 +</td>\n",
       "      <td>965.0</td>\n",
       "      <td>03</td>\n",
       "      <td>P70</td>\n",
       "      <td>Demencia</td>\n",
       "      <td>F00-F09</td>\n",
       "      <td>Trastornos mentales orgánicos, incluidos los t...</td>\n",
       "    </tr>\n",
       "  </tbody>\n",
       "</table>\n",
       "</div>"
      ],
      "text/plain": [
       "        Año      CCAA   Sexo  Nivel_Renta  Edad  Casos CodCA cod_salud  \\\n",
       "48162  2014  Asturias  Mujer  18000-99999  65 +  965.0    03       P70   \n",
       "\n",
       "      problema_salud    cei10  \\\n",
       "48162       Demencia  F00-F09   \n",
       "\n",
       "                                                   title  \n",
       "48162  Trastornos mentales orgánicos, incluidos los t...  "
      ]
     },
     "execution_count": 31,
     "metadata": {},
     "output_type": "execute_result"
    }
   ],
   "source": [
    "psico_prim.sample()"
   ]
  },
  {
   "cell_type": "markdown",
   "id": "6fcb6d6a",
   "metadata": {},
   "source": [
    "## tipo columna casos"
   ]
  },
  {
   "cell_type": "code",
   "execution_count": 32,
   "id": "bfb49faa",
   "metadata": {},
   "outputs": [],
   "source": [
    "psico_prim.Casos =psico_prim.Casos.astype('int64')"
   ]
  },
  {
   "cell_type": "code",
   "execution_count": 33,
   "id": "1721e148",
   "metadata": {},
   "outputs": [
    {
     "data": {
      "text/html": [
       "<div>\n",
       "<style scoped>\n",
       "    .dataframe tbody tr th:only-of-type {\n",
       "        vertical-align: middle;\n",
       "    }\n",
       "\n",
       "    .dataframe tbody tr th {\n",
       "        vertical-align: top;\n",
       "    }\n",
       "\n",
       "    .dataframe thead th {\n",
       "        text-align: right;\n",
       "    }\n",
       "</style>\n",
       "<table border=\"1\" class=\"dataframe\">\n",
       "  <thead>\n",
       "    <tr style=\"text-align: right;\">\n",
       "      <th></th>\n",
       "      <th>Año</th>\n",
       "      <th>CCAA</th>\n",
       "      <th>Sexo</th>\n",
       "      <th>Nivel_Renta</th>\n",
       "      <th>Edad</th>\n",
       "      <th>Casos</th>\n",
       "      <th>CodCA</th>\n",
       "      <th>cod_salud</th>\n",
       "      <th>problema_salud</th>\n",
       "      <th>cei10</th>\n",
       "      <th>title</th>\n",
       "    </tr>\n",
       "  </thead>\n",
       "  <tbody>\n",
       "    <tr>\n",
       "      <th>196912</th>\n",
       "      <td>2019</td>\n",
       "      <td>Castilla-La Mancha</td>\n",
       "      <td>Hombre</td>\n",
       "      <td>18000-99999</td>\n",
       "      <td>65 +</td>\n",
       "      <td>0</td>\n",
       "      <td>08</td>\n",
       "      <td>P12</td>\n",
       "      <td>Enuresis</td>\n",
       "      <td>F90-F98</td>\n",
       "      <td>Trastornos emocionales y del comportamiento qu...</td>\n",
       "    </tr>\n",
       "    <tr>\n",
       "      <th>122145</th>\n",
       "      <td>2016</td>\n",
       "      <td>Navarra</td>\n",
       "      <td>Mujer</td>\n",
       "      <td>- 18000</td>\n",
       "      <td>15-34</td>\n",
       "      <td>318</td>\n",
       "      <td>15</td>\n",
       "      <td>P02</td>\n",
       "      <td>Estrés agudo</td>\n",
       "      <td>F40-49</td>\n",
       "      <td>Trastornos neuróticos, trastornos relacionados...</td>\n",
       "    </tr>\n",
       "    <tr>\n",
       "      <th>199118</th>\n",
       "      <td>2019</td>\n",
       "      <td>Cataluña</td>\n",
       "      <td>Hombre</td>\n",
       "      <td>desconocida</td>\n",
       "      <td>65 +</td>\n",
       "      <td>0</td>\n",
       "      <td>09</td>\n",
       "      <td>P19</td>\n",
       "      <td>Abuso de drogas</td>\n",
       "      <td>F10-F19</td>\n",
       "      <td>Trastornos mentales y de comportamiento debido...</td>\n",
       "    </tr>\n",
       "    <tr>\n",
       "      <th>36257</th>\n",
       "      <td>2013</td>\n",
       "      <td>Extremadura</td>\n",
       "      <td>Mujer</td>\n",
       "      <td>muy_baja</td>\n",
       "      <td>15-34</td>\n",
       "      <td>0</td>\n",
       "      <td>11</td>\n",
       "      <td>P02</td>\n",
       "      <td>Estrés agudo</td>\n",
       "      <td>F40-49</td>\n",
       "      <td>Trastornos neuróticos, trastornos relacionados...</td>\n",
       "    </tr>\n",
       "    <tr>\n",
       "      <th>102367</th>\n",
       "      <td>2016</td>\n",
       "      <td>Baleares</td>\n",
       "      <td>Hombre</td>\n",
       "      <td>+ 100000</td>\n",
       "      <td>15-34</td>\n",
       "      <td>0</td>\n",
       "      <td>04</td>\n",
       "      <td>P27</td>\n",
       "      <td>Miedo a una enfermedad mental</td>\n",
       "      <td>F99</td>\n",
       "      <td>Trastornos mentales sin especificar</td>\n",
       "    </tr>\n",
       "  </tbody>\n",
       "</table>\n",
       "</div>"
      ],
      "text/plain": [
       "         Año                CCAA    Sexo  Nivel_Renta   Edad  Casos CodCA  \\\n",
       "196912  2019  Castilla-La Mancha  Hombre  18000-99999   65 +      0    08   \n",
       "122145  2016             Navarra   Mujer      - 18000  15-34    318    15   \n",
       "199118  2019            Cataluña  Hombre  desconocida   65 +      0    09   \n",
       "36257   2013         Extremadura   Mujer     muy_baja  15-34      0    11   \n",
       "102367  2016            Baleares  Hombre     + 100000  15-34      0    04   \n",
       "\n",
       "       cod_salud                 problema_salud    cei10  \\\n",
       "196912       P12                       Enuresis  F90-F98   \n",
       "122145       P02                   Estrés agudo   F40-49   \n",
       "199118       P19                Abuso de drogas  F10-F19   \n",
       "36257        P02                   Estrés agudo   F40-49   \n",
       "102367       P27  Miedo a una enfermedad mental      F99   \n",
       "\n",
       "                                                    title  \n",
       "196912  Trastornos emocionales y del comportamiento qu...  \n",
       "122145  Trastornos neuróticos, trastornos relacionados...  \n",
       "199118  Trastornos mentales y de comportamiento debido...  \n",
       "36257   Trastornos neuróticos, trastornos relacionados...  \n",
       "102367                Trastornos mentales sin especificar  "
      ]
     },
     "execution_count": 33,
     "metadata": {},
     "output_type": "execute_result"
    }
   ],
   "source": [
    "psico_prim.sample(5)"
   ]
  },
  {
   "cell_type": "code",
   "execution_count": 35,
   "id": "a53c0540",
   "metadata": {},
   "outputs": [],
   "source": [
    "psico_prim.to_csv('../data/psico_atprimaria.csv',index=False)"
   ]
  },
  {
   "cell_type": "code",
   "execution_count": null,
   "id": "d957ccdb",
   "metadata": {},
   "outputs": [],
   "source": []
  }
 ],
 "metadata": {
  "kernelspec": {
   "display_name": "ironhack",
   "language": "python",
   "name": "ironhack"
  },
  "language_info": {
   "codemirror_mode": {
    "name": "ipython",
    "version": 3
   },
   "file_extension": ".py",
   "mimetype": "text/x-python",
   "name": "python",
   "nbconvert_exporter": "python",
   "pygments_lexer": "ipython3",
   "version": "3.8.5"
  }
 },
 "nbformat": 4,
 "nbformat_minor": 5
}
