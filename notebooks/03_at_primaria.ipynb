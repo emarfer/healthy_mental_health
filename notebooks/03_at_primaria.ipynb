{
 "cells": [
  {
   "cell_type": "markdown",
   "id": "5f4721ab",
   "metadata": {},
   "source": [
    "# Atención primaria España"
   ]
  },
  {
   "cell_type": "code",
   "execution_count": 10,
   "id": "992f2138",
   "metadata": {},
   "outputs": [],
   "source": [
    "import pandas as pd\n",
    "import os\n",
    "import json"
   ]
  },
  {
   "cell_type": "markdown",
   "id": "0acfdd83",
   "metadata": {},
   "source": [
    "datos [porta estadístico](https://pestadistico.inteligenciadegestion.mscbs.es/publicoSNS/S/base-de-datos-de-clinicos-de-atencion-primaria-bdcap)"
   ]
  },
  {
   "cell_type": "markdown",
   "id": "c07d1405",
   "metadata": {},
   "source": [
    "# consulta de datasets"
   ]
  },
  {
   "cell_type": "code",
   "execution_count": 2,
   "id": "727dd1ae",
   "metadata": {},
   "outputs": [],
   "source": [
    "psico_prim = pd.read_excel('../data/at_primaria/detalles_psico.xlsx')"
   ]
  },
  {
   "cell_type": "code",
   "execution_count": 3,
   "id": "5f228cdb",
   "metadata": {},
   "outputs": [],
   "source": [
    "psico_prim.columns = psico_prim.columns.str.replace(\" \",'_')"
   ]
  },
  {
   "cell_type": "code",
   "execution_count": 4,
   "id": "20aa6181",
   "metadata": {},
   "outputs": [
    {
     "data": {
      "text/html": [
       "<div>\n",
       "<style scoped>\n",
       "    .dataframe tbody tr th:only-of-type {\n",
       "        vertical-align: middle;\n",
       "    }\n",
       "\n",
       "    .dataframe tbody tr th {\n",
       "        vertical-align: top;\n",
       "    }\n",
       "\n",
       "    .dataframe thead th {\n",
       "        text-align: right;\n",
       "    }\n",
       "</style>\n",
       "<table border=\"1\" class=\"dataframe\">\n",
       "  <thead>\n",
       "    <tr style=\"text-align: right;\">\n",
       "      <th></th>\n",
       "      <th>Año</th>\n",
       "      <th>CCAA</th>\n",
       "      <th>Sexo</th>\n",
       "      <th>Nivel_Renta</th>\n",
       "      <th>Grandes_Grupos</th>\n",
       "      <th>Problema_de_Salud</th>\n",
       "      <th>Casos</th>\n",
       "    </tr>\n",
       "  </thead>\n",
       "  <tbody>\n",
       "    <tr>\n",
       "      <th>160047</th>\n",
       "      <td>2018</td>\n",
       "      <td>03-Asturias</td>\n",
       "      <td>Mujer</td>\n",
       "      <td>&lt;18.000 ? /año</td>\n",
       "      <td>15-34 años</td>\n",
       "      <td>P20 - Trastornos de la memoria</td>\n",
       "      <td>429.0</td>\n",
       "    </tr>\n",
       "    <tr>\n",
       "      <th>188543</th>\n",
       "      <td>2019</td>\n",
       "      <td>03-Asturias</td>\n",
       "      <td>Hombre</td>\n",
       "      <td>&lt;18.000 ? /año</td>\n",
       "      <td>65 y más años</td>\n",
       "      <td>P04 - Sensación/sentimientos de irritabilidad/...</td>\n",
       "      <td>506.0</td>\n",
       "    </tr>\n",
       "    <tr>\n",
       "      <th>15829</th>\n",
       "      <td>2012</td>\n",
       "      <td>12-Galicia</td>\n",
       "      <td>Mujer</td>\n",
       "      <td>&lt;18.000 ? /año</td>\n",
       "      <td>15-34 años</td>\n",
       "      <td>P77 - Suicidio/intento de suicidio</td>\n",
       "      <td>NaN</td>\n",
       "    </tr>\n",
       "    <tr>\n",
       "      <th>170213</th>\n",
       "      <td>2018</td>\n",
       "      <td>09-Cataluña</td>\n",
       "      <td>Mujer</td>\n",
       "      <td>18.000-99.999 ? /año</td>\n",
       "      <td>15-34 años</td>\n",
       "      <td>P24 - Problemas específicos del aprendizaje</td>\n",
       "      <td>NaN</td>\n",
       "    </tr>\n",
       "    <tr>\n",
       "      <th>22534</th>\n",
       "      <td>2013</td>\n",
       "      <td>03-Asturias</td>\n",
       "      <td>Mujer</td>\n",
       "      <td>?100.000 ? /año</td>\n",
       "      <td>65 y más años</td>\n",
       "      <td>P07 - Disminución del deseo sexual</td>\n",
       "      <td>NaN</td>\n",
       "    </tr>\n",
       "  </tbody>\n",
       "</table>\n",
       "</div>"
      ],
      "text/plain": [
       "         Año         CCAA    Sexo           Nivel_Renta Grandes_Grupos  \\\n",
       "160047  2018  03-Asturias   Mujer        <18.000 ? /año     15-34 años   \n",
       "188543  2019  03-Asturias  Hombre        <18.000 ? /año  65 y más años   \n",
       "15829   2012   12-Galicia   Mujer        <18.000 ? /año     15-34 años   \n",
       "170213  2018  09-Cataluña   Mujer  18.000-99.999 ? /año     15-34 años   \n",
       "22534   2013  03-Asturias   Mujer       ?100.000 ? /año  65 y más años   \n",
       "\n",
       "                                        Problema_de_Salud  Casos  \n",
       "160047                     P20 - Trastornos de la memoria  429.0  \n",
       "188543  P04 - Sensación/sentimientos de irritabilidad/...  506.0  \n",
       "15829                  P77 - Suicidio/intento de suicidio    NaN  \n",
       "170213        P24 - Problemas específicos del aprendizaje    NaN  \n",
       "22534                  P07 - Disminución del deseo sexual    NaN  "
      ]
     },
     "execution_count": 4,
     "metadata": {},
     "output_type": "execute_result"
    }
   ],
   "source": [
    "psico_prim.sample(5)"
   ]
  },
  {
   "cell_type": "code",
   "execution_count": 5,
   "id": "ff0ea5a7",
   "metadata": {},
   "outputs": [
    {
     "data": {
      "text/plain": [
       "Año                       0\n",
       "CCAA                      0\n",
       "Sexo                      0\n",
       "Nivel_Renta               0\n",
       "Grandes_Grupos            0\n",
       "Problema_de_Salud         0\n",
       "Casos                182993\n",
       "dtype: int64"
      ]
     },
     "execution_count": 5,
     "metadata": {},
     "output_type": "execute_result"
    }
   ],
   "source": [
    "psico_prim.isna().sum()"
   ]
  },
  {
   "cell_type": "code",
   "execution_count": 6,
   "id": "04bdcdf8",
   "metadata": {
    "scrolled": true
   },
   "outputs": [
    {
     "name": "stdout",
     "output_type": "stream",
     "text": [
      "<class 'pandas.core.frame.DataFrame'>\n",
      "RangeIndex: 213840 entries, 0 to 213839\n",
      "Data columns (total 7 columns):\n",
      " #   Column             Non-Null Count   Dtype  \n",
      "---  ------             --------------   -----  \n",
      " 0   Año                213840 non-null  int64  \n",
      " 1   CCAA               213840 non-null  object \n",
      " 2   Sexo               213840 non-null  object \n",
      " 3   Nivel_Renta        213840 non-null  object \n",
      " 4   Grandes_Grupos     213840 non-null  object \n",
      " 5   Problema_de_Salud  213840 non-null  object \n",
      " 6   Casos              30847 non-null   float64\n",
      "dtypes: float64(1), int64(1), object(5)\n",
      "memory usage: 11.4+ MB\n"
     ]
    }
   ],
   "source": [
    "psico_prim.info()"
   ]
  },
  {
   "cell_type": "code",
   "execution_count": 7,
   "id": "b98d2fd0",
   "metadata": {},
   "outputs": [
    {
     "data": {
      "text/plain": [
       "Index(['Año', 'CCAA', 'Sexo', 'Nivel_Renta', 'Grandes_Grupos',\n",
       "       'Problema_de_Salud', 'Casos'],\n",
       "      dtype='object')"
      ]
     },
     "execution_count": 7,
     "metadata": {},
     "output_type": "execute_result"
    }
   ],
   "source": [
    "psico_prim.columns"
   ]
  },
  {
   "cell_type": "markdown",
   "id": "ce5299bc",
   "metadata": {},
   "source": [
    "## cambiamos algunos datos categóricos"
   ]
  },
  {
   "cell_type": "code",
   "execution_count": 8,
   "id": "fa67cac9",
   "metadata": {},
   "outputs": [],
   "source": [
    "psico_prim[[\"CodCA\",\"CCAA\"]] = psico_prim.CCAA.str.split(\"-\",expand=True)"
   ]
  },
  {
   "cell_type": "code",
   "execution_count": null,
   "id": "841b063e",
   "metadata": {},
   "outputs": [],
   "source": [
    "# usamos geojson de comunidades para poner el nombre a las comunidades"
   ]
  },
  {
   "cell_type": "code",
   "execution_count": 11,
   "id": "758e6a2f",
   "metadata": {},
   "outputs": [],
   "source": [
    "#diccionario\n",
    "geo_json = r\"../data/socioecon/comunidades.geojson\"\n",
    "with open (geo_json) as geo_file:\n",
    "    comunidades = json.load(geo_file)"
   ]
  },
  {
   "cell_type": "code",
   "execution_count": 15,
   "id": "064358dc",
   "metadata": {},
   "outputs": [
    {
     "data": {
      "text/plain": [
       "{'cod_ccaa': '07',\n",
       " 'noml_ccaa': 'COMUNIDAD DE CASTILLA Y LEON',\n",
       " 'name': 'Castilla-Leon',\n",
       " 'cartodb_id': 7,\n",
       " 'created_at': '2014-09-30T00:00:00Z',\n",
       " 'updated_at': '2014-12-25T02:07:41Z'}"
      ]
     },
     "execution_count": 15,
     "metadata": {},
     "output_type": "execute_result"
    }
   ],
   "source": [
    "comunidades['features'][0]['properties']"
   ]
  },
  {
   "cell_type": "code",
   "execution_count": 22,
   "id": "90e951c6",
   "metadata": {},
   "outputs": [],
   "source": [
    "cod_com = {}\n",
    "for i in range(19):    \n",
    "    cod_com[comunidades['features'][i]['properties']['cod_ccaa']] = comunidades['features'][i]['properties']['name']"
   ]
  },
  {
   "cell_type": "code",
   "execution_count": 25,
   "id": "a35a0c1e",
   "metadata": {},
   "outputs": [],
   "source": [
    "psico_prim['CCAA'] = psico_prim.CodCA.map(cod_com)"
   ]
  },
  {
   "cell_type": "code",
   "execution_count": 27,
   "id": "5f8dc258",
   "metadata": {},
   "outputs": [
    {
     "data": {
      "text/plain": [
       "['Sin Clasificar',\n",
       " '?100.000 ? /año',\n",
       " '18.000-99.999 ? /año',\n",
       " '<18.000 ? /año',\n",
       " 'Muy baja']"
      ]
     },
     "execution_count": 27,
     "metadata": {},
     "output_type": "execute_result"
    }
   ],
   "source": [
    "list(psico_prim.Nivel_Renta.unique())"
   ]
  },
  {
   "cell_type": "code",
   "execution_count": 28,
   "id": "5c2619a1",
   "metadata": {},
   "outputs": [],
   "source": [
    "renta ={'Sin Clasificar':'desconocida',\n",
    " '?100.000 ? /año': '+ 100000',\n",
    " '18.000-99.999 ? /año': '18000-99999',\n",
    " '<18.000 ? /año':'- 18000',\n",
    " 'Muy baja':'muy_baja'}"
   ]
  },
  {
   "cell_type": "code",
   "execution_count": 29,
   "id": "c57a3d70",
   "metadata": {},
   "outputs": [],
   "source": [
    "psico_prim.Nivel_Renta = psico_prim.Nivel_Renta.replace(renta)"
   ]
  },
  {
   "cell_type": "code",
   "execution_count": 30,
   "id": "bf087a2d",
   "metadata": {},
   "outputs": [],
   "source": [
    "psico_prim.Grandes_Grupos = psico_prim.Grandes_Grupos.str.extract(r'(\\d+-*\\d+)')\n",
    "psico_prim.rename({\"Grandes_Grupos\":\"Edad\"},axis = 1,inplace = True)\n",
    "psico_prim.Edad.replace('65','65 +', inplace = True)"
   ]
  },
  {
   "cell_type": "code",
   "execution_count": 31,
   "id": "894ccd18",
   "metadata": {},
   "outputs": [
    {
     "data": {
      "text/html": [
       "<div>\n",
       "<style scoped>\n",
       "    .dataframe tbody tr th:only-of-type {\n",
       "        vertical-align: middle;\n",
       "    }\n",
       "\n",
       "    .dataframe tbody tr th {\n",
       "        vertical-align: top;\n",
       "    }\n",
       "\n",
       "    .dataframe thead th {\n",
       "        text-align: right;\n",
       "    }\n",
       "</style>\n",
       "<table border=\"1\" class=\"dataframe\">\n",
       "  <thead>\n",
       "    <tr style=\"text-align: right;\">\n",
       "      <th></th>\n",
       "      <th>Año</th>\n",
       "      <th>CCAA</th>\n",
       "      <th>Sexo</th>\n",
       "      <th>Nivel_Renta</th>\n",
       "      <th>Edad</th>\n",
       "      <th>Problema_de_Salud</th>\n",
       "      <th>Casos</th>\n",
       "      <th>CodCA</th>\n",
       "    </tr>\n",
       "  </thead>\n",
       "  <tbody>\n",
       "    <tr>\n",
       "      <th>114639</th>\n",
       "      <td>2016</td>\n",
       "      <td>Extremadura</td>\n",
       "      <td>Hombre</td>\n",
       "      <td>muy_baja</td>\n",
       "      <td>00-14</td>\n",
       "      <td>P20 - Trastornos de la memoria</td>\n",
       "      <td>NaN</td>\n",
       "      <td>11</td>\n",
       "    </tr>\n",
       "    <tr>\n",
       "      <th>91412</th>\n",
       "      <td>2015</td>\n",
       "      <td>Madrid</td>\n",
       "      <td>Mujer</td>\n",
       "      <td>+ 100000</td>\n",
       "      <td>35-64</td>\n",
       "      <td>P28 - Incapacidad/minusvalía mental</td>\n",
       "      <td>NaN</td>\n",
       "      <td>13</td>\n",
       "    </tr>\n",
       "    <tr>\n",
       "      <th>206044</th>\n",
       "      <td>2019</td>\n",
       "      <td>Madrid</td>\n",
       "      <td>Hombre</td>\n",
       "      <td>desconocida</td>\n",
       "      <td>65 +</td>\n",
       "      <td>P80 - Trastornos de la personalidad</td>\n",
       "      <td>NaN</td>\n",
       "      <td>13</td>\n",
       "    </tr>\n",
       "    <tr>\n",
       "      <th>186835</th>\n",
       "      <td>2019</td>\n",
       "      <td>Aragon</td>\n",
       "      <td>Hombre</td>\n",
       "      <td>muy_baja</td>\n",
       "      <td>00-14</td>\n",
       "      <td>P11 - Problemas de la conducta alimentaria en ...</td>\n",
       "      <td>NaN</td>\n",
       "      <td>02</td>\n",
       "    </tr>\n",
       "    <tr>\n",
       "      <th>160440</th>\n",
       "      <td>2018</td>\n",
       "      <td>Asturias</td>\n",
       "      <td>Mujer</td>\n",
       "      <td>desconocida</td>\n",
       "      <td>65 +</td>\n",
       "      <td>P17 - Abuso del tabaco</td>\n",
       "      <td>NaN</td>\n",
       "      <td>03</td>\n",
       "    </tr>\n",
       "  </tbody>\n",
       "</table>\n",
       "</div>"
      ],
      "text/plain": [
       "         Año         CCAA    Sexo  Nivel_Renta   Edad  \\\n",
       "114639  2016  Extremadura  Hombre     muy_baja  00-14   \n",
       "91412   2015       Madrid   Mujer     + 100000  35-64   \n",
       "206044  2019       Madrid  Hombre  desconocida   65 +   \n",
       "186835  2019       Aragon  Hombre     muy_baja  00-14   \n",
       "160440  2018     Asturias   Mujer  desconocida   65 +   \n",
       "\n",
       "                                        Problema_de_Salud  Casos CodCA  \n",
       "114639                     P20 - Trastornos de la memoria    NaN    11  \n",
       "91412                 P28 - Incapacidad/minusvalía mental    NaN    13  \n",
       "206044                P80 - Trastornos de la personalidad    NaN    13  \n",
       "186835  P11 - Problemas de la conducta alimentaria en ...    NaN    02  \n",
       "160440                             P17 - Abuso del tabaco    NaN    03  "
      ]
     },
     "execution_count": 31,
     "metadata": {},
     "output_type": "execute_result"
    }
   ],
   "source": [
    "psico_prim.sample(5)"
   ]
  },
  {
   "cell_type": "code",
   "execution_count": 32,
   "id": "7b0a9136",
   "metadata": {},
   "outputs": [
    {
     "data": {
      "text/plain": [
       "Año                       0\n",
       "CCAA                      0\n",
       "Sexo                      0\n",
       "Nivel_Renta               0\n",
       "Edad                      0\n",
       "Problema_de_Salud         0\n",
       "Casos                182993\n",
       "CodCA                     0\n",
       "dtype: int64"
      ]
     },
     "execution_count": 32,
     "metadata": {},
     "output_type": "execute_result"
    }
   ],
   "source": [
    "psico_prim.isna().sum()"
   ]
  },
  {
   "cell_type": "code",
   "execution_count": 33,
   "id": "efde2bdf",
   "metadata": {},
   "outputs": [],
   "source": [
    "psico_prim.Casos.fillna(0.,inplace = True)"
   ]
  },
  {
   "cell_type": "code",
   "execution_count": 34,
   "id": "637a5b0a",
   "metadata": {},
   "outputs": [],
   "source": [
    "psico_prim[[\"cod_salud\",\"problema_salud\"]]= psico_prim.Problema_de_Salud.str.split(\" - \",expand=True)"
   ]
  },
  {
   "cell_type": "code",
   "execution_count": 35,
   "id": "fd212db9",
   "metadata": {},
   "outputs": [],
   "source": [
    "psico_prim.drop('Problema_de_Salud',axis=1,inplace = True)"
   ]
  },
  {
   "cell_type": "markdown",
   "id": "e6a72b2d",
   "metadata": {},
   "source": [
    "## equivalencias codigos diagnósticos con CEI10"
   ]
  },
  {
   "cell_type": "code",
   "execution_count": 36,
   "id": "24570a0b",
   "metadata": {},
   "outputs": [],
   "source": [
    "trans_cod = {'P01': 'F40-49','P02': 'F40-49','P03': 'F40-49','P04': 'F40-49','P05':'F00-F09','P06': 'F30-39','P07': 'F30-39',\n",
    "'P08': 'F30-39','P09': 'F30-39','P09-07': 'F30-39','P10': 'F90-F98','P11': 'F90-F98','P12': 'F90-F98','P13': 'F90-F98',\n",
    "'P15': 'F10-F19','P16': 'F10-F19','P17': 'F10-F19','P18': 'F10-F19','P19': 'F10-F19','P20':'F00-F09','P22+23': 'F90-F98',\n",
    "'P24': 'F80-89','P25': 'F60-69','P27': 'F99','P28': 'F70-79','P29': 'F99','P70':'F00-F09','P71': 'F20-29','P72': 'F20-29',\n",
    "'P73': 'F20-29','P74': 'F40-49','P75': 'F40-49','P76': 'F30-39','P77': 'F30-39','P78': 'F40-49','P79': 'F40-49','P80': 'F60-69',\n",
    "'P81': 'F90-F98','P82': 'F40-49','P82/02': 'F40-49','P85': 'F70-79','P86': 'F50-59','P98': 'F20-29','P99': 'F99',\n",
    "}"
   ]
  },
  {
   "cell_type": "code",
   "execution_count": 37,
   "id": "07869206",
   "metadata": {},
   "outputs": [],
   "source": [
    "psico_prim['cei10'] = psico_prim.cod_salud.map(trans_cod)"
   ]
  },
  {
   "cell_type": "code",
   "execution_count": 38,
   "id": "b0a2c630",
   "metadata": {},
   "outputs": [
    {
     "data": {
      "text/html": [
       "<div>\n",
       "<style scoped>\n",
       "    .dataframe tbody tr th:only-of-type {\n",
       "        vertical-align: middle;\n",
       "    }\n",
       "\n",
       "    .dataframe tbody tr th {\n",
       "        vertical-align: top;\n",
       "    }\n",
       "\n",
       "    .dataframe thead th {\n",
       "        text-align: right;\n",
       "    }\n",
       "</style>\n",
       "<table border=\"1\" class=\"dataframe\">\n",
       "  <thead>\n",
       "    <tr style=\"text-align: right;\">\n",
       "      <th></th>\n",
       "      <th>Año</th>\n",
       "      <th>CCAA</th>\n",
       "      <th>Sexo</th>\n",
       "      <th>Nivel_Renta</th>\n",
       "      <th>Edad</th>\n",
       "      <th>Casos</th>\n",
       "      <th>CodCA</th>\n",
       "      <th>cod_salud</th>\n",
       "      <th>problema_salud</th>\n",
       "      <th>cei10</th>\n",
       "    </tr>\n",
       "  </thead>\n",
       "  <tbody>\n",
       "    <tr>\n",
       "      <th>131823</th>\n",
       "      <td>2017</td>\n",
       "      <td>Baleares</td>\n",
       "      <td>Hombre</td>\n",
       "      <td>- 18000</td>\n",
       "      <td>65 +</td>\n",
       "      <td>306.0</td>\n",
       "      <td>04</td>\n",
       "      <td>P99</td>\n",
       "      <td>Otros problemas psicológicos/mentales</td>\n",
       "      <td>F99</td>\n",
       "    </tr>\n",
       "  </tbody>\n",
       "</table>\n",
       "</div>"
      ],
      "text/plain": [
       "         Año      CCAA    Sexo Nivel_Renta  Edad  Casos CodCA cod_salud  \\\n",
       "131823  2017  Baleares  Hombre     - 18000  65 +  306.0    04       P99   \n",
       "\n",
       "                               problema_salud cei10  \n",
       "131823  Otros problemas psicológicos/mentales   F99  "
      ]
     },
     "execution_count": 38,
     "metadata": {},
     "output_type": "execute_result"
    }
   ],
   "source": [
    "psico_prim.sample()"
   ]
  },
  {
   "cell_type": "markdown",
   "id": "6fcb6d6a",
   "metadata": {},
   "source": [
    "## tipo columna casos"
   ]
  },
  {
   "cell_type": "code",
   "execution_count": 39,
   "id": "bfb49faa",
   "metadata": {},
   "outputs": [],
   "source": [
    "psico_prim.Casos =psico_prim.Casos.astype('int64')"
   ]
  },
  {
   "cell_type": "code",
   "execution_count": 40,
   "id": "1721e148",
   "metadata": {},
   "outputs": [
    {
     "data": {
      "text/html": [
       "<div>\n",
       "<style scoped>\n",
       "    .dataframe tbody tr th:only-of-type {\n",
       "        vertical-align: middle;\n",
       "    }\n",
       "\n",
       "    .dataframe tbody tr th {\n",
       "        vertical-align: top;\n",
       "    }\n",
       "\n",
       "    .dataframe thead th {\n",
       "        text-align: right;\n",
       "    }\n",
       "</style>\n",
       "<table border=\"1\" class=\"dataframe\">\n",
       "  <thead>\n",
       "    <tr style=\"text-align: right;\">\n",
       "      <th></th>\n",
       "      <th>Año</th>\n",
       "      <th>CCAA</th>\n",
       "      <th>Sexo</th>\n",
       "      <th>Nivel_Renta</th>\n",
       "      <th>Edad</th>\n",
       "      <th>Casos</th>\n",
       "      <th>CodCA</th>\n",
       "      <th>cod_salud</th>\n",
       "      <th>problema_salud</th>\n",
       "      <th>cei10</th>\n",
       "    </tr>\n",
       "  </thead>\n",
       "  <tbody>\n",
       "    <tr>\n",
       "      <th>6935</th>\n",
       "      <td>2012</td>\n",
       "      <td>Canarias</td>\n",
       "      <td>Mujer</td>\n",
       "      <td>+ 100000</td>\n",
       "      <td>65 +</td>\n",
       "      <td>0</td>\n",
       "      <td>05</td>\n",
       "      <td>P71</td>\n",
       "      <td>Otras psicosis orgánicas</td>\n",
       "      <td>F20-29</td>\n",
       "    </tr>\n",
       "    <tr>\n",
       "      <th>75419</th>\n",
       "      <td>2015</td>\n",
       "      <td>Asturias</td>\n",
       "      <td>Mujer</td>\n",
       "      <td>muy_baja</td>\n",
       "      <td>65 +</td>\n",
       "      <td>0</td>\n",
       "      <td>03</td>\n",
       "      <td>P04</td>\n",
       "      <td>Sensación/sentimientos de irritabilidad/enojo</td>\n",
       "      <td>F40-49</td>\n",
       "    </tr>\n",
       "    <tr>\n",
       "      <th>31932</th>\n",
       "      <td>2013</td>\n",
       "      <td>Cataluña</td>\n",
       "      <td>Hombre</td>\n",
       "      <td>18000-99999</td>\n",
       "      <td>15-34</td>\n",
       "      <td>0</td>\n",
       "      <td>09</td>\n",
       "      <td>P76</td>\n",
       "      <td>Depresión/trastornos depresivos</td>\n",
       "      <td>F30-39</td>\n",
       "    </tr>\n",
       "    <tr>\n",
       "      <th>28940</th>\n",
       "      <td>2013</td>\n",
       "      <td>Castilla-Leon</td>\n",
       "      <td>Hombre</td>\n",
       "      <td>muy_baja</td>\n",
       "      <td>15-34</td>\n",
       "      <td>0</td>\n",
       "      <td>07</td>\n",
       "      <td>P76</td>\n",
       "      <td>Depresión/trastornos depresivos</td>\n",
       "      <td>F30-39</td>\n",
       "    </tr>\n",
       "    <tr>\n",
       "      <th>139839</th>\n",
       "      <td>2017</td>\n",
       "      <td>Castilla-La Mancha</td>\n",
       "      <td>Mujer</td>\n",
       "      <td>desconocida</td>\n",
       "      <td>15-34</td>\n",
       "      <td>0</td>\n",
       "      <td>08</td>\n",
       "      <td>P08</td>\n",
       "      <td>Ausencia/pérdida de la satisfación sexual</td>\n",
       "      <td>F30-39</td>\n",
       "    </tr>\n",
       "  </tbody>\n",
       "</table>\n",
       "</div>"
      ],
      "text/plain": [
       "         Año                CCAA    Sexo  Nivel_Renta   Edad  Casos CodCA  \\\n",
       "6935    2012            Canarias   Mujer     + 100000   65 +      0    05   \n",
       "75419   2015            Asturias   Mujer     muy_baja   65 +      0    03   \n",
       "31932   2013            Cataluña  Hombre  18000-99999  15-34      0    09   \n",
       "28940   2013       Castilla-Leon  Hombre     muy_baja  15-34      0    07   \n",
       "139839  2017  Castilla-La Mancha   Mujer  desconocida  15-34      0    08   \n",
       "\n",
       "       cod_salud                                 problema_salud   cei10  \n",
       "6935         P71                       Otras psicosis orgánicas  F20-29  \n",
       "75419        P04  Sensación/sentimientos de irritabilidad/enojo  F40-49  \n",
       "31932        P76                Depresión/trastornos depresivos  F30-39  \n",
       "28940        P76                Depresión/trastornos depresivos  F30-39  \n",
       "139839       P08      Ausencia/pérdida de la satisfación sexual  F30-39  "
      ]
     },
     "execution_count": 40,
     "metadata": {},
     "output_type": "execute_result"
    }
   ],
   "source": [
    "psico_prim.sample(5)"
   ]
  },
  {
   "cell_type": "code",
   "execution_count": 41,
   "id": "a53c0540",
   "metadata": {},
   "outputs": [],
   "source": [
    "psico_prim.to_csv('../data/psico_atprimaria.csv',index=False)"
   ]
  },
  {
   "cell_type": "code",
   "execution_count": null,
   "id": "d957ccdb",
   "metadata": {},
   "outputs": [],
   "source": []
  }
 ],
 "metadata": {
  "kernelspec": {
   "display_name": "ironhack",
   "language": "python",
   "name": "ironhack"
  },
  "language_info": {
   "codemirror_mode": {
    "name": "ipython",
    "version": 3
   },
   "file_extension": ".py",
   "mimetype": "text/x-python",
   "name": "python",
   "nbconvert_exporter": "python",
   "pygments_lexer": "ipython3",
   "version": "3.8.5"
  }
 },
 "nbformat": 4,
 "nbformat_minor": 5
}
