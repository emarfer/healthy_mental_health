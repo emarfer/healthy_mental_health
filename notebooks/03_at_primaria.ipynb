{
 "cells": [
  {
   "cell_type": "markdown",
   "metadata": {},
   "source": [
    "# Atención primaria España"
   ]
  },
  {
   "cell_type": "code",
   "execution_count": 1,
   "metadata": {},
   "outputs": [],
   "source": [
    "import pandas as pd\n",
    "import os"
   ]
  },
  {
   "cell_type": "markdown",
   "metadata": {},
   "source": [
    "datos [porta estadístico](https://pestadistico.inteligenciadegestion.mscbs.es/publicoSNS/S/base-de-datos-de-clinicos-de-atencion-primaria-bdcap)"
   ]
  },
  {
   "cell_type": "code",
   "execution_count": 2,
   "metadata": {},
   "outputs": [],
   "source": [
    "#consulta de datasets"
   ]
  },
  {
   "cell_type": "code",
   "execution_count": 3,
   "metadata": {},
   "outputs": [],
   "source": [
    "# os.listdir('../data/at_primaria')\n",
    "#'at_primaria.csv' = at_prim.xlsx"
   ]
  },
  {
   "cell_type": "code",
   "execution_count": 4,
   "metadata": {},
   "outputs": [],
   "source": [
    "psico_prim = pd.read_excel('../data/at_primaria/detalles_psico.xlsx')"
   ]
  },
  {
   "cell_type": "code",
   "execution_count": 5,
   "metadata": {},
   "outputs": [],
   "source": [
    "\n",
    "psico_prim.columns = psico_prim.columns.str.replace(\" \",'_')"
   ]
  },
  {
   "cell_type": "code",
   "execution_count": 6,
   "metadata": {},
   "outputs": [
    {
     "data": {
      "text/html": [
       "<div>\n",
       "<style scoped>\n",
       "    .dataframe tbody tr th:only-of-type {\n",
       "        vertical-align: middle;\n",
       "    }\n",
       "\n",
       "    .dataframe tbody tr th {\n",
       "        vertical-align: top;\n",
       "    }\n",
       "\n",
       "    .dataframe thead th {\n",
       "        text-align: right;\n",
       "    }\n",
       "</style>\n",
       "<table border=\"1\" class=\"dataframe\">\n",
       "  <thead>\n",
       "    <tr style=\"text-align: right;\">\n",
       "      <th></th>\n",
       "      <th>Año</th>\n",
       "      <th>CCAA</th>\n",
       "      <th>Sexo</th>\n",
       "      <th>Nivel_Renta</th>\n",
       "      <th>Grandes_Grupos</th>\n",
       "      <th>Problema_de_Salud</th>\n",
       "      <th>Casos</th>\n",
       "    </tr>\n",
       "  </thead>\n",
       "  <tbody>\n",
       "    <tr>\n",
       "      <th>95432</th>\n",
       "      <td>2015</td>\n",
       "      <td>15-Navarra</td>\n",
       "      <td>Mujer</td>\n",
       "      <td>Sin Clasificar</td>\n",
       "      <td>00-14 años</td>\n",
       "      <td>P85 - Retraso mental</td>\n",
       "      <td>NaN</td>\n",
       "    </tr>\n",
       "    <tr>\n",
       "      <th>25904</th>\n",
       "      <td>2013</td>\n",
       "      <td>05-Canarias</td>\n",
       "      <td>Mujer</td>\n",
       "      <td>?100.000 ? /año</td>\n",
       "      <td>00-14 años</td>\n",
       "      <td>P76 - Depresión/trastornos depresivos</td>\n",
       "      <td>NaN</td>\n",
       "    </tr>\n",
       "    <tr>\n",
       "      <th>196399</th>\n",
       "      <td>2019</td>\n",
       "      <td>07-Castilla y León</td>\n",
       "      <td>Mujer</td>\n",
       "      <td>Muy baja</td>\n",
       "      <td>35-64 años</td>\n",
       "      <td>P71 - Otras psicosis orgánicas</td>\n",
       "      <td>NaN</td>\n",
       "    </tr>\n",
       "    <tr>\n",
       "      <th>170506</th>\n",
       "      <td>2018</td>\n",
       "      <td>09-Cataluña</td>\n",
       "      <td>Mujer</td>\n",
       "      <td>Muy baja</td>\n",
       "      <td>00-14 años</td>\n",
       "      <td>P07 - Disminución del deseo sexual</td>\n",
       "      <td>NaN</td>\n",
       "    </tr>\n",
       "    <tr>\n",
       "      <th>139320</th>\n",
       "      <td>2017</td>\n",
       "      <td>08-Castilla la Mancha</td>\n",
       "      <td>Mujer</td>\n",
       "      <td>18.000-99.999 ? /año</td>\n",
       "      <td>15-34 años</td>\n",
       "      <td>P17 - Abuso del tabaco</td>\n",
       "      <td>NaN</td>\n",
       "    </tr>\n",
       "  </tbody>\n",
       "</table>\n",
       "</div>"
      ],
      "text/plain": [
       "         Año                   CCAA   Sexo           Nivel_Renta  \\\n",
       "95432   2015             15-Navarra  Mujer        Sin Clasificar   \n",
       "25904   2013            05-Canarias  Mujer       ?100.000 ? /año   \n",
       "196399  2019     07-Castilla y León  Mujer              Muy baja   \n",
       "170506  2018            09-Cataluña  Mujer              Muy baja   \n",
       "139320  2017  08-Castilla la Mancha  Mujer  18.000-99.999 ? /año   \n",
       "\n",
       "       Grandes_Grupos                      Problema_de_Salud  Casos  \n",
       "95432      00-14 años                   P85 - Retraso mental    NaN  \n",
       "25904      00-14 años  P76 - Depresión/trastornos depresivos    NaN  \n",
       "196399     35-64 años         P71 - Otras psicosis orgánicas    NaN  \n",
       "170506     00-14 años     P07 - Disminución del deseo sexual    NaN  \n",
       "139320     15-34 años                 P17 - Abuso del tabaco    NaN  "
      ]
     },
     "execution_count": 6,
     "metadata": {},
     "output_type": "execute_result"
    }
   ],
   "source": [
    "psico_prim.sample(5)"
   ]
  },
  {
   "cell_type": "code",
   "execution_count": 7,
   "metadata": {},
   "outputs": [
    {
     "data": {
      "text/plain": [
       "Año                       0\n",
       "CCAA                      0\n",
       "Sexo                      0\n",
       "Nivel_Renta               0\n",
       "Grandes_Grupos            0\n",
       "Problema_de_Salud         0\n",
       "Casos                182993\n",
       "dtype: int64"
      ]
     },
     "execution_count": 7,
     "metadata": {},
     "output_type": "execute_result"
    }
   ],
   "source": [
    "psico_prim.isna().sum()"
   ]
  },
  {
   "cell_type": "code",
   "execution_count": 8,
   "metadata": {},
   "outputs": [
    {
     "data": {
      "text/plain": [
       "(213840, 7)"
      ]
     },
     "execution_count": 8,
     "metadata": {},
     "output_type": "execute_result"
    }
   ],
   "source": [
    "psico_prim.shape"
   ]
  },
  {
   "cell_type": "code",
   "execution_count": 9,
   "metadata": {},
   "outputs": [
    {
     "name": "stdout",
     "output_type": "stream",
     "text": [
      "<class 'pandas.core.frame.DataFrame'>\n",
      "RangeIndex: 213840 entries, 0 to 213839\n",
      "Data columns (total 7 columns):\n",
      " #   Column             Non-Null Count   Dtype  \n",
      "---  ------             --------------   -----  \n",
      " 0   Año                213840 non-null  int64  \n",
      " 1   CCAA               213840 non-null  object \n",
      " 2   Sexo               213840 non-null  object \n",
      " 3   Nivel_Renta        213840 non-null  object \n",
      " 4   Grandes_Grupos     213840 non-null  object \n",
      " 5   Problema_de_Salud  213840 non-null  object \n",
      " 6   Casos              30847 non-null   float64\n",
      "dtypes: float64(1), int64(1), object(5)\n",
      "memory usage: 11.4+ MB\n"
     ]
    }
   ],
   "source": [
    "psico_prim.info()"
   ]
  },
  {
   "cell_type": "code",
   "execution_count": 10,
   "metadata": {},
   "outputs": [
    {
     "data": {
      "text/plain": [
       "['02-Aragón',\n",
       " '04-Baleares',\n",
       " '05-Canarias',\n",
       " '07-Castilla y León',\n",
       " '09-Cataluña',\n",
       " '12-Galicia',\n",
       " '16-País Vasco',\n",
       " '08-Castilla la Mancha',\n",
       " '10-Comunidad Valenciana',\n",
       " '15-Navarra',\n",
       " '03-Asturias',\n",
       " '06-Cantabria',\n",
       " '11-Extremadura',\n",
       " '13-Madrid',\n",
       " '14-Murcia',\n",
       " '01-Andalucía',\n",
       " '17-La Rioja']"
      ]
     },
     "execution_count": 10,
     "metadata": {},
     "output_type": "execute_result"
    }
   ],
   "source": [
    "list(psico_prim.CCAA.unique())"
   ]
  },
  {
   "cell_type": "code",
   "execution_count": 11,
   "metadata": {},
   "outputs": [],
   "source": [
    "#psico_prim.CCAA=psico_prim.CCAA.str.extract(r'([A-Z][a-z].*)')"
   ]
  },
  {
   "cell_type": "code",
   "execution_count": 12,
   "metadata": {},
   "outputs": [],
   "source": [
    "psico_prim[[\"CodCA\",\"CCAA\"]] = psico_prim.CCAA.str.split(\"-\",expand=True)"
   ]
  },
  {
   "cell_type": "code",
   "execution_count": 13,
   "metadata": {},
   "outputs": [
    {
     "data": {
      "text/plain": [
       "['Sin Clasificar',\n",
       " '?100.000 ? /año',\n",
       " '18.000-99.999 ? /año',\n",
       " '<18.000 ? /año',\n",
       " 'Muy baja']"
      ]
     },
     "execution_count": 13,
     "metadata": {},
     "output_type": "execute_result"
    }
   ],
   "source": [
    "list(psico_prim.Nivel_Renta.unique())"
   ]
  },
  {
   "cell_type": "code",
   "execution_count": 14,
   "metadata": {},
   "outputs": [],
   "source": [
    "renta ={'Sin Clasificar':'desconocida',\n",
    " '?100.000 ? /año': '+ 100000',\n",
    " '18.000-99.999 ? /año': '18000-99999',\n",
    " '<18.000 ? /año':'- 18000',\n",
    " 'Muy baja':'muy_baja'}"
   ]
  },
  {
   "cell_type": "code",
   "execution_count": 15,
   "metadata": {},
   "outputs": [],
   "source": [
    "psico_prim.Nivel_Renta = psico_prim.Nivel_Renta.replace(renta)"
   ]
  },
  {
   "cell_type": "code",
   "execution_count": 16,
   "metadata": {},
   "outputs": [],
   "source": [
    "psico_prim.Grandes_Grupos = psico_prim.Grandes_Grupos.str.extract(r'(\\d+-*\\d+)')\n",
    "psico_prim.rename({\"Grandes_Grupos\":\"Edad\"},axis = 1,inplace = True)\n",
    "psico_prim.Edad.replace('65','65 +', inplace = True)"
   ]
  },
  {
   "cell_type": "code",
   "execution_count": null,
   "metadata": {},
   "outputs": [],
   "source": []
  },
  {
   "cell_type": "code",
   "execution_count": 17,
   "metadata": {},
   "outputs": [
    {
     "data": {
      "text/html": [
       "<div>\n",
       "<style scoped>\n",
       "    .dataframe tbody tr th:only-of-type {\n",
       "        vertical-align: middle;\n",
       "    }\n",
       "\n",
       "    .dataframe tbody tr th {\n",
       "        vertical-align: top;\n",
       "    }\n",
       "\n",
       "    .dataframe thead th {\n",
       "        text-align: right;\n",
       "    }\n",
       "</style>\n",
       "<table border=\"1\" class=\"dataframe\">\n",
       "  <thead>\n",
       "    <tr style=\"text-align: right;\">\n",
       "      <th></th>\n",
       "      <th>Año</th>\n",
       "      <th>CCAA</th>\n",
       "      <th>Sexo</th>\n",
       "      <th>Nivel_Renta</th>\n",
       "      <th>Edad</th>\n",
       "      <th>Problema_de_Salud</th>\n",
       "      <th>Casos</th>\n",
       "      <th>CodCA</th>\n",
       "    </tr>\n",
       "  </thead>\n",
       "  <tbody>\n",
       "    <tr>\n",
       "      <th>107450</th>\n",
       "      <td>2016</td>\n",
       "      <td>Castilla y León</td>\n",
       "      <td>Hombre</td>\n",
       "      <td>+ 100000</td>\n",
       "      <td>00-14</td>\n",
       "      <td>P03 - Sensación/sentimientos depresivos</td>\n",
       "      <td>NaN</td>\n",
       "      <td>07</td>\n",
       "    </tr>\n",
       "    <tr>\n",
       "      <th>73574</th>\n",
       "      <td>2015</td>\n",
       "      <td>Aragón</td>\n",
       "      <td>Mujer</td>\n",
       "      <td>- 18000</td>\n",
       "      <td>00-14</td>\n",
       "      <td>P07 - Disminución del deseo sexual</td>\n",
       "      <td>NaN</td>\n",
       "      <td>02</td>\n",
       "    </tr>\n",
       "    <tr>\n",
       "      <th>61195</th>\n",
       "      <td>2014</td>\n",
       "      <td>Extremadura</td>\n",
       "      <td>Mujer</td>\n",
       "      <td>18000-99999</td>\n",
       "      <td>00-14</td>\n",
       "      <td>P79 - Fobia/trastorno compulsivo</td>\n",
       "      <td>NaN</td>\n",
       "      <td>11</td>\n",
       "    </tr>\n",
       "    <tr>\n",
       "      <th>26781</th>\n",
       "      <td>2013</td>\n",
       "      <td>Cantabria</td>\n",
       "      <td>Hombre</td>\n",
       "      <td>+ 100000</td>\n",
       "      <td>00-14</td>\n",
       "      <td>P73 - Psicosis afectivas</td>\n",
       "      <td>NaN</td>\n",
       "      <td>06</td>\n",
       "    </tr>\n",
       "    <tr>\n",
       "      <th>144889</th>\n",
       "      <td>2017</td>\n",
       "      <td>Extremadura</td>\n",
       "      <td>Mujer</td>\n",
       "      <td>desconocida</td>\n",
       "      <td>35-64</td>\n",
       "      <td>P86 - Anorexia nerviosa/bulimia</td>\n",
       "      <td>NaN</td>\n",
       "      <td>11</td>\n",
       "    </tr>\n",
       "  </tbody>\n",
       "</table>\n",
       "</div>"
      ],
      "text/plain": [
       "         Año             CCAA    Sexo  Nivel_Renta   Edad  \\\n",
       "107450  2016  Castilla y León  Hombre     + 100000  00-14   \n",
       "73574   2015           Aragón   Mujer      - 18000  00-14   \n",
       "61195   2014      Extremadura   Mujer  18000-99999  00-14   \n",
       "26781   2013        Cantabria  Hombre     + 100000  00-14   \n",
       "144889  2017      Extremadura   Mujer  desconocida  35-64   \n",
       "\n",
       "                              Problema_de_Salud  Casos CodCA  \n",
       "107450  P03 - Sensación/sentimientos depresivos    NaN    07  \n",
       "73574        P07 - Disminución del deseo sexual    NaN    02  \n",
       "61195          P79 - Fobia/trastorno compulsivo    NaN    11  \n",
       "26781                  P73 - Psicosis afectivas    NaN    06  \n",
       "144889          P86 - Anorexia nerviosa/bulimia    NaN    11  "
      ]
     },
     "execution_count": 17,
     "metadata": {},
     "output_type": "execute_result"
    }
   ],
   "source": [
    "psico_prim.sample(5)"
   ]
  },
  {
   "cell_type": "code",
   "execution_count": 18,
   "metadata": {},
   "outputs": [
    {
     "data": {
      "text/plain": [
       "array([ 284.,   nan, 1305., ...,  159.,   91., 4646.])"
      ]
     },
     "execution_count": 18,
     "metadata": {},
     "output_type": "execute_result"
    }
   ],
   "source": [
    "psico_prim.Casos.unique()"
   ]
  },
  {
   "cell_type": "code",
   "execution_count": 19,
   "metadata": {},
   "outputs": [],
   "source": [
    "psico_prim.Casos.fillna(0.,inplace = True)"
   ]
  },
  {
   "cell_type": "code",
   "execution_count": 20,
   "metadata": {},
   "outputs": [],
   "source": [
    "psico_prim[[\"cod\",\"diag\"]]= psico_prim.Problema_de_Salud.str.split(\" - \",expand=True)"
   ]
  },
  {
   "cell_type": "code",
   "execution_count": 21,
   "metadata": {},
   "outputs": [
    {
     "data": {
      "text/html": [
       "<div>\n",
       "<style scoped>\n",
       "    .dataframe tbody tr th:only-of-type {\n",
       "        vertical-align: middle;\n",
       "    }\n",
       "\n",
       "    .dataframe tbody tr th {\n",
       "        vertical-align: top;\n",
       "    }\n",
       "\n",
       "    .dataframe thead th {\n",
       "        text-align: right;\n",
       "    }\n",
       "</style>\n",
       "<table border=\"1\" class=\"dataframe\">\n",
       "  <thead>\n",
       "    <tr style=\"text-align: right;\">\n",
       "      <th></th>\n",
       "      <th>Año</th>\n",
       "      <th>CCAA</th>\n",
       "      <th>Problema_de_Salud</th>\n",
       "      <th>Casos</th>\n",
       "    </tr>\n",
       "  </thead>\n",
       "  <tbody>\n",
       "    <tr>\n",
       "      <th>0</th>\n",
       "      <td>2011</td>\n",
       "      <td>Aragón</td>\n",
       "      <td>P01 - Sensación de ansiedad/tensión/nerviosismo</td>\n",
       "      <td>122032.0</td>\n",
       "    </tr>\n",
       "    <tr>\n",
       "      <th>1</th>\n",
       "      <td>2011</td>\n",
       "      <td>Aragón</td>\n",
       "      <td>P02 - Estrés agudo</td>\n",
       "      <td>2976.0</td>\n",
       "    </tr>\n",
       "    <tr>\n",
       "      <th>2</th>\n",
       "      <td>2011</td>\n",
       "      <td>Aragón</td>\n",
       "      <td>P03 - Sensación/sentimientos depresivos</td>\n",
       "      <td>6784.0</td>\n",
       "    </tr>\n",
       "    <tr>\n",
       "      <th>3</th>\n",
       "      <td>2011</td>\n",
       "      <td>Aragón</td>\n",
       "      <td>P04 - Sensación/sentimientos de irritabilidad/...</td>\n",
       "      <td>2207.0</td>\n",
       "    </tr>\n",
       "    <tr>\n",
       "      <th>4</th>\n",
       "      <td>2011</td>\n",
       "      <td>Aragón</td>\n",
       "      <td>P05 - Sentimientos/conducta senil</td>\n",
       "      <td>0.0</td>\n",
       "    </tr>\n",
       "    <tr>\n",
       "      <th>...</th>\n",
       "      <td>...</td>\n",
       "      <td>...</td>\n",
       "      <td>...</td>\n",
       "      <td>...</td>\n",
       "    </tr>\n",
       "    <tr>\n",
       "      <th>5759</th>\n",
       "      <td>2019</td>\n",
       "      <td>País Vasco</td>\n",
       "      <td>P82/02 - Reacción de adaptación no incluida en...</td>\n",
       "      <td>138393.0</td>\n",
       "    </tr>\n",
       "    <tr>\n",
       "      <th>5760</th>\n",
       "      <td>2019</td>\n",
       "      <td>País Vasco</td>\n",
       "      <td>P85 - Retraso mental</td>\n",
       "      <td>1609.0</td>\n",
       "    </tr>\n",
       "    <tr>\n",
       "      <th>5761</th>\n",
       "      <td>2019</td>\n",
       "      <td>País Vasco</td>\n",
       "      <td>P86 - Anorexia nerviosa/bulimia</td>\n",
       "      <td>847.0</td>\n",
       "    </tr>\n",
       "    <tr>\n",
       "      <th>5762</th>\n",
       "      <td>2019</td>\n",
       "      <td>País Vasco</td>\n",
       "      <td>P98 - Otras psicosis no especificadas</td>\n",
       "      <td>3939.0</td>\n",
       "    </tr>\n",
       "    <tr>\n",
       "      <th>5763</th>\n",
       "      <td>2019</td>\n",
       "      <td>País Vasco</td>\n",
       "      <td>P99 - Otros problemas psicológicos/mentales</td>\n",
       "      <td>1786.0</td>\n",
       "    </tr>\n",
       "  </tbody>\n",
       "</table>\n",
       "<p>5764 rows × 4 columns</p>\n",
       "</div>"
      ],
      "text/plain": [
       "       Año        CCAA                                  Problema_de_Salud  \\\n",
       "0     2011      Aragón    P01 - Sensación de ansiedad/tensión/nerviosismo   \n",
       "1     2011      Aragón                                 P02 - Estrés agudo   \n",
       "2     2011      Aragón            P03 - Sensación/sentimientos depresivos   \n",
       "3     2011      Aragón  P04 - Sensación/sentimientos de irritabilidad/...   \n",
       "4     2011      Aragón                  P05 - Sentimientos/conducta senil   \n",
       "...    ...         ...                                                ...   \n",
       "5759  2019  País Vasco  P82/02 - Reacción de adaptación no incluida en...   \n",
       "5760  2019  País Vasco                               P85 - Retraso mental   \n",
       "5761  2019  País Vasco                    P86 - Anorexia nerviosa/bulimia   \n",
       "5762  2019  País Vasco              P98 - Otras psicosis no especificadas   \n",
       "5763  2019  País Vasco        P99 - Otros problemas psicológicos/mentales   \n",
       "\n",
       "         Casos  \n",
       "0     122032.0  \n",
       "1       2976.0  \n",
       "2       6784.0  \n",
       "3       2207.0  \n",
       "4          0.0  \n",
       "...        ...  \n",
       "5759  138393.0  \n",
       "5760    1609.0  \n",
       "5761     847.0  \n",
       "5762    3939.0  \n",
       "5763    1786.0  \n",
       "\n",
       "[5764 rows x 4 columns]"
      ]
     },
     "execution_count": 21,
     "metadata": {},
     "output_type": "execute_result"
    }
   ],
   "source": [
    "psico_prim.groupby([\"Año\",\"CCAA\",\"Problema_de_Salud\"]).agg({\"Casos\":\"sum\"}).reset_index()"
   ]
  },
  {
   "cell_type": "code",
   "execution_count": 22,
   "metadata": {},
   "outputs": [
    {
     "data": {
      "text/plain": [
       "307385.0"
      ]
     },
     "execution_count": 22,
     "metadata": {},
     "output_type": "execute_result"
    }
   ],
   "source": [
    "psico_prim.Casos.max()"
   ]
  },
  {
   "cell_type": "code",
   "execution_count": 23,
   "metadata": {},
   "outputs": [],
   "source": [
    "capV = {'F00-F09': 'Trastornos mentales orgánicos, incluidos los trastornos sintomáticos',\n",
    " 'F10-F19': 'Trastornos mentales y de comportamiento debidos al consumo de psicotrópicos',\n",
    " 'F20-29': 'Esquizofrenia, trastornos esquizotípicos y trastornos delirantes',\n",
    " 'F30-39': 'Trastornos del estado de animo, trastornos afectivos',\n",
    " 'F40-49': 'Trastornos neuróticos, trastornos relacionados con el estrés y trastornos somatomorfos',\n",
    " 'F50-59': 'Síndromes del comportamiento asociados con alteraciones fisiológicas y factores físicos',\n",
    " 'F60-69': 'Trastornos de la personalidad y del comportamiento en adultos',\n",
    " 'F70-79': 'Retraso mental',\n",
    " 'F80-89': 'Trastornos del desarrollo psicológico',\n",
    " 'F90-F98': 'Trastornos emocionales y del comportamiento que aparecen habitualmente en la niñez o en la adolescencia',\n",
    " 'F99': 'Trastornos mentales sin especificar'}"
   ]
  },
  {
   "cell_type": "code",
   "execution_count": 24,
   "metadata": {},
   "outputs": [],
   "source": [
    "trans_cod = {'P01': 'F40-49','P02': 'F40-49','P03': 'F40-49','P04': 'F40-49','P05':'F00-F09','P06': 'F30-39','P07': 'F30-39',\n",
    "'P08': 'F30-39','P09': 'F30-39','P09-07': 'F30-39','P10': 'F90-F98','P11': 'F90-F98','P12': 'F90-F98','P13': 'F90-F98',\n",
    "'P15': 'F10-F19','P16': 'F10-F19','P17': 'F10-F19','P18': 'F10-F19','P19': 'F10-F19','P20':'F00-F09','P22+23': 'F90-F98',\n",
    "'P24': 'F80-89','P25': 'F60-69','P27': 'F99','P28': 'F70-79','P29': 'F99','P70':'F00-F09','P71': 'F20-29','P72': 'F20-29',\n",
    "'P73': 'F20-29','P74': 'F40-49','P75': 'F40-49','P76': 'F30-39','P77': 'F30-39','P78': 'F40-49','P79': 'F40-49','P80': 'F60-69',\n",
    "'P81': 'F90-F98','P82': 'F40-49','P82/02': 'F40-49','P85': 'F70-79','P86': 'F50-59','P98': 'F20-29','P99': 'F99',\n",
    "}"
   ]
  },
  {
   "cell_type": "code",
   "execution_count": 25,
   "metadata": {},
   "outputs": [],
   "source": [
    "psico_prim['cei10'] = psico_prim.cod.replace(trans_cod)"
   ]
  },
  {
   "cell_type": "code",
   "execution_count": 26,
   "metadata": {},
   "outputs": [],
   "source": [
    "psico_prim[\"cei10diag\"] = psico_prim.cei10.replace(capV)"
   ]
  },
  {
   "cell_type": "code",
   "execution_count": 27,
   "metadata": {},
   "outputs": [],
   "source": [
    "psico_prim.drop('Problema_de_Salud',axis=1,inplace=True)"
   ]
  },
  {
   "cell_type": "code",
   "execution_count": 28,
   "metadata": {},
   "outputs": [],
   "source": [
    "psico_prim.Casos =psico_prim.Casos.astype('int64')"
   ]
  },
  {
   "cell_type": "code",
   "execution_count": 29,
   "metadata": {},
   "outputs": [
    {
     "data": {
      "text/html": [
       "<div>\n",
       "<style scoped>\n",
       "    .dataframe tbody tr th:only-of-type {\n",
       "        vertical-align: middle;\n",
       "    }\n",
       "\n",
       "    .dataframe tbody tr th {\n",
       "        vertical-align: top;\n",
       "    }\n",
       "\n",
       "    .dataframe thead th {\n",
       "        text-align: right;\n",
       "    }\n",
       "</style>\n",
       "<table border=\"1\" class=\"dataframe\">\n",
       "  <thead>\n",
       "    <tr style=\"text-align: right;\">\n",
       "      <th></th>\n",
       "      <th>Año</th>\n",
       "      <th>CCAA</th>\n",
       "      <th>Sexo</th>\n",
       "      <th>Nivel_Renta</th>\n",
       "      <th>Edad</th>\n",
       "      <th>Casos</th>\n",
       "      <th>CodCA</th>\n",
       "      <th>cod</th>\n",
       "      <th>diag</th>\n",
       "      <th>cei10</th>\n",
       "      <th>cei10diag</th>\n",
       "    </tr>\n",
       "  </thead>\n",
       "  <tbody>\n",
       "    <tr>\n",
       "      <th>26847</th>\n",
       "      <td>2013</td>\n",
       "      <td>Cantabria</td>\n",
       "      <td>Hombre</td>\n",
       "      <td>+ 100000</td>\n",
       "      <td>35-64</td>\n",
       "      <td>0</td>\n",
       "      <td>06</td>\n",
       "      <td>P08</td>\n",
       "      <td>Ausencia/pérdida de la satisfación sexual</td>\n",
       "      <td>F30-39</td>\n",
       "      <td>Trastornos del estado de animo, trastornos afe...</td>\n",
       "    </tr>\n",
       "    <tr>\n",
       "      <th>141745</th>\n",
       "      <td>2017</td>\n",
       "      <td>Comunidad Valenciana</td>\n",
       "      <td>Hombre</td>\n",
       "      <td>+ 100000</td>\n",
       "      <td>35-64</td>\n",
       "      <td>0</td>\n",
       "      <td>10</td>\n",
       "      <td>P24</td>\n",
       "      <td>Problemas específicos del aprendizaje</td>\n",
       "      <td>F80-89</td>\n",
       "      <td>Trastornos del desarrollo psicológico</td>\n",
       "    </tr>\n",
       "    <tr>\n",
       "      <th>206270</th>\n",
       "      <td>2019</td>\n",
       "      <td>Madrid</td>\n",
       "      <td>Mujer</td>\n",
       "      <td>18000-99999</td>\n",
       "      <td>00-14</td>\n",
       "      <td>0</td>\n",
       "      <td>13</td>\n",
       "      <td>P98</td>\n",
       "      <td>Otras psicosis no especificadas</td>\n",
       "      <td>F20-29</td>\n",
       "      <td>Esquizofrenia, trastornos esquizotípicos y tra...</td>\n",
       "    </tr>\n",
       "    <tr>\n",
       "      <th>201977</th>\n",
       "      <td>2019</td>\n",
       "      <td>Extremadura</td>\n",
       "      <td>Hombre</td>\n",
       "      <td>18000-99999</td>\n",
       "      <td>15-34</td>\n",
       "      <td>0</td>\n",
       "      <td>11</td>\n",
       "      <td>P18</td>\n",
       "      <td>Abuso de fármacos</td>\n",
       "      <td>F10-F19</td>\n",
       "      <td>Trastornos mentales y de comportamiento debido...</td>\n",
       "    </tr>\n",
       "    <tr>\n",
       "      <th>84256</th>\n",
       "      <td>2015</td>\n",
       "      <td>Cataluña</td>\n",
       "      <td>Hombre</td>\n",
       "      <td>- 18000</td>\n",
       "      <td>15-34</td>\n",
       "      <td>681</td>\n",
       "      <td>09</td>\n",
       "      <td>P85</td>\n",
       "      <td>Retraso mental</td>\n",
       "      <td>F70-79</td>\n",
       "      <td>Retraso mental</td>\n",
       "    </tr>\n",
       "  </tbody>\n",
       "</table>\n",
       "</div>"
      ],
      "text/plain": [
       "         Año                  CCAA    Sexo  Nivel_Renta   Edad  Casos CodCA  \\\n",
       "26847   2013             Cantabria  Hombre     + 100000  35-64      0    06   \n",
       "141745  2017  Comunidad Valenciana  Hombre     + 100000  35-64      0    10   \n",
       "206270  2019                Madrid   Mujer  18000-99999  00-14      0    13   \n",
       "201977  2019           Extremadura  Hombre  18000-99999  15-34      0    11   \n",
       "84256   2015              Cataluña  Hombre      - 18000  15-34    681    09   \n",
       "\n",
       "        cod                                       diag    cei10  \\\n",
       "26847   P08  Ausencia/pérdida de la satisfación sexual   F30-39   \n",
       "141745  P24      Problemas específicos del aprendizaje   F80-89   \n",
       "206270  P98            Otras psicosis no especificadas   F20-29   \n",
       "201977  P18                          Abuso de fármacos  F10-F19   \n",
       "84256   P85                             Retraso mental   F70-79   \n",
       "\n",
       "                                                cei10diag  \n",
       "26847   Trastornos del estado de animo, trastornos afe...  \n",
       "141745              Trastornos del desarrollo psicológico  \n",
       "206270  Esquizofrenia, trastornos esquizotípicos y tra...  \n",
       "201977  Trastornos mentales y de comportamiento debido...  \n",
       "84256                                      Retraso mental  "
      ]
     },
     "execution_count": 29,
     "metadata": {},
     "output_type": "execute_result"
    }
   ],
   "source": [
    "psico_prim.sample(5)"
   ]
  },
  {
   "cell_type": "code",
   "execution_count": 30,
   "metadata": {},
   "outputs": [],
   "source": [
    "psico_prim= psico_prim.iloc[:, [0,1,6,2,3,4,7,8,9,10,5]]  "
   ]
  },
  {
   "cell_type": "code",
   "execution_count": 31,
   "metadata": {},
   "outputs": [],
   "source": [
    "psico_prim.to_csv('../data/psico_atprimaria.csv',index=False)"
   ]
  },
  {
   "cell_type": "code",
   "execution_count": null,
   "metadata": {},
   "outputs": [],
   "source": []
  }
 ],
 "metadata": {
  "kernelspec": {
   "display_name": "ironhack",
   "language": "python",
   "name": "ironhack"
  },
  "language_info": {
   "codemirror_mode": {
    "name": "ipython",
    "version": 3
   },
   "file_extension": ".py",
   "mimetype": "text/x-python",
   "name": "python",
   "nbconvert_exporter": "python",
   "pygments_lexer": "ipython3",
   "version": "3.8.5"
  }
 },
 "nbformat": 4,
 "nbformat_minor": 5
}
