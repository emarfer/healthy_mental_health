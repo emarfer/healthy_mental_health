{
 "cells": [
  {
   "cell_type": "markdown",
   "id": "5f4721ab",
   "metadata": {},
   "source": [
    "# Atención primaria España"
   ]
  },
  {
   "cell_type": "code",
   "execution_count": 1,
   "id": "992f2138",
   "metadata": {},
   "outputs": [],
   "source": [
    "import pandas as pd\n",
    "import os\n",
    "import json"
   ]
  },
  {
   "cell_type": "markdown",
   "id": "0acfdd83",
   "metadata": {},
   "source": [
    "datos [porta estadístico](https://pestadistico.inteligenciadegestion.mscbs.es/publicoSNS/S/base-de-datos-de-clinicos-de-atencion-primaria-bdcap)"
   ]
  },
  {
   "cell_type": "markdown",
   "id": "c07d1405",
   "metadata": {},
   "source": [
    "# consulta de datasets"
   ]
  },
  {
   "cell_type": "code",
   "execution_count": 2,
   "id": "727dd1ae",
   "metadata": {},
   "outputs": [],
   "source": [
    "psico_prim = pd.read_excel('../data/at_primaria/detalles_psico.xlsx')"
   ]
  },
  {
   "cell_type": "code",
   "execution_count": 3,
   "id": "5f228cdb",
   "metadata": {},
   "outputs": [],
   "source": [
    "psico_prim.columns = psico_prim.columns.str.replace(\" \",'_')"
   ]
  },
  {
   "cell_type": "code",
   "execution_count": 4,
   "id": "20aa6181",
   "metadata": {},
   "outputs": [
    {
     "data": {
      "text/html": [
       "<div>\n",
       "<style scoped>\n",
       "    .dataframe tbody tr th:only-of-type {\n",
       "        vertical-align: middle;\n",
       "    }\n",
       "\n",
       "    .dataframe tbody tr th {\n",
       "        vertical-align: top;\n",
       "    }\n",
       "\n",
       "    .dataframe thead th {\n",
       "        text-align: right;\n",
       "    }\n",
       "</style>\n",
       "<table border=\"1\" class=\"dataframe\">\n",
       "  <thead>\n",
       "    <tr style=\"text-align: right;\">\n",
       "      <th></th>\n",
       "      <th>Año</th>\n",
       "      <th>CCAA</th>\n",
       "      <th>Sexo</th>\n",
       "      <th>Nivel_Renta</th>\n",
       "      <th>Grandes_Grupos</th>\n",
       "      <th>Problema_de_Salud</th>\n",
       "      <th>Casos</th>\n",
       "    </tr>\n",
       "  </thead>\n",
       "  <tbody>\n",
       "    <tr>\n",
       "      <th>157405</th>\n",
       "      <td>2018</td>\n",
       "      <td>02-Aragón</td>\n",
       "      <td>Hombre</td>\n",
       "      <td>18.000-99.999 ? /año</td>\n",
       "      <td>65 y más años</td>\n",
       "      <td>P18 - Abuso de fármacos</td>\n",
       "      <td>NaN</td>\n",
       "    </tr>\n",
       "    <tr>\n",
       "      <th>199990</th>\n",
       "      <td>2019</td>\n",
       "      <td>10-Comunidad Valenciana</td>\n",
       "      <td>Hombre</td>\n",
       "      <td>?100.000 ? /año</td>\n",
       "      <td>00-14 años</td>\n",
       "      <td>P10 - Tartamudeo, disfemia espasmódica, tics</td>\n",
       "      <td>NaN</td>\n",
       "    </tr>\n",
       "    <tr>\n",
       "      <th>186554</th>\n",
       "      <td>2019</td>\n",
       "      <td>02-Aragón</td>\n",
       "      <td>Hombre</td>\n",
       "      <td>18.000-99.999 ? /año</td>\n",
       "      <td>15-34 años</td>\n",
       "      <td>P82 - Estrés postraumático</td>\n",
       "      <td>NaN</td>\n",
       "    </tr>\n",
       "    <tr>\n",
       "      <th>141413</th>\n",
       "      <td>2017</td>\n",
       "      <td>09-Cataluña</td>\n",
       "      <td>Mujer</td>\n",
       "      <td>Muy baja</td>\n",
       "      <td>00-14 años</td>\n",
       "      <td>P86 - Anorexia nerviosa/bulimia</td>\n",
       "      <td>NaN</td>\n",
       "    </tr>\n",
       "    <tr>\n",
       "      <th>4495</th>\n",
       "      <td>2012</td>\n",
       "      <td>04-Baleares</td>\n",
       "      <td>Hombre</td>\n",
       "      <td>18.000-99.999 ? /año</td>\n",
       "      <td>65 y más años</td>\n",
       "      <td>P08 - Ausencia/pérdida de la satisfación sexual</td>\n",
       "      <td>NaN</td>\n",
       "    </tr>\n",
       "  </tbody>\n",
       "</table>\n",
       "</div>"
      ],
      "text/plain": [
       "         Año                     CCAA    Sexo           Nivel_Renta  \\\n",
       "157405  2018                02-Aragón  Hombre  18.000-99.999 ? /año   \n",
       "199990  2019  10-Comunidad Valenciana  Hombre       ?100.000 ? /año   \n",
       "186554  2019                02-Aragón  Hombre  18.000-99.999 ? /año   \n",
       "141413  2017              09-Cataluña   Mujer              Muy baja   \n",
       "4495    2012              04-Baleares  Hombre  18.000-99.999 ? /año   \n",
       "\n",
       "       Grandes_Grupos                                Problema_de_Salud  Casos  \n",
       "157405  65 y más años                          P18 - Abuso de fármacos    NaN  \n",
       "199990     00-14 años     P10 - Tartamudeo, disfemia espasmódica, tics    NaN  \n",
       "186554     15-34 años                       P82 - Estrés postraumático    NaN  \n",
       "141413     00-14 años                  P86 - Anorexia nerviosa/bulimia    NaN  \n",
       "4495    65 y más años  P08 - Ausencia/pérdida de la satisfación sexual    NaN  "
      ]
     },
     "execution_count": 4,
     "metadata": {},
     "output_type": "execute_result"
    }
   ],
   "source": [
    "psico_prim.sample(5)"
   ]
  },
  {
   "cell_type": "code",
   "execution_count": 5,
   "id": "ff0ea5a7",
   "metadata": {},
   "outputs": [
    {
     "data": {
      "text/plain": [
       "Año                       0\n",
       "CCAA                      0\n",
       "Sexo                      0\n",
       "Nivel_Renta               0\n",
       "Grandes_Grupos            0\n",
       "Problema_de_Salud         0\n",
       "Casos                182993\n",
       "dtype: int64"
      ]
     },
     "execution_count": 5,
     "metadata": {},
     "output_type": "execute_result"
    }
   ],
   "source": [
    "psico_prim.isna().sum()"
   ]
  },
  {
   "cell_type": "code",
   "execution_count": 6,
   "id": "04bdcdf8",
   "metadata": {
    "scrolled": true
   },
   "outputs": [
    {
     "name": "stdout",
     "output_type": "stream",
     "text": [
      "<class 'pandas.core.frame.DataFrame'>\n",
      "RangeIndex: 213840 entries, 0 to 213839\n",
      "Data columns (total 7 columns):\n",
      " #   Column             Non-Null Count   Dtype  \n",
      "---  ------             --------------   -----  \n",
      " 0   Año                213840 non-null  int64  \n",
      " 1   CCAA               213840 non-null  object \n",
      " 2   Sexo               213840 non-null  object \n",
      " 3   Nivel_Renta        213840 non-null  object \n",
      " 4   Grandes_Grupos     213840 non-null  object \n",
      " 5   Problema_de_Salud  213840 non-null  object \n",
      " 6   Casos              30847 non-null   float64\n",
      "dtypes: float64(1), int64(1), object(5)\n",
      "memory usage: 11.4+ MB\n"
     ]
    }
   ],
   "source": [
    "psico_prim.info()"
   ]
  },
  {
   "cell_type": "code",
   "execution_count": 7,
   "id": "b98d2fd0",
   "metadata": {},
   "outputs": [
    {
     "data": {
      "text/plain": [
       "Index(['Año', 'CCAA', 'Sexo', 'Nivel_Renta', 'Grandes_Grupos',\n",
       "       'Problema_de_Salud', 'Casos'],\n",
       "      dtype='object')"
      ]
     },
     "execution_count": 7,
     "metadata": {},
     "output_type": "execute_result"
    }
   ],
   "source": [
    "psico_prim.columns"
   ]
  },
  {
   "cell_type": "markdown",
   "id": "ce5299bc",
   "metadata": {},
   "source": [
    "## cambiamos algunos datos categóricos"
   ]
  },
  {
   "cell_type": "code",
   "execution_count": 8,
   "id": "fa67cac9",
   "metadata": {},
   "outputs": [],
   "source": [
    "psico_prim[[\"CodCA\",\"CCAA\"]] = psico_prim.CCAA.str.split(\"-\",expand=True)"
   ]
  },
  {
   "cell_type": "code",
   "execution_count": 9,
   "id": "841b063e",
   "metadata": {},
   "outputs": [],
   "source": [
    "# usamos geojson de comunidades para poner el nombre a las comunidades"
   ]
  },
  {
   "cell_type": "code",
   "execution_count": 10,
   "id": "758e6a2f",
   "metadata": {},
   "outputs": [],
   "source": [
    "#diccionario\n",
    "geo_json = r\"../data/socioecon/comunidades.geojson\"\n",
    "with open (geo_json) as geo_file:\n",
    "    comunidades = json.load(geo_file)"
   ]
  },
  {
   "cell_type": "code",
   "execution_count": 11,
   "id": "064358dc",
   "metadata": {},
   "outputs": [
    {
     "data": {
      "text/plain": [
       "{'cod_ccaa': '07',\n",
       " 'noml_ccaa': 'COMUNIDAD DE CASTILLA Y LEON',\n",
       " 'name': 'Castilla-Leon',\n",
       " 'cartodb_id': 7,\n",
       " 'created_at': '2014-09-30T00:00:00Z',\n",
       " 'updated_at': '2014-12-25T02:07:41Z'}"
      ]
     },
     "execution_count": 11,
     "metadata": {},
     "output_type": "execute_result"
    }
   ],
   "source": [
    "comunidades['features'][0]['properties']"
   ]
  },
  {
   "cell_type": "code",
   "execution_count": 12,
   "id": "90e951c6",
   "metadata": {},
   "outputs": [],
   "source": [
    "cod_com = {}\n",
    "for i in range(19):    \n",
    "    cod_com[comunidades['features'][i]['properties']['cod_ccaa']] = comunidades['features'][i]['properties']['name']"
   ]
  },
  {
   "cell_type": "code",
   "execution_count": 13,
   "id": "a35a0c1e",
   "metadata": {},
   "outputs": [],
   "source": [
    "psico_prim['CCAA'] = psico_prim.CodCA.map(cod_com)"
   ]
  },
  {
   "cell_type": "code",
   "execution_count": 14,
   "id": "5f8dc258",
   "metadata": {},
   "outputs": [
    {
     "data": {
      "text/plain": [
       "['Sin Clasificar',\n",
       " '?100.000 ? /año',\n",
       " '18.000-99.999 ? /año',\n",
       " '<18.000 ? /año',\n",
       " 'Muy baja']"
      ]
     },
     "execution_count": 14,
     "metadata": {},
     "output_type": "execute_result"
    }
   ],
   "source": [
    "list(psico_prim.Nivel_Renta.unique())"
   ]
  },
  {
   "cell_type": "code",
   "execution_count": 15,
   "id": "5c2619a1",
   "metadata": {},
   "outputs": [],
   "source": [
    "renta ={'Sin Clasificar':'desconocida',\n",
    " '?100.000 ? /año': '+ 100000',\n",
    " '18.000-99.999 ? /año': '18000-99999',\n",
    " '<18.000 ? /año':'- 18000',\n",
    " 'Muy baja':'muy_baja'}"
   ]
  },
  {
   "cell_type": "code",
   "execution_count": 16,
   "id": "c57a3d70",
   "metadata": {},
   "outputs": [],
   "source": [
    "psico_prim.Nivel_Renta = psico_prim.Nivel_Renta.replace(renta)"
   ]
  },
  {
   "cell_type": "code",
   "execution_count": 17,
   "id": "bf087a2d",
   "metadata": {},
   "outputs": [],
   "source": [
    "psico_prim.Grandes_Grupos = psico_prim.Grandes_Grupos.str.extract(r'(\\d+-*\\d+)')\n",
    "psico_prim.rename({\"Grandes_Grupos\":\"Edad\"},axis = 1,inplace = True)\n",
    "psico_prim.Edad.replace('65','65 +', inplace = True)"
   ]
  },
  {
   "cell_type": "code",
   "execution_count": 18,
   "id": "894ccd18",
   "metadata": {},
   "outputs": [
    {
     "data": {
      "text/html": [
       "<div>\n",
       "<style scoped>\n",
       "    .dataframe tbody tr th:only-of-type {\n",
       "        vertical-align: middle;\n",
       "    }\n",
       "\n",
       "    .dataframe tbody tr th {\n",
       "        vertical-align: top;\n",
       "    }\n",
       "\n",
       "    .dataframe thead th {\n",
       "        text-align: right;\n",
       "    }\n",
       "</style>\n",
       "<table border=\"1\" class=\"dataframe\">\n",
       "  <thead>\n",
       "    <tr style=\"text-align: right;\">\n",
       "      <th></th>\n",
       "      <th>Año</th>\n",
       "      <th>CCAA</th>\n",
       "      <th>Sexo</th>\n",
       "      <th>Nivel_Renta</th>\n",
       "      <th>Edad</th>\n",
       "      <th>Problema_de_Salud</th>\n",
       "      <th>Casos</th>\n",
       "      <th>CodCA</th>\n",
       "    </tr>\n",
       "  </thead>\n",
       "  <tbody>\n",
       "    <tr>\n",
       "      <th>150945</th>\n",
       "      <td>2017</td>\n",
       "      <td>Navarra</td>\n",
       "      <td>Hombre</td>\n",
       "      <td>desconocida</td>\n",
       "      <td>15-34</td>\n",
       "      <td>P29 - Otros signos/síntomas psicológicos/mentales</td>\n",
       "      <td>NaN</td>\n",
       "      <td>15</td>\n",
       "    </tr>\n",
       "    <tr>\n",
       "      <th>40654</th>\n",
       "      <td>2013</td>\n",
       "      <td>Murcia</td>\n",
       "      <td>Hombre</td>\n",
       "      <td>muy_baja</td>\n",
       "      <td>00-14</td>\n",
       "      <td>P98 - Otras psicosis no especificadas</td>\n",
       "      <td>NaN</td>\n",
       "      <td>14</td>\n",
       "    </tr>\n",
       "    <tr>\n",
       "      <th>128846</th>\n",
       "      <td>2017</td>\n",
       "      <td>Aragon</td>\n",
       "      <td>Mujer</td>\n",
       "      <td>+ 100000</td>\n",
       "      <td>15-34</td>\n",
       "      <td>P15 - Abuso crónico del alcohol</td>\n",
       "      <td>NaN</td>\n",
       "      <td>02</td>\n",
       "    </tr>\n",
       "    <tr>\n",
       "      <th>77827</th>\n",
       "      <td>2015</td>\n",
       "      <td>Canarias</td>\n",
       "      <td>Hombre</td>\n",
       "      <td>muy_baja</td>\n",
       "      <td>15-34</td>\n",
       "      <td>P79 - Fobia/trastorno compulsivo</td>\n",
       "      <td>NaN</td>\n",
       "      <td>05</td>\n",
       "    </tr>\n",
       "    <tr>\n",
       "      <th>34618</th>\n",
       "      <td>2013</td>\n",
       "      <td>Valencia</td>\n",
       "      <td>Mujer</td>\n",
       "      <td>- 18000</td>\n",
       "      <td>15-34</td>\n",
       "      <td>P78 - Neurastenia/surmenage</td>\n",
       "      <td>552.0</td>\n",
       "      <td>10</td>\n",
       "    </tr>\n",
       "  </tbody>\n",
       "</table>\n",
       "</div>"
      ],
      "text/plain": [
       "         Año      CCAA    Sexo  Nivel_Renta   Edad  \\\n",
       "150945  2017   Navarra  Hombre  desconocida  15-34   \n",
       "40654   2013    Murcia  Hombre     muy_baja  00-14   \n",
       "128846  2017    Aragon   Mujer     + 100000  15-34   \n",
       "77827   2015  Canarias  Hombre     muy_baja  15-34   \n",
       "34618   2013  Valencia   Mujer      - 18000  15-34   \n",
       "\n",
       "                                        Problema_de_Salud  Casos CodCA  \n",
       "150945  P29 - Otros signos/síntomas psicológicos/mentales    NaN    15  \n",
       "40654               P98 - Otras psicosis no especificadas    NaN    14  \n",
       "128846                    P15 - Abuso crónico del alcohol    NaN    02  \n",
       "77827                    P79 - Fobia/trastorno compulsivo    NaN    05  \n",
       "34618                         P78 - Neurastenia/surmenage  552.0    10  "
      ]
     },
     "execution_count": 18,
     "metadata": {},
     "output_type": "execute_result"
    }
   ],
   "source": [
    "psico_prim.sample(5)"
   ]
  },
  {
   "cell_type": "code",
   "execution_count": 19,
   "id": "7b0a9136",
   "metadata": {},
   "outputs": [
    {
     "data": {
      "text/plain": [
       "Año                       0\n",
       "CCAA                      0\n",
       "Sexo                      0\n",
       "Nivel_Renta               0\n",
       "Edad                      0\n",
       "Problema_de_Salud         0\n",
       "Casos                182993\n",
       "CodCA                     0\n",
       "dtype: int64"
      ]
     },
     "execution_count": 19,
     "metadata": {},
     "output_type": "execute_result"
    }
   ],
   "source": [
    "psico_prim.isna().sum()"
   ]
  },
  {
   "cell_type": "code",
   "execution_count": 20,
   "id": "efde2bdf",
   "metadata": {},
   "outputs": [],
   "source": [
    "psico_prim.Casos.fillna(0.,inplace = True)"
   ]
  },
  {
   "cell_type": "code",
   "execution_count": 21,
   "id": "637a5b0a",
   "metadata": {},
   "outputs": [],
   "source": [
    "psico_prim[[\"cod_salud\",\"problema_salud\"]]= psico_prim.Problema_de_Salud.str.split(\" - \",expand=True)"
   ]
  },
  {
   "cell_type": "code",
   "execution_count": 22,
   "id": "fd212db9",
   "metadata": {},
   "outputs": [],
   "source": [
    "psico_prim.drop('Problema_de_Salud',axis=1,inplace = True)"
   ]
  },
  {
   "cell_type": "markdown",
   "id": "e6a72b2d",
   "metadata": {},
   "source": [
    "## equivalencias codigos diagnósticos con CEI10"
   ]
  },
  {
   "cell_type": "code",
   "execution_count": 23,
   "id": "24570a0b",
   "metadata": {},
   "outputs": [],
   "source": [
    "trans_cod = {'P01': 'F40-49','P02': 'F40-49','P03': 'F40-49','P04': 'F40-49','P05':'F00-F09','P06': 'F30-39','P07': 'F30-39',\n",
    "'P08': 'F30-39','P09': 'F30-39','P09-07': 'F30-39','P10': 'F90-F98','P11': 'F90-F98','P12': 'F90-F98','P13': 'F90-F98',\n",
    "'P15': 'F10-F19','P16': 'F10-F19','P17': 'F10-F19','P18': 'F10-F19','P19': 'F10-F19','P20':'F00-F09','P22+23': 'F90-F98',\n",
    "'P24': 'F80-89','P25': 'F60-69','P27': 'F99','P28': 'F70-79','P29': 'F99','P70':'F00-F09','P71': 'F20-29','P72': 'F20-29',\n",
    "'P73': 'F20-29','P74': 'F40-49','P75': 'F40-49','P76': 'F30-39','P77': 'F30-39','P78': 'F40-49','P79': 'F40-49','P80': 'F60-69',\n",
    "'P81': 'F90-F98','P82': 'F40-49','P82/02': 'F40-49','P85': 'F70-79','P86': 'F50-59','P98': 'F20-29','P99': 'F99',\n",
    "}"
   ]
  },
  {
   "cell_type": "code",
   "execution_count": 24,
   "id": "07869206",
   "metadata": {},
   "outputs": [],
   "source": [
    "psico_prim['cei10'] = psico_prim.cod_salud.map(trans_cod)"
   ]
  },
  {
   "cell_type": "code",
   "execution_count": 25,
   "id": "84d489c5",
   "metadata": {},
   "outputs": [],
   "source": [
    "diagnos = pd.read_csv('../data/diagnos.csv')"
   ]
  },
  {
   "cell_type": "code",
   "execution_count": 26,
   "id": "5dac2eb8",
   "metadata": {},
   "outputs": [
    {
     "data": {
      "text/html": [
       "<div>\n",
       "<style scoped>\n",
       "    .dataframe tbody tr th:only-of-type {\n",
       "        vertical-align: middle;\n",
       "    }\n",
       "\n",
       "    .dataframe tbody tr th {\n",
       "        vertical-align: top;\n",
       "    }\n",
       "\n",
       "    .dataframe thead th {\n",
       "        text-align: right;\n",
       "    }\n",
       "</style>\n",
       "<table border=\"1\" class=\"dataframe\">\n",
       "  <thead>\n",
       "    <tr style=\"text-align: right;\">\n",
       "      <th></th>\n",
       "      <th>code</th>\n",
       "      <th>diag</th>\n",
       "      <th>cap</th>\n",
       "      <th>title</th>\n",
       "      <th>resumen_cap</th>\n",
       "    </tr>\n",
       "  </thead>\n",
       "  <tbody>\n",
       "    <tr>\n",
       "      <th>9</th>\n",
       "      <td>F09</td>\n",
       "      <td>Trastornos mentales orgánicos o sintomáticos s...</td>\n",
       "      <td>F00-F09</td>\n",
       "      <td>Trastornos mentales orgánicos, incluidos los t...</td>\n",
       "      <td>orgánicos/sintomáticos</td>\n",
       "    </tr>\n",
       "    <tr>\n",
       "      <th>33</th>\n",
       "      <td>F39</td>\n",
       "      <td>Trastorno del estado de ánimo [afectivo], no e...</td>\n",
       "      <td>F30-39</td>\n",
       "      <td>Trastornos del estado de animo, trastornos afe...</td>\n",
       "      <td>animo/afectivos</td>\n",
       "    </tr>\n",
       "  </tbody>\n",
       "</table>\n",
       "</div>"
      ],
      "text/plain": [
       "   code                                               diag      cap  \\\n",
       "9   F09  Trastornos mentales orgánicos o sintomáticos s...  F00-F09   \n",
       "33  F39  Trastorno del estado de ánimo [afectivo], no e...   F30-39   \n",
       "\n",
       "                                                title             resumen_cap  \n",
       "9   Trastornos mentales orgánicos, incluidos los t...  orgánicos/sintomáticos  \n",
       "33  Trastornos del estado de animo, trastornos afe...         animo/afectivos  "
      ]
     },
     "execution_count": 26,
     "metadata": {},
     "output_type": "execute_result"
    }
   ],
   "source": [
    "diagnos.sample(2)"
   ]
  },
  {
   "cell_type": "code",
   "execution_count": 27,
   "id": "b8bb5af9",
   "metadata": {},
   "outputs": [],
   "source": [
    "diag_dic = {}\n",
    "for i,r in diagnos.iterrows():\n",
    "    diag_dic[r.cap] = r.resumen_cap"
   ]
  },
  {
   "cell_type": "code",
   "execution_count": 28,
   "id": "e4f308f8",
   "metadata": {},
   "outputs": [],
   "source": [
    "psico_prim['resumen'] = psico_prim.cei10.map(diag_dic)"
   ]
  },
  {
   "cell_type": "code",
   "execution_count": 29,
   "id": "b0a2c630",
   "metadata": {},
   "outputs": [
    {
     "data": {
      "text/html": [
       "<div>\n",
       "<style scoped>\n",
       "    .dataframe tbody tr th:only-of-type {\n",
       "        vertical-align: middle;\n",
       "    }\n",
       "\n",
       "    .dataframe tbody tr th {\n",
       "        vertical-align: top;\n",
       "    }\n",
       "\n",
       "    .dataframe thead th {\n",
       "        text-align: right;\n",
       "    }\n",
       "</style>\n",
       "<table border=\"1\" class=\"dataframe\">\n",
       "  <thead>\n",
       "    <tr style=\"text-align: right;\">\n",
       "      <th></th>\n",
       "      <th>Año</th>\n",
       "      <th>CCAA</th>\n",
       "      <th>Sexo</th>\n",
       "      <th>Nivel_Renta</th>\n",
       "      <th>Edad</th>\n",
       "      <th>Casos</th>\n",
       "      <th>CodCA</th>\n",
       "      <th>cod_salud</th>\n",
       "      <th>problema_salud</th>\n",
       "      <th>cei10</th>\n",
       "      <th>resumen</th>\n",
       "    </tr>\n",
       "  </thead>\n",
       "  <tbody>\n",
       "    <tr>\n",
       "      <th>54594</th>\n",
       "      <td>2014</td>\n",
       "      <td>Castilla-Leon</td>\n",
       "      <td>Mujer</td>\n",
       "      <td>+ 100000</td>\n",
       "      <td>00-14</td>\n",
       "      <td>0.0</td>\n",
       "      <td>07</td>\n",
       "      <td>P78</td>\n",
       "      <td>Neurastenia/surmenage</td>\n",
       "      <td>F40-49</td>\n",
       "      <td>nuróticos/somatomorfos</td>\n",
       "    </tr>\n",
       "  </tbody>\n",
       "</table>\n",
       "</div>"
      ],
      "text/plain": [
       "        Año           CCAA   Sexo Nivel_Renta   Edad  Casos CodCA cod_salud  \\\n",
       "54594  2014  Castilla-Leon  Mujer    + 100000  00-14    0.0    07       P78   \n",
       "\n",
       "              problema_salud   cei10                 resumen  \n",
       "54594  Neurastenia/surmenage  F40-49  nuróticos/somatomorfos  "
      ]
     },
     "execution_count": 29,
     "metadata": {},
     "output_type": "execute_result"
    }
   ],
   "source": [
    "psico_prim.sample()"
   ]
  },
  {
   "cell_type": "markdown",
   "id": "6fcb6d6a",
   "metadata": {},
   "source": [
    "## tipo columna casos"
   ]
  },
  {
   "cell_type": "code",
   "execution_count": 30,
   "id": "bfb49faa",
   "metadata": {},
   "outputs": [],
   "source": [
    "psico_prim.Casos =psico_prim.Casos.astype('int64')"
   ]
  },
  {
   "cell_type": "code",
   "execution_count": 31,
   "id": "1721e148",
   "metadata": {
    "scrolled": false
   },
   "outputs": [
    {
     "data": {
      "text/html": [
       "<div>\n",
       "<style scoped>\n",
       "    .dataframe tbody tr th:only-of-type {\n",
       "        vertical-align: middle;\n",
       "    }\n",
       "\n",
       "    .dataframe tbody tr th {\n",
       "        vertical-align: top;\n",
       "    }\n",
       "\n",
       "    .dataframe thead th {\n",
       "        text-align: right;\n",
       "    }\n",
       "</style>\n",
       "<table border=\"1\" class=\"dataframe\">\n",
       "  <thead>\n",
       "    <tr style=\"text-align: right;\">\n",
       "      <th></th>\n",
       "      <th>Año</th>\n",
       "      <th>CCAA</th>\n",
       "      <th>Sexo</th>\n",
       "      <th>Nivel_Renta</th>\n",
       "      <th>Edad</th>\n",
       "      <th>Casos</th>\n",
       "      <th>CodCA</th>\n",
       "      <th>cod_salud</th>\n",
       "      <th>problema_salud</th>\n",
       "      <th>cei10</th>\n",
       "      <th>resumen</th>\n",
       "    </tr>\n",
       "  </thead>\n",
       "  <tbody>\n",
       "    <tr>\n",
       "      <th>35045</th>\n",
       "      <td>2013</td>\n",
       "      <td>Valencia</td>\n",
       "      <td>Mujer</td>\n",
       "      <td>desconocida</td>\n",
       "      <td>65 +</td>\n",
       "      <td>0</td>\n",
       "      <td>10</td>\n",
       "      <td>P24</td>\n",
       "      <td>Problemas específicos del aprendizaje</td>\n",
       "      <td>F80-89</td>\n",
       "      <td>desarrollo psicológico</td>\n",
       "    </tr>\n",
       "    <tr>\n",
       "      <th>159762</th>\n",
       "      <td>2018</td>\n",
       "      <td>Asturias</td>\n",
       "      <td>Mujer</td>\n",
       "      <td>+ 100000</td>\n",
       "      <td>35-64</td>\n",
       "      <td>0</td>\n",
       "      <td>03</td>\n",
       "      <td>P98</td>\n",
       "      <td>Otras psicosis no especificadas</td>\n",
       "      <td>F20-29</td>\n",
       "      <td>esquizotípicos/delirantes</td>\n",
       "    </tr>\n",
       "    <tr>\n",
       "      <th>182879</th>\n",
       "      <td>2018</td>\n",
       "      <td>Pais Vasco</td>\n",
       "      <td>Mujer</td>\n",
       "      <td>desconocida</td>\n",
       "      <td>65 +</td>\n",
       "      <td>0</td>\n",
       "      <td>16</td>\n",
       "      <td>P16</td>\n",
       "      <td>Abuso agudo del alcohol</td>\n",
       "      <td>F10-F19</td>\n",
       "      <td>consumo psicotrópicos</td>\n",
       "    </tr>\n",
       "    <tr>\n",
       "      <th>158882</th>\n",
       "      <td>2018</td>\n",
       "      <td>Asturias</td>\n",
       "      <td>Hombre</td>\n",
       "      <td>+ 100000</td>\n",
       "      <td>00-14</td>\n",
       "      <td>0</td>\n",
       "      <td>03</td>\n",
       "      <td>P98</td>\n",
       "      <td>Otras psicosis no especificadas</td>\n",
       "      <td>F20-29</td>\n",
       "      <td>esquizotípicos/delirantes</td>\n",
       "    </tr>\n",
       "    <tr>\n",
       "      <th>94283</th>\n",
       "      <td>2015</td>\n",
       "      <td>Navarra</td>\n",
       "      <td>Hombre</td>\n",
       "      <td>- 18000</td>\n",
       "      <td>35-64</td>\n",
       "      <td>313</td>\n",
       "      <td>15</td>\n",
       "      <td>P79</td>\n",
       "      <td>Fobia/trastorno compulsivo</td>\n",
       "      <td>F40-49</td>\n",
       "      <td>nuróticos/somatomorfos</td>\n",
       "    </tr>\n",
       "  </tbody>\n",
       "</table>\n",
       "</div>"
      ],
      "text/plain": [
       "         Año        CCAA    Sexo  Nivel_Renta   Edad  Casos CodCA cod_salud  \\\n",
       "35045   2013    Valencia   Mujer  desconocida   65 +      0    10       P24   \n",
       "159762  2018    Asturias   Mujer     + 100000  35-64      0    03       P98   \n",
       "182879  2018  Pais Vasco   Mujer  desconocida   65 +      0    16       P16   \n",
       "158882  2018    Asturias  Hombre     + 100000  00-14      0    03       P98   \n",
       "94283   2015     Navarra  Hombre      - 18000  35-64    313    15       P79   \n",
       "\n",
       "                               problema_salud    cei10  \\\n",
       "35045   Problemas específicos del aprendizaje   F80-89   \n",
       "159762        Otras psicosis no especificadas   F20-29   \n",
       "182879                Abuso agudo del alcohol  F10-F19   \n",
       "158882        Otras psicosis no especificadas   F20-29   \n",
       "94283              Fobia/trastorno compulsivo   F40-49   \n",
       "\n",
       "                          resumen  \n",
       "35045      desarrollo psicológico  \n",
       "159762  esquizotípicos/delirantes  \n",
       "182879      consumo psicotrópicos  \n",
       "158882  esquizotípicos/delirantes  \n",
       "94283      nuróticos/somatomorfos  "
      ]
     },
     "execution_count": 31,
     "metadata": {},
     "output_type": "execute_result"
    }
   ],
   "source": [
    "psico_prim.sample(5)"
   ]
  },
  {
   "cell_type": "code",
   "execution_count": 32,
   "id": "2ff39505",
   "metadata": {},
   "outputs": [
    {
     "data": {
      "text/html": [
       "<div>\n",
       "<style scoped>\n",
       "    .dataframe tbody tr th:only-of-type {\n",
       "        vertical-align: middle;\n",
       "    }\n",
       "\n",
       "    .dataframe tbody tr th {\n",
       "        vertical-align: top;\n",
       "    }\n",
       "\n",
       "    .dataframe thead th {\n",
       "        text-align: right;\n",
       "    }\n",
       "</style>\n",
       "<table border=\"1\" class=\"dataframe\">\n",
       "  <thead>\n",
       "    <tr style=\"text-align: right;\">\n",
       "      <th></th>\n",
       "      <th>CCAA</th>\n",
       "      <th>Año</th>\n",
       "    </tr>\n",
       "  </thead>\n",
       "  <tbody>\n",
       "    <tr>\n",
       "      <th>0</th>\n",
       "      <td>Andalucia</td>\n",
       "      <td>2015</td>\n",
       "    </tr>\n",
       "    <tr>\n",
       "      <th>1</th>\n",
       "      <td>Aragon</td>\n",
       "      <td>2011</td>\n",
       "    </tr>\n",
       "    <tr>\n",
       "      <th>2</th>\n",
       "      <td>Asturias</td>\n",
       "      <td>2013</td>\n",
       "    </tr>\n",
       "    <tr>\n",
       "      <th>3</th>\n",
       "      <td>Baleares</td>\n",
       "      <td>2011</td>\n",
       "    </tr>\n",
       "    <tr>\n",
       "      <th>4</th>\n",
       "      <td>Canarias</td>\n",
       "      <td>2011</td>\n",
       "    </tr>\n",
       "    <tr>\n",
       "      <th>5</th>\n",
       "      <td>Cantabria</td>\n",
       "      <td>2013</td>\n",
       "    </tr>\n",
       "    <tr>\n",
       "      <th>6</th>\n",
       "      <td>Castilla-La Mancha</td>\n",
       "      <td>2012</td>\n",
       "    </tr>\n",
       "    <tr>\n",
       "      <th>7</th>\n",
       "      <td>Castilla-Leon</td>\n",
       "      <td>2011</td>\n",
       "    </tr>\n",
       "    <tr>\n",
       "      <th>8</th>\n",
       "      <td>Cataluña</td>\n",
       "      <td>2011</td>\n",
       "    </tr>\n",
       "    <tr>\n",
       "      <th>9</th>\n",
       "      <td>Extremadura</td>\n",
       "      <td>2013</td>\n",
       "    </tr>\n",
       "    <tr>\n",
       "      <th>10</th>\n",
       "      <td>Galicia</td>\n",
       "      <td>2011</td>\n",
       "    </tr>\n",
       "    <tr>\n",
       "      <th>11</th>\n",
       "      <td>La Rioja</td>\n",
       "      <td>2016</td>\n",
       "    </tr>\n",
       "    <tr>\n",
       "      <th>12</th>\n",
       "      <td>Madrid</td>\n",
       "      <td>2013</td>\n",
       "    </tr>\n",
       "    <tr>\n",
       "      <th>13</th>\n",
       "      <td>Murcia</td>\n",
       "      <td>2013</td>\n",
       "    </tr>\n",
       "    <tr>\n",
       "      <th>14</th>\n",
       "      <td>Navarra</td>\n",
       "      <td>2012</td>\n",
       "    </tr>\n",
       "    <tr>\n",
       "      <th>15</th>\n",
       "      <td>Pais Vasco</td>\n",
       "      <td>2011</td>\n",
       "    </tr>\n",
       "    <tr>\n",
       "      <th>16</th>\n",
       "      <td>Valencia</td>\n",
       "      <td>2012</td>\n",
       "    </tr>\n",
       "  </tbody>\n",
       "</table>\n",
       "</div>"
      ],
      "text/plain": [
       "                  CCAA   Año\n",
       "0            Andalucia  2015\n",
       "1               Aragon  2011\n",
       "2             Asturias  2013\n",
       "3             Baleares  2011\n",
       "4             Canarias  2011\n",
       "5            Cantabria  2013\n",
       "6   Castilla-La Mancha  2012\n",
       "7        Castilla-Leon  2011\n",
       "8             Cataluña  2011\n",
       "9          Extremadura  2013\n",
       "10             Galicia  2011\n",
       "11            La Rioja  2016\n",
       "12              Madrid  2013\n",
       "13              Murcia  2013\n",
       "14             Navarra  2012\n",
       "15          Pais Vasco  2011\n",
       "16            Valencia  2012"
      ]
     },
     "execution_count": 32,
     "metadata": {},
     "output_type": "execute_result"
    }
   ],
   "source": [
    "psico_prim.groupby(['CCAA']).agg({'Año':'min'}).reset_index()\n",
    "#la Rioja empieza desde el 2016... dropeamos todos estos datos"
   ]
  },
  {
   "cell_type": "code",
   "execution_count": 33,
   "id": "572e64e4",
   "metadata": {},
   "outputs": [],
   "source": [
    "psico_prim = psico_prim[psico_prim['Año']>=2016]"
   ]
  },
  {
   "cell_type": "code",
   "execution_count": 34,
   "id": "62b3674a",
   "metadata": {},
   "outputs": [
    {
     "data": {
      "text/html": [
       "<div>\n",
       "<style scoped>\n",
       "    .dataframe tbody tr th:only-of-type {\n",
       "        vertical-align: middle;\n",
       "    }\n",
       "\n",
       "    .dataframe tbody tr th {\n",
       "        vertical-align: top;\n",
       "    }\n",
       "\n",
       "    .dataframe thead th {\n",
       "        text-align: right;\n",
       "    }\n",
       "</style>\n",
       "<table border=\"1\" class=\"dataframe\">\n",
       "  <thead>\n",
       "    <tr style=\"text-align: right;\">\n",
       "      <th></th>\n",
       "      <th>Año</th>\n",
       "      <th>CCAA</th>\n",
       "      <th>Sexo</th>\n",
       "      <th>Nivel_Renta</th>\n",
       "      <th>Edad</th>\n",
       "      <th>Casos</th>\n",
       "      <th>CodCA</th>\n",
       "      <th>cod_salud</th>\n",
       "      <th>problema_salud</th>\n",
       "      <th>cei10</th>\n",
       "      <th>resumen</th>\n",
       "    </tr>\n",
       "  </thead>\n",
       "  <tbody>\n",
       "    <tr>\n",
       "      <th>120601</th>\n",
       "      <td>2016</td>\n",
       "      <td>Murcia</td>\n",
       "      <td>Mujer</td>\n",
       "      <td>muy_baja</td>\n",
       "      <td>00-14</td>\n",
       "      <td>0</td>\n",
       "      <td>14</td>\n",
       "      <td>P86</td>\n",
       "      <td>Anorexia nerviosa/bulimia</td>\n",
       "      <td>F50-59</td>\n",
       "      <td>factores físicos /fisiológicos</td>\n",
       "    </tr>\n",
       "    <tr>\n",
       "      <th>188796</th>\n",
       "      <td>2019</td>\n",
       "      <td>Asturias</td>\n",
       "      <td>Hombre</td>\n",
       "      <td>desconocida</td>\n",
       "      <td>35-64</td>\n",
       "      <td>0</td>\n",
       "      <td>03</td>\n",
       "      <td>P80</td>\n",
       "      <td>Trastornos de la personalidad</td>\n",
       "      <td>F60-69</td>\n",
       "      <td>T. de la personalidad/comportamiento</td>\n",
       "    </tr>\n",
       "    <tr>\n",
       "      <th>125359</th>\n",
       "      <td>2016</td>\n",
       "      <td>La Rioja</td>\n",
       "      <td>Mujer</td>\n",
       "      <td>+ 100000</td>\n",
       "      <td>35-64</td>\n",
       "      <td>0</td>\n",
       "      <td>17</td>\n",
       "      <td>P04</td>\n",
       "      <td>Sensación/sentimientos de irritabilidad/enojo</td>\n",
       "      <td>F40-49</td>\n",
       "      <td>nuróticos/somatomorfos</td>\n",
       "    </tr>\n",
       "    <tr>\n",
       "      <th>141451</th>\n",
       "      <td>2017</td>\n",
       "      <td>Cataluña</td>\n",
       "      <td>Mujer</td>\n",
       "      <td>muy_baja</td>\n",
       "      <td>15-34</td>\n",
       "      <td>0</td>\n",
       "      <td>09</td>\n",
       "      <td>P79</td>\n",
       "      <td>Fobia/trastorno compulsivo</td>\n",
       "      <td>F40-49</td>\n",
       "      <td>nuróticos/somatomorfos</td>\n",
       "    </tr>\n",
       "    <tr>\n",
       "      <th>151828</th>\n",
       "      <td>2017</td>\n",
       "      <td>Navarra</td>\n",
       "      <td>Mujer</td>\n",
       "      <td>desconocida</td>\n",
       "      <td>15-34</td>\n",
       "      <td>0</td>\n",
       "      <td>15</td>\n",
       "      <td>P72</td>\n",
       "      <td>Esquizofrenia</td>\n",
       "      <td>F20-29</td>\n",
       "      <td>esquizotípicos/delirantes</td>\n",
       "    </tr>\n",
       "  </tbody>\n",
       "</table>\n",
       "</div>"
      ],
      "text/plain": [
       "         Año      CCAA    Sexo  Nivel_Renta   Edad  Casos CodCA cod_salud  \\\n",
       "120601  2016    Murcia   Mujer     muy_baja  00-14      0    14       P86   \n",
       "188796  2019  Asturias  Hombre  desconocida  35-64      0    03       P80   \n",
       "125359  2016  La Rioja   Mujer     + 100000  35-64      0    17       P04   \n",
       "141451  2017  Cataluña   Mujer     muy_baja  15-34      0    09       P79   \n",
       "151828  2017   Navarra   Mujer  desconocida  15-34      0    15       P72   \n",
       "\n",
       "                                       problema_salud   cei10  \\\n",
       "120601                      Anorexia nerviosa/bulimia  F50-59   \n",
       "188796                  Trastornos de la personalidad  F60-69   \n",
       "125359  Sensación/sentimientos de irritabilidad/enojo  F40-49   \n",
       "141451                     Fobia/trastorno compulsivo  F40-49   \n",
       "151828                                  Esquizofrenia  F20-29   \n",
       "\n",
       "                                     resumen  \n",
       "120601        factores físicos /fisiológicos  \n",
       "188796  T. de la personalidad/comportamiento  \n",
       "125359                nuróticos/somatomorfos  \n",
       "141451                nuróticos/somatomorfos  \n",
       "151828             esquizotípicos/delirantes  "
      ]
     },
     "execution_count": 34,
     "metadata": {},
     "output_type": "execute_result"
    }
   ],
   "source": [
    "psico_prim.sample(5)"
   ]
  },
  {
   "cell_type": "code",
   "execution_count": 35,
   "id": "a53c0540",
   "metadata": {},
   "outputs": [],
   "source": [
    "psico_prim.to_csv('../data/psico_atprimaria.csv',index=False)"
   ]
  },
  {
   "cell_type": "code",
   "execution_count": null,
   "id": "d957ccdb",
   "metadata": {},
   "outputs": [],
   "source": []
  }
 ],
 "metadata": {
  "kernelspec": {
   "display_name": "ironhack",
   "language": "python",
   "name": "ironhack"
  },
  "language_info": {
   "codemirror_mode": {
    "name": "ipython",
    "version": 3
   },
   "file_extension": ".py",
   "mimetype": "text/x-python",
   "name": "python",
   "nbconvert_exporter": "python",
   "pygments_lexer": "ipython3",
   "version": "3.8.5"
  }
 },
 "nbformat": 4,
 "nbformat_minor": 5
}
